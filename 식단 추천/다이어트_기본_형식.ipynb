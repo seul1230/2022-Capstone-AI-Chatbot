{
  "nbformat": 4,
  "nbformat_minor": 0,
  "metadata": {
    "colab": {
      "name": "다이어트 기본 형식.ipynb",
      "provenance": [],
      "collapsed_sections": []
    },
    "kernelspec": {
      "name": "python3",
      "display_name": "Python 3"
    },
    "language_info": {
      "name": "python"
    }
  },
  "cells": [
    {
      "cell_type": "code",
      "execution_count": null,
      "metadata": {
        "colab": {
          "base_uri": "https://localhost:8080/"
        },
        "id": "tlKJOFh5fjdy",
        "outputId": "1d307ad0-6386-498c-a745-2b6741431e6a"
      },
      "outputs": [
        {
          "output_type": "stream",
          "name": "stdout",
          "text": [
            "키 / 몸무게 / 나이 / 성별(0:남 1:여) / 목표체중 / 목표기간 / 평소 활동량 (1~5) \n",
            "165 55 25 1 50 30 1\n",
            "1200.0\n"
          ]
        }
      ],
      "source": [
        "print(\"키 / 몸무게 / 나이 / 성별(0:남 1:여) / 목표체중 / 목표기간 / 평소 활동량 (1~5) \")\n",
        "h,w,a,s,w_w,w_t,p=map(int,input().split())\n",
        "\n",
        "m_w=w-w_w\n",
        "cal=m_w*7200\n",
        "m_cal=round(cal/w_t,2)\n",
        "\n",
        "print(m_cal)\n",
        "\n",
        "'''\n",
        "내 신체정보 \n",
        "키 : h\n",
        "몸무게 : w\n",
        "나이 : a\n",
        "성별 : s\n",
        "활동량 : p\n",
        "\n",
        "목표체중 : w_w\n",
        "목표기간 : w_t\n",
        "일 목표소모 열량 : m_cal\n",
        "'''"
      ]
    },
    {
      "cell_type": "code",
      "source": [
        "#비만도 측정\n",
        "ob = round(w/((h/100)*(h/100)),1)\n",
        "\n",
        "print(ob)"
      ],
      "metadata": {
        "colab": {
          "base_uri": "https://localhost:8080/"
        },
        "id": "JqBA_Y6-hq5e",
        "outputId": "a05cd1f3-af1d-4907-872c-159115f92689"
      },
      "execution_count": null,
      "outputs": [
        {
          "output_type": "stream",
          "name": "stdout",
          "text": [
            "20.2\n"
          ]
        }
      ]
    },
    {
      "cell_type": "code",
      "source": [
        "#비만도 분류\n",
        "\n",
        "if ob < 18.5:\n",
        "  ca_ob = \"저체중\"\n",
        "elif ob < 23:\n",
        "  ca_ob = \"정상체중\"\n",
        "elif ob < 25:\n",
        "  ca_ob = \"비만 전 단계 (과체중)\"\n",
        "elif ob < 30:\n",
        "  ca_ob = \"1단계 비만\"\n",
        "elif ob < 35:\n",
        "  ca_ob = \"2단계 비만\"\n",
        "else:\n",
        "  ca_ob = \"3단계 비만 (고도비만)\" \n",
        "\n",
        "print(ca_ob)"
      ],
      "metadata": {
        "colab": {
          "base_uri": "https://localhost:8080/"
        },
        "id": "spXb5TQ8S-to",
        "outputId": "64530af9-2740-4eff-debc-60a68c6bfcb5"
      },
      "execution_count": null,
      "outputs": [
        {
          "output_type": "stream",
          "name": "stdout",
          "text": [
            "정상체중\n"
          ]
        }
      ]
    },
    {
      "cell_type": "code",
      "source": [
        "#기초대사량 측정\n",
        "\n",
        "if s==0: #남\n",
        "  BMR = 66.47 + (13.75 * w) + (5 * h) - (6.76 * a)\n",
        "else: #여\n",
        "  BMR = 655.1 + (9.56 * w) + (1.85 * h) - (4.68 * a)\n",
        "BMR = round(BMR,1)\n",
        "\n",
        "print(BMR)"
      ],
      "metadata": {
        "colab": {
          "base_uri": "https://localhost:8080/"
        },
        "id": "o3himE0EjdRM",
        "outputId": "2fda861d-453d-492a-bdf7-ad6a753113a3"
      },
      "execution_count": null,
      "outputs": [
        {
          "output_type": "stream",
          "name": "stdout",
          "text": [
            "1369.2\n"
          ]
        }
      ]
    },
    {
      "cell_type": "code",
      "source": [
        "#운동\n",
        "p_dcal=round(m_cal*0.3,2)\n",
        "\n",
        "#식사\n",
        "f_dcal=round(m_cal*0.7,2)\n",
        "\n",
        "print(p_dcal,f_dcal)"
      ],
      "metadata": {
        "colab": {
          "base_uri": "https://localhost:8080/"
        },
        "id": "-A9BqInBk7b-",
        "outputId": "c923926e-593c-4cd2-804b-b4221d98e80b"
      },
      "execution_count": null,
      "outputs": [
        {
          "output_type": "stream",
          "name": "stdout",
          "text": [
            "360.0 840.0\n"
          ]
        }
      ]
    },
    {
      "cell_type": "code",
      "source": [
        "#하루 필요 열량\n",
        "if p==1:\n",
        "  d_cal = BMR * 1.2\n",
        "elif p==2:\n",
        "  d_cal = BMR * 1.375\n",
        "elif p==3:\n",
        "  d_cal = BMR * 1.55\n",
        "elif p==4:\n",
        "  d_cal = BMR * 1.725\n",
        "else:\n",
        "  d_cal = BMR * 1.9\n",
        "\n",
        "print(d_cal)"
      ],
      "metadata": {
        "colab": {
          "base_uri": "https://localhost:8080/"
        },
        "id": "OYawCPFHO5NR",
        "outputId": "b7d1e811-07ea-4674-e102-c3e0806e7610"
      },
      "execution_count": null,
      "outputs": [
        {
          "output_type": "stream",
          "name": "stdout",
          "text": [
            "1643.04\n"
          ]
        }
      ]
    },
    {
      "cell_type": "code",
      "source": [
        "'''\n",
        "내 신체정보 \n",
        "키 : h\n",
        "몸무게 : w\n",
        "나이 : a\n",
        "성별 : s\n",
        "활동량 : p\n",
        "'''"
      ],
      "metadata": {
        "id": "HJdGp6q5EnYy"
      },
      "execution_count": null,
      "outputs": []
    },
    {
      "cell_type": "code",
      "source": [
        "'''\n",
        "비만도 검사결과\n",
        "체중/키의제곱(m)\n",
        "\" 비만도(BMI): ob 으로 ca_ob 입니다.\"\n",
        "ca_ob (비만도 분류)\n",
        "각 체중에 알맞는 사항 출력\n",
        "\n",
        "18.5 미만이면 저체중, \n",
        "18.5∼22.9는 정상, \n",
        "23 ~ 24.9는 비만 전 단계, (과체중)\n",
        "25∼29.9는 '1단계 비만', \n",
        "30∼34.9는 '2단계 비만', \n",
        "35이상이면 '3단계 비만' (고도 비만)\n",
        "\n",
        "(저체중)\n",
        "겉은 말라보이는데 밥을 조금만 먹어도 배가 불룩 나오는 복부비만인 분, \n",
        "말라보이고 가벼워보이나 근육량이 너무 적어 기운이 없는 분, 체중조절을 오로지 다이어트(식사조절)로만 해왔던 분, \n",
        "이런 분들이 보통 마른 비만인 가능성이 높습니다.\n",
        "\n",
        "마른 비만인 분들은 대다수 저칼로리 식이요법을 합니다. 그로인해 근손실을 초래하고 있으므로 단백질이 풍부한 식사를 해줘야 합니다. \n",
        "조금씩 어려번 나눠 섭취하고 밥은 현미밥을, 찬으로 해초와 채소의 섭취를 늘리는 것이 좋습니다.\n",
        "\n",
        "(정상체중)\n",
        "규칙적인 운동과 좋은 생활습관을 통해 현재의 체중을 유지하시기 바랍니다. \n",
        "다만, 정상체중이어도 체지방율이 높을 수 있으니 체지방과 근육량을 한번 체크해보세요.\n",
        "\n",
        "(과체중)\n",
        "과체중이란 키에 비해 몸무게가 많이 나가는 경우입니다. \n",
        "웨이트트레이닝을 오래 한 분이나 프로 운동선수들은 체구에 비해 체중이 많이 나갑니다. \n",
        "그 이유는 근육이 많기 때문이죠. 그런 경우는 과체중이라 할 수 있어도 비만이라고 하지는 않습니다. \n",
        "\n",
        "그러나, 근육이 적고 체지방이 많은 과체중의 경우 비만이라고 불리우죠. \n",
        "대부분 운동을 게을리하는 분들의 경우 과체중이면 비만일 것입니다. \n",
        "그러므로 체중계를 통한 비만도 검사보다 체중계를 통한 비만도 검사를 추천합니다.\n",
        "'''"
      ],
      "metadata": {
        "id": "2UCDYFCxEtqx"
      },
      "execution_count": null,
      "outputs": []
    },
    {
      "cell_type": "markdown",
      "source": [
        "![image.png](data:image/png;base64,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)"
      ],
      "metadata": {
        "id": "3RLJvdYghqTy"
      }
    },
    {
      "cell_type": "code",
      "source": [
        "'''\n",
        "기초대사량\n",
        "남자 : 66.47 + (13.75 X 체중) + (5 X 키) - (6.76 X 나이)\n",
        "여자 : 655.1 + (9.56 X 체중) + (1.85 X 키) - (4.68 X 나이)\n",
        "\n",
        "일 목표소모 열량 : m_cal\n",
        "\n",
        "보다 건강한 다이어트를 위해 운동 : 식사 = 3 : 7 비율로 계산하여 안내드립니다.\n",
        "\n",
        "운동으로 소모해야 할 칼로리 : 360kcal\n",
        "식사 조절로 줄여야 할 칼로리 : 840kcal \n",
        "\n",
        "_ 님이 w_t일간 m_w kg을 줄이기 위해서는\n",
        "매일 운동으로 p_dcal kcal 를 소모해야하고,\n",
        "식사는 하루 ( d_cal - f_dcal ) kcal 를 드시면 됩니다.\n",
        "\n",
        "하루 필요 열량 = 기초대사량 X 활동 계수\n",
        "앉아서 일하는 사람 X 1.2\n",
        "가볍게 운동 (가볍게 1~3회) X 1.375\n",
        "일반적 운동 (일반적 3~5회) X 1.55\n",
        "열심히 운동 (열심히 6~7회) X 1.725\n",
        "격렬히 운동 (격렬히 매일 1번 이상) X 1.9\n",
        "'''"
      ],
      "metadata": {
        "id": "xIibLYNDE5L2"
      },
      "execution_count": null,
      "outputs": []
    },
    {
      "cell_type": "code",
      "source": [
        "'''\n",
        "매일 운동으로 p_dcal kcal를 소모하려면?\n",
        "추천 운동\n",
        "\n",
        "ex) 체중 1kg 에 대해 15분동안 운동했을 때 칼로리 소비 계수로 표현한 것\n",
        "걷기(5km/hr) 0.9\n",
        "빨리걷기(6.4km/hr) 1.2\n",
        "달리기(8km/hr) 2\n",
        "계단오르기(보통) 1.6\n",
        "자전거 타기(15~20km/hr) 1.5\n",
        "자전거 타기(20~25km/hr) 2.2\n",
        "줄넘기 2.6\n",
        "등산 1.5\n",
        "\n",
        "이 운동계수에 자신의 체중 곱하면 운동 후 소비한 열량 계산 가능\n",
        "\n",
        "소비 칼로리량 w X 운동 계수 = - kcal \n",
        "\n",
        "ex) 걷기 0.9 X 55kg = 49.5 kcal\n",
        "걷기로 360kcal 소모하기 위해서는 round(360 / 49.5,1) = 7.3\n",
        "15분 X 7.3 = 109.5분,,\n",
        "\n",
        "보통 하루 권장 칼로리에서 아침은 1/5, 점심과 저녁은 각각 2/5, 2/5씩 계산한 값이 권장 칼로리 \n",
        "'''"
      ],
      "metadata": {
        "id": "Crt_fDEOgnnW"
      },
      "execution_count": null,
      "outputs": []
    },
    {
      "cell_type": "code",
      "source": [
        ""
      ],
      "metadata": {
        "id": "kAmCSAYfiQul"
      },
      "execution_count": null,
      "outputs": []
    }
  ]
}