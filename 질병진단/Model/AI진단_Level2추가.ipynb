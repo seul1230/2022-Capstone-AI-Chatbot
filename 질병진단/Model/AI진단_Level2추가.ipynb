{
  "cells": [
    {
      "cell_type": "markdown",
      "metadata": {
        "id": "SWvaCnEkyFX4"
      },
      "source": [
        "# Mount Drive"
      ]
    },
    {
      "cell_type": "code",
      "execution_count": 1,
      "metadata": {
        "colab": {
          "base_uri": "https://localhost:8080/"
        },
        "id": "dGkLxcLWaVka",
        "outputId": "3e3d2c79-2e21-42aa-a899-b1491b4ac7c3"
      },
      "outputs": [
        {
          "name": "stdout",
          "output_type": "stream",
          "text": [
            "Mounted at /content/gdrive/\n"
          ]
        }
      ],
      "source": [
        "from google.colab import drive \n",
        "drive.mount('/content/gdrive/')"
      ]
    },
    {
      "cell_type": "code",
      "execution_count": 2,
      "metadata": {
        "id": "9IA8qpskaVT8"
      },
      "outputs": [],
      "source": [
        "import pandas as pd\n",
        "import numpy as np\n",
        "import tensorflow as tf\n",
        "import torch\n",
        "import random\n",
        "import torch.backends.cudnn as cudnn\n",
        "import re\n",
        "\n",
        "pd.set_option('display.max_columns', 500) "
      ]
    },
    {
      "cell_type": "code",
      "execution_count": 3,
      "metadata": {
        "id": "7llPdnqnIHoQ"
      },
      "outputs": [],
      "source": [
        "random_seed = 0\n",
        "torch.manual_seed(random_seed) \n",
        "torch.cuda.manual_seed(random_seed) \n",
        "torch.cuda.manual_seed_all(random_seed) # if use multi-GPU torch.backends.cudnn.deterministic = True torch.backends.cudnn.benchmark = False np.random.seed(random_seed) random.seed(random_seed)\n",
        "torch.manual_seed(random_seed)\n",
        "np.random.seed(random_seed)\n",
        "cudnn.benchmark = False\n",
        "cudnn.deterministic = True\n",
        "random.seed(random_seed)\n",
        "tf.random.set_seed(random_seed)\n"
      ]
    },
    {
      "cell_type": "markdown",
      "metadata": {
        "id": "wwikHgCFGqoD"
      },
      "source": [
        "## 여기 주목"
      ]
    },
    {
      "cell_type": "code",
      "execution_count": 4,
      "metadata": {
        "id": "kTD3VSYmI8MY"
      },
      "outputs": [],
      "source": [
        "data=pd.read_csv('0822_processed_DB_5.17.csv')\n",
        "data.drop('Unnamed: 0', axis=1, inplace=True)"
      ]
    },
    {
      "cell_type": "code",
      "execution_count": 5,
      "metadata": {
        "colab": {
          "base_uri": "https://localhost:8080/",
          "height": 36
        },
        "id": "EFVHpS5dJU31",
        "outputId": "74aa794e-be28-40e7-9651-6bc1961c22e1"
      },
      "outputs": [
        {
          "data": {
            "text/plain": [
              "', 구토 (# 2회 흰 물만 나옴 ), 속쓰림, [응급] 어지러움 (#), 갈증 (#), 소변량 감소 (#), '"
            ]
          },
          "execution_count": 5,
          "metadata": {},
          "output_type": "execute_result"
        }
      ],
      "source": [
        "data['Associated Sx.'][0]"
      ]
    },
    {
      "cell_type": "code",
      "execution_count": 6,
      "metadata": {
        "colab": {
          "base_uri": "https://localhost:8080/",
          "height": 1000
        },
        "id": "GF-Z3u254EeE",
        "outputId": "6b291eb1-9932-4ea5-9fef-2ecfa6ddbab5"
      },
      "outputs": [
        {
          "data": {
            "text/html": [
              "<div>\n",
              "<style scoped>\n",
              "    .dataframe tbody tr th:only-of-type {\n",
              "        vertical-align: middle;\n",
              "    }\n",
              "\n",
              "    .dataframe tbody tr th {\n",
              "        vertical-align: top;\n",
              "    }\n",
              "\n",
              "    .dataframe thead th {\n",
              "        text-align: right;\n",
              "    }\n",
              "</style>\n",
              "<table border=\"1\" class=\"dataframe\">\n",
              "  <thead>\n",
              "    <tr style=\"text-align: right;\">\n",
              "      <th></th>\n",
              "      <th>level2</th>\n",
              "      <th>level5/diagnosis</th>\n",
              "      <th>Chief complaint</th>\n",
              "      <th>Sex</th>\n",
              "      <th>Age</th>\n",
              "      <th>Height</th>\n",
              "      <th>Weight</th>\n",
              "      <th>Onset</th>\n",
              "      <th>Location</th>\n",
              "      <th>Duration</th>\n",
              "      <th>Course</th>\n",
              "      <th>Experience</th>\n",
              "      <th>Character</th>\n",
              "      <th>Associated Sx.</th>\n",
              "      <th>Factor</th>\n",
              "      <th>Event</th>\n",
              "      <th>약물 투약력</th>\n",
              "      <th>사회력</th>\n",
              "      <th>가족력</th>\n",
              "      <th>외상력</th>\n",
              "      <th>과거력</th>\n",
              "      <th>여성력</th>\n",
              "      <th>Level1</th>\n",
              "      <th>BMI</th>\n",
              "      <th>Obesity</th>\n",
              "      <th>All</th>\n",
              "    </tr>\n",
              "  </thead>\n",
              "  <tbody>\n",
              "    <tr>\n",
              "      <th>0</th>\n",
              "      <td>급성 복통</td>\n",
              "      <td>소화성 궤양</td>\n",
              "      <td>배가 아파요</td>\n",
              "      <td>남자</td>\n",
              "      <td>50대</td>\n",
              "      <td>170.0</td>\n",
              "      <td>80.0</td>\n",
              "      <td>1일전</td>\n",
              "      <td>명치 부위</td>\n",
              "      <td>지속</td>\n",
              "      <td>심해짐</td>\n",
              "      <td>이전에도 3차례, 통증은 이번보다 약했음</td>\n",
              "      <td>칼로 찢기는 듯한 통증, 통증 심함, 방사통(#), 등으로 퍼짐,</td>\n",
              "      <td>, 구토 (# 2회 흰 물만 나옴 ), 속쓰림, [응급] 어지러움 (#), 갈증 (...</td>\n",
              "      <td>자세에 따른 변화(#), 오른쪽으로 돌아 누우면 완화, 반듯이 누우면 악화,</td>\n",
              "      <td>NaN</td>\n",
              "      <td>NaN</td>\n",
              "      <td>술(#), 1주일 6~7번, 하루 소주 2~3병, 담배(#), 30갑년, 식사 , ...</td>\n",
              "      <td>NaN</td>\n",
              "      <td>NaN</td>\n",
              "      <td>NaN</td>\n",
              "      <td>NaN</td>\n",
              "      <td>digestive</td>\n",
              "      <td>27.681661</td>\n",
              "      <td>과체중</td>\n",
              "      <td>배 아프다 50 대다 남자 1일 전 명치 부위 지속 심해지다 이전 에도 3 차례 통...</td>\n",
              "    </tr>\n",
              "    <tr>\n",
              "      <th>1</th>\n",
              "      <td>급성 복통</td>\n",
              "      <td>소화성 궤양</td>\n",
              "      <td>갑자기 배가 너무 아파요</td>\n",
              "      <td>남자</td>\n",
              "      <td>30대</td>\n",
              "      <td>165.0</td>\n",
              "      <td>70.0</td>\n",
              "      <td>오늘 새벽</td>\n",
              "      <td>명치에서 시작해 현재 복부 전체에 통증</td>\n",
              "      <td>지속</td>\n",
              "      <td>심해짐</td>\n",
              "      <td>이전에도 한 번 겪음</td>\n",
              "      <td>계속 쓰림, 통증 중간</td>\n",
              "      <td>구역질, 구토, 식욕감소</td>\n",
              "      <td>앞으로 숙이는 경우 완화</td>\n",
              "      <td>2년 전 건강 검진 상 이상 없음</td>\n",
              "      <td>관절염 약(진통소염제),</td>\n",
              "      <td>술, 회, 주 2~3회), 회사원, 회식이 잦고 폭음하는 경우가 있음,</td>\n",
              "      <td>NaN</td>\n",
              "      <td>NaN</td>\n",
              "      <td>NaN</td>\n",
              "      <td>NaN</td>\n",
              "      <td>digestive</td>\n",
              "      <td>25.711662</td>\n",
              "      <td>과체중</td>\n",
              "      <td>갑자기 배 너무 아프다 30 대다 남자 오늘 새벽 명치 에서 시작 현재 복부 전체 ...</td>\n",
              "    </tr>\n",
              "    <tr>\n",
              "      <th>2</th>\n",
              "      <td>급성 복통</td>\n",
              "      <td>소화성 궤양</td>\n",
              "      <td>속이 쓰려요</td>\n",
              "      <td>여자</td>\n",
              "      <td>70대</td>\n",
              "      <td>160.0</td>\n",
              "      <td>48.0</td>\n",
              "      <td>1달전</td>\n",
              "      <td>명치 부위</td>\n",
              "      <td>지속</td>\n",
              "      <td>심해짐</td>\n",
              "      <td>NaN</td>\n",
              "      <td>속이 쓰림, 통증 약함</td>\n",
              "      <td>구역질, 신물이 올라와요</td>\n",
              "      <td>누워있으면 심해져요</td>\n",
              "      <td>NaN</td>\n",
              "      <td>관절염약 복용중</td>\n",
              "      <td>NaN</td>\n",
              "      <td>NaN</td>\n",
              "      <td>NaN</td>\n",
              "      <td>HTN(#), DM (#),</td>\n",
              "      <td>NaN</td>\n",
              "      <td>digestive</td>\n",
              "      <td>18.750000</td>\n",
              "      <td>저체중</td>\n",
              "      <td>속이다 쓰리다 70 대다 여자 1 달 전 명치 부위 지속 심해지다 속이다 쓰리다 통...</td>\n",
              "    </tr>\n",
              "    <tr>\n",
              "      <th>3</th>\n",
              "      <td>급성 복통</td>\n",
              "      <td>소화성 궤양</td>\n",
              "      <td>속이 쓰려요</td>\n",
              "      <td>남자</td>\n",
              "      <td>10대</td>\n",
              "      <td>160.0</td>\n",
              "      <td>58.0</td>\n",
              "      <td>2달전</td>\n",
              "      <td>명치부위</td>\n",
              "      <td>지속</td>\n",
              "      <td>심해짐</td>\n",
              "      <td>NaN</td>\n",
              "      <td>명치부위 압통, 속쓰림</td>\n",
              "      <td>구토</td>\n",
              "      <td>NaN</td>\n",
              "      <td>NaN</td>\n",
              "      <td>철분제</td>\n",
              "      <td>NaN</td>\n",
              "      <td>NaN</td>\n",
              "      <td>NaN</td>\n",
              "      <td>NaN</td>\n",
              "      <td>NaN</td>\n",
              "      <td>digestive</td>\n",
              "      <td>22.656250</td>\n",
              "      <td>정상</td>\n",
              "      <td>속이다 쓰리다 10 대다 남자 2 달 전 명치 부위 지속 심해지다 명치 부위 누르다...</td>\n",
              "    </tr>\n",
              "    <tr>\n",
              "      <th>4</th>\n",
              "      <td>급성 복통</td>\n",
              "      <td>소화성 궤양</td>\n",
              "      <td>배가 아파요</td>\n",
              "      <td>남자</td>\n",
              "      <td>60대</td>\n",
              "      <td>170.0</td>\n",
              "      <td>65.0</td>\n",
              "      <td>1시간전</td>\n",
              "      <td>명치부위</td>\n",
              "      <td>지속</td>\n",
              "      <td>심해짐</td>\n",
              "      <td>NaN</td>\n",
              "      <td>명치 부위가 아프고 쓰림</td>\n",
              "      <td>NaN</td>\n",
              "      <td>NaN</td>\n",
              "      <td>NaN</td>\n",
              "      <td>고혈압약</td>\n",
              "      <td>5년전 알코올 중독</td>\n",
              "      <td>NaN</td>\n",
              "      <td>NaN</td>\n",
              "      <td>HTN(#),</td>\n",
              "      <td>NaN</td>\n",
              "      <td>digestive</td>\n",
              "      <td>22.491349</td>\n",
              "      <td>정상</td>\n",
              "      <td>배 아프다 60 대다 남자 1시간 전 명치 부위 지속 심해지다 명치 부위 아프다 쓰...</td>\n",
              "    </tr>\n",
              "    <tr>\n",
              "      <th>...</th>\n",
              "      <td>...</td>\n",
              "      <td>...</td>\n",
              "      <td>...</td>\n",
              "      <td>...</td>\n",
              "      <td>...</td>\n",
              "      <td>...</td>\n",
              "      <td>...</td>\n",
              "      <td>...</td>\n",
              "      <td>...</td>\n",
              "      <td>...</td>\n",
              "      <td>...</td>\n",
              "      <td>...</td>\n",
              "      <td>...</td>\n",
              "      <td>...</td>\n",
              "      <td>...</td>\n",
              "      <td>...</td>\n",
              "      <td>...</td>\n",
              "      <td>...</td>\n",
              "      <td>...</td>\n",
              "      <td>...</td>\n",
              "      <td>...</td>\n",
              "      <td>...</td>\n",
              "      <td>...</td>\n",
              "      <td>...</td>\n",
              "      <td>...</td>\n",
              "      <td>...</td>\n",
              "    </tr>\n",
              "    <tr>\n",
              "      <th>2251</th>\n",
              "      <td>미정</td>\n",
              "      <td>폐결핵</td>\n",
              "      <td></td>\n",
              "      <td>여자</td>\n",
              "      <td>60대</td>\n",
              "      <td>152.3</td>\n",
              "      <td>45.8</td>\n",
              "      <td>1일 전</td>\n",
              "      <td>기침 시에 발생</td>\n",
              "      <td>하루 종일 지속됨</td>\n",
              "      <td>약간 심해짐</td>\n",
              "      <td>처음</td>\n",
              "      <td>기침, 가래, 선홍색</td>\n",
              "      <td>발열(#), 오한(#), 체중감소(#),</td>\n",
              "      <td>NaN</td>\n",
              "      <td>, 2년 전 건강 검진 시 정상 소견,</td>\n",
              "      <td>2주 전 감기약 먹음, 평소 비타민 복용,</td>\n",
              "      <td>, 담배(#),</td>\n",
              "      <td>아버지(고혈압),</td>\n",
              "      <td>NaN</td>\n",
              "      <td>고혈압(#),</td>\n",
              "      <td>규칙적인 월경, 보통인 월경량, 첫날에만 통증 있음</td>\n",
              "      <td>미정</td>\n",
              "      <td>19.745388</td>\n",
              "      <td>저체중</td>\n",
              "      <td>60 대다 여자 1일 전 기침 시 발생 하루 종일 지속 되다 약간 심해지다 처음 기...</td>\n",
              "    </tr>\n",
              "    <tr>\n",
              "      <th>2252</th>\n",
              "      <td>미정</td>\n",
              "      <td>역류성 식도염</td>\n",
              "      <td>속이 아파요</td>\n",
              "      <td>여자</td>\n",
              "      <td>30대</td>\n",
              "      <td>155.0</td>\n",
              "      <td>70.0</td>\n",
              "      <td>3일전</td>\n",
              "      <td>상복부 중앙</td>\n",
              "      <td>지속</td>\n",
              "      <td>심해짐</td>\n",
              "      <td>종종</td>\n",
              "      <td>쓰라린 느낌</td>\n",
              "      <td>구역(#), 등쪽 통증(#), 식은땀(#), 울렁거림(#), 설사(#), 어지러움(...</td>\n",
              "      <td>식후 심해짐</td>\n",
              "      <td>작년 건강검진상 GERD 진단, 약은 먹지 않음</td>\n",
              "      <td>NaN</td>\n",
              "      <td>술(#), 하루 맥주 2잔,</td>\n",
              "      <td>NaN</td>\n",
              "      <td>NaN</td>\n",
              "      <td>NaN</td>\n",
              "      <td>NaN</td>\n",
              "      <td>미정</td>\n",
              "      <td>29.136316</td>\n",
              "      <td>비만</td>\n",
              "      <td>속이다 아프다 30 대다 여자 3일 전 윗 배 중앙 지속 심해지다 종종 쓰라리다 느...</td>\n",
              "    </tr>\n",
              "    <tr>\n",
              "      <th>2253</th>\n",
              "      <td>미정</td>\n",
              "      <td>대상포진</td>\n",
              "      <td>따끔 거려요</td>\n",
              "      <td>여자</td>\n",
              "      <td>60대</td>\n",
              "      <td>152.0</td>\n",
              "      <td>62.0</td>\n",
              "      <td>어제부터</td>\n",
              "      <td>오른쪽 무릅 및 발등</td>\n",
              "      <td>지속</td>\n",
              "      <td>심해짐</td>\n",
              "      <td>처음</td>\n",
              "      <td>따끔거리는 통증, 가려움 동반</td>\n",
              "      <td>NaN</td>\n",
              "      <td>NaN</td>\n",
              "      <td>NaN</td>\n",
              "      <td>NaN</td>\n",
              "      <td>NaN</td>\n",
              "      <td>NaN</td>\n",
              "      <td>NaN</td>\n",
              "      <td>섬유신경종</td>\n",
              "      <td>NaN</td>\n",
              "      <td>미정</td>\n",
              "      <td>26.835180</td>\n",
              "      <td>과체중</td>\n",
              "      <td>따끔 걸리다 60 대다 여자 어제 부터 오른쪽 무릎 및 발등 지속 심해지다 처음 따...</td>\n",
              "    </tr>\n",
              "    <tr>\n",
              "      <th>2254</th>\n",
              "      <td>미정</td>\n",
              "      <td>방광염</td>\n",
              "      <td>소변볼때 불편해요</td>\n",
              "      <td>여자</td>\n",
              "      <td>50대</td>\n",
              "      <td>160.0</td>\n",
              "      <td>65.0</td>\n",
              "      <td>5일전부터</td>\n",
              "      <td>하복부</td>\n",
              "      <td>지속</td>\n",
              "      <td>심해짐</td>\n",
              "      <td>처음</td>\n",
              "      <td>NaN</td>\n",
              "      <td>배뇨통(#), 피곤감(#),</td>\n",
              "      <td>NaN</td>\n",
              "      <td>최근 회사일로 피곤</td>\n",
              "      <td>NaN</td>\n",
              "      <td>NaN</td>\n",
              "      <td>NaN</td>\n",
              "      <td>NaN</td>\n",
              "      <td>NaN</td>\n",
              "      <td>NaN</td>\n",
              "      <td>미정</td>\n",
              "      <td>25.390625</td>\n",
              "      <td>과체중</td>\n",
              "      <td>소변 볼 때 불편하다 50 대다 여자 5일 전 부터 아랫 배 지속 심해지다 처음 배...</td>\n",
              "    </tr>\n",
              "    <tr>\n",
              "      <th>2255</th>\n",
              "      <td>미정</td>\n",
              "      <td>방광염</td>\n",
              "      <td>혈뇨가 나와요</td>\n",
              "      <td>여자</td>\n",
              "      <td>40대</td>\n",
              "      <td>158.0</td>\n",
              "      <td>55.0</td>\n",
              "      <td>3일전</td>\n",
              "      <td>하복부</td>\n",
              "      <td>지속</td>\n",
              "      <td>심해짐</td>\n",
              "      <td>종종</td>\n",
              "      <td>선홍색 육안적 혈뇨</td>\n",
              "      <td>배뇨통(#), 혈뇨(#), 피곤감(#),</td>\n",
              "      <td>NaN</td>\n",
              "      <td>NaN</td>\n",
              "      <td>NaN</td>\n",
              "      <td>NaN</td>\n",
              "      <td>NaN</td>\n",
              "      <td>NaN</td>\n",
              "      <td>NaN</td>\n",
              "      <td>NaN</td>\n",
              "      <td>미정</td>\n",
              "      <td>22.031726</td>\n",
              "      <td>정상</td>\n",
              "      <td>혈뇨 나오다 40 대다 여자 3일 전 아랫 배 지속 심해지다 종종 선 홍색 육안 적...</td>\n",
              "    </tr>\n",
              "  </tbody>\n",
              "</table>\n",
              "<p>2256 rows × 26 columns</p>\n",
              "</div>"
            ],
            "text/plain": [
              "     level2 level5/diagnosis Chief complaint Sex  Age  Height  Weight  Onset  \\\n",
              "0     급성 복통           소화성 궤양          배가 아파요  남자  50대   170.0    80.0    1일전   \n",
              "1     급성 복통           소화성 궤양   갑자기 배가 너무 아파요  남자  30대   165.0    70.0  오늘 새벽   \n",
              "2     급성 복통           소화성 궤양          속이 쓰려요  여자  70대   160.0    48.0    1달전   \n",
              "3     급성 복통           소화성 궤양          속이 쓰려요  남자  10대   160.0    58.0    2달전   \n",
              "4     급성 복통           소화성 궤양          배가 아파요  남자  60대   170.0    65.0   1시간전   \n",
              "...     ...              ...             ...  ..  ...     ...     ...    ...   \n",
              "2251     미정              폐결핵                  여자  60대   152.3    45.8   1일 전   \n",
              "2252     미정          역류성 식도염          속이 아파요  여자  30대   155.0    70.0    3일전   \n",
              "2253     미정             대상포진          따끔 거려요  여자  60대   152.0    62.0   어제부터   \n",
              "2254     미정              방광염       소변볼때 불편해요  여자  50대   160.0    65.0  5일전부터   \n",
              "2255     미정              방광염         혈뇨가 나와요  여자  40대   158.0    55.0    3일전   \n",
              "\n",
              "                   Location   Duration  Course               Experience  \\\n",
              "0                     명치 부위         지속     심해짐  이전에도 3차례, 통증은 이번보다 약했음    \n",
              "1     명치에서 시작해 현재 복부 전체에 통증         지속     심해짐              이전에도 한 번 겪음   \n",
              "2                     명치 부위         지속     심해짐                      NaN   \n",
              "3                     명치부위          지속     심해짐                      NaN   \n",
              "4                      명치부위         지속     심해짐                      NaN   \n",
              "...                     ...        ...     ...                      ...   \n",
              "2251               기침 시에 발생  하루 종일 지속됨  약간 심해짐                       처음   \n",
              "2252                 상복부 중앙         지속     심해짐                       종종   \n",
              "2253            오른쪽 무릅 및 발등         지속     심해짐                       처음   \n",
              "2254                    하복부         지속     심해짐                       처음   \n",
              "2255                   하복부          지속     심해짐                       종종   \n",
              "\n",
              "                                  Character  \\\n",
              "0     칼로 찢기는 듯한 통증, 통증 심함, 방사통(#), 등으로 퍼짐,    \n",
              "1                              계속 쓰림, 통증 중간   \n",
              "2                              속이 쓰림, 통증 약함   \n",
              "3                              명치부위 압통, 속쓰림   \n",
              "4                             명치 부위가 아프고 쓰림   \n",
              "...                                     ...   \n",
              "2251                            기침, 가래, 선홍색   \n",
              "2252                                 쓰라린 느낌   \n",
              "2253                       따끔거리는 통증, 가려움 동반   \n",
              "2254                                    NaN   \n",
              "2255                             선홍색 육안적 혈뇨   \n",
              "\n",
              "                                         Associated Sx.  \\\n",
              "0     , 구토 (# 2회 흰 물만 나옴 ), 속쓰림, [응급] 어지러움 (#), 갈증 (...   \n",
              "1                                         구역질, 구토, 식욕감소   \n",
              "2                                         구역질, 신물이 올라와요   \n",
              "3                                                    구토   \n",
              "4                                                   NaN   \n",
              "...                                                 ...   \n",
              "2251                            발열(#), 오한(#), 체중감소(#),    \n",
              "2252  구역(#), 등쪽 통증(#), 식은땀(#), 울렁거림(#), 설사(#), 어지러움(...   \n",
              "2253                                                NaN   \n",
              "2254                                   배뇨통(#), 피곤감(#),    \n",
              "2255                            배뇨통(#), 혈뇨(#), 피곤감(#),    \n",
              "\n",
              "                                           Factor                       Event  \\\n",
              "0     자세에 따른 변화(#), 오른쪽으로 돌아 누우면 완화, 반듯이 누우면 악화,                          NaN   \n",
              "1                                   앞으로 숙이는 경우 완화          2년 전 건강 검진 상 이상 없음   \n",
              "2                                      누워있으면 심해져요                         NaN   \n",
              "3                                             NaN                         NaN   \n",
              "4                                             NaN                         NaN   \n",
              "...                                           ...                         ...   \n",
              "2251                                          NaN      , 2년 전 건강 검진 시 정상 소견,    \n",
              "2252                                       식후 심해짐  작년 건강검진상 GERD 진단, 약은 먹지 않음   \n",
              "2253                                          NaN                         NaN   \n",
              "2254                                          NaN                  최근 회사일로 피곤   \n",
              "2255                                          NaN                         NaN   \n",
              "\n",
              "                        약물 투약력  \\\n",
              "0                          NaN   \n",
              "1               관절염 약(진통소염제),    \n",
              "2                     관절염약 복용중   \n",
              "3                          철분제   \n",
              "4                         고혈압약   \n",
              "...                        ...   \n",
              "2251  2주 전 감기약 먹음, 평소 비타민 복용,    \n",
              "2252                       NaN   \n",
              "2253                       NaN   \n",
              "2254                       NaN   \n",
              "2255                       NaN   \n",
              "\n",
              "                                                    사회력         가족력  외상력  \\\n",
              "0     술(#), 1주일 6~7번, 하루 소주 2~3병, 담배(#), 30갑년, 식사 , ...         NaN  NaN   \n",
              "1              술, 회, 주 2~3회), 회사원, 회식이 잦고 폭음하는 경우가 있음,          NaN  NaN   \n",
              "2                                                   NaN         NaN  NaN   \n",
              "3                                                   NaN         NaN  NaN   \n",
              "4                                            5년전 알코올 중독         NaN  NaN   \n",
              "...                                                 ...         ...  ...   \n",
              "2251                                          , 담배(#),   아버지(고혈압),   NaN   \n",
              "2252                                   술(#), 하루 맥주 2잔,          NaN  NaN   \n",
              "2253                                                NaN         NaN  NaN   \n",
              "2254                                                NaN         NaN  NaN   \n",
              "2255                                                NaN         NaN  NaN   \n",
              "\n",
              "                   과거력                           여성력     Level1        BMI  \\\n",
              "0                  NaN                           NaN  digestive  27.681661   \n",
              "1                  NaN                           NaN  digestive  25.711662   \n",
              "2     HTN(#), DM (#),                            NaN  digestive  18.750000   \n",
              "3                  NaN                           NaN  digestive  22.656250   \n",
              "4             HTN(#),                            NaN  digestive  22.491349   \n",
              "...                ...                           ...        ...        ...   \n",
              "2251          고혈압(#),   규칙적인 월경, 보통인 월경량, 첫날에만 통증 있음         미정  19.745388   \n",
              "2252               NaN                           NaN         미정  29.136316   \n",
              "2253             섬유신경종                           NaN         미정  26.835180   \n",
              "2254               NaN                           NaN         미정  25.390625   \n",
              "2255               NaN                           NaN         미정  22.031726   \n",
              "\n",
              "     Obesity                                                All  \n",
              "0        과체중  배 아프다 50 대다 남자 1일 전 명치 부위 지속 심해지다 이전 에도 3 차례 통...  \n",
              "1        과체중  갑자기 배 너무 아프다 30 대다 남자 오늘 새벽 명치 에서 시작 현재 복부 전체 ...  \n",
              "2        저체중  속이다 쓰리다 70 대다 여자 1 달 전 명치 부위 지속 심해지다 속이다 쓰리다 통...  \n",
              "3         정상  속이다 쓰리다 10 대다 남자 2 달 전 명치 부위 지속 심해지다 명치 부위 누르다...  \n",
              "4         정상  배 아프다 60 대다 남자 1시간 전 명치 부위 지속 심해지다 명치 부위 아프다 쓰...  \n",
              "...      ...                                                ...  \n",
              "2251     저체중  60 대다 여자 1일 전 기침 시 발생 하루 종일 지속 되다 약간 심해지다 처음 기...  \n",
              "2252      비만  속이다 아프다 30 대다 여자 3일 전 윗 배 중앙 지속 심해지다 종종 쓰라리다 느...  \n",
              "2253     과체중  따끔 걸리다 60 대다 여자 어제 부터 오른쪽 무릎 및 발등 지속 심해지다 처음 따...  \n",
              "2254     과체중  소변 볼 때 불편하다 50 대다 여자 5일 전 부터 아랫 배 지속 심해지다 처음 배...  \n",
              "2255      정상  혈뇨 나오다 40 대다 여자 3일 전 아랫 배 지속 심해지다 종종 선 홍색 육안 적...  \n",
              "\n",
              "[2256 rows x 26 columns]"
            ]
          },
          "execution_count": 6,
          "metadata": {},
          "output_type": "execute_result"
        }
      ],
      "source": [
        "data"
      ]
    },
    {
      "cell_type": "markdown",
      "metadata": {
        "id": "RoLbHC7vRGew"
      },
      "source": [
        "# 1. Preprocessing"
      ]
    },
    {
      "cell_type": "markdown",
      "metadata": {
        "id": "iZZcnNXBKlHb"
      },
      "source": [
        "## 0) Select columns and fill diseases"
      ]
    },
    {
      "cell_type": "code",
      "execution_count": null,
      "metadata": {
        "id": "D0CoLQiww8_h"
      },
      "outputs": [],
      "source": [
        "def organize_data(df):\n",
        "  df.columns = df.iloc[0]\n",
        "  df = df[1:]\n",
        "  df = df.iloc[:, 6:]\n",
        "  df['level5/diagnosis'] = df['level5/diagnosis'].fillna(method='ffill') \n",
        "  df.drop('No.case', axis=1, inplace=True)\n",
        "\n",
        "  return df"
      ]
    },
    {
      "cell_type": "code",
      "execution_count": null,
      "metadata": {
        "id": "jOzjEnC_xKFc"
      },
      "outputs": [],
      "source": [
        "data_digestive = organize_data(data_digestive)\n",
        "data_musculoskeletal = organize_data(data_musculoskeletal)\n",
        "data_kidney = organize_data(data_kidney)\n",
        "data_respiratory = organize_data(data_respiratory)\n",
        "data_para = organize_data(data_para)\n",
        "#data_Folie_Nerve = organize_data(data_Folie_Nerve)\n",
        "data_circulator1 = organize_data(data_circulator1)\n",
        "data_circulator1 = data_circulator1.iloc[:, :21]\n",
        "\n",
        "data_circulator2 = data_circulator2.iloc[:, 1:]\n",
        "data_circulator2['진단 질병'] = data_circulator2['진단 질병'].fillna(method='ffill')\n",
        "data_circulator2.drop('No.case', axis=1, inplace=True) "
      ]
    },
    {
      "cell_type": "code",
      "execution_count": null,
      "metadata": {
        "id": "x9U1e1J62wqw"
      },
      "outputs": [],
      "source": [
        "data_hemate = organize_data(data_hemate)\n",
        "data_jaun = organize_data(data_jaun)\n",
        "\n",
        "data_hemate['Level1'] = 'hematemesis(digestive)'\n",
        "data_jaun['Level1'] = 'digestive(jaundice)'"
      ]
    },
    {
      "cell_type": "code",
      "execution_count": null,
      "metadata": {
        "id": "2SdFyRewaAMa"
      },
      "outputs": [],
      "source": [
        "data_digestive['Level1'] = 'digestive'\n",
        "data_musculoskeletal['Level1'] = 'musculoskeletal'\n",
        "data_kidney['Level1'] = 'kidney'\n",
        "data_respiratory['Level1'] = 'respiratory'\n",
        "data_para['Level1'] = 'para'\n",
        "data_circulator1['Level1'] = 'circulator1'\n",
        "data_circulator2['Level1'] = 'circulator2'"
      ]
    },
    {
      "cell_type": "code",
      "execution_count": null,
      "metadata": {
        "colab": {
          "base_uri": "https://localhost:8080/"
        },
        "id": "zle4FdXxzH8p",
        "outputId": "c7aaa3db-49cd-4355-875e-986e4fca5d05"
      },
      "outputs": [
        {
          "name": "stdout",
          "output_type": "stream",
          "text": [
            "(360, 22)\n",
            "(440, 22)\n",
            "(421, 22)\n",
            "(205, 22)\n",
            "(246, 22)\n",
            "(205, 22)\n",
            "(355, 22)\n",
            "(305, 22)\n",
            "(218, 22)\n"
          ]
        }
      ],
      "source": [
        "print(data_hemate.shape)\n",
        "print(data_jaun.shape)\n",
        "print(data_digestive.shape)\n",
        "print(data_musculoskeletal.shape)\n",
        "print(data_kidney.shape)\n",
        "print(data_respiratory.shape)\n",
        "print(data_para.shape)\n",
        "#print(data_Folie_Nerve.shape)\n",
        "print(data_circulator1.shape)\n",
        "print(data_circulator2.shape)"
      ]
    },
    {
      "cell_type": "code",
      "execution_count": null,
      "metadata": {
        "colab": {
          "base_uri": "https://localhost:8080/",
          "height": 160
        },
        "id": "gEMR9X_T0MnP",
        "outputId": "5c787f6c-f30d-4992-eae4-efaa2bb118bf"
      },
      "outputs": [
        {
          "data": {
            "text/html": [
              "\n",
              "  <div id=\"df-ebe537e7-0de7-4cea-8081-29ab6d14c27d\">\n",
              "    <div class=\"colab-df-container\">\n",
              "      <div>\n",
              "<style scoped>\n",
              "    .dataframe tbody tr th:only-of-type {\n",
              "        vertical-align: middle;\n",
              "    }\n",
              "\n",
              "    .dataframe tbody tr th {\n",
              "        vertical-align: top;\n",
              "    }\n",
              "\n",
              "    .dataframe thead th {\n",
              "        text-align: right;\n",
              "    }\n",
              "</style>\n",
              "<table border=\"1\" class=\"dataframe\">\n",
              "  <thead>\n",
              "    <tr style=\"text-align: right;\">\n",
              "      <th></th>\n",
              "      <th>level5/diagnosis</th>\n",
              "      <th>Chief complaint</th>\n",
              "      <th>Sex</th>\n",
              "      <th>Age</th>\n",
              "      <th>Height</th>\n",
              "      <th>Weight</th>\n",
              "      <th>Onset</th>\n",
              "      <th>Location</th>\n",
              "      <th>Duration</th>\n",
              "      <th>Course</th>\n",
              "      <th>Experience</th>\n",
              "      <th>Character</th>\n",
              "      <th>Associated Sx.</th>\n",
              "      <th>Factor</th>\n",
              "      <th>Event</th>\n",
              "      <th>약물 투약력</th>\n",
              "      <th>사회력</th>\n",
              "      <th>가족력</th>\n",
              "      <th>외상력</th>\n",
              "      <th>과거력</th>\n",
              "      <th>여성력</th>\n",
              "      <th>Level1</th>\n",
              "    </tr>\n",
              "  </thead>\n",
              "  <tbody>\n",
              "    <tr>\n",
              "      <th>353</th>\n",
              "      <td>Inflammatory Bowel Disease (IBD)</td>\n",
              "      <td>설사를 해요</td>\n",
              "      <td>남자</td>\n",
              "      <td>22</td>\n",
              "      <td>180</td>\n",
              "      <td>72</td>\n",
              "      <td>3달전</td>\n",
              "      <td>-</td>\n",
              "      <td>지속</td>\n",
              "      <td>심해짐</td>\n",
              "      <td>처음</td>\n",
              "      <td>붉은색의 설사, 하루 2-4번, 앉아있을때 항문으로 분비물과 피가 나옴</td>\n",
              "      <td>항문 열상 및 궤양</td>\n",
              "      <td>-</td>\n",
              "      <td>-</td>\n",
              "      <td>-</td>\n",
              "      <td>-</td>\n",
              "      <td>-</td>\n",
              "      <td>-</td>\n",
              "      <td>-</td>\n",
              "      <td>-</td>\n",
              "      <td>digestive</td>\n",
              "    </tr>\n",
              "  </tbody>\n",
              "</table>\n",
              "</div>\n",
              "      <button class=\"colab-df-convert\" onclick=\"convertToInteractive('df-ebe537e7-0de7-4cea-8081-29ab6d14c27d')\"\n",
              "              title=\"Convert this dataframe to an interactive table.\"\n",
              "              style=\"display:none;\">\n",
              "        \n",
              "  <svg xmlns=\"http://www.w3.org/2000/svg\" height=\"24px\"viewBox=\"0 0 24 24\"\n",
              "       width=\"24px\">\n",
              "    <path d=\"M0 0h24v24H0V0z\" fill=\"none\"/>\n",
              "    <path d=\"M18.56 5.44l.94 2.06.94-2.06 2.06-.94-2.06-.94-.94-2.06-.94 2.06-2.06.94zm-11 1L8.5 8.5l.94-2.06 2.06-.94-2.06-.94L8.5 2.5l-.94 2.06-2.06.94zm10 10l.94 2.06.94-2.06 2.06-.94-2.06-.94-.94-2.06-.94 2.06-2.06.94z\"/><path d=\"M17.41 7.96l-1.37-1.37c-.4-.4-.92-.59-1.43-.59-.52 0-1.04.2-1.43.59L10.3 9.45l-7.72 7.72c-.78.78-.78 2.05 0 2.83L4 21.41c.39.39.9.59 1.41.59.51 0 1.02-.2 1.41-.59l7.78-7.78 2.81-2.81c.8-.78.8-2.07 0-2.86zM5.41 20L4 18.59l7.72-7.72 1.47 1.35L5.41 20z\"/>\n",
              "  </svg>\n",
              "      </button>\n",
              "      \n",
              "  <style>\n",
              "    .colab-df-container {\n",
              "      display:flex;\n",
              "      flex-wrap:wrap;\n",
              "      gap: 12px;\n",
              "    }\n",
              "\n",
              "    .colab-df-convert {\n",
              "      background-color: #E8F0FE;\n",
              "      border: none;\n",
              "      border-radius: 50%;\n",
              "      cursor: pointer;\n",
              "      display: none;\n",
              "      fill: #1967D2;\n",
              "      height: 32px;\n",
              "      padding: 0 0 0 0;\n",
              "      width: 32px;\n",
              "    }\n",
              "\n",
              "    .colab-df-convert:hover {\n",
              "      background-color: #E2EBFA;\n",
              "      box-shadow: 0px 1px 2px rgba(60, 64, 67, 0.3), 0px 1px 3px 1px rgba(60, 64, 67, 0.15);\n",
              "      fill: #174EA6;\n",
              "    }\n",
              "\n",
              "    [theme=dark] .colab-df-convert {\n",
              "      background-color: #3B4455;\n",
              "      fill: #D2E3FC;\n",
              "    }\n",
              "\n",
              "    [theme=dark] .colab-df-convert:hover {\n",
              "      background-color: #434B5C;\n",
              "      box-shadow: 0px 1px 3px 1px rgba(0, 0, 0, 0.15);\n",
              "      filter: drop-shadow(0px 1px 2px rgba(0, 0, 0, 0.3));\n",
              "      fill: #FFFFFF;\n",
              "    }\n",
              "  </style>\n",
              "\n",
              "      <script>\n",
              "        const buttonEl =\n",
              "          document.querySelector('#df-ebe537e7-0de7-4cea-8081-29ab6d14c27d button.colab-df-convert');\n",
              "        buttonEl.style.display =\n",
              "          google.colab.kernel.accessAllowed ? 'block' : 'none';\n",
              "\n",
              "        async function convertToInteractive(key) {\n",
              "          const element = document.querySelector('#df-ebe537e7-0de7-4cea-8081-29ab6d14c27d');\n",
              "          const dataTable =\n",
              "            await google.colab.kernel.invokeFunction('convertToInteractive',\n",
              "                                                     [key], {});\n",
              "          if (!dataTable) return;\n",
              "\n",
              "          const docLinkHtml = 'Like what you see? Visit the ' +\n",
              "            '<a target=\"_blank\" href=https://colab.research.google.com/notebooks/data_table.ipynb>data table notebook</a>'\n",
              "            + ' to learn more about interactive tables.';\n",
              "          element.innerHTML = '';\n",
              "          dataTable['output_type'] = 'display_data';\n",
              "          await google.colab.output.renderOutput(dataTable, element);\n",
              "          const docLink = document.createElement('div');\n",
              "          docLink.innerHTML = docLinkHtml;\n",
              "          element.appendChild(docLink);\n",
              "        }\n",
              "      </script>\n",
              "    </div>\n",
              "  </div>\n",
              "  "
            ],
            "text/plain": [
              "0                    level5/diagnosis Chief complaint  Sex Age Height Weight  \\\n",
              "353  Inflammatory Bowel Disease (IBD)          설사를 해요  남자   22    180     72   \n",
              "\n",
              "0   Onset Location Duration Course Experience  \\\n",
              "353   3달전        -       지속    심해짐         처음   \n",
              "\n",
              "0                                  Character Associated Sx. Factor Event  \\\n",
              "353  붉은색의 설사, 하루 2-4번, 앉아있을때 항문으로 분비물과 피가 나옴     항문 열상 및 궤양      -     -   \n",
              "\n",
              "0   약물 투약력 사회력 가족력 외상력 과거력 여성력     Level1  \n",
              "353      -   -   -   -   -   -  digestive  "
            ]
          },
          "execution_count": 13,
          "metadata": {},
          "output_type": "execute_result"
        }
      ],
      "source": [
        "data_circulator2.columns = data_circulator1.columns\n",
        "\n",
        "data = pd.concat([data_digestive, data_musculoskeletal, data_kidney,\n",
        "                  data_respiratory, data_circulator1, #data_Folie_Nerve,\n",
        "                  data_circulator2, data_para, data_jaun, data_hemate], axis=0)\n",
        "data.sample()"
      ]
    },
    {
      "cell_type": "code",
      "execution_count": null,
      "metadata": {
        "colab": {
          "base_uri": "https://localhost:8080/"
        },
        "id": "nul6xLgJSmkA",
        "outputId": "2a8b8cde-7e03-4af5-fe25-df50d7b4d57c"
      },
      "outputs": [
        {
          "data": {
            "text/plain": [
              "array(['-', '관절염 약(진통소염제) 복용 중', '관절염약 복용중', '철분제', '고혈압약', '괄절염약',\n",
              "       '9년전 당뇨약', '와파린', '1일전 지사제', '당뇨약', '5년전부터 항바이러스제 복용',\n",
              "       '22년전 정맥주사용 환각제 사용', '20년전 수혈', '항바이러스제 ', '항응고제 ',\n",
              "       'Valsartan, Amlodipine, Metformin', 'Amlodipine, Metformin',\n",
              "       'Amlodipine ', 'Valsartan ', '1시간전 겔포스 1포 ',\n",
              "       '1시간전 타이레놀 650mg 1T, Amlodipine, Metformin', '둘코락스 BID', '쎈코딜 BID',\n",
              "       nan, '타이레놀 BID', 'Amoxicillin BID', '타이레놀 Bid, ciprofloxacin Bid',\n",
              "       'Metformin 1T QD', '지사제 매일 복용', '타이레놀 650mg !T Bid, 겔포스 Bid',\n",
              "       '매일 저녁 쏀코딜 1T', '메티마졸 10mg Bid', '항우울제', '항경련제', 'SSRI', '훼로바',\n",
              "       '칼슘제', '항갑상샘제', '혈압약', '항생제', '3달전부터 보약복용중', '2달전부터 감초, 녹용 다려서 먹음',\n",
              "       '6개월전부터 홍삼 다려먹음', '1년간 홍삼, 보약, 약초 다량 복용', '6개월간 가시오가피, 홍삼 다려 먹음',\n",
              "       '우루사 300mg Bid', '우루사 매일 복용', '암피실린', '광범위 항생제 복용', '항생제, 타이레놀 복용',\n",
              "       '조울증약(성분은 모른다고 함)', '리튬', '고혈압약, 당뇨약', '이뇨제(-), 조영제(-), 리튬(-)',\n",
              "       '없음', '이뇨제 / 리튬(-/-), 비타민제', '이뇨제', '커피', '녹차', '코코아',\n",
              "       '소염제 / 고혈압약 / 항생제 / 항암제(-/-/-/-), 제산제(최근 소화불량)',\n",
              "       'NSAID(+ ; 일주일 전부터 관절통으로 복용), 고혈압약, 당뇨약, 항생제(-)',\n",
              "       '브루펜, 항생제 복용(5일 전에 끊음)',\n",
              "       '소염제 / 고혈압약 / 항생제 / 항암제(+ ; NSAIDs, 1년 전/-/-/-), 스타틴(4년 전부터)',\n",
              "       '소염제', '진통소염제, 항생제(5일 전부터)', '조영제', '면역억제제', '3일 전 감기약',\n",
              "       '항고혈압제(10년)', '결핵약 / 항응고제(-/-)', '결핵약 /항응고제(-/-)',\n",
              "       '진통소염제(+) : 무릎 골관절염으로 3년 전부터 복용, 결핵약(-), 조영제(-), 항응고제(-)', '해열제',\n",
              "       '항고혈압제(Amlodipine)', '1주일 전 해열제(+), 그 외 한약 등 기타(-)',\n",
              "       '1주일 전 감기로 약 복용', '결핵약 / 항응고제(-/-), 1주 전 처음으로 타이레놀 복용', '리팜핀',\n",
              "       '결핵약', '종합 비타민제(+),Rifampin(-)', '없음(항생제 복용 안 함)',\n",
              "       '항고혈압제(성분은 잘 모름)', '혈압약, 당뇨약, 고지혈증약', '항고혈압제(성분은 잘 모름),아스피린',\n",
              "       '아로나민 골드', '없음(진정제,고혈압 치료제,감기약,우울증 약 포함)', '비타민 복용 중, 이뇨제(-)',\n",
              "       '경구혈당강하제(5년 전부터 복용)', '인슐린(혈당 조절 잘 안 되고 있음)',\n",
              "       '경구혈당강하제(+) : 혈당 조절 잘 됨, NSAID(+) : 1주일 전 몸살감기로 4일 복용',\n",
              "       '고혈압약(+ ; 1년 전부터)', '고혈압약(amlodipine)', '약물 투약력', '알코올',\n",
              "       '해열제, 기침약', '감기약', '고혈압약, 당뇨약, 전립선약', '기침약', '고혈압약(라미프릴)',\n",
              "       '고혈압약, 아스피린', '아토피약', '천식흡입제', '고혈압약(캅토프릴)', '해열제, 진해거담제',\n",
              "       '음주 2회/주, 맥주 1병/회, 비흡연자', '고혈압약, 전립선약', '수면제', '혈압약 복용',\n",
              "       '당뇨약(10년), 고지혈정약, 고혈압약(최근 약 다 먹어서 3일간 못먹음)', '비타민',\n",
              "       '고혈압약 / 전립선약(-/-), 철분제', '고혈압약 / 전립선약(-/-)', 'Amlodipine(+)',\n",
              "       '인슐린 / 기관지확장제 / 항우울제 / 다이어트 약물(-/-/-/-)', '종합 비타민, 오메가 3',\n",
              "       '[고혈압약] 종류 / 불규칙 복용(amlodipine 외 2개 / 6년 전 불규칙 복용, 6달 전부터 규칙 복용)',\n",
              "       '혈압약 4알 먹음', '[고혈압약] 종류 / 불규칙 복용(-/-)', '고혈압약, 오메가 3, 두통 시 진통제',\n",
              "       'HTN(+)', '당뇨약, 고혈압약', '피임약 / 호르몬 대체요법 / 스테로이드(-/-/-)', '혈압약 복용 중',\n",
              "       '오메가3', '여성호르몬제', '3일 전 감기약 복용', '항암치료 (난소암)',\n",
              "       '만성폐쇄성페질환약(Olodaterol)', '소염진통제(5개월 전부터 무릎관절염으로)', '관절염약',\n",
              "       '고지혈증약, 고혈압약', '우울증약(SSRI)', '고혈압약, 이상지질혈증약', '당뇨병약', '고혈압약(니페디핀)',\n",
              "       '7년 전 자궁근종', '당뇨병약, 고혈압약, 고지혈증약', '인슐린', '인슐린 펌프 주사치료', '메티마졸',\n",
              "       '고혈압약(4년동안)', '혈압강하제(30년)', '혈압강하제(15년), 혈당강하제(15년)', '타이레놀',\n",
              "       '혈압강하제', '경구혈당강하제', '인슐린 주사', '다이어트약', '혈압강하제(CCB, ACEi)', '한약',\n",
              "       '관절통약', '혈당강하제', '약물복용력(-)', '글루코코르티코이드 주사(골관절염)',\n",
              "       '스테로이드 주사(1개월 전)', '피임약 (-), 호르몬대체요법 (-)', '종합비타민',\n",
              "       '피임약 (+, 1년 전부터 먹기 시작), 호르몬대체요법 (-)', '해열제 먹어봤지만 효과없음',\n",
              "       '1년전 폐경 후부터 호르몬치료, 고혈압약', '5년전 폐경 후부터 호르몬치료', '호르몬대체요법 (-)',\n",
              "       '호르몬대체요법 (-), 당뇨병약', '폐경 후 호르몬약 먹는중', '피임약 복용중, 한달전',\n",
              "       '폐경 후 호르몬약 먹는중, 고혈압약', '폐경 후 호르몬대체요법 중',\n",
              "       '피임약 (-), 호르몬대체요법 (-), 해열제 먹어봤지만 효과는 모르겠음',\n",
              "       '진통제 먹으면 나아지는것 같은데 잘 모르겠음', '어제 해열제 복용', '하루 전 해열제 복용', '피임약 (+)',\n",
              "       '당뇨병약 복용', '철분제 복용중', '관절염 있어 스테로이드 복용', '호르몬대체제 복용중', '피임약 (-)',\n",
              "       '피임약 (+, 1년 전부터 복용)', '골다공증 약', '다이어트 보조제',\n",
              "       '심할 땐 진통제 먹어보지만 금방 또 아파짐', '타이레놀 효과없음', '한약 복용중', '고지혈증약',\n",
              "       '전림선약, 제산제', '소화제', '진통제(아세트아미노펜) 상시 복용중', '규칙적으로 한약 복용 중',\n",
              "       '규칙적으로 한약 복용 중, 고혈압약', '항바이러스제, 고혈압약, 당뇨약', '항바이러스제', '제산제',\n",
              "       '고혈압, 당뇨', '소화제 먹으면 나아지나 싶지만 지속됨', '비타민제', '소화제, 호전없음',\n",
              "       '가끔 속쓰리면 소화제 '], dtype=object)"
            ]
          },
          "execution_count": 14,
          "metadata": {},
          "output_type": "execute_result"
        }
      ],
      "source": [
        "data['약물 투약력'].unique()"
      ]
    },
    {
      "cell_type": "code",
      "execution_count": null,
      "metadata": {
        "colab": {
          "base_uri": "https://localhost:8080/",
          "height": 125
        },
        "id": "KoDiLuSSFquj",
        "outputId": "9e53d55c-e37f-43dc-bc7e-0192c7581d20"
      },
      "outputs": [
        {
          "data": {
            "text/html": [
              "\n",
              "  <div id=\"df-6686a189-15c9-4ee4-bba0-7a86d1ca7e1b\">\n",
              "    <div class=\"colab-df-container\">\n",
              "      <div>\n",
              "<style scoped>\n",
              "    .dataframe tbody tr th:only-of-type {\n",
              "        vertical-align: middle;\n",
              "    }\n",
              "\n",
              "    .dataframe tbody tr th {\n",
              "        vertical-align: top;\n",
              "    }\n",
              "\n",
              "    .dataframe thead th {\n",
              "        text-align: right;\n",
              "    }\n",
              "</style>\n",
              "<table border=\"1\" class=\"dataframe\">\n",
              "  <thead>\n",
              "    <tr style=\"text-align: right;\">\n",
              "      <th></th>\n",
              "      <th>level5/diagnosis</th>\n",
              "      <th>Chief complaint</th>\n",
              "      <th>Sex</th>\n",
              "      <th>Age</th>\n",
              "      <th>Height</th>\n",
              "      <th>Weight</th>\n",
              "      <th>Onset</th>\n",
              "      <th>Location</th>\n",
              "      <th>Duration</th>\n",
              "      <th>Course</th>\n",
              "      <th>Experience</th>\n",
              "      <th>Character</th>\n",
              "      <th>Associated Sx.</th>\n",
              "      <th>Factor</th>\n",
              "      <th>Event</th>\n",
              "      <th>약물 투약력</th>\n",
              "      <th>사회력</th>\n",
              "      <th>가족력</th>\n",
              "      <th>외상력</th>\n",
              "      <th>과거력</th>\n",
              "      <th>여성력</th>\n",
              "      <th>Level1</th>\n",
              "    </tr>\n",
              "  </thead>\n",
              "  <tbody>\n",
              "    <tr>\n",
              "      <th>0</th>\n",
              "      <td>Reflux esophagitis</td>\n",
              "      <td>피 토했어요</td>\n",
              "      <td>여자</td>\n",
              "      <td>40</td>\n",
              "      <td>165</td>\n",
              "      <td>65.0</td>\n",
              "      <td>2달전</td>\n",
              "      <td>NaN</td>\n",
              "      <td>NaN</td>\n",
              "      <td>비슷함</td>\n",
              "      <td>처음</td>\n",
              "      <td>붉은색, 덩어리(-), 음식물(-)</td>\n",
              "      <td>복통, 기침</td>\n",
              "      <td>NaN</td>\n",
              "      <td>특이사항 없음</td>\n",
              "      <td>NaN</td>\n",
              "      <td>NaN</td>\n",
              "      <td>NaN</td>\n",
              "      <td>NaN</td>\n",
              "      <td>NaN</td>\n",
              "      <td>정상 월경주기</td>\n",
              "      <td>digestive</td>\n",
              "    </tr>\n",
              "  </tbody>\n",
              "</table>\n",
              "</div>\n",
              "      <button class=\"colab-df-convert\" onclick=\"convertToInteractive('df-6686a189-15c9-4ee4-bba0-7a86d1ca7e1b')\"\n",
              "              title=\"Convert this dataframe to an interactive table.\"\n",
              "              style=\"display:none;\">\n",
              "        \n",
              "  <svg xmlns=\"http://www.w3.org/2000/svg\" height=\"24px\"viewBox=\"0 0 24 24\"\n",
              "       width=\"24px\">\n",
              "    <path d=\"M0 0h24v24H0V0z\" fill=\"none\"/>\n",
              "    <path d=\"M18.56 5.44l.94 2.06.94-2.06 2.06-.94-2.06-.94-.94-2.06-.94 2.06-2.06.94zm-11 1L8.5 8.5l.94-2.06 2.06-.94-2.06-.94L8.5 2.5l-.94 2.06-2.06.94zm10 10l.94 2.06.94-2.06 2.06-.94-2.06-.94-.94-2.06-.94 2.06-2.06.94z\"/><path d=\"M17.41 7.96l-1.37-1.37c-.4-.4-.92-.59-1.43-.59-.52 0-1.04.2-1.43.59L10.3 9.45l-7.72 7.72c-.78.78-.78 2.05 0 2.83L4 21.41c.39.39.9.59 1.41.59.51 0 1.02-.2 1.41-.59l7.78-7.78 2.81-2.81c.8-.78.8-2.07 0-2.86zM5.41 20L4 18.59l7.72-7.72 1.47 1.35L5.41 20z\"/>\n",
              "  </svg>\n",
              "      </button>\n",
              "      \n",
              "  <style>\n",
              "    .colab-df-container {\n",
              "      display:flex;\n",
              "      flex-wrap:wrap;\n",
              "      gap: 12px;\n",
              "    }\n",
              "\n",
              "    .colab-df-convert {\n",
              "      background-color: #E8F0FE;\n",
              "      border: none;\n",
              "      border-radius: 50%;\n",
              "      cursor: pointer;\n",
              "      display: none;\n",
              "      fill: #1967D2;\n",
              "      height: 32px;\n",
              "      padding: 0 0 0 0;\n",
              "      width: 32px;\n",
              "    }\n",
              "\n",
              "    .colab-df-convert:hover {\n",
              "      background-color: #E2EBFA;\n",
              "      box-shadow: 0px 1px 2px rgba(60, 64, 67, 0.3), 0px 1px 3px 1px rgba(60, 64, 67, 0.15);\n",
              "      fill: #174EA6;\n",
              "    }\n",
              "\n",
              "    [theme=dark] .colab-df-convert {\n",
              "      background-color: #3B4455;\n",
              "      fill: #D2E3FC;\n",
              "    }\n",
              "\n",
              "    [theme=dark] .colab-df-convert:hover {\n",
              "      background-color: #434B5C;\n",
              "      box-shadow: 0px 1px 3px 1px rgba(0, 0, 0, 0.15);\n",
              "      filter: drop-shadow(0px 1px 2px rgba(0, 0, 0, 0.3));\n",
              "      fill: #FFFFFF;\n",
              "    }\n",
              "  </style>\n",
              "\n",
              "      <script>\n",
              "        const buttonEl =\n",
              "          document.querySelector('#df-6686a189-15c9-4ee4-bba0-7a86d1ca7e1b button.colab-df-convert');\n",
              "        buttonEl.style.display =\n",
              "          google.colab.kernel.accessAllowed ? 'block' : 'none';\n",
              "\n",
              "        async function convertToInteractive(key) {\n",
              "          const element = document.querySelector('#df-6686a189-15c9-4ee4-bba0-7a86d1ca7e1b');\n",
              "          const dataTable =\n",
              "            await google.colab.kernel.invokeFunction('convertToInteractive',\n",
              "                                                     [key], {});\n",
              "          if (!dataTable) return;\n",
              "\n",
              "          const docLinkHtml = 'Like what you see? Visit the ' +\n",
              "            '<a target=\"_blank\" href=https://colab.research.google.com/notebooks/data_table.ipynb>data table notebook</a>'\n",
              "            + ' to learn more about interactive tables.';\n",
              "          element.innerHTML = '';\n",
              "          dataTable['output_type'] = 'display_data';\n",
              "          await google.colab.output.renderOutput(dataTable, element);\n",
              "          const docLink = document.createElement('div');\n",
              "          docLink.innerHTML = docLinkHtml;\n",
              "          element.appendChild(docLink);\n",
              "        }\n",
              "      </script>\n",
              "    </div>\n",
              "  </div>\n",
              "  "
            ],
            "text/plain": [
              "     level5/diagnosis Chief complaint Sex Age Height  Weight Onset Location  \\\n",
              "0  Reflux esophagitis          피 토했어요  여자  40    165    65.0   2달전      NaN   \n",
              "\n",
              "  Duration Course Experience            Character Associated Sx. Factor  \\\n",
              "0      NaN    비슷함         처음  붉은색, 덩어리(-), 음식물(-)         복통, 기침    NaN   \n",
              "\n",
              "     Event 약물 투약력  사회력  가족력  외상력  과거력      여성력     Level1  \n",
              "0  특이사항 없음    NaN  NaN  NaN  NaN  NaN  정상 월경주기  digestive  "
            ]
          },
          "execution_count": 15,
          "metadata": {},
          "output_type": "execute_result"
        }
      ],
      "source": [
        "nan_data = pd.read_excel(DATA_IN_PATH + 'at_least_10_nan_data.xlsx', sheet_name = 'Sheet1')\n",
        "nan_data.drop('Unnamed: 0', inplace=True, axis=1)\n",
        "nan_data.head(1)"
      ]
    },
    {
      "cell_type": "code",
      "execution_count": null,
      "metadata": {
        "colab": {
          "base_uri": "https://localhost:8080/"
        },
        "id": "Z0UUTyNuGMsj",
        "outputId": "4cc17fbe-2d46-446f-8f25-627974fe29d4"
      },
      "outputs": [
        {
          "name": "stdout",
          "output_type": "stream",
          "text": [
            "(2755, 22)\n",
            "(2953, 22)\n"
          ]
        }
      ],
      "source": [
        "print(data.shape)\n",
        "data = pd.concat([data, nan_data], axis=0)\n",
        "print(data.shape)"
      ]
    },
    {
      "cell_type": "code",
      "execution_count": null,
      "metadata": {
        "colab": {
          "base_uri": "https://localhost:8080/",
          "height": 919
        },
        "id": "B9gOHUn3TerX",
        "outputId": "518c2a99-3d28-4066-cd9b-bb8999143c18"
      },
      "outputs": [
        {
          "data": {
            "text/html": [
              "\n",
              "  <div id=\"df-dc1e1f4c-0cc8-44bf-858e-9b440d289132\">\n",
              "    <div class=\"colab-df-container\">\n",
              "      <div>\n",
              "<style scoped>\n",
              "    .dataframe tbody tr th:only-of-type {\n",
              "        vertical-align: middle;\n",
              "    }\n",
              "\n",
              "    .dataframe tbody tr th {\n",
              "        vertical-align: top;\n",
              "    }\n",
              "\n",
              "    .dataframe thead th {\n",
              "        text-align: right;\n",
              "    }\n",
              "</style>\n",
              "<table border=\"1\" class=\"dataframe\">\n",
              "  <thead>\n",
              "    <tr style=\"text-align: right;\">\n",
              "      <th></th>\n",
              "      <th>level5/diagnosis</th>\n",
              "      <th>Chief complaint</th>\n",
              "      <th>Sex</th>\n",
              "      <th>Age</th>\n",
              "      <th>Height</th>\n",
              "      <th>Weight</th>\n",
              "      <th>Onset</th>\n",
              "      <th>Location</th>\n",
              "      <th>Duration</th>\n",
              "      <th>Course</th>\n",
              "      <th>Experience</th>\n",
              "      <th>Character</th>\n",
              "      <th>Associated Sx.</th>\n",
              "      <th>Factor</th>\n",
              "      <th>Event</th>\n",
              "      <th>약물 투약력</th>\n",
              "      <th>사회력</th>\n",
              "      <th>가족력</th>\n",
              "      <th>외상력</th>\n",
              "      <th>과거력</th>\n",
              "      <th>여성력</th>\n",
              "      <th>Level1</th>\n",
              "    </tr>\n",
              "  </thead>\n",
              "  <tbody>\n",
              "    <tr>\n",
              "      <th>1</th>\n",
              "      <td>gastritis/ ulcer</td>\n",
              "      <td>배가 아파요</td>\n",
              "      <td>남성</td>\n",
              "      <td>51</td>\n",
              "      <td>170</td>\n",
              "      <td>80</td>\n",
              "      <td>1일전</td>\n",
              "      <td>명치 부위</td>\n",
              "      <td>지속</td>\n",
              "      <td>심해짐</td>\n",
              "      <td>이전에도 3차례, 통증은 이번보다 약했음</td>\n",
              "      <td>칼로 찢기는 듯한 통증, NRS 8점, 방사통(+) : 등으로 퍼짐</td>\n",
              "      <td>[전신] 발열 / 식은땀 / 체중 감소 / 오한/ 피로감(-/-/-/-/-), [소...</td>\n",
              "      <td>자세에 따른 변화(+) : 오른쪽으로 돌아 누우면 완화, 반듯이 누우면 악화</td>\n",
              "      <td>-</td>\n",
              "      <td>-</td>\n",
              "      <td>술(+) : 1주일 6~7번, 하루 소주 2~3병, 담배(+) : 30갑년, 식사 ...</td>\n",
              "      <td>-</td>\n",
              "      <td>-</td>\n",
              "      <td>DM / TB / HTN / 간염(-/-/-/-)</td>\n",
              "      <td>NaN</td>\n",
              "      <td>digestive</td>\n",
              "    </tr>\n",
              "    <tr>\n",
              "      <th>2</th>\n",
              "      <td>gastritis/ ulcer</td>\n",
              "      <td>갑자기 배가 너무 아파요</td>\n",
              "      <td>남성</td>\n",
              "      <td>33</td>\n",
              "      <td>165</td>\n",
              "      <td>70</td>\n",
              "      <td>오늘 새벽</td>\n",
              "      <td>명치에서 시작해 현재 복부 전체에 통증</td>\n",
              "      <td>지속</td>\n",
              "      <td>심해짐</td>\n",
              "      <td>이전에도 한 번 겪음</td>\n",
              "      <td>계속 쓰림, NRS 5점</td>\n",
              "      <td>구역질, 구토, 식욕감소</td>\n",
              "      <td>앞으로 숙이는 경우 완화</td>\n",
              "      <td>2년 전 건강 검진 상 이상 없음</td>\n",
              "      <td>관절염 약(진통소염제) 복용 중</td>\n",
              "      <td>술(+, 소주 1~2병/회, 주 2~3회), 담배/ 커피(-/-), 회사원, 회식이...</td>\n",
              "      <td>가족중 소회기 질환 /암 (-/-)</td>\n",
              "      <td>-</td>\n",
              "      <td>-</td>\n",
              "      <td>-</td>\n",
              "      <td>digestive</td>\n",
              "    </tr>\n",
              "    <tr>\n",
              "      <th>3</th>\n",
              "      <td>gastritis/ ulcer</td>\n",
              "      <td>속이 쓰려요</td>\n",
              "      <td>여성</td>\n",
              "      <td>70</td>\n",
              "      <td>160</td>\n",
              "      <td>48</td>\n",
              "      <td>1달전</td>\n",
              "      <td>명치 부위</td>\n",
              "      <td>지속</td>\n",
              "      <td>심해짐</td>\n",
              "      <td>-</td>\n",
              "      <td>속이 쓰림, NRS 2점</td>\n",
              "      <td>구역질, 신물이 올라와요</td>\n",
              "      <td>누워있으면 심해져요</td>\n",
              "      <td>-</td>\n",
              "      <td>관절염약 복용중</td>\n",
              "      <td>-</td>\n",
              "      <td>-</td>\n",
              "      <td>-</td>\n",
              "      <td>HTN/DM (+/+_</td>\n",
              "      <td>-</td>\n",
              "      <td>digestive</td>\n",
              "    </tr>\n",
              "    <tr>\n",
              "      <th>4</th>\n",
              "      <td>gastritis/ ulcer</td>\n",
              "      <td>속이 쓰려요</td>\n",
              "      <td>남성</td>\n",
              "      <td>13</td>\n",
              "      <td>160</td>\n",
              "      <td>58</td>\n",
              "      <td>2달전</td>\n",
              "      <td>명치부위</td>\n",
              "      <td>지속</td>\n",
              "      <td>심해짐</td>\n",
              "      <td>-</td>\n",
              "      <td>명치부위 압통, 속쓰림</td>\n",
              "      <td>구토</td>\n",
              "      <td>-</td>\n",
              "      <td>-</td>\n",
              "      <td>철분제</td>\n",
              "      <td>-</td>\n",
              "      <td>-</td>\n",
              "      <td>-</td>\n",
              "      <td>-</td>\n",
              "      <td>-</td>\n",
              "      <td>digestive</td>\n",
              "    </tr>\n",
              "    <tr>\n",
              "      <th>5</th>\n",
              "      <td>gastritis/ ulcer</td>\n",
              "      <td>배가 아파요</td>\n",
              "      <td>남성</td>\n",
              "      <td>65세</td>\n",
              "      <td>170</td>\n",
              "      <td>65</td>\n",
              "      <td>1시간전</td>\n",
              "      <td>명치부위</td>\n",
              "      <td>지속</td>\n",
              "      <td>심해짐</td>\n",
              "      <td>-</td>\n",
              "      <td>명치 부위가 아프고 쓰림</td>\n",
              "      <td>-</td>\n",
              "      <td>-</td>\n",
              "      <td>-</td>\n",
              "      <td>고혈압약</td>\n",
              "      <td>5년전 알코올 중독</td>\n",
              "      <td>-</td>\n",
              "      <td>-</td>\n",
              "      <td>HTN(+)</td>\n",
              "      <td>-</td>\n",
              "      <td>digestive</td>\n",
              "    </tr>\n",
              "    <tr>\n",
              "      <th>...</th>\n",
              "      <td>...</td>\n",
              "      <td>...</td>\n",
              "      <td>...</td>\n",
              "      <td>...</td>\n",
              "      <td>...</td>\n",
              "      <td>...</td>\n",
              "      <td>...</td>\n",
              "      <td>...</td>\n",
              "      <td>...</td>\n",
              "      <td>...</td>\n",
              "      <td>...</td>\n",
              "      <td>...</td>\n",
              "      <td>...</td>\n",
              "      <td>...</td>\n",
              "      <td>...</td>\n",
              "      <td>...</td>\n",
              "      <td>...</td>\n",
              "      <td>...</td>\n",
              "      <td>...</td>\n",
              "      <td>...</td>\n",
              "      <td>...</td>\n",
              "      <td>...</td>\n",
              "    </tr>\n",
              "    <tr>\n",
              "      <th>193</th>\n",
              "      <td>갑상샘저하증</td>\n",
              "      <td>콜레스테롤이 높대요</td>\n",
              "      <td>M</td>\n",
              "      <td>50</td>\n",
              "      <td>173</td>\n",
              "      <td>70.0</td>\n",
              "      <td>1개월 전</td>\n",
              "      <td>NaN</td>\n",
              "      <td>NaN</td>\n",
              "      <td>NaN</td>\n",
              "      <td>처음</td>\n",
              "      <td>NaN</td>\n",
              "      <td>피곤, 식욕저하, 체중증가(+4kg/6개월), 추위불내성</td>\n",
              "      <td>NaN</td>\n",
              "      <td>특이사항 없음</td>\n",
              "      <td>NaN</td>\n",
              "      <td>술(-), 담배(-)</td>\n",
              "      <td>NaN</td>\n",
              "      <td>NaN</td>\n",
              "      <td>NaN</td>\n",
              "      <td>NaN</td>\n",
              "      <td>circulator2</td>\n",
              "    </tr>\n",
              "    <tr>\n",
              "      <th>194</th>\n",
              "      <td>쿠싱증후군</td>\n",
              "      <td>콜레스테롤이 높대요</td>\n",
              "      <td>F</td>\n",
              "      <td>34</td>\n",
              "      <td>165</td>\n",
              "      <td>64.0</td>\n",
              "      <td>1주 전</td>\n",
              "      <td>NaN</td>\n",
              "      <td>NaN</td>\n",
              "      <td>NaN</td>\n",
              "      <td>처음</td>\n",
              "      <td>NaN</td>\n",
              "      <td>체중변화(4kg/1개월), 하지 근력 저하(계단 오르기 힘듦), 복부 보라색 튼살,...</td>\n",
              "      <td>NaN</td>\n",
              "      <td>특이사항 없음</td>\n",
              "      <td>NaN</td>\n",
              "      <td>술(+, 2병/주), 담배(-)</td>\n",
              "      <td>NaN</td>\n",
              "      <td>NaN</td>\n",
              "      <td>NaN</td>\n",
              "      <td>정상 월경주기</td>\n",
              "      <td>circulator2</td>\n",
              "    </tr>\n",
              "    <tr>\n",
              "      <th>195</th>\n",
              "      <td>폐경증후군</td>\n",
              "      <td>콜레스테롤이 높대요</td>\n",
              "      <td>F</td>\n",
              "      <td>60</td>\n",
              "      <td>156</td>\n",
              "      <td>63.0</td>\n",
              "      <td>1개월 전</td>\n",
              "      <td>NaN</td>\n",
              "      <td>NaN</td>\n",
              "      <td>NaN</td>\n",
              "      <td>처음</td>\n",
              "      <td>NaN</td>\n",
              "      <td>NaN</td>\n",
              "      <td>NaN</td>\n",
              "      <td>특이사항 없음</td>\n",
              "      <td>NaN</td>\n",
              "      <td>술(-), 담배(-), 식습관(야식, 기름진음식), 운동안함</td>\n",
              "      <td>NaN</td>\n",
              "      <td>NaN</td>\n",
              "      <td>NaN</td>\n",
              "      <td>12년 전 폐경</td>\n",
              "      <td>circulator2</td>\n",
              "    </tr>\n",
              "    <tr>\n",
              "      <th>196</th>\n",
              "      <td>폐경증후군</td>\n",
              "      <td>콜레스테롤이 높대요</td>\n",
              "      <td>F</td>\n",
              "      <td>63</td>\n",
              "      <td>168</td>\n",
              "      <td>63.0</td>\n",
              "      <td>3개월 전</td>\n",
              "      <td>NaN</td>\n",
              "      <td>NaN</td>\n",
              "      <td>NaN</td>\n",
              "      <td>처음</td>\n",
              "      <td>NaN</td>\n",
              "      <td>NaN</td>\n",
              "      <td>NaN</td>\n",
              "      <td>특이사항 없음</td>\n",
              "      <td>NaN</td>\n",
              "      <td>술(-), 담배(-)</td>\n",
              "      <td>NaN</td>\n",
              "      <td>NaN</td>\n",
              "      <td>NaN</td>\n",
              "      <td>10년 전 폐경</td>\n",
              "      <td>circulator2</td>\n",
              "    </tr>\n",
              "    <tr>\n",
              "      <th>197</th>\n",
              "      <td>Turner syndrome</td>\n",
              "      <td>생리를 안해요</td>\n",
              "      <td>여자</td>\n",
              "      <td>15</td>\n",
              "      <td>141</td>\n",
              "      <td>41.0</td>\n",
              "      <td>처음부터</td>\n",
              "      <td>NaN</td>\n",
              "      <td>NaN</td>\n",
              "      <td>NaN</td>\n",
              "      <td>처음</td>\n",
              "      <td>초경 안옴</td>\n",
              "      <td>턱이 짧음, 어렸을 때부터 성장이 느렸음</td>\n",
              "      <td>NaN</td>\n",
              "      <td>특이사항 없음</td>\n",
              "      <td>NaN</td>\n",
              "      <td>NaN</td>\n",
              "      <td>NaN</td>\n",
              "      <td>외상 (-), 수술 (-)</td>\n",
              "      <td>NaN</td>\n",
              "      <td>정상 월경주기</td>\n",
              "      <td>para</td>\n",
              "    </tr>\n",
              "  </tbody>\n",
              "</table>\n",
              "<p>2953 rows × 22 columns</p>\n",
              "</div>\n",
              "      <button class=\"colab-df-convert\" onclick=\"convertToInteractive('df-dc1e1f4c-0cc8-44bf-858e-9b440d289132')\"\n",
              "              title=\"Convert this dataframe to an interactive table.\"\n",
              "              style=\"display:none;\">\n",
              "        \n",
              "  <svg xmlns=\"http://www.w3.org/2000/svg\" height=\"24px\"viewBox=\"0 0 24 24\"\n",
              "       width=\"24px\">\n",
              "    <path d=\"M0 0h24v24H0V0z\" fill=\"none\"/>\n",
              "    <path d=\"M18.56 5.44l.94 2.06.94-2.06 2.06-.94-2.06-.94-.94-2.06-.94 2.06-2.06.94zm-11 1L8.5 8.5l.94-2.06 2.06-.94-2.06-.94L8.5 2.5l-.94 2.06-2.06.94zm10 10l.94 2.06.94-2.06 2.06-.94-2.06-.94-.94-2.06-.94 2.06-2.06.94z\"/><path d=\"M17.41 7.96l-1.37-1.37c-.4-.4-.92-.59-1.43-.59-.52 0-1.04.2-1.43.59L10.3 9.45l-7.72 7.72c-.78.78-.78 2.05 0 2.83L4 21.41c.39.39.9.59 1.41.59.51 0 1.02-.2 1.41-.59l7.78-7.78 2.81-2.81c.8-.78.8-2.07 0-2.86zM5.41 20L4 18.59l7.72-7.72 1.47 1.35L5.41 20z\"/>\n",
              "  </svg>\n",
              "      </button>\n",
              "      \n",
              "  <style>\n",
              "    .colab-df-container {\n",
              "      display:flex;\n",
              "      flex-wrap:wrap;\n",
              "      gap: 12px;\n",
              "    }\n",
              "\n",
              "    .colab-df-convert {\n",
              "      background-color: #E8F0FE;\n",
              "      border: none;\n",
              "      border-radius: 50%;\n",
              "      cursor: pointer;\n",
              "      display: none;\n",
              "      fill: #1967D2;\n",
              "      height: 32px;\n",
              "      padding: 0 0 0 0;\n",
              "      width: 32px;\n",
              "    }\n",
              "\n",
              "    .colab-df-convert:hover {\n",
              "      background-color: #E2EBFA;\n",
              "      box-shadow: 0px 1px 2px rgba(60, 64, 67, 0.3), 0px 1px 3px 1px rgba(60, 64, 67, 0.15);\n",
              "      fill: #174EA6;\n",
              "    }\n",
              "\n",
              "    [theme=dark] .colab-df-convert {\n",
              "      background-color: #3B4455;\n",
              "      fill: #D2E3FC;\n",
              "    }\n",
              "\n",
              "    [theme=dark] .colab-df-convert:hover {\n",
              "      background-color: #434B5C;\n",
              "      box-shadow: 0px 1px 3px 1px rgba(0, 0, 0, 0.15);\n",
              "      filter: drop-shadow(0px 1px 2px rgba(0, 0, 0, 0.3));\n",
              "      fill: #FFFFFF;\n",
              "    }\n",
              "  </style>\n",
              "\n",
              "      <script>\n",
              "        const buttonEl =\n",
              "          document.querySelector('#df-dc1e1f4c-0cc8-44bf-858e-9b440d289132 button.colab-df-convert');\n",
              "        buttonEl.style.display =\n",
              "          google.colab.kernel.accessAllowed ? 'block' : 'none';\n",
              "\n",
              "        async function convertToInteractive(key) {\n",
              "          const element = document.querySelector('#df-dc1e1f4c-0cc8-44bf-858e-9b440d289132');\n",
              "          const dataTable =\n",
              "            await google.colab.kernel.invokeFunction('convertToInteractive',\n",
              "                                                     [key], {});\n",
              "          if (!dataTable) return;\n",
              "\n",
              "          const docLinkHtml = 'Like what you see? Visit the ' +\n",
              "            '<a target=\"_blank\" href=https://colab.research.google.com/notebooks/data_table.ipynb>data table notebook</a>'\n",
              "            + ' to learn more about interactive tables.';\n",
              "          element.innerHTML = '';\n",
              "          dataTable['output_type'] = 'display_data';\n",
              "          await google.colab.output.renderOutput(dataTable, element);\n",
              "          const docLink = document.createElement('div');\n",
              "          docLink.innerHTML = docLinkHtml;\n",
              "          element.appendChild(docLink);\n",
              "        }\n",
              "      </script>\n",
              "    </div>\n",
              "  </div>\n",
              "  "
            ],
            "text/plain": [
              "     level5/diagnosis Chief complaint Sex  Age Height Weight  Onset  \\\n",
              "1    gastritis/ ulcer          배가 아파요  남성   51    170     80    1일전   \n",
              "2    gastritis/ ulcer   갑자기 배가 너무 아파요  남성   33    165     70  오늘 새벽   \n",
              "3    gastritis/ ulcer          속이 쓰려요  여성   70    160     48    1달전   \n",
              "4    gastritis/ ulcer          속이 쓰려요  남성   13    160     58    2달전   \n",
              "5    gastritis/ ulcer          배가 아파요  남성  65세    170     65   1시간전   \n",
              "..                ...             ...  ..  ...    ...    ...    ...   \n",
              "193            갑상샘저하증      콜레스테롤이 높대요   M   50    173   70.0  1개월 전   \n",
              "194             쿠싱증후군      콜레스테롤이 높대요   F   34    165   64.0   1주 전   \n",
              "195             폐경증후군      콜레스테롤이 높대요   F   60    156   63.0  1개월 전   \n",
              "196             폐경증후군      콜레스테롤이 높대요   F   63    168   63.0  3개월 전   \n",
              "197   Turner syndrome         생리를 안해요  여자   15    141   41.0   처음부터   \n",
              "\n",
              "                  Location Duration Course               Experience  \\\n",
              "1                    명치 부위       지속    심해짐  이전에도 3차례, 통증은 이번보다 약했음    \n",
              "2    명치에서 시작해 현재 복부 전체에 통증       지속    심해짐              이전에도 한 번 겪음   \n",
              "3                    명치 부위       지속    심해짐                        -   \n",
              "4                    명치부위        지속    심해짐                        -   \n",
              "5                     명치부위       지속    심해짐                        -   \n",
              "..                     ...      ...    ...                      ...   \n",
              "193                    NaN      NaN    NaN                       처음   \n",
              "194                    NaN      NaN    NaN                       처음   \n",
              "195                    NaN      NaN    NaN                       처음   \n",
              "196                    NaN      NaN    NaN                       처음   \n",
              "197                    NaN      NaN    NaN                       처음   \n",
              "\n",
              "                                 Character  \\\n",
              "1    칼로 찢기는 듯한 통증, NRS 8점, 방사통(+) : 등으로 퍼짐   \n",
              "2                            계속 쓰림, NRS 5점   \n",
              "3                            속이 쓰림, NRS 2점   \n",
              "4                             명치부위 압통, 속쓰림   \n",
              "5                            명치 부위가 아프고 쓰림   \n",
              "..                                     ...   \n",
              "193                                    NaN   \n",
              "194                                    NaN   \n",
              "195                                    NaN   \n",
              "196                                    NaN   \n",
              "197                                  초경 안옴   \n",
              "\n",
              "                                        Associated Sx.  \\\n",
              "1    [전신] 발열 / 식은땀 / 체중 감소 / 오한/ 피로감(-/-/-/-/-), [소...   \n",
              "2                                        구역질, 구토, 식욕감소   \n",
              "3                                        구역질, 신물이 올라와요   \n",
              "4                                                   구토   \n",
              "5                                                    -   \n",
              "..                                                 ...   \n",
              "193                    피곤, 식욕저하, 체중증가(+4kg/6개월), 추위불내성   \n",
              "194  체중변화(4kg/1개월), 하지 근력 저하(계단 오르기 힘듦), 복부 보라색 튼살,...   \n",
              "195                                                NaN   \n",
              "196                                                NaN   \n",
              "197                             턱이 짧음, 어렸을 때부터 성장이 느렸음   \n",
              "\n",
              "                                         Factor               Event  \\\n",
              "1    자세에 따른 변화(+) : 오른쪽으로 돌아 누우면 완화, 반듯이 누우면 악화                   -   \n",
              "2                                 앞으로 숙이는 경우 완화  2년 전 건강 검진 상 이상 없음   \n",
              "3                                    누워있으면 심해져요                   -   \n",
              "4                                             -                   -   \n",
              "5                                             -                   -   \n",
              "..                                          ...                 ...   \n",
              "193                                         NaN             특이사항 없음   \n",
              "194                                         NaN             특이사항 없음   \n",
              "195                                         NaN             특이사항 없음   \n",
              "196                                         NaN             특이사항 없음   \n",
              "197                                         NaN             특이사항 없음   \n",
              "\n",
              "                약물 투약력                                                사회력  \\\n",
              "1                    -  술(+) : 1주일 6~7번, 하루 소주 2~3병, 담배(+) : 30갑년, 식사 ...   \n",
              "2    관절염 약(진통소염제) 복용 중  술(+, 소주 1~2병/회, 주 2~3회), 담배/ 커피(-/-), 회사원, 회식이...   \n",
              "3             관절염약 복용중                                                  -   \n",
              "4                  철분제                                                  -   \n",
              "5                 고혈압약                                         5년전 알코올 중독   \n",
              "..                 ...                                                ...   \n",
              "193                NaN                                        술(-), 담배(-)   \n",
              "194                NaN                                  술(+, 2병/주), 담배(-)   \n",
              "195                NaN                  술(-), 담배(-), 식습관(야식, 기름진음식), 운동안함   \n",
              "196                NaN                                        술(-), 담배(-)   \n",
              "197                NaN                                                NaN   \n",
              "\n",
              "                     가족력             외상력                          과거력  \\\n",
              "1                      -               -  DM / TB / HTN / 간염(-/-/-/-)   \n",
              "2    가족중 소회기 질환 /암 (-/-)               -                            -   \n",
              "3                      -               -                 HTN/DM (+/+_   \n",
              "4                      -               -                            -   \n",
              "5                      -               -                       HTN(+)   \n",
              "..                   ...             ...                          ...   \n",
              "193                  NaN             NaN                          NaN   \n",
              "194                  NaN             NaN                          NaN   \n",
              "195                  NaN             NaN                          NaN   \n",
              "196                  NaN             NaN                          NaN   \n",
              "197                  NaN  외상 (-), 수술 (-)                          NaN   \n",
              "\n",
              "          여성력       Level1  \n",
              "1         NaN    digestive  \n",
              "2           -    digestive  \n",
              "3           -    digestive  \n",
              "4           -    digestive  \n",
              "5           -    digestive  \n",
              "..        ...          ...  \n",
              "193       NaN  circulator2  \n",
              "194   정상 월경주기  circulator2  \n",
              "195  12년 전 폐경  circulator2  \n",
              "196  10년 전 폐경  circulator2  \n",
              "197   정상 월경주기         para  \n",
              "\n",
              "[2953 rows x 22 columns]"
            ]
          },
          "execution_count": 17,
          "metadata": {},
          "output_type": "execute_result"
        }
      ],
      "source": [
        "data"
      ]
    },
    {
      "cell_type": "markdown",
      "metadata": {
        "id": "aayyq2tF1gFs"
      },
      "source": [
        "## 1) Drop rows if more than half are nan"
      ]
    },
    {
      "cell_type": "code",
      "execution_count": null,
      "metadata": {
        "id": "xnj87S0m2VMo"
      },
      "outputs": [],
      "source": [
        "data = data.fillna('-')"
      ]
    },
    {
      "cell_type": "code",
      "execution_count": null,
      "metadata": {
        "id": "ACrBKPgT2LQw"
      },
      "outputs": [],
      "source": [
        "def to_nan(x):\n",
        "  if(x == '-'):\n",
        "    x = np.nan\n",
        "  if(x == '(-)'):\n",
        "    x = np.nan\n",
        "  if(x=='없음'):\n",
        "    x = np.nan\n",
        "  if(x=='특이사항 없음'):\n",
        "    x = np.nan\n",
        "  if(x=='이상 없음'):\n",
        "    x = np.nan\n",
        "  if(x=='.'):\n",
        "    x = np.nan\n",
        "    \n",
        "  return x"
      ]
    },
    {
      "cell_type": "code",
      "execution_count": null,
      "metadata": {
        "id": "W8-jl6BB2SuP"
      },
      "outputs": [],
      "source": [
        "for i in range(len(data.columns)):\n",
        "    data[data.columns[i]] = data.apply(lambda x : to_nan(x[data.columns[i]]) , axis = 1 )"
      ]
    },
    {
      "cell_type": "code",
      "execution_count": null,
      "metadata": {
        "colab": {
          "base_uri": "https://localhost:8080/"
        },
        "id": "8m45ZTcu1Mug",
        "outputId": "4a500774-951c-4d00-d62c-45a71a87c833"
      },
      "outputs": [
        {
          "name": "stdout",
          "output_type": "stream",
          "text": [
            "Before (2953, 22)\n",
            "After (2238, 22)\n"
          ]
        }
      ],
      "source": [
        "print('Before', data.shape)\n",
        "data.dropna(thresh = data.shape[1]/2, axis = 0, inplace = True)\n",
        "print('After', data.shape)"
      ]
    },
    {
      "cell_type": "code",
      "execution_count": null,
      "metadata": {
        "id": "j9-gM2TK6Vjv"
      },
      "outputs": [],
      "source": [
        "data.reset_index(drop=True, inplace=True)"
      ]
    },
    {
      "cell_type": "code",
      "execution_count": null,
      "metadata": {
        "colab": {
          "base_uri": "https://localhost:8080/"
        },
        "id": "l3qRGPPB05-5",
        "outputId": "9024f30e-863b-4094-988c-aaa166da16bc"
      },
      "outputs": [
        {
          "name": "stdout",
          "output_type": "stream",
          "text": [
            "(2238, 22)\n",
            "Rupture of esophageal varices     100\n",
            "Gastric ulcer / duodenal ulcer     50\n",
            "Chronic pancreatitis               50\n",
            "Acute cholecystitis                50\n",
            "Esophageal cancer                  50\n",
            "                                 ... \n",
            "intraducal papilloma                1\n",
            "마주신경성 실신                            1\n",
            "fibrocystic change                  1\n",
            "일차성 고콜레스테롤혈증                        1\n",
            "백의 고혈압                              1\n",
            "Name: level5/diagnosis, Length: 289, dtype: int64\n"
          ]
        }
      ],
      "source": [
        "print(data.shape)\n",
        "print(data['level5/diagnosis'].value_counts())"
      ]
    },
    {
      "cell_type": "markdown",
      "metadata": {
        "id": "dTXoHVP4RJkE"
      },
      "source": [
        "## 2) Change Nan to blank text"
      ]
    },
    {
      "cell_type": "code",
      "execution_count": 7,
      "metadata": {
        "id": "dt3ThlnBfsQs"
      },
      "outputs": [],
      "source": [
        "data = data.fillna('-')"
      ]
    },
    {
      "cell_type": "code",
      "execution_count": 8,
      "metadata": {
        "id": "uXfGSN-8mouO"
      },
      "outputs": [],
      "source": [
        "def to_nan(x):\n",
        "  if(x == '-'):\n",
        "    x = ''\n",
        "  elif(x == '아니오'):\n",
        "    x = ''\n",
        "  elif(x == '아뇨'):\n",
        "    x = ''\n",
        "  elif(x == '몰라요'):\n",
        "    x = ''\n",
        "  elif(x == '모릅니다'):\n",
        "    x = ''\n",
        "  elif(x == '모름'):\n",
        "    x = ''\n",
        "  elif(x == '아뇨'):\n",
        "    x = ''\n",
        "  elif(x == '아뇨'):\n",
        "    x = ''\n",
        "  elif(x == '.'):\n",
        "    x = ''    \n",
        "  return x"
      ]
    },
    {
      "cell_type": "code",
      "execution_count": 9,
      "metadata": {
        "id": "RCMQCxldmoix"
      },
      "outputs": [],
      "source": [
        "for i in range(len(data.columns)):\n",
        "    data[data.columns[i]] = data.apply(lambda x : to_nan(x[data.columns[i]]) , axis = 1 )"
      ]
    },
    {
      "cell_type": "code",
      "execution_count": 10,
      "metadata": {
        "colab": {
          "base_uri": "https://localhost:8080/"
        },
        "id": "dNz9DxwI17Rm",
        "outputId": "f55cf5d8-ba91-4820-8f35-5e93e483384e"
      },
      "outputs": [
        {
          "name": "stdout",
          "output_type": "stream",
          "text": [
            "(2256, 26)\n"
          ]
        }
      ],
      "source": [
        "print(data.shape)"
      ]
    },
    {
      "cell_type": "markdown",
      "metadata": {
        "id": "2KvyK8gz3fjh"
      },
      "source": [
        "## 3) Check Target Data, Disease"
      ]
    },
    {
      "cell_type": "code",
      "execution_count": 11,
      "metadata": {
        "colab": {
          "base_uri": "https://localhost:8080/"
        },
        "id": "fyGrH-By36ja",
        "outputId": "28f566df-d72c-49bd-88d4-a4a2fc1d8a54"
      },
      "outputs": [
        {
          "data": {
            "text/plain": [
              "식도 정맥류 파열         100\n",
              "소화성 궤양             95\n",
              "역류성 식도염            65\n",
              "만성 췌장염             50\n",
              "급성 간염              50\n",
              "                 ... \n",
              "이식거부증               5\n",
              "약물 유발 고콜레스테롤혈증      2\n",
              "임신성 고혈압             1\n",
              "일차성 고콜레스테롤혈증        1\n",
              "백의 고혈압              1\n",
              "Name: level5/diagnosis, Length: 225, dtype: int64"
            ]
          },
          "execution_count": 11,
          "metadata": {},
          "output_type": "execute_result"
        }
      ],
      "source": [
        "data['level5/diagnosis'].value_counts()"
      ]
    },
    {
      "cell_type": "code",
      "execution_count": 12,
      "metadata": {
        "colab": {
          "base_uri": "https://localhost:8080/"
        },
        "id": "M-y09EPr3fFi",
        "outputId": "2180a2ee-d819-400d-8fe6-552765734b52"
      },
      "outputs": [
        {
          "data": {
            "text/plain": [
              "225"
            ]
          },
          "execution_count": 12,
          "metadata": {},
          "output_type": "execute_result"
        }
      ],
      "source": [
        "len(data['level5/diagnosis'].unique())"
      ]
    },
    {
      "cell_type": "markdown",
      "metadata": {
        "id": "mh7Cfaw33m2a"
      },
      "source": [
        "### Organize differently expressed diseases to the same expression diseases"
      ]
    },
    {
      "cell_type": "code",
      "execution_count": 13,
      "metadata": {
        "colab": {
          "base_uri": "https://localhost:8080/",
          "height": 206
        },
        "id": "e_AZUkd23iSv",
        "outputId": "74a4d63f-7105-49f6-b56d-7402b327b506"
      },
      "outputs": [
        {
          "ename": "ImportError",
          "evalue": "Missing optional dependency 'openpyxl'.  Use pip or conda to install openpyxl.",
          "output_type": "error",
          "traceback": [
            "\u001b[1;31m---------------------------------------------------------------------------\u001b[0m",
            "\u001b[1;31mModuleNotFoundError\u001b[0m                       Traceback (most recent call last)",
            "\u001b[1;32mc:\\Users\\USER\\AppData\\Local\\Programs\\Python\\Python39\\lib\\site-packages\\pandas\\compat\\_optional.py\u001b[0m in \u001b[0;36mimport_optional_dependency\u001b[1;34m(name, extra, errors, min_version)\u001b[0m\n\u001b[0;32m    125\u001b[0m     \u001b[1;32mtry\u001b[0m\u001b[1;33m:\u001b[0m\u001b[1;33m\u001b[0m\u001b[1;33m\u001b[0m\u001b[0m\n\u001b[1;32m--> 126\u001b[1;33m         \u001b[0mmodule\u001b[0m \u001b[1;33m=\u001b[0m \u001b[0mimportlib\u001b[0m\u001b[1;33m.\u001b[0m\u001b[0mimport_module\u001b[0m\u001b[1;33m(\u001b[0m\u001b[0mname\u001b[0m\u001b[1;33m)\u001b[0m\u001b[1;33m\u001b[0m\u001b[1;33m\u001b[0m\u001b[0m\n\u001b[0m\u001b[0;32m    127\u001b[0m     \u001b[1;32mexcept\u001b[0m \u001b[0mImportError\u001b[0m\u001b[1;33m:\u001b[0m\u001b[1;33m\u001b[0m\u001b[1;33m\u001b[0m\u001b[0m\n",
            "\u001b[1;32mc:\\Users\\USER\\AppData\\Local\\Programs\\Python\\Python39\\lib\\importlib\\__init__.py\u001b[0m in \u001b[0;36mimport_module\u001b[1;34m(name, package)\u001b[0m\n\u001b[0;32m    126\u001b[0m             \u001b[0mlevel\u001b[0m \u001b[1;33m+=\u001b[0m \u001b[1;36m1\u001b[0m\u001b[1;33m\u001b[0m\u001b[1;33m\u001b[0m\u001b[0m\n\u001b[1;32m--> 127\u001b[1;33m     \u001b[1;32mreturn\u001b[0m \u001b[0m_bootstrap\u001b[0m\u001b[1;33m.\u001b[0m\u001b[0m_gcd_import\u001b[0m\u001b[1;33m(\u001b[0m\u001b[0mname\u001b[0m\u001b[1;33m[\u001b[0m\u001b[0mlevel\u001b[0m\u001b[1;33m:\u001b[0m\u001b[1;33m]\u001b[0m\u001b[1;33m,\u001b[0m \u001b[0mpackage\u001b[0m\u001b[1;33m,\u001b[0m \u001b[0mlevel\u001b[0m\u001b[1;33m)\u001b[0m\u001b[1;33m\u001b[0m\u001b[1;33m\u001b[0m\u001b[0m\n\u001b[0m\u001b[0;32m    128\u001b[0m \u001b[1;33m\u001b[0m\u001b[0m\n",
            "\u001b[1;32mc:\\Users\\USER\\AppData\\Local\\Programs\\Python\\Python39\\lib\\importlib\\_bootstrap.py\u001b[0m in \u001b[0;36m_gcd_import\u001b[1;34m(name, package, level)\u001b[0m\n",
            "\u001b[1;32mc:\\Users\\USER\\AppData\\Local\\Programs\\Python\\Python39\\lib\\importlib\\_bootstrap.py\u001b[0m in \u001b[0;36m_find_and_load\u001b[1;34m(name, import_)\u001b[0m\n",
            "\u001b[1;32mc:\\Users\\USER\\AppData\\Local\\Programs\\Python\\Python39\\lib\\importlib\\_bootstrap.py\u001b[0m in \u001b[0;36m_find_and_load_unlocked\u001b[1;34m(name, import_)\u001b[0m\n",
            "\u001b[1;31mModuleNotFoundError\u001b[0m: No module named 'openpyxl'",
            "\nDuring handling of the above exception, another exception occurred:\n",
            "\u001b[1;31mImportError\u001b[0m                               Traceback (most recent call last)",
            "\u001b[1;32m<ipython-input-13-0f99d8f42486>\u001b[0m in \u001b[0;36m<module>\u001b[1;34m\u001b[0m\n\u001b[1;32m----> 1\u001b[1;33m \u001b[0mdisease_kor\u001b[0m \u001b[1;33m=\u001b[0m \u001b[0mpd\u001b[0m\u001b[1;33m.\u001b[0m\u001b[0mread_excel\u001b[0m\u001b[1;33m(\u001b[0m\u001b[1;34m'ver6_new_words.xlsx'\u001b[0m\u001b[1;33m,\u001b[0m \u001b[0msheet_name\u001b[0m \u001b[1;33m=\u001b[0m \u001b[1;34m'질병'\u001b[0m\u001b[1;33m)\u001b[0m\u001b[1;33m\u001b[0m\u001b[1;33m\u001b[0m\u001b[0m\n\u001b[0m\u001b[0;32m      2\u001b[0m \u001b[0mdisease_kor\u001b[0m \u001b[1;33m=\u001b[0m \u001b[0mdisease_kor\u001b[0m\u001b[1;33m[\u001b[0m\u001b[1;33m[\u001b[0m\u001b[1;34m'level5/diagnosis'\u001b[0m\u001b[1;33m,\u001b[0m \u001b[1;34m'번역'\u001b[0m\u001b[1;33m]\u001b[0m\u001b[1;33m]\u001b[0m\u001b[1;33m\u001b[0m\u001b[1;33m\u001b[0m\u001b[0m\n\u001b[0;32m      3\u001b[0m \u001b[0mdisease_kor\u001b[0m\u001b[1;33m.\u001b[0m\u001b[0mhead\u001b[0m\u001b[1;33m(\u001b[0m\u001b[1;33m)\u001b[0m\u001b[1;33m\u001b[0m\u001b[1;33m\u001b[0m\u001b[0m\n",
            "\u001b[1;32mc:\\Users\\USER\\AppData\\Local\\Programs\\Python\\Python39\\lib\\site-packages\\pandas\\util\\_decorators.py\u001b[0m in \u001b[0;36mwrapper\u001b[1;34m(*args, **kwargs)\u001b[0m\n\u001b[0;32m    309\u001b[0m                     \u001b[0mstacklevel\u001b[0m\u001b[1;33m=\u001b[0m\u001b[0mstacklevel\u001b[0m\u001b[1;33m,\u001b[0m\u001b[1;33m\u001b[0m\u001b[1;33m\u001b[0m\u001b[0m\n\u001b[0;32m    310\u001b[0m                 )\n\u001b[1;32m--> 311\u001b[1;33m             \u001b[1;32mreturn\u001b[0m \u001b[0mfunc\u001b[0m\u001b[1;33m(\u001b[0m\u001b[1;33m*\u001b[0m\u001b[0margs\u001b[0m\u001b[1;33m,\u001b[0m \u001b[1;33m**\u001b[0m\u001b[0mkwargs\u001b[0m\u001b[1;33m)\u001b[0m\u001b[1;33m\u001b[0m\u001b[1;33m\u001b[0m\u001b[0m\n\u001b[0m\u001b[0;32m    312\u001b[0m \u001b[1;33m\u001b[0m\u001b[0m\n\u001b[0;32m    313\u001b[0m         \u001b[1;32mreturn\u001b[0m \u001b[0mwrapper\u001b[0m\u001b[1;33m\u001b[0m\u001b[1;33m\u001b[0m\u001b[0m\n",
            "\u001b[1;32mc:\\Users\\USER\\AppData\\Local\\Programs\\Python\\Python39\\lib\\site-packages\\pandas\\io\\excel\\_base.py\u001b[0m in \u001b[0;36mread_excel\u001b[1;34m(io, sheet_name, header, names, index_col, usecols, squeeze, dtype, engine, converters, true_values, false_values, skiprows, nrows, na_values, keep_default_na, na_filter, verbose, parse_dates, date_parser, thousands, decimal, comment, skipfooter, convert_float, mangle_dupe_cols, storage_options)\u001b[0m\n\u001b[0;32m    455\u001b[0m     \u001b[1;32mif\u001b[0m \u001b[1;32mnot\u001b[0m \u001b[0misinstance\u001b[0m\u001b[1;33m(\u001b[0m\u001b[0mio\u001b[0m\u001b[1;33m,\u001b[0m \u001b[0mExcelFile\u001b[0m\u001b[1;33m)\u001b[0m\u001b[1;33m:\u001b[0m\u001b[1;33m\u001b[0m\u001b[1;33m\u001b[0m\u001b[0m\n\u001b[0;32m    456\u001b[0m         \u001b[0mshould_close\u001b[0m \u001b[1;33m=\u001b[0m \u001b[1;32mTrue\u001b[0m\u001b[1;33m\u001b[0m\u001b[1;33m\u001b[0m\u001b[0m\n\u001b[1;32m--> 457\u001b[1;33m         \u001b[0mio\u001b[0m \u001b[1;33m=\u001b[0m \u001b[0mExcelFile\u001b[0m\u001b[1;33m(\u001b[0m\u001b[0mio\u001b[0m\u001b[1;33m,\u001b[0m \u001b[0mstorage_options\u001b[0m\u001b[1;33m=\u001b[0m\u001b[0mstorage_options\u001b[0m\u001b[1;33m,\u001b[0m \u001b[0mengine\u001b[0m\u001b[1;33m=\u001b[0m\u001b[0mengine\u001b[0m\u001b[1;33m)\u001b[0m\u001b[1;33m\u001b[0m\u001b[1;33m\u001b[0m\u001b[0m\n\u001b[0m\u001b[0;32m    458\u001b[0m     \u001b[1;32melif\u001b[0m \u001b[0mengine\u001b[0m \u001b[1;32mand\u001b[0m \u001b[0mengine\u001b[0m \u001b[1;33m!=\u001b[0m \u001b[0mio\u001b[0m\u001b[1;33m.\u001b[0m\u001b[0mengine\u001b[0m\u001b[1;33m:\u001b[0m\u001b[1;33m\u001b[0m\u001b[1;33m\u001b[0m\u001b[0m\n\u001b[0;32m    459\u001b[0m         raise ValueError(\n",
            "\u001b[1;32mc:\\Users\\USER\\AppData\\Local\\Programs\\Python\\Python39\\lib\\site-packages\\pandas\\io\\excel\\_base.py\u001b[0m in \u001b[0;36m__init__\u001b[1;34m(self, path_or_buffer, engine, storage_options)\u001b[0m\n\u001b[0;32m   1417\u001b[0m         \u001b[0mself\u001b[0m\u001b[1;33m.\u001b[0m\u001b[0mstorage_options\u001b[0m \u001b[1;33m=\u001b[0m \u001b[0mstorage_options\u001b[0m\u001b[1;33m\u001b[0m\u001b[1;33m\u001b[0m\u001b[0m\n\u001b[0;32m   1418\u001b[0m \u001b[1;33m\u001b[0m\u001b[0m\n\u001b[1;32m-> 1419\u001b[1;33m         \u001b[0mself\u001b[0m\u001b[1;33m.\u001b[0m\u001b[0m_reader\u001b[0m \u001b[1;33m=\u001b[0m \u001b[0mself\u001b[0m\u001b[1;33m.\u001b[0m\u001b[0m_engines\u001b[0m\u001b[1;33m[\u001b[0m\u001b[0mengine\u001b[0m\u001b[1;33m]\u001b[0m\u001b[1;33m(\u001b[0m\u001b[0mself\u001b[0m\u001b[1;33m.\u001b[0m\u001b[0m_io\u001b[0m\u001b[1;33m,\u001b[0m \u001b[0mstorage_options\u001b[0m\u001b[1;33m=\u001b[0m\u001b[0mstorage_options\u001b[0m\u001b[1;33m)\u001b[0m\u001b[1;33m\u001b[0m\u001b[1;33m\u001b[0m\u001b[0m\n\u001b[0m\u001b[0;32m   1420\u001b[0m \u001b[1;33m\u001b[0m\u001b[0m\n\u001b[0;32m   1421\u001b[0m     \u001b[1;32mdef\u001b[0m \u001b[0m__fspath__\u001b[0m\u001b[1;33m(\u001b[0m\u001b[0mself\u001b[0m\u001b[1;33m)\u001b[0m\u001b[1;33m:\u001b[0m\u001b[1;33m\u001b[0m\u001b[1;33m\u001b[0m\u001b[0m\n",
            "\u001b[1;32mc:\\Users\\USER\\AppData\\Local\\Programs\\Python\\Python39\\lib\\site-packages\\pandas\\io\\excel\\_openpyxl.py\u001b[0m in \u001b[0;36m__init__\u001b[1;34m(self, filepath_or_buffer, storage_options)\u001b[0m\n\u001b[0;32m    522\u001b[0m             \u001b[0mpassed\u001b[0m \u001b[0mto\u001b[0m \u001b[0mfsspec\u001b[0m \u001b[1;32mfor\u001b[0m \u001b[0mappropriate\u001b[0m \u001b[0mURLs\u001b[0m \u001b[1;33m(\u001b[0m\u001b[0msee\u001b[0m\u001b[0;31m \u001b[0m\u001b[0;31m`\u001b[0m\u001b[0;31m`\u001b[0m\u001b[0m_get_filepath_or_buffer\u001b[0m\u001b[0;31m`\u001b[0m\u001b[0;31m`\u001b[0m\u001b[1;33m)\u001b[0m\u001b[1;33m\u001b[0m\u001b[1;33m\u001b[0m\u001b[0m\n\u001b[0;32m    523\u001b[0m         \"\"\"\n\u001b[1;32m--> 524\u001b[1;33m         \u001b[0mimport_optional_dependency\u001b[0m\u001b[1;33m(\u001b[0m\u001b[1;34m\"openpyxl\"\u001b[0m\u001b[1;33m)\u001b[0m\u001b[1;33m\u001b[0m\u001b[1;33m\u001b[0m\u001b[0m\n\u001b[0m\u001b[0;32m    525\u001b[0m         \u001b[0msuper\u001b[0m\u001b[1;33m(\u001b[0m\u001b[1;33m)\u001b[0m\u001b[1;33m.\u001b[0m\u001b[0m__init__\u001b[0m\u001b[1;33m(\u001b[0m\u001b[0mfilepath_or_buffer\u001b[0m\u001b[1;33m,\u001b[0m \u001b[0mstorage_options\u001b[0m\u001b[1;33m=\u001b[0m\u001b[0mstorage_options\u001b[0m\u001b[1;33m)\u001b[0m\u001b[1;33m\u001b[0m\u001b[1;33m\u001b[0m\u001b[0m\n\u001b[0;32m    526\u001b[0m \u001b[1;33m\u001b[0m\u001b[0m\n",
            "\u001b[1;32mc:\\Users\\USER\\AppData\\Local\\Programs\\Python\\Python39\\lib\\site-packages\\pandas\\compat\\_optional.py\u001b[0m in \u001b[0;36mimport_optional_dependency\u001b[1;34m(name, extra, errors, min_version)\u001b[0m\n\u001b[0;32m    127\u001b[0m     \u001b[1;32mexcept\u001b[0m \u001b[0mImportError\u001b[0m\u001b[1;33m:\u001b[0m\u001b[1;33m\u001b[0m\u001b[1;33m\u001b[0m\u001b[0m\n\u001b[0;32m    128\u001b[0m         \u001b[1;32mif\u001b[0m \u001b[0merrors\u001b[0m \u001b[1;33m==\u001b[0m \u001b[1;34m\"raise\"\u001b[0m\u001b[1;33m:\u001b[0m\u001b[1;33m\u001b[0m\u001b[1;33m\u001b[0m\u001b[0m\n\u001b[1;32m--> 129\u001b[1;33m             \u001b[1;32mraise\u001b[0m \u001b[0mImportError\u001b[0m\u001b[1;33m(\u001b[0m\u001b[0mmsg\u001b[0m\u001b[1;33m)\u001b[0m\u001b[1;33m\u001b[0m\u001b[1;33m\u001b[0m\u001b[0m\n\u001b[0m\u001b[0;32m    130\u001b[0m         \u001b[1;32melse\u001b[0m\u001b[1;33m:\u001b[0m\u001b[1;33m\u001b[0m\u001b[1;33m\u001b[0m\u001b[0m\n\u001b[0;32m    131\u001b[0m             \u001b[1;32mreturn\u001b[0m \u001b[1;32mNone\u001b[0m\u001b[1;33m\u001b[0m\u001b[1;33m\u001b[0m\u001b[0m\n",
            "\u001b[1;31mImportError\u001b[0m: Missing optional dependency 'openpyxl'.  Use pip or conda to install openpyxl."
          ]
        }
      ],
      "source": [
        "disease_kor = pd.read_excel('ver6_new_words.xlsx', sheet_name = '질병')\n",
        "disease_kor = disease_kor[['level5/diagnosis', '번역']]\n",
        "disease_kor.head()"
      ]
    },
    {
      "cell_type": "code",
      "execution_count": null,
      "metadata": {
        "colab": {
          "base_uri": "https://localhost:8080/",
          "height": 457
        },
        "id": "-JLpBUwl3kkr",
        "outputId": "dd28bbcf-9bff-498a-f38b-7e4c4e94bbb9"
      },
      "outputs": [
        {
          "name": "stderr",
          "output_type": "stream",
          "text": [
            "/usr/local/lib/python3.7/dist-packages/pandas/core/generic.py:6392: SettingWithCopyWarning: \n",
            "A value is trying to be set on a copy of a slice from a DataFrame\n",
            "\n",
            "See the caveats in the documentation: https://pandas.pydata.org/pandas-docs/stable/user_guide/indexing.html#returning-a-view-versus-a-copy\n",
            "  return self._update_inplace(result)\n",
            "/usr/local/lib/python3.7/dist-packages/ipykernel_launcher.py:6: SettingWithCopyWarning: \n",
            "A value is trying to be set on a copy of a slice from a DataFrame.\n",
            "Try using .loc[row_indexer,col_indexer] = value instead\n",
            "\n",
            "See the caveats in the documentation: https://pandas.pydata.org/pandas-docs/stable/user_guide/indexing.html#returning-a-view-versus-a-copy\n",
            "  \n",
            "/usr/local/lib/python3.7/dist-packages/pandas/core/frame.py:4913: SettingWithCopyWarning: \n",
            "A value is trying to be set on a copy of a slice from a DataFrame\n",
            "\n",
            "See the caveats in the documentation: https://pandas.pydata.org/pandas-docs/stable/user_guide/indexing.html#returning-a-view-versus-a-copy\n",
            "  errors=errors,\n"
          ]
        },
        {
          "data": {
            "text/html": [
              "\n",
              "  <div id=\"df-cf3f6647-1b19-47e6-bab7-8df4c225b7ba\">\n",
              "    <div class=\"colab-df-container\">\n",
              "      <div>\n",
              "<style scoped>\n",
              "    .dataframe tbody tr th:only-of-type {\n",
              "        vertical-align: middle;\n",
              "    }\n",
              "\n",
              "    .dataframe tbody tr th {\n",
              "        vertical-align: top;\n",
              "    }\n",
              "\n",
              "    .dataframe thead th {\n",
              "        text-align: right;\n",
              "    }\n",
              "</style>\n",
              "<table border=\"1\" class=\"dataframe\">\n",
              "  <thead>\n",
              "    <tr style=\"text-align: right;\">\n",
              "      <th></th>\n",
              "      <th>level5/diagnosis</th>\n",
              "      <th>Chief complaint</th>\n",
              "      <th>Sex</th>\n",
              "      <th>Age</th>\n",
              "      <th>Height</th>\n",
              "      <th>Weight</th>\n",
              "      <th>Onset</th>\n",
              "      <th>Location</th>\n",
              "      <th>Duration</th>\n",
              "      <th>Course</th>\n",
              "      <th>Experience</th>\n",
              "      <th>Character</th>\n",
              "      <th>Associated Sx.</th>\n",
              "      <th>Factor</th>\n",
              "      <th>Event</th>\n",
              "      <th>약물 투약력</th>\n",
              "      <th>사회력</th>\n",
              "      <th>가족력</th>\n",
              "      <th>외상력</th>\n",
              "      <th>과거력</th>\n",
              "      <th>여성력</th>\n",
              "      <th>Level1</th>\n",
              "    </tr>\n",
              "  </thead>\n",
              "  <tbody>\n",
              "    <tr>\n",
              "      <th>532</th>\n",
              "      <td>류마티스 관절염</td>\n",
              "      <td>목 아파요</td>\n",
              "      <td>여자</td>\n",
              "      <td>61</td>\n",
              "      <td>163</td>\n",
              "      <td>63.0</td>\n",
              "      <td>6개월전</td>\n",
              "      <td>목</td>\n",
              "      <td>1시간 이상 지속</td>\n",
              "      <td>심해짐</td>\n",
              "      <td>이전에도 경험</td>\n",
              "      <td>손가락 뻣뻣하고 통증</td>\n",
              "      <td>통증 (NRS 5점)</td>\n",
              "      <td>아침에 일어나면 뻣뻣, 오전에 심함, 운동하면 완화</td>\n",
              "      <td></td>\n",
              "      <td></td>\n",
              "      <td></td>\n",
              "      <td></td>\n",
              "      <td></td>\n",
              "      <td></td>\n",
              "      <td></td>\n",
              "      <td>musculoskeletal</td>\n",
              "    </tr>\n",
              "  </tbody>\n",
              "</table>\n",
              "</div>\n",
              "      <button class=\"colab-df-convert\" onclick=\"convertToInteractive('df-cf3f6647-1b19-47e6-bab7-8df4c225b7ba')\"\n",
              "              title=\"Convert this dataframe to an interactive table.\"\n",
              "              style=\"display:none;\">\n",
              "        \n",
              "  <svg xmlns=\"http://www.w3.org/2000/svg\" height=\"24px\"viewBox=\"0 0 24 24\"\n",
              "       width=\"24px\">\n",
              "    <path d=\"M0 0h24v24H0V0z\" fill=\"none\"/>\n",
              "    <path d=\"M18.56 5.44l.94 2.06.94-2.06 2.06-.94-2.06-.94-.94-2.06-.94 2.06-2.06.94zm-11 1L8.5 8.5l.94-2.06 2.06-.94-2.06-.94L8.5 2.5l-.94 2.06-2.06.94zm10 10l.94 2.06.94-2.06 2.06-.94-2.06-.94-.94-2.06-.94 2.06-2.06.94z\"/><path d=\"M17.41 7.96l-1.37-1.37c-.4-.4-.92-.59-1.43-.59-.52 0-1.04.2-1.43.59L10.3 9.45l-7.72 7.72c-.78.78-.78 2.05 0 2.83L4 21.41c.39.39.9.59 1.41.59.51 0 1.02-.2 1.41-.59l7.78-7.78 2.81-2.81c.8-.78.8-2.07 0-2.86zM5.41 20L4 18.59l7.72-7.72 1.47 1.35L5.41 20z\"/>\n",
              "  </svg>\n",
              "      </button>\n",
              "      \n",
              "  <style>\n",
              "    .colab-df-container {\n",
              "      display:flex;\n",
              "      flex-wrap:wrap;\n",
              "      gap: 12px;\n",
              "    }\n",
              "\n",
              "    .colab-df-convert {\n",
              "      background-color: #E8F0FE;\n",
              "      border: none;\n",
              "      border-radius: 50%;\n",
              "      cursor: pointer;\n",
              "      display: none;\n",
              "      fill: #1967D2;\n",
              "      height: 32px;\n",
              "      padding: 0 0 0 0;\n",
              "      width: 32px;\n",
              "    }\n",
              "\n",
              "    .colab-df-convert:hover {\n",
              "      background-color: #E2EBFA;\n",
              "      box-shadow: 0px 1px 2px rgba(60, 64, 67, 0.3), 0px 1px 3px 1px rgba(60, 64, 67, 0.15);\n",
              "      fill: #174EA6;\n",
              "    }\n",
              "\n",
              "    [theme=dark] .colab-df-convert {\n",
              "      background-color: #3B4455;\n",
              "      fill: #D2E3FC;\n",
              "    }\n",
              "\n",
              "    [theme=dark] .colab-df-convert:hover {\n",
              "      background-color: #434B5C;\n",
              "      box-shadow: 0px 1px 3px 1px rgba(0, 0, 0, 0.15);\n",
              "      filter: drop-shadow(0px 1px 2px rgba(0, 0, 0, 0.3));\n",
              "      fill: #FFFFFF;\n",
              "    }\n",
              "  </style>\n",
              "\n",
              "      <script>\n",
              "        const buttonEl =\n",
              "          document.querySelector('#df-cf3f6647-1b19-47e6-bab7-8df4c225b7ba button.colab-df-convert');\n",
              "        buttonEl.style.display =\n",
              "          google.colab.kernel.accessAllowed ? 'block' : 'none';\n",
              "\n",
              "        async function convertToInteractive(key) {\n",
              "          const element = document.querySelector('#df-cf3f6647-1b19-47e6-bab7-8df4c225b7ba');\n",
              "          const dataTable =\n",
              "            await google.colab.kernel.invokeFunction('convertToInteractive',\n",
              "                                                     [key], {});\n",
              "          if (!dataTable) return;\n",
              "\n",
              "          const docLinkHtml = 'Like what you see? Visit the ' +\n",
              "            '<a target=\"_blank\" href=https://colab.research.google.com/notebooks/data_table.ipynb>data table notebook</a>'\n",
              "            + ' to learn more about interactive tables.';\n",
              "          element.innerHTML = '';\n",
              "          dataTable['output_type'] = 'display_data';\n",
              "          await google.colab.output.renderOutput(dataTable, element);\n",
              "          const docLink = document.createElement('div');\n",
              "          docLink.innerHTML = docLinkHtml;\n",
              "          element.appendChild(docLink);\n",
              "        }\n",
              "      </script>\n",
              "    </div>\n",
              "  </div>\n",
              "  "
            ],
            "text/plain": [
              "    level5/diagnosis Chief complaint Sex Age Height Weight Onset Location  \\\n",
              "532         류마티스 관절염           목 아파요  여자  61    163   63.0  6개월전        목   \n",
              "\n",
              "      Duration Course Experience    Character Associated Sx.  \\\n",
              "532  1시간 이상 지속    심해짐    이전에도 경험  손가락 뻣뻣하고 통증    통증 (NRS 5점)   \n",
              "\n",
              "                           Factor Event 약물 투약력 사회력 가족력 외상력 과거력 여성력  \\\n",
              "532  아침에 일어나면 뻣뻣, 오전에 심함, 운동하면 완화                                    \n",
              "\n",
              "              Level1  \n",
              "532  musculoskeletal  "
            ]
          },
          "execution_count": 33,
          "metadata": {},
          "output_type": "execute_result"
        }
      ],
      "source": [
        "data = pd.merge(data, disease_kor, how='left',on='level5/diagnosis')\n",
        "data = data.drop_duplicates()\n",
        "data.reset_index(drop=True, inplace=True)\n",
        "\n",
        "data['번역'].fillna(data['level5/diagnosis'], inplace=True)\n",
        "data['level5/diagnosis'] = data['번역']\n",
        "data.drop('번역', axis=1, inplace=True)\n",
        "data.sample()"
      ]
    },
    {
      "cell_type": "markdown",
      "metadata": {
        "id": "0IFjEFXutZU5"
      },
      "source": [
        "- Change some disease names in Circulator2"
      ]
    },
    {
      "cell_type": "code",
      "execution_count": null,
      "metadata": {
        "colab": {
          "base_uri": "https://localhost:8080/"
        },
        "id": "NB9dRoxctTYA",
        "outputId": "94a14c51-349d-44fc-f38e-4e5477a53181"
      },
      "outputs": [
        {
          "name": "stderr",
          "output_type": "stream",
          "text": [
            "/usr/local/lib/python3.7/dist-packages/pandas/core/indexing.py:1732: SettingWithCopyWarning: \n",
            "A value is trying to be set on a copy of a slice from a DataFrame\n",
            "\n",
            "See the caveats in the documentation: https://pandas.pydata.org/pandas-docs/stable/user_guide/indexing.html#returning-a-view-versus-a-copy\n",
            "  self._setitem_single_block(indexer, value, name)\n",
            "/usr/local/lib/python3.7/dist-packages/pandas/core/indexing.py:723: SettingWithCopyWarning: \n",
            "A value is trying to be set on a copy of a slice from a DataFrame\n",
            "\n",
            "See the caveats in the documentation: https://pandas.pydata.org/pandas-docs/stable/user_guide/indexing.html#returning-a-view-versus-a-copy\n",
            "  iloc._setitem_with_indexer(indexer, value, self.name)\n"
          ]
        }
      ],
      "source": [
        "idx = data[data['level5/diagnosis'] == '공황장애 / 과다환기증후군'].index#['level5/diagnosis'] = '공황장애'\n",
        "data.loc[idx, 'level5/diagnosis'] = '공황장애'\n",
        "\n",
        "idx = data[data['level5/diagnosis'] == '소화성궤양'].index\n",
        "data.loc[idx, 'level5/diagnosis'] = '소화성 궤양'\n",
        "\n",
        "idx = data[data['level5/diagnosis'] == '기립성 저혈압(혈량저하증 동반되어 있을 수)'].index\n",
        "data.loc[idx, 'level5/diagnosis'] = '기립성 저혈압(혈량저하증 동반 가능)'\n",
        "\n",
        "idx = data[data['level5/diagnosis'] == '대동맥박리'].index\n",
        "data.loc[idx, 'level5/diagnosis'] = '대동맥 박리'\n",
        "\n",
        "idx = data[data['level5/diagnosis'] == '역류성식도염'].index\n",
        "data.loc[idx, 'level5/diagnosis'] = '역류성 식도염'\n",
        "\n",
        "idx = data[data['level5/diagnosis'] == '거미막하출혈(SAH)'].index\n",
        "data.loc[idx, 'level5/diagnosis'] = '지주막하 출혈'\n",
        "\n",
        "idx = data[data['level5/diagnosis'] == '과다환기증'].index # 원문: Panic disorder / hyperventilation syndrome\n",
        "data.loc[idx, 'level5/diagnosis'] = '공황장애'\n",
        "\n",
        "idx = data[data['level5/diagnosis'] == '판막 질환(AR, MR 등)'].index\n",
        "data.loc[idx, 'level5/diagnosis'] = '판막 질환'\n",
        "\n",
        "idx = data[data['level5/diagnosis'] == '폐경후증후군'].index\n",
        "data.loc[idx, 'level5/diagnosis'] = '폐경증후군'\n",
        "\n",
        "idx = data[data['level5/diagnosis'] == '폐경증후군(폐경)'].index\n",
        "data.loc[idx, 'level5/diagnosis'] = '폐경증후군'\n",
        "\n",
        "idx = data[data['level5/diagnosis'] == '마주신경성 실신'].index\n",
        "data.loc[idx, 'level5/diagnosis'] = '미주신경성 실신'"
      ]
    },
    {
      "cell_type": "code",
      "execution_count": null,
      "metadata": {
        "colab": {
          "base_uri": "https://localhost:8080/"
        },
        "id": "8vj_bYea35jg",
        "outputId": "8f5de4bd-e659-4194-9990-ae0e69fc5485"
      },
      "outputs": [
        {
          "data": {
            "text/plain": [
              "227"
            ]
          },
          "execution_count": 37,
          "metadata": {},
          "output_type": "execute_result"
        }
      ],
      "source": [
        "len(data['level5/diagnosis'].unique())"
      ]
    },
    {
      "cell_type": "markdown",
      "metadata": {
        "id": "ECoRD3tB2uyt"
      },
      "source": [
        "### Drop disease which has less than 5 cases"
      ]
    },
    {
      "cell_type": "code",
      "execution_count": null,
      "metadata": {
        "colab": {
          "base_uri": "https://localhost:8080/",
          "height": 112
        },
        "id": "QWgfj_GuLEeo",
        "outputId": "b82505b1-213f-416a-c180-582e47485bbd"
      },
      "outputs": [
        {
          "data": {
            "text/html": [
              "\n",
              "  <div id=\"df-c98d306b-f686-4cab-b1d0-b66916ba1327\">\n",
              "    <div class=\"colab-df-container\">\n",
              "      <div>\n",
              "<style scoped>\n",
              "    .dataframe tbody tr th:only-of-type {\n",
              "        vertical-align: middle;\n",
              "    }\n",
              "\n",
              "    .dataframe tbody tr th {\n",
              "        vertical-align: top;\n",
              "    }\n",
              "\n",
              "    .dataframe thead th {\n",
              "        text-align: right;\n",
              "    }\n",
              "</style>\n",
              "<table border=\"1\" class=\"dataframe\">\n",
              "  <thead>\n",
              "    <tr style=\"text-align: right;\">\n",
              "      <th></th>\n",
              "      <th>Disease</th>\n",
              "      <th>counts</th>\n",
              "    </tr>\n",
              "  </thead>\n",
              "  <tbody>\n",
              "    <tr>\n",
              "      <th>225</th>\n",
              "      <td>신증후군</td>\n",
              "      <td>4</td>\n",
              "    </tr>\n",
              "    <tr>\n",
              "      <th>226</th>\n",
              "      <td>갈색세포종</td>\n",
              "      <td>3</td>\n",
              "    </tr>\n",
              "  </tbody>\n",
              "</table>\n",
              "</div>\n",
              "      <button class=\"colab-df-convert\" onclick=\"convertToInteractive('df-c98d306b-f686-4cab-b1d0-b66916ba1327')\"\n",
              "              title=\"Convert this dataframe to an interactive table.\"\n",
              "              style=\"display:none;\">\n",
              "        \n",
              "  <svg xmlns=\"http://www.w3.org/2000/svg\" height=\"24px\"viewBox=\"0 0 24 24\"\n",
              "       width=\"24px\">\n",
              "    <path d=\"M0 0h24v24H0V0z\" fill=\"none\"/>\n",
              "    <path d=\"M18.56 5.44l.94 2.06.94-2.06 2.06-.94-2.06-.94-.94-2.06-.94 2.06-2.06.94zm-11 1L8.5 8.5l.94-2.06 2.06-.94-2.06-.94L8.5 2.5l-.94 2.06-2.06.94zm10 10l.94 2.06.94-2.06 2.06-.94-2.06-.94-.94-2.06-.94 2.06-2.06.94z\"/><path d=\"M17.41 7.96l-1.37-1.37c-.4-.4-.92-.59-1.43-.59-.52 0-1.04.2-1.43.59L10.3 9.45l-7.72 7.72c-.78.78-.78 2.05 0 2.83L4 21.41c.39.39.9.59 1.41.59.51 0 1.02-.2 1.41-.59l7.78-7.78 2.81-2.81c.8-.78.8-2.07 0-2.86zM5.41 20L4 18.59l7.72-7.72 1.47 1.35L5.41 20z\"/>\n",
              "  </svg>\n",
              "      </button>\n",
              "      \n",
              "  <style>\n",
              "    .colab-df-container {\n",
              "      display:flex;\n",
              "      flex-wrap:wrap;\n",
              "      gap: 12px;\n",
              "    }\n",
              "\n",
              "    .colab-df-convert {\n",
              "      background-color: #E8F0FE;\n",
              "      border: none;\n",
              "      border-radius: 50%;\n",
              "      cursor: pointer;\n",
              "      display: none;\n",
              "      fill: #1967D2;\n",
              "      height: 32px;\n",
              "      padding: 0 0 0 0;\n",
              "      width: 32px;\n",
              "    }\n",
              "\n",
              "    .colab-df-convert:hover {\n",
              "      background-color: #E2EBFA;\n",
              "      box-shadow: 0px 1px 2px rgba(60, 64, 67, 0.3), 0px 1px 3px 1px rgba(60, 64, 67, 0.15);\n",
              "      fill: #174EA6;\n",
              "    }\n",
              "\n",
              "    [theme=dark] .colab-df-convert {\n",
              "      background-color: #3B4455;\n",
              "      fill: #D2E3FC;\n",
              "    }\n",
              "\n",
              "    [theme=dark] .colab-df-convert:hover {\n",
              "      background-color: #434B5C;\n",
              "      box-shadow: 0px 1px 3px 1px rgba(0, 0, 0, 0.15);\n",
              "      filter: drop-shadow(0px 1px 2px rgba(0, 0, 0, 0.3));\n",
              "      fill: #FFFFFF;\n",
              "    }\n",
              "  </style>\n",
              "\n",
              "      <script>\n",
              "        const buttonEl =\n",
              "          document.querySelector('#df-c98d306b-f686-4cab-b1d0-b66916ba1327 button.colab-df-convert');\n",
              "        buttonEl.style.display =\n",
              "          google.colab.kernel.accessAllowed ? 'block' : 'none';\n",
              "\n",
              "        async function convertToInteractive(key) {\n",
              "          const element = document.querySelector('#df-c98d306b-f686-4cab-b1d0-b66916ba1327');\n",
              "          const dataTable =\n",
              "            await google.colab.kernel.invokeFunction('convertToInteractive',\n",
              "                                                     [key], {});\n",
              "          if (!dataTable) return;\n",
              "\n",
              "          const docLinkHtml = 'Like what you see? Visit the ' +\n",
              "            '<a target=\"_blank\" href=https://colab.research.google.com/notebooks/data_table.ipynb>data table notebook</a>'\n",
              "            + ' to learn more about interactive tables.';\n",
              "          element.innerHTML = '';\n",
              "          dataTable['output_type'] = 'display_data';\n",
              "          await google.colab.output.renderOutput(dataTable, element);\n",
              "          const docLink = document.createElement('div');\n",
              "          docLink.innerHTML = docLinkHtml;\n",
              "          element.appendChild(docLink);\n",
              "        }\n",
              "      </script>\n",
              "    </div>\n",
              "  </div>\n",
              "  "
            ],
            "text/plain": [
              "    Disease  counts\n",
              "225    신증후군       4\n",
              "226   갈색세포종       3"
            ]
          },
          "execution_count": 38,
          "metadata": {},
          "output_type": "execute_result"
        }
      ],
      "source": [
        "target_counts = data['level5/diagnosis'].value_counts().reset_index()\n",
        "target_counts.columns = ['Disease', 'counts']\n",
        "target_counts = target_counts[target_counts['counts'] < 5]\n",
        "target_counts"
      ]
    },
    {
      "cell_type": "code",
      "execution_count": null,
      "metadata": {
        "colab": {
          "base_uri": "https://localhost:8080/",
          "height": 424
        },
        "id": "Mvxwq30133w3",
        "outputId": "d9400cfc-6c18-400d-a8c2-341cc5bf0ace"
      },
      "outputs": [
        {
          "data": {
            "text/html": [
              "\n",
              "  <div id=\"df-e5384432-f6d2-4713-968d-e94a43cb8a0a\">\n",
              "    <div class=\"colab-df-container\">\n",
              "      <div>\n",
              "<style scoped>\n",
              "    .dataframe tbody tr th:only-of-type {\n",
              "        vertical-align: middle;\n",
              "    }\n",
              "\n",
              "    .dataframe tbody tr th {\n",
              "        vertical-align: top;\n",
              "    }\n",
              "\n",
              "    .dataframe thead th {\n",
              "        text-align: right;\n",
              "    }\n",
              "</style>\n",
              "<table border=\"1\" class=\"dataframe\">\n",
              "  <thead>\n",
              "    <tr style=\"text-align: right;\">\n",
              "      <th></th>\n",
              "      <th>Disease</th>\n",
              "      <th>counts</th>\n",
              "    </tr>\n",
              "  </thead>\n",
              "  <tbody>\n",
              "    <tr>\n",
              "      <th>0</th>\n",
              "      <td>식도 정맥류 파열</td>\n",
              "      <td>100</td>\n",
              "    </tr>\n",
              "    <tr>\n",
              "      <th>1</th>\n",
              "      <td>소화성 궤양</td>\n",
              "      <td>95</td>\n",
              "    </tr>\n",
              "    <tr>\n",
              "      <th>2</th>\n",
              "      <td>역류성 식도염</td>\n",
              "      <td>64</td>\n",
              "    </tr>\n",
              "    <tr>\n",
              "      <th>3</th>\n",
              "      <td>식도암</td>\n",
              "      <td>50</td>\n",
              "    </tr>\n",
              "    <tr>\n",
              "      <th>4</th>\n",
              "      <td>만성 췌장염</td>\n",
              "      <td>50</td>\n",
              "    </tr>\n",
              "    <tr>\n",
              "      <th>...</th>\n",
              "      <td>...</td>\n",
              "      <td>...</td>\n",
              "    </tr>\n",
              "    <tr>\n",
              "      <th>220</th>\n",
              "      <td>저혈량증</td>\n",
              "      <td>5</td>\n",
              "    </tr>\n",
              "    <tr>\n",
              "      <th>221</th>\n",
              "      <td>악성 고혈암</td>\n",
              "      <td>5</td>\n",
              "    </tr>\n",
              "    <tr>\n",
              "      <th>222</th>\n",
              "      <td>이식거부증</td>\n",
              "      <td>5</td>\n",
              "    </tr>\n",
              "    <tr>\n",
              "      <th>223</th>\n",
              "      <td>방광경부폐색</td>\n",
              "      <td>5</td>\n",
              "    </tr>\n",
              "    <tr>\n",
              "      <th>224</th>\n",
              "      <td>면역글로불린 A 신병증</td>\n",
              "      <td>5</td>\n",
              "    </tr>\n",
              "  </tbody>\n",
              "</table>\n",
              "<p>225 rows × 2 columns</p>\n",
              "</div>\n",
              "      <button class=\"colab-df-convert\" onclick=\"convertToInteractive('df-e5384432-f6d2-4713-968d-e94a43cb8a0a')\"\n",
              "              title=\"Convert this dataframe to an interactive table.\"\n",
              "              style=\"display:none;\">\n",
              "        \n",
              "  <svg xmlns=\"http://www.w3.org/2000/svg\" height=\"24px\"viewBox=\"0 0 24 24\"\n",
              "       width=\"24px\">\n",
              "    <path d=\"M0 0h24v24H0V0z\" fill=\"none\"/>\n",
              "    <path d=\"M18.56 5.44l.94 2.06.94-2.06 2.06-.94-2.06-.94-.94-2.06-.94 2.06-2.06.94zm-11 1L8.5 8.5l.94-2.06 2.06-.94-2.06-.94L8.5 2.5l-.94 2.06-2.06.94zm10 10l.94 2.06.94-2.06 2.06-.94-2.06-.94-.94-2.06-.94 2.06-2.06.94z\"/><path d=\"M17.41 7.96l-1.37-1.37c-.4-.4-.92-.59-1.43-.59-.52 0-1.04.2-1.43.59L10.3 9.45l-7.72 7.72c-.78.78-.78 2.05 0 2.83L4 21.41c.39.39.9.59 1.41.59.51 0 1.02-.2 1.41-.59l7.78-7.78 2.81-2.81c.8-.78.8-2.07 0-2.86zM5.41 20L4 18.59l7.72-7.72 1.47 1.35L5.41 20z\"/>\n",
              "  </svg>\n",
              "      </button>\n",
              "      \n",
              "  <style>\n",
              "    .colab-df-container {\n",
              "      display:flex;\n",
              "      flex-wrap:wrap;\n",
              "      gap: 12px;\n",
              "    }\n",
              "\n",
              "    .colab-df-convert {\n",
              "      background-color: #E8F0FE;\n",
              "      border: none;\n",
              "      border-radius: 50%;\n",
              "      cursor: pointer;\n",
              "      display: none;\n",
              "      fill: #1967D2;\n",
              "      height: 32px;\n",
              "      padding: 0 0 0 0;\n",
              "      width: 32px;\n",
              "    }\n",
              "\n",
              "    .colab-df-convert:hover {\n",
              "      background-color: #E2EBFA;\n",
              "      box-shadow: 0px 1px 2px rgba(60, 64, 67, 0.3), 0px 1px 3px 1px rgba(60, 64, 67, 0.15);\n",
              "      fill: #174EA6;\n",
              "    }\n",
              "\n",
              "    [theme=dark] .colab-df-convert {\n",
              "      background-color: #3B4455;\n",
              "      fill: #D2E3FC;\n",
              "    }\n",
              "\n",
              "    [theme=dark] .colab-df-convert:hover {\n",
              "      background-color: #434B5C;\n",
              "      box-shadow: 0px 1px 3px 1px rgba(0, 0, 0, 0.15);\n",
              "      filter: drop-shadow(0px 1px 2px rgba(0, 0, 0, 0.3));\n",
              "      fill: #FFFFFF;\n",
              "    }\n",
              "  </style>\n",
              "\n",
              "      <script>\n",
              "        const buttonEl =\n",
              "          document.querySelector('#df-e5384432-f6d2-4713-968d-e94a43cb8a0a button.colab-df-convert');\n",
              "        buttonEl.style.display =\n",
              "          google.colab.kernel.accessAllowed ? 'block' : 'none';\n",
              "\n",
              "        async function convertToInteractive(key) {\n",
              "          const element = document.querySelector('#df-e5384432-f6d2-4713-968d-e94a43cb8a0a');\n",
              "          const dataTable =\n",
              "            await google.colab.kernel.invokeFunction('convertToInteractive',\n",
              "                                                     [key], {});\n",
              "          if (!dataTable) return;\n",
              "\n",
              "          const docLinkHtml = 'Like what you see? Visit the ' +\n",
              "            '<a target=\"_blank\" href=https://colab.research.google.com/notebooks/data_table.ipynb>data table notebook</a>'\n",
              "            + ' to learn more about interactive tables.';\n",
              "          element.innerHTML = '';\n",
              "          dataTable['output_type'] = 'display_data';\n",
              "          await google.colab.output.renderOutput(dataTable, element);\n",
              "          const docLink = document.createElement('div');\n",
              "          docLink.innerHTML = docLinkHtml;\n",
              "          element.appendChild(docLink);\n",
              "        }\n",
              "      </script>\n",
              "    </div>\n",
              "  </div>\n",
              "  "
            ],
            "text/plain": [
              "          Disease  counts\n",
              "0       식도 정맥류 파열     100\n",
              "1          소화성 궤양      95\n",
              "2         역류성 식도염      64\n",
              "3             식도암      50\n",
              "4          만성 췌장염      50\n",
              "..            ...     ...\n",
              "220          저혈량증       5\n",
              "221        악성 고혈암       5\n",
              "222         이식거부증       5\n",
              "223        방광경부폐색       5\n",
              "224  면역글로불린 A 신병증       5\n",
              "\n",
              "[225 rows x 2 columns]"
            ]
          },
          "execution_count": 39,
          "metadata": {},
          "output_type": "execute_result"
        }
      ],
      "source": [
        "target_counts = data['level5/diagnosis'].value_counts().reset_index()\n",
        "target_counts.columns = ['Disease', 'counts']\n",
        "target_counts = target_counts[target_counts['counts'] >= 5]\n",
        "target_counts"
      ]
    },
    {
      "cell_type": "code",
      "execution_count": null,
      "metadata": {
        "id": "tiRR5YfN4tqk"
      },
      "outputs": [],
      "source": [
        "data = data[data['level5/diagnosis'].isin(target_counts['Disease'])]\n",
        "data.reset_index(drop=True, inplace=True)"
      ]
    },
    {
      "cell_type": "code",
      "execution_count": null,
      "metadata": {
        "colab": {
          "base_uri": "https://localhost:8080/"
        },
        "id": "6wLkElY24PwD",
        "outputId": "57f0bcc7-9fe7-4b5d-ebfd-5318bac97aa3"
      },
      "outputs": [
        {
          "name": "stdout",
          "output_type": "stream",
          "text": [
            "(2215, 22)\n",
            "식도 정맥류 파열    100\n",
            "소화성 궤양        95\n",
            "역류성 식도염       64\n",
            "식도암           50\n",
            "만성 췌장염        50\n",
            "            ... \n",
            "저혈량증           5\n",
            "악성 고혈암         5\n",
            "이식거부증          5\n",
            "방광경부폐색         5\n",
            "일시적 요실금        5\n",
            "Name: level5/diagnosis, Length: 225, dtype: int64\n"
          ]
        }
      ],
      "source": [
        "print(data.shape)\n",
        "print(data['level5/diagnosis'].value_counts())"
      ]
    },
    {
      "cell_type": "markdown",
      "metadata": {
        "id": "_1-vtamTGRY0"
      },
      "source": [
        "## 4) Calculate BMI and define Obesity with Weight and Height\n",
        "- https://www.tongyeong.go.kr/health/01635/01898/01902.web"
      ]
    },
    {
      "cell_type": "code",
      "execution_count": 14,
      "metadata": {
        "id": "gqdxZjPf4eEq"
      },
      "outputs": [],
      "source": [
        "# Correct Height error\n",
        "idx = data[data['Height'] == '58세 여성이 소변을 자주 보고 소변을 참기 어려우며 소변 누러 화장실을 가면 미처 속옷을 내리기도 전에 소변이 흘러나오는 증상이 4년 이상 지속되어 내원하였다. 기침을 하면 소변이 약간 새며,밤에 자다가도 소변이 마려워 3번 정도 깬다고 한다. 소변이 속옷에 묻어 냄새 및 회음부 주위 피부염이 발생하며 상기 증상으로 사회생활도 힘들다고 한다. 특이 과거력은 없다.'].index\n",
        "data.loc[idx, 'Height'] = ''\n",
        "#print(data['Height'].iloc[850])\n",
        "#data['Height'].iloc[850]=''\n",
        "#print(data['Height'].iloc[850])"
      ]
    },
    {
      "cell_type": "code",
      "execution_count": 15,
      "metadata": {
        "id": "FIF1aqZa202m"
      },
      "outputs": [],
      "source": [
        "data['Height'] = data['Height'].replace('', '0')\n",
        "data['Weight'] = data['Weight'].replace('', '0')\n",
        "\n",
        "data['Height'] = data['Height'].astype('int')\n",
        "data['Weight'] = data['Weight'].astype('int')"
      ]
    },
    {
      "cell_type": "code",
      "execution_count": 16,
      "metadata": {
        "id": "1euw05cSHBbT"
      },
      "outputs": [],
      "source": [
        "data['BMI'] = data['Weight'] / (data['Height']/100)**2\n",
        "data['BMI'].fillna(-1, inplace=True)"
      ]
    },
    {
      "cell_type": "code",
      "execution_count": 17,
      "metadata": {
        "id": "dL1pgmlhGtYg"
      },
      "outputs": [],
      "source": [
        "def define_obesity(x):\n",
        "  if x < 0:\n",
        "    return '알 수 없음'\n",
        "  elif x < 20.0:\n",
        "    return '저체중'\n",
        "  elif x <= 24.0:\n",
        "    return '정상'\n",
        "  elif x <= 29.0:\n",
        "    return '과체중'\n",
        "  else:\n",
        "    return '비만'\n",
        "\n",
        "data['Obesity'] = data.apply(lambda x : define_obesity(x['BMI']), axis=1)"
      ]
    },
    {
      "cell_type": "markdown",
      "metadata": {
        "id": "ucG31DqiRw7e"
      },
      "source": [
        "## 5) Change Age to Groups of Age"
      ]
    },
    {
      "cell_type": "markdown",
      "metadata": {
        "id": "AfzyUOuMyh_o"
      },
      "source": [
        "Infant/Child's Grouping Reference: https://www.doctorsnews.co.kr/news/articleView.html?idxno=20917&replyAll=&reply_sc_order_by=I"
      ]
    },
    {
      "cell_type": "code",
      "execution_count": 18,
      "metadata": {
        "id": "s5nd4pXhktrG"
      },
      "outputs": [],
      "source": [
        "data['Age'] = data['Age'].astype(str)"
      ]
    },
    {
      "cell_type": "code",
      "execution_count": 19,
      "metadata": {
        "colab": {
          "base_uri": "https://localhost:8080/",
          "height": 367
        },
        "id": "QEVOOgGwBQ7q",
        "outputId": "6f15f7d5-e712-4c8f-ab61-d5b448c2c992"
      },
      "outputs": [
        {
          "ename": "ValueError",
          "evalue": "invalid literal for int() with base 10: '신생'",
          "output_type": "error",
          "traceback": [
            "\u001b[1;31m---------------------------------------------------------------------------\u001b[0m",
            "\u001b[1;31mValueError\u001b[0m                                Traceback (most recent call last)",
            "\u001b[1;32m<ipython-input-19-c4b03d45e875>\u001b[0m in \u001b[0;36m<module>\u001b[1;34m\u001b[0m\n\u001b[0;32m     24\u001b[0m   \u001b[1;32mreturn\u001b[0m \u001b[0mx\u001b[0m\u001b[1;33m\u001b[0m\u001b[1;33m\u001b[0m\u001b[0m\n\u001b[0;32m     25\u001b[0m \u001b[1;33m\u001b[0m\u001b[0m\n\u001b[1;32m---> 26\u001b[1;33m \u001b[0mdata\u001b[0m\u001b[1;33m[\u001b[0m\u001b[1;34m'Age'\u001b[0m\u001b[1;33m]\u001b[0m \u001b[1;33m=\u001b[0m \u001b[0mdata\u001b[0m\u001b[1;33m.\u001b[0m\u001b[0mapply\u001b[0m\u001b[1;33m(\u001b[0m\u001b[1;32mlambda\u001b[0m \u001b[0mx\u001b[0m \u001b[1;33m:\u001b[0m \u001b[0mreplace_age\u001b[0m\u001b[1;33m(\u001b[0m\u001b[0mx\u001b[0m\u001b[1;33m[\u001b[0m\u001b[1;34m'Age'\u001b[0m\u001b[1;33m]\u001b[0m\u001b[1;33m)\u001b[0m\u001b[1;33m,\u001b[0m \u001b[0maxis\u001b[0m\u001b[1;33m=\u001b[0m\u001b[1;36m1\u001b[0m\u001b[1;33m)\u001b[0m\u001b[1;33m\u001b[0m\u001b[1;33m\u001b[0m\u001b[0m\n\u001b[0m",
            "\u001b[1;32mc:\\Users\\USER\\AppData\\Local\\Programs\\Python\\Python39\\lib\\site-packages\\pandas\\core\\frame.py\u001b[0m in \u001b[0;36mapply\u001b[1;34m(self, func, axis, raw, result_type, args, **kwargs)\u001b[0m\n\u001b[0;32m   8831\u001b[0m             \u001b[0mkwargs\u001b[0m\u001b[1;33m=\u001b[0m\u001b[0mkwargs\u001b[0m\u001b[1;33m,\u001b[0m\u001b[1;33m\u001b[0m\u001b[1;33m\u001b[0m\u001b[0m\n\u001b[0;32m   8832\u001b[0m         )\n\u001b[1;32m-> 8833\u001b[1;33m         \u001b[1;32mreturn\u001b[0m \u001b[0mop\u001b[0m\u001b[1;33m.\u001b[0m\u001b[0mapply\u001b[0m\u001b[1;33m(\u001b[0m\u001b[1;33m)\u001b[0m\u001b[1;33m.\u001b[0m\u001b[0m__finalize__\u001b[0m\u001b[1;33m(\u001b[0m\u001b[0mself\u001b[0m\u001b[1;33m,\u001b[0m \u001b[0mmethod\u001b[0m\u001b[1;33m=\u001b[0m\u001b[1;34m\"apply\"\u001b[0m\u001b[1;33m)\u001b[0m\u001b[1;33m\u001b[0m\u001b[1;33m\u001b[0m\u001b[0m\n\u001b[0m\u001b[0;32m   8834\u001b[0m \u001b[1;33m\u001b[0m\u001b[0m\n\u001b[0;32m   8835\u001b[0m     def applymap(\n",
            "\u001b[1;32mc:\\Users\\USER\\AppData\\Local\\Programs\\Python\\Python39\\lib\\site-packages\\pandas\\core\\apply.py\u001b[0m in \u001b[0;36mapply\u001b[1;34m(self)\u001b[0m\n\u001b[0;32m    725\u001b[0m             \u001b[1;32mreturn\u001b[0m \u001b[0mself\u001b[0m\u001b[1;33m.\u001b[0m\u001b[0mapply_raw\u001b[0m\u001b[1;33m(\u001b[0m\u001b[1;33m)\u001b[0m\u001b[1;33m\u001b[0m\u001b[1;33m\u001b[0m\u001b[0m\n\u001b[0;32m    726\u001b[0m \u001b[1;33m\u001b[0m\u001b[0m\n\u001b[1;32m--> 727\u001b[1;33m         \u001b[1;32mreturn\u001b[0m \u001b[0mself\u001b[0m\u001b[1;33m.\u001b[0m\u001b[0mapply_standard\u001b[0m\u001b[1;33m(\u001b[0m\u001b[1;33m)\u001b[0m\u001b[1;33m\u001b[0m\u001b[1;33m\u001b[0m\u001b[0m\n\u001b[0m\u001b[0;32m    728\u001b[0m \u001b[1;33m\u001b[0m\u001b[0m\n\u001b[0;32m    729\u001b[0m     \u001b[1;32mdef\u001b[0m \u001b[0magg\u001b[0m\u001b[1;33m(\u001b[0m\u001b[0mself\u001b[0m\u001b[1;33m)\u001b[0m\u001b[1;33m:\u001b[0m\u001b[1;33m\u001b[0m\u001b[1;33m\u001b[0m\u001b[0m\n",
            "\u001b[1;32mc:\\Users\\USER\\AppData\\Local\\Programs\\Python\\Python39\\lib\\site-packages\\pandas\\core\\apply.py\u001b[0m in \u001b[0;36mapply_standard\u001b[1;34m(self)\u001b[0m\n\u001b[0;32m    849\u001b[0m \u001b[1;33m\u001b[0m\u001b[0m\n\u001b[0;32m    850\u001b[0m     \u001b[1;32mdef\u001b[0m \u001b[0mapply_standard\u001b[0m\u001b[1;33m(\u001b[0m\u001b[0mself\u001b[0m\u001b[1;33m)\u001b[0m\u001b[1;33m:\u001b[0m\u001b[1;33m\u001b[0m\u001b[1;33m\u001b[0m\u001b[0m\n\u001b[1;32m--> 851\u001b[1;33m         \u001b[0mresults\u001b[0m\u001b[1;33m,\u001b[0m \u001b[0mres_index\u001b[0m \u001b[1;33m=\u001b[0m \u001b[0mself\u001b[0m\u001b[1;33m.\u001b[0m\u001b[0mapply_series_generator\u001b[0m\u001b[1;33m(\u001b[0m\u001b[1;33m)\u001b[0m\u001b[1;33m\u001b[0m\u001b[1;33m\u001b[0m\u001b[0m\n\u001b[0m\u001b[0;32m    852\u001b[0m \u001b[1;33m\u001b[0m\u001b[0m\n\u001b[0;32m    853\u001b[0m         \u001b[1;31m# wrap results\u001b[0m\u001b[1;33m\u001b[0m\u001b[1;33m\u001b[0m\u001b[1;33m\u001b[0m\u001b[0m\n",
            "\u001b[1;32mc:\\Users\\USER\\AppData\\Local\\Programs\\Python\\Python39\\lib\\site-packages\\pandas\\core\\apply.py\u001b[0m in \u001b[0;36mapply_series_generator\u001b[1;34m(self)\u001b[0m\n\u001b[0;32m    865\u001b[0m             \u001b[1;32mfor\u001b[0m \u001b[0mi\u001b[0m\u001b[1;33m,\u001b[0m \u001b[0mv\u001b[0m \u001b[1;32min\u001b[0m \u001b[0menumerate\u001b[0m\u001b[1;33m(\u001b[0m\u001b[0mseries_gen\u001b[0m\u001b[1;33m)\u001b[0m\u001b[1;33m:\u001b[0m\u001b[1;33m\u001b[0m\u001b[1;33m\u001b[0m\u001b[0m\n\u001b[0;32m    866\u001b[0m                 \u001b[1;31m# ignore SettingWithCopy here in case the user mutates\u001b[0m\u001b[1;33m\u001b[0m\u001b[1;33m\u001b[0m\u001b[1;33m\u001b[0m\u001b[0m\n\u001b[1;32m--> 867\u001b[1;33m                 \u001b[0mresults\u001b[0m\u001b[1;33m[\u001b[0m\u001b[0mi\u001b[0m\u001b[1;33m]\u001b[0m \u001b[1;33m=\u001b[0m \u001b[0mself\u001b[0m\u001b[1;33m.\u001b[0m\u001b[0mf\u001b[0m\u001b[1;33m(\u001b[0m\u001b[0mv\u001b[0m\u001b[1;33m)\u001b[0m\u001b[1;33m\u001b[0m\u001b[1;33m\u001b[0m\u001b[0m\n\u001b[0m\u001b[0;32m    868\u001b[0m                 \u001b[1;32mif\u001b[0m \u001b[0misinstance\u001b[0m\u001b[1;33m(\u001b[0m\u001b[0mresults\u001b[0m\u001b[1;33m[\u001b[0m\u001b[0mi\u001b[0m\u001b[1;33m]\u001b[0m\u001b[1;33m,\u001b[0m \u001b[0mABCSeries\u001b[0m\u001b[1;33m)\u001b[0m\u001b[1;33m:\u001b[0m\u001b[1;33m\u001b[0m\u001b[1;33m\u001b[0m\u001b[0m\n\u001b[0;32m    869\u001b[0m                     \u001b[1;31m# If we have a view on v, we need to make a copy because\u001b[0m\u001b[1;33m\u001b[0m\u001b[1;33m\u001b[0m\u001b[1;33m\u001b[0m\u001b[0m\n",
            "\u001b[1;32m<ipython-input-19-c4b03d45e875>\u001b[0m in \u001b[0;36m<lambda>\u001b[1;34m(x)\u001b[0m\n\u001b[0;32m     24\u001b[0m   \u001b[1;32mreturn\u001b[0m \u001b[0mx\u001b[0m\u001b[1;33m\u001b[0m\u001b[1;33m\u001b[0m\u001b[0m\n\u001b[0;32m     25\u001b[0m \u001b[1;33m\u001b[0m\u001b[0m\n\u001b[1;32m---> 26\u001b[1;33m \u001b[0mdata\u001b[0m\u001b[1;33m[\u001b[0m\u001b[1;34m'Age'\u001b[0m\u001b[1;33m]\u001b[0m \u001b[1;33m=\u001b[0m \u001b[0mdata\u001b[0m\u001b[1;33m.\u001b[0m\u001b[0mapply\u001b[0m\u001b[1;33m(\u001b[0m\u001b[1;32mlambda\u001b[0m \u001b[0mx\u001b[0m \u001b[1;33m:\u001b[0m \u001b[0mreplace_age\u001b[0m\u001b[1;33m(\u001b[0m\u001b[0mx\u001b[0m\u001b[1;33m[\u001b[0m\u001b[1;34m'Age'\u001b[0m\u001b[1;33m]\u001b[0m\u001b[1;33m)\u001b[0m\u001b[1;33m,\u001b[0m \u001b[0maxis\u001b[0m\u001b[1;33m=\u001b[0m\u001b[1;36m1\u001b[0m\u001b[1;33m)\u001b[0m\u001b[1;33m\u001b[0m\u001b[1;33m\u001b[0m\u001b[0m\n\u001b[0m",
            "\u001b[1;32m<ipython-input-19-c4b03d45e875>\u001b[0m in \u001b[0;36mreplace_age\u001b[1;34m(x)\u001b[0m\n\u001b[0;32m     19\u001b[0m      \u001b[0mx\u001b[0m \u001b[1;33m=\u001b[0m \u001b[0mx\u001b[0m\u001b[1;33m.\u001b[0m\u001b[0mreplace\u001b[0m\u001b[1;33m(\u001b[0m\u001b[1;34m'세'\u001b[0m\u001b[1;33m,\u001b[0m \u001b[1;34m''\u001b[0m\u001b[1;33m)\u001b[0m\u001b[1;33m\u001b[0m\u001b[1;33m\u001b[0m\u001b[0m\n\u001b[0;32m     20\u001b[0m      \u001b[0mx\u001b[0m \u001b[1;33m=\u001b[0m \u001b[0mx\u001b[0m\u001b[1;33m[\u001b[0m\u001b[1;33m:\u001b[0m\u001b[1;36m2\u001b[0m\u001b[1;33m]\u001b[0m\u001b[1;33m\u001b[0m\u001b[1;33m\u001b[0m\u001b[0m\n\u001b[1;32m---> 21\u001b[1;33m      \u001b[0mx\u001b[0m \u001b[1;33m=\u001b[0m \u001b[0mint\u001b[0m\u001b[1;33m(\u001b[0m\u001b[0mx\u001b[0m\u001b[1;33m)\u001b[0m\u001b[1;31m#.astype(int)\u001b[0m\u001b[1;33m\u001b[0m\u001b[1;33m\u001b[0m\u001b[0m\n\u001b[0m\u001b[0;32m     22\u001b[0m      \u001b[0mx\u001b[0m \u001b[1;33m=\u001b[0m \u001b[0mstr\u001b[0m\u001b[1;33m(\u001b[0m\u001b[0mx\u001b[0m\u001b[1;33m//\u001b[0m\u001b[1;36m10\u001b[0m\u001b[1;33m*\u001b[0m\u001b[1;36m10\u001b[0m\u001b[1;33m)\u001b[0m\u001b[1;33m+\u001b[0m\u001b[1;34m'대'\u001b[0m\u001b[1;33m\u001b[0m\u001b[1;33m\u001b[0m\u001b[0m\n\u001b[0;32m     23\u001b[0m \u001b[1;33m\u001b[0m\u001b[0m\n",
            "\u001b[1;31mValueError\u001b[0m: invalid literal for int() with base 10: '신생'"
          ]
        }
      ],
      "source": [
        "import re\n",
        "\n",
        "def replace_age(x):\n",
        "\n",
        "  if ('개월' in x) or ('달' in x) or ('개월' in x):\n",
        "    #print(x)\n",
        "    month_age = int(re.findall(\"\\d+\", x)[0])*4\n",
        "    x = '생후 ' + str(month_age) + '주'\n",
        "  \n",
        "  if ('주' in x):\n",
        "     week_age = int(re.findall(\"\\d+\", x)[0])\n",
        "     if week_age <= 4:\n",
        "       x = '신생아' # 태어나서 1개월까지(newborn)\n",
        "     elif week_age <= 4*12:\n",
        "       x = '영아' # 태어나서 1년까지(infant)\n",
        "     else:\n",
        "       x = '유아' # 만 1세부터 6세까지(child)\n",
        "  else:\n",
        "     x = x.replace('세', '')\n",
        "     x = x[:2]\n",
        "     x = int(x)#.astype(int)\n",
        "     x = str(x//10*10)+'대'\n",
        "\n",
        "  return x\n",
        "\n",
        "data['Age'] = data.apply(lambda x : replace_age(x['Age']), axis=1)"
      ]
    },
    {
      "cell_type": "code",
      "execution_count": 20,
      "metadata": {
        "colab": {
          "base_uri": "https://localhost:8080/"
        },
        "id": "F_tVm5zc-LtC",
        "outputId": "40fe8d58-0b94-4ad0-838d-b79d14328fb5"
      },
      "outputs": [
        {
          "data": {
            "text/plain": [
              "0       50대\n",
              "1       30대\n",
              "2       70대\n",
              "3       10대\n",
              "4       60대\n",
              "       ... \n",
              "2251    60대\n",
              "2252    30대\n",
              "2253    60대\n",
              "2254    50대\n",
              "2255    40대\n",
              "Name: Age, Length: 2256, dtype: object"
            ]
          },
          "execution_count": 20,
          "metadata": {},
          "output_type": "execute_result"
        }
      ],
      "source": [
        "data['Age']"
      ]
    },
    {
      "cell_type": "markdown",
      "metadata": {
        "id": "GZBPjslh_yH4"
      },
      "source": [
        "## 6) Arrange Sex"
      ]
    },
    {
      "cell_type": "code",
      "execution_count": 21,
      "metadata": {
        "colab": {
          "base_uri": "https://localhost:8080/"
        },
        "id": "eevlBAV6_6MU",
        "outputId": "5a6bcb96-f544-466b-8c20-aab2203f4930"
      },
      "outputs": [
        {
          "data": {
            "text/plain": [
              "남자    1213\n",
              "여자    1040\n",
              "         3\n",
              "Name: Sex, dtype: int64"
            ]
          },
          "execution_count": 21,
          "metadata": {},
          "output_type": "execute_result"
        }
      ],
      "source": [
        "data['Sex'].value_counts()"
      ]
    },
    {
      "cell_type": "code",
      "execution_count": 22,
      "metadata": {
        "id": "7y9lvNQdADvJ"
      },
      "outputs": [],
      "source": [
        "def organize_sex(x):\n",
        "  x = x.replace('F', '여자')\n",
        "  x = x.replace('M', '남자')\n",
        "  x = x.replace('여성', '여자')\n",
        "  x = x.replace('남성', '남자')\n",
        "  x = x.replace('여자 ', '여자')\n",
        "  x = x.replace('여자  ', '여자')\n",
        "  x = x.replace('남자 ', '남자')\n",
        "  x = x.replace('남성 ', '남자')\n",
        "\n",
        "  return x\n",
        "\n",
        "data['Sex'] = organize_sex(data['Sex'])"
      ]
    },
    {
      "cell_type": "code",
      "execution_count": 23,
      "metadata": {
        "colab": {
          "base_uri": "https://localhost:8080/"
        },
        "id": "6lvfgVj8AnX3",
        "outputId": "4bc40c24-a082-4e07-b1db-54d148d4f43a"
      },
      "outputs": [
        {
          "data": {
            "text/plain": [
              "남자    1213\n",
              "여자    1040\n",
              "         3\n",
              "Name: Sex, dtype: int64"
            ]
          },
          "execution_count": 23,
          "metadata": {},
          "output_type": "execute_result"
        }
      ],
      "source": [
        "data['Sex'].value_counts()"
      ]
    },
    {
      "cell_type": "markdown",
      "metadata": {
        "id": "jxb7NNY9S_XR"
      },
      "source": [
        "## 7) Remove Negative values(-)"
      ]
    },
    {
      "cell_type": "code",
      "execution_count": 24,
      "metadata": {
        "colab": {
          "base_uri": "https://localhost:8080/"
        },
        "id": "WpN5QW9BiqJ_",
        "outputId": "eac6014b-a816-4bff-a2a7-0cddab0d1047"
      },
      "outputs": [
        {
          "data": {
            "text/plain": [
              "Index(['Course', 'Experience', 'Character', 'Associated Sx.', 'Factor',\n",
              "       'Event', '약물 투약력', '사회력', '가족력', '외상력', '과거력'],\n",
              "      dtype='object')"
            ]
          },
          "execution_count": 24,
          "metadata": {},
          "output_type": "execute_result"
        }
      ],
      "source": [
        "data.columns[10:21]"
      ]
    },
    {
      "cell_type": "code",
      "execution_count": 25,
      "metadata": {
        "id": "U8QBmvRSpUya"
      },
      "outputs": [],
      "source": [
        "# since regex doesn't support '+', change '+' to '#'\n",
        "def to_new_positive_value(x):\n",
        "  if('+' in x):\n",
        "    x = x.replace('+', '#')#np.nan\n",
        "    \n",
        "  return x\n",
        "\n",
        "for m in data.columns[10:21]: #'Experience', 'Character', 'Associated Sx.', 'Factor', 'Event', '약물 투약력', '사회력', '가족력', '외상력', '과거력', '여성력']\n",
        "  data[m] = data.apply(lambda x : to_new_positive_value(x[m]) , axis = 1 )"
      ]
    },
    {
      "cell_type": "code",
      "execution_count": 26,
      "metadata": {
        "id": "DRUc2iGTDKGN"
      },
      "outputs": [],
      "source": [
        "idx = data[data['Associated Sx.'] == '발열(#, 4주 전) 가래(#), 기침(#), 체중변화 (#, -4kg/2개월)'].index\n",
        "data.loc[idx, 'Associated Sx.'] = '발열(#, 4주 전), 가래(#), 기침(#), 체중변화 (#, -4kg/2개월)'\n",
        "\n",
        "idx = data[data['사회력'] == '술(#주) 흡연(#), 과식(#), 지방식(#)'].index\n",
        "data.loc[idx, '사회력'] = '술(#주), 흡연(#), 과식(#), 지방식(#)'"
      ]
    },
    {
      "cell_type": "code",
      "execution_count": 27,
      "metadata": {
        "colab": {
          "base_uri": "https://localhost:8080/",
          "height": 36
        },
        "id": "scPvjjjQ2m_I",
        "outputId": "63fb5863-cae6-4c00-db2e-69e347a449ae"
      },
      "outputs": [
        {
          "data": {
            "text/plain": [
              "', 구토 (# 2회 흰 물만 나옴 ), 속쓰림, [응급] 어지러움 (#), 갈증 (#), 소변량 감소 (#), '"
            ]
          },
          "execution_count": 27,
          "metadata": {},
          "output_type": "execute_result"
        }
      ],
      "source": [
        "data['Associated Sx.'][0]"
      ]
    },
    {
      "cell_type": "code",
      "execution_count": 28,
      "metadata": {
        "id": "xduze-Iy-4sD"
      },
      "outputs": [],
      "source": [
        "def remove_negative_values(x):\n",
        "  \n",
        "  #print('x',x,'1')\n",
        "  # 1. To extract texts from brackets: (-/#, 2회 흰 물만 나옴 /-/-/-).\n",
        "  brackets = re.findall('\\((.*?)\\)', x) # ['-/-/-/-/-', '-/#, 2회 흰 물만 나옴 /-/-/-', '-', '#/#/#/-']\n",
        "  for i in range(len(brackets)):\n",
        "    n = brackets[i].split('/') # ['-', '#, 2회 흰 물만 나옴 ', '-', '-', '-']\n",
        "\n",
        "    for j in range(len(n)):\n",
        "      if len(n[j])>1:\n",
        "        tmp_str = n[j][2:] #  Behind '#, ' --> ' 2회 흰 물만 나옴 '\n",
        "        if len(re.findall('\\#', n[j]))==0: # '(#) (지금 복용 중)'\n",
        "          n[j]=''\n",
        "        else:\n",
        "          n[j] = '#'   \n",
        "        x = x.replace(brackets[i],'/'.join(n)) # Drawback: doesn't contain texts which was in brackets\n",
        "\n",
        "  #if len(re.findall(r\"(\\d+)-?(\\d+)\", x)) > 0: # 하루 4-5회\n",
        "  #  x = x.replace('-', '~')\n",
        "\n",
        "  # 2. To remove negative values\n",
        "  splited_x = x.split(',')\n",
        "  for i in range(len(splited_x)):\n",
        "    if ('및' in splited_x[i]):\n",
        "      splited_x = x.split(',') and x.split('및')\n",
        "      break\n",
        "\n",
        "  #print(splited_x)\n",
        "  for i in range(len(splited_x)):\n",
        "    ne_or_po = re.findall('-|#',splited_x[i]) #.index('') ['#', '#', '#', '-']\n",
        "    sym = splited_x[i].split('/') # [' [응급] 어지러움 ', ' 갈증 ', ' 소변량 감소 ', ' 호흡곤란(#', '#', '#', '-)']\n",
        "\n",
        "    only_positive = \"\"\n",
        "    #print(ne_or_po)\n",
        "    for j in range(len(ne_or_po)):\n",
        "      if ne_or_po[j] != '-':\n",
        "        only_positive += sym[j]\n",
        "\n",
        "      splited_x[i] = only_positive\n",
        "        #print('@fin_splited_x', splited_x[i])\n",
        "  x = (',').join(splited_x)\n",
        "  #print('@@fin_x', x)\n",
        "\n",
        "  return x\n"
      ]
    },
    {
      "cell_type": "code",
      "execution_count": null,
      "metadata": {
        "id": "KF1tB3V-jHiJ"
      },
      "outputs": [],
      "source": [
        "#for m in data.columns[10:21]: #'Experience', 'Character', 'Associated Sx.', 'Factor', 'Event', '약물 투약력', '사회력', '가족력', '외상력', '과거력', '여성력']\n",
        "#  data[m] = data.apply(lambda x : remove_negative_values(x[m]) , axis = 1 )"
      ]
    },
    {
      "cell_type": "code",
      "execution_count": 29,
      "metadata": {
        "colab": {
          "base_uri": "https://localhost:8080/",
          "height": 36
        },
        "id": "ZKqJN73iMcEz",
        "outputId": "cbfc6f33-91f7-499c-c6c1-3f8d21af1da1"
      },
      "outputs": [
        {
          "data": {
            "text/plain": [
              "', 구토 (# 2회 흰 물만 나옴 ), 속쓰림, [응급] 어지러움 (#), 갈증 (#), 소변량 감소 (#), '"
            ]
          },
          "execution_count": 29,
          "metadata": {},
          "output_type": "execute_result"
        }
      ],
      "source": [
        "data['Associated Sx.'][0]"
      ]
    },
    {
      "cell_type": "code",
      "execution_count": 30,
      "metadata": {
        "id": "af_TL8BUkYBh"
      },
      "outputs": [],
      "source": [
        "def to_ori_new_positive_value(x):\n",
        "  if('#' in x):\n",
        "    x = x.replace('#', '+')#np.nan/////\n",
        "    \n",
        "  return x\n",
        "\n",
        "for m in data.columns[10:21]: #'Experience', 'Character', 'Associated Sx.', 'Factor', 'Event', '약물 투약력', '사회력', '가족력', '외상력', '과거력', '여성력']\n",
        "  data[m] = data.apply(lambda x : to_ori_new_positive_value(x[m]) , axis = 1 )"
      ]
    },
    {
      "cell_type": "code",
      "execution_count": null,
      "metadata": {
        "colab": {
          "base_uri": "https://localhost:8080/",
          "height": 1000
        },
        "id": "jvFqCjhrYDyu",
        "outputId": "c911d802-956d-47c9-e958-8301a57009b9"
      },
      "outputs": [
        {
          "data": {
            "text/html": [
              "\n",
              "  <div id=\"df-25dc80bc-2a93-46ab-8b24-bb9801e7a705\">\n",
              "    <div class=\"colab-df-container\">\n",
              "      <div>\n",
              "<style scoped>\n",
              "    .dataframe tbody tr th:only-of-type {\n",
              "        vertical-align: middle;\n",
              "    }\n",
              "\n",
              "    .dataframe tbody tr th {\n",
              "        vertical-align: top;\n",
              "    }\n",
              "\n",
              "    .dataframe thead th {\n",
              "        text-align: right;\n",
              "    }\n",
              "</style>\n",
              "<table border=\"1\" class=\"dataframe\">\n",
              "  <thead>\n",
              "    <tr style=\"text-align: right;\">\n",
              "      <th></th>\n",
              "      <th>level2</th>\n",
              "      <th>level5/diagnosis</th>\n",
              "      <th>Chief complaint</th>\n",
              "      <th>Sex</th>\n",
              "      <th>Age</th>\n",
              "      <th>Height</th>\n",
              "      <th>Weight</th>\n",
              "      <th>Onset</th>\n",
              "      <th>Location</th>\n",
              "      <th>Duration</th>\n",
              "      <th>Course</th>\n",
              "      <th>Experience</th>\n",
              "      <th>Character</th>\n",
              "      <th>Associated Sx.</th>\n",
              "      <th>Factor</th>\n",
              "      <th>Event</th>\n",
              "      <th>약물 투약력</th>\n",
              "      <th>사회력</th>\n",
              "      <th>가족력</th>\n",
              "      <th>외상력</th>\n",
              "      <th>과거력</th>\n",
              "      <th>여성력</th>\n",
              "      <th>Level1</th>\n",
              "      <th>BMI</th>\n",
              "      <th>Obesity</th>\n",
              "      <th>All</th>\n",
              "    </tr>\n",
              "  </thead>\n",
              "  <tbody>\n",
              "    <tr>\n",
              "      <th>0</th>\n",
              "      <td>급성 복통</td>\n",
              "      <td>소화성 궤양</td>\n",
              "      <td>배가 아파요</td>\n",
              "      <td>남자</td>\n",
              "      <td>50대</td>\n",
              "      <td>170.0</td>\n",
              "      <td>80.0</td>\n",
              "      <td>1일전</td>\n",
              "      <td>명치 부위</td>\n",
              "      <td>지속</td>\n",
              "      <td>심해짐</td>\n",
              "      <td>이전에도 3차례, 통증은 이번보다 약했음</td>\n",
              "      <td>칼로 찢기는 듯한 통증, 통증 심함, 방사통(#), 등으로 퍼짐,</td>\n",
              "      <td>, 구토 (# 2회 흰 물만 나옴 ), 속쓰림, [응급] 어지러움 (#), 갈증 (...</td>\n",
              "      <td>자세에 따른 변화(#), 오른쪽으로 돌아 누우면 완화, 반듯이 누우면 악화,</td>\n",
              "      <td></td>\n",
              "      <td></td>\n",
              "      <td>술(#), 1주일 6~7번, 하루 소주 2~3병, 담배(#), 30갑년, 식사 , ...</td>\n",
              "      <td></td>\n",
              "      <td></td>\n",
              "      <td></td>\n",
              "      <td></td>\n",
              "      <td>digestive</td>\n",
              "      <td>27.681661</td>\n",
              "      <td>과체중</td>\n",
              "      <td>배 아프다 50 대다 남자 1일 전 명치 부위 지속 심해지다 이전 에도 3 차례 통...</td>\n",
              "    </tr>\n",
              "    <tr>\n",
              "      <th>1</th>\n",
              "      <td>급성 복통</td>\n",
              "      <td>소화성 궤양</td>\n",
              "      <td>갑자기 배가 너무 아파요</td>\n",
              "      <td>남자</td>\n",
              "      <td>30대</td>\n",
              "      <td>165.0</td>\n",
              "      <td>70.0</td>\n",
              "      <td>오늘 새벽</td>\n",
              "      <td>명치에서 시작해 현재 복부 전체에 통증</td>\n",
              "      <td>지속</td>\n",
              "      <td>심해짐</td>\n",
              "      <td>이전에도 한 번 겪음</td>\n",
              "      <td>계속 쓰림, 통증 중간</td>\n",
              "      <td>구역질, 구토, 식욕감소</td>\n",
              "      <td>앞으로 숙이는 경우 완화</td>\n",
              "      <td>2년 전 건강 검진 상 이상 없음</td>\n",
              "      <td>관절염 약(진통소염제),</td>\n",
              "      <td>술, 회, 주 2~3회), 회사원, 회식이 잦고 폭음하는 경우가 있음,</td>\n",
              "      <td></td>\n",
              "      <td></td>\n",
              "      <td></td>\n",
              "      <td></td>\n",
              "      <td>digestive</td>\n",
              "      <td>25.711662</td>\n",
              "      <td>과체중</td>\n",
              "      <td>갑자기 배 너무 아프다 30 대다 남자 오늘 새벽 명치 에서 시작 현재 복부 전체 ...</td>\n",
              "    </tr>\n",
              "    <tr>\n",
              "      <th>2</th>\n",
              "      <td>급성 복통</td>\n",
              "      <td>소화성 궤양</td>\n",
              "      <td>속이 쓰려요</td>\n",
              "      <td>여자</td>\n",
              "      <td>70대</td>\n",
              "      <td>160.0</td>\n",
              "      <td>48.0</td>\n",
              "      <td>1달전</td>\n",
              "      <td>명치 부위</td>\n",
              "      <td>지속</td>\n",
              "      <td>심해짐</td>\n",
              "      <td></td>\n",
              "      <td>속이 쓰림, 통증 약함</td>\n",
              "      <td>구역질, 신물이 올라와요</td>\n",
              "      <td>누워있으면 심해져요</td>\n",
              "      <td></td>\n",
              "      <td>관절염약 복용중</td>\n",
              "      <td></td>\n",
              "      <td></td>\n",
              "      <td></td>\n",
              "      <td>HTN(#), DM (#),</td>\n",
              "      <td></td>\n",
              "      <td>digestive</td>\n",
              "      <td>18.750000</td>\n",
              "      <td>저체중</td>\n",
              "      <td>속이다 쓰리다 70 대다 여자 1 달 전 명치 부위 지속 심해지다 속이다 쓰리다 통...</td>\n",
              "    </tr>\n",
              "    <tr>\n",
              "      <th>3</th>\n",
              "      <td>급성 복통</td>\n",
              "      <td>소화성 궤양</td>\n",
              "      <td>속이 쓰려요</td>\n",
              "      <td>남자</td>\n",
              "      <td>10대</td>\n",
              "      <td>160.0</td>\n",
              "      <td>58.0</td>\n",
              "      <td>2달전</td>\n",
              "      <td>명치부위</td>\n",
              "      <td>지속</td>\n",
              "      <td>심해짐</td>\n",
              "      <td></td>\n",
              "      <td>명치부위 압통, 속쓰림</td>\n",
              "      <td>구토</td>\n",
              "      <td></td>\n",
              "      <td></td>\n",
              "      <td>철분제</td>\n",
              "      <td></td>\n",
              "      <td></td>\n",
              "      <td></td>\n",
              "      <td></td>\n",
              "      <td></td>\n",
              "      <td>digestive</td>\n",
              "      <td>22.656250</td>\n",
              "      <td>정상</td>\n",
              "      <td>속이다 쓰리다 10 대다 남자 2 달 전 명치 부위 지속 심해지다 명치 부위 누르다...</td>\n",
              "    </tr>\n",
              "    <tr>\n",
              "      <th>4</th>\n",
              "      <td>급성 복통</td>\n",
              "      <td>소화성 궤양</td>\n",
              "      <td>배가 아파요</td>\n",
              "      <td>남자</td>\n",
              "      <td>60대</td>\n",
              "      <td>170.0</td>\n",
              "      <td>65.0</td>\n",
              "      <td>1시간전</td>\n",
              "      <td>명치부위</td>\n",
              "      <td>지속</td>\n",
              "      <td>심해짐</td>\n",
              "      <td></td>\n",
              "      <td>명치 부위가 아프고 쓰림</td>\n",
              "      <td></td>\n",
              "      <td></td>\n",
              "      <td></td>\n",
              "      <td>고혈압약</td>\n",
              "      <td>5년전 알코올 중독</td>\n",
              "      <td></td>\n",
              "      <td></td>\n",
              "      <td>HTN(#),</td>\n",
              "      <td></td>\n",
              "      <td>digestive</td>\n",
              "      <td>22.491349</td>\n",
              "      <td>정상</td>\n",
              "      <td>배 아프다 60 대다 남자 1시간 전 명치 부위 지속 심해지다 명치 부위 아프다 쓰...</td>\n",
              "    </tr>\n",
              "    <tr>\n",
              "      <th>...</th>\n",
              "      <td>...</td>\n",
              "      <td>...</td>\n",
              "      <td>...</td>\n",
              "      <td>...</td>\n",
              "      <td>...</td>\n",
              "      <td>...</td>\n",
              "      <td>...</td>\n",
              "      <td>...</td>\n",
              "      <td>...</td>\n",
              "      <td>...</td>\n",
              "      <td>...</td>\n",
              "      <td>...</td>\n",
              "      <td>...</td>\n",
              "      <td>...</td>\n",
              "      <td>...</td>\n",
              "      <td>...</td>\n",
              "      <td>...</td>\n",
              "      <td>...</td>\n",
              "      <td>...</td>\n",
              "      <td>...</td>\n",
              "      <td>...</td>\n",
              "      <td>...</td>\n",
              "      <td>...</td>\n",
              "      <td>...</td>\n",
              "      <td>...</td>\n",
              "      <td>...</td>\n",
              "    </tr>\n",
              "    <tr>\n",
              "      <th>2251</th>\n",
              "      <td>미정</td>\n",
              "      <td>폐결핵</td>\n",
              "      <td></td>\n",
              "      <td>여자</td>\n",
              "      <td>60대</td>\n",
              "      <td>152.3</td>\n",
              "      <td>45.8</td>\n",
              "      <td>1일 전</td>\n",
              "      <td>기침 시에 발생</td>\n",
              "      <td>하루 종일 지속됨</td>\n",
              "      <td>약간 심해짐</td>\n",
              "      <td>처음</td>\n",
              "      <td>기침, 가래, 선홍색</td>\n",
              "      <td>발열(#), 오한(#), 체중감소(#),</td>\n",
              "      <td></td>\n",
              "      <td>, 2년 전 건강 검진 시 정상 소견,</td>\n",
              "      <td>2주 전 감기약 먹음, 평소 비타민 복용,</td>\n",
              "      <td>, 담배(#),</td>\n",
              "      <td>아버지(고혈압),</td>\n",
              "      <td></td>\n",
              "      <td>고혈압(#),</td>\n",
              "      <td>규칙적인 월경, 보통인 월경량, 첫날에만 통증 있음</td>\n",
              "      <td>미정</td>\n",
              "      <td>19.745388</td>\n",
              "      <td>저체중</td>\n",
              "      <td>60 대다 여자 1일 전 기침 시 발생 하루 종일 지속 되다 약간 심해지다 처음 기...</td>\n",
              "    </tr>\n",
              "    <tr>\n",
              "      <th>2252</th>\n",
              "      <td>미정</td>\n",
              "      <td>역류성 식도염</td>\n",
              "      <td>속이 아파요</td>\n",
              "      <td>여자</td>\n",
              "      <td>30대</td>\n",
              "      <td>155.0</td>\n",
              "      <td>70.0</td>\n",
              "      <td>3일전</td>\n",
              "      <td>상복부 중앙</td>\n",
              "      <td>지속</td>\n",
              "      <td>심해짐</td>\n",
              "      <td>종종</td>\n",
              "      <td>쓰라린 느낌</td>\n",
              "      <td>구역(#), 등쪽 통증(#), 식은땀(#), 울렁거림(#), 설사(#), 어지러움(...</td>\n",
              "      <td>식후 심해짐</td>\n",
              "      <td>작년 건강검진상 GERD 진단, 약은 먹지 않음</td>\n",
              "      <td></td>\n",
              "      <td>술(#), 하루 맥주 2잔,</td>\n",
              "      <td></td>\n",
              "      <td></td>\n",
              "      <td></td>\n",
              "      <td></td>\n",
              "      <td>미정</td>\n",
              "      <td>29.136316</td>\n",
              "      <td>비만</td>\n",
              "      <td>속이다 아프다 30 대다 여자 3일 전 윗 배 중앙 지속 심해지다 종종 쓰라리다 느...</td>\n",
              "    </tr>\n",
              "    <tr>\n",
              "      <th>2253</th>\n",
              "      <td>미정</td>\n",
              "      <td>대상포진</td>\n",
              "      <td>따끔 거려요</td>\n",
              "      <td>여자</td>\n",
              "      <td>60대</td>\n",
              "      <td>152.0</td>\n",
              "      <td>62.0</td>\n",
              "      <td>어제부터</td>\n",
              "      <td>오른쪽 무릅 및 발등</td>\n",
              "      <td>지속</td>\n",
              "      <td>심해짐</td>\n",
              "      <td>처음</td>\n",
              "      <td>따끔거리는 통증, 가려움 동반</td>\n",
              "      <td></td>\n",
              "      <td></td>\n",
              "      <td></td>\n",
              "      <td></td>\n",
              "      <td></td>\n",
              "      <td></td>\n",
              "      <td></td>\n",
              "      <td>섬유신경종</td>\n",
              "      <td></td>\n",
              "      <td>미정</td>\n",
              "      <td>26.835180</td>\n",
              "      <td>과체중</td>\n",
              "      <td>따끔 걸리다 60 대다 여자 어제 부터 오른쪽 무릎 및 발등 지속 심해지다 처음 따...</td>\n",
              "    </tr>\n",
              "    <tr>\n",
              "      <th>2254</th>\n",
              "      <td>미정</td>\n",
              "      <td>방광염</td>\n",
              "      <td>소변볼때 불편해요</td>\n",
              "      <td>여자</td>\n",
              "      <td>50대</td>\n",
              "      <td>160.0</td>\n",
              "      <td>65.0</td>\n",
              "      <td>5일전부터</td>\n",
              "      <td>하복부</td>\n",
              "      <td>지속</td>\n",
              "      <td>심해짐</td>\n",
              "      <td>처음</td>\n",
              "      <td></td>\n",
              "      <td>배뇨통(#), 피곤감(#),</td>\n",
              "      <td></td>\n",
              "      <td>최근 회사일로 피곤</td>\n",
              "      <td></td>\n",
              "      <td></td>\n",
              "      <td></td>\n",
              "      <td></td>\n",
              "      <td></td>\n",
              "      <td></td>\n",
              "      <td>미정</td>\n",
              "      <td>25.390625</td>\n",
              "      <td>과체중</td>\n",
              "      <td>소변 볼 때 불편하다 50 대다 여자 5일 전 부터 아랫 배 지속 심해지다 처음 배...</td>\n",
              "    </tr>\n",
              "    <tr>\n",
              "      <th>2255</th>\n",
              "      <td>미정</td>\n",
              "      <td>방광염</td>\n",
              "      <td>혈뇨가 나와요</td>\n",
              "      <td>여자</td>\n",
              "      <td>40대</td>\n",
              "      <td>158.0</td>\n",
              "      <td>55.0</td>\n",
              "      <td>3일전</td>\n",
              "      <td>하복부</td>\n",
              "      <td>지속</td>\n",
              "      <td>심해짐</td>\n",
              "      <td>종종</td>\n",
              "      <td>선홍색 육안적 혈뇨</td>\n",
              "      <td>배뇨통(#), 혈뇨(#), 피곤감(#),</td>\n",
              "      <td></td>\n",
              "      <td></td>\n",
              "      <td></td>\n",
              "      <td></td>\n",
              "      <td></td>\n",
              "      <td></td>\n",
              "      <td></td>\n",
              "      <td></td>\n",
              "      <td>미정</td>\n",
              "      <td>22.031726</td>\n",
              "      <td>정상</td>\n",
              "      <td>혈뇨 나오다 40 대다 여자 3일 전 아랫 배 지속 심해지다 종종 선 홍색 육안 적...</td>\n",
              "    </tr>\n",
              "  </tbody>\n",
              "</table>\n",
              "<p>2256 rows × 26 columns</p>\n",
              "</div>\n",
              "      <button class=\"colab-df-convert\" onclick=\"convertToInteractive('df-25dc80bc-2a93-46ab-8b24-bb9801e7a705')\"\n",
              "              title=\"Convert this dataframe to an interactive table.\"\n",
              "              style=\"display:none;\">\n",
              "        \n",
              "  <svg xmlns=\"http://www.w3.org/2000/svg\" height=\"24px\"viewBox=\"0 0 24 24\"\n",
              "       width=\"24px\">\n",
              "    <path d=\"M0 0h24v24H0V0z\" fill=\"none\"/>\n",
              "    <path d=\"M18.56 5.44l.94 2.06.94-2.06 2.06-.94-2.06-.94-.94-2.06-.94 2.06-2.06.94zm-11 1L8.5 8.5l.94-2.06 2.06-.94-2.06-.94L8.5 2.5l-.94 2.06-2.06.94zm10 10l.94 2.06.94-2.06 2.06-.94-2.06-.94-.94-2.06-.94 2.06-2.06.94z\"/><path d=\"M17.41 7.96l-1.37-1.37c-.4-.4-.92-.59-1.43-.59-.52 0-1.04.2-1.43.59L10.3 9.45l-7.72 7.72c-.78.78-.78 2.05 0 2.83L4 21.41c.39.39.9.59 1.41.59.51 0 1.02-.2 1.41-.59l7.78-7.78 2.81-2.81c.8-.78.8-2.07 0-2.86zM5.41 20L4 18.59l7.72-7.72 1.47 1.35L5.41 20z\"/>\n",
              "  </svg>\n",
              "      </button>\n",
              "      \n",
              "  <style>\n",
              "    .colab-df-container {\n",
              "      display:flex;\n",
              "      flex-wrap:wrap;\n",
              "      gap: 12px;\n",
              "    }\n",
              "\n",
              "    .colab-df-convert {\n",
              "      background-color: #E8F0FE;\n",
              "      border: none;\n",
              "      border-radius: 50%;\n",
              "      cursor: pointer;\n",
              "      display: none;\n",
              "      fill: #1967D2;\n",
              "      height: 32px;\n",
              "      padding: 0 0 0 0;\n",
              "      width: 32px;\n",
              "    }\n",
              "\n",
              "    .colab-df-convert:hover {\n",
              "      background-color: #E2EBFA;\n",
              "      box-shadow: 0px 1px 2px rgba(60, 64, 67, 0.3), 0px 1px 3px 1px rgba(60, 64, 67, 0.15);\n",
              "      fill: #174EA6;\n",
              "    }\n",
              "\n",
              "    [theme=dark] .colab-df-convert {\n",
              "      background-color: #3B4455;\n",
              "      fill: #D2E3FC;\n",
              "    }\n",
              "\n",
              "    [theme=dark] .colab-df-convert:hover {\n",
              "      background-color: #434B5C;\n",
              "      box-shadow: 0px 1px 3px 1px rgba(0, 0, 0, 0.15);\n",
              "      filter: drop-shadow(0px 1px 2px rgba(0, 0, 0, 0.3));\n",
              "      fill: #FFFFFF;\n",
              "    }\n",
              "  </style>\n",
              "\n",
              "      <script>\n",
              "        const buttonEl =\n",
              "          document.querySelector('#df-25dc80bc-2a93-46ab-8b24-bb9801e7a705 button.colab-df-convert');\n",
              "        buttonEl.style.display =\n",
              "          google.colab.kernel.accessAllowed ? 'block' : 'none';\n",
              "\n",
              "        async function convertToInteractive(key) {\n",
              "          const element = document.querySelector('#df-25dc80bc-2a93-46ab-8b24-bb9801e7a705');\n",
              "          const dataTable =\n",
              "            await google.colab.kernel.invokeFunction('convertToInteractive',\n",
              "                                                     [key], {});\n",
              "          if (!dataTable) return;\n",
              "\n",
              "          const docLinkHtml = 'Like what you see? Visit the ' +\n",
              "            '<a target=\"_blank\" href=https://colab.research.google.com/notebooks/data_table.ipynb>data table notebook</a>'\n",
              "            + ' to learn more about interactive tables.';\n",
              "          element.innerHTML = '';\n",
              "          dataTable['output_type'] = 'display_data';\n",
              "          await google.colab.output.renderOutput(dataTable, element);\n",
              "          const docLink = document.createElement('div');\n",
              "          docLink.innerHTML = docLinkHtml;\n",
              "          element.appendChild(docLink);\n",
              "        }\n",
              "      </script>\n",
              "    </div>\n",
              "  </div>\n",
              "  "
            ],
            "text/plain": [
              "     level2 level5/diagnosis Chief complaint Sex  Age  Height  Weight  Onset  \\\n",
              "0     급성 복통           소화성 궤양          배가 아파요  남자  50대   170.0    80.0    1일전   \n",
              "1     급성 복통           소화성 궤양   갑자기 배가 너무 아파요  남자  30대   165.0    70.0  오늘 새벽   \n",
              "2     급성 복통           소화성 궤양          속이 쓰려요  여자  70대   160.0    48.0    1달전   \n",
              "3     급성 복통           소화성 궤양          속이 쓰려요  남자  10대   160.0    58.0    2달전   \n",
              "4     급성 복통           소화성 궤양          배가 아파요  남자  60대   170.0    65.0   1시간전   \n",
              "...     ...              ...             ...  ..  ...     ...     ...    ...   \n",
              "2251     미정              폐결핵                  여자  60대   152.3    45.8   1일 전   \n",
              "2252     미정          역류성 식도염          속이 아파요  여자  30대   155.0    70.0    3일전   \n",
              "2253     미정             대상포진          따끔 거려요  여자  60대   152.0    62.0   어제부터   \n",
              "2254     미정              방광염       소변볼때 불편해요  여자  50대   160.0    65.0  5일전부터   \n",
              "2255     미정              방광염         혈뇨가 나와요  여자  40대   158.0    55.0    3일전   \n",
              "\n",
              "                   Location   Duration  Course               Experience  \\\n",
              "0                     명치 부위         지속     심해짐  이전에도 3차례, 통증은 이번보다 약했음    \n",
              "1     명치에서 시작해 현재 복부 전체에 통증         지속     심해짐              이전에도 한 번 겪음   \n",
              "2                     명치 부위         지속     심해짐                            \n",
              "3                     명치부위          지속     심해짐                            \n",
              "4                      명치부위         지속     심해짐                            \n",
              "...                     ...        ...     ...                      ...   \n",
              "2251               기침 시에 발생  하루 종일 지속됨  약간 심해짐                       처음   \n",
              "2252                 상복부 중앙         지속     심해짐                       종종   \n",
              "2253            오른쪽 무릅 및 발등         지속     심해짐                       처음   \n",
              "2254                    하복부         지속     심해짐                       처음   \n",
              "2255                   하복부          지속     심해짐                       종종   \n",
              "\n",
              "                                  Character  \\\n",
              "0     칼로 찢기는 듯한 통증, 통증 심함, 방사통(#), 등으로 퍼짐,    \n",
              "1                              계속 쓰림, 통증 중간   \n",
              "2                              속이 쓰림, 통증 약함   \n",
              "3                              명치부위 압통, 속쓰림   \n",
              "4                             명치 부위가 아프고 쓰림   \n",
              "...                                     ...   \n",
              "2251                            기침, 가래, 선홍색   \n",
              "2252                                 쓰라린 느낌   \n",
              "2253                       따끔거리는 통증, 가려움 동반   \n",
              "2254                                          \n",
              "2255                             선홍색 육안적 혈뇨   \n",
              "\n",
              "                                         Associated Sx.  \\\n",
              "0     , 구토 (# 2회 흰 물만 나옴 ), 속쓰림, [응급] 어지러움 (#), 갈증 (...   \n",
              "1                                         구역질, 구토, 식욕감소   \n",
              "2                                         구역질, 신물이 올라와요   \n",
              "3                                                    구토   \n",
              "4                                                         \n",
              "...                                                 ...   \n",
              "2251                            발열(#), 오한(#), 체중감소(#),    \n",
              "2252  구역(#), 등쪽 통증(#), 식은땀(#), 울렁거림(#), 설사(#), 어지러움(...   \n",
              "2253                                                      \n",
              "2254                                   배뇨통(#), 피곤감(#),    \n",
              "2255                            배뇨통(#), 혈뇨(#), 피곤감(#),    \n",
              "\n",
              "                                           Factor                       Event  \\\n",
              "0     자세에 따른 변화(#), 오른쪽으로 돌아 누우면 완화, 반듯이 누우면 악화,                                \n",
              "1                                   앞으로 숙이는 경우 완화          2년 전 건강 검진 상 이상 없음   \n",
              "2                                      누워있으면 심해져요                               \n",
              "3                                                                               \n",
              "4                                                                               \n",
              "...                                           ...                         ...   \n",
              "2251                                                   , 2년 전 건강 검진 시 정상 소견,    \n",
              "2252                                       식후 심해짐  작년 건강검진상 GERD 진단, 약은 먹지 않음   \n",
              "2253                                                                            \n",
              "2254                                                               최근 회사일로 피곤   \n",
              "2255                                                                            \n",
              "\n",
              "                        약물 투약력  \\\n",
              "0                                \n",
              "1               관절염 약(진통소염제),    \n",
              "2                     관절염약 복용중   \n",
              "3                          철분제   \n",
              "4                         고혈압약   \n",
              "...                        ...   \n",
              "2251  2주 전 감기약 먹음, 평소 비타민 복용,    \n",
              "2252                             \n",
              "2253                             \n",
              "2254                             \n",
              "2255                             \n",
              "\n",
              "                                                    사회력         가족력 외상력  \\\n",
              "0     술(#), 1주일 6~7번, 하루 소주 2~3병, 담배(#), 30갑년, 식사 , ...                   \n",
              "1              술, 회, 주 2~3회), 회사원, 회식이 잦고 폭음하는 경우가 있음,                    \n",
              "2                                                                         \n",
              "3                                                                         \n",
              "4                                            5년전 알코올 중독                   \n",
              "...                                                 ...         ...  ..   \n",
              "2251                                          , 담배(#),   아버지(고혈압),        \n",
              "2252                                   술(#), 하루 맥주 2잔,                    \n",
              "2253                                                                      \n",
              "2254                                                                      \n",
              "2255                                                                      \n",
              "\n",
              "                   과거력                           여성력     Level1        BMI  \\\n",
              "0                                                     digestive  27.681661   \n",
              "1                                                     digestive  25.711662   \n",
              "2     HTN(#), DM (#),                                 digestive  18.750000   \n",
              "3                                                     digestive  22.656250   \n",
              "4             HTN(#),                                 digestive  22.491349   \n",
              "...                ...                           ...        ...        ...   \n",
              "2251          고혈압(#),   규칙적인 월경, 보통인 월경량, 첫날에만 통증 있음         미정  19.745388   \n",
              "2252                                                         미정  29.136316   \n",
              "2253             섬유신경종                                       미정  26.835180   \n",
              "2254                                                         미정  25.390625   \n",
              "2255                                                         미정  22.031726   \n",
              "\n",
              "     Obesity                                                All  \n",
              "0        과체중  배 아프다 50 대다 남자 1일 전 명치 부위 지속 심해지다 이전 에도 3 차례 통...  \n",
              "1        과체중  갑자기 배 너무 아프다 30 대다 남자 오늘 새벽 명치 에서 시작 현재 복부 전체 ...  \n",
              "2        저체중  속이다 쓰리다 70 대다 여자 1 달 전 명치 부위 지속 심해지다 속이다 쓰리다 통...  \n",
              "3         정상  속이다 쓰리다 10 대다 남자 2 달 전 명치 부위 지속 심해지다 명치 부위 누르다...  \n",
              "4         정상  배 아프다 60 대다 남자 1시간 전 명치 부위 지속 심해지다 명치 부위 아프다 쓰...  \n",
              "...      ...                                                ...  \n",
              "2251     저체중  60 대다 여자 1일 전 기침 시 발생 하루 종일 지속 되다 약간 심해지다 처음 기...  \n",
              "2252      비만  속이다 아프다 30 대다 여자 3일 전 윗 배 중앙 지속 심해지다 종종 쓰라리다 느...  \n",
              "2253     과체중  따끔 걸리다 60 대다 여자 어제 부터 오른쪽 무릎 및 발등 지속 심해지다 처음 따...  \n",
              "2254     과체중  소변 볼 때 불편하다 50 대다 여자 5일 전 부터 아랫 배 지속 심해지다 처음 배...  \n",
              "2255      정상  혈뇨 나오다 40 대다 여자 3일 전 아랫 배 지속 심해지다 종종 선 홍색 육안 적...  \n",
              "\n",
              "[2256 rows x 26 columns]"
            ]
          },
          "execution_count": 82,
          "metadata": {},
          "output_type": "execute_result"
        }
      ],
      "source": [
        "#data_test = data.copy()\n",
        "#data_test"
      ]
    },
    {
      "cell_type": "code",
      "execution_count": 25,
      "metadata": {
        "colab": {
          "base_uri": "https://localhost:8080/",
          "height": 1000
        },
        "id": "ZoH4yLHXYWFT",
        "outputId": "59ad7170-8016-41a5-c224-3a71b2afc8fb"
      },
      "outputs": [
        {
          "data": {
            "text/html": [
              "\n",
              "  <div id=\"df-9637cc39-cebe-42c9-aeb6-2b89e577dc55\">\n",
              "    <div class=\"colab-df-container\">\n",
              "      <div>\n",
              "<style scoped>\n",
              "    .dataframe tbody tr th:only-of-type {\n",
              "        vertical-align: middle;\n",
              "    }\n",
              "\n",
              "    .dataframe tbody tr th {\n",
              "        vertical-align: top;\n",
              "    }\n",
              "\n",
              "    .dataframe thead th {\n",
              "        text-align: right;\n",
              "    }\n",
              "</style>\n",
              "<table border=\"1\" class=\"dataframe\">\n",
              "  <thead>\n",
              "    <tr style=\"text-align: right;\">\n",
              "      <th></th>\n",
              "      <th>level2</th>\n",
              "      <th>level5/diagnosis</th>\n",
              "      <th>Chief complaint</th>\n",
              "      <th>Sex</th>\n",
              "      <th>Age</th>\n",
              "      <th>Height</th>\n",
              "      <th>Weight</th>\n",
              "      <th>Onset</th>\n",
              "      <th>Location</th>\n",
              "      <th>Duration</th>\n",
              "      <th>Course</th>\n",
              "      <th>Experience</th>\n",
              "      <th>Character</th>\n",
              "      <th>Associated Sx.</th>\n",
              "      <th>Factor</th>\n",
              "      <th>Event</th>\n",
              "      <th>약물 투약력</th>\n",
              "      <th>사회력</th>\n",
              "      <th>가족력</th>\n",
              "      <th>외상력</th>\n",
              "      <th>과거력</th>\n",
              "      <th>여성력</th>\n",
              "      <th>Level1</th>\n",
              "      <th>BMI</th>\n",
              "      <th>Obesity</th>\n",
              "      <th>All</th>\n",
              "    </tr>\n",
              "  </thead>\n",
              "  <tbody>\n",
              "    <tr>\n",
              "      <th>0</th>\n",
              "      <td>급성 복통</td>\n",
              "      <td>소화성 궤양</td>\n",
              "      <td>배가 아파요</td>\n",
              "      <td>남자</td>\n",
              "      <td>50대</td>\n",
              "      <td>170</td>\n",
              "      <td>80</td>\n",
              "      <td>1일전</td>\n",
              "      <td>명치 부위</td>\n",
              "      <td>지속</td>\n",
              "      <td>심해짐</td>\n",
              "      <td>이전에도 3차례, 통증은 이번보다 약했음</td>\n",
              "      <td>칼로 찢기는 듯한 통증, 통증 심함, 방사통(+), 등으로 퍼짐,</td>\n",
              "      <td>, 구토 (+ 2회 흰 물만 나옴 ), 속쓰림, [응급] 어지러움 (+), 갈증 (...</td>\n",
              "      <td>자세에 따른 변화(+), 오른쪽으로 돌아 누우면 완화, 반듯이 누우면 악화,</td>\n",
              "      <td></td>\n",
              "      <td></td>\n",
              "      <td>술(+), 1주일 6~7번, 하루 소주 2~3병, 담배(+), 30갑년, 식사 , ...</td>\n",
              "      <td></td>\n",
              "      <td></td>\n",
              "      <td></td>\n",
              "      <td></td>\n",
              "      <td>digestive</td>\n",
              "      <td>27.681661</td>\n",
              "      <td>과체중</td>\n",
              "      <td>배 아프다 50 대다 남자 1일 전 명치 부위 지속 심해지다 이전 에도 3 차례 통...</td>\n",
              "    </tr>\n",
              "    <tr>\n",
              "      <th>1</th>\n",
              "      <td>급성 복통</td>\n",
              "      <td>소화성 궤양</td>\n",
              "      <td>갑자기 배가 너무 아파요</td>\n",
              "      <td>남자</td>\n",
              "      <td>30대</td>\n",
              "      <td>165</td>\n",
              "      <td>70</td>\n",
              "      <td>오늘 새벽</td>\n",
              "      <td>명치에서 시작해 현재 복부 전체에 통증</td>\n",
              "      <td>지속</td>\n",
              "      <td>심해짐</td>\n",
              "      <td>이전에도 한 번 겪음</td>\n",
              "      <td>계속 쓰림, 통증 중간</td>\n",
              "      <td>구역질, 구토, 식욕감소</td>\n",
              "      <td>앞으로 숙이는 경우 완화</td>\n",
              "      <td>2년 전 건강 검진 상 이상 없음</td>\n",
              "      <td>관절염 약(진통소염제),</td>\n",
              "      <td>술, 회, 주 2~3회), 회사원, 회식이 잦고 폭음하는 경우가 있음,</td>\n",
              "      <td></td>\n",
              "      <td></td>\n",
              "      <td></td>\n",
              "      <td></td>\n",
              "      <td>digestive</td>\n",
              "      <td>25.711662</td>\n",
              "      <td>과체중</td>\n",
              "      <td>갑자기 배 너무 아프다 30 대다 남자 오늘 새벽 명치 에서 시작 현재 복부 전체 ...</td>\n",
              "    </tr>\n",
              "    <tr>\n",
              "      <th>2</th>\n",
              "      <td>급성 복통</td>\n",
              "      <td>소화성 궤양</td>\n",
              "      <td>속이 쓰려요</td>\n",
              "      <td>여자</td>\n",
              "      <td>70대</td>\n",
              "      <td>160</td>\n",
              "      <td>48</td>\n",
              "      <td>1달전</td>\n",
              "      <td>명치 부위</td>\n",
              "      <td>지속</td>\n",
              "      <td>심해짐</td>\n",
              "      <td></td>\n",
              "      <td>속이 쓰림, 통증 약함</td>\n",
              "      <td>구역질, 신물이 올라와요</td>\n",
              "      <td>누워있으면 심해져요</td>\n",
              "      <td></td>\n",
              "      <td>관절염약 복용중</td>\n",
              "      <td></td>\n",
              "      <td></td>\n",
              "      <td></td>\n",
              "      <td>HTN(+), DM (+),</td>\n",
              "      <td></td>\n",
              "      <td>digestive</td>\n",
              "      <td>18.750000</td>\n",
              "      <td>저체중</td>\n",
              "      <td>속이다 쓰리다 70 대다 여자 1 달 전 명치 부위 지속 심해지다 속이다 쓰리다 통...</td>\n",
              "    </tr>\n",
              "    <tr>\n",
              "      <th>3</th>\n",
              "      <td>급성 복통</td>\n",
              "      <td>소화성 궤양</td>\n",
              "      <td>속이 쓰려요</td>\n",
              "      <td>남자</td>\n",
              "      <td>10대</td>\n",
              "      <td>160</td>\n",
              "      <td>58</td>\n",
              "      <td>2달전</td>\n",
              "      <td>명치부위</td>\n",
              "      <td>지속</td>\n",
              "      <td>심해짐</td>\n",
              "      <td></td>\n",
              "      <td>명치부위 압통, 속쓰림</td>\n",
              "      <td>구토</td>\n",
              "      <td></td>\n",
              "      <td></td>\n",
              "      <td>철분제</td>\n",
              "      <td></td>\n",
              "      <td></td>\n",
              "      <td></td>\n",
              "      <td></td>\n",
              "      <td></td>\n",
              "      <td>digestive</td>\n",
              "      <td>22.656250</td>\n",
              "      <td>정상</td>\n",
              "      <td>속이다 쓰리다 10 대다 남자 2 달 전 명치 부위 지속 심해지다 명치 부위 누르다...</td>\n",
              "    </tr>\n",
              "    <tr>\n",
              "      <th>4</th>\n",
              "      <td>급성 복통</td>\n",
              "      <td>소화성 궤양</td>\n",
              "      <td>배가 아파요</td>\n",
              "      <td>남자</td>\n",
              "      <td>60대</td>\n",
              "      <td>170</td>\n",
              "      <td>65</td>\n",
              "      <td>1시간전</td>\n",
              "      <td>명치부위</td>\n",
              "      <td>지속</td>\n",
              "      <td>심해짐</td>\n",
              "      <td></td>\n",
              "      <td>명치 부위가 아프고 쓰림</td>\n",
              "      <td></td>\n",
              "      <td></td>\n",
              "      <td></td>\n",
              "      <td>고혈압약</td>\n",
              "      <td>5년전 알코올 중독</td>\n",
              "      <td></td>\n",
              "      <td></td>\n",
              "      <td>HTN(+),</td>\n",
              "      <td></td>\n",
              "      <td>digestive</td>\n",
              "      <td>22.491349</td>\n",
              "      <td>정상</td>\n",
              "      <td>배 아프다 60 대다 남자 1시간 전 명치 부위 지속 심해지다 명치 부위 아프다 쓰...</td>\n",
              "    </tr>\n",
              "    <tr>\n",
              "      <th>...</th>\n",
              "      <td>...</td>\n",
              "      <td>...</td>\n",
              "      <td>...</td>\n",
              "      <td>...</td>\n",
              "      <td>...</td>\n",
              "      <td>...</td>\n",
              "      <td>...</td>\n",
              "      <td>...</td>\n",
              "      <td>...</td>\n",
              "      <td>...</td>\n",
              "      <td>...</td>\n",
              "      <td>...</td>\n",
              "      <td>...</td>\n",
              "      <td>...</td>\n",
              "      <td>...</td>\n",
              "      <td>...</td>\n",
              "      <td>...</td>\n",
              "      <td>...</td>\n",
              "      <td>...</td>\n",
              "      <td>...</td>\n",
              "      <td>...</td>\n",
              "      <td>...</td>\n",
              "      <td>...</td>\n",
              "      <td>...</td>\n",
              "      <td>...</td>\n",
              "      <td>...</td>\n",
              "    </tr>\n",
              "    <tr>\n",
              "      <th>2251</th>\n",
              "      <td>미정</td>\n",
              "      <td>폐결핵</td>\n",
              "      <td></td>\n",
              "      <td>여자</td>\n",
              "      <td>60대</td>\n",
              "      <td>152</td>\n",
              "      <td>45</td>\n",
              "      <td>1일 전</td>\n",
              "      <td>기침 시에 발생</td>\n",
              "      <td>하루 종일 지속됨</td>\n",
              "      <td>약간 심해짐</td>\n",
              "      <td>처음</td>\n",
              "      <td>기침, 가래, 선홍색</td>\n",
              "      <td>발열(+), 오한(+), 체중감소(+),</td>\n",
              "      <td></td>\n",
              "      <td>, 2년 전 건강 검진 시 정상 소견,</td>\n",
              "      <td>2주 전 감기약 먹음, 평소 비타민 복용,</td>\n",
              "      <td>, 담배(+),</td>\n",
              "      <td>아버지(고혈압),</td>\n",
              "      <td></td>\n",
              "      <td>고혈압(+),</td>\n",
              "      <td>규칙적인 월경, 보통인 월경량, 첫날에만 통증 있음</td>\n",
              "      <td>미정</td>\n",
              "      <td>19.477147</td>\n",
              "      <td>저체중</td>\n",
              "      <td>60 대다 여자 1일 전 기침 시 발생 하루 종일 지속 되다 약간 심해지다 처음 기...</td>\n",
              "    </tr>\n",
              "    <tr>\n",
              "      <th>2252</th>\n",
              "      <td>미정</td>\n",
              "      <td>역류성 식도염</td>\n",
              "      <td>속이 아파요</td>\n",
              "      <td>여자</td>\n",
              "      <td>30대</td>\n",
              "      <td>155</td>\n",
              "      <td>70</td>\n",
              "      <td>3일전</td>\n",
              "      <td>상복부 중앙</td>\n",
              "      <td>지속</td>\n",
              "      <td>심해짐</td>\n",
              "      <td>종종</td>\n",
              "      <td>쓰라린 느낌</td>\n",
              "      <td>구역(+), 등쪽 통증(+), 식은땀(+), 울렁거림(+), 설사(+), 어지러움(...</td>\n",
              "      <td>식후 심해짐</td>\n",
              "      <td>작년 건강검진상 GERD 진단, 약은 먹지 않음</td>\n",
              "      <td></td>\n",
              "      <td>술(+), 하루 맥주 2잔,</td>\n",
              "      <td></td>\n",
              "      <td></td>\n",
              "      <td></td>\n",
              "      <td></td>\n",
              "      <td>미정</td>\n",
              "      <td>29.136316</td>\n",
              "      <td>비만</td>\n",
              "      <td>속이다 아프다 30 대다 여자 3일 전 윗 배 중앙 지속 심해지다 종종 쓰라리다 느...</td>\n",
              "    </tr>\n",
              "    <tr>\n",
              "      <th>2253</th>\n",
              "      <td>미정</td>\n",
              "      <td>대상포진</td>\n",
              "      <td>따끔 거려요</td>\n",
              "      <td>여자</td>\n",
              "      <td>60대</td>\n",
              "      <td>152</td>\n",
              "      <td>62</td>\n",
              "      <td>어제부터</td>\n",
              "      <td>오른쪽 무릅 및 발등</td>\n",
              "      <td>지속</td>\n",
              "      <td>심해짐</td>\n",
              "      <td>처음</td>\n",
              "      <td>따끔거리는 통증, 가려움 동반</td>\n",
              "      <td></td>\n",
              "      <td></td>\n",
              "      <td></td>\n",
              "      <td></td>\n",
              "      <td></td>\n",
              "      <td></td>\n",
              "      <td></td>\n",
              "      <td>섬유신경종</td>\n",
              "      <td></td>\n",
              "      <td>미정</td>\n",
              "      <td>26.835180</td>\n",
              "      <td>과체중</td>\n",
              "      <td>따끔 걸리다 60 대다 여자 어제 부터 오른쪽 무릎 및 발등 지속 심해지다 처음 따...</td>\n",
              "    </tr>\n",
              "    <tr>\n",
              "      <th>2254</th>\n",
              "      <td>미정</td>\n",
              "      <td>방광염</td>\n",
              "      <td>소변볼때 불편해요</td>\n",
              "      <td>여자</td>\n",
              "      <td>50대</td>\n",
              "      <td>160</td>\n",
              "      <td>65</td>\n",
              "      <td>5일전부터</td>\n",
              "      <td>하복부</td>\n",
              "      <td>지속</td>\n",
              "      <td>심해짐</td>\n",
              "      <td>처음</td>\n",
              "      <td></td>\n",
              "      <td>배뇨통(+), 피곤감(+),</td>\n",
              "      <td></td>\n",
              "      <td>최근 회사일로 피곤</td>\n",
              "      <td></td>\n",
              "      <td></td>\n",
              "      <td></td>\n",
              "      <td></td>\n",
              "      <td></td>\n",
              "      <td></td>\n",
              "      <td>미정</td>\n",
              "      <td>25.390625</td>\n",
              "      <td>과체중</td>\n",
              "      <td>소변 볼 때 불편하다 50 대다 여자 5일 전 부터 아랫 배 지속 심해지다 처음 배...</td>\n",
              "    </tr>\n",
              "    <tr>\n",
              "      <th>2255</th>\n",
              "      <td>미정</td>\n",
              "      <td>방광염</td>\n",
              "      <td>혈뇨가 나와요</td>\n",
              "      <td>여자</td>\n",
              "      <td>40대</td>\n",
              "      <td>158</td>\n",
              "      <td>55</td>\n",
              "      <td>3일전</td>\n",
              "      <td>하복부</td>\n",
              "      <td>지속</td>\n",
              "      <td>심해짐</td>\n",
              "      <td>종종</td>\n",
              "      <td>선홍색 육안적 혈뇨</td>\n",
              "      <td>배뇨통(+), 혈뇨(+), 피곤감(+),</td>\n",
              "      <td></td>\n",
              "      <td></td>\n",
              "      <td></td>\n",
              "      <td></td>\n",
              "      <td></td>\n",
              "      <td></td>\n",
              "      <td></td>\n",
              "      <td></td>\n",
              "      <td>미정</td>\n",
              "      <td>22.031726</td>\n",
              "      <td>정상</td>\n",
              "      <td>혈뇨 나오다 40 대다 여자 3일 전 아랫 배 지속 심해지다 종종 선 홍색 육안 적...</td>\n",
              "    </tr>\n",
              "  </tbody>\n",
              "</table>\n",
              "<p>2256 rows × 26 columns</p>\n",
              "</div>\n",
              "      <button class=\"colab-df-convert\" onclick=\"convertToInteractive('df-9637cc39-cebe-42c9-aeb6-2b89e577dc55')\"\n",
              "              title=\"Convert this dataframe to an interactive table.\"\n",
              "              style=\"display:none;\">\n",
              "        \n",
              "  <svg xmlns=\"http://www.w3.org/2000/svg\" height=\"24px\"viewBox=\"0 0 24 24\"\n",
              "       width=\"24px\">\n",
              "    <path d=\"M0 0h24v24H0V0z\" fill=\"none\"/>\n",
              "    <path d=\"M18.56 5.44l.94 2.06.94-2.06 2.06-.94-2.06-.94-.94-2.06-.94 2.06-2.06.94zm-11 1L8.5 8.5l.94-2.06 2.06-.94-2.06-.94L8.5 2.5l-.94 2.06-2.06.94zm10 10l.94 2.06.94-2.06 2.06-.94-2.06-.94-.94-2.06-.94 2.06-2.06.94z\"/><path d=\"M17.41 7.96l-1.37-1.37c-.4-.4-.92-.59-1.43-.59-.52 0-1.04.2-1.43.59L10.3 9.45l-7.72 7.72c-.78.78-.78 2.05 0 2.83L4 21.41c.39.39.9.59 1.41.59.51 0 1.02-.2 1.41-.59l7.78-7.78 2.81-2.81c.8-.78.8-2.07 0-2.86zM5.41 20L4 18.59l7.72-7.72 1.47 1.35L5.41 20z\"/>\n",
              "  </svg>\n",
              "      </button>\n",
              "      \n",
              "  <style>\n",
              "    .colab-df-container {\n",
              "      display:flex;\n",
              "      flex-wrap:wrap;\n",
              "      gap: 12px;\n",
              "    }\n",
              "\n",
              "    .colab-df-convert {\n",
              "      background-color: #E8F0FE;\n",
              "      border: none;\n",
              "      border-radius: 50%;\n",
              "      cursor: pointer;\n",
              "      display: none;\n",
              "      fill: #1967D2;\n",
              "      height: 32px;\n",
              "      padding: 0 0 0 0;\n",
              "      width: 32px;\n",
              "    }\n",
              "\n",
              "    .colab-df-convert:hover {\n",
              "      background-color: #E2EBFA;\n",
              "      box-shadow: 0px 1px 2px rgba(60, 64, 67, 0.3), 0px 1px 3px 1px rgba(60, 64, 67, 0.15);\n",
              "      fill: #174EA6;\n",
              "    }\n",
              "\n",
              "    [theme=dark] .colab-df-convert {\n",
              "      background-color: #3B4455;\n",
              "      fill: #D2E3FC;\n",
              "    }\n",
              "\n",
              "    [theme=dark] .colab-df-convert:hover {\n",
              "      background-color: #434B5C;\n",
              "      box-shadow: 0px 1px 3px 1px rgba(0, 0, 0, 0.15);\n",
              "      filter: drop-shadow(0px 1px 2px rgba(0, 0, 0, 0.3));\n",
              "      fill: #FFFFFF;\n",
              "    }\n",
              "  </style>\n",
              "\n",
              "      <script>\n",
              "        const buttonEl =\n",
              "          document.querySelector('#df-9637cc39-cebe-42c9-aeb6-2b89e577dc55 button.colab-df-convert');\n",
              "        buttonEl.style.display =\n",
              "          google.colab.kernel.accessAllowed ? 'block' : 'none';\n",
              "\n",
              "        async function convertToInteractive(key) {\n",
              "          const element = document.querySelector('#df-9637cc39-cebe-42c9-aeb6-2b89e577dc55');\n",
              "          const dataTable =\n",
              "            await google.colab.kernel.invokeFunction('convertToInteractive',\n",
              "                                                     [key], {});\n",
              "          if (!dataTable) return;\n",
              "\n",
              "          const docLinkHtml = 'Like what you see? Visit the ' +\n",
              "            '<a target=\"_blank\" href=https://colab.research.google.com/notebooks/data_table.ipynb>data table notebook</a>'\n",
              "            + ' to learn more about interactive tables.';\n",
              "          element.innerHTML = '';\n",
              "          dataTable['output_type'] = 'display_data';\n",
              "          await google.colab.output.renderOutput(dataTable, element);\n",
              "          const docLink = document.createElement('div');\n",
              "          docLink.innerHTML = docLinkHtml;\n",
              "          element.appendChild(docLink);\n",
              "        }\n",
              "      </script>\n",
              "    </div>\n",
              "  </div>\n",
              "  "
            ],
            "text/plain": [
              "     level2 level5/diagnosis Chief complaint Sex  Age  Height  Weight  Onset  \\\n",
              "0     급성 복통           소화성 궤양          배가 아파요  남자  50대     170      80    1일전   \n",
              "1     급성 복통           소화성 궤양   갑자기 배가 너무 아파요  남자  30대     165      70  오늘 새벽   \n",
              "2     급성 복통           소화성 궤양          속이 쓰려요  여자  70대     160      48    1달전   \n",
              "3     급성 복통           소화성 궤양          속이 쓰려요  남자  10대     160      58    2달전   \n",
              "4     급성 복통           소화성 궤양          배가 아파요  남자  60대     170      65   1시간전   \n",
              "...     ...              ...             ...  ..  ...     ...     ...    ...   \n",
              "2251     미정              폐결핵                  여자  60대     152      45   1일 전   \n",
              "2252     미정          역류성 식도염          속이 아파요  여자  30대     155      70    3일전   \n",
              "2253     미정             대상포진          따끔 거려요  여자  60대     152      62   어제부터   \n",
              "2254     미정              방광염       소변볼때 불편해요  여자  50대     160      65  5일전부터   \n",
              "2255     미정              방광염         혈뇨가 나와요  여자  40대     158      55    3일전   \n",
              "\n",
              "                   Location   Duration  Course               Experience  \\\n",
              "0                     명치 부위         지속     심해짐  이전에도 3차례, 통증은 이번보다 약했음    \n",
              "1     명치에서 시작해 현재 복부 전체에 통증         지속     심해짐              이전에도 한 번 겪음   \n",
              "2                     명치 부위         지속     심해짐                            \n",
              "3                     명치부위          지속     심해짐                            \n",
              "4                      명치부위         지속     심해짐                            \n",
              "...                     ...        ...     ...                      ...   \n",
              "2251               기침 시에 발생  하루 종일 지속됨  약간 심해짐                       처음   \n",
              "2252                 상복부 중앙         지속     심해짐                       종종   \n",
              "2253            오른쪽 무릅 및 발등         지속     심해짐                       처음   \n",
              "2254                    하복부         지속     심해짐                       처음   \n",
              "2255                   하복부          지속     심해짐                       종종   \n",
              "\n",
              "                                  Character  \\\n",
              "0     칼로 찢기는 듯한 통증, 통증 심함, 방사통(+), 등으로 퍼짐,    \n",
              "1                              계속 쓰림, 통증 중간   \n",
              "2                              속이 쓰림, 통증 약함   \n",
              "3                              명치부위 압통, 속쓰림   \n",
              "4                             명치 부위가 아프고 쓰림   \n",
              "...                                     ...   \n",
              "2251                            기침, 가래, 선홍색   \n",
              "2252                                 쓰라린 느낌   \n",
              "2253                       따끔거리는 통증, 가려움 동반   \n",
              "2254                                          \n",
              "2255                             선홍색 육안적 혈뇨   \n",
              "\n",
              "                                         Associated Sx.  \\\n",
              "0     , 구토 (+ 2회 흰 물만 나옴 ), 속쓰림, [응급] 어지러움 (+), 갈증 (...   \n",
              "1                                         구역질, 구토, 식욕감소   \n",
              "2                                         구역질, 신물이 올라와요   \n",
              "3                                                    구토   \n",
              "4                                                         \n",
              "...                                                 ...   \n",
              "2251                            발열(+), 오한(+), 체중감소(+),    \n",
              "2252  구역(+), 등쪽 통증(+), 식은땀(+), 울렁거림(+), 설사(+), 어지러움(...   \n",
              "2253                                                      \n",
              "2254                                   배뇨통(+), 피곤감(+),    \n",
              "2255                            배뇨통(+), 혈뇨(+), 피곤감(+),    \n",
              "\n",
              "                                           Factor                       Event  \\\n",
              "0     자세에 따른 변화(+), 오른쪽으로 돌아 누우면 완화, 반듯이 누우면 악화,                                \n",
              "1                                   앞으로 숙이는 경우 완화          2년 전 건강 검진 상 이상 없음   \n",
              "2                                      누워있으면 심해져요                               \n",
              "3                                                                               \n",
              "4                                                                               \n",
              "...                                           ...                         ...   \n",
              "2251                                                   , 2년 전 건강 검진 시 정상 소견,    \n",
              "2252                                       식후 심해짐  작년 건강검진상 GERD 진단, 약은 먹지 않음   \n",
              "2253                                                                            \n",
              "2254                                                               최근 회사일로 피곤   \n",
              "2255                                                                            \n",
              "\n",
              "                        약물 투약력  \\\n",
              "0                                \n",
              "1               관절염 약(진통소염제),    \n",
              "2                     관절염약 복용중   \n",
              "3                          철분제   \n",
              "4                         고혈압약   \n",
              "...                        ...   \n",
              "2251  2주 전 감기약 먹음, 평소 비타민 복용,    \n",
              "2252                             \n",
              "2253                             \n",
              "2254                             \n",
              "2255                             \n",
              "\n",
              "                                                    사회력         가족력 외상력  \\\n",
              "0     술(+), 1주일 6~7번, 하루 소주 2~3병, 담배(+), 30갑년, 식사 , ...                   \n",
              "1              술, 회, 주 2~3회), 회사원, 회식이 잦고 폭음하는 경우가 있음,                    \n",
              "2                                                                         \n",
              "3                                                                         \n",
              "4                                            5년전 알코올 중독                   \n",
              "...                                                 ...         ...  ..   \n",
              "2251                                          , 담배(+),   아버지(고혈압),        \n",
              "2252                                   술(+), 하루 맥주 2잔,                    \n",
              "2253                                                                      \n",
              "2254                                                                      \n",
              "2255                                                                      \n",
              "\n",
              "                   과거력                           여성력     Level1        BMI  \\\n",
              "0                                                     digestive  27.681661   \n",
              "1                                                     digestive  25.711662   \n",
              "2     HTN(+), DM (+),                                 digestive  18.750000   \n",
              "3                                                     digestive  22.656250   \n",
              "4             HTN(+),                                 digestive  22.491349   \n",
              "...                ...                           ...        ...        ...   \n",
              "2251          고혈압(+),   규칙적인 월경, 보통인 월경량, 첫날에만 통증 있음         미정  19.477147   \n",
              "2252                                                         미정  29.136316   \n",
              "2253             섬유신경종                                       미정  26.835180   \n",
              "2254                                                         미정  25.390625   \n",
              "2255                                                         미정  22.031726   \n",
              "\n",
              "     Obesity                                                All  \n",
              "0        과체중  배 아프다 50 대다 남자 1일 전 명치 부위 지속 심해지다 이전 에도 3 차례 통...  \n",
              "1        과체중  갑자기 배 너무 아프다 30 대다 남자 오늘 새벽 명치 에서 시작 현재 복부 전체 ...  \n",
              "2        저체중  속이다 쓰리다 70 대다 여자 1 달 전 명치 부위 지속 심해지다 속이다 쓰리다 통...  \n",
              "3         정상  속이다 쓰리다 10 대다 남자 2 달 전 명치 부위 지속 심해지다 명치 부위 누르다...  \n",
              "4         정상  배 아프다 60 대다 남자 1시간 전 명치 부위 지속 심해지다 명치 부위 아프다 쓰...  \n",
              "...      ...                                                ...  \n",
              "2251     저체중  60 대다 여자 1일 전 기침 시 발생 하루 종일 지속 되다 약간 심해지다 처음 기...  \n",
              "2252      비만  속이다 아프다 30 대다 여자 3일 전 윗 배 중앙 지속 심해지다 종종 쓰라리다 느...  \n",
              "2253     과체중  따끔 걸리다 60 대다 여자 어제 부터 오른쪽 무릎 및 발등 지속 심해지다 처음 따...  \n",
              "2254     과체중  소변 볼 때 불편하다 50 대다 여자 5일 전 부터 아랫 배 지속 심해지다 처음 배...  \n",
              "2255      정상  혈뇨 나오다 40 대다 여자 3일 전 아랫 배 지속 심해지다 종종 선 홍색 육안 적...  \n",
              "\n",
              "[2256 rows x 26 columns]"
            ]
          },
          "execution_count": 25,
          "metadata": {},
          "output_type": "execute_result"
        }
      ],
      "source": [
        "data"
      ]
    },
    {
      "cell_type": "code",
      "execution_count": null,
      "metadata": {
        "id": "URxdOYC0YLAE"
      },
      "outputs": [],
      "source": []
    },
    {
      "cell_type": "markdown",
      "metadata": {
        "id": "o9bs7Z0vAMfg"
      },
      "source": [
        "## 8) NRS scores to text"
      ]
    },
    {
      "cell_type": "code",
      "execution_count": null,
      "metadata": {
        "id": "GaYD2D8JAL6U"
      },
      "outputs": [],
      "source": [
        "#NRS 5점\n",
        "#NRS: 5\n",
        "#NRS 4~6 / NRS : 4~6"
      ]
    },
    {
      "cell_type": "code",
      "execution_count": null,
      "metadata": {
        "id": "0MBZMNg-BxVP"
      },
      "outputs": [],
      "source": [
        "def NRS_to_text(text):\n",
        "\n",
        "  a = re.findall('NRS.*?점', text) #NRS 5점\n",
        "  if len(a) == 0:\n",
        "    a = re.findall('NRS.*?\\d~\\d', text) #NRS 4~6 / NRS : 4~6\n",
        "  if len(a) == 0:\n",
        "    a = re.findall('NRS.*?\\d', text) #NRS: 5\n",
        "  \n",
        "  try:\n",
        "    t = re.findall('[0-9]+', a[0])\n",
        "\n",
        "    if (len(t) == 2):\n",
        "      score = (int(t[0])+int(t[1]))/ 2\n",
        "    else:\n",
        "      score = int(t[0])\n",
        "\n",
        "    if score >= 7:\n",
        "      to_text = '심함'\n",
        "    elif score >= 4:\n",
        "      to_text = '중간'\n",
        "    else:\n",
        "      to_text = '약함'\n",
        "\n",
        "    text = text.replace(a[0], to_text)\n",
        "  \n",
        "  except:\n",
        "    pass\n",
        "\n",
        "  return text"
      ]
    },
    {
      "cell_type": "code",
      "execution_count": null,
      "metadata": {
        "colab": {
          "base_uri": "https://localhost:8080/",
          "height": 36
        },
        "id": "CP0incS_Jb4J",
        "outputId": "02f8c702-ab78-47dc-9e73-38a11e9f6d88"
      },
      "outputs": [
        {
          "data": {
            "application/vnd.google.colaboratory.intrinsic+json": {
              "type": "string"
            },
            "text/plain": [
              "'뻐근한 통증dd, 약함, 등이랑 목으로 뻗침'"
            ]
          },
          "execution_count": 69,
          "metadata": {},
          "output_type": "execute_result"
        }
      ],
      "source": [
        "#text = '뻐근한 통증, NRS : 1~6, 등이랑 목으로 뻗침'\n",
        "text = '뻐근한 통증dd, NRS : 1~6, 등이랑 목으로 뻗침'\n",
        "\n",
        "NRS_to_text(text)"
      ]
    },
    {
      "cell_type": "code",
      "execution_count": null,
      "metadata": {
        "id": "tiniSaf8MttI"
      },
      "outputs": [],
      "source": [
        "#data[data['Character'] == '쥐어짜는 느낌의 통증, NRS 7점, 턱과 목쪽으로 방사되는 통증, 왼팔로도 통증이 뻗치는 듯한 느낌 있음']\n",
        "#data.iloc[872]['Character']"
      ]
    },
    {
      "cell_type": "code",
      "execution_count": null,
      "metadata": {
        "colab": {
          "base_uri": "https://localhost:8080/",
          "height": 1000
        },
        "id": "n1kRHlc16B--",
        "outputId": "6f7d46bc-d9ad-4b9a-905a-7c4fcf38d8e4"
      },
      "outputs": [
        {
          "data": {
            "text/html": [
              "\n",
              "  <div id=\"df-518e9eff-87cb-420a-a4a5-0f1acb99c2a6\">\n",
              "    <div class=\"colab-df-container\">\n",
              "      <div>\n",
              "<style scoped>\n",
              "    .dataframe tbody tr th:only-of-type {\n",
              "        vertical-align: middle;\n",
              "    }\n",
              "\n",
              "    .dataframe tbody tr th {\n",
              "        vertical-align: top;\n",
              "    }\n",
              "\n",
              "    .dataframe thead th {\n",
              "        text-align: right;\n",
              "    }\n",
              "</style>\n",
              "<table border=\"1\" class=\"dataframe\">\n",
              "  <thead>\n",
              "    <tr style=\"text-align: right;\">\n",
              "      <th></th>\n",
              "      <th>level2</th>\n",
              "      <th>level5/diagnosis</th>\n",
              "      <th>Chief complaint</th>\n",
              "      <th>Sex</th>\n",
              "      <th>Age</th>\n",
              "      <th>Height</th>\n",
              "      <th>Weight</th>\n",
              "      <th>Onset</th>\n",
              "      <th>Location</th>\n",
              "      <th>Duration</th>\n",
              "      <th>Course</th>\n",
              "      <th>Experience</th>\n",
              "      <th>Character</th>\n",
              "      <th>Associated Sx.</th>\n",
              "      <th>Factor</th>\n",
              "      <th>Event</th>\n",
              "      <th>약물 투약력</th>\n",
              "      <th>사회력</th>\n",
              "      <th>가족력</th>\n",
              "      <th>외상력</th>\n",
              "      <th>과거력</th>\n",
              "      <th>여성력</th>\n",
              "      <th>Level1</th>\n",
              "      <th>BMI</th>\n",
              "      <th>Obesity</th>\n",
              "      <th>All</th>\n",
              "    </tr>\n",
              "  </thead>\n",
              "  <tbody>\n",
              "    <tr>\n",
              "      <th>0</th>\n",
              "      <td>급성 복통</td>\n",
              "      <td>소화성 궤양</td>\n",
              "      <td>배가 아파요</td>\n",
              "      <td>남자</td>\n",
              "      <td>50대</td>\n",
              "      <td>170.0</td>\n",
              "      <td>80.0</td>\n",
              "      <td>1일전</td>\n",
              "      <td>명치 부위</td>\n",
              "      <td>지속</td>\n",
              "      <td>심해짐</td>\n",
              "      <td>이전에도 3차례, 통증은 이번보다 약했음</td>\n",
              "      <td>칼로 찢기는 듯한 통증, 통증 심함, 방사통(#), 등으로 퍼짐,</td>\n",
              "      <td>, 구토 (# 2회 흰 물만 나옴 ), 속쓰림, [응급] 어지러움 (#), 갈증 (...</td>\n",
              "      <td>자세에 따른 변화(#), 오른쪽으로 돌아 누우면 완화, 반듯이 누우면 악화,</td>\n",
              "      <td></td>\n",
              "      <td></td>\n",
              "      <td>술(#), 1주일 6~7번, 하루 소주 2~3병, 담배(#), 30갑년, 식사 , ...</td>\n",
              "      <td></td>\n",
              "      <td></td>\n",
              "      <td></td>\n",
              "      <td></td>\n",
              "      <td>digestive</td>\n",
              "      <td>27.681661</td>\n",
              "      <td>과체중</td>\n",
              "      <td>배 아프다 50 대다 남자 1일 전 명치 부위 지속 심해지다 이전 에도 3 차례 통...</td>\n",
              "    </tr>\n",
              "    <tr>\n",
              "      <th>1</th>\n",
              "      <td>급성 복통</td>\n",
              "      <td>소화성 궤양</td>\n",
              "      <td>갑자기 배가 너무 아파요</td>\n",
              "      <td>남자</td>\n",
              "      <td>30대</td>\n",
              "      <td>165.0</td>\n",
              "      <td>70.0</td>\n",
              "      <td>오늘 새벽</td>\n",
              "      <td>명치에서 시작해 현재 복부 전체에 통증</td>\n",
              "      <td>지속</td>\n",
              "      <td>심해짐</td>\n",
              "      <td>이전에도 한 번 겪음</td>\n",
              "      <td>계속 쓰림, 통증 중간</td>\n",
              "      <td>구역질, 구토, 식욕감소</td>\n",
              "      <td>앞으로 숙이는 경우 완화</td>\n",
              "      <td>2년 전 건강 검진 상 이상 없음</td>\n",
              "      <td>관절염 약(진통소염제),</td>\n",
              "      <td>술, 회, 주 2~3회), 회사원, 회식이 잦고 폭음하는 경우가 있음,</td>\n",
              "      <td></td>\n",
              "      <td></td>\n",
              "      <td></td>\n",
              "      <td></td>\n",
              "      <td>digestive</td>\n",
              "      <td>25.711662</td>\n",
              "      <td>과체중</td>\n",
              "      <td>갑자기 배 너무 아프다 30 대다 남자 오늘 새벽 명치 에서 시작 현재 복부 전체 ...</td>\n",
              "    </tr>\n",
              "    <tr>\n",
              "      <th>2</th>\n",
              "      <td>급성 복통</td>\n",
              "      <td>소화성 궤양</td>\n",
              "      <td>속이 쓰려요</td>\n",
              "      <td>여자</td>\n",
              "      <td>70대</td>\n",
              "      <td>160.0</td>\n",
              "      <td>48.0</td>\n",
              "      <td>1달전</td>\n",
              "      <td>명치 부위</td>\n",
              "      <td>지속</td>\n",
              "      <td>심해짐</td>\n",
              "      <td></td>\n",
              "      <td>속이 쓰림, 통증 약함</td>\n",
              "      <td>구역질, 신물이 올라와요</td>\n",
              "      <td>누워있으면 심해져요</td>\n",
              "      <td></td>\n",
              "      <td>관절염약 복용중</td>\n",
              "      <td></td>\n",
              "      <td></td>\n",
              "      <td></td>\n",
              "      <td>HTN(#), DM (#),</td>\n",
              "      <td></td>\n",
              "      <td>digestive</td>\n",
              "      <td>18.750000</td>\n",
              "      <td>저체중</td>\n",
              "      <td>속이다 쓰리다 70 대다 여자 1 달 전 명치 부위 지속 심해지다 속이다 쓰리다 통...</td>\n",
              "    </tr>\n",
              "    <tr>\n",
              "      <th>3</th>\n",
              "      <td>급성 복통</td>\n",
              "      <td>소화성 궤양</td>\n",
              "      <td>속이 쓰려요</td>\n",
              "      <td>남자</td>\n",
              "      <td>10대</td>\n",
              "      <td>160.0</td>\n",
              "      <td>58.0</td>\n",
              "      <td>2달전</td>\n",
              "      <td>명치부위</td>\n",
              "      <td>지속</td>\n",
              "      <td>심해짐</td>\n",
              "      <td></td>\n",
              "      <td>명치부위 압통, 속쓰림</td>\n",
              "      <td>구토</td>\n",
              "      <td></td>\n",
              "      <td></td>\n",
              "      <td>철분제</td>\n",
              "      <td></td>\n",
              "      <td></td>\n",
              "      <td></td>\n",
              "      <td></td>\n",
              "      <td></td>\n",
              "      <td>digestive</td>\n",
              "      <td>22.656250</td>\n",
              "      <td>정상</td>\n",
              "      <td>속이다 쓰리다 10 대다 남자 2 달 전 명치 부위 지속 심해지다 명치 부위 누르다...</td>\n",
              "    </tr>\n",
              "    <tr>\n",
              "      <th>4</th>\n",
              "      <td>급성 복통</td>\n",
              "      <td>소화성 궤양</td>\n",
              "      <td>배가 아파요</td>\n",
              "      <td>남자</td>\n",
              "      <td>60대</td>\n",
              "      <td>170.0</td>\n",
              "      <td>65.0</td>\n",
              "      <td>1시간전</td>\n",
              "      <td>명치부위</td>\n",
              "      <td>지속</td>\n",
              "      <td>심해짐</td>\n",
              "      <td></td>\n",
              "      <td>명치 부위가 아프고 쓰림</td>\n",
              "      <td></td>\n",
              "      <td></td>\n",
              "      <td></td>\n",
              "      <td>고혈압약</td>\n",
              "      <td>5년전 알코올 중독</td>\n",
              "      <td></td>\n",
              "      <td></td>\n",
              "      <td>HTN(#),</td>\n",
              "      <td></td>\n",
              "      <td>digestive</td>\n",
              "      <td>22.491349</td>\n",
              "      <td>정상</td>\n",
              "      <td>배 아프다 60 대다 남자 1시간 전 명치 부위 지속 심해지다 명치 부위 아프다 쓰...</td>\n",
              "    </tr>\n",
              "    <tr>\n",
              "      <th>...</th>\n",
              "      <td>...</td>\n",
              "      <td>...</td>\n",
              "      <td>...</td>\n",
              "      <td>...</td>\n",
              "      <td>...</td>\n",
              "      <td>...</td>\n",
              "      <td>...</td>\n",
              "      <td>...</td>\n",
              "      <td>...</td>\n",
              "      <td>...</td>\n",
              "      <td>...</td>\n",
              "      <td>...</td>\n",
              "      <td>...</td>\n",
              "      <td>...</td>\n",
              "      <td>...</td>\n",
              "      <td>...</td>\n",
              "      <td>...</td>\n",
              "      <td>...</td>\n",
              "      <td>...</td>\n",
              "      <td>...</td>\n",
              "      <td>...</td>\n",
              "      <td>...</td>\n",
              "      <td>...</td>\n",
              "      <td>...</td>\n",
              "      <td>...</td>\n",
              "      <td>...</td>\n",
              "    </tr>\n",
              "    <tr>\n",
              "      <th>2251</th>\n",
              "      <td>미정</td>\n",
              "      <td>폐결핵</td>\n",
              "      <td></td>\n",
              "      <td>여자</td>\n",
              "      <td>60대</td>\n",
              "      <td>152.3</td>\n",
              "      <td>45.8</td>\n",
              "      <td>1일 전</td>\n",
              "      <td>기침 시에 발생</td>\n",
              "      <td>하루 종일 지속됨</td>\n",
              "      <td>약간 심해짐</td>\n",
              "      <td>처음</td>\n",
              "      <td>기침, 가래, 선홍색</td>\n",
              "      <td>발열(#), 오한(#), 체중감소(#),</td>\n",
              "      <td></td>\n",
              "      <td>, 2년 전 건강 검진 시 정상 소견,</td>\n",
              "      <td>2주 전 감기약 먹음, 평소 비타민 복용,</td>\n",
              "      <td>, 담배(#),</td>\n",
              "      <td>아버지(고혈압),</td>\n",
              "      <td></td>\n",
              "      <td>고혈압(#),</td>\n",
              "      <td>규칙적인 월경, 보통인 월경량, 첫날에만 통증 있음</td>\n",
              "      <td>미정</td>\n",
              "      <td>19.745388</td>\n",
              "      <td>저체중</td>\n",
              "      <td>60 대다 여자 1일 전 기침 시 발생 하루 종일 지속 되다 약간 심해지다 처음 기...</td>\n",
              "    </tr>\n",
              "    <tr>\n",
              "      <th>2252</th>\n",
              "      <td>미정</td>\n",
              "      <td>역류성 식도염</td>\n",
              "      <td>속이 아파요</td>\n",
              "      <td>여자</td>\n",
              "      <td>30대</td>\n",
              "      <td>155.0</td>\n",
              "      <td>70.0</td>\n",
              "      <td>3일전</td>\n",
              "      <td>상복부 중앙</td>\n",
              "      <td>지속</td>\n",
              "      <td>심해짐</td>\n",
              "      <td>종종</td>\n",
              "      <td>쓰라린 느낌</td>\n",
              "      <td>구역(#), 등쪽 통증(#), 식은땀(#), 울렁거림(#), 설사(#), 어지러움(...</td>\n",
              "      <td>식후 심해짐</td>\n",
              "      <td>작년 건강검진상 GERD 진단, 약은 먹지 않음</td>\n",
              "      <td></td>\n",
              "      <td>술(#), 하루 맥주 2잔,</td>\n",
              "      <td></td>\n",
              "      <td></td>\n",
              "      <td></td>\n",
              "      <td></td>\n",
              "      <td>미정</td>\n",
              "      <td>29.136316</td>\n",
              "      <td>비만</td>\n",
              "      <td>속이다 아프다 30 대다 여자 3일 전 윗 배 중앙 지속 심해지다 종종 쓰라리다 느...</td>\n",
              "    </tr>\n",
              "    <tr>\n",
              "      <th>2253</th>\n",
              "      <td>미정</td>\n",
              "      <td>대상포진</td>\n",
              "      <td>따끔 거려요</td>\n",
              "      <td>여자</td>\n",
              "      <td>60대</td>\n",
              "      <td>152.0</td>\n",
              "      <td>62.0</td>\n",
              "      <td>어제부터</td>\n",
              "      <td>오른쪽 무릅 및 발등</td>\n",
              "      <td>지속</td>\n",
              "      <td>심해짐</td>\n",
              "      <td>처음</td>\n",
              "      <td>따끔거리는 통증, 가려움 동반</td>\n",
              "      <td></td>\n",
              "      <td></td>\n",
              "      <td></td>\n",
              "      <td></td>\n",
              "      <td></td>\n",
              "      <td></td>\n",
              "      <td></td>\n",
              "      <td>섬유신경종</td>\n",
              "      <td></td>\n",
              "      <td>미정</td>\n",
              "      <td>26.835180</td>\n",
              "      <td>과체중</td>\n",
              "      <td>따끔 걸리다 60 대다 여자 어제 부터 오른쪽 무릎 및 발등 지속 심해지다 처음 따...</td>\n",
              "    </tr>\n",
              "    <tr>\n",
              "      <th>2254</th>\n",
              "      <td>미정</td>\n",
              "      <td>방광염</td>\n",
              "      <td>소변볼때 불편해요</td>\n",
              "      <td>여자</td>\n",
              "      <td>50대</td>\n",
              "      <td>160.0</td>\n",
              "      <td>65.0</td>\n",
              "      <td>5일전부터</td>\n",
              "      <td>하복부</td>\n",
              "      <td>지속</td>\n",
              "      <td>심해짐</td>\n",
              "      <td>처음</td>\n",
              "      <td></td>\n",
              "      <td>배뇨통(#), 피곤감(#),</td>\n",
              "      <td></td>\n",
              "      <td>최근 회사일로 피곤</td>\n",
              "      <td></td>\n",
              "      <td></td>\n",
              "      <td></td>\n",
              "      <td></td>\n",
              "      <td></td>\n",
              "      <td></td>\n",
              "      <td>미정</td>\n",
              "      <td>25.390625</td>\n",
              "      <td>과체중</td>\n",
              "      <td>소변 볼 때 불편하다 50 대다 여자 5일 전 부터 아랫 배 지속 심해지다 처음 배...</td>\n",
              "    </tr>\n",
              "    <tr>\n",
              "      <th>2255</th>\n",
              "      <td>미정</td>\n",
              "      <td>방광염</td>\n",
              "      <td>혈뇨가 나와요</td>\n",
              "      <td>여자</td>\n",
              "      <td>40대</td>\n",
              "      <td>158.0</td>\n",
              "      <td>55.0</td>\n",
              "      <td>3일전</td>\n",
              "      <td>하복부</td>\n",
              "      <td>지속</td>\n",
              "      <td>심해짐</td>\n",
              "      <td>종종</td>\n",
              "      <td>선홍색 육안적 혈뇨</td>\n",
              "      <td>배뇨통(#), 혈뇨(#), 피곤감(#),</td>\n",
              "      <td></td>\n",
              "      <td></td>\n",
              "      <td></td>\n",
              "      <td></td>\n",
              "      <td></td>\n",
              "      <td></td>\n",
              "      <td></td>\n",
              "      <td></td>\n",
              "      <td>미정</td>\n",
              "      <td>22.031726</td>\n",
              "      <td>정상</td>\n",
              "      <td>혈뇨 나오다 40 대다 여자 3일 전 아랫 배 지속 심해지다 종종 선 홍색 육안 적...</td>\n",
              "    </tr>\n",
              "  </tbody>\n",
              "</table>\n",
              "<p>2256 rows × 26 columns</p>\n",
              "</div>\n",
              "      <button class=\"colab-df-convert\" onclick=\"convertToInteractive('df-518e9eff-87cb-420a-a4a5-0f1acb99c2a6')\"\n",
              "              title=\"Convert this dataframe to an interactive table.\"\n",
              "              style=\"display:none;\">\n",
              "        \n",
              "  <svg xmlns=\"http://www.w3.org/2000/svg\" height=\"24px\"viewBox=\"0 0 24 24\"\n",
              "       width=\"24px\">\n",
              "    <path d=\"M0 0h24v24H0V0z\" fill=\"none\"/>\n",
              "    <path d=\"M18.56 5.44l.94 2.06.94-2.06 2.06-.94-2.06-.94-.94-2.06-.94 2.06-2.06.94zm-11 1L8.5 8.5l.94-2.06 2.06-.94-2.06-.94L8.5 2.5l-.94 2.06-2.06.94zm10 10l.94 2.06.94-2.06 2.06-.94-2.06-.94-.94-2.06-.94 2.06-2.06.94z\"/><path d=\"M17.41 7.96l-1.37-1.37c-.4-.4-.92-.59-1.43-.59-.52 0-1.04.2-1.43.59L10.3 9.45l-7.72 7.72c-.78.78-.78 2.05 0 2.83L4 21.41c.39.39.9.59 1.41.59.51 0 1.02-.2 1.41-.59l7.78-7.78 2.81-2.81c.8-.78.8-2.07 0-2.86zM5.41 20L4 18.59l7.72-7.72 1.47 1.35L5.41 20z\"/>\n",
              "  </svg>\n",
              "      </button>\n",
              "      \n",
              "  <style>\n",
              "    .colab-df-container {\n",
              "      display:flex;\n",
              "      flex-wrap:wrap;\n",
              "      gap: 12px;\n",
              "    }\n",
              "\n",
              "    .colab-df-convert {\n",
              "      background-color: #E8F0FE;\n",
              "      border: none;\n",
              "      border-radius: 50%;\n",
              "      cursor: pointer;\n",
              "      display: none;\n",
              "      fill: #1967D2;\n",
              "      height: 32px;\n",
              "      padding: 0 0 0 0;\n",
              "      width: 32px;\n",
              "    }\n",
              "\n",
              "    .colab-df-convert:hover {\n",
              "      background-color: #E2EBFA;\n",
              "      box-shadow: 0px 1px 2px rgba(60, 64, 67, 0.3), 0px 1px 3px 1px rgba(60, 64, 67, 0.15);\n",
              "      fill: #174EA6;\n",
              "    }\n",
              "\n",
              "    [theme=dark] .colab-df-convert {\n",
              "      background-color: #3B4455;\n",
              "      fill: #D2E3FC;\n",
              "    }\n",
              "\n",
              "    [theme=dark] .colab-df-convert:hover {\n",
              "      background-color: #434B5C;\n",
              "      box-shadow: 0px 1px 3px 1px rgba(0, 0, 0, 0.15);\n",
              "      filter: drop-shadow(0px 1px 2px rgba(0, 0, 0, 0.3));\n",
              "      fill: #FFFFFF;\n",
              "    }\n",
              "  </style>\n",
              "\n",
              "      <script>\n",
              "        const buttonEl =\n",
              "          document.querySelector('#df-518e9eff-87cb-420a-a4a5-0f1acb99c2a6 button.colab-df-convert');\n",
              "        buttonEl.style.display =\n",
              "          google.colab.kernel.accessAllowed ? 'block' : 'none';\n",
              "\n",
              "        async function convertToInteractive(key) {\n",
              "          const element = document.querySelector('#df-518e9eff-87cb-420a-a4a5-0f1acb99c2a6');\n",
              "          const dataTable =\n",
              "            await google.colab.kernel.invokeFunction('convertToInteractive',\n",
              "                                                     [key], {});\n",
              "          if (!dataTable) return;\n",
              "\n",
              "          const docLinkHtml = 'Like what you see? Visit the ' +\n",
              "            '<a target=\"_blank\" href=https://colab.research.google.com/notebooks/data_table.ipynb>data table notebook</a>'\n",
              "            + ' to learn more about interactive tables.';\n",
              "          element.innerHTML = '';\n",
              "          dataTable['output_type'] = 'display_data';\n",
              "          await google.colab.output.renderOutput(dataTable, element);\n",
              "          const docLink = document.createElement('div');\n",
              "          docLink.innerHTML = docLinkHtml;\n",
              "          element.appendChild(docLink);\n",
              "        }\n",
              "      </script>\n",
              "    </div>\n",
              "  </div>\n",
              "  "
            ],
            "text/plain": [
              "     level2 level5/diagnosis Chief complaint Sex  Age  Height  Weight  Onset  \\\n",
              "0     급성 복통           소화성 궤양          배가 아파요  남자  50대   170.0    80.0    1일전   \n",
              "1     급성 복통           소화성 궤양   갑자기 배가 너무 아파요  남자  30대   165.0    70.0  오늘 새벽   \n",
              "2     급성 복통           소화성 궤양          속이 쓰려요  여자  70대   160.0    48.0    1달전   \n",
              "3     급성 복통           소화성 궤양          속이 쓰려요  남자  10대   160.0    58.0    2달전   \n",
              "4     급성 복통           소화성 궤양          배가 아파요  남자  60대   170.0    65.0   1시간전   \n",
              "...     ...              ...             ...  ..  ...     ...     ...    ...   \n",
              "2251     미정              폐결핵                  여자  60대   152.3    45.8   1일 전   \n",
              "2252     미정          역류성 식도염          속이 아파요  여자  30대   155.0    70.0    3일전   \n",
              "2253     미정             대상포진          따끔 거려요  여자  60대   152.0    62.0   어제부터   \n",
              "2254     미정              방광염       소변볼때 불편해요  여자  50대   160.0    65.0  5일전부터   \n",
              "2255     미정              방광염         혈뇨가 나와요  여자  40대   158.0    55.0    3일전   \n",
              "\n",
              "                   Location   Duration  Course               Experience  \\\n",
              "0                     명치 부위         지속     심해짐  이전에도 3차례, 통증은 이번보다 약했음    \n",
              "1     명치에서 시작해 현재 복부 전체에 통증         지속     심해짐              이전에도 한 번 겪음   \n",
              "2                     명치 부위         지속     심해짐                            \n",
              "3                     명치부위          지속     심해짐                            \n",
              "4                      명치부위         지속     심해짐                            \n",
              "...                     ...        ...     ...                      ...   \n",
              "2251               기침 시에 발생  하루 종일 지속됨  약간 심해짐                       처음   \n",
              "2252                 상복부 중앙         지속     심해짐                       종종   \n",
              "2253            오른쪽 무릅 및 발등         지속     심해짐                       처음   \n",
              "2254                    하복부         지속     심해짐                       처음   \n",
              "2255                   하복부          지속     심해짐                       종종   \n",
              "\n",
              "                                  Character  \\\n",
              "0     칼로 찢기는 듯한 통증, 통증 심함, 방사통(#), 등으로 퍼짐,    \n",
              "1                              계속 쓰림, 통증 중간   \n",
              "2                              속이 쓰림, 통증 약함   \n",
              "3                              명치부위 압통, 속쓰림   \n",
              "4                             명치 부위가 아프고 쓰림   \n",
              "...                                     ...   \n",
              "2251                            기침, 가래, 선홍색   \n",
              "2252                                 쓰라린 느낌   \n",
              "2253                       따끔거리는 통증, 가려움 동반   \n",
              "2254                                          \n",
              "2255                             선홍색 육안적 혈뇨   \n",
              "\n",
              "                                         Associated Sx.  \\\n",
              "0     , 구토 (# 2회 흰 물만 나옴 ), 속쓰림, [응급] 어지러움 (#), 갈증 (...   \n",
              "1                                         구역질, 구토, 식욕감소   \n",
              "2                                         구역질, 신물이 올라와요   \n",
              "3                                                    구토   \n",
              "4                                                         \n",
              "...                                                 ...   \n",
              "2251                            발열(#), 오한(#), 체중감소(#),    \n",
              "2252  구역(#), 등쪽 통증(#), 식은땀(#), 울렁거림(#), 설사(#), 어지러움(...   \n",
              "2253                                                      \n",
              "2254                                   배뇨통(#), 피곤감(#),    \n",
              "2255                            배뇨통(#), 혈뇨(#), 피곤감(#),    \n",
              "\n",
              "                                           Factor                       Event  \\\n",
              "0     자세에 따른 변화(#), 오른쪽으로 돌아 누우면 완화, 반듯이 누우면 악화,                                \n",
              "1                                   앞으로 숙이는 경우 완화          2년 전 건강 검진 상 이상 없음   \n",
              "2                                      누워있으면 심해져요                               \n",
              "3                                                                               \n",
              "4                                                                               \n",
              "...                                           ...                         ...   \n",
              "2251                                                   , 2년 전 건강 검진 시 정상 소견,    \n",
              "2252                                       식후 심해짐  작년 건강검진상 GERD 진단, 약은 먹지 않음   \n",
              "2253                                                                            \n",
              "2254                                                               최근 회사일로 피곤   \n",
              "2255                                                                            \n",
              "\n",
              "                        약물 투약력  \\\n",
              "0                                \n",
              "1               관절염 약(진통소염제),    \n",
              "2                     관절염약 복용중   \n",
              "3                          철분제   \n",
              "4                         고혈압약   \n",
              "...                        ...   \n",
              "2251  2주 전 감기약 먹음, 평소 비타민 복용,    \n",
              "2252                             \n",
              "2253                             \n",
              "2254                             \n",
              "2255                             \n",
              "\n",
              "                                                    사회력         가족력 외상력  \\\n",
              "0     술(#), 1주일 6~7번, 하루 소주 2~3병, 담배(#), 30갑년, 식사 , ...                   \n",
              "1              술, 회, 주 2~3회), 회사원, 회식이 잦고 폭음하는 경우가 있음,                    \n",
              "2                                                                         \n",
              "3                                                                         \n",
              "4                                            5년전 알코올 중독                   \n",
              "...                                                 ...         ...  ..   \n",
              "2251                                          , 담배(#),   아버지(고혈압),        \n",
              "2252                                   술(#), 하루 맥주 2잔,                    \n",
              "2253                                                                      \n",
              "2254                                                                      \n",
              "2255                                                                      \n",
              "\n",
              "                   과거력                           여성력     Level1        BMI  \\\n",
              "0                                                     digestive  27.681661   \n",
              "1                                                     digestive  25.711662   \n",
              "2     HTN(#), DM (#),                                 digestive  18.750000   \n",
              "3                                                     digestive  22.656250   \n",
              "4             HTN(#),                                 digestive  22.491349   \n",
              "...                ...                           ...        ...        ...   \n",
              "2251          고혈압(#),   규칙적인 월경, 보통인 월경량, 첫날에만 통증 있음         미정  19.745388   \n",
              "2252                                                         미정  29.136316   \n",
              "2253             섬유신경종                                       미정  26.835180   \n",
              "2254                                                         미정  25.390625   \n",
              "2255                                                         미정  22.031726   \n",
              "\n",
              "     Obesity                                                All  \n",
              "0        과체중  배 아프다 50 대다 남자 1일 전 명치 부위 지속 심해지다 이전 에도 3 차례 통...  \n",
              "1        과체중  갑자기 배 너무 아프다 30 대다 남자 오늘 새벽 명치 에서 시작 현재 복부 전체 ...  \n",
              "2        저체중  속이다 쓰리다 70 대다 여자 1 달 전 명치 부위 지속 심해지다 속이다 쓰리다 통...  \n",
              "3         정상  속이다 쓰리다 10 대다 남자 2 달 전 명치 부위 지속 심해지다 명치 부위 누르다...  \n",
              "4         정상  배 아프다 60 대다 남자 1시간 전 명치 부위 지속 심해지다 명치 부위 아프다 쓰...  \n",
              "...      ...                                                ...  \n",
              "2251     저체중  60 대다 여자 1일 전 기침 시 발생 하루 종일 지속 되다 약간 심해지다 처음 기...  \n",
              "2252      비만  속이다 아프다 30 대다 여자 3일 전 윗 배 중앙 지속 심해지다 종종 쓰라리다 느...  \n",
              "2253     과체중  따끔 걸리다 60 대다 여자 어제 부터 오른쪽 무릎 및 발등 지속 심해지다 처음 따...  \n",
              "2254     과체중  소변 볼 때 불편하다 50 대다 여자 5일 전 부터 아랫 배 지속 심해지다 처음 배...  \n",
              "2255      정상  혈뇨 나오다 40 대다 여자 3일 전 아랫 배 지속 심해지다 종종 선 홍색 육안 적...  \n",
              "\n",
              "[2256 rows x 26 columns]"
            ]
          },
          "execution_count": 70,
          "metadata": {},
          "output_type": "execute_result"
        }
      ],
      "source": [
        "data"
      ]
    },
    {
      "cell_type": "code",
      "execution_count": null,
      "metadata": {
        "colab": {
          "base_uri": "https://localhost:8080/",
          "height": 1000
        },
        "id": "BsGHv1qG6KSk",
        "outputId": "68dff573-719d-4baa-ebcd-dfc0776ad6c1"
      },
      "outputs": [
        {
          "data": {
            "text/html": [
              "\n",
              "  <div id=\"df-835a12f1-1052-4ada-af6d-4d5bd90f1f0c\">\n",
              "    <div class=\"colab-df-container\">\n",
              "      <div>\n",
              "<style scoped>\n",
              "    .dataframe tbody tr th:only-of-type {\n",
              "        vertical-align: middle;\n",
              "    }\n",
              "\n",
              "    .dataframe tbody tr th {\n",
              "        vertical-align: top;\n",
              "    }\n",
              "\n",
              "    .dataframe thead th {\n",
              "        text-align: right;\n",
              "    }\n",
              "</style>\n",
              "<table border=\"1\" class=\"dataframe\">\n",
              "  <thead>\n",
              "    <tr style=\"text-align: right;\">\n",
              "      <th></th>\n",
              "      <th>level2</th>\n",
              "      <th>level5/diagnosis</th>\n",
              "      <th>Chief complaint</th>\n",
              "      <th>Sex</th>\n",
              "      <th>Age</th>\n",
              "      <th>Height</th>\n",
              "      <th>Weight</th>\n",
              "      <th>Onset</th>\n",
              "      <th>Location</th>\n",
              "      <th>Duration</th>\n",
              "      <th>Course</th>\n",
              "      <th>Experience</th>\n",
              "      <th>Character</th>\n",
              "      <th>Associated Sx.</th>\n",
              "      <th>Factor</th>\n",
              "      <th>Event</th>\n",
              "      <th>약물 투약력</th>\n",
              "      <th>사회력</th>\n",
              "      <th>가족력</th>\n",
              "      <th>외상력</th>\n",
              "      <th>과거력</th>\n",
              "      <th>여성력</th>\n",
              "      <th>Level1</th>\n",
              "      <th>BMI</th>\n",
              "      <th>Obesity</th>\n",
              "      <th>All</th>\n",
              "    </tr>\n",
              "  </thead>\n",
              "  <tbody>\n",
              "    <tr>\n",
              "      <th>0</th>\n",
              "      <td>급성 복통</td>\n",
              "      <td>소화성 궤양</td>\n",
              "      <td>배가 아파요</td>\n",
              "      <td>남자</td>\n",
              "      <td>50대</td>\n",
              "      <td>170.0</td>\n",
              "      <td>80.0</td>\n",
              "      <td>1일전</td>\n",
              "      <td>명치 부위</td>\n",
              "      <td>지속</td>\n",
              "      <td>심해짐</td>\n",
              "      <td>이전에도 3차례, 통증은 이번보다 약했음</td>\n",
              "      <td>칼로 찢기는 듯한 통증, 통증 심함, 방사통(#), 등으로 퍼짐,</td>\n",
              "      <td>, 구토 (# 2회 흰 물만 나옴 ), 속쓰림, [응급] 어지러움 (#), 갈증 (...</td>\n",
              "      <td>자세에 따른 변화(#), 오른쪽으로 돌아 누우면 완화, 반듯이 누우면 악화,</td>\n",
              "      <td></td>\n",
              "      <td></td>\n",
              "      <td>술(#), 1주일 6~7번, 하루 소주 2~3병, 담배(#), 30갑년, 식사 , ...</td>\n",
              "      <td></td>\n",
              "      <td></td>\n",
              "      <td></td>\n",
              "      <td></td>\n",
              "      <td>digestive</td>\n",
              "      <td>27.681661</td>\n",
              "      <td>과체중</td>\n",
              "      <td>배 아프다 50 대다 남자 1일 전 명치 부위 지속 심해지다 이전 에도 3 차례 통...</td>\n",
              "    </tr>\n",
              "    <tr>\n",
              "      <th>1</th>\n",
              "      <td>급성 복통</td>\n",
              "      <td>소화성 궤양</td>\n",
              "      <td>갑자기 배가 너무 아파요</td>\n",
              "      <td>남자</td>\n",
              "      <td>30대</td>\n",
              "      <td>165.0</td>\n",
              "      <td>70.0</td>\n",
              "      <td>오늘 새벽</td>\n",
              "      <td>명치에서 시작해 현재 복부 전체에 통증</td>\n",
              "      <td>지속</td>\n",
              "      <td>심해짐</td>\n",
              "      <td>이전에도 한 번 겪음</td>\n",
              "      <td>계속 쓰림, 통증 중간</td>\n",
              "      <td>구역질, 구토, 식욕감소</td>\n",
              "      <td>앞으로 숙이는 경우 완화</td>\n",
              "      <td>2년 전 건강 검진 상 이상 없음</td>\n",
              "      <td>관절염 약(진통소염제),</td>\n",
              "      <td>술, 회, 주 2~3회), 회사원, 회식이 잦고 폭음하는 경우가 있음,</td>\n",
              "      <td></td>\n",
              "      <td></td>\n",
              "      <td></td>\n",
              "      <td></td>\n",
              "      <td>digestive</td>\n",
              "      <td>25.711662</td>\n",
              "      <td>과체중</td>\n",
              "      <td>갑자기 배 너무 아프다 30 대다 남자 오늘 새벽 명치 에서 시작 현재 복부 전체 ...</td>\n",
              "    </tr>\n",
              "    <tr>\n",
              "      <th>2</th>\n",
              "      <td>급성 복통</td>\n",
              "      <td>소화성 궤양</td>\n",
              "      <td>속이 쓰려요</td>\n",
              "      <td>여자</td>\n",
              "      <td>70대</td>\n",
              "      <td>160.0</td>\n",
              "      <td>48.0</td>\n",
              "      <td>1달전</td>\n",
              "      <td>명치 부위</td>\n",
              "      <td>지속</td>\n",
              "      <td>심해짐</td>\n",
              "      <td></td>\n",
              "      <td>속이 쓰림, 통증 약함</td>\n",
              "      <td>구역질, 신물이 올라와요</td>\n",
              "      <td>누워있으면 심해져요</td>\n",
              "      <td></td>\n",
              "      <td>관절염약 복용중</td>\n",
              "      <td></td>\n",
              "      <td></td>\n",
              "      <td></td>\n",
              "      <td>HTN(#), DM (#),</td>\n",
              "      <td></td>\n",
              "      <td>digestive</td>\n",
              "      <td>18.750000</td>\n",
              "      <td>저체중</td>\n",
              "      <td>속이다 쓰리다 70 대다 여자 1 달 전 명치 부위 지속 심해지다 속이다 쓰리다 통...</td>\n",
              "    </tr>\n",
              "    <tr>\n",
              "      <th>3</th>\n",
              "      <td>급성 복통</td>\n",
              "      <td>소화성 궤양</td>\n",
              "      <td>속이 쓰려요</td>\n",
              "      <td>남자</td>\n",
              "      <td>10대</td>\n",
              "      <td>160.0</td>\n",
              "      <td>58.0</td>\n",
              "      <td>2달전</td>\n",
              "      <td>명치부위</td>\n",
              "      <td>지속</td>\n",
              "      <td>심해짐</td>\n",
              "      <td></td>\n",
              "      <td>명치부위 압통, 속쓰림</td>\n",
              "      <td>구토</td>\n",
              "      <td></td>\n",
              "      <td></td>\n",
              "      <td>철분제</td>\n",
              "      <td></td>\n",
              "      <td></td>\n",
              "      <td></td>\n",
              "      <td></td>\n",
              "      <td></td>\n",
              "      <td>digestive</td>\n",
              "      <td>22.656250</td>\n",
              "      <td>정상</td>\n",
              "      <td>속이다 쓰리다 10 대다 남자 2 달 전 명치 부위 지속 심해지다 명치 부위 누르다...</td>\n",
              "    </tr>\n",
              "    <tr>\n",
              "      <th>4</th>\n",
              "      <td>급성 복통</td>\n",
              "      <td>소화성 궤양</td>\n",
              "      <td>배가 아파요</td>\n",
              "      <td>남자</td>\n",
              "      <td>60대</td>\n",
              "      <td>170.0</td>\n",
              "      <td>65.0</td>\n",
              "      <td>1시간전</td>\n",
              "      <td>명치부위</td>\n",
              "      <td>지속</td>\n",
              "      <td>심해짐</td>\n",
              "      <td></td>\n",
              "      <td>명치 부위가 아프고 쓰림</td>\n",
              "      <td></td>\n",
              "      <td></td>\n",
              "      <td></td>\n",
              "      <td>고혈압약</td>\n",
              "      <td>5년전 알코올 중독</td>\n",
              "      <td></td>\n",
              "      <td></td>\n",
              "      <td>HTN(#),</td>\n",
              "      <td></td>\n",
              "      <td>digestive</td>\n",
              "      <td>22.491349</td>\n",
              "      <td>정상</td>\n",
              "      <td>배 아프다 60 대다 남자 1시간 전 명치 부위 지속 심해지다 명치 부위 아프다 쓰...</td>\n",
              "    </tr>\n",
              "    <tr>\n",
              "      <th>...</th>\n",
              "      <td>...</td>\n",
              "      <td>...</td>\n",
              "      <td>...</td>\n",
              "      <td>...</td>\n",
              "      <td>...</td>\n",
              "      <td>...</td>\n",
              "      <td>...</td>\n",
              "      <td>...</td>\n",
              "      <td>...</td>\n",
              "      <td>...</td>\n",
              "      <td>...</td>\n",
              "      <td>...</td>\n",
              "      <td>...</td>\n",
              "      <td>...</td>\n",
              "      <td>...</td>\n",
              "      <td>...</td>\n",
              "      <td>...</td>\n",
              "      <td>...</td>\n",
              "      <td>...</td>\n",
              "      <td>...</td>\n",
              "      <td>...</td>\n",
              "      <td>...</td>\n",
              "      <td>...</td>\n",
              "      <td>...</td>\n",
              "      <td>...</td>\n",
              "      <td>...</td>\n",
              "    </tr>\n",
              "    <tr>\n",
              "      <th>2251</th>\n",
              "      <td>미정</td>\n",
              "      <td>폐결핵</td>\n",
              "      <td></td>\n",
              "      <td>여자</td>\n",
              "      <td>60대</td>\n",
              "      <td>152.3</td>\n",
              "      <td>45.8</td>\n",
              "      <td>1일 전</td>\n",
              "      <td>기침 시에 발생</td>\n",
              "      <td>하루 종일 지속됨</td>\n",
              "      <td>약간 심해짐</td>\n",
              "      <td>처음</td>\n",
              "      <td>기침, 가래, 선홍색</td>\n",
              "      <td>발열(#), 오한(#), 체중감소(#),</td>\n",
              "      <td></td>\n",
              "      <td>, 2년 전 건강 검진 시 정상 소견,</td>\n",
              "      <td>2주 전 감기약 먹음, 평소 비타민 복용,</td>\n",
              "      <td>, 담배(#),</td>\n",
              "      <td>아버지(고혈압),</td>\n",
              "      <td></td>\n",
              "      <td>고혈압(#),</td>\n",
              "      <td>규칙적인 월경, 보통인 월경량, 첫날에만 통증 있음</td>\n",
              "      <td>미정</td>\n",
              "      <td>19.745388</td>\n",
              "      <td>저체중</td>\n",
              "      <td>60 대다 여자 1일 전 기침 시 발생 하루 종일 지속 되다 약간 심해지다 처음 기...</td>\n",
              "    </tr>\n",
              "    <tr>\n",
              "      <th>2252</th>\n",
              "      <td>미정</td>\n",
              "      <td>역류성 식도염</td>\n",
              "      <td>속이 아파요</td>\n",
              "      <td>여자</td>\n",
              "      <td>30대</td>\n",
              "      <td>155.0</td>\n",
              "      <td>70.0</td>\n",
              "      <td>3일전</td>\n",
              "      <td>상복부 중앙</td>\n",
              "      <td>지속</td>\n",
              "      <td>심해짐</td>\n",
              "      <td>종종</td>\n",
              "      <td>쓰라린 느낌</td>\n",
              "      <td>구역(#), 등쪽 통증(#), 식은땀(#), 울렁거림(#), 설사(#), 어지러움(...</td>\n",
              "      <td>식후 심해짐</td>\n",
              "      <td>작년 건강검진상 GERD 진단, 약은 먹지 않음</td>\n",
              "      <td></td>\n",
              "      <td>술(#), 하루 맥주 2잔,</td>\n",
              "      <td></td>\n",
              "      <td></td>\n",
              "      <td></td>\n",
              "      <td></td>\n",
              "      <td>미정</td>\n",
              "      <td>29.136316</td>\n",
              "      <td>비만</td>\n",
              "      <td>속이다 아프다 30 대다 여자 3일 전 윗 배 중앙 지속 심해지다 종종 쓰라리다 느...</td>\n",
              "    </tr>\n",
              "    <tr>\n",
              "      <th>2253</th>\n",
              "      <td>미정</td>\n",
              "      <td>대상포진</td>\n",
              "      <td>따끔 거려요</td>\n",
              "      <td>여자</td>\n",
              "      <td>60대</td>\n",
              "      <td>152.0</td>\n",
              "      <td>62.0</td>\n",
              "      <td>어제부터</td>\n",
              "      <td>오른쪽 무릅 및 발등</td>\n",
              "      <td>지속</td>\n",
              "      <td>심해짐</td>\n",
              "      <td>처음</td>\n",
              "      <td>따끔거리는 통증, 가려움 동반</td>\n",
              "      <td></td>\n",
              "      <td></td>\n",
              "      <td></td>\n",
              "      <td></td>\n",
              "      <td></td>\n",
              "      <td></td>\n",
              "      <td></td>\n",
              "      <td>섬유신경종</td>\n",
              "      <td></td>\n",
              "      <td>미정</td>\n",
              "      <td>26.835180</td>\n",
              "      <td>과체중</td>\n",
              "      <td>따끔 걸리다 60 대다 여자 어제 부터 오른쪽 무릎 및 발등 지속 심해지다 처음 따...</td>\n",
              "    </tr>\n",
              "    <tr>\n",
              "      <th>2254</th>\n",
              "      <td>미정</td>\n",
              "      <td>방광염</td>\n",
              "      <td>소변볼때 불편해요</td>\n",
              "      <td>여자</td>\n",
              "      <td>50대</td>\n",
              "      <td>160.0</td>\n",
              "      <td>65.0</td>\n",
              "      <td>5일전부터</td>\n",
              "      <td>하복부</td>\n",
              "      <td>지속</td>\n",
              "      <td>심해짐</td>\n",
              "      <td>처음</td>\n",
              "      <td></td>\n",
              "      <td>배뇨통(#), 피곤감(#),</td>\n",
              "      <td></td>\n",
              "      <td>최근 회사일로 피곤</td>\n",
              "      <td></td>\n",
              "      <td></td>\n",
              "      <td></td>\n",
              "      <td></td>\n",
              "      <td></td>\n",
              "      <td></td>\n",
              "      <td>미정</td>\n",
              "      <td>25.390625</td>\n",
              "      <td>과체중</td>\n",
              "      <td>소변 볼 때 불편하다 50 대다 여자 5일 전 부터 아랫 배 지속 심해지다 처음 배...</td>\n",
              "    </tr>\n",
              "    <tr>\n",
              "      <th>2255</th>\n",
              "      <td>미정</td>\n",
              "      <td>방광염</td>\n",
              "      <td>혈뇨가 나와요</td>\n",
              "      <td>여자</td>\n",
              "      <td>40대</td>\n",
              "      <td>158.0</td>\n",
              "      <td>55.0</td>\n",
              "      <td>3일전</td>\n",
              "      <td>하복부</td>\n",
              "      <td>지속</td>\n",
              "      <td>심해짐</td>\n",
              "      <td>종종</td>\n",
              "      <td>선홍색 육안적 혈뇨</td>\n",
              "      <td>배뇨통(#), 혈뇨(#), 피곤감(#),</td>\n",
              "      <td></td>\n",
              "      <td></td>\n",
              "      <td></td>\n",
              "      <td></td>\n",
              "      <td></td>\n",
              "      <td></td>\n",
              "      <td></td>\n",
              "      <td></td>\n",
              "      <td>미정</td>\n",
              "      <td>22.031726</td>\n",
              "      <td>정상</td>\n",
              "      <td>혈뇨 나오다 40 대다 여자 3일 전 아랫 배 지속 심해지다 종종 선 홍색 육안 적...</td>\n",
              "    </tr>\n",
              "  </tbody>\n",
              "</table>\n",
              "<p>2256 rows × 26 columns</p>\n",
              "</div>\n",
              "      <button class=\"colab-df-convert\" onclick=\"convertToInteractive('df-835a12f1-1052-4ada-af6d-4d5bd90f1f0c')\"\n",
              "              title=\"Convert this dataframe to an interactive table.\"\n",
              "              style=\"display:none;\">\n",
              "        \n",
              "  <svg xmlns=\"http://www.w3.org/2000/svg\" height=\"24px\"viewBox=\"0 0 24 24\"\n",
              "       width=\"24px\">\n",
              "    <path d=\"M0 0h24v24H0V0z\" fill=\"none\"/>\n",
              "    <path d=\"M18.56 5.44l.94 2.06.94-2.06 2.06-.94-2.06-.94-.94-2.06-.94 2.06-2.06.94zm-11 1L8.5 8.5l.94-2.06 2.06-.94-2.06-.94L8.5 2.5l-.94 2.06-2.06.94zm10 10l.94 2.06.94-2.06 2.06-.94-2.06-.94-.94-2.06-.94 2.06-2.06.94z\"/><path d=\"M17.41 7.96l-1.37-1.37c-.4-.4-.92-.59-1.43-.59-.52 0-1.04.2-1.43.59L10.3 9.45l-7.72 7.72c-.78.78-.78 2.05 0 2.83L4 21.41c.39.39.9.59 1.41.59.51 0 1.02-.2 1.41-.59l7.78-7.78 2.81-2.81c.8-.78.8-2.07 0-2.86zM5.41 20L4 18.59l7.72-7.72 1.47 1.35L5.41 20z\"/>\n",
              "  </svg>\n",
              "      </button>\n",
              "      \n",
              "  <style>\n",
              "    .colab-df-container {\n",
              "      display:flex;\n",
              "      flex-wrap:wrap;\n",
              "      gap: 12px;\n",
              "    }\n",
              "\n",
              "    .colab-df-convert {\n",
              "      background-color: #E8F0FE;\n",
              "      border: none;\n",
              "      border-radius: 50%;\n",
              "      cursor: pointer;\n",
              "      display: none;\n",
              "      fill: #1967D2;\n",
              "      height: 32px;\n",
              "      padding: 0 0 0 0;\n",
              "      width: 32px;\n",
              "    }\n",
              "\n",
              "    .colab-df-convert:hover {\n",
              "      background-color: #E2EBFA;\n",
              "      box-shadow: 0px 1px 2px rgba(60, 64, 67, 0.3), 0px 1px 3px 1px rgba(60, 64, 67, 0.15);\n",
              "      fill: #174EA6;\n",
              "    }\n",
              "\n",
              "    [theme=dark] .colab-df-convert {\n",
              "      background-color: #3B4455;\n",
              "      fill: #D2E3FC;\n",
              "    }\n",
              "\n",
              "    [theme=dark] .colab-df-convert:hover {\n",
              "      background-color: #434B5C;\n",
              "      box-shadow: 0px 1px 3px 1px rgba(0, 0, 0, 0.15);\n",
              "      filter: drop-shadow(0px 1px 2px rgba(0, 0, 0, 0.3));\n",
              "      fill: #FFFFFF;\n",
              "    }\n",
              "  </style>\n",
              "\n",
              "      <script>\n",
              "        const buttonEl =\n",
              "          document.querySelector('#df-835a12f1-1052-4ada-af6d-4d5bd90f1f0c button.colab-df-convert');\n",
              "        buttonEl.style.display =\n",
              "          google.colab.kernel.accessAllowed ? 'block' : 'none';\n",
              "\n",
              "        async function convertToInteractive(key) {\n",
              "          const element = document.querySelector('#df-835a12f1-1052-4ada-af6d-4d5bd90f1f0c');\n",
              "          const dataTable =\n",
              "            await google.colab.kernel.invokeFunction('convertToInteractive',\n",
              "                                                     [key], {});\n",
              "          if (!dataTable) return;\n",
              "\n",
              "          const docLinkHtml = 'Like what you see? Visit the ' +\n",
              "            '<a target=\"_blank\" href=https://colab.research.google.com/notebooks/data_table.ipynb>data table notebook</a>'\n",
              "            + ' to learn more about interactive tables.';\n",
              "          element.innerHTML = '';\n",
              "          dataTable['output_type'] = 'display_data';\n",
              "          await google.colab.output.renderOutput(dataTable, element);\n",
              "          const docLink = document.createElement('div');\n",
              "          docLink.innerHTML = docLinkHtml;\n",
              "          element.appendChild(docLink);\n",
              "        }\n",
              "      </script>\n",
              "    </div>\n",
              "  </div>\n",
              "  "
            ],
            "text/plain": [
              "     level2 level5/diagnosis Chief complaint Sex  Age  Height  Weight  Onset  \\\n",
              "0     급성 복통           소화성 궤양          배가 아파요  남자  50대   170.0    80.0    1일전   \n",
              "1     급성 복통           소화성 궤양   갑자기 배가 너무 아파요  남자  30대   165.0    70.0  오늘 새벽   \n",
              "2     급성 복통           소화성 궤양          속이 쓰려요  여자  70대   160.0    48.0    1달전   \n",
              "3     급성 복통           소화성 궤양          속이 쓰려요  남자  10대   160.0    58.0    2달전   \n",
              "4     급성 복통           소화성 궤양          배가 아파요  남자  60대   170.0    65.0   1시간전   \n",
              "...     ...              ...             ...  ..  ...     ...     ...    ...   \n",
              "2251     미정              폐결핵                  여자  60대   152.3    45.8   1일 전   \n",
              "2252     미정          역류성 식도염          속이 아파요  여자  30대   155.0    70.0    3일전   \n",
              "2253     미정             대상포진          따끔 거려요  여자  60대   152.0    62.0   어제부터   \n",
              "2254     미정              방광염       소변볼때 불편해요  여자  50대   160.0    65.0  5일전부터   \n",
              "2255     미정              방광염         혈뇨가 나와요  여자  40대   158.0    55.0    3일전   \n",
              "\n",
              "                   Location   Duration  Course               Experience  \\\n",
              "0                     명치 부위         지속     심해짐  이전에도 3차례, 통증은 이번보다 약했음    \n",
              "1     명치에서 시작해 현재 복부 전체에 통증         지속     심해짐              이전에도 한 번 겪음   \n",
              "2                     명치 부위         지속     심해짐                            \n",
              "3                     명치부위          지속     심해짐                            \n",
              "4                      명치부위         지속     심해짐                            \n",
              "...                     ...        ...     ...                      ...   \n",
              "2251               기침 시에 발생  하루 종일 지속됨  약간 심해짐                       처음   \n",
              "2252                 상복부 중앙         지속     심해짐                       종종   \n",
              "2253            오른쪽 무릅 및 발등         지속     심해짐                       처음   \n",
              "2254                    하복부         지속     심해짐                       처음   \n",
              "2255                   하복부          지속     심해짐                       종종   \n",
              "\n",
              "                                  Character  \\\n",
              "0     칼로 찢기는 듯한 통증, 통증 심함, 방사통(#), 등으로 퍼짐,    \n",
              "1                              계속 쓰림, 통증 중간   \n",
              "2                              속이 쓰림, 통증 약함   \n",
              "3                              명치부위 압통, 속쓰림   \n",
              "4                             명치 부위가 아프고 쓰림   \n",
              "...                                     ...   \n",
              "2251                            기침, 가래, 선홍색   \n",
              "2252                                 쓰라린 느낌   \n",
              "2253                       따끔거리는 통증, 가려움 동반   \n",
              "2254                                          \n",
              "2255                             선홍색 육안적 혈뇨   \n",
              "\n",
              "                                         Associated Sx.  \\\n",
              "0     , 구토 (# 2회 흰 물만 나옴 ), 속쓰림, [응급] 어지러움 (#), 갈증 (...   \n",
              "1                                         구역질, 구토, 식욕감소   \n",
              "2                                         구역질, 신물이 올라와요   \n",
              "3                                                    구토   \n",
              "4                                                         \n",
              "...                                                 ...   \n",
              "2251                            발열(#), 오한(#), 체중감소(#),    \n",
              "2252  구역(#), 등쪽 통증(#), 식은땀(#), 울렁거림(#), 설사(#), 어지러움(...   \n",
              "2253                                                      \n",
              "2254                                   배뇨통(#), 피곤감(#),    \n",
              "2255                            배뇨통(#), 혈뇨(#), 피곤감(#),    \n",
              "\n",
              "                                           Factor                       Event  \\\n",
              "0     자세에 따른 변화(#), 오른쪽으로 돌아 누우면 완화, 반듯이 누우면 악화,                                \n",
              "1                                   앞으로 숙이는 경우 완화          2년 전 건강 검진 상 이상 없음   \n",
              "2                                      누워있으면 심해져요                               \n",
              "3                                                                               \n",
              "4                                                                               \n",
              "...                                           ...                         ...   \n",
              "2251                                                   , 2년 전 건강 검진 시 정상 소견,    \n",
              "2252                                       식후 심해짐  작년 건강검진상 GERD 진단, 약은 먹지 않음   \n",
              "2253                                                                            \n",
              "2254                                                               최근 회사일로 피곤   \n",
              "2255                                                                            \n",
              "\n",
              "                        약물 투약력  \\\n",
              "0                                \n",
              "1               관절염 약(진통소염제),    \n",
              "2                     관절염약 복용중   \n",
              "3                          철분제   \n",
              "4                         고혈압약   \n",
              "...                        ...   \n",
              "2251  2주 전 감기약 먹음, 평소 비타민 복용,    \n",
              "2252                             \n",
              "2253                             \n",
              "2254                             \n",
              "2255                             \n",
              "\n",
              "                                                    사회력         가족력 외상력  \\\n",
              "0     술(#), 1주일 6~7번, 하루 소주 2~3병, 담배(#), 30갑년, 식사 , ...                   \n",
              "1              술, 회, 주 2~3회), 회사원, 회식이 잦고 폭음하는 경우가 있음,                    \n",
              "2                                                                         \n",
              "3                                                                         \n",
              "4                                            5년전 알코올 중독                   \n",
              "...                                                 ...         ...  ..   \n",
              "2251                                          , 담배(#),   아버지(고혈압),        \n",
              "2252                                   술(#), 하루 맥주 2잔,                    \n",
              "2253                                                                      \n",
              "2254                                                                      \n",
              "2255                                                                      \n",
              "\n",
              "                   과거력                           여성력     Level1        BMI  \\\n",
              "0                                                     digestive  27.681661   \n",
              "1                                                     digestive  25.711662   \n",
              "2     HTN(#), DM (#),                                 digestive  18.750000   \n",
              "3                                                     digestive  22.656250   \n",
              "4             HTN(#),                                 digestive  22.491349   \n",
              "...                ...                           ...        ...        ...   \n",
              "2251          고혈압(#),   규칙적인 월경, 보통인 월경량, 첫날에만 통증 있음         미정  19.745388   \n",
              "2252                                                         미정  29.136316   \n",
              "2253             섬유신경종                                       미정  26.835180   \n",
              "2254                                                         미정  25.390625   \n",
              "2255                                                         미정  22.031726   \n",
              "\n",
              "     Obesity                                                All  \n",
              "0        과체중  배 아프다 50 대다 남자 1일 전 명치 부위 지속 심해지다 이전 에도 3 차례 통...  \n",
              "1        과체중  갑자기 배 너무 아프다 30 대다 남자 오늘 새벽 명치 에서 시작 현재 복부 전체 ...  \n",
              "2        저체중  속이다 쓰리다 70 대다 여자 1 달 전 명치 부위 지속 심해지다 속이다 쓰리다 통...  \n",
              "3         정상  속이다 쓰리다 10 대다 남자 2 달 전 명치 부위 지속 심해지다 명치 부위 누르다...  \n",
              "4         정상  배 아프다 60 대다 남자 1시간 전 명치 부위 지속 심해지다 명치 부위 아프다 쓰...  \n",
              "...      ...                                                ...  \n",
              "2251     저체중  60 대다 여자 1일 전 기침 시 발생 하루 종일 지속 되다 약간 심해지다 처음 기...  \n",
              "2252      비만  속이다 아프다 30 대다 여자 3일 전 윗 배 중앙 지속 심해지다 종종 쓰라리다 느...  \n",
              "2253     과체중  따끔 걸리다 60 대다 여자 어제 부터 오른쪽 무릎 및 발등 지속 심해지다 처음 따...  \n",
              "2254     과체중  소변 볼 때 불편하다 50 대다 여자 5일 전 부터 아랫 배 지속 심해지다 처음 배...  \n",
              "2255      정상  혈뇨 나오다 40 대다 여자 3일 전 아랫 배 지속 심해지다 종종 선 홍색 육안 적...  \n",
              "\n",
              "[2256 rows x 26 columns]"
            ]
          },
          "execution_count": 71,
          "metadata": {},
          "output_type": "execute_result"
        }
      ],
      "source": [
        "data_test = data.copy()\n",
        "data_test"
      ]
    },
    {
      "cell_type": "code",
      "execution_count": null,
      "metadata": {
        "id": "Vy8_LOUf6Wf9"
      },
      "outputs": [],
      "source": [
        "for m in data.columns[10:21]: #'Experience', 'Character', 'Associated Sx.', 'Factor', 'Event', '약물 투약력', '사회력', '가족력', '외상력', '과거력', '여성력']\n",
        "  data_test[m] = data_test.apply(lambda x : NRS_to_text(x[m]) , axis = 1 )"
      ]
    },
    {
      "cell_type": "code",
      "execution_count": null,
      "metadata": {
        "colab": {
          "base_uri": "https://localhost:8080/",
          "height": 1000
        },
        "id": "H-4uBv7L6b5n",
        "outputId": "fe838a1f-9329-4847-df90-3205a26300ce"
      },
      "outputs": [
        {
          "data": {
            "text/html": [
              "\n",
              "  <div id=\"df-20b3288d-3fcc-4f5d-8a8a-ba1f403dd839\">\n",
              "    <div class=\"colab-df-container\">\n",
              "      <div>\n",
              "<style scoped>\n",
              "    .dataframe tbody tr th:only-of-type {\n",
              "        vertical-align: middle;\n",
              "    }\n",
              "\n",
              "    .dataframe tbody tr th {\n",
              "        vertical-align: top;\n",
              "    }\n",
              "\n",
              "    .dataframe thead th {\n",
              "        text-align: right;\n",
              "    }\n",
              "</style>\n",
              "<table border=\"1\" class=\"dataframe\">\n",
              "  <thead>\n",
              "    <tr style=\"text-align: right;\">\n",
              "      <th></th>\n",
              "      <th>level2</th>\n",
              "      <th>level5/diagnosis</th>\n",
              "      <th>Chief complaint</th>\n",
              "      <th>Sex</th>\n",
              "      <th>Age</th>\n",
              "      <th>Height</th>\n",
              "      <th>Weight</th>\n",
              "      <th>Onset</th>\n",
              "      <th>Location</th>\n",
              "      <th>Duration</th>\n",
              "      <th>Course</th>\n",
              "      <th>Experience</th>\n",
              "      <th>Character</th>\n",
              "      <th>Associated Sx.</th>\n",
              "      <th>Factor</th>\n",
              "      <th>Event</th>\n",
              "      <th>약물 투약력</th>\n",
              "      <th>사회력</th>\n",
              "      <th>가족력</th>\n",
              "      <th>외상력</th>\n",
              "      <th>과거력</th>\n",
              "      <th>여성력</th>\n",
              "      <th>Level1</th>\n",
              "      <th>BMI</th>\n",
              "      <th>Obesity</th>\n",
              "      <th>All</th>\n",
              "    </tr>\n",
              "  </thead>\n",
              "  <tbody>\n",
              "    <tr>\n",
              "      <th>0</th>\n",
              "      <td>급성 복통</td>\n",
              "      <td>소화성 궤양</td>\n",
              "      <td>배가 아파요</td>\n",
              "      <td>남자</td>\n",
              "      <td>50대</td>\n",
              "      <td>170.0</td>\n",
              "      <td>80.0</td>\n",
              "      <td>1일전</td>\n",
              "      <td>명치 부위</td>\n",
              "      <td>지속</td>\n",
              "      <td>심해짐</td>\n",
              "      <td>이전에도 3차례, 통증은 이번보다 약했음</td>\n",
              "      <td>칼로 찢기는 듯한 통증, 통증 심함, 방사통(#), 등으로 퍼짐,</td>\n",
              "      <td>, 구토 (# 2회 흰 물만 나옴 ), 속쓰림, [응급] 어지러움 (#), 갈증 (...</td>\n",
              "      <td>자세에 따른 변화(#), 오른쪽으로 돌아 누우면 완화, 반듯이 누우면 악화,</td>\n",
              "      <td></td>\n",
              "      <td></td>\n",
              "      <td>술(#), 1주일 6~7번, 하루 소주 2~3병, 담배(#), 30갑년, 식사 , ...</td>\n",
              "      <td></td>\n",
              "      <td></td>\n",
              "      <td></td>\n",
              "      <td></td>\n",
              "      <td>digestive</td>\n",
              "      <td>27.681661</td>\n",
              "      <td>과체중</td>\n",
              "      <td>배 아프다 50 대다 남자 1일 전 명치 부위 지속 심해지다 이전 에도 3 차례 통...</td>\n",
              "    </tr>\n",
              "    <tr>\n",
              "      <th>1</th>\n",
              "      <td>급성 복통</td>\n",
              "      <td>소화성 궤양</td>\n",
              "      <td>갑자기 배가 너무 아파요</td>\n",
              "      <td>남자</td>\n",
              "      <td>30대</td>\n",
              "      <td>165.0</td>\n",
              "      <td>70.0</td>\n",
              "      <td>오늘 새벽</td>\n",
              "      <td>명치에서 시작해 현재 복부 전체에 통증</td>\n",
              "      <td>지속</td>\n",
              "      <td>심해짐</td>\n",
              "      <td>이전에도 한 번 겪음</td>\n",
              "      <td>계속 쓰림, 통증 중간</td>\n",
              "      <td>구역질, 구토, 식욕감소</td>\n",
              "      <td>앞으로 숙이는 경우 완화</td>\n",
              "      <td>2년 전 건강 검진 상 이상 없음</td>\n",
              "      <td>관절염 약(진통소염제),</td>\n",
              "      <td>술, 회, 주 2~3회), 회사원, 회식이 잦고 폭음하는 경우가 있음,</td>\n",
              "      <td></td>\n",
              "      <td></td>\n",
              "      <td></td>\n",
              "      <td></td>\n",
              "      <td>digestive</td>\n",
              "      <td>25.711662</td>\n",
              "      <td>과체중</td>\n",
              "      <td>갑자기 배 너무 아프다 30 대다 남자 오늘 새벽 명치 에서 시작 현재 복부 전체 ...</td>\n",
              "    </tr>\n",
              "    <tr>\n",
              "      <th>2</th>\n",
              "      <td>급성 복통</td>\n",
              "      <td>소화성 궤양</td>\n",
              "      <td>속이 쓰려요</td>\n",
              "      <td>여자</td>\n",
              "      <td>70대</td>\n",
              "      <td>160.0</td>\n",
              "      <td>48.0</td>\n",
              "      <td>1달전</td>\n",
              "      <td>명치 부위</td>\n",
              "      <td>지속</td>\n",
              "      <td>심해짐</td>\n",
              "      <td></td>\n",
              "      <td>속이 쓰림, 통증 약함</td>\n",
              "      <td>구역질, 신물이 올라와요</td>\n",
              "      <td>누워있으면 심해져요</td>\n",
              "      <td></td>\n",
              "      <td>관절염약 복용중</td>\n",
              "      <td></td>\n",
              "      <td></td>\n",
              "      <td></td>\n",
              "      <td>HTN(#), DM (#),</td>\n",
              "      <td></td>\n",
              "      <td>digestive</td>\n",
              "      <td>18.750000</td>\n",
              "      <td>저체중</td>\n",
              "      <td>속이다 쓰리다 70 대다 여자 1 달 전 명치 부위 지속 심해지다 속이다 쓰리다 통...</td>\n",
              "    </tr>\n",
              "    <tr>\n",
              "      <th>3</th>\n",
              "      <td>급성 복통</td>\n",
              "      <td>소화성 궤양</td>\n",
              "      <td>속이 쓰려요</td>\n",
              "      <td>남자</td>\n",
              "      <td>10대</td>\n",
              "      <td>160.0</td>\n",
              "      <td>58.0</td>\n",
              "      <td>2달전</td>\n",
              "      <td>명치부위</td>\n",
              "      <td>지속</td>\n",
              "      <td>심해짐</td>\n",
              "      <td></td>\n",
              "      <td>명치부위 압통, 속쓰림</td>\n",
              "      <td>구토</td>\n",
              "      <td></td>\n",
              "      <td></td>\n",
              "      <td>철분제</td>\n",
              "      <td></td>\n",
              "      <td></td>\n",
              "      <td></td>\n",
              "      <td></td>\n",
              "      <td></td>\n",
              "      <td>digestive</td>\n",
              "      <td>22.656250</td>\n",
              "      <td>정상</td>\n",
              "      <td>속이다 쓰리다 10 대다 남자 2 달 전 명치 부위 지속 심해지다 명치 부위 누르다...</td>\n",
              "    </tr>\n",
              "    <tr>\n",
              "      <th>4</th>\n",
              "      <td>급성 복통</td>\n",
              "      <td>소화성 궤양</td>\n",
              "      <td>배가 아파요</td>\n",
              "      <td>남자</td>\n",
              "      <td>60대</td>\n",
              "      <td>170.0</td>\n",
              "      <td>65.0</td>\n",
              "      <td>1시간전</td>\n",
              "      <td>명치부위</td>\n",
              "      <td>지속</td>\n",
              "      <td>심해짐</td>\n",
              "      <td></td>\n",
              "      <td>명치 부위가 아프고 쓰림</td>\n",
              "      <td></td>\n",
              "      <td></td>\n",
              "      <td></td>\n",
              "      <td>고혈압약</td>\n",
              "      <td>5년전 알코올 중독</td>\n",
              "      <td></td>\n",
              "      <td></td>\n",
              "      <td>HTN(#),</td>\n",
              "      <td></td>\n",
              "      <td>digestive</td>\n",
              "      <td>22.491349</td>\n",
              "      <td>정상</td>\n",
              "      <td>배 아프다 60 대다 남자 1시간 전 명치 부위 지속 심해지다 명치 부위 아프다 쓰...</td>\n",
              "    </tr>\n",
              "    <tr>\n",
              "      <th>...</th>\n",
              "      <td>...</td>\n",
              "      <td>...</td>\n",
              "      <td>...</td>\n",
              "      <td>...</td>\n",
              "      <td>...</td>\n",
              "      <td>...</td>\n",
              "      <td>...</td>\n",
              "      <td>...</td>\n",
              "      <td>...</td>\n",
              "      <td>...</td>\n",
              "      <td>...</td>\n",
              "      <td>...</td>\n",
              "      <td>...</td>\n",
              "      <td>...</td>\n",
              "      <td>...</td>\n",
              "      <td>...</td>\n",
              "      <td>...</td>\n",
              "      <td>...</td>\n",
              "      <td>...</td>\n",
              "      <td>...</td>\n",
              "      <td>...</td>\n",
              "      <td>...</td>\n",
              "      <td>...</td>\n",
              "      <td>...</td>\n",
              "      <td>...</td>\n",
              "      <td>...</td>\n",
              "    </tr>\n",
              "    <tr>\n",
              "      <th>2251</th>\n",
              "      <td>미정</td>\n",
              "      <td>폐결핵</td>\n",
              "      <td></td>\n",
              "      <td>여자</td>\n",
              "      <td>60대</td>\n",
              "      <td>152.3</td>\n",
              "      <td>45.8</td>\n",
              "      <td>1일 전</td>\n",
              "      <td>기침 시에 발생</td>\n",
              "      <td>하루 종일 지속됨</td>\n",
              "      <td>약간 심해짐</td>\n",
              "      <td>처음</td>\n",
              "      <td>기침, 가래, 선홍색</td>\n",
              "      <td>발열(#), 오한(#), 체중감소(#),</td>\n",
              "      <td></td>\n",
              "      <td>, 2년 전 건강 검진 시 정상 소견,</td>\n",
              "      <td>2주 전 감기약 먹음, 평소 비타민 복용,</td>\n",
              "      <td>, 담배(#),</td>\n",
              "      <td>아버지(고혈압),</td>\n",
              "      <td></td>\n",
              "      <td>고혈압(#),</td>\n",
              "      <td>규칙적인 월경, 보통인 월경량, 첫날에만 통증 있음</td>\n",
              "      <td>미정</td>\n",
              "      <td>19.745388</td>\n",
              "      <td>저체중</td>\n",
              "      <td>60 대다 여자 1일 전 기침 시 발생 하루 종일 지속 되다 약간 심해지다 처음 기...</td>\n",
              "    </tr>\n",
              "    <tr>\n",
              "      <th>2252</th>\n",
              "      <td>미정</td>\n",
              "      <td>역류성 식도염</td>\n",
              "      <td>속이 아파요</td>\n",
              "      <td>여자</td>\n",
              "      <td>30대</td>\n",
              "      <td>155.0</td>\n",
              "      <td>70.0</td>\n",
              "      <td>3일전</td>\n",
              "      <td>상복부 중앙</td>\n",
              "      <td>지속</td>\n",
              "      <td>심해짐</td>\n",
              "      <td>종종</td>\n",
              "      <td>쓰라린 느낌</td>\n",
              "      <td>구역(#), 등쪽 통증(#), 식은땀(#), 울렁거림(#), 설사(#), 어지러움(...</td>\n",
              "      <td>식후 심해짐</td>\n",
              "      <td>작년 건강검진상 GERD 진단, 약은 먹지 않음</td>\n",
              "      <td></td>\n",
              "      <td>술(#), 하루 맥주 2잔,</td>\n",
              "      <td></td>\n",
              "      <td></td>\n",
              "      <td></td>\n",
              "      <td></td>\n",
              "      <td>미정</td>\n",
              "      <td>29.136316</td>\n",
              "      <td>비만</td>\n",
              "      <td>속이다 아프다 30 대다 여자 3일 전 윗 배 중앙 지속 심해지다 종종 쓰라리다 느...</td>\n",
              "    </tr>\n",
              "    <tr>\n",
              "      <th>2253</th>\n",
              "      <td>미정</td>\n",
              "      <td>대상포진</td>\n",
              "      <td>따끔 거려요</td>\n",
              "      <td>여자</td>\n",
              "      <td>60대</td>\n",
              "      <td>152.0</td>\n",
              "      <td>62.0</td>\n",
              "      <td>어제부터</td>\n",
              "      <td>오른쪽 무릅 및 발등</td>\n",
              "      <td>지속</td>\n",
              "      <td>심해짐</td>\n",
              "      <td>처음</td>\n",
              "      <td>따끔거리는 통증, 가려움 동반</td>\n",
              "      <td></td>\n",
              "      <td></td>\n",
              "      <td></td>\n",
              "      <td></td>\n",
              "      <td></td>\n",
              "      <td></td>\n",
              "      <td></td>\n",
              "      <td>섬유신경종</td>\n",
              "      <td></td>\n",
              "      <td>미정</td>\n",
              "      <td>26.835180</td>\n",
              "      <td>과체중</td>\n",
              "      <td>따끔 걸리다 60 대다 여자 어제 부터 오른쪽 무릎 및 발등 지속 심해지다 처음 따...</td>\n",
              "    </tr>\n",
              "    <tr>\n",
              "      <th>2254</th>\n",
              "      <td>미정</td>\n",
              "      <td>방광염</td>\n",
              "      <td>소변볼때 불편해요</td>\n",
              "      <td>여자</td>\n",
              "      <td>50대</td>\n",
              "      <td>160.0</td>\n",
              "      <td>65.0</td>\n",
              "      <td>5일전부터</td>\n",
              "      <td>하복부</td>\n",
              "      <td>지속</td>\n",
              "      <td>심해짐</td>\n",
              "      <td>처음</td>\n",
              "      <td></td>\n",
              "      <td>배뇨통(#), 피곤감(#),</td>\n",
              "      <td></td>\n",
              "      <td>최근 회사일로 피곤</td>\n",
              "      <td></td>\n",
              "      <td></td>\n",
              "      <td></td>\n",
              "      <td></td>\n",
              "      <td></td>\n",
              "      <td></td>\n",
              "      <td>미정</td>\n",
              "      <td>25.390625</td>\n",
              "      <td>과체중</td>\n",
              "      <td>소변 볼 때 불편하다 50 대다 여자 5일 전 부터 아랫 배 지속 심해지다 처음 배...</td>\n",
              "    </tr>\n",
              "    <tr>\n",
              "      <th>2255</th>\n",
              "      <td>미정</td>\n",
              "      <td>방광염</td>\n",
              "      <td>혈뇨가 나와요</td>\n",
              "      <td>여자</td>\n",
              "      <td>40대</td>\n",
              "      <td>158.0</td>\n",
              "      <td>55.0</td>\n",
              "      <td>3일전</td>\n",
              "      <td>하복부</td>\n",
              "      <td>지속</td>\n",
              "      <td>심해짐</td>\n",
              "      <td>종종</td>\n",
              "      <td>선홍색 육안적 혈뇨</td>\n",
              "      <td>배뇨통(#), 혈뇨(#), 피곤감(#),</td>\n",
              "      <td></td>\n",
              "      <td></td>\n",
              "      <td></td>\n",
              "      <td></td>\n",
              "      <td></td>\n",
              "      <td></td>\n",
              "      <td></td>\n",
              "      <td></td>\n",
              "      <td>미정</td>\n",
              "      <td>22.031726</td>\n",
              "      <td>정상</td>\n",
              "      <td>혈뇨 나오다 40 대다 여자 3일 전 아랫 배 지속 심해지다 종종 선 홍색 육안 적...</td>\n",
              "    </tr>\n",
              "  </tbody>\n",
              "</table>\n",
              "<p>2256 rows × 26 columns</p>\n",
              "</div>\n",
              "      <button class=\"colab-df-convert\" onclick=\"convertToInteractive('df-20b3288d-3fcc-4f5d-8a8a-ba1f403dd839')\"\n",
              "              title=\"Convert this dataframe to an interactive table.\"\n",
              "              style=\"display:none;\">\n",
              "        \n",
              "  <svg xmlns=\"http://www.w3.org/2000/svg\" height=\"24px\"viewBox=\"0 0 24 24\"\n",
              "       width=\"24px\">\n",
              "    <path d=\"M0 0h24v24H0V0z\" fill=\"none\"/>\n",
              "    <path d=\"M18.56 5.44l.94 2.06.94-2.06 2.06-.94-2.06-.94-.94-2.06-.94 2.06-2.06.94zm-11 1L8.5 8.5l.94-2.06 2.06-.94-2.06-.94L8.5 2.5l-.94 2.06-2.06.94zm10 10l.94 2.06.94-2.06 2.06-.94-2.06-.94-.94-2.06-.94 2.06-2.06.94z\"/><path d=\"M17.41 7.96l-1.37-1.37c-.4-.4-.92-.59-1.43-.59-.52 0-1.04.2-1.43.59L10.3 9.45l-7.72 7.72c-.78.78-.78 2.05 0 2.83L4 21.41c.39.39.9.59 1.41.59.51 0 1.02-.2 1.41-.59l7.78-7.78 2.81-2.81c.8-.78.8-2.07 0-2.86zM5.41 20L4 18.59l7.72-7.72 1.47 1.35L5.41 20z\"/>\n",
              "  </svg>\n",
              "      </button>\n",
              "      \n",
              "  <style>\n",
              "    .colab-df-container {\n",
              "      display:flex;\n",
              "      flex-wrap:wrap;\n",
              "      gap: 12px;\n",
              "    }\n",
              "\n",
              "    .colab-df-convert {\n",
              "      background-color: #E8F0FE;\n",
              "      border: none;\n",
              "      border-radius: 50%;\n",
              "      cursor: pointer;\n",
              "      display: none;\n",
              "      fill: #1967D2;\n",
              "      height: 32px;\n",
              "      padding: 0 0 0 0;\n",
              "      width: 32px;\n",
              "    }\n",
              "\n",
              "    .colab-df-convert:hover {\n",
              "      background-color: #E2EBFA;\n",
              "      box-shadow: 0px 1px 2px rgba(60, 64, 67, 0.3), 0px 1px 3px 1px rgba(60, 64, 67, 0.15);\n",
              "      fill: #174EA6;\n",
              "    }\n",
              "\n",
              "    [theme=dark] .colab-df-convert {\n",
              "      background-color: #3B4455;\n",
              "      fill: #D2E3FC;\n",
              "    }\n",
              "\n",
              "    [theme=dark] .colab-df-convert:hover {\n",
              "      background-color: #434B5C;\n",
              "      box-shadow: 0px 1px 3px 1px rgba(0, 0, 0, 0.15);\n",
              "      filter: drop-shadow(0px 1px 2px rgba(0, 0, 0, 0.3));\n",
              "      fill: #FFFFFF;\n",
              "    }\n",
              "  </style>\n",
              "\n",
              "      <script>\n",
              "        const buttonEl =\n",
              "          document.querySelector('#df-20b3288d-3fcc-4f5d-8a8a-ba1f403dd839 button.colab-df-convert');\n",
              "        buttonEl.style.display =\n",
              "          google.colab.kernel.accessAllowed ? 'block' : 'none';\n",
              "\n",
              "        async function convertToInteractive(key) {\n",
              "          const element = document.querySelector('#df-20b3288d-3fcc-4f5d-8a8a-ba1f403dd839');\n",
              "          const dataTable =\n",
              "            await google.colab.kernel.invokeFunction('convertToInteractive',\n",
              "                                                     [key], {});\n",
              "          if (!dataTable) return;\n",
              "\n",
              "          const docLinkHtml = 'Like what you see? Visit the ' +\n",
              "            '<a target=\"_blank\" href=https://colab.research.google.com/notebooks/data_table.ipynb>data table notebook</a>'\n",
              "            + ' to learn more about interactive tables.';\n",
              "          element.innerHTML = '';\n",
              "          dataTable['output_type'] = 'display_data';\n",
              "          await google.colab.output.renderOutput(dataTable, element);\n",
              "          const docLink = document.createElement('div');\n",
              "          docLink.innerHTML = docLinkHtml;\n",
              "          element.appendChild(docLink);\n",
              "        }\n",
              "      </script>\n",
              "    </div>\n",
              "  </div>\n",
              "  "
            ],
            "text/plain": [
              "     level2 level5/diagnosis Chief complaint Sex  Age  Height  Weight  Onset  \\\n",
              "0     급성 복통           소화성 궤양          배가 아파요  남자  50대   170.0    80.0    1일전   \n",
              "1     급성 복통           소화성 궤양   갑자기 배가 너무 아파요  남자  30대   165.0    70.0  오늘 새벽   \n",
              "2     급성 복통           소화성 궤양          속이 쓰려요  여자  70대   160.0    48.0    1달전   \n",
              "3     급성 복통           소화성 궤양          속이 쓰려요  남자  10대   160.0    58.0    2달전   \n",
              "4     급성 복통           소화성 궤양          배가 아파요  남자  60대   170.0    65.0   1시간전   \n",
              "...     ...              ...             ...  ..  ...     ...     ...    ...   \n",
              "2251     미정              폐결핵                  여자  60대   152.3    45.8   1일 전   \n",
              "2252     미정          역류성 식도염          속이 아파요  여자  30대   155.0    70.0    3일전   \n",
              "2253     미정             대상포진          따끔 거려요  여자  60대   152.0    62.0   어제부터   \n",
              "2254     미정              방광염       소변볼때 불편해요  여자  50대   160.0    65.0  5일전부터   \n",
              "2255     미정              방광염         혈뇨가 나와요  여자  40대   158.0    55.0    3일전   \n",
              "\n",
              "                   Location   Duration  Course               Experience  \\\n",
              "0                     명치 부위         지속     심해짐  이전에도 3차례, 통증은 이번보다 약했음    \n",
              "1     명치에서 시작해 현재 복부 전체에 통증         지속     심해짐              이전에도 한 번 겪음   \n",
              "2                     명치 부위         지속     심해짐                            \n",
              "3                     명치부위          지속     심해짐                            \n",
              "4                      명치부위         지속     심해짐                            \n",
              "...                     ...        ...     ...                      ...   \n",
              "2251               기침 시에 발생  하루 종일 지속됨  약간 심해짐                       처음   \n",
              "2252                 상복부 중앙         지속     심해짐                       종종   \n",
              "2253            오른쪽 무릅 및 발등         지속     심해짐                       처음   \n",
              "2254                    하복부         지속     심해짐                       처음   \n",
              "2255                   하복부          지속     심해짐                       종종   \n",
              "\n",
              "                                  Character  \\\n",
              "0     칼로 찢기는 듯한 통증, 통증 심함, 방사통(#), 등으로 퍼짐,    \n",
              "1                              계속 쓰림, 통증 중간   \n",
              "2                              속이 쓰림, 통증 약함   \n",
              "3                              명치부위 압통, 속쓰림   \n",
              "4                             명치 부위가 아프고 쓰림   \n",
              "...                                     ...   \n",
              "2251                            기침, 가래, 선홍색   \n",
              "2252                                 쓰라린 느낌   \n",
              "2253                       따끔거리는 통증, 가려움 동반   \n",
              "2254                                          \n",
              "2255                             선홍색 육안적 혈뇨   \n",
              "\n",
              "                                         Associated Sx.  \\\n",
              "0     , 구토 (# 2회 흰 물만 나옴 ), 속쓰림, [응급] 어지러움 (#), 갈증 (...   \n",
              "1                                         구역질, 구토, 식욕감소   \n",
              "2                                         구역질, 신물이 올라와요   \n",
              "3                                                    구토   \n",
              "4                                                         \n",
              "...                                                 ...   \n",
              "2251                            발열(#), 오한(#), 체중감소(#),    \n",
              "2252  구역(#), 등쪽 통증(#), 식은땀(#), 울렁거림(#), 설사(#), 어지러움(...   \n",
              "2253                                                      \n",
              "2254                                   배뇨통(#), 피곤감(#),    \n",
              "2255                            배뇨통(#), 혈뇨(#), 피곤감(#),    \n",
              "\n",
              "                                           Factor                       Event  \\\n",
              "0     자세에 따른 변화(#), 오른쪽으로 돌아 누우면 완화, 반듯이 누우면 악화,                                \n",
              "1                                   앞으로 숙이는 경우 완화          2년 전 건강 검진 상 이상 없음   \n",
              "2                                      누워있으면 심해져요                               \n",
              "3                                                                               \n",
              "4                                                                               \n",
              "...                                           ...                         ...   \n",
              "2251                                                   , 2년 전 건강 검진 시 정상 소견,    \n",
              "2252                                       식후 심해짐  작년 건강검진상 GERD 진단, 약은 먹지 않음   \n",
              "2253                                                                            \n",
              "2254                                                               최근 회사일로 피곤   \n",
              "2255                                                                            \n",
              "\n",
              "                        약물 투약력  \\\n",
              "0                                \n",
              "1               관절염 약(진통소염제),    \n",
              "2                     관절염약 복용중   \n",
              "3                          철분제   \n",
              "4                         고혈압약   \n",
              "...                        ...   \n",
              "2251  2주 전 감기약 먹음, 평소 비타민 복용,    \n",
              "2252                             \n",
              "2253                             \n",
              "2254                             \n",
              "2255                             \n",
              "\n",
              "                                                    사회력         가족력 외상력  \\\n",
              "0     술(#), 1주일 6~7번, 하루 소주 2~3병, 담배(#), 30갑년, 식사 , ...                   \n",
              "1              술, 회, 주 2~3회), 회사원, 회식이 잦고 폭음하는 경우가 있음,                    \n",
              "2                                                                         \n",
              "3                                                                         \n",
              "4                                            5년전 알코올 중독                   \n",
              "...                                                 ...         ...  ..   \n",
              "2251                                          , 담배(#),   아버지(고혈압),        \n",
              "2252                                   술(#), 하루 맥주 2잔,                    \n",
              "2253                                                                      \n",
              "2254                                                                      \n",
              "2255                                                                      \n",
              "\n",
              "                   과거력                           여성력     Level1        BMI  \\\n",
              "0                                                     digestive  27.681661   \n",
              "1                                                     digestive  25.711662   \n",
              "2     HTN(#), DM (#),                                 digestive  18.750000   \n",
              "3                                                     digestive  22.656250   \n",
              "4             HTN(#),                                 digestive  22.491349   \n",
              "...                ...                           ...        ...        ...   \n",
              "2251          고혈압(#),   규칙적인 월경, 보통인 월경량, 첫날에만 통증 있음         미정  19.745388   \n",
              "2252                                                         미정  29.136316   \n",
              "2253             섬유신경종                                       미정  26.835180   \n",
              "2254                                                         미정  25.390625   \n",
              "2255                                                         미정  22.031726   \n",
              "\n",
              "     Obesity                                                All  \n",
              "0        과체중  배 아프다 50 대다 남자 1일 전 명치 부위 지속 심해지다 이전 에도 3 차례 통...  \n",
              "1        과체중  갑자기 배 너무 아프다 30 대다 남자 오늘 새벽 명치 에서 시작 현재 복부 전체 ...  \n",
              "2        저체중  속이다 쓰리다 70 대다 여자 1 달 전 명치 부위 지속 심해지다 속이다 쓰리다 통...  \n",
              "3         정상  속이다 쓰리다 10 대다 남자 2 달 전 명치 부위 지속 심해지다 명치 부위 누르다...  \n",
              "4         정상  배 아프다 60 대다 남자 1시간 전 명치 부위 지속 심해지다 명치 부위 아프다 쓰...  \n",
              "...      ...                                                ...  \n",
              "2251     저체중  60 대다 여자 1일 전 기침 시 발생 하루 종일 지속 되다 약간 심해지다 처음 기...  \n",
              "2252      비만  속이다 아프다 30 대다 여자 3일 전 윗 배 중앙 지속 심해지다 종종 쓰라리다 느...  \n",
              "2253     과체중  따끔 걸리다 60 대다 여자 어제 부터 오른쪽 무릎 및 발등 지속 심해지다 처음 따...  \n",
              "2254     과체중  소변 볼 때 불편하다 50 대다 여자 5일 전 부터 아랫 배 지속 심해지다 처음 배...  \n",
              "2255      정상  혈뇨 나오다 40 대다 여자 3일 전 아랫 배 지속 심해지다 종종 선 홍색 육안 적...  \n",
              "\n",
              "[2256 rows x 26 columns]"
            ]
          },
          "execution_count": 73,
          "metadata": {},
          "output_type": "execute_result"
        }
      ],
      "source": [
        "data_test"
      ]
    },
    {
      "cell_type": "code",
      "execution_count": null,
      "metadata": {
        "id": "JqFkhihRGWqo"
      },
      "outputs": [],
      "source": [
        "for m in data.columns[10:21]: #'Experience', 'Character', 'Associated Sx.', 'Factor', 'Event', '약물 투약력', '사회력', '가족력', '외상력', '과거력', '여성력']\n",
        "  data[m] = data.apply(lambda x : NRS_to_text(x[m]) , axis = 1 )"
      ]
    },
    {
      "cell_type": "markdown",
      "metadata": {
        "id": "FSGj6oU4P7-C"
      },
      "source": [
        "## 9-1) Make a sentence"
      ]
    },
    {
      "cell_type": "code",
      "execution_count": 31,
      "metadata": {
        "colab": {
          "base_uri": "https://localhost:8080/"
        },
        "id": "SDjtggZh7uwn",
        "outputId": "13660a54-5d8d-4723-dd16-91d55b96eeed"
      },
      "outputs": [
        {
          "data": {
            "text/plain": [
              "0       배 아프다 50 대다 남자 1일 전 명치 부위 지속 심해지다 이전 에도 3 차례 통...\n",
              "1       갑자기 배 너무 아프다 30 대다 남자 오늘 새벽 명치 에서 시작 현재 복부 전체 ...\n",
              "2       속이다 쓰리다 70 대다 여자 1 달 전 명치 부위 지속 심해지다 속이다 쓰리다 통...\n",
              "3       속이다 쓰리다 10 대다 남자 2 달 전 명치 부위 지속 심해지다 명치 부위 누르다...\n",
              "4       배 아프다 60 대다 남자 1시간 전 명치 부위 지속 심해지다 명치 부위 아프다 쓰...\n",
              "                              ...                        \n",
              "2251    60 대다 여자 1일 전 기침 시 발생 하루 종일 지속 되다 약간 심해지다 처음 기...\n",
              "2252    속이다 아프다 30 대다 여자 3일 전 윗 배 중앙 지속 심해지다 종종 쓰라리다 느...\n",
              "2253    따끔 걸리다 60 대다 여자 어제 부터 오른쪽 무릎 및 발등 지속 심해지다 처음 따...\n",
              "2254    소변 볼 때 불편하다 50 대다 여자 5일 전 부터 아랫 배 지속 심해지다 처음 배...\n",
              "2255    혈뇨 나오다 40 대다 여자 3일 전 아랫 배 지속 심해지다 종종 선 홍색 육안 적...\n",
              "Name: All, Length: 2256, dtype: object"
            ]
          },
          "execution_count": 31,
          "metadata": {},
          "output_type": "execute_result"
        }
      ],
      "source": [
        "data['All']"
      ]
    },
    {
      "cell_type": "code",
      "execution_count": 32,
      "metadata": {
        "id": "9B4q5VibQujl"
      },
      "outputs": [],
      "source": [
        "data['All'] = (data['level2'].map(str) + '. ' +\n",
        "                data['Chief complaint'].map(str) +'. '+ data['Age'].map(str) + '. '+\n",
        "                data['Sex'].map(str) + '. '+\n",
        "                data['Onset'].map(str) + '. '+ data['Location'].map(str) + '. ' +\n",
        "                data['Duration'].map(str) + '. ' + data['Course'].map(str) + '. ' +\n",
        "                data['Experience'].map(str) + '. ' + data['Character'].map(str) + '. ' +\n",
        "                data['Associated Sx.'].map(str)+'. '+ data['Factor'].map(str) + '. ' +\n",
        "                data['Event'].map(str) + '. ' + data['약물 투약력'].map(str) + '. ' +\n",
        "                data['사회력'].map(str) + '. ' + data['가족력'].map(str) + '. ' +\n",
        "                data['외상력'].map(str) + '. ' + data['과거력'].map(str) + '. ' +\n",
        "                data['여성력'].map(str) + '. ' + data['Obesity']).apply(lambda row: row.strip())"
      ]
    },
    {
      "cell_type": "code",
      "execution_count": 33,
      "metadata": {
        "colab": {
          "base_uri": "https://localhost:8080/"
        },
        "id": "fDU-IdlEQ2cO",
        "outputId": "ec688857-69ab-415e-a83a-d86a8474f940"
      },
      "outputs": [
        {
          "data": {
            "text/plain": [
              "0       급성 복통. 배가 아파요. 50대. 남자. 1일전. 명치 부위. 지속. 심해짐. 이...\n",
              "1       급성 복통. 갑자기 배가 너무 아파요. 30대. 남자. 오늘 새벽. 명치에서 시작해...\n",
              "2       급성 복통. 속이 쓰려요. 70대. 여자. 1달전. 명치 부위. 지속. 심해짐. ....\n",
              "3       급성 복통. 속이 쓰려요. 10대. 남자. 2달전. 명치부위 . 지속. 심해짐. ....\n",
              "4       급성 복통. 배가 아파요. 60대. 남자. 1시간전. 명치부위. 지속. 심해짐. ....\n",
              "                              ...                        \n",
              "2251    미정.  . 60대. 여자. 1일 전. 기침 시에 발생. 하루 종일 지속됨. 약간 ...\n",
              "2252    미정. 속이 아파요. 30대. 여자. 3일전. 상복부 중앙. 지속. 심해짐. 종종....\n",
              "2253    미정. 따끔 거려요. 60대. 여자. 어제부터. 오른쪽 무릅 및 발등. 지속. 심해...\n",
              "2254    미정. 소변볼때 불편해요. 50대. 여자. 5일전부터. 하복부. 지속. 심해짐. 처...\n",
              "2255    미정. 혈뇨가 나와요. 40대. 여자. 3일전. 하복부 . 지속. 심해짐. 종종. ...\n",
              "Name: All, Length: 2256, dtype: object"
            ]
          },
          "execution_count": 33,
          "metadata": {},
          "output_type": "execute_result"
        }
      ],
      "source": [
        "data['All']"
      ]
    },
    {
      "cell_type": "code",
      "execution_count": 34,
      "metadata": {
        "colab": {
          "base_uri": "https://localhost:8080/",
          "height": 1000
        },
        "id": "qPLWAkR-Tr2y",
        "outputId": "bb78b66a-9f9c-43ab-d508-60a892b5d470"
      },
      "outputs": [
        {
          "data": {
            "text/html": [
              "<div>\n",
              "<style scoped>\n",
              "    .dataframe tbody tr th:only-of-type {\n",
              "        vertical-align: middle;\n",
              "    }\n",
              "\n",
              "    .dataframe tbody tr th {\n",
              "        vertical-align: top;\n",
              "    }\n",
              "\n",
              "    .dataframe thead th {\n",
              "        text-align: right;\n",
              "    }\n",
              "</style>\n",
              "<table border=\"1\" class=\"dataframe\">\n",
              "  <thead>\n",
              "    <tr style=\"text-align: right;\">\n",
              "      <th></th>\n",
              "      <th>level2</th>\n",
              "      <th>level5/diagnosis</th>\n",
              "      <th>Chief complaint</th>\n",
              "      <th>Sex</th>\n",
              "      <th>Age</th>\n",
              "      <th>Height</th>\n",
              "      <th>Weight</th>\n",
              "      <th>Onset</th>\n",
              "      <th>Location</th>\n",
              "      <th>Duration</th>\n",
              "      <th>Course</th>\n",
              "      <th>Experience</th>\n",
              "      <th>Character</th>\n",
              "      <th>Associated Sx.</th>\n",
              "      <th>Factor</th>\n",
              "      <th>Event</th>\n",
              "      <th>약물 투약력</th>\n",
              "      <th>사회력</th>\n",
              "      <th>가족력</th>\n",
              "      <th>외상력</th>\n",
              "      <th>과거력</th>\n",
              "      <th>여성력</th>\n",
              "      <th>Level1</th>\n",
              "      <th>BMI</th>\n",
              "      <th>Obesity</th>\n",
              "      <th>All</th>\n",
              "    </tr>\n",
              "  </thead>\n",
              "  <tbody>\n",
              "    <tr>\n",
              "      <th>0</th>\n",
              "      <td>급성 복통</td>\n",
              "      <td>소화성 궤양</td>\n",
              "      <td>배가 아파요</td>\n",
              "      <td>남자</td>\n",
              "      <td>50대</td>\n",
              "      <td>170</td>\n",
              "      <td>80</td>\n",
              "      <td>1일전</td>\n",
              "      <td>명치 부위</td>\n",
              "      <td>지속</td>\n",
              "      <td>심해짐</td>\n",
              "      <td>이전에도 3차례, 통증은 이번보다 약했음</td>\n",
              "      <td>칼로 찢기는 듯한 통증, 통증 심함, 방사통(+), 등으로 퍼짐,</td>\n",
              "      <td>, 구토 (+ 2회 흰 물만 나옴 ), 속쓰림, [응급] 어지러움 (+), 갈증 (...</td>\n",
              "      <td>자세에 따른 변화(+), 오른쪽으로 돌아 누우면 완화, 반듯이 누우면 악화,</td>\n",
              "      <td></td>\n",
              "      <td></td>\n",
              "      <td>술(+), 1주일 6~7번, 하루 소주 2~3병, 담배(+), 30갑년, 식사 , ...</td>\n",
              "      <td></td>\n",
              "      <td></td>\n",
              "      <td></td>\n",
              "      <td></td>\n",
              "      <td>digestive</td>\n",
              "      <td>27.681661</td>\n",
              "      <td>과체중</td>\n",
              "      <td>급성 복통. 배가 아파요. 50대. 남자. 1일전. 명치 부위. 지속. 심해짐. 이...</td>\n",
              "    </tr>\n",
              "    <tr>\n",
              "      <th>1</th>\n",
              "      <td>급성 복통</td>\n",
              "      <td>소화성 궤양</td>\n",
              "      <td>갑자기 배가 너무 아파요</td>\n",
              "      <td>남자</td>\n",
              "      <td>30대</td>\n",
              "      <td>165</td>\n",
              "      <td>70</td>\n",
              "      <td>오늘 새벽</td>\n",
              "      <td>명치에서 시작해 현재 복부 전체에 통증</td>\n",
              "      <td>지속</td>\n",
              "      <td>심해짐</td>\n",
              "      <td>이전에도 한 번 겪음</td>\n",
              "      <td>계속 쓰림, 통증 중간</td>\n",
              "      <td>구역질, 구토, 식욕감소</td>\n",
              "      <td>앞으로 숙이는 경우 완화</td>\n",
              "      <td>2년 전 건강 검진 상 이상 없음</td>\n",
              "      <td>관절염 약(진통소염제),</td>\n",
              "      <td>술, 회, 주 2~3회), 회사원, 회식이 잦고 폭음하는 경우가 있음,</td>\n",
              "      <td></td>\n",
              "      <td></td>\n",
              "      <td></td>\n",
              "      <td></td>\n",
              "      <td>digestive</td>\n",
              "      <td>25.711662</td>\n",
              "      <td>과체중</td>\n",
              "      <td>급성 복통. 갑자기 배가 너무 아파요. 30대. 남자. 오늘 새벽. 명치에서 시작해...</td>\n",
              "    </tr>\n",
              "    <tr>\n",
              "      <th>2</th>\n",
              "      <td>급성 복통</td>\n",
              "      <td>소화성 궤양</td>\n",
              "      <td>속이 쓰려요</td>\n",
              "      <td>여자</td>\n",
              "      <td>70대</td>\n",
              "      <td>160</td>\n",
              "      <td>48</td>\n",
              "      <td>1달전</td>\n",
              "      <td>명치 부위</td>\n",
              "      <td>지속</td>\n",
              "      <td>심해짐</td>\n",
              "      <td></td>\n",
              "      <td>속이 쓰림, 통증 약함</td>\n",
              "      <td>구역질, 신물이 올라와요</td>\n",
              "      <td>누워있으면 심해져요</td>\n",
              "      <td></td>\n",
              "      <td>관절염약 복용중</td>\n",
              "      <td></td>\n",
              "      <td></td>\n",
              "      <td></td>\n",
              "      <td>HTN(+), DM (+),</td>\n",
              "      <td></td>\n",
              "      <td>digestive</td>\n",
              "      <td>18.750000</td>\n",
              "      <td>저체중</td>\n",
              "      <td>급성 복통. 속이 쓰려요. 70대. 여자. 1달전. 명치 부위. 지속. 심해짐. ....</td>\n",
              "    </tr>\n",
              "    <tr>\n",
              "      <th>3</th>\n",
              "      <td>급성 복통</td>\n",
              "      <td>소화성 궤양</td>\n",
              "      <td>속이 쓰려요</td>\n",
              "      <td>남자</td>\n",
              "      <td>10대</td>\n",
              "      <td>160</td>\n",
              "      <td>58</td>\n",
              "      <td>2달전</td>\n",
              "      <td>명치부위</td>\n",
              "      <td>지속</td>\n",
              "      <td>심해짐</td>\n",
              "      <td></td>\n",
              "      <td>명치부위 압통, 속쓰림</td>\n",
              "      <td>구토</td>\n",
              "      <td></td>\n",
              "      <td></td>\n",
              "      <td>철분제</td>\n",
              "      <td></td>\n",
              "      <td></td>\n",
              "      <td></td>\n",
              "      <td></td>\n",
              "      <td></td>\n",
              "      <td>digestive</td>\n",
              "      <td>22.656250</td>\n",
              "      <td>정상</td>\n",
              "      <td>급성 복통. 속이 쓰려요. 10대. 남자. 2달전. 명치부위 . 지속. 심해짐. ....</td>\n",
              "    </tr>\n",
              "    <tr>\n",
              "      <th>4</th>\n",
              "      <td>급성 복통</td>\n",
              "      <td>소화성 궤양</td>\n",
              "      <td>배가 아파요</td>\n",
              "      <td>남자</td>\n",
              "      <td>60대</td>\n",
              "      <td>170</td>\n",
              "      <td>65</td>\n",
              "      <td>1시간전</td>\n",
              "      <td>명치부위</td>\n",
              "      <td>지속</td>\n",
              "      <td>심해짐</td>\n",
              "      <td></td>\n",
              "      <td>명치 부위가 아프고 쓰림</td>\n",
              "      <td></td>\n",
              "      <td></td>\n",
              "      <td></td>\n",
              "      <td>고혈압약</td>\n",
              "      <td>5년전 알코올 중독</td>\n",
              "      <td></td>\n",
              "      <td></td>\n",
              "      <td>HTN(+),</td>\n",
              "      <td></td>\n",
              "      <td>digestive</td>\n",
              "      <td>22.491349</td>\n",
              "      <td>정상</td>\n",
              "      <td>급성 복통. 배가 아파요. 60대. 남자. 1시간전. 명치부위. 지속. 심해짐. ....</td>\n",
              "    </tr>\n",
              "    <tr>\n",
              "      <th>...</th>\n",
              "      <td>...</td>\n",
              "      <td>...</td>\n",
              "      <td>...</td>\n",
              "      <td>...</td>\n",
              "      <td>...</td>\n",
              "      <td>...</td>\n",
              "      <td>...</td>\n",
              "      <td>...</td>\n",
              "      <td>...</td>\n",
              "      <td>...</td>\n",
              "      <td>...</td>\n",
              "      <td>...</td>\n",
              "      <td>...</td>\n",
              "      <td>...</td>\n",
              "      <td>...</td>\n",
              "      <td>...</td>\n",
              "      <td>...</td>\n",
              "      <td>...</td>\n",
              "      <td>...</td>\n",
              "      <td>...</td>\n",
              "      <td>...</td>\n",
              "      <td>...</td>\n",
              "      <td>...</td>\n",
              "      <td>...</td>\n",
              "      <td>...</td>\n",
              "      <td>...</td>\n",
              "    </tr>\n",
              "    <tr>\n",
              "      <th>2251</th>\n",
              "      <td>미정</td>\n",
              "      <td>폐결핵</td>\n",
              "      <td></td>\n",
              "      <td>여자</td>\n",
              "      <td>60대</td>\n",
              "      <td>152</td>\n",
              "      <td>45</td>\n",
              "      <td>1일 전</td>\n",
              "      <td>기침 시에 발생</td>\n",
              "      <td>하루 종일 지속됨</td>\n",
              "      <td>약간 심해짐</td>\n",
              "      <td>처음</td>\n",
              "      <td>기침, 가래, 선홍색</td>\n",
              "      <td>발열(+), 오한(+), 체중감소(+),</td>\n",
              "      <td></td>\n",
              "      <td>, 2년 전 건강 검진 시 정상 소견,</td>\n",
              "      <td>2주 전 감기약 먹음, 평소 비타민 복용,</td>\n",
              "      <td>, 담배(+),</td>\n",
              "      <td>아버지(고혈압),</td>\n",
              "      <td></td>\n",
              "      <td>고혈압(+),</td>\n",
              "      <td>규칙적인 월경, 보통인 월경량, 첫날에만 통증 있음</td>\n",
              "      <td>미정</td>\n",
              "      <td>19.477147</td>\n",
              "      <td>저체중</td>\n",
              "      <td>미정.  . 60대. 여자. 1일 전. 기침 시에 발생. 하루 종일 지속됨. 약간 ...</td>\n",
              "    </tr>\n",
              "    <tr>\n",
              "      <th>2252</th>\n",
              "      <td>미정</td>\n",
              "      <td>역류성 식도염</td>\n",
              "      <td>속이 아파요</td>\n",
              "      <td>여자</td>\n",
              "      <td>30대</td>\n",
              "      <td>155</td>\n",
              "      <td>70</td>\n",
              "      <td>3일전</td>\n",
              "      <td>상복부 중앙</td>\n",
              "      <td>지속</td>\n",
              "      <td>심해짐</td>\n",
              "      <td>종종</td>\n",
              "      <td>쓰라린 느낌</td>\n",
              "      <td>구역(+), 등쪽 통증(+), 식은땀(+), 울렁거림(+), 설사(+), 어지러움(...</td>\n",
              "      <td>식후 심해짐</td>\n",
              "      <td>작년 건강검진상 GERD 진단, 약은 먹지 않음</td>\n",
              "      <td></td>\n",
              "      <td>술(+), 하루 맥주 2잔,</td>\n",
              "      <td></td>\n",
              "      <td></td>\n",
              "      <td></td>\n",
              "      <td></td>\n",
              "      <td>미정</td>\n",
              "      <td>29.136316</td>\n",
              "      <td>비만</td>\n",
              "      <td>미정. 속이 아파요. 30대. 여자. 3일전. 상복부 중앙. 지속. 심해짐. 종종....</td>\n",
              "    </tr>\n",
              "    <tr>\n",
              "      <th>2253</th>\n",
              "      <td>미정</td>\n",
              "      <td>대상포진</td>\n",
              "      <td>따끔 거려요</td>\n",
              "      <td>여자</td>\n",
              "      <td>60대</td>\n",
              "      <td>152</td>\n",
              "      <td>62</td>\n",
              "      <td>어제부터</td>\n",
              "      <td>오른쪽 무릅 및 발등</td>\n",
              "      <td>지속</td>\n",
              "      <td>심해짐</td>\n",
              "      <td>처음</td>\n",
              "      <td>따끔거리는 통증, 가려움 동반</td>\n",
              "      <td></td>\n",
              "      <td></td>\n",
              "      <td></td>\n",
              "      <td></td>\n",
              "      <td></td>\n",
              "      <td></td>\n",
              "      <td></td>\n",
              "      <td>섬유신경종</td>\n",
              "      <td></td>\n",
              "      <td>미정</td>\n",
              "      <td>26.835180</td>\n",
              "      <td>과체중</td>\n",
              "      <td>미정. 따끔 거려요. 60대. 여자. 어제부터. 오른쪽 무릅 및 발등. 지속. 심해...</td>\n",
              "    </tr>\n",
              "    <tr>\n",
              "      <th>2254</th>\n",
              "      <td>미정</td>\n",
              "      <td>방광염</td>\n",
              "      <td>소변볼때 불편해요</td>\n",
              "      <td>여자</td>\n",
              "      <td>50대</td>\n",
              "      <td>160</td>\n",
              "      <td>65</td>\n",
              "      <td>5일전부터</td>\n",
              "      <td>하복부</td>\n",
              "      <td>지속</td>\n",
              "      <td>심해짐</td>\n",
              "      <td>처음</td>\n",
              "      <td></td>\n",
              "      <td>배뇨통(+), 피곤감(+),</td>\n",
              "      <td></td>\n",
              "      <td>최근 회사일로 피곤</td>\n",
              "      <td></td>\n",
              "      <td></td>\n",
              "      <td></td>\n",
              "      <td></td>\n",
              "      <td></td>\n",
              "      <td></td>\n",
              "      <td>미정</td>\n",
              "      <td>25.390625</td>\n",
              "      <td>과체중</td>\n",
              "      <td>미정. 소변볼때 불편해요. 50대. 여자. 5일전부터. 하복부. 지속. 심해짐. 처...</td>\n",
              "    </tr>\n",
              "    <tr>\n",
              "      <th>2255</th>\n",
              "      <td>미정</td>\n",
              "      <td>방광염</td>\n",
              "      <td>혈뇨가 나와요</td>\n",
              "      <td>여자</td>\n",
              "      <td>40대</td>\n",
              "      <td>158</td>\n",
              "      <td>55</td>\n",
              "      <td>3일전</td>\n",
              "      <td>하복부</td>\n",
              "      <td>지속</td>\n",
              "      <td>심해짐</td>\n",
              "      <td>종종</td>\n",
              "      <td>선홍색 육안적 혈뇨</td>\n",
              "      <td>배뇨통(+), 혈뇨(+), 피곤감(+),</td>\n",
              "      <td></td>\n",
              "      <td></td>\n",
              "      <td></td>\n",
              "      <td></td>\n",
              "      <td></td>\n",
              "      <td></td>\n",
              "      <td></td>\n",
              "      <td></td>\n",
              "      <td>미정</td>\n",
              "      <td>22.031726</td>\n",
              "      <td>정상</td>\n",
              "      <td>미정. 혈뇨가 나와요. 40대. 여자. 3일전. 하복부 . 지속. 심해짐. 종종. ...</td>\n",
              "    </tr>\n",
              "  </tbody>\n",
              "</table>\n",
              "<p>2256 rows × 26 columns</p>\n",
              "</div>"
            ],
            "text/plain": [
              "     level2 level5/diagnosis Chief complaint Sex  Age  Height  Weight  Onset  \\\n",
              "0     급성 복통           소화성 궤양          배가 아파요  남자  50대     170      80    1일전   \n",
              "1     급성 복통           소화성 궤양   갑자기 배가 너무 아파요  남자  30대     165      70  오늘 새벽   \n",
              "2     급성 복통           소화성 궤양          속이 쓰려요  여자  70대     160      48    1달전   \n",
              "3     급성 복통           소화성 궤양          속이 쓰려요  남자  10대     160      58    2달전   \n",
              "4     급성 복통           소화성 궤양          배가 아파요  남자  60대     170      65   1시간전   \n",
              "...     ...              ...             ...  ..  ...     ...     ...    ...   \n",
              "2251     미정              폐결핵                  여자  60대     152      45   1일 전   \n",
              "2252     미정          역류성 식도염          속이 아파요  여자  30대     155      70    3일전   \n",
              "2253     미정             대상포진          따끔 거려요  여자  60대     152      62   어제부터   \n",
              "2254     미정              방광염       소변볼때 불편해요  여자  50대     160      65  5일전부터   \n",
              "2255     미정              방광염         혈뇨가 나와요  여자  40대     158      55    3일전   \n",
              "\n",
              "                   Location   Duration  Course               Experience  \\\n",
              "0                     명치 부위         지속     심해짐  이전에도 3차례, 통증은 이번보다 약했음    \n",
              "1     명치에서 시작해 현재 복부 전체에 통증         지속     심해짐              이전에도 한 번 겪음   \n",
              "2                     명치 부위         지속     심해짐                            \n",
              "3                     명치부위          지속     심해짐                            \n",
              "4                      명치부위         지속     심해짐                            \n",
              "...                     ...        ...     ...                      ...   \n",
              "2251               기침 시에 발생  하루 종일 지속됨  약간 심해짐                       처음   \n",
              "2252                 상복부 중앙         지속     심해짐                       종종   \n",
              "2253            오른쪽 무릅 및 발등         지속     심해짐                       처음   \n",
              "2254                    하복부         지속     심해짐                       처음   \n",
              "2255                   하복부          지속     심해짐                       종종   \n",
              "\n",
              "                                  Character  \\\n",
              "0     칼로 찢기는 듯한 통증, 통증 심함, 방사통(+), 등으로 퍼짐,    \n",
              "1                              계속 쓰림, 통증 중간   \n",
              "2                              속이 쓰림, 통증 약함   \n",
              "3                              명치부위 압통, 속쓰림   \n",
              "4                             명치 부위가 아프고 쓰림   \n",
              "...                                     ...   \n",
              "2251                            기침, 가래, 선홍색   \n",
              "2252                                 쓰라린 느낌   \n",
              "2253                       따끔거리는 통증, 가려움 동반   \n",
              "2254                                          \n",
              "2255                             선홍색 육안적 혈뇨   \n",
              "\n",
              "                                         Associated Sx.  \\\n",
              "0     , 구토 (+ 2회 흰 물만 나옴 ), 속쓰림, [응급] 어지러움 (+), 갈증 (...   \n",
              "1                                         구역질, 구토, 식욕감소   \n",
              "2                                         구역질, 신물이 올라와요   \n",
              "3                                                    구토   \n",
              "4                                                         \n",
              "...                                                 ...   \n",
              "2251                            발열(+), 오한(+), 체중감소(+),    \n",
              "2252  구역(+), 등쪽 통증(+), 식은땀(+), 울렁거림(+), 설사(+), 어지러움(...   \n",
              "2253                                                      \n",
              "2254                                   배뇨통(+), 피곤감(+),    \n",
              "2255                            배뇨통(+), 혈뇨(+), 피곤감(+),    \n",
              "\n",
              "                                           Factor                       Event  \\\n",
              "0     자세에 따른 변화(+), 오른쪽으로 돌아 누우면 완화, 반듯이 누우면 악화,                                \n",
              "1                                   앞으로 숙이는 경우 완화          2년 전 건강 검진 상 이상 없음   \n",
              "2                                      누워있으면 심해져요                               \n",
              "3                                                                               \n",
              "4                                                                               \n",
              "...                                           ...                         ...   \n",
              "2251                                                   , 2년 전 건강 검진 시 정상 소견,    \n",
              "2252                                       식후 심해짐  작년 건강검진상 GERD 진단, 약은 먹지 않음   \n",
              "2253                                                                            \n",
              "2254                                                               최근 회사일로 피곤   \n",
              "2255                                                                            \n",
              "\n",
              "                        약물 투약력  \\\n",
              "0                                \n",
              "1               관절염 약(진통소염제),    \n",
              "2                     관절염약 복용중   \n",
              "3                          철분제   \n",
              "4                         고혈압약   \n",
              "...                        ...   \n",
              "2251  2주 전 감기약 먹음, 평소 비타민 복용,    \n",
              "2252                             \n",
              "2253                             \n",
              "2254                             \n",
              "2255                             \n",
              "\n",
              "                                                    사회력         가족력 외상력  \\\n",
              "0     술(+), 1주일 6~7번, 하루 소주 2~3병, 담배(+), 30갑년, 식사 , ...                   \n",
              "1              술, 회, 주 2~3회), 회사원, 회식이 잦고 폭음하는 경우가 있음,                    \n",
              "2                                                                         \n",
              "3                                                                         \n",
              "4                                            5년전 알코올 중독                   \n",
              "...                                                 ...         ...  ..   \n",
              "2251                                          , 담배(+),   아버지(고혈압),        \n",
              "2252                                   술(+), 하루 맥주 2잔,                    \n",
              "2253                                                                      \n",
              "2254                                                                      \n",
              "2255                                                                      \n",
              "\n",
              "                   과거력                           여성력     Level1        BMI  \\\n",
              "0                                                     digestive  27.681661   \n",
              "1                                                     digestive  25.711662   \n",
              "2     HTN(+), DM (+),                                 digestive  18.750000   \n",
              "3                                                     digestive  22.656250   \n",
              "4             HTN(+),                                 digestive  22.491349   \n",
              "...                ...                           ...        ...        ...   \n",
              "2251          고혈압(+),   규칙적인 월경, 보통인 월경량, 첫날에만 통증 있음         미정  19.477147   \n",
              "2252                                                         미정  29.136316   \n",
              "2253             섬유신경종                                       미정  26.835180   \n",
              "2254                                                         미정  25.390625   \n",
              "2255                                                         미정  22.031726   \n",
              "\n",
              "     Obesity                                                All  \n",
              "0        과체중  급성 복통. 배가 아파요. 50대. 남자. 1일전. 명치 부위. 지속. 심해짐. 이...  \n",
              "1        과체중  급성 복통. 갑자기 배가 너무 아파요. 30대. 남자. 오늘 새벽. 명치에서 시작해...  \n",
              "2        저체중  급성 복통. 속이 쓰려요. 70대. 여자. 1달전. 명치 부위. 지속. 심해짐. ....  \n",
              "3         정상  급성 복통. 속이 쓰려요. 10대. 남자. 2달전. 명치부위 . 지속. 심해짐. ....  \n",
              "4         정상  급성 복통. 배가 아파요. 60대. 남자. 1시간전. 명치부위. 지속. 심해짐. ....  \n",
              "...      ...                                                ...  \n",
              "2251     저체중  미정.  . 60대. 여자. 1일 전. 기침 시에 발생. 하루 종일 지속됨. 약간 ...  \n",
              "2252      비만  미정. 속이 아파요. 30대. 여자. 3일전. 상복부 중앙. 지속. 심해짐. 종종....  \n",
              "2253     과체중  미정. 따끔 거려요. 60대. 여자. 어제부터. 오른쪽 무릅 및 발등. 지속. 심해...  \n",
              "2254     과체중  미정. 소변볼때 불편해요. 50대. 여자. 5일전부터. 하복부. 지속. 심해짐. 처...  \n",
              "2255      정상  미정. 혈뇨가 나와요. 40대. 여자. 3일전. 하복부 . 지속. 심해짐. 종종. ...  \n",
              "\n",
              "[2256 rows x 26 columns]"
            ]
          },
          "execution_count": 34,
          "metadata": {},
          "output_type": "execute_result"
        }
      ],
      "source": [
        "data"
      ]
    },
    {
      "cell_type": "markdown",
      "metadata": {
        "id": "nzv64Hxg-fiL"
      },
      "source": [
        "## 9) Check spelling"
      ]
    },
    {
      "cell_type": "code",
      "execution_count": 35,
      "metadata": {
        "id": "rqlUDisI-lzT"
      },
      "outputs": [],
      "source": [
        "def manual_spelling(x):\n",
        "  # Need to update more!!\n",
        "  x = x.replace('Live(', 'Liver(')\n",
        "  x = x.replace('혈번', '혈변')\n",
        "  x = x.replace('[회수] 회 / 일', '')\n",
        "  x = x.replace('ㅊ음', '처음')\n",
        "  x = x.replace('위엄', '위염')\n",
        "  x = x.replace('소회기', '소화기')\n",
        "  x = x.replace('소화쉐양', '소화궤양')\n",
        "  x = x.replace('무릅', '무릎')\n",
        "  x = x.replace('성광계', '성관계')\n",
        "  x = x.replace('게속', '계속')\n",
        "  x = x.replace('느김', '느낌')\n",
        "  x = x.replace('불규칙하', '불규칙한')\n",
        "  x = x.replace('뻗뻗', '뻣뻣')\n",
        "  x = x.replace('부움', '부음')\n",
        "  x = x.replace('피료', '피로')\n",
        "  x = x.replace('들이마쉴', '들이마실')\n",
        "  x = x.replace('(Olodaterol)', '')\n",
        "  x = x.replace('체충', '체중')\n",
        "  x = x.replace('속옥', '속옷')\n",
        "  x = x.replace('아이업음', '아이없음')\n",
        "  x = x.replace('재왕절개', '제왕절개')\n",
        "  x = x.replace('얄', '열')\n",
        "  x = x.replace('연 (', '열 (')\n",
        "  x = x.replace('가끔식', '가끔씩')\n",
        "  x = x.replace('붙성교', '성교')\n",
        "  x = x.replace('월경량와', '월경량과')\n",
        "  x = x.replace('호ㅡㅂ음', '호흡음')\n",
        "  x = x.replace('오료계', '요로계')\n",
        "  x = x.replace('분철성', '분출성')\n",
        "  return x"
      ]
    },
    {
      "cell_type": "code",
      "execution_count": 31,
      "metadata": {
        "id": "Y0UB6aXf_JW1"
      },
      "outputs": [],
      "source": [
        "#for m in data.columns[6:21]: #'Experience', 'Character', 'Associated Sx.', 'Factor', 'Event', '약물 투약력', '사회력', '가족력', '외상력', '과거력', '여성력']\n",
        "#  data[m] = data.apply(lambda x : manual_spelling(x[m]) , axis = 1 )\n",
        "data['All'] = manual_spelling(data['All'])"
      ]
    },
    {
      "cell_type": "code",
      "execution_count": 36,
      "metadata": {
        "colab": {
          "base_uri": "https://localhost:8080/"
        },
        "id": "CRjP3xSz_OnF",
        "outputId": "6a940bcb-0cb0-4d38-d5e8-244ced177889"
      },
      "outputs": [
        {
          "name": "stdout",
          "output_type": "stream",
          "text": [
            "Collecting git+https://github.com/ssut/py-hanspell.git"
          ]
        },
        {
          "name": "stderr",
          "output_type": "stream",
          "text": [
            "  Running command git clone --filter=blob:none --quiet https://github.com/ssut/py-hanspell.git 'C:\\Users\\USER\\AppData\\Local\\Temp\\pip-req-build-fqz2idkm'\n"
          ]
        },
        {
          "name": "stdout",
          "output_type": "stream",
          "text": [
            "\n",
            "  Cloning https://github.com/ssut/py-hanspell.git to c:\\users\\user\\appdata\\local\\temp\\pip-req-build-fqz2idkm\n",
            "  Resolved https://github.com/ssut/py-hanspell.git to commit 8e993cf46f97f9d665c15633a0fc78ac1b727713\n",
            "  Preparing metadata (setup.py): started\n",
            "  Preparing metadata (setup.py): finished with status 'done'\n",
            "Requirement already satisfied: requests in c:\\users\\user\\appdata\\local\\programs\\python\\python39\\lib\\site-packages (from py-hanspell==1.1) (2.25.1)\n",
            "Requirement already satisfied: chardet<5,>=3.0.2 in c:\\users\\user\\appdata\\local\\programs\\python\\python39\\lib\\site-packages (from requests->py-hanspell==1.1) (4.0.0)\n",
            "Requirement already satisfied: certifi>=2017.4.17 in c:\\users\\user\\appdata\\local\\programs\\python\\python39\\lib\\site-packages (from requests->py-hanspell==1.1) (2020.12.5)\n",
            "Requirement already satisfied: idna<3,>=2.5 in c:\\users\\user\\appdata\\local\\programs\\python\\python39\\lib\\site-packages (from requests->py-hanspell==1.1) (2.10)\n",
            "Requirement already satisfied: urllib3<1.27,>=1.21.1 in c:\\users\\user\\appdata\\local\\programs\\python\\python39\\lib\\site-packages (from requests->py-hanspell==1.1) (1.26.4)\n"
          ]
        }
      ],
      "source": [
        "!pip install git+https://github.com/ssut/py-hanspell.git"
      ]
    },
    {
      "cell_type": "code",
      "execution_count": 37,
      "metadata": {
        "colab": {
          "base_uri": "https://localhost:8080/"
        },
        "id": "kKp-SkQaRMcl",
        "outputId": "b6ef0d53-27a1-4c3e-d954-d95f576b46ce"
      },
      "outputs": [
        {
          "data": {
            "text/plain": [
              "0       급성 복통. 배가 아파요. 50대. 남자. 1일전. 명치 부위. 지속. 심해짐. 이...\n",
              "1       급성 복통. 갑자기 배가 너무 아파요. 30대. 남자. 오늘 새벽. 명치에서 시작해...\n",
              "2       급성 복통. 속이 쓰려요. 70대. 여자. 1달전. 명치 부위. 지속. 심해짐. ....\n",
              "3       급성 복통. 속이 쓰려요. 10대. 남자. 2달전. 명치부위 . 지속. 심해짐. ....\n",
              "4       급성 복통. 배가 아파요. 60대. 남자. 1시간전. 명치부위. 지속. 심해짐. ....\n",
              "                              ...                        \n",
              "2251    미정.  . 60대. 여자. 1일 전. 기침 시에 발생. 하루 종일 지속됨. 약간 ...\n",
              "2252    미정. 속이 아파요. 30대. 여자. 3일전. 상복부 중앙. 지속. 심해짐. 종종....\n",
              "2253    미정. 따끔 거려요. 60대. 여자. 어제부터. 오른쪽 무릅 및 발등. 지속. 심해...\n",
              "2254    미정. 소변볼때 불편해요. 50대. 여자. 5일전부터. 하복부. 지속. 심해짐. 처...\n",
              "2255    미정. 혈뇨가 나와요. 40대. 여자. 3일전. 하복부 . 지속. 심해짐. 종종. ...\n",
              "Name: All, Length: 2256, dtype: object"
            ]
          },
          "execution_count": 37,
          "metadata": {},
          "output_type": "execute_result"
        }
      ],
      "source": [
        "data['All']"
      ]
    },
    {
      "cell_type": "code",
      "execution_count": 38,
      "metadata": {
        "id": "gHeQH8Iz_ODt"
      },
      "outputs": [],
      "source": [
        "from tqdm.notebook import tqdm\n",
        "from hanspell import spell_checker\n",
        "\n",
        "def spelling_check(text):\n",
        "  #print(text)\n",
        "  result = spell_checker.check(text) \n",
        "  \n",
        "  return result.as_dict()['checked'] "
      ]
    },
    {
      "cell_type": "code",
      "execution_count": null,
      "metadata": {
        "colab": {
          "base_uri": "https://localhost:8080/",
          "height": 142,
          "referenced_widgets": [
            "e9b67c5903c34a39afba6089fbc50cb5",
            "b77a96024cbd46d78d8dedad9f03040a",
            "606baeb3a8fc493da8cf2fb20d90edad",
            "266a5295f61d4d49929410349420020c",
            "22b680d316734f208a2ff4965edda0ee",
            "233f85e0dece480889be197d7af6886b",
            "fd6e5bba21d3476b9709371d434dd954",
            "b667d8edf5504cc7b658338997eae6b3",
            "ba2a144d59fe416d8d746de353eb5d6d",
            "22216371c1ca414ca9c1baf55a7c3c9e",
            "6e4ec162af10426ca643faa1b14a24d5"
          ]
        },
        "id": "HDQb4E59_JPh",
        "outputId": "26c88f8a-d906-48de-b61d-9de7fea0bf8b"
      },
      "outputs": [
        {
          "data": {
            "application/vnd.jupyter.widget-view+json": {
              "model_id": "e9b67c5903c34a39afba6089fbc50cb5",
              "version_major": 2,
              "version_minor": 0
            },
            "text/plain": [
              "  0%|          | 0/2256 [00:00<?, ?it/s]"
            ]
          },
          "metadata": {},
          "output_type": "display_data"
        },
        {
          "name": "stderr",
          "output_type": "stream",
          "text": [
            "/usr/local/lib/python3.7/dist-packages/ipykernel_launcher.py:2: SettingWithCopyWarning: \n",
            "A value is trying to be set on a copy of a slice from a DataFrame\n",
            "\n",
            "See the caveats in the documentation: https://pandas.pydata.org/pandas-docs/stable/user_guide/indexing.html#returning-a-view-versus-a-copy\n",
            "  \n"
          ]
        }
      ],
      "source": [
        "for i in tqdm(range(len(data))):\n",
        "  data['All'][i] = spelling_check(data['All'][i])"
      ]
    },
    {
      "cell_type": "code",
      "execution_count": 39,
      "metadata": {
        "colab": {
          "base_uri": "https://localhost:8080/"
        },
        "id": "76jJfymm_Ipc",
        "outputId": "45e68eca-e271-4ac0-ac7a-2d0f61aeb8ca"
      },
      "outputs": [
        {
          "data": {
            "text/plain": [
              "0       급성 복통. 배가 아파요. 50대. 남자. 1일전. 명치 부위. 지속. 심해짐. 이...\n",
              "1       급성 복통. 갑자기 배가 너무 아파요. 30대. 남자. 오늘 새벽. 명치에서 시작해...\n",
              "2       급성 복통. 속이 쓰려요. 70대. 여자. 1달전. 명치 부위. 지속. 심해짐. ....\n",
              "3       급성 복통. 속이 쓰려요. 10대. 남자. 2달전. 명치부위 . 지속. 심해짐. ....\n",
              "4       급성 복통. 배가 아파요. 60대. 남자. 1시간전. 명치부위. 지속. 심해짐. ....\n",
              "                              ...                        \n",
              "2251    미정.  . 60대. 여자. 1일 전. 기침 시에 발생. 하루 종일 지속됨. 약간 ...\n",
              "2252    미정. 속이 아파요. 30대. 여자. 3일전. 상복부 중앙. 지속. 심해짐. 종종....\n",
              "2253    미정. 따끔 거려요. 60대. 여자. 어제부터. 오른쪽 무릅 및 발등. 지속. 심해...\n",
              "2254    미정. 소변볼때 불편해요. 50대. 여자. 5일전부터. 하복부. 지속. 심해짐. 처...\n",
              "2255    미정. 혈뇨가 나와요. 40대. 여자. 3일전. 하복부 . 지속. 심해짐. 종종. ...\n",
              "Name: All, Length: 2256, dtype: object"
            ]
          },
          "execution_count": 39,
          "metadata": {},
          "output_type": "execute_result"
        }
      ],
      "source": [
        "data['All']"
      ]
    },
    {
      "cell_type": "code",
      "execution_count": null,
      "metadata": {
        "colab": {
          "base_uri": "https://localhost:8080/",
          "height": 1000
        },
        "id": "Hw7bwhH3AXlx",
        "outputId": "2c2f5b3e-193b-44e1-c6a6-66df88c8571c"
      },
      "outputs": [
        {
          "data": {
            "text/html": [
              "\n",
              "  <div id=\"df-fd7a0a86-51b9-4c4d-af56-0fa3fcffc1f8\">\n",
              "    <div class=\"colab-df-container\">\n",
              "      <div>\n",
              "<style scoped>\n",
              "    .dataframe tbody tr th:only-of-type {\n",
              "        vertical-align: middle;\n",
              "    }\n",
              "\n",
              "    .dataframe tbody tr th {\n",
              "        vertical-align: top;\n",
              "    }\n",
              "\n",
              "    .dataframe thead th {\n",
              "        text-align: right;\n",
              "    }\n",
              "</style>\n",
              "<table border=\"1\" class=\"dataframe\">\n",
              "  <thead>\n",
              "    <tr style=\"text-align: right;\">\n",
              "      <th></th>\n",
              "      <th>level2</th>\n",
              "      <th>level5/diagnosis</th>\n",
              "      <th>Chief complaint</th>\n",
              "      <th>Sex</th>\n",
              "      <th>Age</th>\n",
              "      <th>Height</th>\n",
              "      <th>Weight</th>\n",
              "      <th>Onset</th>\n",
              "      <th>Location</th>\n",
              "      <th>Duration</th>\n",
              "      <th>Course</th>\n",
              "      <th>Experience</th>\n",
              "      <th>Character</th>\n",
              "      <th>Associated Sx.</th>\n",
              "      <th>Factor</th>\n",
              "      <th>Event</th>\n",
              "      <th>약물 투약력</th>\n",
              "      <th>사회력</th>\n",
              "      <th>가족력</th>\n",
              "      <th>외상력</th>\n",
              "      <th>과거력</th>\n",
              "      <th>여성력</th>\n",
              "      <th>Level1</th>\n",
              "      <th>BMI</th>\n",
              "      <th>Obesity</th>\n",
              "      <th>All</th>\n",
              "    </tr>\n",
              "  </thead>\n",
              "  <tbody>\n",
              "    <tr>\n",
              "      <th>0</th>\n",
              "      <td>급성 복통</td>\n",
              "      <td>소화성 궤양</td>\n",
              "      <td>배가 아파요</td>\n",
              "      <td>남자</td>\n",
              "      <td>50대</td>\n",
              "      <td>170</td>\n",
              "      <td>80</td>\n",
              "      <td>1일전</td>\n",
              "      <td>명치 부위</td>\n",
              "      <td>지속</td>\n",
              "      <td>심해짐</td>\n",
              "      <td>이전에도 3차례, 통증은 이번보다 약했음</td>\n",
              "      <td>칼로 찢기는 듯한 통증, 통증 심함, 방사통(+), 등으로 퍼짐,</td>\n",
              "      <td>, 구토 (+ 2회 흰 물만 나옴 ), 속쓰림, [응급] 어지러움 (+), 갈증 (...</td>\n",
              "      <td>자세에 따른 변화(+), 오른쪽으로 돌아 누우면 완화, 반듯이 누우면 악화,</td>\n",
              "      <td></td>\n",
              "      <td></td>\n",
              "      <td>술(+), 1주일 6~7번, 하루 소주 2~3병, 담배(+), 30갑년, 식사 , ...</td>\n",
              "      <td></td>\n",
              "      <td></td>\n",
              "      <td></td>\n",
              "      <td></td>\n",
              "      <td>digestive</td>\n",
              "      <td>27.681661</td>\n",
              "      <td>과체중</td>\n",
              "      <td>급성 복통. 배가 아파요. 50대. 남자. 1일 전. 명치 부위. 지속. 심해짐. ...</td>\n",
              "    </tr>\n",
              "    <tr>\n",
              "      <th>1</th>\n",
              "      <td>급성 복통</td>\n",
              "      <td>소화성 궤양</td>\n",
              "      <td>갑자기 배가 너무 아파요</td>\n",
              "      <td>남자</td>\n",
              "      <td>30대</td>\n",
              "      <td>165</td>\n",
              "      <td>70</td>\n",
              "      <td>오늘 새벽</td>\n",
              "      <td>명치에서 시작해 현재 복부 전체에 통증</td>\n",
              "      <td>지속</td>\n",
              "      <td>심해짐</td>\n",
              "      <td>이전에도 한 번 겪음</td>\n",
              "      <td>계속 쓰림, 통증 중간</td>\n",
              "      <td>구역질, 구토, 식욕감소</td>\n",
              "      <td>앞으로 숙이는 경우 완화</td>\n",
              "      <td>2년 전 건강 검진 상 이상 없음</td>\n",
              "      <td>관절염 약(진통소염제),</td>\n",
              "      <td>술, 회, 주 2~3회), 회사원, 회식이 잦고 폭음하는 경우가 있음,</td>\n",
              "      <td></td>\n",
              "      <td></td>\n",
              "      <td></td>\n",
              "      <td></td>\n",
              "      <td>digestive</td>\n",
              "      <td>25.711662</td>\n",
              "      <td>과체중</td>\n",
              "      <td>급성 복통. 갑자기 배가 너무 아파요. 30대. 남자. 오늘 새벽. 명치에서 시작해...</td>\n",
              "    </tr>\n",
              "    <tr>\n",
              "      <th>2</th>\n",
              "      <td>급성 복통</td>\n",
              "      <td>소화성 궤양</td>\n",
              "      <td>속이 쓰려요</td>\n",
              "      <td>여자</td>\n",
              "      <td>70대</td>\n",
              "      <td>160</td>\n",
              "      <td>48</td>\n",
              "      <td>1달전</td>\n",
              "      <td>명치 부위</td>\n",
              "      <td>지속</td>\n",
              "      <td>심해짐</td>\n",
              "      <td></td>\n",
              "      <td>속이 쓰림, 통증 약함</td>\n",
              "      <td>구역질, 신물이 올라와요</td>\n",
              "      <td>누워있으면 심해져요</td>\n",
              "      <td></td>\n",
              "      <td>관절염약 복용중</td>\n",
              "      <td></td>\n",
              "      <td></td>\n",
              "      <td></td>\n",
              "      <td>HTN(+), DM (+),</td>\n",
              "      <td></td>\n",
              "      <td>digestive</td>\n",
              "      <td>18.750000</td>\n",
              "      <td>저체중</td>\n",
              "      <td>급성 복통. 속이 쓰려요. 70대. 여자. 1달 전. 명치 부위. 지속. 심해짐. ...</td>\n",
              "    </tr>\n",
              "    <tr>\n",
              "      <th>3</th>\n",
              "      <td>급성 복통</td>\n",
              "      <td>소화성 궤양</td>\n",
              "      <td>속이 쓰려요</td>\n",
              "      <td>남자</td>\n",
              "      <td>10대</td>\n",
              "      <td>160</td>\n",
              "      <td>58</td>\n",
              "      <td>2달전</td>\n",
              "      <td>명치부위</td>\n",
              "      <td>지속</td>\n",
              "      <td>심해짐</td>\n",
              "      <td></td>\n",
              "      <td>명치부위 압통, 속쓰림</td>\n",
              "      <td>구토</td>\n",
              "      <td></td>\n",
              "      <td></td>\n",
              "      <td>철분제</td>\n",
              "      <td></td>\n",
              "      <td></td>\n",
              "      <td></td>\n",
              "      <td></td>\n",
              "      <td></td>\n",
              "      <td>digestive</td>\n",
              "      <td>22.656250</td>\n",
              "      <td>정상</td>\n",
              "      <td>급성 복통. 속이 쓰려요. 10대. 남자. 2달 전. 명치 부위. 지속. 심해짐. ...</td>\n",
              "    </tr>\n",
              "    <tr>\n",
              "      <th>4</th>\n",
              "      <td>급성 복통</td>\n",
              "      <td>소화성 궤양</td>\n",
              "      <td>배가 아파요</td>\n",
              "      <td>남자</td>\n",
              "      <td>60대</td>\n",
              "      <td>170</td>\n",
              "      <td>65</td>\n",
              "      <td>1시간전</td>\n",
              "      <td>명치부위</td>\n",
              "      <td>지속</td>\n",
              "      <td>심해짐</td>\n",
              "      <td></td>\n",
              "      <td>명치 부위가 아프고 쓰림</td>\n",
              "      <td></td>\n",
              "      <td></td>\n",
              "      <td></td>\n",
              "      <td>고혈압약</td>\n",
              "      <td>5년전 알코올 중독</td>\n",
              "      <td></td>\n",
              "      <td></td>\n",
              "      <td>HTN(+),</td>\n",
              "      <td></td>\n",
              "      <td>digestive</td>\n",
              "      <td>22.491349</td>\n",
              "      <td>정상</td>\n",
              "      <td>급성 복통. 배가 아파요. 60대. 남자. 1시간 전. 명치 부위. 지속. 심해짐....</td>\n",
              "    </tr>\n",
              "    <tr>\n",
              "      <th>...</th>\n",
              "      <td>...</td>\n",
              "      <td>...</td>\n",
              "      <td>...</td>\n",
              "      <td>...</td>\n",
              "      <td>...</td>\n",
              "      <td>...</td>\n",
              "      <td>...</td>\n",
              "      <td>...</td>\n",
              "      <td>...</td>\n",
              "      <td>...</td>\n",
              "      <td>...</td>\n",
              "      <td>...</td>\n",
              "      <td>...</td>\n",
              "      <td>...</td>\n",
              "      <td>...</td>\n",
              "      <td>...</td>\n",
              "      <td>...</td>\n",
              "      <td>...</td>\n",
              "      <td>...</td>\n",
              "      <td>...</td>\n",
              "      <td>...</td>\n",
              "      <td>...</td>\n",
              "      <td>...</td>\n",
              "      <td>...</td>\n",
              "      <td>...</td>\n",
              "      <td>...</td>\n",
              "    </tr>\n",
              "    <tr>\n",
              "      <th>2251</th>\n",
              "      <td>미정</td>\n",
              "      <td>폐결핵</td>\n",
              "      <td></td>\n",
              "      <td>여자</td>\n",
              "      <td>60대</td>\n",
              "      <td>152</td>\n",
              "      <td>45</td>\n",
              "      <td>1일 전</td>\n",
              "      <td>기침 시에 발생</td>\n",
              "      <td>하루 종일 지속됨</td>\n",
              "      <td>약간 심해짐</td>\n",
              "      <td>처음</td>\n",
              "      <td>기침, 가래, 선홍색</td>\n",
              "      <td>발열(+), 오한(+), 체중감소(+),</td>\n",
              "      <td></td>\n",
              "      <td>, 2년 전 건강 검진 시 정상 소견,</td>\n",
              "      <td>2주 전 감기약 먹음, 평소 비타민 복용,</td>\n",
              "      <td>, 담배(+),</td>\n",
              "      <td>아버지(고혈압),</td>\n",
              "      <td></td>\n",
              "      <td>고혈압(+),</td>\n",
              "      <td>규칙적인 월경, 보통인 월경량, 첫날에만 통증 있음</td>\n",
              "      <td>미정</td>\n",
              "      <td>19.477147</td>\n",
              "      <td>저체중</td>\n",
              "      <td>미정.  . 60대. 여자. 1일 전. 기침 시에 발생. 하루 종일 지속됨. 약간 ...</td>\n",
              "    </tr>\n",
              "    <tr>\n",
              "      <th>2252</th>\n",
              "      <td>미정</td>\n",
              "      <td>역류성 식도염</td>\n",
              "      <td>속이 아파요</td>\n",
              "      <td>여자</td>\n",
              "      <td>30대</td>\n",
              "      <td>155</td>\n",
              "      <td>70</td>\n",
              "      <td>3일전</td>\n",
              "      <td>상복부 중앙</td>\n",
              "      <td>지속</td>\n",
              "      <td>심해짐</td>\n",
              "      <td>종종</td>\n",
              "      <td>쓰라린 느낌</td>\n",
              "      <td>구역(+), 등쪽 통증(+), 식은땀(+), 울렁거림(+), 설사(+), 어지러움(...</td>\n",
              "      <td>식후 심해짐</td>\n",
              "      <td>작년 건강검진상 GERD 진단, 약은 먹지 않음</td>\n",
              "      <td></td>\n",
              "      <td>술(+), 하루 맥주 2잔,</td>\n",
              "      <td></td>\n",
              "      <td></td>\n",
              "      <td></td>\n",
              "      <td></td>\n",
              "      <td>미정</td>\n",
              "      <td>29.136316</td>\n",
              "      <td>비만</td>\n",
              "      <td>미정. 속이 아파요. 30대. 여자. 3일 전. 상복부 중앙. 지속. 심해짐. 종종...</td>\n",
              "    </tr>\n",
              "    <tr>\n",
              "      <th>2253</th>\n",
              "      <td>미정</td>\n",
              "      <td>대상포진</td>\n",
              "      <td>따끔 거려요</td>\n",
              "      <td>여자</td>\n",
              "      <td>60대</td>\n",
              "      <td>152</td>\n",
              "      <td>62</td>\n",
              "      <td>어제부터</td>\n",
              "      <td>오른쪽 무릅 및 발등</td>\n",
              "      <td>지속</td>\n",
              "      <td>심해짐</td>\n",
              "      <td>처음</td>\n",
              "      <td>따끔거리는 통증, 가려움 동반</td>\n",
              "      <td></td>\n",
              "      <td></td>\n",
              "      <td></td>\n",
              "      <td></td>\n",
              "      <td></td>\n",
              "      <td></td>\n",
              "      <td></td>\n",
              "      <td>섬유신경종</td>\n",
              "      <td></td>\n",
              "      <td>미정</td>\n",
              "      <td>26.835180</td>\n",
              "      <td>과체중</td>\n",
              "      <td>미정. 따끔 걸려요. 60대. 여자. 어제부터. 오른쪽 무릎 및 발등. 지속. 심해...</td>\n",
              "    </tr>\n",
              "    <tr>\n",
              "      <th>2254</th>\n",
              "      <td>미정</td>\n",
              "      <td>방광염</td>\n",
              "      <td>소변볼때 불편해요</td>\n",
              "      <td>여자</td>\n",
              "      <td>50대</td>\n",
              "      <td>160</td>\n",
              "      <td>65</td>\n",
              "      <td>5일전부터</td>\n",
              "      <td>하복부</td>\n",
              "      <td>지속</td>\n",
              "      <td>심해짐</td>\n",
              "      <td>처음</td>\n",
              "      <td></td>\n",
              "      <td>배뇨통(+), 피곤감(+),</td>\n",
              "      <td></td>\n",
              "      <td>최근 회사일로 피곤</td>\n",
              "      <td></td>\n",
              "      <td></td>\n",
              "      <td></td>\n",
              "      <td></td>\n",
              "      <td></td>\n",
              "      <td></td>\n",
              "      <td>미정</td>\n",
              "      <td>25.390625</td>\n",
              "      <td>과체중</td>\n",
              "      <td>미정. 소변볼 때 불편해요. 50대. 여자. 5일 전부터. 하복부. 지속. 심해짐....</td>\n",
              "    </tr>\n",
              "    <tr>\n",
              "      <th>2255</th>\n",
              "      <td>미정</td>\n",
              "      <td>방광염</td>\n",
              "      <td>혈뇨가 나와요</td>\n",
              "      <td>여자</td>\n",
              "      <td>40대</td>\n",
              "      <td>158</td>\n",
              "      <td>55</td>\n",
              "      <td>3일전</td>\n",
              "      <td>하복부</td>\n",
              "      <td>지속</td>\n",
              "      <td>심해짐</td>\n",
              "      <td>종종</td>\n",
              "      <td>선홍색 육안적 혈뇨</td>\n",
              "      <td>배뇨통(+), 혈뇨(+), 피곤감(+),</td>\n",
              "      <td></td>\n",
              "      <td></td>\n",
              "      <td></td>\n",
              "      <td></td>\n",
              "      <td></td>\n",
              "      <td></td>\n",
              "      <td></td>\n",
              "      <td></td>\n",
              "      <td>미정</td>\n",
              "      <td>22.031726</td>\n",
              "      <td>정상</td>\n",
              "      <td>미정. 혈뇨가 나와요. 40대. 여자. 3일 전. 하복부. 지속. 심해짐. 종종. ...</td>\n",
              "    </tr>\n",
              "  </tbody>\n",
              "</table>\n",
              "<p>2256 rows × 26 columns</p>\n",
              "</div>\n",
              "      <button class=\"colab-df-convert\" onclick=\"convertToInteractive('df-fd7a0a86-51b9-4c4d-af56-0fa3fcffc1f8')\"\n",
              "              title=\"Convert this dataframe to an interactive table.\"\n",
              "              style=\"display:none;\">\n",
              "        \n",
              "  <svg xmlns=\"http://www.w3.org/2000/svg\" height=\"24px\"viewBox=\"0 0 24 24\"\n",
              "       width=\"24px\">\n",
              "    <path d=\"M0 0h24v24H0V0z\" fill=\"none\"/>\n",
              "    <path d=\"M18.56 5.44l.94 2.06.94-2.06 2.06-.94-2.06-.94-.94-2.06-.94 2.06-2.06.94zm-11 1L8.5 8.5l.94-2.06 2.06-.94-2.06-.94L8.5 2.5l-.94 2.06-2.06.94zm10 10l.94 2.06.94-2.06 2.06-.94-2.06-.94-.94-2.06-.94 2.06-2.06.94z\"/><path d=\"M17.41 7.96l-1.37-1.37c-.4-.4-.92-.59-1.43-.59-.52 0-1.04.2-1.43.59L10.3 9.45l-7.72 7.72c-.78.78-.78 2.05 0 2.83L4 21.41c.39.39.9.59 1.41.59.51 0 1.02-.2 1.41-.59l7.78-7.78 2.81-2.81c.8-.78.8-2.07 0-2.86zM5.41 20L4 18.59l7.72-7.72 1.47 1.35L5.41 20z\"/>\n",
              "  </svg>\n",
              "      </button>\n",
              "      \n",
              "  <style>\n",
              "    .colab-df-container {\n",
              "      display:flex;\n",
              "      flex-wrap:wrap;\n",
              "      gap: 12px;\n",
              "    }\n",
              "\n",
              "    .colab-df-convert {\n",
              "      background-color: #E8F0FE;\n",
              "      border: none;\n",
              "      border-radius: 50%;\n",
              "      cursor: pointer;\n",
              "      display: none;\n",
              "      fill: #1967D2;\n",
              "      height: 32px;\n",
              "      padding: 0 0 0 0;\n",
              "      width: 32px;\n",
              "    }\n",
              "\n",
              "    .colab-df-convert:hover {\n",
              "      background-color: #E2EBFA;\n",
              "      box-shadow: 0px 1px 2px rgba(60, 64, 67, 0.3), 0px 1px 3px 1px rgba(60, 64, 67, 0.15);\n",
              "      fill: #174EA6;\n",
              "    }\n",
              "\n",
              "    [theme=dark] .colab-df-convert {\n",
              "      background-color: #3B4455;\n",
              "      fill: #D2E3FC;\n",
              "    }\n",
              "\n",
              "    [theme=dark] .colab-df-convert:hover {\n",
              "      background-color: #434B5C;\n",
              "      box-shadow: 0px 1px 3px 1px rgba(0, 0, 0, 0.15);\n",
              "      filter: drop-shadow(0px 1px 2px rgba(0, 0, 0, 0.3));\n",
              "      fill: #FFFFFF;\n",
              "    }\n",
              "  </style>\n",
              "\n",
              "      <script>\n",
              "        const buttonEl =\n",
              "          document.querySelector('#df-fd7a0a86-51b9-4c4d-af56-0fa3fcffc1f8 button.colab-df-convert');\n",
              "        buttonEl.style.display =\n",
              "          google.colab.kernel.accessAllowed ? 'block' : 'none';\n",
              "\n",
              "        async function convertToInteractive(key) {\n",
              "          const element = document.querySelector('#df-fd7a0a86-51b9-4c4d-af56-0fa3fcffc1f8');\n",
              "          const dataTable =\n",
              "            await google.colab.kernel.invokeFunction('convertToInteractive',\n",
              "                                                     [key], {});\n",
              "          if (!dataTable) return;\n",
              "\n",
              "          const docLinkHtml = 'Like what you see? Visit the ' +\n",
              "            '<a target=\"_blank\" href=https://colab.research.google.com/notebooks/data_table.ipynb>data table notebook</a>'\n",
              "            + ' to learn more about interactive tables.';\n",
              "          element.innerHTML = '';\n",
              "          dataTable['output_type'] = 'display_data';\n",
              "          await google.colab.output.renderOutput(dataTable, element);\n",
              "          const docLink = document.createElement('div');\n",
              "          docLink.innerHTML = docLinkHtml;\n",
              "          element.appendChild(docLink);\n",
              "        }\n",
              "      </script>\n",
              "    </div>\n",
              "  </div>\n",
              "  "
            ],
            "text/plain": [
              "     level2 level5/diagnosis Chief complaint Sex  Age  Height  Weight  Onset  \\\n",
              "0     급성 복통           소화성 궤양          배가 아파요  남자  50대     170      80    1일전   \n",
              "1     급성 복통           소화성 궤양   갑자기 배가 너무 아파요  남자  30대     165      70  오늘 새벽   \n",
              "2     급성 복통           소화성 궤양          속이 쓰려요  여자  70대     160      48    1달전   \n",
              "3     급성 복통           소화성 궤양          속이 쓰려요  남자  10대     160      58    2달전   \n",
              "4     급성 복통           소화성 궤양          배가 아파요  남자  60대     170      65   1시간전   \n",
              "...     ...              ...             ...  ..  ...     ...     ...    ...   \n",
              "2251     미정              폐결핵                  여자  60대     152      45   1일 전   \n",
              "2252     미정          역류성 식도염          속이 아파요  여자  30대     155      70    3일전   \n",
              "2253     미정             대상포진          따끔 거려요  여자  60대     152      62   어제부터   \n",
              "2254     미정              방광염       소변볼때 불편해요  여자  50대     160      65  5일전부터   \n",
              "2255     미정              방광염         혈뇨가 나와요  여자  40대     158      55    3일전   \n",
              "\n",
              "                   Location   Duration  Course               Experience  \\\n",
              "0                     명치 부위         지속     심해짐  이전에도 3차례, 통증은 이번보다 약했음    \n",
              "1     명치에서 시작해 현재 복부 전체에 통증         지속     심해짐              이전에도 한 번 겪음   \n",
              "2                     명치 부위         지속     심해짐                            \n",
              "3                     명치부위          지속     심해짐                            \n",
              "4                      명치부위         지속     심해짐                            \n",
              "...                     ...        ...     ...                      ...   \n",
              "2251               기침 시에 발생  하루 종일 지속됨  약간 심해짐                       처음   \n",
              "2252                 상복부 중앙         지속     심해짐                       종종   \n",
              "2253            오른쪽 무릅 및 발등         지속     심해짐                       처음   \n",
              "2254                    하복부         지속     심해짐                       처음   \n",
              "2255                   하복부          지속     심해짐                       종종   \n",
              "\n",
              "                                  Character  \\\n",
              "0     칼로 찢기는 듯한 통증, 통증 심함, 방사통(+), 등으로 퍼짐,    \n",
              "1                              계속 쓰림, 통증 중간   \n",
              "2                              속이 쓰림, 통증 약함   \n",
              "3                              명치부위 압통, 속쓰림   \n",
              "4                             명치 부위가 아프고 쓰림   \n",
              "...                                     ...   \n",
              "2251                            기침, 가래, 선홍색   \n",
              "2252                                 쓰라린 느낌   \n",
              "2253                       따끔거리는 통증, 가려움 동반   \n",
              "2254                                          \n",
              "2255                             선홍색 육안적 혈뇨   \n",
              "\n",
              "                                         Associated Sx.  \\\n",
              "0     , 구토 (+ 2회 흰 물만 나옴 ), 속쓰림, [응급] 어지러움 (+), 갈증 (...   \n",
              "1                                         구역질, 구토, 식욕감소   \n",
              "2                                         구역질, 신물이 올라와요   \n",
              "3                                                    구토   \n",
              "4                                                         \n",
              "...                                                 ...   \n",
              "2251                            발열(+), 오한(+), 체중감소(+),    \n",
              "2252  구역(+), 등쪽 통증(+), 식은땀(+), 울렁거림(+), 설사(+), 어지러움(...   \n",
              "2253                                                      \n",
              "2254                                   배뇨통(+), 피곤감(+),    \n",
              "2255                            배뇨통(+), 혈뇨(+), 피곤감(+),    \n",
              "\n",
              "                                           Factor                       Event  \\\n",
              "0     자세에 따른 변화(+), 오른쪽으로 돌아 누우면 완화, 반듯이 누우면 악화,                                \n",
              "1                                   앞으로 숙이는 경우 완화          2년 전 건강 검진 상 이상 없음   \n",
              "2                                      누워있으면 심해져요                               \n",
              "3                                                                               \n",
              "4                                                                               \n",
              "...                                           ...                         ...   \n",
              "2251                                                   , 2년 전 건강 검진 시 정상 소견,    \n",
              "2252                                       식후 심해짐  작년 건강검진상 GERD 진단, 약은 먹지 않음   \n",
              "2253                                                                            \n",
              "2254                                                               최근 회사일로 피곤   \n",
              "2255                                                                            \n",
              "\n",
              "                        약물 투약력  \\\n",
              "0                                \n",
              "1               관절염 약(진통소염제),    \n",
              "2                     관절염약 복용중   \n",
              "3                          철분제   \n",
              "4                         고혈압약   \n",
              "...                        ...   \n",
              "2251  2주 전 감기약 먹음, 평소 비타민 복용,    \n",
              "2252                             \n",
              "2253                             \n",
              "2254                             \n",
              "2255                             \n",
              "\n",
              "                                                    사회력         가족력 외상력  \\\n",
              "0     술(+), 1주일 6~7번, 하루 소주 2~3병, 담배(+), 30갑년, 식사 , ...                   \n",
              "1              술, 회, 주 2~3회), 회사원, 회식이 잦고 폭음하는 경우가 있음,                    \n",
              "2                                                                         \n",
              "3                                                                         \n",
              "4                                            5년전 알코올 중독                   \n",
              "...                                                 ...         ...  ..   \n",
              "2251                                          , 담배(+),   아버지(고혈압),        \n",
              "2252                                   술(+), 하루 맥주 2잔,                    \n",
              "2253                                                                      \n",
              "2254                                                                      \n",
              "2255                                                                      \n",
              "\n",
              "                   과거력                           여성력     Level1        BMI  \\\n",
              "0                                                     digestive  27.681661   \n",
              "1                                                     digestive  25.711662   \n",
              "2     HTN(+), DM (+),                                 digestive  18.750000   \n",
              "3                                                     digestive  22.656250   \n",
              "4             HTN(+),                                 digestive  22.491349   \n",
              "...                ...                           ...        ...        ...   \n",
              "2251          고혈압(+),   규칙적인 월경, 보통인 월경량, 첫날에만 통증 있음         미정  19.477147   \n",
              "2252                                                         미정  29.136316   \n",
              "2253             섬유신경종                                       미정  26.835180   \n",
              "2254                                                         미정  25.390625   \n",
              "2255                                                         미정  22.031726   \n",
              "\n",
              "     Obesity                                                All  \n",
              "0        과체중  급성 복통. 배가 아파요. 50대. 남자. 1일 전. 명치 부위. 지속. 심해짐. ...  \n",
              "1        과체중  급성 복통. 갑자기 배가 너무 아파요. 30대. 남자. 오늘 새벽. 명치에서 시작해...  \n",
              "2        저체중  급성 복통. 속이 쓰려요. 70대. 여자. 1달 전. 명치 부위. 지속. 심해짐. ...  \n",
              "3         정상  급성 복통. 속이 쓰려요. 10대. 남자. 2달 전. 명치 부위. 지속. 심해짐. ...  \n",
              "4         정상  급성 복통. 배가 아파요. 60대. 남자. 1시간 전. 명치 부위. 지속. 심해짐....  \n",
              "...      ...                                                ...  \n",
              "2251     저체중  미정.  . 60대. 여자. 1일 전. 기침 시에 발생. 하루 종일 지속됨. 약간 ...  \n",
              "2252      비만  미정. 속이 아파요. 30대. 여자. 3일 전. 상복부 중앙. 지속. 심해짐. 종종...  \n",
              "2253     과체중  미정. 따끔 걸려요. 60대. 여자. 어제부터. 오른쪽 무릎 및 발등. 지속. 심해...  \n",
              "2254     과체중  미정. 소변볼 때 불편해요. 50대. 여자. 5일 전부터. 하복부. 지속. 심해짐....  \n",
              "2255      정상  미정. 혈뇨가 나와요. 40대. 여자. 3일 전. 하복부. 지속. 심해짐. 종종. ...  \n",
              "\n",
              "[2256 rows x 26 columns]"
            ]
          },
          "execution_count": 37,
          "metadata": {},
          "output_type": "execute_result"
        }
      ],
      "source": [
        "data"
      ]
    },
    {
      "cell_type": "markdown",
      "metadata": {
        "id": "ICjeQ0nC-mk7"
      },
      "source": [
        "## 10) Change English words to Korean"
      ]
    },
    {
      "cell_type": "code",
      "execution_count": 40,
      "metadata": {
        "id": "UHC3Dsf--pI9"
      },
      "outputs": [],
      "source": [
        "def replace_eng_to_kor(x):\n",
        "  # Need to update more!!\n",
        "  x = x.replace('Liver', '간염')\n",
        "  x = x.replace('Hepatitis', '간염')\n",
        "  x = x.replace('DM', '당뇨')\n",
        "  x = x.replace('TBc', '결핵')\n",
        "  x = x.replace('TB', '결핵')\n",
        "  x = x.replace('HTN', '고혈압')\n",
        "  x = x.replace('Dyslipidemia', '이상지질혈증')\n",
        "  x = x.replace('dyslipidemia', '이상지질혈증')\n",
        "  x = x.replace('소염진통제(NSAIDs)', '소염진통제')\n",
        "  x = x.replace('NSAIDs', '소염진통제')\n",
        "  x = x.replace('NSAID', '소염진통제')\n",
        "  x = x.replace('LMP', '마지막 월경')\n",
        "  x = x.replace(\"Murphy's sign\", '숨을 들이쉬는 동안 오른쪽 갈비뼈 밑 인근 부위를 만지면 통증이 생기는 증상')\n",
        "  x = x.replace('Valsartan', '고혈압약')\n",
        "  x = x.replace('고혈압약(amlodipine)', '고혈압약')\n",
        "  x = x.replace('항고혈압제(Amlodipine)', '고혈압약')\n",
        "  x = x.replace('Amlodipine', '고혈압약')\n",
        "  x = x.replace('amlodipine', '고혈압약')\n",
        "  x = x.replace('Metformin', '비구아니드 계열의 경구용 혈당강하제, 제2형 당뇨병에 사용')\n",
        "  x = x.replace('BID', '하루에 2번')\n",
        "  x = x.replace('Bid', '하루에 2번')\n",
        "  x = x.replace('ciprofloxacin', '항생제')\n",
        "  x = x.replace('QD', '하루에 한번')\n",
        "  x = x.replace('우울증약(SSRI)', '우울증약')\n",
        "  x = x.replace('SSRI', '우울증약')\n",
        "  x = x.replace('1T', '1알')\n",
        "  x = x.replace('FAP', '가족성 용종증')\n",
        "  x = x.replace('COPD', '만성 폐쇄성 폐질환')\n",
        "  x = x.replace('Roux-Y op', '위우회술')\n",
        "  x = x.replace('terminal ileum', '직장과 결장 및 소장의 마지막 일부')\n",
        "  x = x.replace('Hyperlipidemia', '고지혈증')\n",
        "  x = x.replace('혈압강하제(CCB, ACEi)', '혈압강하제')\n",
        "  x = x.replace('C-sec', '제왕절개')\n",
        "  x = x.replace('Non-smoking, Non-Alcohol', '술 담배 안함')\n",
        "  x = x.replace('F / U / N / D / H / I / S', '빈뇨/절박뇨/야뇨/배뇨통/배뇨지연/요실금/소변줄기 변화')\n",
        "  \n",
        "  return x"
      ]
    },
    {
      "cell_type": "code",
      "execution_count": 41,
      "metadata": {
        "colab": {
          "base_uri": "https://localhost:8080/"
        },
        "id": "ooCw_7MLCWbg",
        "outputId": "83721724-5d74-4a34-af61-fb9796f6e639"
      },
      "outputs": [
        {
          "data": {
            "text/plain": [
              "array(['급성 복통. 배가 아파요. 50대. 남자. 1일전. 명치 부위. 지속. 심해짐. 이전에도 3차례, 통증은 이번보다 약했음 . 칼로 찢기는 듯한 통증, 통증 심함, 방사통(+), 등으로 퍼짐, . , 구토 (+ 2회 흰 물만 나옴 ), 속쓰림, [응급] 어지러움 (+), 갈증 (+), 소변량 감소 (+), . 자세에 따른 변화(+), 오른쪽으로 돌아 누우면 완화, 반듯이 누우면 악화, . . . 술(+), 1주일 6~7번, 하루 소주 2~3병, 담배(+), 30갑년, 식사 , 매우 불규칙, 직업 , 포크레인 조종수, . . . . . 과체중',\n",
              "       '급성 복통. 갑자기 배가 너무 아파요. 30대. 남자. 오늘 새벽. 명치에서 시작해 현재 복부 전체에 통증. 지속. 심해짐. 이전에도 한 번 겪음. 계속 쓰림, 통증 중간. 구역질, 구토, 식욕감소. 앞으로 숙이는 경우 완화. 2년 전 건강 검진 상 이상 없음. 관절염 약(진통소염제), . 술, 회, 주 2~3회), 회사원, 회식이 잦고 폭음하는 경우가 있음, . . . . . 과체중',\n",
              "       '급성 복통. 속이 쓰려요. 70대. 여자. 1달전. 명치 부위. 지속. 심해짐. . 속이 쓰림, 통증 약함. 구역질, 신물이 올라와요. 누워있으면 심해져요. . 관절염약 복용중. . . . HTN(+), DM (+), . . 저체중',\n",
              "       ...,\n",
              "       '미정. 따끔 거려요. 60대. 여자. 어제부터. 오른쪽 무릅 및 발등. 지속. 심해짐. 처음. 따끔거리는 통증, 가려움 동반. . . . . . . . 섬유신경종. . 과체중',\n",
              "       '미정. 소변볼때 불편해요. 50대. 여자. 5일전부터. 하복부. 지속. 심해짐. 처음. . 배뇨통(+), 피곤감(+), . . 최근 회사일로 피곤. . . . . . . 과체중',\n",
              "       '미정. 혈뇨가 나와요. 40대. 여자. 3일전. 하복부 . 지속. 심해짐. 종종. 선홍색 육안적 혈뇨. 배뇨통(+), 혈뇨(+), 피곤감(+), . . . . . . . . . 정상'],\n",
              "      dtype=object)"
            ]
          },
          "execution_count": 41,
          "metadata": {},
          "output_type": "execute_result"
        }
      ],
      "source": [
        "data['All'].values"
      ]
    },
    {
      "cell_type": "code",
      "execution_count": null,
      "metadata": {
        "colab": {
          "base_uri": "https://localhost:8080/",
          "height": 142,
          "referenced_widgets": [
            "64a1a306649840d6935db61c456e7771",
            "f8bd89038c5f495086065eedade60955",
            "e895abae5ade4d1a8b6f75ab6e6917ac",
            "73cd8e47f6ba40aeb53669308ce38072",
            "cd7d2645f6d441cead7c6a042fb0f593",
            "6d8ff267d9d4488395decef2959c815e",
            "f25160ab2c7b440aabf2a61a880572d1",
            "77db14a1dc274f638c5a25969eade0e1",
            "358aff879e844029939b9b9907fe00d0",
            "f2e46a5ba1d0401abe0bccfdbb455fdb",
            "ccf17d82df394864bab535ee4b54b0f2"
          ]
        },
        "id": "8uy8I4aT_k7X",
        "outputId": "e8bd826e-f7d7-4904-da30-9ebfef5da569"
      },
      "outputs": [
        {
          "data": {
            "application/vnd.jupyter.widget-view+json": {
              "model_id": "64a1a306649840d6935db61c456e7771",
              "version_major": 2,
              "version_minor": 0
            },
            "text/plain": [
              "  0%|          | 0/2256 [00:00<?, ?it/s]"
            ]
          },
          "metadata": {},
          "output_type": "display_data"
        },
        {
          "name": "stderr",
          "output_type": "stream",
          "text": [
            "/usr/local/lib/python3.7/dist-packages/ipykernel_launcher.py:5: SettingWithCopyWarning: \n",
            "A value is trying to be set on a copy of a slice from a DataFrame\n",
            "\n",
            "See the caveats in the documentation: https://pandas.pydata.org/pandas-docs/stable/user_guide/indexing.html#returning-a-view-versus-a-copy\n",
            "  \"\"\"\n"
          ]
        }
      ],
      "source": [
        "#for m in data.columns[10:21]: #'Experience', 'Character', 'Associated Sx.', 'Factor', 'Event', '약물 투약력', '사회력', '가족력', '외상력', '과거력', '여성력']\n",
        "#  data[m] = data.apply(lambda x : replace_eng_to_kor(x[m]) , axis = 1 )\n",
        "\n",
        "for i in tqdm(range(len(data))):\n",
        "  data['All'][i] = replace_eng_to_kor(data['All'][i])"
      ]
    },
    {
      "cell_type": "markdown",
      "metadata": {
        "id": "6tyPShL0-p5o"
      },
      "source": [
        "## 11) Change difficuly words to easy words"
      ]
    },
    {
      "cell_type": "code",
      "execution_count": 42,
      "metadata": {
        "id": "XTnS5DpO-tjb"
      },
      "outputs": [],
      "source": [
        "def replace_diffi_to_easy(x):\n",
        "  # Need to update more!!\n",
        "  if x=='지속' or x=='지속 ' or x=='지속됨':\n",
        "      x = '하루종일'\n",
        "  x = x.replace('복압 배뇨', '소변을 볼 때 힘을 줘야함')#kidney\n",
        "  x = x.replace('샅통증', '사타구니 통증')\n",
        "  x = x.replace('다갈', '몹시 갈증이 남')\n",
        "  x = x.replace('다음', '몹시 갈증이 나 물을 많이 마심')\n",
        "  x = x.replace('다뇨', '소변량 증가')\n",
        "  x = x.replace('뒷무직', '잔변감')\n",
        "  x = x.replace('요의', '오줌이 마려운 느낌')\n",
        "  x = x.replace('급성 요폐', '소변이 마려운데 힘줘도 안 나옴')\n",
        "  x = x.replace('점적뇨', '소변 후 오줌이 몇 방울씩 속옷에 묻어남')\n",
        "  x = x.replace('두부 외상', '머리를 다침')\n",
        "  x = x.replace('두부 타격', '머리를 다침')\n",
        "  x = x.replace('섬망', '환각, 초조함, 떨림')\n",
        "\n",
        "  x = x.replace('복장뼈아래', '가슴 중앙 아래')#digestive\n",
        "  x = x.replace('방사통', '퍼지는 통증')\n",
        "  x = x.replace('반동압통', '눌렀다 떼면 아픔')\n",
        "  x = x.replace('반발압통', '눌렀다 떼면 아픔')\n",
        "  x = x.replace('압통점', '누르면 아픔')\n",
        "  x = x.replace('압통', '누르면 아픔')\n",
        "  x = x.replace('장음 감소', '장의 운동 소리가 감소')\n",
        "  x = x.replace('장음감소', '장의 운동 소리가 감소')\n",
        "  x = x.replace('장음 소실', '장의 운동 소리가 감소')\n",
        "  x = x.replace('장음 증가', '장의 운동 소리가 증가')\n",
        "  x = x.replace('장음증가', '장의 운동 소리가 증가')\n",
        "  x = x.replace('박동성 종괴', '두근거리는 멍울, 혹')\n",
        "  x = x.replace('종괴', '멍울, 혹')\n",
        "  x = x.replace('덩이', '멍울, 혹')\n",
        "  x = x.replace('두덩뼈', '골반뼈 중 일부')\n",
        "  x = x.replace('공막', '흰자, 눈')\n",
        "  x = x.replace('혈액응고지연', '피가 안멈춰요')\n",
        "  x = x.replace('인두통', '목이 아픔')\n",
        "  x = x.replace('항문 열상', '항문이 찢어져서 생긴 상처')\n",
        "  x = x.replace('후중감(tenesmus)', '잔변감')\n",
        "  x = x.replace('경부강직', '목근육이 굳어서 머리를 앞으로 구부릴 수 없음')\n",
        "  x = x.replace('조음장애', '발음장애')\n",
        "  x = x.replace('구음장애', '말하기 어려움')\n",
        "  x = x.replace('추위불내성', '추위를 견디지 못함')\n",
        "  x = x.replace('추위 불내성', '추위를 견디지 못함')\n",
        "  x = x.replace('더위불내성', '더위를 견디지 못함')\n",
        "  x = x.replace('더위 불내성', '더위를 견디지 못함')\n",
        "  x = x.replace('야간발한', '밤에 땀이 남')\n",
        "  x = x.replace('야간 발한', '밤에 땀이 남')\n",
        "  x = x.replace('발한과다', '땀이 많이 남')\n",
        "  x = x.replace('전신발한', '온몸에 땀이 남')\n",
        "  x = x.replace('발한', '땀이 남')\n",
        "  x = x.replace('와파린', '항응고제')\n",
        "  x = x.replace('경추', '목')\n",
        "  x = x.replace('요추', '허리')\n",
        "  x = x.replace('폴립', '종양, 용종')\n",
        "  x = x.replace('의식 소실', '의식 없어짐')\n",
        "  x = x.replace('의식소실', '의식 없어짐')\n",
        "  x = x.replace('황달 소실', '황달 없어짐')\n",
        "  x = x.replace('유지', '비슷')\n",
        "  x = x.replace('우상복부', '오른쪽 윗배')\n",
        "  x = x.replace('우하복부', '오른쪽 아랫배')\n",
        "  x = x.replace('우측복부', '오른쪽 배')\n",
        "  x = x.replace('좌측복부', '왼쪽 배')\n",
        "  x = x.replace('좌하복부', '왼쪽 아랫배')\n",
        "  x = x.replace('좌상복부', '왼쪽 윗배')\n",
        "  x = x.replace('하복부통', '아랫배 통증')\n",
        "  x = x.replace('상복부', '윗배')\n",
        "  x = x.replace('하복부', '아랫배')\n",
        "  x = x.replace('심계항진', '심장이 계속 두근거려요')\n",
        "  x = x.replace('분출성', '뿜어나오는 구토')\n",
        "  x = x.replace('홍반', '붉은 반점')\n",
        "\n",
        "\n",
        "\n",
        "  x = x.replace('작열감', '화끈거림')#musculoskeletal\n",
        "  x = x.replace('광과민성', '빛에 민감')\n",
        "  x = x.replace('간헐적', '주기적으로')#respiratory\n",
        "  x = x.replace('간간히', '가끔씩')\n",
        "  x = x.replace('혈성 콧물', '피가 섞인 콧물')\n",
        "  x = x.replace('인후통', '목구멍이 아픔')\n",
        "  x = x.replace('객혈', '피가 섞인 가래')\n",
        "  x = x.replace('객담', '가래')\n",
        "\n",
        "  #오목부종 오목 부종 안면부종 다리부종 하지부종 음낭부종 얼굴부종\n",
        "\n",
        "\n",
        "  x = x.replace('편마비', '한 쪽 마비')#circulator2\n",
        "  x = x.replace('메티마졸', '갑상선기능항진증 약')\n",
        "  x = x.replace('희발월경', '월경, 생리 주기가 길다') \n",
        "  x = x.replace('측면', '옆')\n",
        "  x = x.replace('무월경', '월경 안함')\n",
        "  x = x.replace('지방식', '기름진 음식')\n",
        "  x = x.replace('위약', '쇠약')\n",
        "  x = x.replace('쇠약감', '힘이 없음')\n",
        "  x = x.replace('동공산대', '동공 확대')\n",
        "\n",
        "\n",
        "\n",
        "  x = x.replace('성교통', '성관계를 할 때 통증')#Para_Female_Child\n",
        "  x = x.replace('성교', '성관계')\n",
        "  x = x.replace('회음부', '성기')\n",
        "  x = x.replace('외음부', '성기')\n",
        "  x = x.replace('초경(-)', '초경 안함')\n",
        "  x = x.replace('초경 전', '초경 안함')\n",
        "\n",
        "  x = x.replace('오심', '구역감')#digestive(jaundice)\n",
        "  x = x.replace('소양증', '가려움증')\n",
        "  x = x.replace('쓰리다', '속쓰림')#hematemesis(digestive)\n",
        "  return x"
      ]
    },
    {
      "cell_type": "code",
      "execution_count": 43,
      "metadata": {
        "colab": {
          "base_uri": "https://localhost:8080/",
          "height": 142,
          "referenced_widgets": [
            "32c4e00390bc44e699817e7282895bcc",
            "79dac46daf654208b6dbf64de87eec6e",
            "2fb7ce3d2225478dbdfc1d30538bb6ea",
            "dddd8ff0f1d64f32be68312d21c75da4",
            "0176c15c45e744f0851f81618b560954",
            "0d832e9a129a4febb9b213c3df517b8a",
            "ccdfd7b3a8e04dfe9bb28f66b88d4a2a",
            "23fcc8004bb9461b8d3dfb9403a4f5e9",
            "c1285cce595147adb8da00157a5a3eb9",
            "5a1ddbffffee474bb98d7b61ad6924f5",
            "4798ce9f024c4a64be8edd2d5dc4ef1f"
          ]
        },
        "id": "PgJWCuxv_zH-",
        "outputId": "dd9bf3cb-73dc-45e2-914b-dab42524fd8f"
      },
      "outputs": [
        {
          "data": {
            "application/vnd.jupyter.widget-view+json": {
              "model_id": "5ba45bb1f7674ebc843921c72cdd0d55",
              "version_major": 2,
              "version_minor": 0
            },
            "text/plain": [
              "  0%|          | 0/2256 [00:00<?, ?it/s]"
            ]
          },
          "metadata": {},
          "output_type": "display_data"
        },
        {
          "name": "stderr",
          "output_type": "stream",
          "text": [
            "<ipython-input-43-18421efa3b4e>:5: SettingWithCopyWarning: \n",
            "A value is trying to be set on a copy of a slice from a DataFrame\n",
            "\n",
            "See the caveats in the documentation: https://pandas.pydata.org/pandas-docs/stable/user_guide/indexing.html#returning-a-view-versus-a-copy\n",
            "  data['All'][i] = replace_diffi_to_easy(data['All'][i])\n"
          ]
        },
        {
          "ename": "KeyboardInterrupt",
          "evalue": "",
          "output_type": "error",
          "traceback": [
            "\u001b[1;31m---------------------------------------------------------------------------\u001b[0m",
            "\u001b[1;31mKeyboardInterrupt\u001b[0m                         Traceback (most recent call last)",
            "\u001b[1;32m<ipython-input-43-18421efa3b4e>\u001b[0m in \u001b[0;36m<module>\u001b[1;34m\u001b[0m\n\u001b[0;32m      3\u001b[0m \u001b[1;33m\u001b[0m\u001b[0m\n\u001b[0;32m      4\u001b[0m \u001b[1;32mfor\u001b[0m \u001b[0mi\u001b[0m \u001b[1;32min\u001b[0m \u001b[0mtqdm\u001b[0m\u001b[1;33m(\u001b[0m\u001b[0mrange\u001b[0m\u001b[1;33m(\u001b[0m\u001b[0mlen\u001b[0m\u001b[1;33m(\u001b[0m\u001b[0mdata\u001b[0m\u001b[1;33m)\u001b[0m\u001b[1;33m)\u001b[0m\u001b[1;33m)\u001b[0m\u001b[1;33m:\u001b[0m\u001b[1;33m\u001b[0m\u001b[1;33m\u001b[0m\u001b[0m\n\u001b[1;32m----> 5\u001b[1;33m   \u001b[0mdata\u001b[0m\u001b[1;33m[\u001b[0m\u001b[1;34m'All'\u001b[0m\u001b[1;33m]\u001b[0m\u001b[1;33m[\u001b[0m\u001b[0mi\u001b[0m\u001b[1;33m]\u001b[0m \u001b[1;33m=\u001b[0m \u001b[0mreplace_diffi_to_easy\u001b[0m\u001b[1;33m(\u001b[0m\u001b[0mdata\u001b[0m\u001b[1;33m[\u001b[0m\u001b[1;34m'All'\u001b[0m\u001b[1;33m]\u001b[0m\u001b[1;33m[\u001b[0m\u001b[0mi\u001b[0m\u001b[1;33m]\u001b[0m\u001b[1;33m)\u001b[0m\u001b[1;33m\u001b[0m\u001b[1;33m\u001b[0m\u001b[0m\n\u001b[0m",
            "\u001b[1;32mc:\\Users\\USER\\AppData\\Local\\Programs\\Python\\Python39\\lib\\site-packages\\pandas\\core\\series.py\u001b[0m in \u001b[0;36m__setitem__\u001b[1;34m(self, key, value)\u001b[0m\n\u001b[0;32m   1073\u001b[0m         \u001b[0mcheck_deprecated_indexers\u001b[0m\u001b[1;33m(\u001b[0m\u001b[0mkey\u001b[0m\u001b[1;33m)\u001b[0m\u001b[1;33m\u001b[0m\u001b[1;33m\u001b[0m\u001b[0m\n\u001b[0;32m   1074\u001b[0m         \u001b[0mkey\u001b[0m \u001b[1;33m=\u001b[0m \u001b[0mcom\u001b[0m\u001b[1;33m.\u001b[0m\u001b[0mapply_if_callable\u001b[0m\u001b[1;33m(\u001b[0m\u001b[0mkey\u001b[0m\u001b[1;33m,\u001b[0m \u001b[0mself\u001b[0m\u001b[1;33m)\u001b[0m\u001b[1;33m\u001b[0m\u001b[1;33m\u001b[0m\u001b[0m\n\u001b[1;32m-> 1075\u001b[1;33m         \u001b[0mcacher_needs_updating\u001b[0m \u001b[1;33m=\u001b[0m \u001b[0mself\u001b[0m\u001b[1;33m.\u001b[0m\u001b[0m_check_is_chained_assignment_possible\u001b[0m\u001b[1;33m(\u001b[0m\u001b[1;33m)\u001b[0m\u001b[1;33m\u001b[0m\u001b[1;33m\u001b[0m\u001b[0m\n\u001b[0m\u001b[0;32m   1076\u001b[0m \u001b[1;33m\u001b[0m\u001b[0m\n\u001b[0;32m   1077\u001b[0m         \u001b[1;32mif\u001b[0m \u001b[0mkey\u001b[0m \u001b[1;32mis\u001b[0m \u001b[0mEllipsis\u001b[0m\u001b[1;33m:\u001b[0m\u001b[1;33m\u001b[0m\u001b[1;33m\u001b[0m\u001b[0m\n",
            "\u001b[1;32mc:\\Users\\USER\\AppData\\Local\\Programs\\Python\\Python39\\lib\\site-packages\\pandas\\core\\series.py\u001b[0m in \u001b[0;36m_check_is_chained_assignment_possible\u001b[1;34m(self)\u001b[0m\n\u001b[0;32m   1254\u001b[0m             \u001b[0mref\u001b[0m \u001b[1;33m=\u001b[0m \u001b[0mself\u001b[0m\u001b[1;33m.\u001b[0m\u001b[0m_get_cacher\u001b[0m\u001b[1;33m(\u001b[0m\u001b[1;33m)\u001b[0m\u001b[1;33m\u001b[0m\u001b[1;33m\u001b[0m\u001b[0m\n\u001b[0;32m   1255\u001b[0m             \u001b[1;32mif\u001b[0m \u001b[0mref\u001b[0m \u001b[1;32mis\u001b[0m \u001b[1;32mnot\u001b[0m \u001b[1;32mNone\u001b[0m \u001b[1;32mand\u001b[0m \u001b[0mref\u001b[0m\u001b[1;33m.\u001b[0m\u001b[0m_is_mixed_type\u001b[0m\u001b[1;33m:\u001b[0m\u001b[1;33m\u001b[0m\u001b[1;33m\u001b[0m\u001b[0m\n\u001b[1;32m-> 1256\u001b[1;33m                 \u001b[0mself\u001b[0m\u001b[1;33m.\u001b[0m\u001b[0m_check_setitem_copy\u001b[0m\u001b[1;33m(\u001b[0m\u001b[0mt\u001b[0m\u001b[1;33m=\u001b[0m\u001b[1;34m\"referent\"\u001b[0m\u001b[1;33m,\u001b[0m \u001b[0mforce\u001b[0m\u001b[1;33m=\u001b[0m\u001b[1;32mTrue\u001b[0m\u001b[1;33m)\u001b[0m\u001b[1;33m\u001b[0m\u001b[1;33m\u001b[0m\u001b[0m\n\u001b[0m\u001b[0;32m   1257\u001b[0m             \u001b[1;32mreturn\u001b[0m \u001b[1;32mTrue\u001b[0m\u001b[1;33m\u001b[0m\u001b[1;33m\u001b[0m\u001b[0m\n\u001b[0;32m   1258\u001b[0m         \u001b[1;32mreturn\u001b[0m \u001b[0msuper\u001b[0m\u001b[1;33m(\u001b[0m\u001b[1;33m)\u001b[0m\u001b[1;33m.\u001b[0m\u001b[0m_check_is_chained_assignment_possible\u001b[0m\u001b[1;33m(\u001b[0m\u001b[1;33m)\u001b[0m\u001b[1;33m\u001b[0m\u001b[1;33m\u001b[0m\u001b[0m\n",
            "\u001b[1;32mc:\\Users\\USER\\AppData\\Local\\Programs\\Python\\Python39\\lib\\site-packages\\pandas\\core\\generic.py\u001b[0m in \u001b[0;36m_check_setitem_copy\u001b[1;34m(self, t, force)\u001b[0m\n\u001b[0;32m   4028\u001b[0m             \u001b[1;32mraise\u001b[0m \u001b[0mcom\u001b[0m\u001b[1;33m.\u001b[0m\u001b[0mSettingWithCopyError\u001b[0m\u001b[1;33m(\u001b[0m\u001b[0mt\u001b[0m\u001b[1;33m)\u001b[0m\u001b[1;33m\u001b[0m\u001b[1;33m\u001b[0m\u001b[0m\n\u001b[0;32m   4029\u001b[0m         \u001b[1;32melif\u001b[0m \u001b[0mvalue\u001b[0m \u001b[1;33m==\u001b[0m \u001b[1;34m\"warn\"\u001b[0m\u001b[1;33m:\u001b[0m\u001b[1;33m\u001b[0m\u001b[1;33m\u001b[0m\u001b[0m\n\u001b[1;32m-> 4030\u001b[1;33m             \u001b[0mwarnings\u001b[0m\u001b[1;33m.\u001b[0m\u001b[0mwarn\u001b[0m\u001b[1;33m(\u001b[0m\u001b[0mt\u001b[0m\u001b[1;33m,\u001b[0m \u001b[0mcom\u001b[0m\u001b[1;33m.\u001b[0m\u001b[0mSettingWithCopyWarning\u001b[0m\u001b[1;33m,\u001b[0m \u001b[0mstacklevel\u001b[0m\u001b[1;33m=\u001b[0m\u001b[0mfind_stack_level\u001b[0m\u001b[1;33m(\u001b[0m\u001b[1;33m)\u001b[0m\u001b[1;33m)\u001b[0m\u001b[1;33m\u001b[0m\u001b[1;33m\u001b[0m\u001b[0m\n\u001b[0m\u001b[0;32m   4031\u001b[0m \u001b[1;33m\u001b[0m\u001b[0m\n\u001b[0;32m   4032\u001b[0m     \u001b[1;32mdef\u001b[0m \u001b[0m__delitem__\u001b[0m\u001b[1;33m(\u001b[0m\u001b[0mself\u001b[0m\u001b[1;33m,\u001b[0m \u001b[0mkey\u001b[0m\u001b[1;33m)\u001b[0m \u001b[1;33m->\u001b[0m \u001b[1;32mNone\u001b[0m\u001b[1;33m:\u001b[0m\u001b[1;33m\u001b[0m\u001b[1;33m\u001b[0m\u001b[0m\n",
            "\u001b[1;32mc:\\Users\\USER\\AppData\\Local\\Programs\\Python\\Python39\\lib\\site-packages\\pandas\\util\\_exceptions.py\u001b[0m in \u001b[0;36mfind_stack_level\u001b[1;34m()\u001b[0m\n\u001b[0;32m     30\u001b[0m     \u001b[1;33m(\u001b[0m\u001b[0mtests\u001b[0m \u001b[0mnotwithstanding\u001b[0m\u001b[1;33m)\u001b[0m\u001b[1;33m.\u001b[0m\u001b[1;33m\u001b[0m\u001b[1;33m\u001b[0m\u001b[0m\n\u001b[0;32m     31\u001b[0m     \"\"\"\n\u001b[1;32m---> 32\u001b[1;33m     \u001b[0mstack\u001b[0m \u001b[1;33m=\u001b[0m \u001b[0minspect\u001b[0m\u001b[1;33m.\u001b[0m\u001b[0mstack\u001b[0m\u001b[1;33m(\u001b[0m\u001b[1;33m)\u001b[0m\u001b[1;33m\u001b[0m\u001b[1;33m\u001b[0m\u001b[0m\n\u001b[0m\u001b[0;32m     33\u001b[0m \u001b[1;33m\u001b[0m\u001b[0m\n\u001b[0;32m     34\u001b[0m     \u001b[1;32mimport\u001b[0m \u001b[0mpandas\u001b[0m \u001b[1;32mas\u001b[0m \u001b[0mpd\u001b[0m\u001b[1;33m\u001b[0m\u001b[1;33m\u001b[0m\u001b[0m\n",
            "\u001b[1;32mc:\\Users\\USER\\AppData\\Local\\Programs\\Python\\Python39\\lib\\inspect.py\u001b[0m in \u001b[0;36mstack\u001b[1;34m(context)\u001b[0m\n\u001b[0;32m   1550\u001b[0m \u001b[1;32mdef\u001b[0m \u001b[0mstack\u001b[0m\u001b[1;33m(\u001b[0m\u001b[0mcontext\u001b[0m\u001b[1;33m=\u001b[0m\u001b[1;36m1\u001b[0m\u001b[1;33m)\u001b[0m\u001b[1;33m:\u001b[0m\u001b[1;33m\u001b[0m\u001b[1;33m\u001b[0m\u001b[0m\n\u001b[0;32m   1551\u001b[0m     \u001b[1;34m\"\"\"Return a list of records for the stack above the caller's frame.\"\"\"\u001b[0m\u001b[1;33m\u001b[0m\u001b[1;33m\u001b[0m\u001b[0m\n\u001b[1;32m-> 1552\u001b[1;33m     \u001b[1;32mreturn\u001b[0m \u001b[0mgetouterframes\u001b[0m\u001b[1;33m(\u001b[0m\u001b[0msys\u001b[0m\u001b[1;33m.\u001b[0m\u001b[0m_getframe\u001b[0m\u001b[1;33m(\u001b[0m\u001b[1;36m1\u001b[0m\u001b[1;33m)\u001b[0m\u001b[1;33m,\u001b[0m \u001b[0mcontext\u001b[0m\u001b[1;33m)\u001b[0m\u001b[1;33m\u001b[0m\u001b[1;33m\u001b[0m\u001b[0m\n\u001b[0m\u001b[0;32m   1553\u001b[0m \u001b[1;33m\u001b[0m\u001b[0m\n\u001b[0;32m   1554\u001b[0m \u001b[1;32mdef\u001b[0m \u001b[0mtrace\u001b[0m\u001b[1;33m(\u001b[0m\u001b[0mcontext\u001b[0m\u001b[1;33m=\u001b[0m\u001b[1;36m1\u001b[0m\u001b[1;33m)\u001b[0m\u001b[1;33m:\u001b[0m\u001b[1;33m\u001b[0m\u001b[1;33m\u001b[0m\u001b[0m\n",
            "\u001b[1;32mc:\\Users\\USER\\AppData\\Local\\Programs\\Python\\Python39\\lib\\inspect.py\u001b[0m in \u001b[0;36mgetouterframes\u001b[1;34m(frame, context)\u001b[0m\n\u001b[0;32m   1527\u001b[0m     \u001b[0mframelist\u001b[0m \u001b[1;33m=\u001b[0m \u001b[1;33m[\u001b[0m\u001b[1;33m]\u001b[0m\u001b[1;33m\u001b[0m\u001b[1;33m\u001b[0m\u001b[0m\n\u001b[0;32m   1528\u001b[0m     \u001b[1;32mwhile\u001b[0m \u001b[0mframe\u001b[0m\u001b[1;33m:\u001b[0m\u001b[1;33m\u001b[0m\u001b[1;33m\u001b[0m\u001b[0m\n\u001b[1;32m-> 1529\u001b[1;33m         \u001b[0mframeinfo\u001b[0m \u001b[1;33m=\u001b[0m \u001b[1;33m(\u001b[0m\u001b[0mframe\u001b[0m\u001b[1;33m,\u001b[0m\u001b[1;33m)\u001b[0m \u001b[1;33m+\u001b[0m \u001b[0mgetframeinfo\u001b[0m\u001b[1;33m(\u001b[0m\u001b[0mframe\u001b[0m\u001b[1;33m,\u001b[0m \u001b[0mcontext\u001b[0m\u001b[1;33m)\u001b[0m\u001b[1;33m\u001b[0m\u001b[1;33m\u001b[0m\u001b[0m\n\u001b[0m\u001b[0;32m   1530\u001b[0m         \u001b[0mframelist\u001b[0m\u001b[1;33m.\u001b[0m\u001b[0mappend\u001b[0m\u001b[1;33m(\u001b[0m\u001b[0mFrameInfo\u001b[0m\u001b[1;33m(\u001b[0m\u001b[1;33m*\u001b[0m\u001b[0mframeinfo\u001b[0m\u001b[1;33m)\u001b[0m\u001b[1;33m)\u001b[0m\u001b[1;33m\u001b[0m\u001b[1;33m\u001b[0m\u001b[0m\n\u001b[0;32m   1531\u001b[0m         \u001b[0mframe\u001b[0m \u001b[1;33m=\u001b[0m \u001b[0mframe\u001b[0m\u001b[1;33m.\u001b[0m\u001b[0mf_back\u001b[0m\u001b[1;33m\u001b[0m\u001b[1;33m\u001b[0m\u001b[0m\n",
            "\u001b[1;32mc:\\Users\\USER\\AppData\\Local\\Programs\\Python\\Python39\\lib\\inspect.py\u001b[0m in \u001b[0;36mgetframeinfo\u001b[1;34m(frame, context)\u001b[0m\n\u001b[0;32m   1497\u001b[0m         \u001b[1;32mraise\u001b[0m \u001b[0mTypeError\u001b[0m\u001b[1;33m(\u001b[0m\u001b[1;34m'{!r} is not a frame or traceback object'\u001b[0m\u001b[1;33m.\u001b[0m\u001b[0mformat\u001b[0m\u001b[1;33m(\u001b[0m\u001b[0mframe\u001b[0m\u001b[1;33m)\u001b[0m\u001b[1;33m)\u001b[0m\u001b[1;33m\u001b[0m\u001b[1;33m\u001b[0m\u001b[0m\n\u001b[0;32m   1498\u001b[0m \u001b[1;33m\u001b[0m\u001b[0m\n\u001b[1;32m-> 1499\u001b[1;33m     \u001b[0mfilename\u001b[0m \u001b[1;33m=\u001b[0m \u001b[0mgetsourcefile\u001b[0m\u001b[1;33m(\u001b[0m\u001b[0mframe\u001b[0m\u001b[1;33m)\u001b[0m \u001b[1;32mor\u001b[0m \u001b[0mgetfile\u001b[0m\u001b[1;33m(\u001b[0m\u001b[0mframe\u001b[0m\u001b[1;33m)\u001b[0m\u001b[1;33m\u001b[0m\u001b[1;33m\u001b[0m\u001b[0m\n\u001b[0m\u001b[0;32m   1500\u001b[0m     \u001b[1;32mif\u001b[0m \u001b[0mcontext\u001b[0m \u001b[1;33m>\u001b[0m \u001b[1;36m0\u001b[0m\u001b[1;33m:\u001b[0m\u001b[1;33m\u001b[0m\u001b[1;33m\u001b[0m\u001b[0m\n\u001b[0;32m   1501\u001b[0m         \u001b[0mstart\u001b[0m \u001b[1;33m=\u001b[0m \u001b[0mlineno\u001b[0m \u001b[1;33m-\u001b[0m \u001b[1;36m1\u001b[0m \u001b[1;33m-\u001b[0m \u001b[0mcontext\u001b[0m\u001b[1;33m//\u001b[0m\u001b[1;36m2\u001b[0m\u001b[1;33m\u001b[0m\u001b[1;33m\u001b[0m\u001b[0m\n",
            "\u001b[1;32mc:\\Users\\USER\\AppData\\Local\\Programs\\Python\\Python39\\lib\\inspect.py\u001b[0m in \u001b[0;36mgetsourcefile\u001b[1;34m(object)\u001b[0m\n\u001b[0;32m    704\u001b[0m                  importlib.machinery.EXTENSION_SUFFIXES):\n\u001b[0;32m    705\u001b[0m         \u001b[1;32mreturn\u001b[0m \u001b[1;32mNone\u001b[0m\u001b[1;33m\u001b[0m\u001b[1;33m\u001b[0m\u001b[0m\n\u001b[1;32m--> 706\u001b[1;33m     \u001b[1;32mif\u001b[0m \u001b[0mos\u001b[0m\u001b[1;33m.\u001b[0m\u001b[0mpath\u001b[0m\u001b[1;33m.\u001b[0m\u001b[0mexists\u001b[0m\u001b[1;33m(\u001b[0m\u001b[0mfilename\u001b[0m\u001b[1;33m)\u001b[0m\u001b[1;33m:\u001b[0m\u001b[1;33m\u001b[0m\u001b[1;33m\u001b[0m\u001b[0m\n\u001b[0m\u001b[0;32m    707\u001b[0m         \u001b[1;32mreturn\u001b[0m \u001b[0mfilename\u001b[0m\u001b[1;33m\u001b[0m\u001b[1;33m\u001b[0m\u001b[0m\n\u001b[0;32m    708\u001b[0m     \u001b[1;31m# only return a non-existent filename if the module has a PEP 302 loader\u001b[0m\u001b[1;33m\u001b[0m\u001b[1;33m\u001b[0m\u001b[1;33m\u001b[0m\u001b[0m\n",
            "\u001b[1;32mc:\\Users\\USER\\AppData\\Local\\Programs\\Python\\Python39\\lib\\genericpath.py\u001b[0m in \u001b[0;36mexists\u001b[1;34m(path)\u001b[0m\n\u001b[0;32m     17\u001b[0m     \u001b[1;34m\"\"\"Test whether a path exists.  Returns False for broken symbolic links\"\"\"\u001b[0m\u001b[1;33m\u001b[0m\u001b[1;33m\u001b[0m\u001b[0m\n\u001b[0;32m     18\u001b[0m     \u001b[1;32mtry\u001b[0m\u001b[1;33m:\u001b[0m\u001b[1;33m\u001b[0m\u001b[1;33m\u001b[0m\u001b[0m\n\u001b[1;32m---> 19\u001b[1;33m         \u001b[0mos\u001b[0m\u001b[1;33m.\u001b[0m\u001b[0mstat\u001b[0m\u001b[1;33m(\u001b[0m\u001b[0mpath\u001b[0m\u001b[1;33m)\u001b[0m\u001b[1;33m\u001b[0m\u001b[1;33m\u001b[0m\u001b[0m\n\u001b[0m\u001b[0;32m     20\u001b[0m     \u001b[1;32mexcept\u001b[0m \u001b[1;33m(\u001b[0m\u001b[0mOSError\u001b[0m\u001b[1;33m,\u001b[0m \u001b[0mValueError\u001b[0m\u001b[1;33m)\u001b[0m\u001b[1;33m:\u001b[0m\u001b[1;33m\u001b[0m\u001b[1;33m\u001b[0m\u001b[0m\n\u001b[0;32m     21\u001b[0m         \u001b[1;32mreturn\u001b[0m \u001b[1;32mFalse\u001b[0m\u001b[1;33m\u001b[0m\u001b[1;33m\u001b[0m\u001b[0m\n",
            "\u001b[1;31mKeyboardInterrupt\u001b[0m: "
          ]
        }
      ],
      "source": [
        "# for m in data.columns[10:21]: #'Experience', 'Character', 'Associated Sx.', 'Factor', 'Event', '약물 투약력', '사회력', '가족력', '외상력', '과거력', '여성력']\n",
        "#  data[m] = data.apply(lambda x : replace_diffi_to_easy(x[m]) , axis = 1 )\n",
        "\n",
        "for i in tqdm(range(len(data))):\n",
        "  data['All'][i] = replace_diffi_to_easy(data['All'][i])"
      ]
    },
    {
      "cell_type": "code",
      "execution_count": null,
      "metadata": {
        "colab": {
          "base_uri": "https://localhost:8080/"
        },
        "id": "ePO1bqJ6nmbo",
        "outputId": "9895d1a1-4c33-42f6-ce22-4263e9f19173"
      },
      "outputs": [
        {
          "name": "stdout",
          "output_type": "stream",
          "text": [
            "<class 'pandas.core.frame.DataFrame'>\n",
            "RangeIndex: 2256 entries, 0 to 2255\n",
            "Data columns (total 26 columns):\n",
            " #   Column            Non-Null Count  Dtype  \n",
            "---  ------            --------------  -----  \n",
            " 0   level2            2256 non-null   object \n",
            " 1   level5/diagnosis  2256 non-null   object \n",
            " 2   Chief complaint   2256 non-null   object \n",
            " 3   Sex               2256 non-null   object \n",
            " 4   Age               2256 non-null   object \n",
            " 5   Height            2256 non-null   int64  \n",
            " 6   Weight            2256 non-null   int64  \n",
            " 7   Onset             2256 non-null   object \n",
            " 8   Location          2256 non-null   object \n",
            " 9   Duration          2256 non-null   object \n",
            " 10  Course            2256 non-null   object \n",
            " 11  Experience        2256 non-null   object \n",
            " 12  Character         2256 non-null   object \n",
            " 13  Associated Sx.    2256 non-null   object \n",
            " 14  Factor            2256 non-null   object \n",
            " 15  Event             2256 non-null   object \n",
            " 16  약물 투약력            2256 non-null   object \n",
            " 17  사회력               2256 non-null   object \n",
            " 18  가족력               2256 non-null   object \n",
            " 19  외상력               2256 non-null   object \n",
            " 20  과거력               2256 non-null   object \n",
            " 21  여성력               2256 non-null   object \n",
            " 22  Level1            2256 non-null   object \n",
            " 23  BMI               2256 non-null   float64\n",
            " 24  Obesity           2256 non-null   object \n",
            " 25  All               2256 non-null   object \n",
            "dtypes: float64(1), int64(2), object(23)\n",
            "memory usage: 458.4+ KB\n"
          ]
        }
      ],
      "source": [
        "data.info()"
      ]
    },
    {
      "cell_type": "markdown",
      "metadata": {
        "id": "pAwodiAbBslb"
      },
      "source": [
        "## 12) Erase stopwords using konlpy"
      ]
    },
    {
      "cell_type": "code",
      "execution_count": 44,
      "metadata": {
        "colab": {
          "base_uri": "https://localhost:8080/"
        },
        "id": "UBBFuZku7GSH",
        "outputId": "9f1323bb-3e0c-41d2-8f42-fdee6daa946a"
      },
      "outputs": [],
      "source": [
        "#%pip install konlpy\n",
        "import konlpy.tag\n",
        "okt = konlpy.tag.Okt() # 객체 생성"
      ]
    },
    {
      "cell_type": "code",
      "execution_count": 45,
      "metadata": {
        "id": "N5KvQyEm7Mae"
      },
      "outputs": [],
      "source": [
        "stopwords = ['질문', '문의', '관련', '그대로', '계속', '답변', '선생님', '관련문의',\n",
        "              '한지', '자주', '좀', '쪽', '자꾸', '요즘', '몇개', '무조건', '하나요',\n",
        "              '안해', '경우', '최근', '및', '몇', '달', '일반', '전날', '저번',\n",
        "              '말', '일어나지', '며칠', '먹기', '지난번', '글', '때문', '너', '무',\n",
        "              '시', '잔', '뒤', '지속', '막', '것', '이건', '뭔가', '다시', '그',\n",
        "              '무슨', '안', '난', '기', '후', '거리', '뭘', '저', '뭐', '답젼',\n",
        "              '평생', '회복', '반', '감사', '의사', '보험', '학생', '제발', '살짝',\n",
        "              '느낌', '제', '대해','문제', '전','정도', '왜', '거', '가요',\n",
        "              '의심', '추천', '를', '지금', '무엇', '관해', '리', '세',\n",
        "              '로', '목적', '그냥', '거의', '고민', '다음', '이틀', '항상', '뭐', '때',\n",
        "              '요',  '이후', '혹시', '안녕하세요',\n",
        "              '안녕','선생','끼','일','식','첨부','말씀','이번','분','년','진단','밥',\n",
        "              '속','년','동안','코딩','바','평소','게','주','올해','월','외','소견','오후','병원',\n",
        "              '어머니','군데','여러분','전문가','건','아버지','주일','센티','동안','건가요',\n",
        "              '의견','건강','세일','결까요','학원','수업','밤','부모','적','가족','대학생',\n",
        "              '무언가','이게','무엇','포함','살','사진','제','가능','중','기재','아이',\n",
        "              '저녁','안심','걱정','씨','며칠','동네','어디','하루','동생','해외','얘',\n",
        "              '학년','사람','직장인','나이','키','몸무게','엄마','부탁','해석','혹','시가'\n",
        "             '의', '가', '이', '은', '들', '는', '잘', '걍', '과', '도', '을'\n",
        "             '를', '으로', '자', '에', '와', '하다', '다', '.', ',']"
      ]
    },
    {
      "cell_type": "code",
      "execution_count": 46,
      "metadata": {
        "id": "mMtcgL0O9DRs"
      },
      "outputs": [],
      "source": [
        "def erase_stopwords(text):\n",
        "  X_train =[]\n",
        "  temp_x = okt.morphs(text, stem=True)\n",
        "  #print(temp_x)\n",
        "  temp_x = [word for word in temp_x if not word in stopwords]\n",
        "  temp_x = re.findall(r'\\w+', str(temp_x))\n",
        "  X_train.append(temp_x)\n",
        "  #print(X_train)\n",
        "  temp_x = ' '.join(map(str, X_train))\n",
        "  \n",
        "  return ' '.join(re.findall(r'\\w+', str(temp_x)))"
      ]
    },
    {
      "cell_type": "code",
      "execution_count": 47,
      "metadata": {
        "colab": {
          "base_uri": "https://localhost:8080/",
          "height": 54
        },
        "id": "qqD_hs8rC-G_",
        "outputId": "0224c7d6-707d-4222-cfe3-3006651f695e"
      },
      "outputs": [
        {
          "data": {
            "text/plain": [
              "'급성 복통. 배가 아파요. 50대. 남자. 1일전. 명치 부위. 지속. 심해짐. 이전에도 3차례, 통증은 이번보다 약했음 . 칼로 찢기는 듯한 통증, 통증 심함, 퍼지는 통증(+), 등으로 퍼짐, . , 구토 (+ 2회 흰 물만 나옴 ), 속쓰림, [응급] 어지러움 (+), 갈증 (+), 소변량 감소 (+), . 자세에 따른 변화(+), 오른쪽으로 돌아 누우면 완화, 반듯이 누우면 악화, . . . 술(+), 1주일 6~7번, 하루 소주 2~3병, 담배(+), 30갑년, 식사 , 매우 불규칙, 직업 , 포크레인 조종수, . . . . . 과체중'"
            ]
          },
          "execution_count": 47,
          "metadata": {},
          "output_type": "execute_result"
        }
      ],
      "source": [
        "data['All'][0]"
      ]
    },
    {
      "cell_type": "code",
      "execution_count": 48,
      "metadata": {
        "colab": {
          "base_uri": "https://localhost:8080/",
          "height": 142,
          "referenced_widgets": [
            "349ee3a8cd7a44bd823dda5d2796f01f",
            "7cb583ddfaa14be680285164659c2344",
            "367d49f2979444feb31994adeaa640dd",
            "db66bff73c68478ab3f5e252d065f360",
            "cd82d2bf9b9b4fa691e85bcc66360db3",
            "fb10d6dbdb364f42b7dee7af462ca46b",
            "74ff675c2b47407a99ee2677792494a6",
            "d66b8988c7f74d9ba167f5e42b76ac37",
            "e6888d7c0891497da83285cebded4d40",
            "41132640adc24a0a955d8e1997135e6b",
            "c11b48729f454a27a2e47ca220379565"
          ]
        },
        "id": "5j20uFQ07ftJ",
        "outputId": "71c60bd9-2131-41b2-bdf1-c0c948d4d7dd"
      },
      "outputs": [
        {
          "data": {
            "application/vnd.jupyter.widget-view+json": {
              "model_id": "42084e7e9a9444768b8ab1898e045cf7",
              "version_major": 2,
              "version_minor": 0
            },
            "text/plain": [
              "  0%|          | 0/2256 [00:00<?, ?it/s]"
            ]
          },
          "metadata": {},
          "output_type": "display_data"
        },
        {
          "name": "stderr",
          "output_type": "stream",
          "text": [
            "<ipython-input-48-9c13b3ef58dd>:7: SettingWithCopyWarning: \n",
            "A value is trying to be set on a copy of a slice from a DataFrame\n",
            "\n",
            "See the caveats in the documentation: https://pandas.pydata.org/pandas-docs/stable/user_guide/indexing.html#returning-a-view-versus-a-copy\n",
            "  data['All'][i] = erase_stopwords(data['All'][i])\n"
          ]
        }
      ],
      "source": [
        "#for m in data.columns[10:21]: #'Experience', 'Character', 'Associated Sx.', 'Factor', 'Event', '약물 투약력', '사회력', '가족력', '외상력', '과거력', '여성력']\n",
        "#  data[m] = data.apply(lambda x : erase_stopwords(x[m]) , axis = 1 )\n",
        "\n",
        "#data['Chief complaint'] = data.apply(lambda x : erase_stopwords(x['Chief complaint']) , axis = 1 )\n",
        "\n",
        "for i in tqdm(range(len(data))):\n",
        "  data['All'][i] = erase_stopwords(data['All'][i])"
      ]
    },
    {
      "cell_type": "code",
      "execution_count": 49,
      "metadata": {
        "colab": {
          "base_uri": "https://localhost:8080/"
        },
        "id": "jDKlNmYmIj-T",
        "outputId": "0cf057fa-6b42-4ec9-bfda-e2d91cc19826"
      },
      "outputs": [
        {
          "data": {
            "text/plain": [
              "0       급성 복통 배 아프다 50 대다 남자 1일 명치 부위 심해지다 이전 에도 3 차례 ...\n",
              "1       급성 복통 갑자기 배 너무 아프다 30 대다 남자 오늘 새벽 명치 에서 시작 현재 ...\n",
              "2       급성 복통 속이다 쓰리다 70 대다 여자 1 달다 명치 부위 심해지다 속이다 쓰리다...\n",
              "3       급성 복통 속이다 쓰리다 10 대다 남자 2 달다 명치 부위 심해지다 명치 부위 누...\n",
              "4       급성 복통 배 아프다 60 대다 남자 1시간 명치 부위 심해지다 명치 부위 아프다 ...\n",
              "                              ...                        \n",
              "2251    미정 60 대다 여자 1일 기침 발생 종일 되다 약간 심해지다 처음 기침 가래 선 ...\n",
              "2252    미정 속이다 아프다 30 대다 여자 3일 상 복부 중앙 심해지다 종종 쓰라리다 구역...\n",
              "2253    미정 따끔 거려 60 대다 여자 어제 부터 오른쪽 무릅 발등 심해지다 처음 따끔 통...\n",
              "2254    미정 소변 볼때 불편하다 50 대다 여자 5일 전부터 하복부 심해지다 처음 배뇨 통...\n",
              "2255    미정 혈뇨 나오다 40 대다 여자 3일 하복부 심해지다 종종 선 홍색 육안 혈뇨 배...\n",
              "Name: All, Length: 2256, dtype: object"
            ]
          },
          "execution_count": 49,
          "metadata": {},
          "output_type": "execute_result"
        }
      ],
      "source": [
        "data['All']"
      ]
    },
    {
      "cell_type": "code",
      "execution_count": null,
      "metadata": {
        "id": "APyDCMlYVIre"
      },
      "outputs": [],
      "source": [
        "#data.to_csv('processed_DB_5.17.csv', encoding='utf-8-sig')"
      ]
    },
    {
      "cell_type": "code",
      "execution_count": null,
      "metadata": {
        "id": "zw67iehFkXyL"
      },
      "outputs": [],
      "source": [
        "#import pandas as pd\n",
        "\n",
        "#data = pd.read_csv('processed_DB_5.17.csv')\n",
        "#data.drop('Unnamed: 0', axis=1, inplace=True)\n",
        "#data.fillna('', inplace=True)\n",
        "#data"
      ]
    },
    {
      "cell_type": "markdown",
      "metadata": {
        "id": "r-wopB242rKD"
      },
      "source": [
        "# 2. Select features\n",
        "https://datascience.stackexchange.com/questions/74688/how-to-use-multiple-text-features-for-nlp-classifier"
      ]
    },
    {
      "cell_type": "markdown",
      "metadata": {
        "id": "MC9nm1xpDwhJ"
      },
      "source": []
    },
    {
      "cell_type": "code",
      "execution_count": 50,
      "metadata": {
        "id": "mHtgZ5lBTpGf"
      },
      "outputs": [],
      "source": [
        "#women_data = data.copy()\n",
        "men_data = data.copy()\n",
        "women_data = data"
      ]
    },
    {
      "cell_type": "code",
      "execution_count": 51,
      "metadata": {
        "id": "F5JFCxB2ntnI"
      },
      "outputs": [],
      "source": [
        "men_data = data[data['Level1'] != 'para']\n",
        "men_data = men_data[men_data['level5/diagnosis'] != '폐경증후군']\n",
        "men_data = men_data[men_data['level5/diagnosis'] != '폐경에 의한 고혈압']\n",
        "men_data = men_data[men_data['level2'] != '월경이상/월경통']\n",
        "men_data = men_data[men_data['level5/diagnosis'] != '생리적 빈맥']\n",
        "men_data = men_data[men_data['level5/diagnosis'] != '임신']\n",
        "men_data = men_data[men_data['level5/diagnosis'] != '자궁외임신']"
      ]
    },
    {
      "cell_type": "code",
      "execution_count": 52,
      "metadata": {
        "id": "MaYUvvFg1aY3"
      },
      "outputs": [],
      "source": [
        "women_data = women_data[women_data['level5/diagnosis'] != '전립선염 / 전립선암']\n",
        "women_data = women_data[women_data['level5/diagnosis'] != '양성전립선비대증']"
      ]
    },
    {
      "cell_type": "code",
      "execution_count": 53,
      "metadata": {
        "colab": {
          "base_uri": "https://localhost:8080/"
        },
        "id": "ynFUQJxzV9bW",
        "outputId": "b7337e86-09b7-4325-a9b6-216beddc84d5"
      },
      "outputs": [
        {
          "name": "stdout",
          "output_type": "stream",
          "text": [
            "2236\n",
            "2021\n"
          ]
        }
      ],
      "source": [
        "print(len(women_data))\n",
        "print(len(men_data))"
      ]
    },
    {
      "cell_type": "code",
      "execution_count": 54,
      "metadata": {
        "id": "7w9QGtCoknqZ"
      },
      "outputs": [],
      "source": [
        "women_train = women_data.copy()\n",
        "men_train = men_data.copy()"
      ]
    },
    {
      "cell_type": "code",
      "execution_count": 55,
      "metadata": {
        "colab": {
          "base_uri": "https://localhost:8080/",
          "height": 206
        },
        "id": "qQMstUcKm4jA",
        "outputId": "299b2a6f-cacf-40b8-ec62-1bd13375f884"
      },
      "outputs": [
        {
          "data": {
            "text/html": [
              "<div>\n",
              "<style scoped>\n",
              "    .dataframe tbody tr th:only-of-type {\n",
              "        vertical-align: middle;\n",
              "    }\n",
              "\n",
              "    .dataframe tbody tr th {\n",
              "        vertical-align: top;\n",
              "    }\n",
              "\n",
              "    .dataframe thead th {\n",
              "        text-align: right;\n",
              "    }\n",
              "</style>\n",
              "<table border=\"1\" class=\"dataframe\">\n",
              "  <thead>\n",
              "    <tr style=\"text-align: right;\">\n",
              "      <th></th>\n",
              "      <th>level5/diagnosis</th>\n",
              "      <th>All</th>\n",
              "    </tr>\n",
              "  </thead>\n",
              "  <tbody>\n",
              "    <tr>\n",
              "      <th>0</th>\n",
              "      <td>소화성 궤양</td>\n",
              "      <td>급성 복통 배 아프다 50 대다 남자 1일 명치 부위 심해지다 이전 에도 3 차례 ...</td>\n",
              "    </tr>\n",
              "    <tr>\n",
              "      <th>1</th>\n",
              "      <td>소화성 궤양</td>\n",
              "      <td>급성 복통 갑자기 배 너무 아프다 30 대다 남자 오늘 새벽 명치 에서 시작 현재 ...</td>\n",
              "    </tr>\n",
              "    <tr>\n",
              "      <th>2</th>\n",
              "      <td>소화성 궤양</td>\n",
              "      <td>급성 복통 속이다 쓰리다 70 대다 여자 1 달다 명치 부위 심해지다 속이다 쓰리다...</td>\n",
              "    </tr>\n",
              "    <tr>\n",
              "      <th>3</th>\n",
              "      <td>소화성 궤양</td>\n",
              "      <td>급성 복통 속이다 쓰리다 10 대다 남자 2 달다 명치 부위 심해지다 명치 부위 누...</td>\n",
              "    </tr>\n",
              "    <tr>\n",
              "      <th>4</th>\n",
              "      <td>소화성 궤양</td>\n",
              "      <td>급성 복통 배 아프다 60 대다 남자 1시간 명치 부위 심해지다 명치 부위 아프다 ...</td>\n",
              "    </tr>\n",
              "  </tbody>\n",
              "</table>\n",
              "</div>"
            ],
            "text/plain": [
              "  level5/diagnosis                                                All\n",
              "0           소화성 궤양  급성 복통 배 아프다 50 대다 남자 1일 명치 부위 심해지다 이전 에도 3 차례 ...\n",
              "1           소화성 궤양  급성 복통 갑자기 배 너무 아프다 30 대다 남자 오늘 새벽 명치 에서 시작 현재 ...\n",
              "2           소화성 궤양  급성 복통 속이다 쓰리다 70 대다 여자 1 달다 명치 부위 심해지다 속이다 쓰리다...\n",
              "3           소화성 궤양  급성 복통 속이다 쓰리다 10 대다 남자 2 달다 명치 부위 심해지다 명치 부위 누...\n",
              "4           소화성 궤양  급성 복통 배 아프다 60 대다 남자 1시간 명치 부위 심해지다 명치 부위 아프다 ..."
            ]
          },
          "execution_count": 55,
          "metadata": {},
          "output_type": "execute_result"
        }
      ],
      "source": [
        "from io import StringIO\n",
        "col = ['level5/diagnosis', 'All']#, 'Height', 'Weight']\n",
        "women_df = women_train[col]\n",
        "men_df = men_train[col]\n",
        "\n",
        "women_df = women_df[pd.notnull(women_df['All'])]\n",
        "men_df = men_df[pd.notnull(men_df['All'])]\n",
        "\n",
        "#df['category_id'] = df['level5/diagnosis'].factorize()[0]\n",
        "#category_id_df = df[['level5/diagnosis', 'category_id']].drop_duplicates().sort_values('category_id')\n",
        "#category_to_id = dict(category_id_df.values)\n",
        "#id_to_category = dict(category_id_df[['category_id', 'level5/diagnosis']].values)\n",
        "\n",
        "men_df.head()"
      ]
    },
    {
      "cell_type": "code",
      "execution_count": null,
      "metadata": {
        "id": "zisLGC7WpidT"
      },
      "outputs": [],
      "source": [
        "#df.to_csv('digestive.csv', index=False)"
      ]
    },
    {
      "cell_type": "code",
      "execution_count": 56,
      "metadata": {
        "id": "7hRUNfxPmOj7"
      },
      "outputs": [],
      "source": [
        "from sklearn.model_selection import train_test_split\n",
        "\n",
        "w_ori_X_train, w_ori_X_test, w_ori_y_train, w_ori_y_test = train_test_split(women_df, women_df['level5/diagnosis'], random_state = 0)\n",
        "m_ori_X_train, m_ori_X_test, m_ori_y_train, m_ori_y_test = train_test_split(men_df, men_df['level5/diagnosis'], random_state = 0)"
      ]
    },
    {
      "cell_type": "code",
      "execution_count": null,
      "metadata": {
        "id": "FXaXElNOpjM2"
      },
      "outputs": [],
      "source": [
        "#!pip3 install tensorflow_addons"
      ]
    },
    {
      "cell_type": "markdown",
      "metadata": {
        "id": "C0Aid4qSYQhr"
      },
      "source": [
        "# Tokenizer: LMKor"
      ]
    },
    {
      "cell_type": "code",
      "execution_count": 57,
      "metadata": {
        "colab": {
          "base_uri": "https://localhost:8080/"
        },
        "id": "g8_Dlt2PYTaF",
        "outputId": "508c0456-89a2-447e-bc5d-9417b0f403ce"
      },
      "outputs": [
        {
          "name": "stdout",
          "output_type": "stream",
          "text": [
            "Requirement already satisfied: transformers in c:\\users\\user\\appdata\\local\\programs\\python\\python39\\lib\\site-packages (4.19.2)\n",
            "Requirement already satisfied: filelock in c:\\users\\user\\appdata\\local\\programs\\python\\python39\\lib\\site-packages (from transformers) (3.7.0)\n",
            "Requirement already satisfied: requests in c:\\users\\user\\appdata\\local\\programs\\python\\python39\\lib\\site-packages (from transformers) (2.25.1)Note: you may need to restart the kernel to use updated packages.\n",
            "\n",
            "Requirement already satisfied: numpy>=1.17 in c:\\users\\user\\appdata\\local\\programs\\python\\python39\\lib\\site-packages (from transformers) (1.20.1)\n",
            "Requirement already satisfied: huggingface-hub<1.0,>=0.1.0 in c:\\users\\user\\appdata\\local\\programs\\python\\python39\\lib\\site-packages (from transformers) (0.6.0)\n",
            "Requirement already satisfied: packaging>=20.0 in c:\\users\\user\\appdata\\local\\programs\\python\\python39\\lib\\site-packages (from transformers) (20.9)\n",
            "Requirement already satisfied: tqdm>=4.27 in c:\\users\\user\\appdata\\local\\programs\\python\\python39\\lib\\site-packages (from transformers) (4.64.0)\n",
            "Requirement already satisfied: tokenizers!=0.11.3,<0.13,>=0.11.1 in c:\\users\\user\\appdata\\local\\programs\\python\\python39\\lib\\site-packages (from transformers) (0.12.1)\n",
            "Requirement already satisfied: regex!=2019.12.17 in c:\\users\\user\\appdata\\local\\programs\\python\\python39\\lib\\site-packages (from transformers) (2022.4.24)\n",
            "Requirement already satisfied: pyyaml>=5.1 in c:\\users\\user\\appdata\\local\\programs\\python\\python39\\lib\\site-packages (from transformers) (6.0)\n",
            "Requirement already satisfied: typing-extensions>=3.7.4.3 in c:\\users\\user\\appdata\\local\\programs\\python\\python39\\lib\\site-packages (from huggingface-hub<1.0,>=0.1.0->transformers) (4.2.0)\n",
            "Requirement already satisfied: pyparsing>=2.0.2 in c:\\users\\user\\appdata\\local\\programs\\python\\python39\\lib\\site-packages (from packaging>=20.0->transformers) (2.4.7)\n",
            "Requirement already satisfied: colorama in c:\\users\\user\\appdata\\local\\programs\\python\\python39\\lib\\site-packages (from tqdm>=4.27->transformers) (0.4.4)\n",
            "Requirement already satisfied: urllib3<1.27,>=1.21.1 in c:\\users\\user\\appdata\\local\\programs\\python\\python39\\lib\\site-packages (from requests->transformers) (1.26.4)\n",
            "Requirement already satisfied: idna<3,>=2.5 in c:\\users\\user\\appdata\\local\\programs\\python\\python39\\lib\\site-packages (from requests->transformers) (2.10)\n",
            "Requirement already satisfied: chardet<5,>=3.0.2 in c:\\users\\user\\appdata\\local\\programs\\python\\python39\\lib\\site-packages (from requests->transformers) (4.0.0)\n",
            "Requirement already satisfied: certifi>=2017.4.17 in c:\\users\\user\\appdata\\local\\programs\\python\\python39\\lib\\site-packages (from requests->transformers) (2020.12.5)\n"
          ]
        }
      ],
      "source": [
        "#!pip install kobert_transformers\n",
        "#!pip install sentencepiece\n",
        "%pip install transformers"
      ]
    },
    {
      "cell_type": "code",
      "execution_count": 58,
      "metadata": {
        "colab": {
          "base_uri": "https://localhost:8080/",
          "height": 183,
          "referenced_widgets": [
            "8e2d2280a5b4402da3a5e36fcbd4e389",
            "6da71dbbd497462cbe8483d73b7b4fdd",
            "c8a75e11e5194cb7b131ffb41c3422f7",
            "6d9399630f5d40cfa015d31964105a94",
            "39892c983b2943ea8c96f4dc82f6167b",
            "d9c0ca640c4745e7874b161680f876d9",
            "095a8db1db5c4f15a19bb4e0e764b363",
            "604bbd25f9cd4852b70424e48a93ed31",
            "80fab97cb7c646fa8c8097341f8c9c0c",
            "c124c703e30d4fa3b8d1e7ca50fbbb5d",
            "8ed0fbfc3cc44409bda21ceba1440f17",
            "23616e8b635249778a30fba884c800b9",
            "815c7b812fb94646985704cd00be3cb9",
            "ba9e48a51e03453ca3d4f975753800de",
            "bd13eee1fd5c4d0281d40b4e6e555f0f",
            "98b701b0abcc4288bc0442cd28a013a6",
            "b006a451de3843af893c403464d481cf",
            "2fdec648b0054bf0a84bf40f7ae6bd7e",
            "8c3f320d6ba14ae9b6e9830183616728",
            "261ee52d06a94bd7ba6fd76eb1a4b7c8",
            "c72823cd343f44529b71fd6334bebd2e",
            "b0462e2f68b5498d8f251f3eebe7945d",
            "c7ea8708aa73483986bf922d09e18162",
            "1f5b3b2c0ba84138930b3eb6cbdf11a1",
            "8a3d971afb3447039a8827019e91d75c",
            "9be0d2a969ea439db9f8b0f7002bfb93",
            "5ec3deda9a7c44d38e638c219b09fb4d",
            "cb51cdf6bf1744a499074b4fcf9223d5",
            "c8c4570355dc4830981430d98b95c96a",
            "b4fa9d3278ba45ecaf7b8d46b44df935",
            "f1496922182947d59437b5a986b266cc",
            "4d43266155b947ae839b482717e89cbc",
            "5c8bcf0614ef46dabdb3dffe4b21b5bb",
            "d5db4d43064441f09f262b5d898bfe5c",
            "a40d56db923a427e8583a13711458665",
            "2ec29fb316114b9ab46fff0d1effe296",
            "d8c435eeed4e46c8b9a9db2e9f77296b",
            "f8b01e9349c94f26a6a39d02aa00befa",
            "87bce1cabac8453e83020d05722586ec",
            "0cb6be0e9d8349f9ab2fcbf398f49a46",
            "22dc9d0c900244409d9772d8a1e40b4d",
            "3cc075f11f7041ba9704043e4664304f",
            "d0a341fadc80441aa9f16554b38afd4e",
            "6a0be17760134d6c96c91cce5895d3c1"
          ]
        },
        "id": "LrUIDUtGT4ds",
        "outputId": "7f1ab711-4fbd-47cd-c7e5-ea3156ac799f"
      },
      "outputs": [
        {
          "data": {
            "application/vnd.jupyter.widget-view+json": {
              "model_id": "6835a78aa54d4f3aa2b50257d89cbb53",
              "version_major": 2,
              "version_minor": 0
            },
            "text/plain": [
              "Downloading:   0%|          | 0.00/363 [00:00<?, ?B/s]"
            ]
          },
          "metadata": {},
          "output_type": "display_data"
        },
        {
          "data": {
            "application/vnd.jupyter.widget-view+json": {
              "model_id": "80f9c2b9c123474bacf9fbd8366f5988",
              "version_major": 2,
              "version_minor": 0
            },
            "text/plain": [
              "Downloading:   0%|          | 0.00/336k [00:00<?, ?B/s]"
            ]
          },
          "metadata": {},
          "output_type": "display_data"
        },
        {
          "data": {
            "application/vnd.jupyter.widget-view+json": {
              "model_id": "29f6380a3f864ba79821ddf64817414e",
              "version_major": 2,
              "version_minor": 0
            },
            "text/plain": [
              "Downloading:   0%|          | 0.00/153 [00:00<?, ?B/s]"
            ]
          },
          "metadata": {},
          "output_type": "display_data"
        },
        {
          "data": {
            "application/vnd.jupyter.widget-view+json": {
              "model_id": "deb72a5ad74d4978b5208400a1c1c9b7",
              "version_major": 2,
              "version_minor": 0
            },
            "text/plain": [
              "Downloading:   0%|          | 0.00/725 [00:00<?, ?B/s]"
            ]
          },
          "metadata": {},
          "output_type": "display_data"
        },
        {
          "data": {
            "text/plain": [
              "PreTrainedTokenizerFast(name_or_path='kykim/funnel-kor-base', vocab_size=42000, model_max_len=512, is_fast=True, padding_side='right', truncation_side='right', special_tokens={'bos_token': '<s>', 'eos_token': '</s>', 'unk_token': '<unk>', 'sep_token': '<sep>', 'pad_token': '<pad>', 'cls_token': '<cls>', 'mask_token': '<mask>'})"
            ]
          },
          "execution_count": 58,
          "metadata": {},
          "output_type": "execute_result"
        }
      ],
      "source": [
        "# funnel: https://github.com/kiyoungkim1/LMkor\n",
        "from transformers import FunnelTokenizerFast, FunnelModel\n",
        "tokenizer_funnel = FunnelTokenizerFast.from_pretrained(\"kykim/funnel-kor-base\")\n",
        "tokenizer_funnel"
      ]
    },
    {
      "cell_type": "code",
      "execution_count": null,
      "metadata": {
        "id": "NRrtSg1JyKZQ"
      },
      "outputs": [],
      "source": [
        "#!pip install konlpy\n",
        "#import konlpy.tag\n",
        "#okt = konlpy.tag.Okt() # 객체 생성\n",
        "\n",
        "#stopwords = ['의', '가', '이', '은', '들', '는', '좀', '잘', '걍', '과', '도', '을'\n",
        "#             '를', '으로', '자', '에', '와', '한', '하다', '요']"
      ]
    },
    {
      "cell_type": "code",
      "execution_count": 59,
      "metadata": {
        "id": "v9OAGljJbVlN"
      },
      "outputs": [],
      "source": [
        "def only_letters_num(x):\n",
        "  #x = okt.morphs(x, stem=True)\n",
        "  #x = [word for word in x if not word in stopwords]\n",
        "  return ' '.join(re.findall(r'\\w+', str(x)))"
      ]
    },
    {
      "cell_type": "markdown",
      "metadata": {
        "id": "0x5ApS9h9Utk"
      },
      "source": []
    },
    {
      "cell_type": "code",
      "execution_count": 60,
      "metadata": {
        "id": "sqkCqWORZgTo"
      },
      "outputs": [],
      "source": [
        "\n",
        "w_ori_X_train2 = w_ori_X_train.copy()\n",
        "w_ori_X_test2 = w_ori_X_test.copy()\n",
        "\n",
        "w_ori_X_train2['All'] = w_ori_X_train.apply(lambda x : only_letters_num(x['All']) , axis = 1 )\n",
        "w_ori_X_test2['All'] = w_ori_X_test.apply(lambda x : only_letters_num(x['All']) , axis = 1 )\n",
        "\n",
        "w_document_bert_train = [\"[CLS] \" + str(s) + \" [SEP]\" for s in w_ori_X_train2['All']]\n",
        "w_document_bert_test = [\"[CLS] \" + str(s) + \" [SEP]\" for s in w_ori_X_test2['All']]\n",
        "\n",
        "w_ko_tokenized_texts_train = [tokenizer_funnel.tokenize(s) for s in w_document_bert_train]\n",
        "w_ko_tokenized_texts_test = [tokenizer_funnel.tokenize(s) for s in w_document_bert_test]\n",
        "\n",
        "##############\n",
        "m_ori_X_train2 = m_ori_X_train.copy()\n",
        "m_ori_X_test2 = m_ori_X_test.copy()\n",
        "\n",
        "m_ori_X_train2['All'] = m_ori_X_train.apply(lambda x : only_letters_num(x['All']) , axis = 1 )\n",
        "m_ori_X_test2['All'] = m_ori_X_test.apply(lambda x : only_letters_num(x['All']) , axis = 1 )\n",
        "\n",
        "m_document_bert_train = [\"[CLS] \" + str(s) + \" [SEP]\" for s in m_ori_X_train2['All']]\n",
        "m_document_bert_test = [\"[CLS] \" + str(s) + \" [SEP]\" for s in m_ori_X_test2['All']]\n",
        "\n",
        "m_ko_tokenized_texts_train = [tokenizer_funnel.tokenize(s) for s in m_document_bert_train]\n",
        "m_ko_tokenized_texts_test = [tokenizer_funnel.tokenize(s) for s in m_document_bert_test]"
      ]
    },
    {
      "cell_type": "code",
      "execution_count": 61,
      "metadata": {
        "colab": {
          "base_uri": "https://localhost:8080/"
        },
        "id": "cdmCVFxeyqYe",
        "outputId": "dcf51600-5f83-4fa4-9716-a9ccdf777c49"
      },
      "outputs": [
        {
          "name": "stdout",
          "output_type": "stream",
          "text": [
            "급성 복통 배 아프다 50 대다 남자 1일 명치 부위 심해지다 이전 에도 3 차례 통증 보다 약하다 칼 찢기다 듯 한 통증 통증 심하다 퍼지다 통증 등 퍼지다 구토 2회 희다 물 만 나오다 쓰리다 응급 어지러움 갈증 소 변량 감소 자세 따르다 변화 오른쪽 돌다 누우 면 완화 반듯이 누우 면 악화 술 1 6 7 번 소주 2 3 병 담배 30 갑년 식사 매우 불규칙 직업 포크레인 조종수 과체중\n",
            "급성 복통 배 아프다 50 대다 남자 1일 명치 부위 심해지다 이전 에도 3 차례 통증 보다 약하다 칼 찢기다 듯 한 통증 통증 심하다 퍼지다 통증 등 퍼지다 구토 2회 희다 물 만 나오다 쓰리다 응급 어지러움 갈증 소 변량 감소 자세 따르다 변화 오른쪽 돌다 누우 면 완화 반듯이 누우 면 악화 술 1 6 7 번 소주 2 3 병 담배 30 갑년 식사 매우 불규칙 직업 포크레인 조종수 과체중\n"
          ]
        }
      ],
      "source": [
        "print(w_ori_X_train['All'][0])\n",
        "print(w_ori_X_train2['All'][0])"
      ]
    },
    {
      "cell_type": "code",
      "execution_count": 62,
      "metadata": {
        "colab": {
          "base_uri": "https://localhost:8080/"
        },
        "id": "OO1NYsSekUWW",
        "outputId": "6692b9e5-cf85-4c81-bef4-f137aa0500f8"
      },
      "outputs": [
        {
          "name": "stdout",
          "output_type": "stream",
          "text": [
            "193\n",
            "193\n"
          ]
        }
      ],
      "source": [
        "print(max(len(l) for l in w_ko_tokenized_texts_train))\n",
        "print(max(len(l) for l in m_ko_tokenized_texts_train))"
      ]
    },
    {
      "cell_type": "code",
      "execution_count": 67,
      "metadata": {
        "id": "tRe3kJoFaPkQ"
      },
      "outputs": [],
      "source": [
        "from keras.preprocessing.text import Tokenizer\n",
        "\n",
        "w_max_words = 1800 #Choose only 1800 words which has high frequency\n",
        "w_tokenizer = Tokenizer(num_words = w_max_words)\n",
        "w_tokenizer.fit_on_texts(w_ko_tokenized_texts_train)\n",
        "\n",
        "w_X_train_sequence = w_tokenizer.texts_to_sequences(w_ko_tokenized_texts_train)\n",
        "w_X_test_sequence = w_tokenizer.texts_to_sequences(w_ko_tokenized_texts_test)\n",
        "\n",
        "w_y_train_dummies = pd.get_dummies(women_df['level5/diagnosis']).loc[w_ori_X_train.index]\n",
        "w_y_test_dummies = pd.get_dummies(women_df['level5/diagnosis']).loc[w_ori_X_test.index]\n",
        "\n",
        "#from keras.preprocessing.sequence import pad_sequences\n",
        "#import tf.keras.preprocessing.sequence.pad_sequences\n",
        "w_max_len = max(len(l) for l in w_ko_tokenized_texts_train)\n",
        "w_X_train_sequence = tf.keras.preprocessing.sequence.pad_sequences(w_X_train_sequence, maxlen=w_max_len)\n",
        "w_X_test_sequence = tf.keras.preprocessing.sequence.pad_sequences(w_X_test_sequence, maxlen=w_max_len)\n",
        "\n",
        "###############\n",
        "m_max_words = 1600\n",
        "m_tokenizer = Tokenizer(num_words = m_max_words)\n",
        "m_tokenizer.fit_on_texts(m_ko_tokenized_texts_train)\n",
        "\n",
        "m_X_train_sequence = m_tokenizer.texts_to_sequences(m_ko_tokenized_texts_train)\n",
        "m_X_test_sequence = m_tokenizer.texts_to_sequences(m_ko_tokenized_texts_test)\n",
        "\n",
        "m_y_train_dummies = pd.get_dummies(men_df['level5/diagnosis']).loc[m_ori_X_train.index]\n",
        "m_y_test_dummies = pd.get_dummies(men_df['level5/diagnosis']).loc[m_ori_X_test.index]\n",
        "\n",
        "m_max_len = max(len(l) for l in m_ko_tokenized_texts_train)\n",
        "m_X_train_sequence = tf.keras.preprocessing.sequence.pad_sequences(m_X_train_sequence, maxlen=m_max_len)\n",
        "m_X_test_sequence = tf.keras.preprocessing.sequence.pad_sequences(m_X_test_sequence, maxlen=m_max_len)"
      ]
    },
    {
      "cell_type": "code",
      "execution_count": 68,
      "metadata": {
        "colab": {
          "base_uri": "https://localhost:8080/"
        },
        "id": "R7S4tSBBdDyA",
        "outputId": "fa6b6b71-3e0b-4c90-9ef3-299f3288495d"
      },
      "outputs": [
        {
          "name": "stdout",
          "output_type": "stream",
          "text": [
            "223\n",
            "190\n"
          ]
        }
      ],
      "source": [
        "print(len(w_y_train_dummies.columns))\n",
        "print(len(m_y_test_dummies.columns))"
      ]
    },
    {
      "cell_type": "code",
      "execution_count": 69,
      "metadata": {
        "colab": {
          "base_uri": "https://localhost:8080/"
        },
        "id": "Nn0nfGfWGnlq",
        "outputId": "32000311-22d0-432a-b9c7-e1b6a8f6c6ff"
      },
      "outputs": [
        {
          "name": "stdout",
          "output_type": "stream",
          "text": [
            "1803\n",
            "1802\n",
            "1629\n",
            "1628\n"
          ]
        }
      ],
      "source": [
        "print(len(w_tokenizer.index_word) + 1)\n",
        "print(len(w_tokenizer.word_counts))\n",
        "\n",
        "print(len(m_tokenizer.index_word) + 1)\n",
        "print(len(m_tokenizer.word_counts))"
      ]
    },
    {
      "cell_type": "code",
      "execution_count": 70,
      "metadata": {
        "colab": {
          "base_uri": "https://localhost:8080/"
        },
        "id": "Oc6gpU8pttUr",
        "outputId": "19592159-9264-48b0-cc99-ce28e0a76ea4"
      },
      "outputs": [
        {
          "name": "stdout",
          "output_type": "stream",
          "text": [
            "1800\n",
            "1600\n"
          ]
        }
      ],
      "source": [
        "print(w_tokenizer.num_words)\n",
        "print(m_tokenizer.num_words)"
      ]
    },
    {
      "cell_type": "code",
      "execution_count": 71,
      "metadata": {
        "colab": {
          "base_uri": "https://localhost:8080/"
        },
        "id": "FykI7JSRY0MO",
        "outputId": "b1da549c-eacf-4b31-aa04-08125b3e1982"
      },
      "outputs": [
        {
          "name": "stdout",
          "output_type": "stream",
          "text": [
            "193\n",
            "193\n"
          ]
        }
      ],
      "source": [
        "print(w_max_len)\n",
        "print(m_max_len)"
      ]
    },
    {
      "cell_type": "code",
      "execution_count": 72,
      "metadata": {
        "colab": {
          "base_uri": "https://localhost:8080/"
        },
        "id": "1WkzXKFFF0HB",
        "outputId": "133d822b-30ae-4a2d-e2be-30ad65ec380a"
      },
      "outputs": [
        {
          "name": "stdout",
          "output_type": "stream",
          "text": [
            "223\n",
            "190\n"
          ]
        }
      ],
      "source": [
        "print(len(women_df['level5/diagnosis'].unique()))\n",
        "print(len(men_df['level5/diagnosis'].unique()))"
      ]
    },
    {
      "cell_type": "code",
      "execution_count": null,
      "metadata": {
        "id": "qg4D5qmenVWj"
      },
      "outputs": [],
      "source": [
        "#women_df.to_csv(\"women_all_processed.csv\",index=False)\n",
        "\n",
        "#men_df.to_csv(\"women_all_processed.csv\",index=False)"
      ]
    },
    {
      "cell_type": "code",
      "execution_count": 73,
      "metadata": {
        "id": "TyfE22e9YiEA"
      },
      "outputs": [],
      "source": [
        "women_df_=women_df.to_csv('women_all_processed_lv2.csv')\n",
        "men_df_=men_df.to_csv('men_all_processed_lv2.csv')"
      ]
    },
    {
      "cell_type": "markdown",
      "metadata": {
        "id": "qDY_XRkgmmgA"
      },
      "source": [
        "# class weight"
      ]
    },
    {
      "cell_type": "code",
      "execution_count": 74,
      "metadata": {
        "id": "jl418l0vrLAK"
      },
      "outputs": [],
      "source": [
        "from sklearn.utils import class_weight\n",
        "import numpy as np\n",
        "\n",
        "class_weights = class_weight.compute_class_weight(class_weight ='balanced',\n",
        "                                                 classes = np.unique(men_df['level5/diagnosis']),\n",
        "                                                 y = men_df['level5/diagnosis'])\n",
        "\n",
        "m_class_weights = dict(enumerate(class_weights))"
      ]
    },
    {
      "cell_type": "code",
      "execution_count": 75,
      "metadata": {
        "id": "f5YTS-PmmpEQ"
      },
      "outputs": [],
      "source": [
        "from sklearn.utils import class_weight\n",
        "import numpy as np\n",
        "\n",
        "class_weights = class_weight.compute_class_weight(class_weight ='balanced',\n",
        "                                                 classes = np.unique(women_df['level5/diagnosis']),\n",
        "                                                 y = women_df['level5/diagnosis'])\n",
        "\n",
        "w_class_weights = dict(enumerate(class_weights))"
      ]
    },
    {
      "cell_type": "markdown",
      "metadata": {
        "id": "gPV8pcMVdIBb"
      },
      "source": [
        "# Start from Here (Reload)"
      ]
    },
    {
      "cell_type": "code",
      "execution_count": 77,
      "metadata": {
        "id": "79G0Ry6HYkXU"
      },
      "outputs": [],
      "source": [
        "import pandas as pd\n",
        "women_df_=pd.read_csv('women_all_processed_lv2.csv')\n",
        "men_df_=pd.read_csv('men_all_processed_lv2.csv')\n",
        "women_df = women_df_.drop('Unnamed: 0', axis=1)\n",
        "men_df = men_df_.drop('Unnamed: 0', axis=1)"
      ]
    },
    {
      "cell_type": "markdown",
      "metadata": {
        "id": "7h1H3_p3Bm0e"
      },
      "source": [
        "# Model"
      ]
    },
    {
      "cell_type": "code",
      "execution_count": 78,
      "metadata": {
        "id": "2IVm_YF-tmQC"
      },
      "outputs": [],
      "source": [
        "class TokenAndPositionEmbedding(tf.keras.layers.Layer):\n",
        "    def __init__(self, max_len, vocab_size, embedding_dim):\n",
        "        super(TokenAndPositionEmbedding, self).__init__()\n",
        "        self.token_emb = tf.keras.layers.Embedding(vocab_size, embedding_dim)\n",
        "        self.pos_emb = tf.keras.layers.Embedding(max_len, embedding_dim)\n",
        "\n",
        "    def call(self, x):\n",
        "        max_len = tf.shape(x)[-1]\n",
        "        positions = tf.range(start=0, limit=max_len, delta=1)\n",
        "        positions = self.pos_emb(positions)\n",
        "        x = self.token_emb(x)\n",
        "        return x + positions"
      ]
    },
    {
      "cell_type": "code",
      "execution_count": 79,
      "metadata": {
        "id": "IojiHw47tqOJ"
      },
      "outputs": [],
      "source": [
        "class MultiHeadAttention(tf.keras.layers.Layer):\n",
        "    def __init__(self, embedding_dim, num_heads=8):\n",
        "        super(MultiHeadAttention, self).__init__()\n",
        "        self.embedding_dim = embedding_dim # d_model\n",
        "        self.num_heads = num_heads\n",
        "\n",
        "        assert embedding_dim % self.num_heads == 0\n",
        "\n",
        "        self.projection_dim = embedding_dim // num_heads\n",
        "        self.query_dense = tf.keras.layers.Dense(embedding_dim,activation='relu')\n",
        "        self.key_dense = tf.keras.layers.Dense(embedding_dim,activation='relu')\n",
        "        self.value_dense = tf.keras.layers.Dense(embedding_dim,activation='relu')\n",
        "        self.dense = tf.keras.layers.Dense(embedding_dim,activation='relu')\n",
        "\n",
        "    def scaled_dot_product_attention(self, query, key, value):\n",
        "        matmul_qk = tf.matmul(query, key, transpose_b=True)\n",
        "        depth = tf.cast(tf.shape(key)[-1], tf.float32)\n",
        "        logits = matmul_qk / tf.math.sqrt(depth)\n",
        "        attention_weights = tf.nn.softmax(logits, axis=-1)\n",
        "        output = tf.matmul(attention_weights, value)\n",
        "        return output, attention_weights\n",
        "\n",
        "    def split_heads(self, x, batch_size):\n",
        "        x = tf.reshape(x, (batch_size, -1, self.num_heads, self.projection_dim))\n",
        "        return tf.transpose(x, perm=[0, 2, 1, 3])\n",
        "\n",
        "    def call(self, inputs):\n",
        "        # x.shape = [batch_size, seq_len, embedding_dim]\n",
        "        batch_size = tf.shape(inputs)[0]\n",
        "\n",
        "        # (batch_size, seq_len, embedding_dim)\n",
        "        query = self.query_dense(inputs)\n",
        "        key = self.key_dense(inputs)\n",
        "        value = self.value_dense(inputs)\n",
        "\n",
        "        # (batch_size, num_heads, seq_len, projection_dim)\n",
        "        query = self.split_heads(query, batch_size)  \n",
        "        key = self.split_heads(key, batch_size)\n",
        "        value = self.split_heads(value, batch_size)\n",
        "\n",
        "        scaled_attention, _ = self.scaled_dot_product_attention(query, key, value)\n",
        "        # (batch_size, seq_len, num_heads, projection_dim)\n",
        "        scaled_attention = tf.transpose(scaled_attention, perm=[0, 2, 1, 3])  \n",
        "\n",
        "        # (batch_size, seq_len, embedding_dim)\n",
        "        concat_attention = tf.reshape(scaled_attention, (batch_size, -1, self.embedding_dim))\n",
        "        outputs = self.dense(concat_attention)\n",
        "        return outputs"
      ]
    },
    {
      "cell_type": "code",
      "execution_count": 80,
      "metadata": {
        "id": "V37yH6jtJmAU"
      },
      "outputs": [],
      "source": [
        "class TransformerBlock(tf.keras.layers.Layer):\n",
        "    def __init__(self, embedding_dim, num_heads, dff, rate=0.1):\n",
        "        super(TransformerBlock, self).__init__()\n",
        "        self.att = MultiHeadAttention(embedding_dim, num_heads)\n",
        "        self.ffn = tf.keras.Sequential(\n",
        "            [tf.keras.layers.Dense(dff, activation=\"relu\"),\n",
        "             tf.keras.layers.Dropout(0.5),\n",
        "             tf.keras.layers.Dense(dff, activation=\"relu\"),\n",
        "             tf.keras.layers.Dropout(0.5),\n",
        "             tf.keras.layers.Dense(dff, activation=\"relu\"),\n",
        "             tf.keras.layers.Dropout(0.5),\n",
        "             tf.keras.layers.Dense(embedding_dim),]\n",
        "        )\n",
        "        self.layernorm1 = tf.keras.layers.LayerNormalization(epsilon=1e-1) # 원래는 1e-6이었음(5/7)\n",
        "        self.layernorm2 = tf.keras.layers.LayerNormalization(epsilon=1e-1)\n",
        "        self.dropout1 = tf.keras.layers.Dropout(rate)\n",
        "        self.dropout2 = tf.keras.layers.Dropout(rate)\n",
        "\n",
        "    def call(self, inputs, training):\n",
        "        attn_output = self.att(inputs) # 첫번째 서브층 : 멀티 헤드 어텐션\n",
        "        attn_output = self.dropout1(attn_output, training=training)\n",
        "        out1 = self.layernorm1(inputs + attn_output) # Add & Norm\n",
        "        ffn_output = self.ffn(out1) # 두번째 서브층 : 포지션 와이즈 피드 포워드 신경망\n",
        "        ffn_output = self.dropout2(ffn_output, training=training)\n",
        "        return self.layernorm2(out1 + ffn_output) # Add & Norm"
      ]
    },
    {
      "cell_type": "markdown",
      "metadata": {
        "id": "ra4Hrsjtbqn0"
      },
      "source": [
        "## women _top_k_hitrate"
      ]
    },
    {
      "cell_type": "code",
      "execution_count": 105,
      "metadata": {
        "id": "vjo8aZCX_fxK"
      },
      "outputs": [],
      "source": [
        "def w_top_k_hitrate(predicted_proba, n=2):\n",
        "\n",
        "  eval_metric = []\n",
        "  top_k_result = tf.math.top_k(predicted_proba, k=n, sorted=True)\n",
        "  for i in range(len(top_k_result[1])):\n",
        "    first = top_k_result[1][i][0]\n",
        "    second = top_k_result[1][i][1]\n",
        "    third = top_k_result[1][i][2]\n",
        "\n",
        "    if w_ori_X_test['level5/diagnosis'].values[i] in (w_y_test_dummies.columns[int(first)],\n",
        "                                                      w_y_test_dummies.columns[int(second)],\n",
        "                                                      w_y_test_dummies.columns[int(third)]):\n",
        "      eval_metric.append(1)\n",
        "    else:\n",
        "      eval_metric.append(0)\n",
        "\n",
        "  return np.mean(eval_metric)"
      ]
    },
    {
      "cell_type": "markdown",
      "metadata": {
        "id": "0PUn1ZJuyyA_"
      },
      "source": [
        "## Transformer _W\n"
      ]
    },
    {
      "cell_type": "code",
      "execution_count": 82,
      "metadata": {
        "colab": {
          "base_uri": "https://localhost:8080/"
        },
        "id": "-ctwbfxxAfDT",
        "outputId": "e6d55d63-6cdc-4c16-a008-1e43690a58a1"
      },
      "outputs": [
        {
          "name": "stdout",
          "output_type": "stream",
          "text": [
            "Epoch 1/150\n",
            "3/3 [==============================] - 76s 23s/step - loss: 6.0190 - accuracy: 0.0037 - precision: 0.0000e+00 - val_loss: 5.4509 - val_accuracy: 0.0030 - val_precision: 0.0000e+00\n",
            "Epoch 2/150\n",
            "3/3 [==============================] - 47s 16s/step - loss: 5.6149 - accuracy: 0.0060 - precision: 0.0000e+00 - val_loss: 5.4878 - val_accuracy: 0.0000e+00 - val_precision: 0.0000e+00\n",
            "Epoch 3/150\n",
            "3/3 [==============================] - 51s 16s/step - loss: 5.5150 - accuracy: 0.0067 - precision: 0.0000e+00 - val_loss: 5.4912 - val_accuracy: 0.0000e+00 - val_precision: 0.0000e+00\n",
            "Epoch 4/150\n",
            "3/3 [==============================] - 45s 16s/step - loss: 5.4771 - accuracy: 0.0067 - precision: 0.0000e+00 - val_loss: 5.4777 - val_accuracy: 0.0000e+00 - val_precision: 0.0000e+00\n",
            "Epoch 5/150\n",
            "3/3 [==============================] - 52s 16s/step - loss: 5.4160 - accuracy: 0.0060 - precision: 0.0000e+00 - val_loss: 5.4634 - val_accuracy: 0.0000e+00 - val_precision: 0.0000e+00\n",
            "Epoch 6/150\n",
            "3/3 [==============================] - 60s 23s/step - loss: 5.4087 - accuracy: 0.0052 - precision: 0.0000e+00 - val_loss: 5.4528 - val_accuracy: 0.0000e+00 - val_precision: 0.0000e+00\n",
            "Epoch 7/150\n",
            "3/3 [==============================] - 56s 19s/step - loss: 5.3640 - accuracy: 0.0045 - precision: 0.0000e+00 - val_loss: 5.4460 - val_accuracy: 0.0000e+00 - val_precision: 0.0000e+00\n",
            "Epoch 8/150\n",
            "3/3 [==============================] - 60s 18s/step - loss: 5.3805 - accuracy: 0.0037 - precision: 0.0000e+00 - val_loss: 5.4421 - val_accuracy: 0.0000e+00 - val_precision: 0.0000e+00\n",
            "Epoch 9/150\n",
            "3/3 [==============================] - 68s 21s/step - loss: 5.3431 - accuracy: 0.0097 - precision: 0.0000e+00 - val_loss: 5.4425 - val_accuracy: 0.0000e+00 - val_precision: 0.0000e+00\n",
            "Epoch 10/150\n",
            "3/3 [==============================] - 57s 21s/step - loss: 5.3631 - accuracy: 0.0030 - precision: 0.0000e+00 - val_loss: 5.4380 - val_accuracy: 0.0000e+00 - val_precision: 0.0000e+00\n",
            "Epoch 11/150\n",
            "3/3 [==============================] - 61s 20s/step - loss: 5.3324 - accuracy: 0.0045 - precision: 0.0000e+00 - val_loss: 5.4355 - val_accuracy: 0.0030 - val_precision: 0.0000e+00\n",
            "Epoch 12/150\n",
            "3/3 [==============================] - 41s 11s/step - loss: 5.3276 - accuracy: 0.0097 - precision: 0.0000e+00 - val_loss: 5.4413 - val_accuracy: 0.0030 - val_precision: 0.0000e+00\n",
            "Epoch 13/150\n",
            "3/3 [==============================] - 69s 25s/step - loss: 5.3423 - accuracy: 0.0089 - precision: 0.0000e+00 - val_loss: 5.4474 - val_accuracy: 0.0000e+00 - val_precision: 0.0000e+00\n",
            "Epoch 14/150\n",
            "3/3 [==============================] - 65s 21s/step - loss: 5.3435 - accuracy: 0.0052 - precision: 0.0000e+00 - val_loss: 5.4510 - val_accuracy: 0.0000e+00 - val_precision: 0.0000e+00\n",
            "Epoch 15/150\n",
            "3/3 [==============================] - 61s 19s/step - loss: 5.3018 - accuracy: 0.0060 - precision: 0.0000e+00 - val_loss: 5.4474 - val_accuracy: 0.0000e+00 - val_precision: 0.0000e+00\n",
            "Epoch 16/150\n",
            "3/3 [==============================] - 59s 19s/step - loss: 5.3143 - accuracy: 0.0060 - precision: 0.0000e+00 - val_loss: 5.4375 - val_accuracy: 0.0000e+00 - val_precision: 0.0000e+00\n",
            "Epoch 17/150\n",
            "3/3 [==============================] - 59s 19s/step - loss: 5.2777 - accuracy: 0.0067 - precision: 0.0000e+00 - val_loss: 5.4304 - val_accuracy: 0.0000e+00 - val_precision: 0.0000e+00\n",
            "Epoch 18/150\n",
            "3/3 [==============================] - 64s 20s/step - loss: 5.3066 - accuracy: 0.0067 - precision: 0.0000e+00 - val_loss: 5.4211 - val_accuracy: 0.0000e+00 - val_precision: 0.0000e+00\n",
            "Epoch 19/150\n",
            "3/3 [==============================] - 57s 20s/step - loss: 5.2952 - accuracy: 0.0112 - precision: 0.0000e+00 - val_loss: 5.4090 - val_accuracy: 0.0000e+00 - val_precision: 0.0000e+00\n",
            "Epoch 20/150\n",
            "3/3 [==============================] - 75s 23s/step - loss: 5.2621 - accuracy: 0.0104 - precision: 0.0000e+00 - val_loss: 5.4019 - val_accuracy: 0.0000e+00 - val_precision: 0.0000e+00\n",
            "Epoch 21/150\n",
            "3/3 [==============================] - 60s 19s/step - loss: 5.2523 - accuracy: 0.0075 - precision: 0.0000e+00 - val_loss: 5.3968 - val_accuracy: 0.0000e+00 - val_precision: 0.0000e+00\n",
            "Epoch 22/150\n",
            "3/3 [==============================] - 80s 24s/step - loss: 5.2532 - accuracy: 0.0082 - precision: 0.0000e+00 - val_loss: 5.3954 - val_accuracy: 0.0000e+00 - val_precision: 0.0000e+00\n",
            "Epoch 23/150\n",
            "3/3 [==============================] - 58s 20s/step - loss: 5.2124 - accuracy: 0.0127 - precision: 0.0000e+00 - val_loss: 5.3952 - val_accuracy: 0.0030 - val_precision: 0.0000e+00\n",
            "Epoch 24/150\n",
            "3/3 [==============================] - 47s 15s/step - loss: 5.2155 - accuracy: 0.0104 - precision: 0.0000e+00 - val_loss: 5.3867 - val_accuracy: 0.0030 - val_precision: 0.0000e+00\n",
            "Epoch 25/150\n",
            "3/3 [==============================] - 53s 16s/step - loss: 5.2144 - accuracy: 0.0194 - precision: 0.0000e+00 - val_loss: 5.3842 - val_accuracy: 0.0030 - val_precision: 0.0000e+00\n",
            "Epoch 26/150\n",
            "3/3 [==============================] - 56s 21s/step - loss: 5.1734 - accuracy: 0.0149 - precision: 0.0000e+00 - val_loss: 5.3798 - val_accuracy: 0.0060 - val_precision: 0.0000e+00\n",
            "Epoch 27/150\n",
            "3/3 [==============================] - 51s 13s/step - loss: 5.1603 - accuracy: 0.0164 - precision: 0.0000e+00 - val_loss: 5.3757 - val_accuracy: 0.0298 - val_precision: 0.0000e+00\n",
            "Epoch 28/150\n",
            "3/3 [==============================] - 52s 17s/step - loss: 5.1505 - accuracy: 0.0194 - precision: 0.0000e+00 - val_loss: 5.3630 - val_accuracy: 0.0476 - val_precision: 0.0000e+00\n",
            "Epoch 29/150\n",
            "3/3 [==============================] - 37s 11s/step - loss: 5.1118 - accuracy: 0.0261 - precision: 0.0000e+00 - val_loss: 5.3465 - val_accuracy: 0.0446 - val_precision: 0.0000e+00\n",
            "Epoch 30/150\n",
            "3/3 [==============================] - 39s 14s/step - loss: 5.0918 - accuracy: 0.0239 - precision: 0.0000e+00 - val_loss: 5.3161 - val_accuracy: 0.0536 - val_precision: 0.0000e+00\n",
            "Epoch 31/150\n",
            "3/3 [==============================] - 44s 13s/step - loss: 5.0440 - accuracy: 0.0373 - precision: 0.0000e+00 - val_loss: 5.2744 - val_accuracy: 0.0833 - val_precision: 0.0000e+00\n",
            "Epoch 32/150\n",
            "3/3 [==============================] - 32s 11s/step - loss: 4.9936 - accuracy: 0.0321 - precision: 0.0000e+00 - val_loss: 5.2201 - val_accuracy: 0.0863 - val_precision: 0.0000e+00\n",
            "Epoch 33/150\n",
            "3/3 [==============================] - 53s 18s/step - loss: 4.9671 - accuracy: 0.0462 - precision: 0.0000e+00 - val_loss: 5.1666 - val_accuracy: 0.1131 - val_precision: 0.0000e+00\n",
            "Epoch 34/150\n",
            "3/3 [==============================] - 35s 10s/step - loss: 4.8854 - accuracy: 0.0686 - precision: 0.0000e+00 - val_loss: 5.1211 - val_accuracy: 0.1339 - val_precision: 0.0000e+00\n",
            "Epoch 35/150\n",
            "3/3 [==============================] - 44s 16s/step - loss: 4.8302 - accuracy: 0.0746 - precision: 0.0000e+00 - val_loss: 5.0731 - val_accuracy: 0.1637 - val_precision: 0.0000e+00\n",
            "Epoch 36/150\n",
            "3/3 [==============================] - 41s 12s/step - loss: 4.7684 - accuracy: 0.0776 - precision: 0.0000e+00 - val_loss: 5.0121 - val_accuracy: 0.1845 - val_precision: 0.0000e+00\n",
            "Epoch 37/150\n",
            "3/3 [==============================] - 40s 14s/step - loss: 4.7380 - accuracy: 0.0686 - precision: 0.0000e+00 - val_loss: 4.9203 - val_accuracy: 0.2143 - val_precision: 0.0000e+00\n",
            "Epoch 38/150\n",
            "3/3 [==============================] - 45s 14s/step - loss: 4.6248 - accuracy: 0.0947 - precision: 0.0000e+00 - val_loss: 4.7922 - val_accuracy: 0.2857 - val_precision: 0.0000e+00\n",
            "Epoch 39/150\n",
            "3/3 [==============================] - 39s 14s/step - loss: 4.5626 - accuracy: 0.1208 - precision: 1.0000 - val_loss: 4.6421 - val_accuracy: 0.2976 - val_precision: 0.0000e+00\n",
            "Epoch 40/150\n",
            "3/3 [==============================] - 42s 12s/step - loss: 4.4081 - accuracy: 0.1454 - precision: 1.0000 - val_loss: 4.5037 - val_accuracy: 0.3482 - val_precision: 0.0000e+00\n",
            "Epoch 41/150\n",
            "3/3 [==============================] - 32s 11s/step - loss: 4.3426 - accuracy: 0.1767 - precision: 1.0000 - val_loss: 4.4065 - val_accuracy: 0.3661 - val_precision: 0.0000e+00\n",
            "Epoch 42/150\n",
            "3/3 [==============================] - 47s 15s/step - loss: 4.2071 - accuracy: 0.1775 - precision: 0.8889 - val_loss: 4.2655 - val_accuracy: 0.3810 - val_precision: 0.0000e+00\n",
            "Epoch 43/150\n",
            "3/3 [==============================] - 35s 11s/step - loss: 4.1093 - accuracy: 0.1984 - precision: 0.9231 - val_loss: 4.0792 - val_accuracy: 0.4256 - val_precision: 1.0000\n",
            "Epoch 44/150\n",
            "3/3 [==============================] - 43s 15s/step - loss: 3.9318 - accuracy: 0.2342 - precision: 0.9630 - val_loss: 3.8892 - val_accuracy: 0.4315 - val_precision: 1.0000\n",
            "Epoch 45/150\n",
            "3/3 [==============================] - 39s 11s/step - loss: 3.7513 - accuracy: 0.2640 - precision: 0.9268 - val_loss: 3.7229 - val_accuracy: 0.4405 - val_precision: 1.0000\n",
            "Epoch 46/150\n",
            "3/3 [==============================] - 38s 14s/step - loss: 3.6173 - accuracy: 0.2893 - precision: 0.8636 - val_loss: 3.5855 - val_accuracy: 0.4494 - val_precision: 1.0000\n",
            "Epoch 47/150\n",
            "3/3 [==============================] - 43s 13s/step - loss: 3.5354 - accuracy: 0.2864 - precision: 0.9265 - val_loss: 3.4281 - val_accuracy: 0.4762 - val_precision: 1.0000\n",
            "Epoch 48/150\n",
            "3/3 [==============================] - 34s 12s/step - loss: 3.3123 - accuracy: 0.3057 - precision: 0.8545 - val_loss: 3.2465 - val_accuracy: 0.4821 - val_precision: 1.0000\n",
            "Epoch 49/150\n",
            "3/3 [==============================] - 47s 15s/step - loss: 3.1677 - accuracy: 0.3602 - precision: 0.8774 - val_loss: 3.0776 - val_accuracy: 0.4881 - val_precision: 1.0000\n",
            "Epoch 50/150\n",
            "3/3 [==============================] - 36s 12s/step - loss: 2.9246 - accuracy: 0.3855 - precision: 0.8449 - val_loss: 2.9304 - val_accuracy: 0.4940 - val_precision: 1.0000\n",
            "Epoch 51/150\n",
            "3/3 [==============================] - 45s 14s/step - loss: 2.8344 - accuracy: 0.4004 - precision: 0.8834 - val_loss: 2.7955 - val_accuracy: 0.5268 - val_precision: 1.0000\n",
            "Epoch 52/150\n",
            "3/3 [==============================] - 36s 12s/step - loss: 2.6214 - accuracy: 0.4288 - precision: 0.8683 - val_loss: 2.6602 - val_accuracy: 0.5476 - val_precision: 0.9877\n",
            "Epoch 53/150\n",
            "3/3 [==============================] - 46s 14s/step - loss: 2.4713 - accuracy: 0.4579 - precision: 0.8459 - val_loss: 2.5283 - val_accuracy: 0.5536 - val_precision: 0.9775\n",
            "Epoch 54/150\n",
            "3/3 [==============================] - 33s 11s/step - loss: 2.3343 - accuracy: 0.4705 - precision: 0.8553 - val_loss: 2.4230 - val_accuracy: 0.5476 - val_precision: 0.9703\n",
            "Epoch 55/150\n",
            "3/3 [==============================] - 46s 15s/step - loss: 2.0604 - accuracy: 0.5391 - precision: 0.8910 - val_loss: 2.3144 - val_accuracy: 0.5476 - val_precision: 0.9735\n",
            "Epoch 56/150\n",
            "3/3 [==============================] - 34s 10s/step - loss: 2.0319 - accuracy: 0.5272 - precision: 0.8828 - val_loss: 2.1841 - val_accuracy: 0.5833 - val_precision: 0.9746\n",
            "Epoch 57/150\n",
            "3/3 [==============================] - 44s 15s/step - loss: 1.8836 - accuracy: 0.5660 - precision: 0.8706 - val_loss: 2.0809 - val_accuracy: 0.6250 - val_precision: 0.9764\n",
            "Epoch 58/150\n",
            "3/3 [==============================] - 36s 10s/step - loss: 1.7610 - accuracy: 0.5854 - precision: 0.8732 - val_loss: 2.0008 - val_accuracy: 0.6399 - val_precision: 0.9615\n",
            "Epoch 59/150\n",
            "3/3 [==============================] - 40s 14s/step - loss: 1.5667 - accuracy: 0.6189 - precision: 0.8773 - val_loss: 1.9349 - val_accuracy: 0.6369 - val_precision: 0.9429\n",
            "Epoch 60/150\n",
            "3/3 [==============================] - 41s 12s/step - loss: 1.5039 - accuracy: 0.6264 - precision: 0.8983 - val_loss: 1.8556 - val_accuracy: 0.6458 - val_precision: 0.9408\n",
            "Epoch 61/150\n",
            "3/3 [==============================] - 38s 13s/step - loss: 1.3284 - accuracy: 0.6570 - precision: 0.8594 - val_loss: 1.7910 - val_accuracy: 0.6429 - val_precision: 0.9371\n",
            "Epoch 62/150\n",
            "3/3 [==============================] - 43s 14s/step - loss: 1.1960 - accuracy: 0.6793 - precision: 0.8873 - val_loss: 1.7343 - val_accuracy: 0.6577 - val_precision: 0.9565\n",
            "Epoch 63/150\n",
            "3/3 [==============================] - 33s 11s/step - loss: 1.1733 - accuracy: 0.6920 - precision: 0.8847 - val_loss: 1.6628 - val_accuracy: 0.6786 - val_precision: 0.9521\n",
            "Epoch 64/150\n",
            "3/3 [==============================] - 47s 15s/step - loss: 1.0981 - accuracy: 0.7040 - precision: 0.9072 - val_loss: 1.6011 - val_accuracy: 0.6905 - val_precision: 0.9429\n",
            "Epoch 65/150\n",
            "3/3 [==============================] - 34s 10s/step - loss: 0.9625 - accuracy: 0.7360 - precision: 0.9038 - val_loss: 1.5601 - val_accuracy: 0.6964 - val_precision: 0.9358\n",
            "Epoch 66/150\n",
            "3/3 [==============================] - 47s 17s/step - loss: 0.8919 - accuracy: 0.7420 - precision: 0.9026 - val_loss: 1.5295 - val_accuracy: 0.6815 - val_precision: 0.9474\n",
            "Epoch 67/150\n",
            "3/3 [==============================] - 38s 11s/step - loss: 0.8985 - accuracy: 0.7390 - precision: 0.8857 - val_loss: 1.4984 - val_accuracy: 0.6815 - val_precision: 0.9179\n",
            "Epoch 68/150\n",
            "3/3 [==============================] - 48s 16s/step - loss: 0.8682 - accuracy: 0.7681 - precision: 0.9124 - val_loss: 1.4713 - val_accuracy: 0.6875 - val_precision: 0.9112\n",
            "Epoch 69/150\n",
            "3/3 [==============================] - 34s 11s/step - loss: 0.7668 - accuracy: 0.7688 - precision: 0.8948 - val_loss: 1.4420 - val_accuracy: 0.6994 - val_precision: 0.9045\n",
            "Epoch 70/150\n",
            "3/3 [==============================] - 47s 16s/step - loss: 0.7582 - accuracy: 0.7733 - precision: 0.9008 - val_loss: 1.4295 - val_accuracy: 0.7024 - val_precision: 0.8973\n",
            "Epoch 71/150\n",
            "3/3 [==============================] - 37s 12s/step - loss: 0.6954 - accuracy: 0.7905 - precision: 0.9034 - val_loss: 1.4172 - val_accuracy: 0.7143 - val_precision: 0.8964\n",
            "Epoch 72/150\n",
            "3/3 [==============================] - 47s 16s/step - loss: 0.6368 - accuracy: 0.8016 - precision: 0.9224 - val_loss: 1.3869 - val_accuracy: 0.7232 - val_precision: 0.8879\n",
            "Epoch 73/150\n",
            "3/3 [==============================] - 35s 11s/step - loss: 0.5862 - accuracy: 0.8158 - precision: 0.9139 - val_loss: 1.3652 - val_accuracy: 0.7232 - val_precision: 0.8913\n",
            "Epoch 74/150\n",
            "3/3 [==============================] - 47s 16s/step - loss: 0.5346 - accuracy: 0.8233 - precision: 0.9036 - val_loss: 1.3516 - val_accuracy: 0.7202 - val_precision: 0.8734\n",
            "Epoch 75/150\n",
            "3/3 [==============================] - 37s 10s/step - loss: 0.5320 - accuracy: 0.8262 - precision: 0.9218 - val_loss: 1.3351 - val_accuracy: 0.7292 - val_precision: 0.8787\n",
            "Epoch 76/150\n",
            "3/3 [==============================] - 40s 14s/step - loss: 0.5016 - accuracy: 0.8449 - precision: 0.9164 - val_loss: 1.3083 - val_accuracy: 0.7381 - val_precision: 0.8870\n",
            "Epoch 77/150\n",
            "3/3 [==============================] - 44s 14s/step - loss: 0.4892 - accuracy: 0.8337 - precision: 0.9252 - val_loss: 1.2878 - val_accuracy: 0.7470 - val_precision: 0.8790\n",
            "Epoch 78/150\n",
            "3/3 [==============================] - 42s 15s/step - loss: 0.4655 - accuracy: 0.8576 - precision: 0.9379 - val_loss: 1.2767 - val_accuracy: 0.7470 - val_precision: 0.8916\n",
            "Epoch 79/150\n",
            "3/3 [==============================] - 39s 11s/step - loss: 0.4559 - accuracy: 0.8464 - precision: 0.9198 - val_loss: 1.2719 - val_accuracy: 0.7649 - val_precision: 0.8902\n",
            "Epoch 80/150\n",
            "3/3 [==============================] - 42s 15s/step - loss: 0.4106 - accuracy: 0.8784 - precision: 0.9376 - val_loss: 1.2599 - val_accuracy: 0.7560 - val_precision: 0.8682\n",
            "Epoch 81/150\n",
            "3/3 [==============================] - 40s 12s/step - loss: 0.4474 - accuracy: 0.8688 - precision: 0.9318 - val_loss: 1.2560 - val_accuracy: 0.7440 - val_precision: 0.8654\n",
            "Epoch 82/150\n",
            "3/3 [==============================] - 42s 15s/step - loss: 0.3603 - accuracy: 0.8755 - precision: 0.9334 - val_loss: 1.2514 - val_accuracy: 0.7470 - val_precision: 0.8740\n",
            "Epoch 83/150\n",
            "3/3 [==============================] - 40s 12s/step - loss: 0.3717 - accuracy: 0.8784 - precision: 0.9315 - val_loss: 1.2492 - val_accuracy: 0.7470 - val_precision: 0.8726\n",
            "Epoch 84/150\n",
            "3/3 [==============================] - 49s 17s/step - loss: 0.3642 - accuracy: 0.8658 - precision: 0.9307 - val_loss: 1.2428 - val_accuracy: 0.7500 - val_precision: 0.8692\n",
            "Epoch 85/150\n",
            "3/3 [==============================] - 37s 11s/step - loss: 0.3630 - accuracy: 0.8762 - precision: 0.9334 - val_loss: 1.2280 - val_accuracy: 0.7589 - val_precision: 0.8764\n",
            "Epoch 86/150\n",
            "3/3 [==============================] - 44s 15s/step - loss: 0.3005 - accuracy: 0.8889 - precision: 0.9371 - val_loss: 1.2224 - val_accuracy: 0.7560 - val_precision: 0.8630\n",
            "Epoch 87/150\n",
            "3/3 [==============================] - 40s 12s/step - loss: 0.2958 - accuracy: 0.9075 - precision: 0.9450 - val_loss: 1.2196 - val_accuracy: 0.7560 - val_precision: 0.8774\n",
            "Epoch 88/150\n",
            "3/3 [==============================] - 44s 16s/step - loss: 0.2922 - accuracy: 0.8986 - precision: 0.9401 - val_loss: 1.2179 - val_accuracy: 0.7500 - val_precision: 0.8647\n",
            "Epoch 89/150\n",
            "3/3 [==============================] - 40s 12s/step - loss: 0.2766 - accuracy: 0.9165 - precision: 0.9545 - val_loss: 1.2017 - val_accuracy: 0.7619 - val_precision: 0.8540\n",
            "Epoch 90/150\n",
            "3/3 [==============================] - 43s 15s/step - loss: 0.2547 - accuracy: 0.9202 - precision: 0.9528 - val_loss: 1.1968 - val_accuracy: 0.7589 - val_precision: 0.8681\n",
            "Epoch 91/150\n",
            "3/3 [==============================] - 37s 11s/step - loss: 0.2798 - accuracy: 0.9113 - precision: 0.9609 - val_loss: 1.1900 - val_accuracy: 0.7619 - val_precision: 0.8686\n",
            "Epoch 92/150\n",
            "3/3 [==============================] - 44s 16s/step - loss: 0.2523 - accuracy: 0.9001 - precision: 0.9495 - val_loss: 1.1869 - val_accuracy: 0.7649 - val_precision: 0.8732\n",
            "Epoch 93/150\n",
            "3/3 [==============================] - 38s 11s/step - loss: 0.2336 - accuracy: 0.9232 - precision: 0.9592 - val_loss: 1.1972 - val_accuracy: 0.7589 - val_precision: 0.8607\n",
            "Epoch 94/150\n",
            "3/3 [==============================] - 46s 15s/step - loss: 0.2229 - accuracy: 0.9321 - precision: 0.9637 - val_loss: 1.2060 - val_accuracy: 0.7679 - val_precision: 0.8638\n",
            "Epoch 95/150\n",
            "3/3 [==============================] - 37s 11s/step - loss: 0.2372 - accuracy: 0.9128 - precision: 0.9477 - val_loss: 1.2106 - val_accuracy: 0.7708 - val_precision: 0.8571\n",
            "Epoch 96/150\n",
            "3/3 [==============================] - 44s 16s/step - loss: 0.2359 - accuracy: 0.9247 - precision: 0.9579 - val_loss: 1.2197 - val_accuracy: 0.7679 - val_precision: 0.8561\n",
            "Epoch 97/150\n",
            "3/3 [==============================] - 41s 12s/step - loss: 0.1947 - accuracy: 0.9284 - precision: 0.9552 - val_loss: 1.2252 - val_accuracy: 0.7679 - val_precision: 0.8571\n",
            "Epoch 98/150\n",
            "3/3 [==============================] - 43s 15s/step - loss: 0.1985 - accuracy: 0.9351 - precision: 0.9579 - val_loss: 1.2100 - val_accuracy: 0.7619 - val_precision: 0.8551\n",
            "Epoch 99/150\n",
            "3/3 [==============================] - 38s 11s/step - loss: 0.2141 - accuracy: 0.9306 - precision: 0.9647 - val_loss: 1.1936 - val_accuracy: 0.7708 - val_precision: 0.8531\n",
            "Epoch 100/150\n",
            "3/3 [==============================] - 44s 15s/step - loss: 0.2157 - accuracy: 0.9224 - precision: 0.9502 - val_loss: 1.1805 - val_accuracy: 0.7798 - val_precision: 0.8641\n",
            "Epoch 101/150\n",
            "3/3 [==============================] - 37s 11s/step - loss: 0.1837 - accuracy: 0.9493 - precision: 0.9709 - val_loss: 1.1736 - val_accuracy: 0.7798 - val_precision: 0.8606\n",
            "Epoch 102/150\n",
            "3/3 [==============================] - 44s 15s/step - loss: 0.1719 - accuracy: 0.9389 - precision: 0.9608 - val_loss: 1.1734 - val_accuracy: 0.7798 - val_precision: 0.8591\n",
            "Epoch 103/150\n",
            "3/3 [==============================] - 38s 11s/step - loss: 0.1802 - accuracy: 0.9351 - precision: 0.9551 - val_loss: 1.1749 - val_accuracy: 0.7768 - val_precision: 0.8625\n",
            "Epoch 104/150\n",
            "3/3 [==============================] - 45s 15s/step - loss: 0.1813 - accuracy: 0.9359 - precision: 0.9590 - val_loss: 1.1821 - val_accuracy: 0.7708 - val_precision: 0.8547\n",
            "Epoch 105/150\n",
            "3/3 [==============================] - 37s 11s/step - loss: 0.1498 - accuracy: 0.9389 - precision: 0.9629 - val_loss: 1.2002 - val_accuracy: 0.7708 - val_precision: 0.8542\n",
            "Epoch 106/150\n",
            "3/3 [==============================] - 46s 15s/step - loss: 0.1699 - accuracy: 0.9456 - precision: 0.9746 - val_loss: 1.2104 - val_accuracy: 0.7738 - val_precision: 0.8667\n",
            "Epoch 107/150\n",
            "3/3 [==============================] - 35s 11s/step - loss: 0.1515 - accuracy: 0.9493 - precision: 0.9713 - val_loss: 1.2124 - val_accuracy: 0.7798 - val_precision: 0.8690\n",
            "Epoch 108/150\n",
            "3/3 [==============================] - 45s 15s/step - loss: 0.1417 - accuracy: 0.9485 - precision: 0.9702 - val_loss: 1.2063 - val_accuracy: 0.7708 - val_precision: 0.8616\n",
            "Epoch 109/150\n",
            "3/3 [==============================] - 39s 11s/step - loss: 0.1413 - accuracy: 0.9553 - precision: 0.9743 - val_loss: 1.1932 - val_accuracy: 0.7827 - val_precision: 0.8690\n",
            "Epoch 110/150\n",
            "3/3 [==============================] - 51s 18s/step - loss: 0.1477 - accuracy: 0.9471 - precision: 0.9634 - val_loss: 1.1808 - val_accuracy: 0.7798 - val_precision: 0.8690\n",
            "Epoch 111/150\n",
            "3/3 [==============================] - 39s 11s/step - loss: 0.1452 - accuracy: 0.9485 - precision: 0.9688 - val_loss: 1.1792 - val_accuracy: 0.7857 - val_precision: 0.8610\n",
            "Epoch 112/150\n",
            "3/3 [==============================] - 42s 15s/step - loss: 0.1344 - accuracy: 0.9508 - precision: 0.9629 - val_loss: 1.1783 - val_accuracy: 0.7946 - val_precision: 0.8581\n",
            "Epoch 113/150\n",
            "3/3 [==============================] - 47s 14s/step - loss: 0.1239 - accuracy: 0.9612 - precision: 0.9760 - val_loss: 1.1730 - val_accuracy: 0.7917 - val_precision: 0.8567\n",
            "Epoch 114/150\n",
            "3/3 [==============================] - 42s 15s/step - loss: 0.1247 - accuracy: 0.9620 - precision: 0.9694 - val_loss: 1.1749 - val_accuracy: 0.7917 - val_precision: 0.8542\n",
            "Epoch 115/150\n",
            "3/3 [==============================] - 45s 14s/step - loss: 0.1221 - accuracy: 0.9582 - precision: 0.9751 - val_loss: 1.1799 - val_accuracy: 0.7798 - val_precision: 0.8630\n",
            "Epoch 116/150\n",
            "3/3 [==============================] - 42s 15s/step - loss: 0.1363 - accuracy: 0.9538 - precision: 0.9720 - val_loss: 1.1815 - val_accuracy: 0.7798 - val_precision: 0.8514\n",
            "Epoch 117/150\n",
            "3/3 [==============================] - 45s 14s/step - loss: 0.1129 - accuracy: 0.9530 - precision: 0.9670 - val_loss: 1.1888 - val_accuracy: 0.7768 - val_precision: 0.8495\n",
            "Epoch 118/150\n",
            "3/3 [==============================] - 38s 13s/step - loss: 0.1282 - accuracy: 0.9620 - precision: 0.9725 - val_loss: 1.1941 - val_accuracy: 0.7768 - val_precision: 0.8532\n",
            "Epoch 119/150\n",
            "3/3 [==============================] - 46s 15s/step - loss: 0.1219 - accuracy: 0.9597 - precision: 0.9754 - val_loss: 1.1865 - val_accuracy: 0.7798 - val_precision: 0.8621\n",
            "Epoch 120/150\n",
            "3/3 [==============================] - 36s 12s/step - loss: 0.1003 - accuracy: 0.9597 - precision: 0.9768 - val_loss: 1.1834 - val_accuracy: 0.7857 - val_precision: 0.8532\n",
            "Epoch 121/150\n",
            "3/3 [==============================] - 47s 15s/step - loss: 0.1028 - accuracy: 0.9650 - precision: 0.9792 - val_loss: 1.1796 - val_accuracy: 0.7887 - val_precision: 0.8601\n",
            "Epoch 122/150\n",
            "3/3 [==============================] - 37s 11s/step - loss: 0.0990 - accuracy: 0.9664 - precision: 0.9755 - val_loss: 1.1815 - val_accuracy: 0.7827 - val_precision: 0.8605\n",
            "Epoch 123/150\n",
            "3/3 [==============================] - 46s 15s/step - loss: 0.1153 - accuracy: 0.9597 - precision: 0.9754 - val_loss: 1.1784 - val_accuracy: 0.7827 - val_precision: 0.8586\n",
            "Epoch 124/150\n",
            "3/3 [==============================] - 38s 11s/step - loss: 0.1111 - accuracy: 0.9650 - precision: 0.9756 - val_loss: 1.1724 - val_accuracy: 0.7976 - val_precision: 0.8581\n",
            "Epoch 125/150\n",
            "3/3 [==============================] - 47s 16s/step - loss: 0.0982 - accuracy: 0.9739 - precision: 0.9847 - val_loss: 1.1701 - val_accuracy: 0.7976 - val_precision: 0.8687\n",
            "Epoch 126/150\n",
            "3/3 [==============================] - 37s 11s/step - loss: 0.1041 - accuracy: 0.9717 - precision: 0.9794 - val_loss: 1.1664 - val_accuracy: 0.7887 - val_precision: 0.8562\n",
            "Epoch 127/150\n",
            "3/3 [==============================] - 46s 15s/step - loss: 0.0922 - accuracy: 0.9642 - precision: 0.9816 - val_loss: 1.1682 - val_accuracy: 0.7857 - val_precision: 0.8629\n",
            "Epoch 128/150\n",
            "3/3 [==============================] - 40s 12s/step - loss: 0.0940 - accuracy: 0.9694 - precision: 0.9808 - val_loss: 1.1757 - val_accuracy: 0.7798 - val_precision: 0.8620\n",
            "Epoch 129/150\n",
            "3/3 [==============================] - 45s 15s/step - loss: 0.0772 - accuracy: 0.9784 - precision: 0.9863 - val_loss: 1.1829 - val_accuracy: 0.7857 - val_precision: 0.8591\n",
            "Epoch 130/150\n",
            "3/3 [==============================] - 38s 11s/step - loss: 0.0997 - accuracy: 0.9612 - precision: 0.9734 - val_loss: 1.1869 - val_accuracy: 0.7857 - val_precision: 0.8581\n",
            "Epoch 131/150\n",
            "3/3 [==============================] - 46s 15s/step - loss: 0.0744 - accuracy: 0.9754 - precision: 0.9885 - val_loss: 1.1934 - val_accuracy: 0.7827 - val_precision: 0.8630\n",
            "Epoch 132/150\n",
            "3/3 [==============================] - 40s 12s/step - loss: 0.0961 - accuracy: 0.9642 - precision: 0.9741 - val_loss: 1.2018 - val_accuracy: 0.7798 - val_precision: 0.8547\n",
            "Epoch 133/150\n",
            "3/3 [==============================] - 45s 15s/step - loss: 0.0585 - accuracy: 0.9791 - precision: 0.9886 - val_loss: 1.2102 - val_accuracy: 0.7887 - val_precision: 0.8581\n",
            "Epoch 134/150\n",
            "3/3 [==============================] - 39s 12s/step - loss: 0.0670 - accuracy: 0.9806 - precision: 0.9841 - val_loss: 1.2118 - val_accuracy: 0.7857 - val_precision: 0.8500\n",
            "Epoch 135/150\n",
            "3/3 [==============================] - 44s 15s/step - loss: 0.0809 - accuracy: 0.9702 - precision: 0.9785 - val_loss: 1.2121 - val_accuracy: 0.7827 - val_precision: 0.8449\n",
            "Epoch 136/150\n",
            "3/3 [==============================] - 43s 13s/step - loss: 0.0806 - accuracy: 0.9702 - precision: 0.9788 - val_loss: 1.2026 - val_accuracy: 0.7827 - val_precision: 0.8467\n",
            "Epoch 137/150\n",
            "3/3 [==============================] - 37s 13s/step - loss: 0.0847 - accuracy: 0.9709 - precision: 0.9787 - val_loss: 1.1944 - val_accuracy: 0.7857 - val_precision: 0.8459\n",
            "Epoch 138/150\n",
            "3/3 [==============================] - 47s 15s/step - loss: 0.0717 - accuracy: 0.9717 - precision: 0.9810 - val_loss: 1.1898 - val_accuracy: 0.7917 - val_precision: 0.8543\n",
            "Epoch 139/150\n",
            "3/3 [==============================] - 40s 13s/step - loss: 0.0690 - accuracy: 0.9754 - precision: 0.9848 - val_loss: 1.1873 - val_accuracy: 0.7827 - val_precision: 0.8399\n",
            "Epoch 140/150\n",
            "3/3 [==============================] - 42s 13s/step - loss: 0.0773 - accuracy: 0.9746 - precision: 0.9825 - val_loss: 1.1827 - val_accuracy: 0.7946 - val_precision: 0.8459\n",
            "Epoch 141/150\n",
            "3/3 [==============================] - 44s 15s/step - loss: 0.0723 - accuracy: 0.9724 - precision: 0.9795 - val_loss: 1.1856 - val_accuracy: 0.7946 - val_precision: 0.8543\n",
            "Epoch 142/150\n",
            "3/3 [==============================] - 36s 11s/step - loss: 0.0668 - accuracy: 0.9828 - precision: 0.9857 - val_loss: 1.1939 - val_accuracy: 0.7946 - val_precision: 0.8553\n",
            "Epoch 143/150\n",
            "3/3 [==============================] - 46s 15s/step - loss: 0.0730 - accuracy: 0.9791 - precision: 0.9849 - val_loss: 1.1924 - val_accuracy: 0.7976 - val_precision: 0.8525\n",
            "Epoch 144/150\n",
            "3/3 [==============================] - 36s 11s/step - loss: 0.0669 - accuracy: 0.9754 - precision: 0.9871 - val_loss: 1.1887 - val_accuracy: 0.8036 - val_precision: 0.8525\n",
            "Epoch 145/150\n",
            "3/3 [==============================] - 43s 15s/step - loss: 0.0626 - accuracy: 0.9739 - precision: 0.9803 - val_loss: 1.1964 - val_accuracy: 0.8036 - val_precision: 0.8605\n",
            "Epoch 146/150\n",
            "3/3 [==============================] - 45s 14s/step - loss: 0.0715 - accuracy: 0.9776 - precision: 0.9863 - val_loss: 1.1993 - val_accuracy: 0.8065 - val_precision: 0.8638\n",
            "Epoch 147/150\n",
            "3/3 [==============================] - 42s 15s/step - loss: 0.0702 - accuracy: 0.9761 - precision: 0.9825 - val_loss: 1.2007 - val_accuracy: 0.8036 - val_precision: 0.8534\n",
            "Epoch 148/150\n",
            "3/3 [==============================] - 39s 12s/step - loss: 0.0519 - accuracy: 0.9761 - precision: 0.9825 - val_loss: 1.2014 - val_accuracy: 0.8006 - val_precision: 0.8502\n",
            "Epoch 149/150\n",
            "3/3 [==============================] - 44s 15s/step - loss: 0.0535 - accuracy: 0.9821 - precision: 0.9886 - val_loss: 1.1977 - val_accuracy: 0.8006 - val_precision: 0.8553\n",
            "Epoch 150/150\n",
            "3/3 [==============================] - 40s 12s/step - loss: 0.0509 - accuracy: 0.9814 - precision: 0.9909 - val_loss: 1.1963 - val_accuracy: 0.8036 - val_precision: 0.8562\n"
          ]
        }
      ],
      "source": [
        "#from keras.preprocessing.sequence import pad_sequences\n",
        "from keras.layers import Activation, Conv2D, Input, Embedding, Reshape, MaxPool1D, Concatenate, Flatten, Dropout, Dense, Conv1D\n",
        "from keras.layers import MaxPool1D, BatchNormalization, SimpleRNN, MaxPooling1D\n",
        "from keras.models import Model\n",
        "from keras.layers import Embedding, Dense, LSTM, GlobalMaxPooling1D, Dropout, Conv1D, Bidirectional\n",
        "from keras.models import Sequential, load_model, save_model\n",
        "from keras.callbacks import EarlyStopping, ModelCheckpoint\n",
        "tf.random.set_seed(0)\n",
        "\n",
        "w_VOCAB_SIZE = len(w_tokenizer.index_word) + 1\n",
        "num_filters = 512\n",
        "filter_sizes = [5, 7, 9]\n",
        "\n",
        "embedding_dim = 256  # 각 단어의 임베딩 벡터의 차원\n",
        "num_heads = 8  # 어텐션 헤드의 수\n",
        "dff = 256  # 포지션 와이즈 피드 포워드 신경망의 은닉층의 크기\n",
        "\n",
        "inputs = Input(shape=(w_max_len,), dtype='int32')\n",
        "embedding = TokenAndPositionEmbedding(w_max_len,w_VOCAB_SIZE, embedding_dim)(inputs) \n",
        "\n",
        "transformer_block = TransformerBlock(embedding_dim, num_heads, dff)\n",
        "x = transformer_block(embedding)\n",
        "x = tf.keras.layers.GlobalMaxPooling1D()(x)\n",
        "x = tf.keras.layers.Dropout(0.5)(x)\n",
        "\n",
        "#dense1 = Dense(80, activation='relu')(x)\n",
        "#dropout = Dropout(0.5)(dense1)\n",
        "\n",
        "#dense2 = Dense(800, activation='relu')(dropout)\n",
        "#dropout = Dropout(0.5)(dense2)\n",
        "\n",
        "output = Dense(1600, activation='relu')(x)\n",
        "output= Dropout(0.5)(output)\n",
        "\n",
        "output = Dense(units=len(women_df['level5/diagnosis'].unique()), activation='softmax')(output)\n",
        "\n",
        "w_model = Model(inputs=inputs, outputs=output)\n",
        "\n",
        "w_model.compile(optimizer='adam', loss='categorical_crossentropy',\n",
        "                metrics=['accuracy',\n",
        "                         tf.keras.metrics.Precision(name='precision')])\n",
        "\n",
        "\n",
        "history = w_model.fit(w_X_train_sequence, w_y_train_dummies, epochs=150,\n",
        "                      batch_size = 512, class_weight = w_class_weights,\n",
        "                      validation_split=0.2)"
      ]
    },
    {
      "cell_type": "code",
      "execution_count": 106,
      "metadata": {
        "colab": {
          "base_uri": "https://localhost:8080/"
        },
        "id": "AeT-Y72ZA5fu",
        "outputId": "fb5adbd2-3fad-4bd0-bad0-52f1c9738cd9"
      },
      "outputs": [
        {
          "name": "stdout",
          "output_type": "stream",
          "text": [
            "18/18 [==============================] - 5s 272ms/step - loss: 1.2097 - accuracy: 0.7835 - precision: 0.8449\n",
            "Accuracy of Test: 0.7835\n",
            "Precision of Test: 0.8449\n",
            "18/18 [==============================] - 4s 237ms/step\n",
            "top_k_result: 0.8927\n"
          ]
        }
      ],
      "source": [
        "test_result = w_model.evaluate(w_X_test_sequence, w_y_test_dummies)\n",
        "\n",
        "print(\"Accuracy of Test: {:.4f}\".format(test_result[1])) #(TP+TN)/(TP+FN+FP+TN)\n",
        "print(\"Precision of Test: {:.4f}\".format(test_result[2])) #(TP/(TP+FP))\n",
        "#print(\"F1-score of Test: {:.4f}\".format(np.mean(test_result[3])))\n",
        "print(\"top_k_result: {:.4f}\".format(w_top_k_hitrate(w_model.predict(w_X_test_sequence), n=3)))\n"
      ]
    },
    {
      "cell_type": "code",
      "execution_count": 85,
      "metadata": {
        "colab": {
          "base_uri": "https://localhost:8080/",
          "height": 461
        },
        "id": "ghEQFNH3A5fv",
        "outputId": "e2c78a15-e72c-465d-89a3-05553660d01d"
      },
      "outputs": [
        {
          "name": "stdout",
          "output_type": "stream",
          "text": [
            "18/18 [==============================] - 6s 342ms/step\n"
          ]
        },
        {
          "name": "stderr",
          "output_type": "stream",
          "text": [
            "<ipython-input-85-cc194dc86dd9>:3: FutureWarning: Support for multi-dimensional indexing (e.g. `obj[:, None]`) is deprecated and will be removed in a future version.  Convert to a numpy array before indexing instead.\n",
            "  b = w_y_test_dummies.columns[first]\n"
          ]
        },
        {
          "data": {
            "text/html": [
              "<div>\n",
              "<style scoped>\n",
              "    .dataframe tbody tr th:only-of-type {\n",
              "        vertical-align: middle;\n",
              "    }\n",
              "\n",
              "    .dataframe tbody tr th {\n",
              "        vertical-align: top;\n",
              "    }\n",
              "\n",
              "    .dataframe thead th {\n",
              "        text-align: right;\n",
              "    }\n",
              "</style>\n",
              "<table border=\"1\" class=\"dataframe\">\n",
              "  <thead>\n",
              "    <tr style=\"text-align: right;\">\n",
              "      <th></th>\n",
              "      <th>True</th>\n",
              "      <th>predict</th>\n",
              "    </tr>\n",
              "  </thead>\n",
              "  <tbody>\n",
              "    <tr>\n",
              "      <th>4</th>\n",
              "      <td>횡문근융해증</td>\n",
              "      <td>커피 / 약물에 의한 요붕증</td>\n",
              "    </tr>\n",
              "    <tr>\n",
              "      <th>7</th>\n",
              "      <td>역류성 식도염</td>\n",
              "      <td>소화성 궤양</td>\n",
              "    </tr>\n",
              "    <tr>\n",
              "      <th>8</th>\n",
              "      <td>담도암 / 췌장 두부암</td>\n",
              "      <td>급성 담낭염</td>\n",
              "    </tr>\n",
              "    <tr>\n",
              "      <th>10</th>\n",
              "      <td>기립성 저혈압(혈량저하증 동반 가능)</td>\n",
              "      <td>뇌전증</td>\n",
              "    </tr>\n",
              "    <tr>\n",
              "      <th>17</th>\n",
              "      <td>자궁경부염</td>\n",
              "      <td>세균성 질염</td>\n",
              "    </tr>\n",
              "    <tr>\n",
              "      <th>...</th>\n",
              "      <td>...</td>\n",
              "      <td>...</td>\n",
              "    </tr>\n",
              "    <tr>\n",
              "      <th>529</th>\n",
              "      <td>심부전</td>\n",
              "      <td>악성 고혈암</td>\n",
              "    </tr>\n",
              "    <tr>\n",
              "      <th>533</th>\n",
              "      <td>요붕증</td>\n",
              "      <td>원발다음증</td>\n",
              "    </tr>\n",
              "    <tr>\n",
              "      <th>537</th>\n",
              "      <td>절박성 요실금</td>\n",
              "      <td>혼합성 요실금</td>\n",
              "    </tr>\n",
              "    <tr>\n",
              "      <th>552</th>\n",
              "      <td>갑상선기능저하증</td>\n",
              "      <td>갑상샘저하증</td>\n",
              "    </tr>\n",
              "    <tr>\n",
              "      <th>557</th>\n",
              "      <td>조기심실수축</td>\n",
              "      <td>심방세동 / 심방조동</td>\n",
              "    </tr>\n",
              "  </tbody>\n",
              "</table>\n",
              "<p>121 rows × 2 columns</p>\n",
              "</div>"
            ],
            "text/plain": [
              "                     True          predict\n",
              "4                  횡문근융해증  커피 / 약물에 의한 요붕증\n",
              "7                 역류성 식도염           소화성 궤양\n",
              "8            담도암 / 췌장 두부암           급성 담낭염\n",
              "10   기립성 저혈압(혈량저하증 동반 가능)              뇌전증\n",
              "17                  자궁경부염           세균성 질염\n",
              "..                    ...              ...\n",
              "529                   심부전           악성 고혈암\n",
              "533                   요붕증            원발다음증\n",
              "537               절박성 요실금          혼합성 요실금\n",
              "552              갑상선기능저하증           갑상샘저하증\n",
              "557                조기심실수축      심방세동 / 심방조동\n",
              "\n",
              "[121 rows x 2 columns]"
            ]
          },
          "execution_count": 85,
          "metadata": {},
          "output_type": "execute_result"
        }
      ],
      "source": [
        "top_k_result = tf.math.top_k(w_model.predict(w_X_test_sequence), k=1, sorted=True)\n",
        "first = top_k_result[1]\n",
        "b = w_y_test_dummies.columns[first]\n",
        "\n",
        "w_ori_y_test = np.asarray(w_ori_y_test)\n",
        "\n",
        "compare_result = pd.concat([pd.DataFrame(w_ori_y_test, columns=['True']).reset_index(drop=True),\n",
        "                            pd.DataFrame(b, columns=['predict']).reset_index(drop=True)],\n",
        "                           axis=1)\n",
        "\n",
        "misclassified = np.where(compare_result['True'] != compare_result['predict'])\n",
        "compare_result.iloc[misclassified]"
      ]
    },
    {
      "cell_type": "markdown",
      "metadata": {
        "id": "bo-h8iRstgMd"
      },
      "source": [
        "## men_top_k_hitrate"
      ]
    },
    {
      "cell_type": "code",
      "execution_count": 107,
      "metadata": {
        "id": "vqHPtQu_AAWp"
      },
      "outputs": [],
      "source": [
        "def m_top_k_hitrate(predicted_proba, n=2):\n",
        "\n",
        "  eval_metric = []\n",
        "  top_k_result = tf.math.top_k(predicted_proba, k=n, sorted=True)\n",
        "  for i in range(len(top_k_result[1])):\n",
        "    first = top_k_result[1][i][0]\n",
        "    second = top_k_result[1][i][1]\n",
        "    third = top_k_result[1][i][2]\n",
        "\n",
        "    if m_ori_X_test['level5/diagnosis'].values[i] in (m_y_test_dummies.columns[int(first)],\n",
        "                                                      m_y_test_dummies.columns[int(second)],\n",
        "                                                      m_y_test_dummies.columns[int(third)]):\n",
        "      eval_metric.append(1)\n",
        "    else:\n",
        "      eval_metric.append(0)\n",
        "\n",
        "  return np.mean(eval_metric)"
      ]
    },
    {
      "cell_type": "code",
      "execution_count": null,
      "metadata": {
        "id": "Yr3stqsR-Y0g"
      },
      "outputs": [],
      "source": []
    },
    {
      "cell_type": "markdown",
      "metadata": {
        "id": "88ALRI2YYyLr"
      },
      "source": [
        "## Transformer _M\n",
        "\n"
      ]
    },
    {
      "cell_type": "code",
      "execution_count": 87,
      "metadata": {
        "colab": {
          "base_uri": "https://localhost:8080/"
        },
        "id": "2vY-uT9RYyLs",
        "outputId": "78dc0ac5-21fa-4bf2-c427-7fbf8c2e4cc3"
      },
      "outputs": [
        {
          "name": "stdout",
          "output_type": "stream",
          "text": [
            "Epoch 1/120\n",
            "6/6 [==============================] - 40s 6s/step - loss: 5.6476 - accuracy: 0.0058 - precision: 0.0000e+00 - val_loss: 5.3054 - val_accuracy: 0.0000e+00 - val_precision: 0.0000e+00\n",
            "Epoch 2/120\n",
            "6/6 [==============================] - 38s 6s/step - loss: 5.2549 - accuracy: 0.0099 - precision: 0.0000e+00 - val_loss: 5.3742 - val_accuracy: 0.0000e+00 - val_precision: 0.0000e+00\n",
            "Epoch 3/120\n",
            "6/6 [==============================] - 26s 4s/step - loss: 5.2366 - accuracy: 8.2508e-04 - precision: 0.0000e+00 - val_loss: 5.3663 - val_accuracy: 0.0000e+00 - val_precision: 0.0000e+00\n",
            "Epoch 4/120\n",
            "6/6 [==============================] - 34s 6s/step - loss: 5.1523 - accuracy: 0.0058 - precision: 0.0000e+00 - val_loss: 5.3469 - val_accuracy: 0.0033 - val_precision: 0.0000e+00\n",
            "Epoch 5/120\n",
            "6/6 [==============================] - 27s 4s/step - loss: 5.1393 - accuracy: 0.0058 - precision: 0.0000e+00 - val_loss: 5.3284 - val_accuracy: 0.0033 - val_precision: 0.0000e+00\n",
            "Epoch 6/120\n",
            "6/6 [==============================] - 26s 4s/step - loss: 5.1115 - accuracy: 0.0099 - precision: 0.0000e+00 - val_loss: 5.3069 - val_accuracy: 0.0132 - val_precision: 0.0000e+00\n",
            "Epoch 7/120\n",
            "6/6 [==============================] - 31s 5s/step - loss: 5.0782 - accuracy: 0.0083 - precision: 0.0000e+00 - val_loss: 5.2903 - val_accuracy: 0.0000e+00 - val_precision: 0.0000e+00\n",
            "Epoch 8/120\n",
            "6/6 [==============================] - 28s 5s/step - loss: 5.0602 - accuracy: 0.0099 - precision: 0.0000e+00 - val_loss: 5.2899 - val_accuracy: 0.0000e+00 - val_precision: 0.0000e+00\n",
            "Epoch 9/120\n",
            "6/6 [==============================] - 24s 4s/step - loss: 5.0574 - accuracy: 0.0124 - precision: 0.0000e+00 - val_loss: 5.3056 - val_accuracy: 0.0132 - val_precision: 0.0000e+00\n",
            "Epoch 10/120\n",
            "6/6 [==============================] - 30s 5s/step - loss: 5.0530 - accuracy: 0.0116 - precision: 0.0000e+00 - val_loss: 5.3206 - val_accuracy: 0.0132 - val_precision: 0.0000e+00\n",
            "Epoch 11/120\n",
            "6/6 [==============================] - 25s 4s/step - loss: 5.0386 - accuracy: 0.0091 - precision: 0.0000e+00 - val_loss: 5.3110 - val_accuracy: 0.0000e+00 - val_precision: 0.0000e+00\n",
            "Epoch 12/120\n",
            "6/6 [==============================] - 25s 4s/step - loss: 4.9955 - accuracy: 0.0149 - precision: 0.0000e+00 - val_loss: 5.2815 - val_accuracy: 0.0000e+00 - val_precision: 0.0000e+00\n",
            "Epoch 13/120\n",
            "6/6 [==============================] - 30s 5s/step - loss: 5.0007 - accuracy: 0.0107 - precision: 0.0000e+00 - val_loss: 5.2707 - val_accuracy: 0.0000e+00 - val_precision: 0.0000e+00\n",
            "Epoch 14/120\n",
            "6/6 [==============================] - 26s 4s/step - loss: 4.9715 - accuracy: 0.0140 - precision: 0.0000e+00 - val_loss: 5.2747 - val_accuracy: 0.0165 - val_precision: 0.0000e+00\n",
            "Epoch 15/120\n",
            "6/6 [==============================] - 23s 4s/step - loss: 4.9472 - accuracy: 0.0124 - precision: 0.0000e+00 - val_loss: 5.2490 - val_accuracy: 0.0165 - val_precision: 0.0000e+00\n",
            "Epoch 16/120\n",
            "6/6 [==============================] - 33s 6s/step - loss: 4.9267 - accuracy: 0.0206 - precision: 0.0000e+00 - val_loss: 5.2136 - val_accuracy: 0.0132 - val_precision: 0.0000e+00\n",
            "Epoch 17/120\n",
            "6/6 [==============================] - 31s 5s/step - loss: 4.8742 - accuracy: 0.0281 - precision: 0.0000e+00 - val_loss: 5.1742 - val_accuracy: 0.0231 - val_precision: 0.0000e+00\n",
            "Epoch 18/120\n",
            "6/6 [==============================] - 23s 4s/step - loss: 4.8237 - accuracy: 0.0388 - precision: 0.0000e+00 - val_loss: 5.1284 - val_accuracy: 0.0693 - val_precision: 0.0000e+00\n",
            "Epoch 19/120\n",
            "6/6 [==============================] - 30s 5s/step - loss: 4.7726 - accuracy: 0.0495 - precision: 0.0000e+00 - val_loss: 5.0490 - val_accuracy: 0.2046 - val_precision: 0.0000e+00\n",
            "Epoch 20/120\n",
            "6/6 [==============================] - 29s 5s/step - loss: 4.7063 - accuracy: 0.0751 - precision: 0.0000e+00 - val_loss: 4.9514 - val_accuracy: 0.1848 - val_precision: 0.0000e+00\n",
            "Epoch 21/120\n",
            "6/6 [==============================] - 25s 4s/step - loss: 4.6107 - accuracy: 0.0685 - precision: 0.0000e+00 - val_loss: 4.8611 - val_accuracy: 0.1617 - val_precision: 0.0000e+00\n",
            "Epoch 22/120\n",
            "6/6 [==============================] - 38s 7s/step - loss: 4.5416 - accuracy: 0.1048 - precision: 0.0000e+00 - val_loss: 4.6893 - val_accuracy: 0.2739 - val_precision: 0.0000e+00\n",
            "Epoch 23/120\n",
            "6/6 [==============================] - 30s 5s/step - loss: 4.3920 - accuracy: 0.1510 - precision: 0.0000e+00 - val_loss: 4.4783 - val_accuracy: 0.3201 - val_precision: 0.0000e+00\n",
            "Epoch 24/120\n",
            "6/6 [==============================] - 25s 4s/step - loss: 4.2572 - accuracy: 0.1625 - precision: 1.0000 - val_loss: 4.3396 - val_accuracy: 0.3036 - val_precision: 0.0000e+00\n",
            "Epoch 25/120\n",
            "6/6 [==============================] - 30s 5s/step - loss: 4.0908 - accuracy: 0.1873 - precision: 0.9091 - val_loss: 4.1104 - val_accuracy: 0.3828 - val_precision: 0.0000e+00\n",
            "Epoch 26/120\n",
            "6/6 [==============================] - 31s 5s/step - loss: 3.9038 - accuracy: 0.2071 - precision: 0.6897 - val_loss: 3.8637 - val_accuracy: 0.3597 - val_precision: 1.0000\n",
            "Epoch 27/120\n",
            "6/6 [==============================] - 25s 4s/step - loss: 3.7415 - accuracy: 0.2517 - precision: 0.8235 - val_loss: 3.6627 - val_accuracy: 0.4455 - val_precision: 1.0000\n",
            "Epoch 28/120\n",
            "6/6 [==============================] - 31s 5s/step - loss: 3.4615 - accuracy: 0.2979 - precision: 0.7805 - val_loss: 3.4828 - val_accuracy: 0.4389 - val_precision: 1.0000\n",
            "Epoch 29/120\n",
            "6/6 [==============================] - 28s 4s/step - loss: 3.2464 - accuracy: 0.3210 - precision: 0.8125 - val_loss: 3.2877 - val_accuracy: 0.4323 - val_precision: 1.0000\n",
            "Epoch 30/120\n",
            "6/6 [==============================] - 28s 5s/step - loss: 2.9497 - accuracy: 0.3630 - precision: 0.8000 - val_loss: 3.0840 - val_accuracy: 0.4785 - val_precision: 1.0000\n",
            "Epoch 31/120\n",
            "6/6 [==============================] - 34s 6s/step - loss: 2.7120 - accuracy: 0.3927 - precision: 0.8063 - val_loss: 2.8811 - val_accuracy: 0.5116 - val_precision: 1.0000\n",
            "Epoch 32/120\n",
            "6/6 [==============================] - 31s 5s/step - loss: 2.4519 - accuracy: 0.4257 - precision: 0.8291 - val_loss: 2.7444 - val_accuracy: 0.5182 - val_precision: 0.9881\n",
            "Epoch 33/120\n",
            "6/6 [==============================] - 29s 5s/step - loss: 2.2781 - accuracy: 0.4719 - precision: 0.8270 - val_loss: 2.5502 - val_accuracy: 0.5545 - val_precision: 0.9896\n",
            "Epoch 34/120\n",
            "6/6 [==============================] - 36s 6s/step - loss: 2.0258 - accuracy: 0.5058 - precision: 0.7881 - val_loss: 2.3973 - val_accuracy: 0.5809 - val_precision: 0.9810\n",
            "Epoch 35/120\n",
            "6/6 [==============================] - 24s 4s/step - loss: 1.9127 - accuracy: 0.5437 - precision: 0.8292 - val_loss: 2.3103 - val_accuracy: 0.5908 - val_precision: 0.9821\n",
            "Epoch 36/120\n",
            "6/6 [==============================] - 25s 4s/step - loss: 1.6684 - accuracy: 0.5635 - precision: 0.8296 - val_loss: 2.1222 - val_accuracy: 0.6139 - val_precision: 0.9590\n",
            "Epoch 37/120\n",
            "6/6 [==============================] - 30s 5s/step - loss: 1.4895 - accuracy: 0.6122 - precision: 0.8492 - val_loss: 2.0063 - val_accuracy: 0.6337 - val_precision: 0.9453\n",
            "Epoch 38/120\n",
            "6/6 [==============================] - 30s 5s/step - loss: 1.3151 - accuracy: 0.6502 - precision: 0.8673 - val_loss: 1.9204 - val_accuracy: 0.6535 - val_precision: 0.9200\n",
            "Epoch 39/120\n",
            "6/6 [==============================] - 24s 4s/step - loss: 1.1656 - accuracy: 0.6757 - precision: 0.8634 - val_loss: 1.8855 - val_accuracy: 0.6469 - val_precision: 0.9527\n",
            "Epoch 40/120\n",
            "6/6 [==============================] - 29s 5s/step - loss: 1.0568 - accuracy: 0.7030 - precision: 0.8748 - val_loss: 1.7653 - val_accuracy: 0.6865 - val_precision: 0.9355\n",
            "Epoch 41/120\n",
            "6/6 [==============================] - 30s 5s/step - loss: 1.0457 - accuracy: 0.7079 - precision: 0.8813 - val_loss: 1.6716 - val_accuracy: 0.6832 - val_precision: 0.9152\n",
            "Epoch 42/120\n",
            "6/6 [==============================] - 23s 4s/step - loss: 0.8677 - accuracy: 0.7525 - precision: 0.8886 - val_loss: 1.6420 - val_accuracy: 0.7261 - val_precision: 0.9274\n",
            "Epoch 43/120\n",
            "6/6 [==============================] - 28s 5s/step - loss: 0.7753 - accuracy: 0.7739 - precision: 0.8959 - val_loss: 1.6259 - val_accuracy: 0.7096 - val_precision: 0.9037\n",
            "Epoch 44/120\n",
            "6/6 [==============================] - 30s 5s/step - loss: 0.7365 - accuracy: 0.7756 - precision: 0.8925 - val_loss: 1.5569 - val_accuracy: 0.7294 - val_precision: 0.9235\n",
            "Epoch 45/120\n",
            "6/6 [==============================] - 24s 4s/step - loss: 0.6313 - accuracy: 0.7954 - precision: 0.9085 - val_loss: 1.5259 - val_accuracy: 0.7459 - val_precision: 0.9091\n",
            "Epoch 46/120\n",
            "6/6 [==============================] - 27s 5s/step - loss: 0.6419 - accuracy: 0.7979 - precision: 0.9121 - val_loss: 1.5309 - val_accuracy: 0.7426 - val_precision: 0.9073\n",
            "Epoch 47/120\n",
            "6/6 [==============================] - 30s 5s/step - loss: 0.5870 - accuracy: 0.7987 - precision: 0.9071 - val_loss: 1.5008 - val_accuracy: 0.7492 - val_precision: 0.8858\n",
            "Epoch 48/120\n",
            "6/6 [==============================] - 26s 4s/step - loss: 0.5458 - accuracy: 0.8325 - precision: 0.9279 - val_loss: 1.4760 - val_accuracy: 0.7591 - val_precision: 0.8778\n",
            "Epoch 49/120\n",
            "6/6 [==============================] - 22s 4s/step - loss: 0.5147 - accuracy: 0.8408 - precision: 0.9198 - val_loss: 1.4606 - val_accuracy: 0.7558 - val_precision: 0.8805\n",
            "Epoch 50/120\n",
            "6/6 [==============================] - 32s 6s/step - loss: 0.4478 - accuracy: 0.8441 - precision: 0.9224 - val_loss: 1.4387 - val_accuracy: 0.7492 - val_precision: 0.8696\n",
            "Epoch 51/120\n",
            "6/6 [==============================] - 31s 5s/step - loss: 0.4885 - accuracy: 0.8424 - precision: 0.9085 - val_loss: 1.4299 - val_accuracy: 0.7624 - val_precision: 0.8771\n",
            "Epoch 52/120\n",
            "6/6 [==============================] - 24s 4s/step - loss: 0.4021 - accuracy: 0.8589 - precision: 0.9328 - val_loss: 1.4366 - val_accuracy: 0.7657 - val_precision: 0.8787\n",
            "Epoch 53/120\n",
            "6/6 [==============================] - 29s 5s/step - loss: 0.3785 - accuracy: 0.8804 - precision: 0.9355 - val_loss: 1.4032 - val_accuracy: 0.7690 - val_precision: 0.9110\n",
            "Epoch 54/120\n",
            "6/6 [==============================] - 30s 5s/step - loss: 0.3628 - accuracy: 0.8804 - precision: 0.9252 - val_loss: 1.3942 - val_accuracy: 0.7723 - val_precision: 0.8838\n",
            "Epoch 55/120\n",
            "6/6 [==============================] - 27s 5s/step - loss: 0.3489 - accuracy: 0.8952 - precision: 0.9395 - val_loss: 1.3970 - val_accuracy: 0.7723 - val_precision: 0.8740\n",
            "Epoch 56/120\n",
            "6/6 [==============================] - 25s 4s/step - loss: 0.3431 - accuracy: 0.8853 - precision: 0.9317 - val_loss: 1.3685 - val_accuracy: 0.7690 - val_precision: 0.8715\n",
            "Epoch 57/120\n",
            "6/6 [==============================] - 30s 5s/step - loss: 0.2871 - accuracy: 0.8985 - precision: 0.9534 - val_loss: 1.3756 - val_accuracy: 0.7657 - val_precision: 0.8750\n",
            "Epoch 58/120\n",
            "6/6 [==============================] - 27s 5s/step - loss: 0.2722 - accuracy: 0.9035 - precision: 0.9508 - val_loss: 1.3740 - val_accuracy: 0.7591 - val_precision: 0.8635\n",
            "Epoch 59/120\n",
            "6/6 [==============================] - 23s 4s/step - loss: 0.2746 - accuracy: 0.9101 - precision: 0.9539 - val_loss: 1.3710 - val_accuracy: 0.7690 - val_precision: 0.8701\n",
            "Epoch 60/120\n",
            "6/6 [==============================] - 30s 5s/step - loss: 0.2641 - accuracy: 0.9101 - precision: 0.9463 - val_loss: 1.3693 - val_accuracy: 0.7921 - val_precision: 0.8884\n",
            "Epoch 61/120\n",
            "6/6 [==============================] - 30s 5s/step - loss: 0.2312 - accuracy: 0.9117 - precision: 0.9403 - val_loss: 1.3592 - val_accuracy: 0.7954 - val_precision: 0.8956\n",
            "Epoch 62/120\n",
            "6/6 [==============================] - 23s 4s/step - loss: 0.2339 - accuracy: 0.9142 - precision: 0.9518 - val_loss: 1.3451 - val_accuracy: 0.7921 - val_precision: 0.8920\n",
            "Epoch 63/120\n",
            "6/6 [==============================] - 27s 5s/step - loss: 0.2485 - accuracy: 0.9158 - precision: 0.9465 - val_loss: 1.3415 - val_accuracy: 0.7921 - val_precision: 0.8780\n",
            "Epoch 64/120\n",
            "6/6 [==============================] - 32s 5s/step - loss: 0.2262 - accuracy: 0.9290 - precision: 0.9583 - val_loss: 1.3333 - val_accuracy: 0.7987 - val_precision: 0.8760\n",
            "Epoch 65/120\n",
            "6/6 [==============================] - 29s 5s/step - loss: 0.2375 - accuracy: 0.9216 - precision: 0.9557 - val_loss: 1.3544 - val_accuracy: 0.7855 - val_precision: 0.8884\n",
            "Epoch 66/120\n",
            "6/6 [==============================] - 23s 4s/step - loss: 0.1858 - accuracy: 0.9299 - precision: 0.9621 - val_loss: 1.3856 - val_accuracy: 0.7822 - val_precision: 0.8667\n",
            "Epoch 67/120\n",
            "6/6 [==============================] - 30s 5s/step - loss: 0.1962 - accuracy: 0.9299 - precision: 0.9588 - val_loss: 1.3978 - val_accuracy: 0.7822 - val_precision: 0.8621\n",
            "Epoch 68/120\n",
            "6/6 [==============================] - 29s 5s/step - loss: 0.1633 - accuracy: 0.9315 - precision: 0.9642 - val_loss: 1.3873 - val_accuracy: 0.7954 - val_precision: 0.8803\n",
            "Epoch 69/120\n",
            "6/6 [==============================] - 24s 4s/step - loss: 0.1733 - accuracy: 0.9464 - precision: 0.9641 - val_loss: 1.3734 - val_accuracy: 0.7855 - val_precision: 0.8740\n",
            "Epoch 70/120\n",
            "6/6 [==============================] - 27s 5s/step - loss: 0.1685 - accuracy: 0.9414 - precision: 0.9654 - val_loss: 1.3562 - val_accuracy: 0.7921 - val_precision: 0.8687\n",
            "Epoch 71/120\n",
            "6/6 [==============================] - 30s 5s/step - loss: 0.1586 - accuracy: 0.9389 - precision: 0.9627 - val_loss: 1.3579 - val_accuracy: 0.7921 - val_precision: 0.8789\n",
            "Epoch 72/120\n",
            "6/6 [==============================] - 28s 5s/step - loss: 0.1488 - accuracy: 0.9455 - precision: 0.9657 - val_loss: 1.3499 - val_accuracy: 0.7954 - val_precision: 0.8898\n",
            "Epoch 73/120\n",
            "6/6 [==============================] - 26s 4s/step - loss: 0.1441 - accuracy: 0.9497 - precision: 0.9688 - val_loss: 1.3338 - val_accuracy: 0.7954 - val_precision: 0.8872\n",
            "Epoch 74/120\n",
            "6/6 [==============================] - 30s 5s/step - loss: 0.1273 - accuracy: 0.9538 - precision: 0.9742 - val_loss: 1.3302 - val_accuracy: 0.7954 - val_precision: 0.8855\n",
            "Epoch 75/120\n",
            "6/6 [==============================] - 26s 4s/step - loss: 0.1221 - accuracy: 0.9604 - precision: 0.9742 - val_loss: 1.3401 - val_accuracy: 0.8053 - val_precision: 0.8943\n",
            "Epoch 76/120\n",
            "6/6 [==============================] - 25s 4s/step - loss: 0.1377 - accuracy: 0.9488 - precision: 0.9639 - val_loss: 1.3466 - val_accuracy: 0.8053 - val_precision: 0.8902\n",
            "Epoch 77/120\n",
            "6/6 [==============================] - 29s 5s/step - loss: 0.1446 - accuracy: 0.9637 - precision: 0.9793 - val_loss: 1.3523 - val_accuracy: 0.8053 - val_precision: 0.8939\n",
            "Epoch 78/120\n",
            "6/6 [==============================] - 30s 5s/step - loss: 0.1017 - accuracy: 0.9620 - precision: 0.9762 - val_loss: 1.3505 - val_accuracy: 0.8020 - val_precision: 0.8864\n",
            "Epoch 79/120\n",
            "6/6 [==============================] - 23s 4s/step - loss: 0.1209 - accuracy: 0.9596 - precision: 0.9795 - val_loss: 1.3370 - val_accuracy: 0.8152 - val_precision: 0.8864\n",
            "Epoch 80/120\n",
            "6/6 [==============================] - 27s 5s/step - loss: 0.1009 - accuracy: 0.9653 - precision: 0.9796 - val_loss: 1.3512 - val_accuracy: 0.8086 - val_precision: 0.8652\n",
            "Epoch 81/120\n",
            "6/6 [==============================] - 29s 5s/step - loss: 0.1240 - accuracy: 0.9488 - precision: 0.9660 - val_loss: 1.3746 - val_accuracy: 0.7954 - val_precision: 0.8662\n",
            "Epoch 82/120\n",
            "6/6 [==============================] - 29s 5s/step - loss: 0.1001 - accuracy: 0.9686 - precision: 0.9797 - val_loss: 1.3983 - val_accuracy: 0.7921 - val_precision: 0.8679\n",
            "Epoch 83/120\n",
            "6/6 [==============================] - 23s 4s/step - loss: 0.1208 - accuracy: 0.9530 - precision: 0.9662 - val_loss: 1.3953 - val_accuracy: 0.7954 - val_precision: 0.8679\n",
            "Epoch 84/120\n",
            "6/6 [==============================] - 29s 5s/step - loss: 0.1117 - accuracy: 0.9612 - precision: 0.9730 - val_loss: 1.3866 - val_accuracy: 0.8086 - val_precision: 0.8736\n",
            "Epoch 85/120\n",
            "6/6 [==============================] - 29s 5s/step - loss: 0.0921 - accuracy: 0.9670 - precision: 0.9838 - val_loss: 1.3608 - val_accuracy: 0.8119 - val_precision: 0.8810\n",
            "Epoch 86/120\n",
            "6/6 [==============================] - 25s 4s/step - loss: 0.1139 - accuracy: 0.9612 - precision: 0.9711 - val_loss: 1.3496 - val_accuracy: 0.8152 - val_precision: 0.8745\n",
            "Epoch 87/120\n",
            "6/6 [==============================] - 26s 4s/step - loss: 0.0873 - accuracy: 0.9662 - precision: 0.9764 - val_loss: 1.3735 - val_accuracy: 0.8020 - val_precision: 0.8699\n",
            "Epoch 88/120\n",
            "6/6 [==============================] - 29s 5s/step - loss: 0.1012 - accuracy: 0.9695 - precision: 0.9789 - val_loss: 1.3835 - val_accuracy: 0.7987 - val_precision: 0.8764\n",
            "Epoch 89/120\n",
            "6/6 [==============================] - 28s 5s/step - loss: 0.0814 - accuracy: 0.9695 - precision: 0.9789 - val_loss: 1.3697 - val_accuracy: 0.8020 - val_precision: 0.8810\n",
            "Epoch 90/120\n",
            "6/6 [==============================] - 23s 4s/step - loss: 0.0924 - accuracy: 0.9695 - precision: 0.9764 - val_loss: 1.3705 - val_accuracy: 0.8119 - val_precision: 0.8881\n",
            "Epoch 91/120\n",
            "6/6 [==============================] - 36s 6s/step - loss: 0.0850 - accuracy: 0.9695 - precision: 0.9798 - val_loss: 1.3673 - val_accuracy: 0.8086 - val_precision: 0.8773\n",
            "Epoch 92/120\n",
            "6/6 [==============================] - 28s 5s/step - loss: 0.0821 - accuracy: 0.9695 - precision: 0.9773 - val_loss: 1.3698 - val_accuracy: 0.7987 - val_precision: 0.8731\n",
            "Epoch 93/120\n",
            "6/6 [==============================] - 21s 4s/step - loss: 0.0779 - accuracy: 0.9662 - precision: 0.9780 - val_loss: 1.3607 - val_accuracy: 0.8053 - val_precision: 0.8769\n",
            "Epoch 94/120\n",
            "6/6 [==============================] - 27s 5s/step - loss: 0.0837 - accuracy: 0.9653 - precision: 0.9789 - val_loss: 1.3569 - val_accuracy: 0.8119 - val_precision: 0.8708\n",
            "Epoch 95/120\n",
            "6/6 [==============================] - 29s 5s/step - loss: 0.0711 - accuracy: 0.9752 - precision: 0.9848 - val_loss: 1.3666 - val_accuracy: 0.8152 - val_precision: 0.8736\n",
            "Epoch 96/120\n",
            "6/6 [==============================] - 28s 5s/step - loss: 0.0658 - accuracy: 0.9761 - precision: 0.9824 - val_loss: 1.3655 - val_accuracy: 0.8218 - val_precision: 0.8769\n",
            "Epoch 97/120\n",
            "6/6 [==============================] - 29s 5s/step - loss: 0.0773 - accuracy: 0.9752 - precision: 0.9791 - val_loss: 1.3780 - val_accuracy: 0.8185 - val_precision: 0.8681\n",
            "Epoch 98/120\n",
            "6/6 [==============================] - 30s 5s/step - loss: 0.0807 - accuracy: 0.9728 - precision: 0.9816 - val_loss: 1.3894 - val_accuracy: 0.8119 - val_precision: 0.8810\n",
            "Epoch 99/120\n",
            "6/6 [==============================] - 28s 5s/step - loss: 0.0668 - accuracy: 0.9802 - precision: 0.9858 - val_loss: 1.3890 - val_accuracy: 0.8152 - val_precision: 0.8745\n",
            "Epoch 100/120\n",
            "6/6 [==============================] - 29s 5s/step - loss: 0.0552 - accuracy: 0.9810 - precision: 0.9858 - val_loss: 1.3822 - val_accuracy: 0.8086 - val_precision: 0.8750\n",
            "Epoch 101/120\n",
            "6/6 [==============================] - 23s 4s/step - loss: 0.0546 - accuracy: 0.9785 - precision: 0.9825 - val_loss: 1.3714 - val_accuracy: 0.8086 - val_precision: 0.8806\n",
            "Epoch 102/120\n",
            "6/6 [==============================] - 29s 5s/step - loss: 0.0672 - accuracy: 0.9769 - precision: 0.9849 - val_loss: 1.3688 - val_accuracy: 0.8086 - val_precision: 0.8662\n",
            "Epoch 103/120\n",
            "6/6 [==============================] - 30s 5s/step - loss: 0.0717 - accuracy: 0.9785 - precision: 0.9816 - val_loss: 1.3666 - val_accuracy: 0.8185 - val_precision: 0.8910\n",
            "Epoch 104/120\n",
            "6/6 [==============================] - 23s 4s/step - loss: 0.0672 - accuracy: 0.9769 - precision: 0.9824 - val_loss: 1.3664 - val_accuracy: 0.8185 - val_precision: 0.8778\n",
            "Epoch 105/120\n",
            "6/6 [==============================] - 27s 5s/step - loss: 0.0608 - accuracy: 0.9785 - precision: 0.9825 - val_loss: 1.3721 - val_accuracy: 0.8119 - val_precision: 0.8718\n",
            "Epoch 106/120\n",
            "6/6 [==============================] - 30s 5s/step - loss: 0.0736 - accuracy: 0.9703 - precision: 0.9766 - val_loss: 1.3720 - val_accuracy: 0.8020 - val_precision: 0.8806\n",
            "Epoch 107/120\n",
            "6/6 [==============================] - 23s 4s/step - loss: 0.0792 - accuracy: 0.9777 - precision: 0.9874 - val_loss: 1.3649 - val_accuracy: 0.8086 - val_precision: 0.8787\n",
            "Epoch 108/120\n",
            "6/6 [==============================] - 29s 5s/step - loss: 0.0575 - accuracy: 0.9835 - precision: 0.9883 - val_loss: 1.3723 - val_accuracy: 0.8251 - val_precision: 0.8885\n",
            "Epoch 109/120\n",
            "6/6 [==============================] - 29s 5s/step - loss: 0.0485 - accuracy: 0.9802 - precision: 0.9850 - val_loss: 1.3726 - val_accuracy: 0.8218 - val_precision: 0.8897\n",
            "Epoch 110/120\n",
            "6/6 [==============================] - 24s 4s/step - loss: 0.0421 - accuracy: 0.9893 - precision: 0.9933 - val_loss: 1.3919 - val_accuracy: 0.8218 - val_precision: 0.8796\n",
            "Epoch 111/120\n",
            "6/6 [==============================] - 27s 5s/step - loss: 0.0678 - accuracy: 0.9752 - precision: 0.9808 - val_loss: 1.4112 - val_accuracy: 0.8218 - val_precision: 0.8669\n",
            "Epoch 112/120\n",
            "6/6 [==============================] - 29s 5s/step - loss: 0.0587 - accuracy: 0.9802 - precision: 0.9842 - val_loss: 1.4187 - val_accuracy: 0.8185 - val_precision: 0.8723\n",
            "Epoch 113/120\n",
            "6/6 [==============================] - 26s 4s/step - loss: 0.0334 - accuracy: 0.9827 - precision: 0.9834 - val_loss: 1.4125 - val_accuracy: 0.8119 - val_precision: 0.8640\n",
            "Epoch 114/120\n",
            "6/6 [==============================] - 27s 5s/step - loss: 0.0413 - accuracy: 0.9860 - precision: 0.9884 - val_loss: 1.3817 - val_accuracy: 0.8185 - val_precision: 0.8750\n",
            "Epoch 115/120\n",
            "6/6 [==============================] - 32s 5s/step - loss: 0.0504 - accuracy: 0.9827 - precision: 0.9884 - val_loss: 1.3873 - val_accuracy: 0.8185 - val_precision: 0.8745\n",
            "Epoch 116/120\n",
            "6/6 [==============================] - 25s 4s/step - loss: 0.0439 - accuracy: 0.9893 - precision: 0.9925 - val_loss: 1.3986 - val_accuracy: 0.8119 - val_precision: 0.8655\n",
            "Epoch 117/120\n",
            "6/6 [==============================] - 33s 6s/step - loss: 0.0518 - accuracy: 0.9818 - precision: 0.9867 - val_loss: 1.4127 - val_accuracy: 0.8119 - val_precision: 0.8640\n",
            "Epoch 118/120\n",
            "6/6 [==============================] - 31s 5s/step - loss: 0.0638 - accuracy: 0.9851 - precision: 0.9875 - val_loss: 1.4194 - val_accuracy: 0.8086 - val_precision: 0.8633\n",
            "Epoch 119/120\n",
            "6/6 [==============================] - 24s 4s/step - loss: 0.0366 - accuracy: 0.9860 - precision: 0.9884 - val_loss: 1.4114 - val_accuracy: 0.8086 - val_precision: 0.8736\n",
            "Epoch 120/120\n",
            "6/6 [==============================] - 32s 6s/step - loss: 0.0515 - accuracy: 0.9860 - precision: 0.9917 - val_loss: 1.4096 - val_accuracy: 0.8185 - val_precision: 0.8764\n"
          ]
        }
      ],
      "source": [
        "m_VOCAB_SIZE = len(m_tokenizer.index_word) + 1\n",
        "num_filters = 512\n",
        "filter_sizes = [5, 7, 9]\n",
        "\n",
        "embedding_dim = 256  # 각 단어의 임베딩 벡터의 차원\n",
        "num_heads = 8  # 어텐션 헤드의 수\n",
        "dff = 64  # 포지션 와이즈 피드 포워드 신경망의 은닉층의 크기\n",
        "\n",
        "inputs = Input(shape=(m_max_len,), dtype='int32')\n",
        "embedding = TokenAndPositionEmbedding(m_max_len,m_VOCAB_SIZE, embedding_dim)(inputs) #800하면 top_k가 0.01높지만 나머지는 0.01낮다.\n",
        "\n",
        "transformer_block = TransformerBlock(embedding_dim, num_heads, dff)\n",
        "x = transformer_block(embedding)\n",
        "x = tf.keras.layers.GlobalMaxPooling1D()(x)\n",
        "x = tf.keras.layers.Dropout(0.5)(x)\n",
        "\n",
        "#dense1 = Dense(80, activation='relu')(x)\n",
        "#dropout = Dropout(0.5)(dense1)\n",
        "\n",
        "#dense2 = Dense(800, activation='relu')(dropout)\n",
        "#dropout = Dropout(0.5)(dense2)\n",
        "\n",
        "output = Dense(1600, activation='relu')(x)\n",
        "output= Dropout(0.5)(output)\n",
        "\n",
        "output = Dense(units=len(men_df['level5/diagnosis'].unique()), activation='softmax')(output)\n",
        "\n",
        "m_model = Model(inputs=inputs, outputs=output)\n",
        "\n",
        "m_model.compile(optimizer='adam', loss='categorical_crossentropy',\n",
        "                metrics=['accuracy',\n",
        "                         tf.keras.metrics.Precision(name='precision')])\n",
        "\n",
        "\n",
        "\n",
        "history = m_model.fit(m_X_train_sequence, m_y_train_dummies, epochs=120,\n",
        "                      batch_size = 216, class_weight = m_class_weights,\n",
        "                      validation_split=0.2)"
      ]
    },
    {
      "cell_type": "code",
      "execution_count": 187,
      "metadata": {
        "colab": {
          "base_uri": "https://localhost:8080/"
        },
        "id": "l1BUG7acYyLs",
        "outputId": "9d53576e-3a49-4dd6-c401-5ba2e300a6e0"
      },
      "outputs": [
        {
          "name": "stdout",
          "output_type": "stream",
          "text": [
            "16/16 [==============================] - 4s 235ms/step - loss: 1.1326 - accuracy: 0.8063 - precision: 0.8550\n",
            "Accuracy of Test: 0.8063\n",
            "Precision of Test: 0.8550\n",
            "16/16 [==============================] - 4s 227ms/step\n",
            "top_k_result: 0.9032\n"
          ]
        }
      ],
      "source": [
        "test_result = m_model.evaluate(m_X_test_sequence, m_y_test_dummies)\n",
        "\n",
        "print(\"Accuracy of Test: {:.4f}\".format(test_result[1])) #(TP+TN)/(TP+FN+FP+TN)\n",
        "print(\"Precision of Test: {:.4f}\".format(test_result[2])) #(TP/(TP+FP))\n",
        "#print(\"F1-score of Test: {:.4f}\".format(np.mean(test_result[3])))\n",
        "print(\"top_k_result: {:.4f}\".format(m_top_k_hitrate(m_model.predict(m_X_test_sequence), n=3)))\n"
      ]
    },
    {
      "cell_type": "code",
      "execution_count": 188,
      "metadata": {
        "colab": {
          "base_uri": "https://localhost:8080/",
          "height": 461
        },
        "id": "11kIJHfoYyLs",
        "outputId": "c007309f-3866-4f7d-ee24-dd8f9e762b63"
      },
      "outputs": [
        {
          "name": "stdout",
          "output_type": "stream",
          "text": [
            "16/16 [==============================] - 4s 247ms/step\n"
          ]
        },
        {
          "name": "stderr",
          "output_type": "stream",
          "text": [
            "<ipython-input-188-7eefc059dcac>:3: FutureWarning: Support for multi-dimensional indexing (e.g. `obj[:, None]`) is deprecated and will be removed in a future version.  Convert to a numpy array before indexing instead.\n",
            "  b = m_y_test_dummies.columns[first]\n"
          ]
        },
        {
          "data": {
            "text/html": [
              "<div>\n",
              "<style scoped>\n",
              "    .dataframe tbody tr th:only-of-type {\n",
              "        vertical-align: middle;\n",
              "    }\n",
              "\n",
              "    .dataframe tbody tr th {\n",
              "        vertical-align: top;\n",
              "    }\n",
              "\n",
              "    .dataframe thead th {\n",
              "        text-align: right;\n",
              "    }\n",
              "</style>\n",
              "<table border=\"1\" class=\"dataframe\">\n",
              "  <thead>\n",
              "    <tr style=\"text-align: right;\">\n",
              "      <th></th>\n",
              "      <th>True</th>\n",
              "      <th>predict</th>\n",
              "    </tr>\n",
              "  </thead>\n",
              "  <tbody>\n",
              "    <tr>\n",
              "      <th>0</th>\n",
              "      <td>협심증</td>\n",
              "      <td>혼합성 요실금</td>\n",
              "    </tr>\n",
              "    <tr>\n",
              "      <th>2</th>\n",
              "      <td>커피 / 약물에 의한 요붕증</td>\n",
              "      <td>요폐색 해소 후 요붕증</td>\n",
              "    </tr>\n",
              "    <tr>\n",
              "      <th>3</th>\n",
              "      <td>협착증</td>\n",
              "      <td>장중첩증</td>\n",
              "    </tr>\n",
              "    <tr>\n",
              "      <th>5</th>\n",
              "      <td>감염성 대장염</td>\n",
              "      <td>게실염</td>\n",
              "    </tr>\n",
              "    <tr>\n",
              "      <th>8</th>\n",
              "      <td>건선</td>\n",
              "      <td>아토피성 피부염</td>\n",
              "    </tr>\n",
              "    <tr>\n",
              "      <th>...</th>\n",
              "      <td>...</td>\n",
              "      <td>...</td>\n",
              "    </tr>\n",
              "    <tr>\n",
              "      <th>485</th>\n",
              "      <td>일류성 요실금</td>\n",
              "      <td>신경인성 방광</td>\n",
              "    </tr>\n",
              "    <tr>\n",
              "      <th>486</th>\n",
              "      <td>면역글로불린 A 신병증</td>\n",
              "      <td>방광암</td>\n",
              "    </tr>\n",
              "    <tr>\n",
              "      <th>487</th>\n",
              "      <td>기립성 저혈압(혈량저하증 동반 가능)</td>\n",
              "      <td>미주신경성 실신</td>\n",
              "    </tr>\n",
              "    <tr>\n",
              "      <th>499</th>\n",
              "      <td>심장막염</td>\n",
              "      <td>갈비연골염</td>\n",
              "    </tr>\n",
              "    <tr>\n",
              "      <th>500</th>\n",
              "      <td>빈혈</td>\n",
              "      <td>부정맥</td>\n",
              "    </tr>\n",
              "  </tbody>\n",
              "</table>\n",
              "<p>98 rows × 2 columns</p>\n",
              "</div>"
            ],
            "text/plain": [
              "                     True       predict\n",
              "0                     협심증       혼합성 요실금\n",
              "2         커피 / 약물에 의한 요붕증  요폐색 해소 후 요붕증\n",
              "3                     협착증          장중첩증\n",
              "5                 감염성 대장염           게실염\n",
              "8                      건선      아토피성 피부염\n",
              "..                    ...           ...\n",
              "485               일류성 요실금       신경인성 방광\n",
              "486          면역글로불린 A 신병증           방광암\n",
              "487  기립성 저혈압(혈량저하증 동반 가능)      미주신경성 실신\n",
              "499                  심장막염         갈비연골염\n",
              "500                    빈혈           부정맥\n",
              "\n",
              "[98 rows x 2 columns]"
            ]
          },
          "execution_count": 188,
          "metadata": {},
          "output_type": "execute_result"
        }
      ],
      "source": [
        "top_k_result = tf.math.top_k(m_model.predict(m_X_test_sequence), k=1, sorted=True)\n",
        "first = top_k_result[1]\n",
        "b = m_y_test_dummies.columns[first]\n",
        "\n",
        "m_ori_y_test = np.asarray(m_ori_y_test)\n",
        "\n",
        "compare_result = pd.concat([pd.DataFrame(m_ori_y_test, columns=['True']).reset_index(drop=True),\n",
        "                            pd.DataFrame(b, columns=['predict']).reset_index(drop=True)],\n",
        "                           axis=1)\n",
        "\n",
        "misclassified = np.where(compare_result['True'] != compare_result['predict'])\n",
        "compare_result.iloc[misclassified]"
      ]
    },
    {
      "cell_type": "code",
      "execution_count": 170,
      "metadata": {
        "colab": {
          "base_uri": "https://localhost:8080/"
        },
        "id": "EvVhpbMS7xir",
        "outputId": "d22bf7cb-59ce-43fd-d924-735ee16eb1e0"
      },
      "outputs": [
        {
          "name": "stdout",
          "output_type": "stream",
          "text": [
            "Model: \"model_1\"\n",
            "_________________________________________________________________\n",
            " Layer (type)                Output Shape              Param #   \n",
            "=================================================================\n",
            " input_2 (InputLayer)        [(None, 193)]             0         \n",
            "                                                                 \n",
            " token_and_position_embeddin  (None, 193, 256)         466432    \n",
            " g_1 (TokenAndPositionEmbedd                                     \n",
            " ing)                                                            \n",
            "                                                                 \n",
            " transformer_block_1 (Transf  (None, 193, 256)         305600    \n",
            " ormerBlock)                                                     \n",
            "                                                                 \n",
            " global_max_pooling1d_1 (Glo  (None, 256)              0         \n",
            " balMaxPooling1D)                                                \n",
            "                                                                 \n",
            " dropout_12 (Dropout)        (None, 256)               0         \n",
            "                                                                 \n",
            " dense_18 (Dense)            (None, 1600)              411200    \n",
            "                                                                 \n",
            " dropout_13 (Dropout)        (None, 1600)              0         \n",
            "                                                                 \n",
            " dense_19 (Dense)            (None, 190)               304190    \n",
            "                                                                 \n",
            "=================================================================\n",
            "Total params: 1,487,422\n",
            "Trainable params: 1,487,422\n",
            "Non-trainable params: 0\n",
            "_________________________________________________________________\n"
          ]
        }
      ],
      "source": [
        "m_model.summary()"
      ]
    },
    {
      "cell_type": "markdown",
      "metadata": {
        "id": "wBWMuWeMP-Dx"
      },
      "source": [
        "# Save Models"
      ]
    },
    {
      "cell_type": "code",
      "execution_count": 110,
      "metadata": {
        "id": "Wjdu7itsRHI_"
      },
      "outputs": [],
      "source": [
        "import pickle\n",
        "\n",
        "# Save processed women disease names\n",
        "with open(\"women_diseases_lv2.txt\", \"wb\") as fp:\n",
        "  pickle.dump(w_y_test_dummies.columns, fp)\n",
        "\n",
        "# Save tokenizer_women\n",
        "with open('women_tokenizer_lv2.pickle', 'wb') as handle:\n",
        "    pickle.dump(w_tokenizer, handle, protocol=pickle.HIGHEST_PROTOCOL)\n",
        "\n"
      ]
    },
    {
      "cell_type": "code",
      "execution_count": 111,
      "metadata": {
        "id": "dztSXAH1wrhk"
      },
      "outputs": [],
      "source": [
        "import pickle\n",
        "\n",
        "# Save processed men disease names\n",
        "with open(\"men_diseases_lv2.txt\", \"wb\") as fp:\n",
        "  pickle.dump(m_y_test_dummies.columns, fp)\n",
        "\n",
        "# Save tokenizer_women\n",
        "with open('men_tokenizer_lv2.pickle', 'wb') as handle:\n",
        "    pickle.dump(m_tokenizer, handle, protocol=pickle.HIGHEST_PROTOCOL)\n"
      ]
    },
    {
      "cell_type": "code",
      "execution_count": 117,
      "metadata": {},
      "outputs": [
        {
          "name": "stderr",
          "output_type": "stream",
          "text": [
            "WARNING:absl:Found untraced functions such as embedding_layer_call_fn, embedding_layer_call_and_return_conditional_losses, embedding_1_layer_call_fn, embedding_1_layer_call_and_return_conditional_losses, multi_head_attention_layer_call_fn while saving (showing 5 of 22). These functions will not be directly callable after loading.\n"
          ]
        },
        {
          "name": "stdout",
          "output_type": "stream",
          "text": [
            "INFO:tensorflow:Assets written to: ./new/assets\n"
          ]
        },
        {
          "name": "stderr",
          "output_type": "stream",
          "text": [
            "INFO:tensorflow:Assets written to: ./new/assets\n"
          ]
        }
      ],
      "source": [
        "tf.saved_model.SaveOptions(\n",
        "    experimental_io_device=None #/job:localhost\n",
        ")\n"
      ]
    },
    {
      "cell_type": "code",
      "execution_count": 172,
      "metadata": {},
      "outputs": [
        {
          "name": "stderr",
          "output_type": "stream",
          "text": [
            "WARNING:absl:Found untraced functions such as embedding_layer_call_fn, embedding_layer_call_and_return_conditional_losses, embedding_1_layer_call_fn, embedding_1_layer_call_and_return_conditional_losses, multi_head_attention_layer_call_fn while saving (showing 5 of 22). These functions will not be directly callable after loading.\n"
          ]
        },
        {
          "name": "stdout",
          "output_type": "stream",
          "text": [
            "INFO:tensorflow:Assets written to: ./w_model/assets\n"
          ]
        },
        {
          "name": "stderr",
          "output_type": "stream",
          "text": [
            "INFO:tensorflow:Assets written to: ./w_model/assets\n"
          ]
        }
      ],
      "source": [
        "path = './w_model/'\n",
        "tf.saved_model.save(w_model,path)\n",
        "path = './m_model/'\n",
        "tf.saved_model.save(m_model,path)"
      ]
    },
    {
      "cell_type": "markdown",
      "metadata": {
        "id": "Nh0UWd4ee5h2"
      },
      "source": [
        "# For test"
      ]
    },
    {
      "cell_type": "code",
      "execution_count": 114,
      "metadata": {
        "colab": {
          "base_uri": "https://localhost:8080/"
        },
        "id": "OkP0YZ44fDd1",
        "outputId": "666f2185-0a08-4930-e414-2e7e77a272f2"
      },
      "outputs": [],
      "source": [
        "#!pip install transformers\n",
        "#pip install konlpy\n",
        "from transformers import FunnelTokenizerFast\n",
        "from keras.preprocessing.text import Tokenizer\n",
        "#from keras.preprocessing.sequence import pad_sequences\n",
        "from keras.models import load_model\n",
        "import torch\n",
        "import konlpy.tag\n",
        "import re"
      ]
    },
    {
      "cell_type": "code",
      "execution_count": 115,
      "metadata": {
        "id": "rnhm5OX0rd7h"
      },
      "outputs": [],
      "source": [
        "def to_nan(x):\n",
        "  if(x == '-'):\n",
        "    x = ''\n",
        "  elif(x == '아니오'):\n",
        "    x = ''\n",
        "  elif(x == '아뇨'):\n",
        "    x = ''\n",
        "  elif(x == '몰라요'):\n",
        "    x = ''\n",
        "  elif(x == '모릅니다'):\n",
        "    x = ''\n",
        "  elif(x == '모름'):\n",
        "    x = ''\n",
        "  elif(x == '아뇨'):\n",
        "    x = ''\n",
        "  elif(x == '없습니다'):\n",
        "    x = ''\n",
        "  elif(x == '없어요'):\n",
        "    x = ''\n",
        "  elif(x == '없음'):\n",
        "    x = ''\n",
        "  elif(x == '.'):\n",
        "    x = ''    \n",
        "  return x\n",
        "\n",
        "def NRS_to_text(text):\n",
        "\n",
        "  a = re.findall('NRS.*?점', text) #NRS 5점\n",
        "  if len(a) == 0:\n",
        "    a = re.findall('NRS.*?\\d~\\d', text) #NRS 4~6 / NRS : 4~6\n",
        "  if len(a) == 0:\n",
        "    a = re.findall('NRS.*?\\d', text) #NRS: 5\n",
        "  \n",
        "  try:\n",
        "    t = re.findall('[0-9]+', a[0])\n",
        "\n",
        "    if (len(t) == 2):\n",
        "      score = (int(t[0])+int(t[1]))/ 2\n",
        "    else:\n",
        "      score = int(t[0])\n",
        "\n",
        "    if score >= 7:\n",
        "      to_text = '심함'\n",
        "    elif score >= 4:\n",
        "      to_text = '중간'\n",
        "    else:\n",
        "      to_text = '약함'\n",
        "\n",
        "    text = text.replace(a[0], to_text)\n",
        "  \n",
        "  except:\n",
        "    pass\n",
        "\n",
        "  return text\n",
        "\n",
        "from hanspell import spell_checker\n",
        "\n",
        "def spelling_check(text):\n",
        "  #print(text)\n",
        "  result = spell_checker.check(text) \n",
        "  \n",
        "  return result.as_dict()['checked'] \n",
        "\n",
        "def define_obesity(x):\n",
        "  if x < 0:\n",
        "    return '알 수 없음'\n",
        "  elif x < 20.0:\n",
        "    return '저체중'\n",
        "  elif x <= 24.0:\n",
        "    return '정상'\n",
        "  elif x <= 29.0:\n",
        "    return '과체중'\n",
        "  else:\n",
        "    return '비만'\n",
        "\n",
        "\n",
        "def only_letters_num(x):\n",
        "  return ' '.join(re.findall(r'\\w+', str(x)))\n",
        "\n",
        "\n",
        "okt = konlpy.tag.Okt() # 객체 생성\n",
        "stopwords = ['질문', '문의', '관련', '그대로', '계속', '답변', '선생님', '관련문의',\n",
        "              '한지', '자주', '좀', '쪽', '자꾸', '요즘', '몇개', '무조건', '하나요',\n",
        "              '안해', '경우', '최근', '및', '몇', '달', '일반', '전날', '저번',\n",
        "              '말', '일어나지', '며칠', '먹기', '지난번', '글', '때문', '너', '무',\n",
        "              '시', '잔', '뒤', '지속', '막', '것', '이건', '뭔가', '다시', '그',\n",
        "              '무슨', '안', '난', '기', '후', '거리', '뭘', '저', '뭐', '답젼',\n",
        "              '평생', '회복', '반', '감사', '의사', '보험', '학생', '제발', '살짝',\n",
        "              '느낌', '제', '대해','문제', '전','정도', '왜', '거', '가요',\n",
        "              '의심', '추천', '를', '지금', '무엇', '관해', '리', '세',\n",
        "              '로', '목적', '그냥', '거의', '고민', '다음', '이틀', '항상', '뭐', '때',\n",
        "              '요',  '이후', '혹시', '안녕하세요',\n",
        "              '안녕','선생','끼','일','식','첨부','말씀','이번','분','년','진단','밥',\n",
        "              '속','년','동안','코딩','바','평소','게','주','올해','월','외','소견','오후','병원',\n",
        "              '어머니','군데','여러분','전문가','건','아버지','주일','센티','동안','건가요',\n",
        "              '의견','건강','세일','결까요','학원','수업','밤','부모','적','가족','대학생',\n",
        "              '무언가','이게','무엇','포함','살','사진','제','가능','중','기재','아이',\n",
        "              '저녁','안심','걱정','씨','며칠','동네','어디','하루','동생','해외','얘',\n",
        "              '학년','사람','직장인','나이','키','몸무게','엄마','부탁','해석','혹','시가'\n",
        "             '의', '가', '이', '은', '들', '는', '잘', '걍', '과', '도', '을'\n",
        "             '를', '으로', '자', '에', '와', '하다', '다', '.', ',']\n",
        "             \n",
        "def erase_stopwords(text):\n",
        "  temp_x = okt.morphs(text, stem=True)\n",
        "  temp_x = [word for word in temp_x if not word in stopwords]\n",
        "  temp_x = re.findall(r'\\w+', str(temp_x))\n",
        "  temp_x = ' '.join(map(str, temp_x))\n",
        "  \n",
        "  return ' '.join(re.findall(r'\\w+', str(temp_x)))"
      ]
    },
    {
      "cell_type": "code",
      "execution_count": null,
      "metadata": {
        "id": "deJ9mNnJnWh1"
      },
      "outputs": [],
      "source": [
        "import pickle"
      ]
    },
    {
      "cell_type": "code",
      "execution_count": null,
      "metadata": {},
      "outputs": [],
      "source": []
    },
    {
      "cell_type": "code",
      "execution_count": 256,
      "metadata": {
        "id": "ZXtWQ-tsfeDw"
      },
      "outputs": [],
      "source": [
        "with open('men_tokenizer_lv2.pickle', 'rb') as handle:\n",
        "    m_tokenizer = pickle.load(handle)\n",
        "\n",
        "m_loaded_model = tf.saved_model.load('./m_model')\n",
        "#m_loaded_model = keras.models.load_model('./m_model')\n",
        "#m_loaded_model= torch.load('men_model_lv2.h5')\n",
        "\n",
        "with open(\"men_diseases_lv2.txt\", \"rb\") as fp:\n",
        "    m_disease_codes = pickle.load(fp)"
      ]
    },
    {
      "cell_type": "code",
      "execution_count": 257,
      "metadata": {},
      "outputs": [],
      "source": [
        "with open('women_tokenizer_lv2.pickle', 'rb') as handle:\n",
        "    w_tokenizer = pickle.load(handle)\n",
        "\n",
        "w_loaded_model = tf.saved_model.load('./w_model')\n",
        "#w_loaded_model = keras.models.load_model('./w_model')\n",
        "\n",
        "with open(\"women_diseases_lv2.txt\", \"rb\") as fp:\n",
        "    w_disease_codes = pickle.load(fp)"
      ]
    },
    {
      "cell_type": "code",
      "execution_count": 236,
      "metadata": {},
      "outputs": [
        {
          "data": {
            "text/plain": [
              "<tensorflow.python.saved_model.load.Loader._recreate_base_user_object.<locals>._UserObject at 0x219ba5072e0>"
            ]
          },
          "execution_count": 236,
          "metadata": {},
          "output_type": "execute_result"
        }
      ],
      "source": [
        "m_loaded_model"
      ]
    },
    {
      "cell_type": "code",
      "execution_count": 237,
      "metadata": {},
      "outputs": [
        {
          "data": {
            "text/plain": [
              "<tensorflow.python.saved_model.load.Loader._recreate_base_user_object.<locals>._UserObject at 0x219b0f62790>"
            ]
          },
          "execution_count": 237,
          "metadata": {},
          "output_type": "execute_result"
        }
      ],
      "source": [
        "w_loaded_model"
      ]
    },
    {
      "cell_type": "code",
      "execution_count": 267,
      "metadata": {
        "id": "xCw4GersfAG3"
      },
      "outputs": [],
      "source": [
        "test_df = {\n",
        "  'Height': '180',\n",
        "  'Weight': '75',\n",
        "  'Age': '30대',\n",
        "  'Chief complaint': '배가 아파요',\n",
        "  'Sex': '남자',\n",
        "  'Onset': '1일 전',\n",
        "  'Location': '명치 부위',\n",
        "  'Duration' : '지속',\n",
        "  'Course': '심해짐',\n",
        "  'Experience' : '이전에도 3차례, 통증은 이번보다 약했음',\n",
        "  'Character': '칼로 찢기는 듯한 통증, NRS 8점, 방사통: 등으로 퍼짐',\n",
        "  'Associated Sx.': '구토, 속쓰림, 어지러움, 갈증, 소변량 감소',\n",
        "  'Factor': '오른쪽으로 돌아 누우면 완화',\n",
        "  'Event': '',\n",
        "  '약물 투약력': '',\n",
        "  '사회력': '술: 1주일 6~7번, 식사는 매우 불규칙',\n",
        "  '가족력': '',\n",
        "  '외상력': '',\n",
        "  '과거력': '',\n",
        "  '여성력': ''\n",
        "}\n",
        "\n",
        "data = pd.DataFrame([test_df])"
      ]
    },
    {
      "cell_type": "code",
      "execution_count": 194,
      "metadata": {
        "id": "HnJOoYNv77HU"
      },
      "outputs": [],
      "source": [
        "test_df = {\n",
        "  'Height': '160',\n",
        "  'Weight': '45',\n",
        "  'Age': '20대',\n",
        "  'Chief complaint': '배가 아파요',\n",
        "  'Sex': '여자',\n",
        "  'Onset': '1일 전',\n",
        "  'Location': '명치 부위',\n",
        "  'Duration' : '지속',\n",
        "  'Course': '심해짐',\n",
        "  'Experience' : '이전에도 3차례, 통증은 이번보다 약했음',\n",
        "  'Character': '칼로 찢기는 듯한 통증, NRS 8점, 방사통: 등으로 퍼짐',\n",
        "  'Associated Sx.': '구토, 속쓰림, 어지러움, 갈증, 소변량 감소',\n",
        "  'Factor': '오른쪽으로 돌아 누우면 완화',\n",
        "  'Event': '',\n",
        "  '약물 투약력': '',\n",
        "  '사회력': '술: 1주일 6~7번, 식사는 매우 불규칙',\n",
        "  '가족력': '',\n",
        "  '외상력': '',\n",
        "  '과거력': '',\n",
        "  '여성력': ''\n",
        "}\n",
        "\n",
        "data = pd.DataFrame([test_df])"
      ]
    },
    {
      "cell_type": "code",
      "execution_count": null,
      "metadata": {
        "id": "hs1XwmNpo7Ic"
      },
      "outputs": [],
      "source": [
        "# 자궁내막증\n",
        "\n",
        "test_df_w =  {\n",
        "  'Height': '160',\n",
        "  'Weight': '65',\n",
        "  'Age': '50대',\n",
        "  'Chief complaint': '생리통이 심해요',\n",
        "  'Sex': '여자',\n",
        "  'Onset': '7개월 전',\n",
        "  'Location': '골반쪽 통증',\n",
        "  'Duration' : '생리통증이 심함',\n",
        "  'Course': '작년보다 훨씬 심해짐',\n",
        "  'Experience' : '',\n",
        "  'Character': 'NRS 7점 쿡쿡 쑤시는 통증, 규칙적 월경, 월경량 적당',\n",
        "  'Associated Sx.': '생리 끝나도 아플 때 있음',\n",
        "  'Factor': '',\n",
        "  'Event': '건강검진상 이상 없음, 산부인과 검진 받은 적 없음',\n",
        "  '약물 투약력': '진통제 먹어보지만 금방 또 아파짐',\n",
        "  '사회력': '',\n",
        "  '가족력': '',\n",
        "  '외상력': '',\n",
        "  '과거력': '',\n",
        "  '여성력': '임신한 적 있음'\n",
        "}\n",
        "\n",
        "data = pd.DataFrame([test_df_w])"
      ]
    },
    {
      "cell_type": "code",
      "execution_count": 268,
      "metadata": {
        "colab": {
          "base_uri": "https://localhost:8080/",
          "height": 440
        },
        "id": "aKftgdMq9c3O",
        "outputId": "1c050b87-df65-4c2a-a059-f061f21ff23d"
      },
      "outputs": [
        {
          "data": {
            "text/html": [
              "<div>\n",
              "<style scoped>\n",
              "    .dataframe tbody tr th:only-of-type {\n",
              "        vertical-align: middle;\n",
              "    }\n",
              "\n",
              "    .dataframe tbody tr th {\n",
              "        vertical-align: top;\n",
              "    }\n",
              "\n",
              "    .dataframe thead th {\n",
              "        text-align: right;\n",
              "    }\n",
              "</style>\n",
              "<table border=\"1\" class=\"dataframe\">\n",
              "  <thead>\n",
              "    <tr style=\"text-align: right;\">\n",
              "      <th></th>\n",
              "      <th>Height</th>\n",
              "      <th>Weight</th>\n",
              "      <th>Age</th>\n",
              "      <th>Chief complaint</th>\n",
              "      <th>Sex</th>\n",
              "      <th>Onset</th>\n",
              "      <th>Location</th>\n",
              "      <th>Duration</th>\n",
              "      <th>Course</th>\n",
              "      <th>Experience</th>\n",
              "      <th>Character</th>\n",
              "      <th>Associated Sx.</th>\n",
              "      <th>Factor</th>\n",
              "      <th>Event</th>\n",
              "      <th>약물 투약력</th>\n",
              "      <th>사회력</th>\n",
              "      <th>가족력</th>\n",
              "      <th>외상력</th>\n",
              "      <th>과거력</th>\n",
              "      <th>여성력</th>\n",
              "    </tr>\n",
              "  </thead>\n",
              "  <tbody>\n",
              "    <tr>\n",
              "      <th>0</th>\n",
              "      <td>180</td>\n",
              "      <td>75</td>\n",
              "      <td>30대</td>\n",
              "      <td>배가 아파요</td>\n",
              "      <td>남자</td>\n",
              "      <td>1일 전</td>\n",
              "      <td>명치 부위</td>\n",
              "      <td>지속</td>\n",
              "      <td>심해짐</td>\n",
              "      <td>이전에도 3차례, 통증은 이번보다 약했음</td>\n",
              "      <td>칼로 찢기는 듯한 통증, NRS 8점, 방사통: 등으로 퍼짐</td>\n",
              "      <td>구토, 속쓰림, 어지러움, 갈증, 소변량 감소</td>\n",
              "      <td>오른쪽으로 돌아 누우면 완화</td>\n",
              "      <td></td>\n",
              "      <td></td>\n",
              "      <td>술: 1주일 6~7번, 식사는 매우 불규칙</td>\n",
              "      <td></td>\n",
              "      <td></td>\n",
              "      <td></td>\n",
              "      <td></td>\n",
              "    </tr>\n",
              "  </tbody>\n",
              "</table>\n",
              "</div>"
            ],
            "text/plain": [
              "  Height Weight  Age Chief complaint Sex Onset Location Duration Course  \\\n",
              "0    180     75  30대          배가 아파요  남자  1일 전    명치 부위       지속    심해짐   \n",
              "\n",
              "               Experience                          Character  \\\n",
              "0  이전에도 3차례, 통증은 이번보다 약했음  칼로 찢기는 듯한 통증, NRS 8점, 방사통: 등으로 퍼짐   \n",
              "\n",
              "              Associated Sx.           Factor Event 약물 투약력  \\\n",
              "0  구토, 속쓰림, 어지러움, 갈증, 소변량 감소  오른쪽으로 돌아 누우면 완화                \n",
              "\n",
              "                       사회력 가족력 외상력 과거력 여성력  \n",
              "0  술: 1주일 6~7번, 식사는 매우 불규칙                  "
            ]
          },
          "execution_count": 268,
          "metadata": {},
          "output_type": "execute_result"
        }
      ],
      "source": [
        "data"
      ]
    },
    {
      "cell_type": "code",
      "execution_count": 269,
      "metadata": {
        "id": "8mN_MOHMfpeK"
      },
      "outputs": [],
      "source": [
        "# Handle Nan values \n",
        "data = data.fillna('-')\n",
        "\n",
        "for i in range(len(data.columns)):\n",
        "  data[data.columns[i]] = data.apply(lambda x : to_nan(x[data.columns[i]]) , axis = 1 )\n",
        "\n",
        "# Define obesity by calculating BMI with Height and Weight\n",
        "data['Height'] = data['Height'].replace('', '0')\n",
        "data['Weight'] = data['Weight'].replace('', '0')\n",
        "\n",
        "data['Height'] = data['Height'].astype('int')\n",
        "data['Weight'] = data['Weight'].astype('int')\n",
        "\n",
        "data['BMI'] = data['Weight'] / (data['Height']/100)**2\n",
        "data['BMI'].fillna(-1, inplace=True)\n",
        "data['Obesity'] = define_obesity(data['BMI'].values)\n",
        "  \n",
        "# Change Age to Groups of AgeX(-> Since we are going to receive their age as a group_format)\n",
        "data['Age'] = data['Age'].astype(str)"
      ]
    },
    {
      "cell_type": "code",
      "execution_count": 270,
      "metadata": {
        "colab": {
          "base_uri": "https://localhost:8080/",
          "height": 177
        },
        "id": "-ZJWlJLkKmgS",
        "outputId": "9644bb0b-7cac-4b82-ba03-913d1418b5d1"
      },
      "outputs": [
        {
          "data": {
            "text/html": [
              "<div>\n",
              "<style scoped>\n",
              "    .dataframe tbody tr th:only-of-type {\n",
              "        vertical-align: middle;\n",
              "    }\n",
              "\n",
              "    .dataframe tbody tr th {\n",
              "        vertical-align: top;\n",
              "    }\n",
              "\n",
              "    .dataframe thead th {\n",
              "        text-align: right;\n",
              "    }\n",
              "</style>\n",
              "<table border=\"1\" class=\"dataframe\">\n",
              "  <thead>\n",
              "    <tr style=\"text-align: right;\">\n",
              "      <th></th>\n",
              "      <th>Height</th>\n",
              "      <th>Weight</th>\n",
              "      <th>Age</th>\n",
              "      <th>Chief complaint</th>\n",
              "      <th>Sex</th>\n",
              "      <th>Onset</th>\n",
              "      <th>Location</th>\n",
              "      <th>Duration</th>\n",
              "      <th>Course</th>\n",
              "      <th>Experience</th>\n",
              "      <th>Character</th>\n",
              "      <th>Associated Sx.</th>\n",
              "      <th>Factor</th>\n",
              "      <th>Event</th>\n",
              "      <th>약물 투약력</th>\n",
              "      <th>사회력</th>\n",
              "      <th>가족력</th>\n",
              "      <th>외상력</th>\n",
              "      <th>과거력</th>\n",
              "      <th>여성력</th>\n",
              "      <th>BMI</th>\n",
              "      <th>Obesity</th>\n",
              "    </tr>\n",
              "  </thead>\n",
              "  <tbody>\n",
              "    <tr>\n",
              "      <th>0</th>\n",
              "      <td>180</td>\n",
              "      <td>75</td>\n",
              "      <td>30대</td>\n",
              "      <td>배가 아파요</td>\n",
              "      <td>남자</td>\n",
              "      <td>1일 전</td>\n",
              "      <td>명치 부위</td>\n",
              "      <td>지속</td>\n",
              "      <td>심해짐</td>\n",
              "      <td>이전에도 3차례, 통증은 이번보다 약했음</td>\n",
              "      <td>칼로 찢기는 듯한 통증, NRS 8점, 방사통: 등으로 퍼짐</td>\n",
              "      <td>구토, 속쓰림, 어지러움, 갈증, 소변량 감소</td>\n",
              "      <td>오른쪽으로 돌아 누우면 완화</td>\n",
              "      <td></td>\n",
              "      <td></td>\n",
              "      <td>술: 1주일 6~7번, 식사는 매우 불규칙</td>\n",
              "      <td></td>\n",
              "      <td></td>\n",
              "      <td></td>\n",
              "      <td></td>\n",
              "      <td>23.148148</td>\n",
              "      <td>정상</td>\n",
              "    </tr>\n",
              "  </tbody>\n",
              "</table>\n",
              "</div>"
            ],
            "text/plain": [
              "   Height  Weight  Age Chief complaint Sex Onset Location Duration Course  \\\n",
              "0     180      75  30대          배가 아파요  남자  1일 전    명치 부위       지속    심해짐   \n",
              "\n",
              "               Experience                          Character  \\\n",
              "0  이전에도 3차례, 통증은 이번보다 약했음  칼로 찢기는 듯한 통증, NRS 8점, 방사통: 등으로 퍼짐   \n",
              "\n",
              "              Associated Sx.           Factor Event 약물 투약력  \\\n",
              "0  구토, 속쓰림, 어지러움, 갈증, 소변량 감소  오른쪽으로 돌아 누우면 완화                \n",
              "\n",
              "                       사회력 가족력 외상력 과거력 여성력        BMI Obesity  \n",
              "0  술: 1주일 6~7번, 식사는 매우 불규칙                  23.148148      정상  "
            ]
          },
          "execution_count": 270,
          "metadata": {},
          "output_type": "execute_result"
        }
      ],
      "source": [
        "data"
      ]
    },
    {
      "cell_type": "code",
      "execution_count": 127,
      "metadata": {
        "colab": {
          "base_uri": "https://localhost:8080/",
          "height": 589
        },
        "id": "hKXMxNngkCWQ",
        "outputId": "232c3526-d001-484a-ca16-afea1a555c8c"
      },
      "outputs": [
        {
          "data": {
            "text/html": [
              "<div>\n",
              "<style scoped>\n",
              "    .dataframe tbody tr th:only-of-type {\n",
              "        vertical-align: middle;\n",
              "    }\n",
              "\n",
              "    .dataframe tbody tr th {\n",
              "        vertical-align: top;\n",
              "    }\n",
              "\n",
              "    .dataframe thead th {\n",
              "        text-align: right;\n",
              "    }\n",
              "</style>\n",
              "<table border=\"1\" class=\"dataframe\">\n",
              "  <thead>\n",
              "    <tr style=\"text-align: right;\">\n",
              "      <th></th>\n",
              "      <th>Unnamed: 0</th>\n",
              "      <th>원 질병이름</th>\n",
              "      <th>사이트 질병 이름</th>\n",
              "      <th>진료과</th>\n",
              "      <th>동의어</th>\n",
              "      <th>정의</th>\n",
              "    </tr>\n",
              "  </thead>\n",
              "  <tbody>\n",
              "    <tr>\n",
              "      <th>0</th>\n",
              "      <td>0</td>\n",
              "      <td>ACEI(혈압강하제) 복용으로 인한 증상</td>\n",
              "      <td>(ACEI side effect)</td>\n",
              "      <td>순환기내과</td>\n",
              "      <td>ACEI 부작용</td>\n",
              "      <td>혈압 강하제 중 ACEI 복용 후 나타나는 부작용을 의미합니다.</td>\n",
              "    </tr>\n",
              "    <tr>\n",
              "      <th>1</th>\n",
              "      <td>1</td>\n",
              "      <td>간염</td>\n",
              "      <td>간염(Hepatitis)</td>\n",
              "      <td>소화기내과</td>\n",
              "      <td>간세포 염증,간염증</td>\n",
              "      <td>간염은 간세포 조직에 염증이 생긴 것을 의미합니다.</td>\n",
              "    </tr>\n",
              "    <tr>\n",
              "      <th>2</th>\n",
              "      <td>2</td>\n",
              "      <td>간질성 폐질환</td>\n",
              "      <td>미만성 간질성 폐질환(Diffuse Interstitial lung disease)</td>\n",
              "      <td>호흡기내과</td>\n",
              "      <td>간질성 폐질환,미만성 침윤성 폐질환,특발성 간질성 폐렴,폐섬유증,폐섬유화증</td>\n",
              "      <td>미만성 간질성 폐질환(DILD)은 폐간질에 침범되는 비종양성, 비감염성 질환을 총칭...</td>\n",
              "    </tr>\n",
              "    <tr>\n",
              "      <th>3</th>\n",
              "      <td>3</td>\n",
              "      <td>갈비연골염</td>\n",
              "      <td>갈비연골염</td>\n",
              "      <td>흉부외과</td>\n",
              "      <td>늑연골염</td>\n",
              "      <td>갈비연골염은 늑골과 흉골을 연결하는 갈비 연골에 염증이 생긴 것입니다.</td>\n",
              "    </tr>\n",
              "    <tr>\n",
              "      <th>4</th>\n",
              "      <td>4</td>\n",
              "      <td>감염성 관절염</td>\n",
              "      <td>감염성 관절염</td>\n",
              "      <td>류미티스과</td>\n",
              "      <td>관절염</td>\n",
              "      <td>감염성 관절염은 보통 박테리아나 경우에 따라 바이러스 또는 진균으로 인해 관절액과 ...</td>\n",
              "    </tr>\n",
              "    <tr>\n",
              "      <th>...</th>\n",
              "      <td>...</td>\n",
              "      <td>...</td>\n",
              "      <td>...</td>\n",
              "      <td>...</td>\n",
              "      <td>...</td>\n",
              "      <td>...</td>\n",
              "    </tr>\n",
              "    <tr>\n",
              "      <th>221</th>\n",
              "      <td>221</td>\n",
              "      <td>지주막하 출혈</td>\n",
              "      <td>뇌동맥류(Cerebral aneurysm)</td>\n",
              "      <td>영상의학과, 신경외과, 신경중재클리닉</td>\n",
              "      <td>뇌동맥꽈리,뇌지주막하 출혈,두개강 내 동맥류</td>\n",
              "      <td>뇌동맥류는 뇌동맥 일부가 약해져서 그 부분이 풍선이나 꽈리처럼 부풀어 오르는 질환을...</td>\n",
              "    </tr>\n",
              "    <tr>\n",
              "      <th>222</th>\n",
              "      <td>222</td>\n",
              "      <td>커피 / 약물에 의한 요붕증</td>\n",
              "      <td>요붕증(Diabetes insipidus)</td>\n",
              "      <td>내분비내과, 소아내분비대사과</td>\n",
              "      <td>항이뇨호르몬 결핍증</td>\n",
              "      <td>항이뇨호르몬 분비가 부족하거나 신장에서 제 기능을 하지 못하는 상태를 요붕증이라고 ...</td>\n",
              "    </tr>\n",
              "    <tr>\n",
              "      <th>223</th>\n",
              "      <td>223</td>\n",
              "      <td>터너증후군</td>\n",
              "      <td>터너 증후군 (Turner syndrome)</td>\n",
              "      <td>의학유전학센터, 소아내분비대사과, 의학유전학과</td>\n",
              "      <td>터너증후군</td>\n",
              "      <td>터너 증후군은 여성의 키가 작고, 목이 짧고 두꺼우며, 성적 발달이 지연되는 유전 ...</td>\n",
              "    </tr>\n",
              "    <tr>\n",
              "      <th>224</th>\n",
              "      <td>224</td>\n",
              "      <td>하지신경 손상</td>\n",
              "      <td>업데이트 예정 (전처리 중 drop 질병)</td>\n",
              "      <td>업데이트 예정 (전처리 중 drop 질병)</td>\n",
              "      <td>업데이트 예정 (전처리 중 drop 질병)</td>\n",
              "      <td>업데이트 예정 (전처리 중 drop 질병)</td>\n",
              "    </tr>\n",
              "    <tr>\n",
              "      <th>225</th>\n",
              "      <td>225</td>\n",
              "      <td>호두까기 증후군</td>\n",
              "      <td>업데이트 예정 (전처리 중 drop 질병)</td>\n",
              "      <td>업데이트 예정 (전처리 중 drop 질병)</td>\n",
              "      <td>업데이트 예정 (전처리 중 drop 질병)</td>\n",
              "      <td>업데이트 예정 (전처리 중 drop 질병)</td>\n",
              "    </tr>\n",
              "  </tbody>\n",
              "</table>\n",
              "<p>226 rows × 6 columns</p>\n",
              "</div>"
            ],
            "text/plain": [
              "     Unnamed: 0                  원 질병이름  \\\n",
              "0             0  ACEI(혈압강하제) 복용으로 인한 증상   \n",
              "1             1                      간염   \n",
              "2             2                 간질성 폐질환   \n",
              "3             3                   갈비연골염   \n",
              "4             4                 감염성 관절염   \n",
              "..          ...                     ...   \n",
              "221         221                 지주막하 출혈   \n",
              "222         222         커피 / 약물에 의한 요붕증   \n",
              "223         223                   터너증후군   \n",
              "224         224                 하지신경 손상   \n",
              "225         225                호두까기 증후군   \n",
              "\n",
              "                                          사이트 질병 이름  \\\n",
              "0                                (ACEI side effect)   \n",
              "1                                     간염(Hepatitis)   \n",
              "2    미만성 간질성 폐질환(Diffuse Interstitial lung disease)   \n",
              "3                                             갈비연골염   \n",
              "4                                           감염성 관절염   \n",
              "..                                              ...   \n",
              "221                         뇌동맥류(Cerebral aneurysm)   \n",
              "222                         요붕증(Diabetes insipidus)   \n",
              "223                        터너 증후군 (Turner syndrome)   \n",
              "224                         업데이트 예정 (전처리 중 drop 질병)   \n",
              "225                         업데이트 예정 (전처리 중 drop 질병)   \n",
              "\n",
              "                           진료과                                        동의어  \\\n",
              "0                        순환기내과                                   ACEI 부작용   \n",
              "1                        소화기내과                                 간세포 염증,간염증   \n",
              "2                        호흡기내과  간질성 폐질환,미만성 침윤성 폐질환,특발성 간질성 폐렴,폐섬유증,폐섬유화증   \n",
              "3                         흉부외과                                       늑연골염   \n",
              "4                        류미티스과                                        관절염   \n",
              "..                         ...                                        ...   \n",
              "221       영상의학과, 신경외과, 신경중재클리닉                   뇌동맥꽈리,뇌지주막하 출혈,두개강 내 동맥류   \n",
              "222            내분비내과, 소아내분비대사과                                 항이뇨호르몬 결핍증   \n",
              "223  의학유전학센터, 소아내분비대사과, 의학유전학과                                      터너증후군   \n",
              "224    업데이트 예정 (전처리 중 drop 질병)                    업데이트 예정 (전처리 중 drop 질병)   \n",
              "225    업데이트 예정 (전처리 중 drop 질병)                    업데이트 예정 (전처리 중 drop 질병)   \n",
              "\n",
              "                                                    정의  \n",
              "0                  혈압 강하제 중 ACEI 복용 후 나타나는 부작용을 의미합니다.  \n",
              "1                         간염은 간세포 조직에 염증이 생긴 것을 의미합니다.  \n",
              "2    미만성 간질성 폐질환(DILD)은 폐간질에 침범되는 비종양성, 비감염성 질환을 총칭...  \n",
              "3              갈비연골염은 늑골과 흉골을 연결하는 갈비 연골에 염증이 생긴 것입니다.  \n",
              "4    감염성 관절염은 보통 박테리아나 경우에 따라 바이러스 또는 진균으로 인해 관절액과 ...  \n",
              "..                                                 ...  \n",
              "221  뇌동맥류는 뇌동맥 일부가 약해져서 그 부분이 풍선이나 꽈리처럼 부풀어 오르는 질환을...  \n",
              "222  항이뇨호르몬 분비가 부족하거나 신장에서 제 기능을 하지 못하는 상태를 요붕증이라고 ...  \n",
              "223  터너 증후군은 여성의 키가 작고, 목이 짧고 두꺼우며, 성적 발달이 지연되는 유전 ...  \n",
              "224                            업데이트 예정 (전처리 중 drop 질병)  \n",
              "225                            업데이트 예정 (전처리 중 drop 질병)  \n",
              "\n",
              "[226 rows x 6 columns]"
            ]
          },
          "execution_count": 127,
          "metadata": {},
          "output_type": "execute_result"
        }
      ],
      "source": [
        "aa = pd.read_csv('Disease_info.csv')\n",
        "#aa.drop('Unnamed: 0', axis=1, inplace=True)\n",
        "aa"
      ]
    },
    {
      "cell_type": "code",
      "execution_count": null,
      "metadata": {
        "id": "K4BE5nAjFG0Z"
      },
      "outputs": [],
      "source": [
        "#콜레스테롤 높다 대요 60 대다 여자 1 개월 처음 습관 운동 함 12년 폐경 과체중\n",
        "# 두근거리다 50 대다 여자 1일 3시간 6 개월 부터 기적 규칙 빠르다 홍조 더위 견디다 못 불면 생리 량 감소 정상"
      ]
    },
    {
      "cell_type": "markdown",
      "metadata": {
        "id": "mH_wt1MgEuP7"
      },
      "source": [
        "## 레벨2 모델 로드\n"
      ]
    },
    {
      "cell_type": "code",
      "execution_count": 128,
      "metadata": {
        "id": "MU52-7FyEhTv"
      },
      "outputs": [
        {
          "name": "stderr",
          "output_type": "stream",
          "text": [
            "c:\\Users\\USER\\AppData\\Local\\Programs\\Python\\Python39\\lib\\site-packages\\sklearn\\base.py:310: UserWarning: Trying to unpickle estimator DecisionTreeClassifier from version 1.0.2 when using version 0.24.1. This might lead to breaking code or invalid results. Use at your own risk.\n",
            "  warnings.warn(\n",
            "c:\\Users\\USER\\AppData\\Local\\Programs\\Python\\Python39\\lib\\site-packages\\sklearn\\base.py:310: UserWarning: Trying to unpickle estimator RandomForestClassifier from version 1.0.2 when using version 0.24.1. This might lead to breaking code or invalid results. Use at your own risk.\n",
            "  warnings.warn(\n",
            "c:\\Users\\USER\\AppData\\Local\\Programs\\Python\\Python39\\lib\\site-packages\\sklearn\\base.py:310: UserWarning: Trying to unpickle estimator TfidfTransformer from version 1.0.2 when using version 0.24.1. This might lead to breaking code or invalid results. Use at your own risk.\n",
            "  warnings.warn(\n",
            "c:\\Users\\USER\\AppData\\Local\\Programs\\Python\\Python39\\lib\\site-packages\\sklearn\\base.py:310: UserWarning: Trying to unpickle estimator TfidfVectorizer from version 1.0.2 when using version 0.24.1. This might lead to breaking code or invalid results. Use at your own risk.\n",
            "  warnings.warn(\n"
          ]
        }
      ],
      "source": [
        "with open('m_level2_estimator.pkl', 'rb') as b:\n",
        "    m_lv2_model = pickle.load(b)\n",
        "\n",
        "\n",
        "with open('m_level2_tfidf_vectorizer.pkl', 'rb') as c:\n",
        "    m_tfidf = pickle.load(c)\n",
        "\n",
        "\n",
        "with open('m_level2_dummies.txt', 'rb') as d:\n",
        "    m_lv2_dummies = pickle.load(d)"
      ]
    },
    {
      "cell_type": "code",
      "execution_count": 129,
      "metadata": {
        "id": "yVjEgmnFg4EJ"
      },
      "outputs": [],
      "source": [
        "with open('w_level2_estimator.pkl', 'rb') as b:\n",
        "    w_lv2_model = pickle.load(b)\n",
        "\n",
        "\n",
        "with open('w_level2_tfidf_vectorizer.pkl', 'rb') as c:\n",
        "    w_tfidf = pickle.load(c)\n",
        "\n",
        "\n",
        "with open('w_level2_dummies.txt', 'rb') as d:\n",
        "    w_lv2_dummies = pickle.load(d)"
      ]
    },
    {
      "cell_type": "code",
      "execution_count": 130,
      "metadata": {
        "colab": {
          "base_uri": "https://localhost:8080/"
        },
        "id": "aMqDbNJ1zH1G",
        "outputId": "7bfdb66f-d13a-4f3d-e6e5-3a9f9284a01f"
      },
      "outputs": [
        {
          "name": "stdout",
          "output_type": "stream",
          "text": [
            "Index(['가슴통증', '객혈', '고혈압', '관절 통증', '구토', '급성 복통', '기침', '다뇨증', '두근거림',\n",
            "       '목 통증/허리 통증', '배뇨 이상', '변비', '붉은색 소변', '설사', '소변찔끔증', '소화불량/만성 복통',\n",
            "       '실신', '월경이상/월경통', '유방통/유방덩이', '질 분비물', '콧물/코막힘', '토혈', '피부발진', '핍뇨',\n",
            "       '혈변', '호흡곤란', '황달'],\n",
            "      dtype='object')\n"
          ]
        }
      ],
      "source": [
        "print(m_lv2_dummies)"
      ]
    },
    {
      "cell_type": "code",
      "execution_count": 271,
      "metadata": {
        "colab": {
          "base_uri": "https://localhost:8080/",
          "height": 423
        },
        "id": "5nXNIraD0G-x",
        "outputId": "2eb6dff6-19d7-4f60-f2a7-7fed89192268"
      },
      "outputs": [
        {
          "data": {
            "text/html": [
              "<div>\n",
              "<style scoped>\n",
              "    .dataframe tbody tr th:only-of-type {\n",
              "        vertical-align: middle;\n",
              "    }\n",
              "\n",
              "    .dataframe tbody tr th {\n",
              "        vertical-align: top;\n",
              "    }\n",
              "\n",
              "    .dataframe thead th {\n",
              "        text-align: right;\n",
              "    }\n",
              "</style>\n",
              "<table border=\"1\" class=\"dataframe\">\n",
              "  <thead>\n",
              "    <tr style=\"text-align: right;\">\n",
              "      <th></th>\n",
              "      <th>Height</th>\n",
              "      <th>Weight</th>\n",
              "      <th>Age</th>\n",
              "      <th>Chief complaint</th>\n",
              "      <th>Sex</th>\n",
              "      <th>Onset</th>\n",
              "      <th>Location</th>\n",
              "      <th>Duration</th>\n",
              "      <th>Course</th>\n",
              "      <th>Experience</th>\n",
              "      <th>Character</th>\n",
              "      <th>Associated Sx.</th>\n",
              "      <th>Factor</th>\n",
              "      <th>Event</th>\n",
              "      <th>약물 투약력</th>\n",
              "      <th>사회력</th>\n",
              "      <th>가족력</th>\n",
              "      <th>외상력</th>\n",
              "      <th>과거력</th>\n",
              "      <th>여성력</th>\n",
              "      <th>BMI</th>\n",
              "      <th>Obesity</th>\n",
              "    </tr>\n",
              "  </thead>\n",
              "  <tbody>\n",
              "    <tr>\n",
              "      <th>0</th>\n",
              "      <td>180</td>\n",
              "      <td>75</td>\n",
              "      <td>30대</td>\n",
              "      <td>배가 아파요</td>\n",
              "      <td>남자</td>\n",
              "      <td>1일 전</td>\n",
              "      <td>명치 부위</td>\n",
              "      <td>지속</td>\n",
              "      <td>심해짐</td>\n",
              "      <td>이전에도 3차례, 통증은 이번보다 약했음</td>\n",
              "      <td>칼로 찢기는 듯한 통증, NRS 8점, 방사통: 등으로 퍼짐</td>\n",
              "      <td>구토, 속쓰림, 어지러움, 갈증, 소변량 감소</td>\n",
              "      <td>오른쪽으로 돌아 누우면 완화</td>\n",
              "      <td></td>\n",
              "      <td></td>\n",
              "      <td>술: 1주일 6~7번, 식사는 매우 불규칙</td>\n",
              "      <td></td>\n",
              "      <td></td>\n",
              "      <td></td>\n",
              "      <td></td>\n",
              "      <td>23.148148</td>\n",
              "      <td>정상</td>\n",
              "    </tr>\n",
              "  </tbody>\n",
              "</table>\n",
              "</div>"
            ],
            "text/plain": [
              "   Height  Weight  Age Chief complaint Sex Onset Location Duration Course  \\\n",
              "0     180      75  30대          배가 아파요  남자  1일 전    명치 부위       지속    심해짐   \n",
              "\n",
              "               Experience                          Character  \\\n",
              "0  이전에도 3차례, 통증은 이번보다 약했음  칼로 찢기는 듯한 통증, NRS 8점, 방사통: 등으로 퍼짐   \n",
              "\n",
              "              Associated Sx.           Factor Event 약물 투약력  \\\n",
              "0  구토, 속쓰림, 어지러움, 갈증, 소변량 감소  오른쪽으로 돌아 누우면 완화                \n",
              "\n",
              "                       사회력 가족력 외상력 과거력 여성력        BMI Obesity  \n",
              "0  술: 1주일 6~7번, 식사는 매우 불규칙                  23.148148      정상  "
            ]
          },
          "execution_count": 271,
          "metadata": {},
          "output_type": "execute_result"
        }
      ],
      "source": [
        "data"
      ]
    },
    {
      "cell_type": "code",
      "execution_count": 272,
      "metadata": {
        "id": "kOzwtxrhzLmG"
      },
      "outputs": [],
      "source": [
        "if data['Sex'][0]=='여자':\n",
        "  lv2_model = w_lv2_model\n",
        "  tfidf = w_tfidf\n",
        "  lv2_dummies = w_lv2_dummies\n",
        "if data['Sex'][0]=='남자':\n",
        "  lv2_model = m_lv2_model\n",
        "  tfidf = m_tfidf\n",
        "  lv2_dummies = m_lv2_dummies"
      ]
    },
    {
      "cell_type": "code",
      "execution_count": 273,
      "metadata": {
        "id": "dUQCmzB7jYQn"
      },
      "outputs": [],
      "source": [
        "test ={\n",
        "    'Chief complaint': data['Chief complaint'].values[0],\n",
        "    'Onset' : data['Onset'].values[0],\n",
        "    'Location' : data['Location'].values[0]\n",
        "}\n",
        "test = pd.DataFrame([test])\n"
      ]
    },
    {
      "cell_type": "code",
      "execution_count": 274,
      "metadata": {
        "id": "SpMlqh72qzi1"
      },
      "outputs": [],
      "source": [
        "for i in range(len(test.columns)):\n",
        "    test[test.columns[i]] = test.apply(lambda x : to_nan(x[test.columns[i]]) , axis = 1 )"
      ]
    },
    {
      "cell_type": "code",
      "execution_count": 275,
      "metadata": {
        "colab": {
          "base_uri": "https://localhost:8080/",
          "height": 81
        },
        "id": "6jejRL-Dq8Uz",
        "outputId": "b4aa6d23-2cb7-4965-d0f7-52e550d56d83"
      },
      "outputs": [
        {
          "data": {
            "text/html": [
              "<div>\n",
              "<style scoped>\n",
              "    .dataframe tbody tr th:only-of-type {\n",
              "        vertical-align: middle;\n",
              "    }\n",
              "\n",
              "    .dataframe tbody tr th {\n",
              "        vertical-align: top;\n",
              "    }\n",
              "\n",
              "    .dataframe thead th {\n",
              "        text-align: right;\n",
              "    }\n",
              "</style>\n",
              "<table border=\"1\" class=\"dataframe\">\n",
              "  <thead>\n",
              "    <tr style=\"text-align: right;\">\n",
              "      <th></th>\n",
              "      <th>Chief complaint</th>\n",
              "      <th>Onset</th>\n",
              "      <th>Location</th>\n",
              "      <th>All</th>\n",
              "    </tr>\n",
              "  </thead>\n",
              "  <tbody>\n",
              "    <tr>\n",
              "      <th>0</th>\n",
              "      <td>배가 아파요</td>\n",
              "      <td>1일 전</td>\n",
              "      <td>명치 부위</td>\n",
              "      <td>배가 아파요. 1일 전. 명치 부위</td>\n",
              "    </tr>\n",
              "  </tbody>\n",
              "</table>\n",
              "</div>"
            ],
            "text/plain": [
              "  Chief complaint Onset Location                  All\n",
              "0          배가 아파요  1일 전    명치 부위  배가 아파요. 1일 전. 명치 부위"
            ]
          },
          "execution_count": 275,
          "metadata": {},
          "output_type": "execute_result"
        }
      ],
      "source": [
        "test['All'] =  test['Chief complaint'] + '. ' + test['Onset'] + '. ' + test['Location']\n",
        "test"
      ]
    },
    {
      "cell_type": "code",
      "execution_count": 276,
      "metadata": {
        "colab": {
          "base_uri": "https://localhost:8080/"
        },
        "id": "D-sileosnFEc",
        "outputId": "149f8063-0e67-45d4-f152-bdc949a4353a"
      },
      "outputs": [
        {
          "data": {
            "text/plain": [
              "0    배 아프다 1일 명치 부위\n",
              "Name: All, dtype: object"
            ]
          },
          "execution_count": 276,
          "metadata": {},
          "output_type": "execute_result"
        }
      ],
      "source": [
        "test['All'] = test.apply(lambda x : erase_stopwords(x['All']) , axis = 1 )\n",
        "test['All']"
      ]
    },
    {
      "cell_type": "code",
      "execution_count": 277,
      "metadata": {
        "colab": {
          "base_uri": "https://localhost:8080/"
        },
        "id": "U55pI4Rgkvnw",
        "outputId": "d76d44bc-1ff2-4c39-b704-5595b2593201"
      },
      "outputs": [
        {
          "data": {
            "text/plain": [
              "<1x313 sparse matrix of type '<class 'numpy.float64'>'\n",
              "\twith 3 stored elements in Compressed Sparse Row format>"
            ]
          },
          "execution_count": 277,
          "metadata": {},
          "output_type": "execute_result"
        }
      ],
      "source": [
        "test_ = tfidf.transform(test['All'])\n",
        "test_"
      ]
    },
    {
      "cell_type": "code",
      "execution_count": 278,
      "metadata": {
        "colab": {
          "base_uri": "https://localhost:8080/"
        },
        "id": "raR1i5FV1ri5",
        "outputId": "377461cb-abf2-4171-fe33-17928c052cdd"
      },
      "outputs": [
        {
          "data": {
            "text/plain": [
              "<1x313 sparse matrix of type '<class 'numpy.float64'>'\n",
              "\twith 3 stored elements in Compressed Sparse Row format>"
            ]
          },
          "execution_count": 278,
          "metadata": {},
          "output_type": "execute_result"
        }
      ],
      "source": [
        "test_[0]"
      ]
    },
    {
      "cell_type": "code",
      "execution_count": 279,
      "metadata": {
        "colab": {
          "base_uri": "https://localhost:8080/"
        },
        "id": "vlhPCZ8Tl6fZ",
        "outputId": "753260c8-38b0-41fd-e15f-6cf72210ae93"
      },
      "outputs": [
        {
          "data": {
            "text/plain": [
              "TopKV2(values=<tf.Tensor: shape=(1, 3), dtype=float64, numpy=array([[0.34102758, 0.13925826, 0.12830023]])>, indices=<tf.Tensor: shape=(1, 3), dtype=int32, numpy=array([[15,  3,  0]])>)"
            ]
          },
          "execution_count": 279,
          "metadata": {},
          "output_type": "execute_result"
        }
      ],
      "source": [
        "top_k_result_lv2 = tf.math.top_k(lv2_model.predict_proba(test_), k=3, sorted=True)\n",
        "top_k_result_lv2"
      ]
    },
    {
      "cell_type": "code",
      "execution_count": 280,
      "metadata": {
        "colab": {
          "base_uri": "https://localhost:8080/"
        },
        "id": "Vf7tgY_7mBjm",
        "outputId": "35d65600-9d6c-445c-d32f-66931a452fe2"
      },
      "outputs": [
        {
          "data": {
            "text/plain": [
              "15"
            ]
          },
          "execution_count": 280,
          "metadata": {},
          "output_type": "execute_result"
        }
      ],
      "source": [
        "first = top_k_result_lv2[1][0][0]\n",
        "first = first.numpy()\n",
        "first"
      ]
    },
    {
      "cell_type": "code",
      "execution_count": 281,
      "metadata": {
        "colab": {
          "base_uri": "https://localhost:8080/",
          "height": 36
        },
        "id": "cwVCUGhDqpJB",
        "outputId": "74a473c9-78c0-472d-d9a7-62a1275e71c9"
      },
      "outputs": [
        {
          "data": {
            "text/plain": [
              "'소화불량/만성 복통'"
            ]
          },
          "execution_count": 281,
          "metadata": {},
          "output_type": "execute_result"
        }
      ],
      "source": [
        "lv2 = lv2_dummies[first]\n",
        "lv2"
      ]
    },
    {
      "cell_type": "code",
      "execution_count": 282,
      "metadata": {
        "colab": {
          "base_uri": "https://localhost:8080/"
        },
        "id": "ZSCZ7rjDel_4",
        "outputId": "9740e9a8-98e5-4837-87ab-2a5c4a279bf9"
      },
      "outputs": [
        {
          "data": {
            "text/plain": [
              "3"
            ]
          },
          "execution_count": 282,
          "metadata": {},
          "output_type": "execute_result"
        }
      ],
      "source": [
        "second = top_k_result_lv2[1][0][1]\n",
        "second = second.numpy()\n",
        "second"
      ]
    },
    {
      "cell_type": "code",
      "execution_count": 283,
      "metadata": {
        "colab": {
          "base_uri": "https://localhost:8080/",
          "height": 36
        },
        "id": "jAhG2mdyel_5",
        "outputId": "0e02186f-b384-420e-bf7c-55dfe089865d"
      },
      "outputs": [
        {
          "data": {
            "text/plain": [
              "'관절 통증'"
            ]
          },
          "execution_count": 283,
          "metadata": {},
          "output_type": "execute_result"
        }
      ],
      "source": [
        "lv2 = lv2_dummies[second]\n",
        "lv2"
      ]
    },
    {
      "cell_type": "code",
      "execution_count": 284,
      "metadata": {
        "colab": {
          "base_uri": "https://localhost:8080/"
        },
        "id": "a4oF9VPoemIM",
        "outputId": "49a7c860-62df-4170-fde7-ea18810334f0"
      },
      "outputs": [
        {
          "data": {
            "text/plain": [
              "0"
            ]
          },
          "execution_count": 284,
          "metadata": {},
          "output_type": "execute_result"
        }
      ],
      "source": [
        "third = top_k_result_lv2[1][0][2]\n",
        "third = third.numpy()\n",
        "third"
      ]
    },
    {
      "cell_type": "code",
      "execution_count": 285,
      "metadata": {
        "colab": {
          "base_uri": "https://localhost:8080/",
          "height": 36
        },
        "id": "ZUOdKhduemIN",
        "outputId": "48b7d352-c44b-4567-fbab-515b32b834f6"
      },
      "outputs": [
        {
          "data": {
            "text/plain": [
              "'가슴통증'"
            ]
          },
          "execution_count": 285,
          "metadata": {},
          "output_type": "execute_result"
        }
      ],
      "source": [
        "lv2 = lv2_dummies[third]\n",
        "lv2"
      ]
    },
    {
      "cell_type": "code",
      "execution_count": 286,
      "metadata": {},
      "outputs": [
        {
          "data": {
            "text/plain": [
              "'소화불량/만성 복통'"
            ]
          },
          "execution_count": 286,
          "metadata": {},
          "output_type": "execute_result"
        }
      ],
      "source": [
        "lv2 = lv2_dummies[first]\n",
        "lv2"
      ]
    },
    {
      "cell_type": "markdown",
      "metadata": {
        "id": "qn66eBErb-DR"
      },
      "source": [
        "['급성 복통' '소화불량/만성 복통' '토혈' '혈변' '구토' '변비' '설사' '황달' '관절 통증' '목 통증/허리 통증'\n",
        " '피부발진' '다뇨증' '핍뇨' '붉은색 소변' '배뇨 이상' '소변찔끔증' '기침' '콧물/코막힘' '객혈' '호흡곤란'\n",
        " '가슴통증' '실신' '두근거림' '고혈압' '월경이상/월경통' '유방통/유방덩이' '질 분비물']"
      ]
    },
    {
      "cell_type": "markdown",
      "metadata": {
        "id": "2eie8SYBu-IL"
      },
      "source": [
        "## lv2 추가 "
      ]
    },
    {
      "cell_type": "code",
      "execution_count": 153,
      "metadata": {
        "id": "T2Ziygm6cAfN"
      },
      "outputs": [],
      "source": [
        "level2=['급성 복통','소화불량/만성 복통','토혈' ,'혈변' ,'구토', '변비' ,'설사' ,'황달', '관절 통증' ,'목 통증/허리 통증',\n",
        " '피부발진' ,'다뇨증' ,'핍뇨' ,'붉은색 소변' ,'배뇨 이상' ,'소변찔끔증', '기침' ,'콧물/코막힘' ,'객혈', '호흡곤란',\n",
        " '가슴통증' ,'실신' ,'두근거림' ,'고혈압', '월경이상/월경통', '유방통/유방덩이', '질 분비물']"
      ]
    },
    {
      "cell_type": "code",
      "execution_count": 287,
      "metadata": {
        "id": "4xCF1shUd9eE"
      },
      "outputs": [],
      "source": [
        "import pandas as pd\n",
        "\n",
        "data.insert(0,\"level2\",[lv2],True)"
      ]
    },
    {
      "cell_type": "code",
      "execution_count": 288,
      "metadata": {
        "colab": {
          "base_uri": "https://localhost:8080/",
          "height": 440
        },
        "id": "i-mTasS3chgB",
        "outputId": "26cbce5c-d8ff-4147-89c4-ce2b613aa205"
      },
      "outputs": [
        {
          "data": {
            "text/html": [
              "<div>\n",
              "<style scoped>\n",
              "    .dataframe tbody tr th:only-of-type {\n",
              "        vertical-align: middle;\n",
              "    }\n",
              "\n",
              "    .dataframe tbody tr th {\n",
              "        vertical-align: top;\n",
              "    }\n",
              "\n",
              "    .dataframe thead th {\n",
              "        text-align: right;\n",
              "    }\n",
              "</style>\n",
              "<table border=\"1\" class=\"dataframe\">\n",
              "  <thead>\n",
              "    <tr style=\"text-align: right;\">\n",
              "      <th></th>\n",
              "      <th>level2</th>\n",
              "      <th>Height</th>\n",
              "      <th>Weight</th>\n",
              "      <th>Age</th>\n",
              "      <th>Chief complaint</th>\n",
              "      <th>Sex</th>\n",
              "      <th>Onset</th>\n",
              "      <th>Location</th>\n",
              "      <th>Duration</th>\n",
              "      <th>Course</th>\n",
              "      <th>Experience</th>\n",
              "      <th>Character</th>\n",
              "      <th>Associated Sx.</th>\n",
              "      <th>Factor</th>\n",
              "      <th>Event</th>\n",
              "      <th>약물 투약력</th>\n",
              "      <th>사회력</th>\n",
              "      <th>가족력</th>\n",
              "      <th>외상력</th>\n",
              "      <th>과거력</th>\n",
              "      <th>여성력</th>\n",
              "      <th>BMI</th>\n",
              "      <th>Obesity</th>\n",
              "    </tr>\n",
              "  </thead>\n",
              "  <tbody>\n",
              "    <tr>\n",
              "      <th>0</th>\n",
              "      <td>소화불량/만성 복통</td>\n",
              "      <td>180</td>\n",
              "      <td>75</td>\n",
              "      <td>30대</td>\n",
              "      <td>배가 아파요</td>\n",
              "      <td>남자</td>\n",
              "      <td>1일 전</td>\n",
              "      <td>명치 부위</td>\n",
              "      <td>지속</td>\n",
              "      <td>심해짐</td>\n",
              "      <td>이전에도 3차례, 통증은 이번보다 약했음</td>\n",
              "      <td>칼로 찢기는 듯한 통증, NRS 8점, 방사통: 등으로 퍼짐</td>\n",
              "      <td>구토, 속쓰림, 어지러움, 갈증, 소변량 감소</td>\n",
              "      <td>오른쪽으로 돌아 누우면 완화</td>\n",
              "      <td></td>\n",
              "      <td></td>\n",
              "      <td>술: 1주일 6~7번, 식사는 매우 불규칙</td>\n",
              "      <td></td>\n",
              "      <td></td>\n",
              "      <td></td>\n",
              "      <td></td>\n",
              "      <td>23.148148</td>\n",
              "      <td>정상</td>\n",
              "    </tr>\n",
              "  </tbody>\n",
              "</table>\n",
              "</div>"
            ],
            "text/plain": [
              "       level2  Height  Weight  Age Chief complaint Sex Onset Location  \\\n",
              "0  소화불량/만성 복통     180      75  30대          배가 아파요  남자  1일 전    명치 부위   \n",
              "\n",
              "  Duration Course              Experience                          Character  \\\n",
              "0       지속    심해짐  이전에도 3차례, 통증은 이번보다 약했음  칼로 찢기는 듯한 통증, NRS 8점, 방사통: 등으로 퍼짐   \n",
              "\n",
              "              Associated Sx.           Factor Event 약물 투약력  \\\n",
              "0  구토, 속쓰림, 어지러움, 갈증, 소변량 감소  오른쪽으로 돌아 누우면 완화                \n",
              "\n",
              "                       사회력 가족력 외상력 과거력 여성력        BMI Obesity  \n",
              "0  술: 1주일 6~7번, 식사는 매우 불규칙                  23.148148      정상  "
            ]
          },
          "execution_count": 288,
          "metadata": {},
          "output_type": "execute_result"
        }
      ],
      "source": [
        "data"
      ]
    },
    {
      "cell_type": "code",
      "execution_count": 289,
      "metadata": {
        "colab": {
          "base_uri": "https://localhost:8080/"
        },
        "id": "Z1kgjo0gcODw",
        "outputId": "d6082455-5c1e-408b-a9b4-7ff626781f4f"
      },
      "outputs": [
        {
          "data": {
            "text/plain": [
              "0    소화불량/만성 복통\n",
              "Name: level2, dtype: object"
            ]
          },
          "execution_count": 289,
          "metadata": {},
          "output_type": "execute_result"
        }
      ],
      "source": [
        "data['level2']"
      ]
    },
    {
      "cell_type": "code",
      "execution_count": 290,
      "metadata": {
        "id": "g-wh0BcKsfF3"
      },
      "outputs": [],
      "source": [
        "# Make a sentence\n",
        "data['All'] = (data['level2'].values + '. '+\n",
        "                  data['Chief complaint'].values +'. '+ data['Age'].values + '. '+\n",
        "                  data['Onset'].values + '. '+ data['Location'].values + '. ' +\n",
        "                  data['Sex'].values + '. '+\n",
        "                  data['Duration'].values + '. ' + data['Course'].values + '. ' +\n",
        "                  data['Experience'].values + '. ' + data['Character'].values + '. ' +\n",
        "                  data['Associated Sx.'].values+'. '+ data['Factor'].values + '. ' +\n",
        "                  data['Event'].values + '. ' + data['약물 투약력'].values + '. ' +\n",
        "                  data['사회력'].values + '. ' + data['가족력'].values + '. ' +\n",
        "                  data['외상력'].values + '. ' + data['과거력'].values + '. ' +\n",
        "                  data['여성력'].values + '. ' + data['Obesity'].values)"
      ]
    },
    {
      "cell_type": "code",
      "execution_count": 291,
      "metadata": {
        "id": "3WND1APXKX10"
      },
      "outputs": [],
      "source": [
        "# Change NRS to text\n",
        "data['All'] = NRS_to_text(data['All'].values[0])\n",
        "\n",
        "# Spelling Check\n",
        "data['All'] = spelling_check(data['All'].values[0])\n",
        "\n",
        "# Erase stopwords using konlpy\n",
        "data['All'] = erase_stopwords(data['All'].values[0])"
      ]
    },
    {
      "cell_type": "code",
      "execution_count": 292,
      "metadata": {
        "id": "SQXbjcsNgVIZ"
      },
      "outputs": [],
      "source": [
        "data['All'] = only_letters_num(data['All'].values)\n",
        "document_bert_data = [\"[CLS] \" + str(s) + \" [SEP]\" for s in data['All'].values]"
      ]
    },
    {
      "cell_type": "code",
      "execution_count": 293,
      "metadata": {
        "colab": {
          "base_uri": "https://localhost:8080/"
        },
        "id": "4eHWyJQKgVpF",
        "outputId": "36167933-ad1c-4017-b642-1cb9d13bb18c"
      },
      "outputs": [
        {
          "data": {
            "text/plain": [
              "['[CLS] 소화 불량 만성 복통 배 아프다 30 대다 1일 명치 부위 남자 심해지다 이전 에도 3 차례 통증 보다 약하다 칼 찢기다 듯 한 통증 심하다 방사 통 등 퍼지다 구토 쓰리다 어지러움 갈증 소 변량 감소 오른쪽 돌 아누 우 면 완화 술 1 6 7 번 식사 매우 불규칙 정상 [SEP]']"
            ]
          },
          "execution_count": 293,
          "metadata": {},
          "output_type": "execute_result"
        }
      ],
      "source": [
        "document_bert_data"
      ]
    },
    {
      "cell_type": "code",
      "execution_count": 294,
      "metadata": {
        "id": "BUD1a8b3g2dZ"
      },
      "outputs": [],
      "source": [
        "tokenizer_funnel = FunnelTokenizerFast.from_pretrained(\"kykim/funnel-kor-base\")"
      ]
    },
    {
      "cell_type": "code",
      "execution_count": 241,
      "metadata": {},
      "outputs": [],
      "source": [
        "\n",
        "def w_predict(x):\n",
        "  example = tf.train.Example()\n",
        "  example.features.feature[\"x\"].float_list.value.extend([x])\n",
        "  return w_loaded_model.signatures[\"predict\"](\n",
        "    examples=tf.constant([example.SerializeToString()]))"
      ]
    },
    {
      "cell_type": "code",
      "execution_count": 242,
      "metadata": {},
      "outputs": [],
      "source": [
        "def m_predict(x):\n",
        "  example = tf.train.Example()\n",
        "  example.features.feature[\"x\"].float_list.value.extend([x])\n",
        "  return m_loaded_model.signatures[\"predict\"](\n",
        "    examples=tf.constant([example.SerializeToString()]))"
      ]
    },
    {
      "cell_type": "code",
      "execution_count": 295,
      "metadata": {
        "id": "OvXABndaj-Q2"
      },
      "outputs": [],
      "source": [
        "if data['Sex'].values =='여자':\n",
        "  ko_tokenized_texts_data = [tokenizer_funnel.tokenize(s) for s in document_bert_data]\n",
        "  data_sequence = w_tokenizer.texts_to_sequences(ko_tokenized_texts_data)\n",
        "  data_sequence = tf.keras.preprocessing.sequence.pad_sequences(data_sequence, maxlen = w_max_len).reshape(1,-1)\n",
        "  #infer = w_loaded_model.signatures[\"serving_default\"]\n",
        "  y_prob = w_loaded_model(data_sequence)\n",
        "  print(y_prob)\n",
        "  top_k_result = tf.math.top_k(y_prob, k=3, sorted=True)\n",
        "\n",
        "  first = top_k_result[1][0][0], top_k_result.values.numpy()[0][0]\n",
        "  second = top_k_result[1][0][1], top_k_result.values.numpy()[0][1]\n",
        "  third = top_k_result[1][0][2], top_k_result.values.numpy()[0][2]\n",
        "\n",
        "  first_pred_disease_name = w_disease_codes[int(first[0])]\n",
        "  second_pred_disease_name = w_disease_codes[int(second[0])]\n",
        "  third_pred_disease_name = w_disease_codes[int(third[0])]"
      ]
    },
    {
      "cell_type": "code",
      "execution_count": 296,
      "metadata": {
        "id": "I9EWaVCLt6_o"
      },
      "outputs": [
        {
          "name": "stdout",
          "output_type": "stream",
          "text": [
            "tf.Tensor(\n",
            "[[1.27036843e-08 2.85119633e-04 3.55513694e-05 1.22362953e-05\n",
            "  2.18056198e-06 1.59224367e-09 1.35331579e-13 3.12157368e-07\n",
            "  1.10429630e-08 7.26182081e-13 1.77662714e-05 5.93588120e-05\n",
            "  3.37057600e-08 1.76003368e-06 2.52515892e-05 6.18323065e-06\n",
            "  6.99359637e-09 2.01685165e-04 2.94262190e-05 1.97205256e-04\n",
            "  1.82656390e-06 5.82515531e-06 1.40971004e-03 7.22349505e-05\n",
            "  1.40916541e-07 1.75502137e-05 1.79029655e-07 9.33812680e-06\n",
            "  1.50779940e-07 9.89044202e-05 1.52753171e-06 1.30112903e-05\n",
            "  1.12798683e-04 1.69724582e-11 3.42653439e-05 1.15226960e-10\n",
            "  7.20059802e-07 8.96913843e-05 4.28057461e-07 6.31314037e-07\n",
            "  4.53700494e-07 3.59846279e-04 1.48032626e-07 3.64131921e-07\n",
            "  1.20259545e-08 7.87424564e-04 8.19262823e-06 1.23885386e-07\n",
            "  1.67661041e-09 9.90838453e-06 3.77660363e-05 1.11722456e-05\n",
            "  6.79172940e-09 2.53873242e-08 8.97596575e-09 7.69162114e-07\n",
            "  1.41361255e-07 8.91287755e-09 6.39012565e-10 4.22544622e-09\n",
            "  1.55184674e-03 6.36892025e-07 1.09015469e-04 6.64485106e-06\n",
            "  5.24464042e-07 5.61537661e-07 7.48746515e-07 1.64057301e-09\n",
            "  6.39472763e-12 2.04717381e-07 2.29512906e-08 2.42160735e-04\n",
            "  4.28303473e-08 2.01981862e-07 6.05523951e-08 9.68261020e-07\n",
            "  6.97481681e-08 4.43420367e-06 5.65289213e-07 2.69105840e-06\n",
            "  2.85902146e-08 2.73804202e-09 1.34415295e-05 1.79454275e-07\n",
            "  9.88875508e-01 6.83177632e-06 3.46511206e-06 3.56887426e-07\n",
            "  2.73380520e-05 1.06935832e-03 5.26186923e-05 1.46174373e-09\n",
            "  4.67497390e-04 2.17572065e-07 7.54440919e-08 3.44301676e-09\n",
            "  2.49401592e-06 2.08822485e-06 9.62582103e-09 4.39776016e-07\n",
            "  4.53022966e-11 1.01209267e-07 3.26636318e-08 1.80919887e-05\n",
            "  1.00085254e-06 8.60505679e-06 1.12655239e-10 1.40493561e-09\n",
            "  2.94927416e-09 7.28373473e-10 3.97155309e-05 3.15153511e-06\n",
            "  7.70096522e-05 4.48485371e-05 3.24915459e-06 5.82849789e-05\n",
            "  1.47221417e-05 3.41674022e-04 1.00119578e-05 3.77841729e-06\n",
            "  6.99574184e-06 1.79738504e-06 7.14891979e-10 7.28047067e-10\n",
            "  3.81782638e-06 3.45242916e-06 3.67780544e-08 8.14333191e-07\n",
            "  6.05264131e-06 2.41066573e-07 1.53382321e-10 2.59881563e-06\n",
            "  3.14437642e-07 2.27178898e-08 6.21638537e-05 2.34282936e-07\n",
            "  4.70988084e-07 1.74519570e-07 3.32311494e-04 1.44825040e-04\n",
            "  3.30287207e-06 1.11838165e-08 7.68483144e-09 7.73060456e-05\n",
            "  5.96631631e-13 3.06900301e-06 2.05147080e-06 6.76708441e-05\n",
            "  3.37340248e-06 9.16905833e-07 3.78369225e-10 1.47024491e-06\n",
            "  8.53202266e-07 1.17286291e-07 5.10655111e-04 6.34492181e-10\n",
            "  7.70461561e-09 2.26192901e-06 6.06376886e-08 1.26742776e-08\n",
            "  2.41718993e-07 7.63119290e-10 1.44273019e-03 5.05222779e-05\n",
            "  5.48840724e-08 1.64509720e-06 4.61378225e-09 2.86886661e-05\n",
            "  1.65390404e-07 6.52927579e-09 1.73866113e-06 6.48193236e-05\n",
            "  6.67977105e-08 6.28539851e-07 8.22954220e-08 1.21650226e-06\n",
            "  9.81086760e-06 1.21082837e-06 3.60606145e-06 2.39266319e-05\n",
            "  1.92069485e-11 3.00656648e-05 1.61416537e-07 1.43570260e-05\n",
            "  2.15154614e-07 6.86681369e-06 7.47035767e-10 4.96832981e-05\n",
            "  3.15634772e-08 9.27215240e-07]], shape=(1, 190), dtype=float32)\n"
          ]
        }
      ],
      "source": [
        "if data['Sex'].values =='남자':\n",
        "  ko_tokenized_texts_data = [tokenizer_funnel.tokenize(s) for s in document_bert_data]\n",
        "  data_sequence = m_tokenizer.texts_to_sequences(ko_tokenized_texts_data)\n",
        "  data_sequence = tf.keras.preprocessing.sequence.pad_sequences(data_sequence, maxlen = m_max_len).reshape(1,-1)\n",
        "  #infer = m_loaded_model.signatures[\"serving_default\"]\n",
        "  y_prob = m_loaded_model(data_sequence)\n",
        "  print(y_prob)\n",
        "  top_k_result = tf.math.top_k(y_prob, k=3, sorted=True)\n",
        "  first = top_k_result[1][0][0], top_k_result.values.numpy()[0][0]\n",
        "  second = top_k_result[1][0][1], top_k_result.values.numpy()[0][1]\n",
        "  third = top_k_result[1][0][2], top_k_result.values.numpy()[0][2]\n",
        "  \n",
        "  first_pred_disease_name = m_disease_codes[int(first[0])]\n",
        "  second_pred_disease_name = m_disease_codes[int(second[0])]\n",
        "  third_pred_disease_name = m_disease_codes[int(third[0])]"
      ]
    },
    {
      "cell_type": "code",
      "execution_count": 297,
      "metadata": {
        "colab": {
          "base_uri": "https://localhost:8080/",
          "height": 718
        },
        "id": "BejjI5svsfF5",
        "outputId": "dc53a254-f932-4936-d2a5-c001ec980a86"
      },
      "outputs": [
        {
          "data": {
            "text/html": [
              "<div>\n",
              "<style scoped>\n",
              "    .dataframe tbody tr th:only-of-type {\n",
              "        vertical-align: middle;\n",
              "    }\n",
              "\n",
              "    .dataframe tbody tr th {\n",
              "        vertical-align: top;\n",
              "    }\n",
              "\n",
              "    .dataframe thead th {\n",
              "        text-align: right;\n",
              "    }\n",
              "</style>\n",
              "<table border=\"1\" class=\"dataframe\">\n",
              "  <thead>\n",
              "    <tr style=\"text-align: right;\">\n",
              "      <th></th>\n",
              "      <th>level2</th>\n",
              "      <th>Height</th>\n",
              "      <th>Weight</th>\n",
              "      <th>Age</th>\n",
              "      <th>Chief complaint</th>\n",
              "      <th>Sex</th>\n",
              "      <th>Onset</th>\n",
              "      <th>Location</th>\n",
              "      <th>Duration</th>\n",
              "      <th>Course</th>\n",
              "      <th>Experience</th>\n",
              "      <th>Character</th>\n",
              "      <th>Associated Sx.</th>\n",
              "      <th>Factor</th>\n",
              "      <th>Event</th>\n",
              "      <th>약물 투약력</th>\n",
              "      <th>사회력</th>\n",
              "      <th>가족력</th>\n",
              "      <th>외상력</th>\n",
              "      <th>과거력</th>\n",
              "      <th>여성력</th>\n",
              "      <th>BMI</th>\n",
              "      <th>Obesity</th>\n",
              "      <th>All</th>\n",
              "    </tr>\n",
              "  </thead>\n",
              "  <tbody>\n",
              "    <tr>\n",
              "      <th>0</th>\n",
              "      <td>소화불량/만성 복통</td>\n",
              "      <td>180</td>\n",
              "      <td>75</td>\n",
              "      <td>30대</td>\n",
              "      <td>배가 아파요</td>\n",
              "      <td>남자</td>\n",
              "      <td>1일 전</td>\n",
              "      <td>명치 부위</td>\n",
              "      <td>지속</td>\n",
              "      <td>심해짐</td>\n",
              "      <td>이전에도 3차례, 통증은 이번보다 약했음</td>\n",
              "      <td>칼로 찢기는 듯한 통증, NRS 8점, 방사통: 등으로 퍼짐</td>\n",
              "      <td>구토, 속쓰림, 어지러움, 갈증, 소변량 감소</td>\n",
              "      <td>오른쪽으로 돌아 누우면 완화</td>\n",
              "      <td></td>\n",
              "      <td></td>\n",
              "      <td>술: 1주일 6~7번, 식사는 매우 불규칙</td>\n",
              "      <td></td>\n",
              "      <td></td>\n",
              "      <td></td>\n",
              "      <td></td>\n",
              "      <td>23.148148</td>\n",
              "      <td>정상</td>\n",
              "      <td>소화 불량 만성 복통 배 아프다 30 대다 1일 명치 부위 남자 심해지다 이전 에도...</td>\n",
              "    </tr>\n",
              "  </tbody>\n",
              "</table>\n",
              "</div>"
            ],
            "text/plain": [
              "       level2  Height  Weight  Age Chief complaint Sex Onset Location  \\\n",
              "0  소화불량/만성 복통     180      75  30대          배가 아파요  남자  1일 전    명치 부위   \n",
              "\n",
              "  Duration Course              Experience                          Character  \\\n",
              "0       지속    심해짐  이전에도 3차례, 통증은 이번보다 약했음  칼로 찢기는 듯한 통증, NRS 8점, 방사통: 등으로 퍼짐   \n",
              "\n",
              "              Associated Sx.           Factor Event 약물 투약력  \\\n",
              "0  구토, 속쓰림, 어지러움, 갈증, 소변량 감소  오른쪽으로 돌아 누우면 완화                \n",
              "\n",
              "                       사회력 가족력 외상력 과거력 여성력        BMI Obesity  \\\n",
              "0  술: 1주일 6~7번, 식사는 매우 불규칙                  23.148148      정상   \n",
              "\n",
              "                                                 All  \n",
              "0  소화 불량 만성 복통 배 아프다 30 대다 1일 명치 부위 남자 심해지다 이전 에도...  "
            ]
          },
          "execution_count": 297,
          "metadata": {},
          "output_type": "execute_result"
        }
      ],
      "source": [
        "data"
      ]
    },
    {
      "cell_type": "code",
      "execution_count": null,
      "metadata": {
        "id": "2jHGtPA9sfF7"
      },
      "outputs": [],
      "source": [
        "#콜레스테롤 높다 대요 60 대다 여자 1 개월 처음 습관 운동 함 12년 폐경 과체중\n",
        "# 두근거리다 50 대다 여자 1일 3시간 6 개월 부터 기적 규칙 빠르다 홍조 더위 견디다 못 불면 생리 량 감소 정상"
      ]
    },
    {
      "cell_type": "markdown",
      "metadata": {
        "id": "fpfpGaYQZ3rQ"
      },
      "source": [
        "# **Transformer_v1**\n",
        "\n"
      ]
    },
    {
      "cell_type": "code",
      "execution_count": null,
      "metadata": {
        "id": "gfwXe5nLZlqQ"
      },
      "outputs": [],
      "source": [
        "'''\n",
        "women\n",
        "Accuracy of Test: 0.7541   v1    소화성 71.36\n",
        "Precision of Test: 0.8792\n",
        "top_k_result: 0.8361\n",
        "\n",
        "Accuracy of Test: 0.7814    v2    256,8,64   정확도 높고 top_k도 높음 소화성 79.23\n",
        "Precision of Test: 0.8767\n",
        "top_k_result: 0.8543\n",
        "\n",
        "Accuracy of Test: 0.7559    v2_1  256,8,256  256,8,256  소화성 94.87 150\n",
        "Precision of Test: 0.8487\n",
        "top_k_result: 0.8543\n",
        "\n",
        "Accuracy of Test: 0.7668   v2_2   256,8,256  소화성 궤양 99.81 % 자궁내막증 99.81 %\n",
        "Precision of Test: 0.8450\n",
        "top_k_result: 0.8670\n",
        "\n",
        "Accuracy of Test: 0.7907    lv2   소화성 궤양 93.04 % \n",
        "Precision of Test: 0.8534\n",
        "top_k_result: 0.8909\n",
        "\n",
        "Accuracy of Test: 0.7925\n",
        "Precision of Test: 0.8382\n",
        "top_k_result: 0.9016\n",
        "\n",
        "\n",
        "\n",
        "\n",
        "\n",
        "men\n",
        "Accuracy of Test: 0.7798        정상적으로 나왔으나 Transformer보다는 낮음 -> 모델 x\n",
        "Precision of Test: 0.8682\n",
        "top_k_result: 0.8626\n",
        "\n",
        "Accuracy of Test: 0.8000        성능 높으나 진단명 이상 v1\n",
        "Precision of Test: 0.8658\n",
        "top_k_result: 0.8788\n",
        "\n",
        "Accuracy of Test: 0.7939       top_k_result가 더 낮음 v1_\n",
        "Precision of Test: 0.8568\n",
        "top_k_result: 0.8606\n",
        "\n",
        "Accuracy of Test: 0.7838     top_k 완전 높음!!!    v1_1  성능은 밑에\n",
        "Precision of Test: 0.8604\n",
        "top_k_result: 0.8828\n",
        "\n",
        "Accuracy of Test: 0.8000     역시 성능 좋으나 진단 정확도 낮다고 뜸 v1_2\n",
        "Precision of Test: 0.8641\n",
        "top_k_result: 0.8727\n",
        "\n",
        "Accuracy of Test: 0.8020         v2  정확도 높고 top_k도 높은 편 소화성 93.49\n",
        "Precision of Test: 0.8559\n",
        "top_k_result: 0.8747\n",
        "\n",
        "Accuracy of Test: 0.8061        v2_2 정확도 제일 높고 top_k 0.9 나옴 진단 확률도 높음\n",
        "Precision of Test: 0.8568\n",
        "top_k_result: 0.9071\n",
        "\n",
        "Accuracy of Test: 0.7984      lv2\n",
        "Precision of Test: 0.8603\n",
        "top_k_result: 0.8814\n",
        "'''"
      ]
    },
    {
      "cell_type": "code",
      "execution_count": null,
      "metadata": {
        "id": "U2-t3UJ9wXjw"
      },
      "outputs": [],
      "source": []
    },
    {
      "cell_type": "markdown",
      "metadata": {
        "id": "hoaHxd05wYUL"
      },
      "source": [
        "## Men"
      ]
    },
    {
      "cell_type": "code",
      "execution_count": 298,
      "metadata": {
        "colab": {
          "base_uri": "https://localhost:8080/"
        },
        "id": "O8TOx4fRZ3rR",
        "outputId": "7ca23ac2-bcf3-444a-eb61-14dea6342841"
      },
      "outputs": [
        {
          "name": "stdout",
          "output_type": "stream",
          "text": [
            "소화성 궤양 98.89 % \n",
            " 동의어: 소화성 궤양,십이지장 궤양\n",
            " 진료과:  소화기내과, 노년내과\n",
            " 질병 설명: 위궤양은 위점막이 헐어서 궤양이 점막뿐만 아니라 근육층까지 침범한 것을 말합니다.\n"
          ]
        }
      ],
      "source": [
        "first_info = aa[aa['원 질병이름'] == first_pred_disease_name]\n",
        "print(first_pred_disease_name, round(first[1]*100, 2),'%','\\n',\n",
        "      '동의어:', first_info['동의어'].values[0]+'\\n',\n",
        "      '진료과: ', first_info['진료과'].values[0]+'\\n',\n",
        "      '질병 설명:', first_info['정의'].values[0]\n",
        "      )"
      ]
    },
    {
      "cell_type": "code",
      "execution_count": 299,
      "metadata": {
        "colab": {
          "base_uri": "https://localhost:8080/",
          "height": 36
        },
        "id": "Rjeypm6IZ3rR",
        "outputId": "2bc77cfc-bc9a-4f11-9cbd-57680f6201bc"
      },
      "outputs": [
        {
          "data": {
            "text/plain": [
              "'소화기내과, 노년내과'"
            ]
          },
          "execution_count": 299,
          "metadata": {},
          "output_type": "execute_result"
        }
      ],
      "source": [
        "first_info = aa[aa['원 질병이름'] == first_pred_disease_name]\n",
        "first_info['진료과'].values[0]\n"
      ]
    },
    {
      "cell_type": "code",
      "execution_count": 300,
      "metadata": {
        "colab": {
          "base_uri": "https://localhost:8080/"
        },
        "id": "92LcsIBHZ3rR",
        "outputId": "b286bce0-668d-4e56-df75-ed598574bf72"
      },
      "outputs": [
        {
          "name": "stdout",
          "output_type": "stream",
          "text": [
            "미주신경성 실신 0.16 % \n",
            " 동의어: 미주신경성 실신,혈관미주신경성 실신\n",
            " 진료과:  심장내과\n",
            " 질병 설명: 실신은 갑자기 일시적으로 의식을 잃고 쓰러지는 것을 의미합니다.\n"
          ]
        }
      ],
      "source": [
        "second_info = aa[aa['원 질병이름'] == second_pred_disease_name]\n",
        "print(second_pred_disease_name, round(second[1]*100, 2),'%','\\n',\n",
        "      '동의어:', second_info['동의어'].values[0]+'\\n',\n",
        "      '진료과: ', second_info['진료과'].values[0]+'\\n',\n",
        "      '질병 설명:', second_info['정의'].values[0]\n",
        "      )"
      ]
    },
    {
      "cell_type": "code",
      "execution_count": 301,
      "metadata": {
        "colab": {
          "base_uri": "https://localhost:8080/"
        },
        "id": "o61QWgkHZ3rR",
        "outputId": "365cf647-7216-4961-84a8-67faf11e7a8a"
      },
      "outputs": [
        {
          "name": "stdout",
          "output_type": "stream",
          "text": [
            "척추관 협착증 0.14 % \n",
            " 동의어: 디스크,척추관 협착증,퇴행성 척추관 협착증,허리 디스크\n",
            " 진료과:  마취통증의학과, 신경외과, 정형외과\n",
            " 질병 설명: 여러 개의 작은 척추뼈가 모여서 척추라는 인체의 기둥을 이룹니다. 척추뼈 사이에는 척추뼈끼리 부딪치는 것을 막아주는 쿠션 같은 역할을 하는 '디스크(disc)'라는 말랑말랑한 젤리 같은 구조물이 있습니다. 우리말로는 '추간판'이라고 합니다. 디스크(추간판)의 한가운데에는 젤리같이 찐득찐득한 '수핵'이라는 물질이 들어 있습니다. 그 주변에 수핵을 둘러싸는 '섬유륜'이라는 두꺼운 막이 있습니다. 디스크는 전체적으로 자동차의 타이어와 같은 형태입니다. 디스크는 일어선 상태에서는 중력을 받아 납작해져서 바깥쪽으로 약간 볼록한 형태가 됩니다. 디스크는 그 특수한 구조 때문에 웬만한 힘이 가해져도 효율적으로 쿠션 역할을 할 수 있습니다. 그러나 갑자기 무거운 물건을 들어 올리거나, 부자연스러운 자세를 오랫동안 취하면 디스크에 무리한 힘이 가해지면서 디스크가 밖으로 돌출됩니다. 심한 경우 디스크를 감싼 막이 터지면서 그 안에 있는 수핵이 튀어나옵니다. 디스크는 대개 후방이나 후외방으로 돌출됩니다. 이때 바로 곁에 있는 신경을 누르게 됩니다. 돌출된 디스크는 척추의 어느 부위에나 생길 수 있습니다. 목에 생기면 '목 디스크', 등에 생기면 '등 디스크', 허리에 생기면 '허리 디스크'라고 부릅니다. 이와 같이 디스크가 돌출되어 신경을 눌러 요통 및 다리가 아프고 저린 증상을 일으키는 병을 '추간판 탈출증' 또는 '디스크 탈출증'이라고 합니다. 발생 빈도별로 보면 허리 디스크가 가장 흔합니다. 그다음이 목 디스크입니다. 등 디스크는 드문 병입니다.\n"
          ]
        }
      ],
      "source": [
        "third_info = aa[aa['원 질병이름'] == third_pred_disease_name]\n",
        "print(third_pred_disease_name, round(third[1]*100, 2),'%','\\n',\n",
        "      '동의어:', third_info['동의어'].values[0]+'\\n',\n",
        "      '진료과: ', third_info['진료과'].values[0]+'\\n',\n",
        "      '질병 설명:', third_info['정의'].values[0]\n",
        "      )"
      ]
    },
    {
      "cell_type": "code",
      "execution_count": null,
      "metadata": {},
      "outputs": [],
      "source": []
    },
    {
      "cell_type": "code",
      "execution_count": null,
      "metadata": {},
      "outputs": [],
      "source": []
    },
    {
      "cell_type": "code",
      "execution_count": null,
      "metadata": {
        "colab": {
          "base_uri": "https://localhost:8080/"
        },
        "id": "O8TOx4fRZ3rR",
        "outputId": "7ca23ac2-bcf3-444a-eb61-14dea6342841"
      },
      "outputs": [
        {
          "name": "stdout",
          "output_type": "stream",
          "text": [
            "소화성 궤양 99.85 % \n",
            " 동의어: 소화성 궤양,십이지장 궤양\n",
            " 진료과:  소화기내과, 노년내과\n",
            " 질병 설명: 위궤양은 위점막이 헐어서 궤양이 점막뿐만 아니라 근육층까지 침범한 것을 말합니다.\n"
          ]
        }
      ],
      "source": [
        "first_info = aa[aa['원 질병이름'] == first_pred_disease_name]\n",
        "print(first_pred_disease_name, round(first[1]*100, 2),'%','\\n',\n",
        "      '동의어:', first_info['동의어'].values[0]+'\\n',\n",
        "      '진료과: ', first_info['진료과'].values[0]+'\\n',\n",
        "      '질병 설명:', first_info['정의'].values[0]\n",
        "      )"
      ]
    },
    {
      "cell_type": "code",
      "execution_count": null,
      "metadata": {
        "colab": {
          "base_uri": "https://localhost:8080/",
          "height": 36
        },
        "id": "Rjeypm6IZ3rR",
        "outputId": "2bc77cfc-bc9a-4f11-9cbd-57680f6201bc"
      },
      "outputs": [
        {
          "data": {
            "application/vnd.google.colaboratory.intrinsic+json": {
              "type": "string"
            },
            "text/plain": [
              "'소화기내과, 노년내과'"
            ]
          },
          "metadata": {},
          "output_type": "display_data"
        }
      ],
      "source": [
        "first_info = aa[aa['원 질병이름'] == first_pred_disease_name]\n",
        "first_info['진료과'].values[0]\n"
      ]
    },
    {
      "cell_type": "code",
      "execution_count": null,
      "metadata": {
        "colab": {
          "base_uri": "https://localhost:8080/"
        },
        "id": "92LcsIBHZ3rR",
        "outputId": "b286bce0-668d-4e56-df75-ed598574bf72"
      },
      "outputs": [
        {
          "name": "stdout",
          "output_type": "stream",
          "text": [
            "역류성 식도염 0.02 % \n",
            " 동의어: 역류성 식도염,위 식도 역류질환\n",
            " 진료과:  가정의학과, 소화기내과, 위장관외과, 소아소화기영양과\n",
            " 질병 설명: 위식도 역류성 질환은 위 내용물이 소량씩 식도로 역류하고, 이러한 역류의 과정이 반복되어 식도 점막이 손상되어 염증이 나타나는 질환을 의미합니다. 이는 위와 식도 사이에서 위의 내용물이 식도로 올라오는 것을 막아 주는 조임쇠 역할을 하는 괄약근에 이상이 생겨 발생합니다.\n"
          ]
        }
      ],
      "source": [
        "second_info = aa[aa['원 질병이름'] == second_pred_disease_name]\n",
        "print(second_pred_disease_name, round(second[1]*100, 2),'%','\\n',\n",
        "      '동의어:', second_info['동의어'].values[0]+'\\n',\n",
        "      '진료과: ', second_info['진료과'].values[0]+'\\n',\n",
        "      '질병 설명:', second_info['정의'].values[0]\n",
        "      )"
      ]
    },
    {
      "cell_type": "code",
      "execution_count": null,
      "metadata": {
        "colab": {
          "base_uri": "https://localhost:8080/"
        },
        "id": "o61QWgkHZ3rR",
        "outputId": "365cf647-7216-4961-84a8-67faf11e7a8a"
      },
      "outputs": [
        {
          "name": "stdout",
          "output_type": "stream",
          "text": [
            "식도정맥류 0.02 % \n",
            " 동의어: Esophageal Varix\n",
            " 진료과:  소화기내과\n",
            " 질병 설명: 식도 정맥류는 식도에 있는 정맥이 혹처럼 부풀어 오르는 질환입니다. 이 질환은 간경변증의 주요 합병증입니다. 식도 정맥류는 출혈이 발생할 경우 사망률이 12~22%에 달하는 응급 질환입니다. 간경변증 환자의 주요 사망 원인 중 하나입니다.\n"
          ]
        }
      ],
      "source": [
        "third_info = aa[aa['원 질병이름'] == third_pred_disease_name]\n",
        "print(third_pred_disease_name, round(third[1]*100, 2),'%','\\n',\n",
        "      '동의어:', third_info['동의어'].values[0]+'\\n',\n",
        "      '진료과: ', third_info['진료과'].values[0]+'\\n',\n",
        "      '질병 설명:', third_info['정의'].values[0]\n",
        "      )"
      ]
    },
    {
      "cell_type": "code",
      "execution_count": null,
      "metadata": {
        "colab": {
          "base_uri": "https://localhost:8080/"
        },
        "id": "fTmxqH9Tgmik",
        "outputId": "6401d4b1-e9ef-48c8-82a5-8bd940adaa35"
      },
      "outputs": [
        {
          "name": "stdout",
          "output_type": "stream",
          "text": [
            "소화성 궤양 99.85 % \n",
            " 동의어: 소화성 궤양,십이지장 궤양\n",
            " 진료과:  소화기내과, 노년내과\n",
            " 질병 설명: 위궤양은 위점막이 헐어서 궤양이 점막뿐만 아니라 근육층까지 침범한 것을 말합니다.\n"
          ]
        }
      ],
      "source": [
        "first_info = aa[aa['원 질병이름'] == first_pred_disease_name]\n",
        "print(first_pred_disease_name, round(first[1]*100, 2),'%','\\n',\n",
        "      '동의어:', first_info['동의어'].values[0]+'\\n',\n",
        "      '진료과: ', first_info['진료과'].values[0]+'\\n',\n",
        "      '질병 설명:', first_info['정의'].values[0]\n",
        "      )"
      ]
    },
    {
      "cell_type": "code",
      "execution_count": null,
      "metadata": {
        "colab": {
          "base_uri": "https://localhost:8080/",
          "height": 36
        },
        "id": "GFTgwVd4gmil",
        "outputId": "70861120-f18c-4512-d206-f9ea1792a06b"
      },
      "outputs": [
        {
          "data": {
            "application/vnd.google.colaboratory.intrinsic+json": {
              "type": "string"
            },
            "text/plain": [
              "'소화기내과, 노년내과'"
            ]
          },
          "execution_count": 189,
          "metadata": {},
          "output_type": "execute_result"
        }
      ],
      "source": [
        "first_info = aa[aa['원 질병이름'] == first_pred_disease_name]\n",
        "first_info['진료과'].values[0]\n"
      ]
    },
    {
      "cell_type": "code",
      "execution_count": null,
      "metadata": {
        "colab": {
          "base_uri": "https://localhost:8080/"
        },
        "id": "sq_kJyywgmil",
        "outputId": "ecf1dfc4-7fef-41bc-935e-0f6f0b1a6fab"
      },
      "outputs": [
        {
          "name": "stdout",
          "output_type": "stream",
          "text": [
            "역류성 식도염 0.02 % \n",
            " 동의어: 역류성 식도염,위 식도 역류질환\n",
            " 진료과:  가정의학과, 소화기내과, 위장관외과, 소아소화기영양과\n",
            " 질병 설명: 위식도 역류성 질환은 위 내용물이 소량씩 식도로 역류하고, 이러한 역류의 과정이 반복되어 식도 점막이 손상되어 염증이 나타나는 질환을 의미합니다. 이는 위와 식도 사이에서 위의 내용물이 식도로 올라오는 것을 막아 주는 조임쇠 역할을 하는 괄약근에 이상이 생겨 발생합니다.\n"
          ]
        }
      ],
      "source": [
        "second_info = aa[aa['원 질병이름'] == second_pred_disease_name]\n",
        "print(second_pred_disease_name, round(second[1]*100, 2),'%','\\n',\n",
        "      '동의어:', second_info['동의어'].values[0]+'\\n',\n",
        "      '진료과: ', second_info['진료과'].values[0]+'\\n',\n",
        "      '질병 설명:', second_info['정의'].values[0]\n",
        "      )"
      ]
    },
    {
      "cell_type": "code",
      "execution_count": null,
      "metadata": {
        "colab": {
          "base_uri": "https://localhost:8080/"
        },
        "id": "TAGxLQSXgmim",
        "outputId": "934e0e10-9e6a-4426-f79d-1f540cb4b578"
      },
      "outputs": [
        {
          "name": "stdout",
          "output_type": "stream",
          "text": [
            "식도정맥류 0.02 % \n",
            " 동의어: Esophageal Varix\n",
            " 진료과:  소화기내과\n",
            " 질병 설명: 식도 정맥류는 식도에 있는 정맥이 혹처럼 부풀어 오르는 질환입니다. 이 질환은 간경변증의 주요 합병증입니다. 식도 정맥류는 출혈이 발생할 경우 사망률이 12~22%에 달하는 응급 질환입니다. 간경변증 환자의 주요 사망 원인 중 하나입니다.\n"
          ]
        }
      ],
      "source": [
        "third_info = aa[aa['원 질병이름'] == third_pred_disease_name]\n",
        "print(third_pred_disease_name, round(third[1]*100, 2),'%','\\n',\n",
        "      '동의어:', third_info['동의어'].values[0]+'\\n',\n",
        "      '진료과: ', third_info['진료과'].values[0]+'\\n',\n",
        "      '질병 설명:', third_info['정의'].values[0]\n",
        "      )"
      ]
    },
    {
      "cell_type": "code",
      "execution_count": null,
      "metadata": {
        "id": "0pE-GvxujQTt"
      },
      "outputs": [],
      "source": []
    },
    {
      "cell_type": "code",
      "execution_count": null,
      "metadata": {
        "id": "cVPoO7s8jQix"
      },
      "outputs": [],
      "source": []
    },
    {
      "cell_type": "code",
      "execution_count": null,
      "metadata": {
        "id": "UVzzg3d6_G6Y"
      },
      "outputs": [],
      "source": [
        "#v2_2 men"
      ]
    },
    {
      "cell_type": "code",
      "execution_count": null,
      "metadata": {
        "colab": {
          "base_uri": "https://localhost:8080/"
        },
        "id": "AT4QfZMBjPa1",
        "outputId": "93acaf64-f3a3-4c6d-ca19-91c402943775"
      },
      "outputs": [
        {
          "name": "stdout",
          "output_type": "stream",
          "text": [
            "소화성 궤양 99.85 % \n",
            " 동의어: 소화성 궤양,십이지장 궤양\n",
            " 진료과:  소화기내과, 노년내과\n",
            " 질병 설명: 위궤양은 위점막이 헐어서 궤양이 점막뿐만 아니라 근육층까지 침범한 것을 말합니다.\n"
          ]
        }
      ],
      "source": [
        "first_info = aa[aa['원 질병이름'] == first_pred_disease_name]\n",
        "print(first_pred_disease_name, round(first[1]*100, 2),'%','\\n',\n",
        "      '동의어:', first_info['동의어'].values[0]+'\\n',\n",
        "      '진료과: ', first_info['진료과'].values[0]+'\\n',\n",
        "      '질병 설명:', first_info['정의'].values[0]\n",
        "      )"
      ]
    },
    {
      "cell_type": "code",
      "execution_count": null,
      "metadata": {
        "colab": {
          "base_uri": "https://localhost:8080/",
          "height": 36
        },
        "id": "3ZecYkDtjPa2",
        "outputId": "bae45c82-15eb-4dda-fd87-fce722c23ad7"
      },
      "outputs": [
        {
          "data": {
            "application/vnd.google.colaboratory.intrinsic+json": {
              "type": "string"
            },
            "text/plain": [
              "'소화기내과, 노년내과'"
            ]
          },
          "execution_count": 286,
          "metadata": {},
          "output_type": "execute_result"
        }
      ],
      "source": [
        "first_info = aa[aa['원 질병이름'] == first_pred_disease_name]\n",
        "first_info['진료과'].values[0]\n"
      ]
    },
    {
      "cell_type": "code",
      "execution_count": null,
      "metadata": {
        "colab": {
          "base_uri": "https://localhost:8080/"
        },
        "id": "HQF8l7XhjPa2",
        "outputId": "28b9f853-d41d-4067-875d-c21415c70322"
      },
      "outputs": [
        {
          "name": "stdout",
          "output_type": "stream",
          "text": [
            "역류성 식도염 0.06 % \n",
            " 동의어: 역류성 식도염,위 식도 역류질환\n",
            " 진료과:  가정의학과, 소화기내과, 위장관외과, 소아소화기영양과\n",
            " 질병 설명: 위식도 역류성 질환은 위 내용물이 소량씩 식도로 역류하고, 이러한 역류의 과정이 반복되어 식도 점막이 손상되어 염증이 나타나는 질환을 의미합니다. 이는 위와 식도 사이에서 위의 내용물이 식도로 올라오는 것을 막아 주는 조임쇠 역할을 하는 괄약근에 이상이 생겨 발생합니다.\n"
          ]
        }
      ],
      "source": [
        "second_info = aa[aa['원 질병이름'] == second_pred_disease_name]\n",
        "print(second_pred_disease_name, round(second[1]*100, 2),'%','\\n',\n",
        "      '동의어:', second_info['동의어'].values[0]+'\\n',\n",
        "      '진료과: ', second_info['진료과'].values[0]+'\\n',\n",
        "      '질병 설명:', second_info['정의'].values[0]\n",
        "      )"
      ]
    },
    {
      "cell_type": "code",
      "execution_count": null,
      "metadata": {
        "colab": {
          "base_uri": "https://localhost:8080/"
        },
        "id": "f4k3xgADjPa2",
        "outputId": "a1a4ce7b-a78c-42d5-d88f-a9e485926a2e"
      },
      "outputs": [
        {
          "name": "stdout",
          "output_type": "stream",
          "text": [
            "연쇄상구균 감염 후 사구체신염 0.03 % \n",
            " 동의어: 급성사구체신염,만성사구체신염,신염,신장염\n",
            " 진료과:  신장내과\n",
            " 질병 설명: 사구체신염은 면역 기능 이상에 의해 사구체에 염증 반응이 일어났을 때 그에 따른 증상과 징후가 발생하는 질환을 통칭합니다.\n"
          ]
        }
      ],
      "source": [
        "third_info = aa[aa['원 질병이름'] == third_pred_disease_name]\n",
        "print(third_pred_disease_name, round(third[1]*100, 2),'%','\\n',\n",
        "      '동의어:', third_info['동의어'].values[0]+'\\n',\n",
        "      '진료과: ', third_info['진료과'].values[0]+'\\n',\n",
        "      '질병 설명:', third_info['정의'].values[0]\n",
        "      )"
      ]
    },
    {
      "cell_type": "code",
      "execution_count": null,
      "metadata": {
        "id": "1IIn1Sgc_HBI"
      },
      "outputs": [],
      "source": []
    },
    {
      "cell_type": "code",
      "execution_count": null,
      "metadata": {
        "id": "Y8RoALYG_HgI"
      },
      "outputs": [],
      "source": [
        "# v2 men"
      ]
    },
    {
      "cell_type": "code",
      "execution_count": null,
      "metadata": {
        "colab": {
          "base_uri": "https://localhost:8080/"
        },
        "id": "gFcEvdE-_HgI",
        "outputId": "3d4e404b-7907-494c-e152-3023939033e8"
      },
      "outputs": [
        {
          "name": "stdout",
          "output_type": "stream",
          "text": [
            "소화성 궤양 93.49 % \n",
            " 동의어: 소화성 궤양,십이지장 궤양\n",
            " 진료과:  소화기내과, 노년내과\n",
            " 질병 설명: 위궤양은 위점막이 헐어서 궤양이 점막뿐만 아니라 근육층까지 침범한 것을 말합니다.\n"
          ]
        }
      ],
      "source": [
        "first_info = aa[aa['원 질병이름'] == first_pred_disease_name]\n",
        "print(first_pred_disease_name, round(first[1]*100, 2),'%','\\n',\n",
        "      '동의어:', first_info['동의어'].values[0]+'\\n',\n",
        "      '진료과: ', first_info['진료과'].values[0]+'\\n',\n",
        "      '질병 설명:', first_info['정의'].values[0]\n",
        "      )"
      ]
    },
    {
      "cell_type": "code",
      "execution_count": null,
      "metadata": {
        "colab": {
          "base_uri": "https://localhost:8080/",
          "height": 36
        },
        "id": "MpgWOzYC_HgJ",
        "outputId": "00fd3dfa-d3cf-4708-f5b0-de5870f74cbc"
      },
      "outputs": [
        {
          "data": {
            "application/vnd.google.colaboratory.intrinsic+json": {
              "type": "string"
            },
            "text/plain": [
              "'소화기내과, 노년내과'"
            ]
          },
          "execution_count": 196,
          "metadata": {},
          "output_type": "execute_result"
        }
      ],
      "source": [
        "first_info = aa[aa['원 질병이름'] == first_pred_disease_name]\n",
        "first_info['진료과'].values[0]\n"
      ]
    },
    {
      "cell_type": "code",
      "execution_count": null,
      "metadata": {
        "colab": {
          "base_uri": "https://localhost:8080/"
        },
        "id": "gi3GWrBK_HgJ",
        "outputId": "6121926a-81cc-45ac-b701-5e15aa734c21"
      },
      "outputs": [
        {
          "name": "stdout",
          "output_type": "stream",
          "text": [
            "식중독 1.49 % \n",
            " 동의어: Food poisoning       \n",
            " 진료과:  가정의학과, 소화기내과, 위장관외과, 소아소화기영양과\n",
            " 질병 설명: 식중독은 음식물을 섭취함으로써 소화기가 감염되어 설사, 복통 등의 증상이 급성 또는 만성으로 나타나는 질환을 통칭합니다. 정확하게는 식품 매개 질환이라고 하는 것이 맞습니다.\n"
          ]
        }
      ],
      "source": [
        "second_info = aa[aa['원 질병이름'] == second_pred_disease_name]\n",
        "print(second_pred_disease_name, round(second[1]*100, 2),'%','\\n',\n",
        "      '동의어:', second_info['동의어'].values[0]+'\\n',\n",
        "      '진료과: ', second_info['진료과'].values[0]+'\\n',\n",
        "      '질병 설명:', second_info['정의'].values[0]\n",
        "      )"
      ]
    },
    {
      "cell_type": "code",
      "execution_count": null,
      "metadata": {
        "colab": {
          "base_uri": "https://localhost:8080/"
        },
        "id": "FGNrQ-nu_HgK",
        "outputId": "42fabb9c-eb42-4de5-f53b-6f1235890611"
      },
      "outputs": [
        {
          "name": "stdout",
          "output_type": "stream",
          "text": [
            "통풍 0.85 % \n",
            " 동의어: 통풍\n",
            " 진료과:  류마티스내과\n",
            " 질병 설명: 통풍은 요산이라는 물질이 몸밖으로 빠져나가지 못하고 과도하게 축적되어 발생하는 질환입니다\n"
          ]
        }
      ],
      "source": [
        "third_info = aa[aa['원 질병이름'] == third_pred_disease_name]\n",
        "print(third_pred_disease_name, round(third[1]*100, 2),'%','\\n',\n",
        "      '동의어:', third_info['동의어'].values[0]+'\\n',\n",
        "      '진료과: ', third_info['진료과'].values[0]+'\\n',\n",
        "      '질병 설명:', third_info['정의'].values[0]\n",
        "      )"
      ]
    },
    {
      "cell_type": "code",
      "execution_count": null,
      "metadata": {
        "id": "x7uSBdyK_Pkj"
      },
      "outputs": [],
      "source": []
    },
    {
      "cell_type": "code",
      "execution_count": null,
      "metadata": {
        "id": "PlVojO3t_Po3"
      },
      "outputs": [],
      "source": []
    },
    {
      "cell_type": "code",
      "execution_count": null,
      "metadata": {
        "id": "Hb3aR3ex_FwG"
      },
      "outputs": [],
      "source": []
    },
    {
      "cell_type": "code",
      "execution_count": null,
      "metadata": {
        "id": "ossXfkuT_F3y"
      },
      "outputs": [],
      "source": []
    },
    {
      "cell_type": "code",
      "execution_count": null,
      "metadata": {
        "id": "stPGOWiTk0mk"
      },
      "outputs": [],
      "source": [
        "# v1_"
      ]
    },
    {
      "cell_type": "code",
      "execution_count": null,
      "metadata": {
        "colab": {
          "base_uri": "https://localhost:8080/"
        },
        "id": "DBTiEz4Vj1ch",
        "outputId": "c1716a14-2d5a-4f0d-9b73-9753ac791e32"
      },
      "outputs": [
        {
          "name": "stdout",
          "output_type": "stream",
          "text": [
            "소화성 궤양 83.66 % \n",
            " 동의어: 소화성 궤양,십이지장 궤양\n",
            " 진료과:  소화기내과, 노년내과\n",
            " 질병 설명: 위궤양은 위점막이 헐어서 궤양이 점막뿐만 아니라 근육층까지 침범한 것을 말합니다.\n"
          ]
        }
      ],
      "source": [
        "first_info = aa[aa['원 질병이름'] == first_pred_disease_name]\n",
        "print(first_pred_disease_name, round(first[1]*100, 2),'%','\\n',\n",
        "      '동의어:', first_info['동의어'].values[0]+'\\n',\n",
        "      '진료과: ', first_info['진료과'].values[0]+'\\n',\n",
        "      '질병 설명:', first_info['정의'].values[0]\n",
        "      )"
      ]
    },
    {
      "cell_type": "code",
      "execution_count": null,
      "metadata": {
        "colab": {
          "base_uri": "https://localhost:8080/",
          "height": 36
        },
        "id": "FbQKmoLjj1ch",
        "outputId": "2e585e6e-840d-47cd-bf51-e628c6fc22c1"
      },
      "outputs": [
        {
          "data": {
            "application/vnd.google.colaboratory.intrinsic+json": {
              "type": "string"
            },
            "text/plain": [
              "'소화기내과, 노년내과'"
            ]
          },
          "execution_count": 355,
          "metadata": {},
          "output_type": "execute_result"
        }
      ],
      "source": [
        "first_info = aa[aa['원 질병이름'] == first_pred_disease_name]\n",
        "first_info['진료과'].values[0]\n"
      ]
    },
    {
      "cell_type": "code",
      "execution_count": null,
      "metadata": {
        "colab": {
          "base_uri": "https://localhost:8080/"
        },
        "id": "mBpv-yKTj1ci",
        "outputId": "1d62b1c7-918d-4c65-c149-14c5b4851fc5"
      },
      "outputs": [
        {
          "name": "stdout",
          "output_type": "stream",
          "text": [
            "약물에 의한 급성 신손상 2.62 % \n",
            " 동의어: 업데이트 예정\n",
            " 진료과:  업데이트 예정\n",
            " 질병 설명: 업데이트 예정\n"
          ]
        }
      ],
      "source": [
        "second_info = aa[aa['원 질병이름'] == second_pred_disease_name]\n",
        "print(second_pred_disease_name, round(second[1]*100, 2),'%','\\n',\n",
        "      '동의어:', second_info['동의어'].values[0]+'\\n',\n",
        "      '진료과: ', second_info['진료과'].values[0]+'\\n',\n",
        "      '질병 설명:', second_info['정의'].values[0]\n",
        "      )"
      ]
    },
    {
      "cell_type": "code",
      "execution_count": null,
      "metadata": {
        "colab": {
          "base_uri": "https://localhost:8080/"
        },
        "id": "Q2wkrwg4j1ci",
        "outputId": "be8e113b-b96f-4e53-9cc4-ebb689069659"
      },
      "outputs": [
        {
          "name": "stdout",
          "output_type": "stream",
          "text": [
            "급성 간염 2.15 % \n",
            " 동의어: A형 간염/B형감염/C형감염\n",
            " 진료과:  소화기내과, 간이식/간담도외과\n",
            " 질병 설명: 급성 간염은 바이러스에 감염되어 간에 염증이 발생하는 바이러스성 급성 간염입니다.\n"
          ]
        }
      ],
      "source": [
        "third_info = aa[aa['원 질병이름'] == third_pred_disease_name]\n",
        "print(third_pred_disease_name, round(third[1]*100, 2),'%','\\n',\n",
        "      '동의어:', third_info['동의어'].values[0]+'\\n',\n",
        "      '진료과: ', third_info['진료과'].values[0]+'\\n',\n",
        "      '질병 설명:', third_info['정의'].values[0]\n",
        "      )"
      ]
    },
    {
      "cell_type": "code",
      "execution_count": null,
      "metadata": {
        "id": "1PruS1_vk4Zn"
      },
      "outputs": [],
      "source": [
        "# v1_1"
      ]
    },
    {
      "cell_type": "code",
      "execution_count": null,
      "metadata": {
        "colab": {
          "base_uri": "https://localhost:8080/"
        },
        "id": "VV7EKcvNk4Zo",
        "outputId": "1a9d64bf-44dd-496f-8b7f-f7ef7319248a"
      },
      "outputs": [
        {
          "name": "stdout",
          "output_type": "stream",
          "text": [
            "소화성 궤양 98.45 % \n",
            " 동의어: 소화성 궤양,십이지장 궤양\n",
            " 진료과:  소화기내과, 노년내과\n",
            " 질병 설명: 위궤양은 위점막이 헐어서 궤양이 점막뿐만 아니라 근육층까지 침범한 것을 말합니다.\n"
          ]
        }
      ],
      "source": [
        "first_info = aa[aa['원 질병이름'] == first_pred_disease_name]\n",
        "print(first_pred_disease_name, round(first[1]*100, 2),'%','\\n',\n",
        "      '동의어:', first_info['동의어'].values[0]+'\\n',\n",
        "      '진료과: ', first_info['진료과'].values[0]+'\\n',\n",
        "      '질병 설명:', first_info['정의'].values[0]\n",
        "      )"
      ]
    },
    {
      "cell_type": "code",
      "execution_count": null,
      "metadata": {
        "colab": {
          "base_uri": "https://localhost:8080/",
          "height": 36
        },
        "id": "l7184eW5k4Zo",
        "outputId": "f213bbc7-5c6f-4188-98dd-9bc03348f171"
      },
      "outputs": [
        {
          "data": {
            "application/vnd.google.colaboratory.intrinsic+json": {
              "type": "string"
            },
            "text/plain": [
              "'소화기내과, 노년내과'"
            ]
          },
          "execution_count": 348,
          "metadata": {},
          "output_type": "execute_result"
        }
      ],
      "source": [
        "first_info = aa[aa['원 질병이름'] == first_pred_disease_name]\n",
        "first_info['진료과'].values[0]\n"
      ]
    },
    {
      "cell_type": "code",
      "execution_count": null,
      "metadata": {
        "colab": {
          "base_uri": "https://localhost:8080/"
        },
        "id": "LHuEFM04k4Zo",
        "outputId": "14d5cfe2-b316-4d68-e756-2c147dbbd8de"
      },
      "outputs": [
        {
          "name": "stdout",
          "output_type": "stream",
          "text": [
            "방광염 0.24 % \n",
            " 동의어: 방광 감염,방광 염증,방광염,오줌소태,하부요로감염\n",
            " 진료과:  비뇨의학과\n",
            " 질병 설명: 급성 방광염은 신장에서 만들어진 소변이 보관되는 장기인 방광에 감염이 발생한 질환입니다.\n"
          ]
        }
      ],
      "source": [
        "second_info = aa[aa['원 질병이름'] == second_pred_disease_name]\n",
        "print(second_pred_disease_name, round(second[1]*100, 2),'%','\\n',\n",
        "      '동의어:', second_info['동의어'].values[0]+'\\n',\n",
        "      '진료과: ', second_info['진료과'].values[0]+'\\n',\n",
        "      '질병 설명:', second_info['정의'].values[0]\n",
        "      )"
      ]
    },
    {
      "cell_type": "code",
      "execution_count": null,
      "metadata": {
        "colab": {
          "base_uri": "https://localhost:8080/"
        },
        "id": "JtbgmvBFk4Zp",
        "outputId": "0d126c51-f3ee-44db-c622-24ce511cafec"
      },
      "outputs": [
        {
          "name": "stdout",
          "output_type": "stream",
          "text": [
            "위암 0.2 % \n",
            " 동의어: Gastric cancer,Malignant neoplasm of stomach,cancer of the stomach,위 악성종양,위선암,위선암종,위암종\n",
            " 진료과:  소화기내과, 종양내과, 방사선종양학과, 위장관외과, 암병원\n",
            " 질병 설명: 위에 발생하는 악성 종양에는 위 선암, 림프종, 위 점막하 종양, 평활 근육종 등이 있습니다. 이 중에서 위 선암이 98%를 차지합니다. 따라서 위암은 일반적으로 위 선암을 말합니다. 위암은 위의 점막에서 발생합니다. 시간이 지남에 따라 점막하층, 근육층, 장막하층, 장막층으로 침윤합니다. 위암은 점막 또는 점막하층을 따라 위 내에 넓게 퍼지기도 하고, 점막층에서 장막층을 향해 깊이 퍼지기도 합니다. 위 주변의 임파선을 따라서, 혹은 혈류의 파급에 의해 간, 폐, 뼈 등의 여러 부위로 퍼질 수 있습니다.\n"
          ]
        }
      ],
      "source": [
        "third_info = aa[aa['원 질병이름'] == third_pred_disease_name]\n",
        "print(third_pred_disease_name, round(third[1]*100, 2),'%','\\n',\n",
        "      '동의어:', third_info['동의어'].values[0]+'\\n',\n",
        "      '진료과: ', third_info['진료과'].values[0]+'\\n',\n",
        "      '질병 설명:', third_info['정의'].values[0]\n",
        "      )"
      ]
    },
    {
      "cell_type": "code",
      "execution_count": null,
      "metadata": {
        "id": "5lubakERmMUE"
      },
      "outputs": [],
      "source": [
        "# v1_2"
      ]
    },
    {
      "cell_type": "code",
      "execution_count": null,
      "metadata": {
        "colab": {
          "base_uri": "https://localhost:8080/"
        },
        "id": "T5pKBmzQmMUE",
        "outputId": "61eb30f4-96bf-472e-da47-a575e8d3ea85"
      },
      "outputs": [
        {
          "name": "stdout",
          "output_type": "stream",
          "text": [
            "소화성 궤양 75.51 % \n",
            " 동의어: 소화성 궤양,십이지장 궤양\n",
            " 진료과:  소화기내과, 노년내과\n",
            " 질병 설명: 위궤양은 위점막이 헐어서 궤양이 점막뿐만 아니라 근육층까지 침범한 것을 말합니다.\n"
          ]
        }
      ],
      "source": [
        "first_info = aa[aa['원 질병이름'] == first_pred_disease_name]\n",
        "print(first_pred_disease_name, round(first[1]*100, 2),'%','\\n',\n",
        "      '동의어:', first_info['동의어'].values[0]+'\\n',\n",
        "      '진료과: ', first_info['진료과'].values[0]+'\\n',\n",
        "      '질병 설명:', first_info['정의'].values[0]\n",
        "      )"
      ]
    },
    {
      "cell_type": "code",
      "execution_count": null,
      "metadata": {
        "colab": {
          "base_uri": "https://localhost:8080/",
          "height": 36
        },
        "id": "xwYYAX5mmMUF",
        "outputId": "2ec76c07-784f-429b-f853-2802820b7e2b"
      },
      "outputs": [
        {
          "data": {
            "application/vnd.google.colaboratory.intrinsic+json": {
              "type": "string"
            },
            "text/plain": [
              "'소화기내과, 노년내과'"
            ]
          },
          "execution_count": 340,
          "metadata": {},
          "output_type": "execute_result"
        }
      ],
      "source": [
        "first_info = aa[aa['원 질병이름'] == first_pred_disease_name]\n",
        "first_info['진료과'].values[0]\n"
      ]
    },
    {
      "cell_type": "code",
      "execution_count": null,
      "metadata": {
        "colab": {
          "base_uri": "https://localhost:8080/"
        },
        "id": "HmmTvjQxmMUF",
        "outputId": "3962bdbb-137e-49d0-a8e4-9348d9f4871c"
      },
      "outputs": [
        {
          "name": "stdout",
          "output_type": "stream",
          "text": [
            "미주신경성 실신 12.05 % \n",
            " 동의어: 미주신경성 실신,혈관미주신경성 실신\n",
            " 진료과:  심장내과\n",
            " 질병 설명: 실신은 갑자기 일시적으로 의식을 잃고 쓰러지는 것을 의미합니다.\n"
          ]
        }
      ],
      "source": [
        "second_info = aa[aa['원 질병이름'] == second_pred_disease_name]\n",
        "print(second_pred_disease_name, round(second[1]*100, 2),'%','\\n',\n",
        "      '동의어:', second_info['동의어'].values[0]+'\\n',\n",
        "      '진료과: ', second_info['진료과'].values[0]+'\\n',\n",
        "      '질병 설명:', second_info['정의'].values[0]\n",
        "      )"
      ]
    },
    {
      "cell_type": "code",
      "execution_count": null,
      "metadata": {
        "colab": {
          "base_uri": "https://localhost:8080/"
        },
        "id": "piNBYn5umMUF",
        "outputId": "68dc4a44-e9ff-454b-b2e3-f48e9385c8c1"
      },
      "outputs": [
        {
          "name": "stdout",
          "output_type": "stream",
          "text": [
            "역류성 식도염 1.89 % \n",
            " 동의어: 역류성 식도염,위 식도 역류질환\n",
            " 진료과:  가정의학과, 소화기내과, 위장관외과, 소아소화기영양과\n",
            " 질병 설명: 위식도 역류성 질환은 위 내용물이 소량씩 식도로 역류하고, 이러한 역류의 과정이 반복되어 식도 점막이 손상되어 염증이 나타나는 질환을 의미합니다. 이는 위와 식도 사이에서 위의 내용물이 식도로 올라오는 것을 막아 주는 조임쇠 역할을 하는 괄약근에 이상이 생겨 발생합니다.\n"
          ]
        }
      ],
      "source": [
        "third_info = aa[aa['원 질병이름'] == third_pred_disease_name]\n",
        "print(third_pred_disease_name, round(third[1]*100, 2),'%','\\n',\n",
        "      '동의어:', third_info['동의어'].values[0]+'\\n',\n",
        "      '진료과: ', third_info['진료과'].values[0]+'\\n',\n",
        "      '질병 설명:', third_info['정의'].values[0]\n",
        "      )"
      ]
    },
    {
      "cell_type": "code",
      "execution_count": null,
      "metadata": {
        "id": "vEe46DTRmLgC"
      },
      "outputs": [],
      "source": []
    },
    {
      "cell_type": "markdown",
      "metadata": {
        "id": "RWaCEAyMDTKz"
      },
      "source": [
        "## Women\n"
      ]
    },
    {
      "cell_type": "code",
      "execution_count": 225,
      "metadata": {},
      "outputs": [
        {
          "name": "stdout",
          "output_type": "stream",
          "text": [
            "소화성 궤양 99.95 % \n",
            " 동의어: 소화성 궤양,십이지장 궤양\n",
            " 진료과:  소화기내과, 노년내과\n",
            " 질병 설명: 위궤양은 위점막이 헐어서 궤양이 점막뿐만 아니라 근육층까지 침범한 것을 말합니다.\n",
            "식도정맥류 0.03 % \n",
            " 동의어: Esophageal Varix\n",
            " 진료과:  소화기내과\n",
            " 질병 설명: 식도 정맥류는 식도에 있는 정맥이 혹처럼 부풀어 오르는 질환입니다. 이 질환은 간경변증의 주요 합병증입니다. 식도 정맥류는 출혈이 발생할 경우 사망률이 12~22%에 달하는 응급 질환입니다. 간경변증 환자의 주요 사망 원인 중 하나입니다.\n",
            "역류성 식도염 0.01 % \n",
            " 동의어: 역류성 식도염,위 식도 역류질환\n",
            " 진료과:  가정의학과, 소화기내과, 위장관외과, 소아소화기영양과\n",
            " 질병 설명: 위식도 역류성 질환은 위 내용물이 소량씩 식도로 역류하고, 이러한 역류의 과정이 반복되어 식도 점막이 손상되어 염증이 나타나는 질환을 의미합니다. 이는 위와 식도 사이에서 위의 내용물이 식도로 올라오는 것을 막아 주는 조임쇠 역할을 하는 괄약근에 이상이 생겨 발생합니다.\n"
          ]
        }
      ],
      "source": [
        "first_info = aa[aa['원 질병이름'] == first_pred_disease_name]\n",
        "print(first_pred_disease_name, round(first[1]*100, 2),'%','\\n',\n",
        "      '동의어:', first_info['동의어'].values[0]+'\\n',\n",
        "      '진료과: ', first_info['진료과'].values[0]+'\\n',\n",
        "      '질병 설명:', first_info['정의'].values[0]\n",
        "      )\n",
        "second_info = aa[aa['원 질병이름'] == second_pred_disease_name]\n",
        "print(second_pred_disease_name, round(second[1]*100, 2),'%','\\n',\n",
        "      '동의어:', second_info['동의어'].values[0]+'\\n',\n",
        "      '진료과: ', second_info['진료과'].values[0]+'\\n',\n",
        "      '질병 설명:', second_info['정의'].values[0]\n",
        "      )\n",
        "third_info = aa[aa['원 질병이름'] == third_pred_disease_name]\n",
        "print(third_pred_disease_name, round(third[1]*100, 2),'%','\\n',\n",
        "      '동의어:', third_info['동의어'].values[0]+'\\n',\n",
        "      '진료과: ', third_info['진료과'].values[0]+'\\n',\n",
        "      '질병 설명:', third_info['정의'].values[0]\n",
        "      )"
      ]
    },
    {
      "cell_type": "code",
      "execution_count": null,
      "metadata": {},
      "outputs": [],
      "source": []
    },
    {
      "cell_type": "code",
      "execution_count": null,
      "metadata": {
        "id": "Ls4IyDpivYVo"
      },
      "outputs": [],
      "source": [
        "#women_lv2"
      ]
    },
    {
      "cell_type": "code",
      "execution_count": null,
      "metadata": {
        "colab": {
          "base_uri": "https://localhost:8080/"
        },
        "id": "vtCGnu1JvZXV",
        "outputId": "dc441ff5-4532-46bf-9546-6f91e735bafe"
      },
      "outputs": [
        {
          "name": "stdout",
          "output_type": "stream",
          "text": [
            "소화성 궤양 99.2 % \n",
            " 동의어: 소화성 궤양,십이지장 궤양\n",
            " 진료과:  소화기내과, 노년내과\n",
            " 질병 설명: 위궤양은 위점막이 헐어서 궤양이 점막뿐만 아니라 근육층까지 침범한 것을 말합니다.\n"
          ]
        }
      ],
      "source": [
        "first_info = aa[aa['원 질병이름'] == first_pred_disease_name]\n",
        "print(first_pred_disease_name, round(first[1]*100, 2),'%','\\n',\n",
        "      '동의어:', first_info['동의어'].values[0]+'\\n',\n",
        "      '진료과: ', first_info['진료과'].values[0]+'\\n',\n",
        "      '질병 설명:', first_info['정의'].values[0]\n",
        "      )"
      ]
    },
    {
      "cell_type": "code",
      "execution_count": null,
      "metadata": {
        "colab": {
          "base_uri": "https://localhost:8080/",
          "height": 36
        },
        "id": "PIW2h1jtvZXW",
        "outputId": "00f4077b-65bb-490e-b064-e6999d78bb65"
      },
      "outputs": [
        {
          "data": {
            "application/vnd.google.colaboratory.intrinsic+json": {
              "type": "string"
            },
            "text/plain": [
              "'소화기내과, 노년내과'"
            ]
          },
          "execution_count": 274,
          "metadata": {},
          "output_type": "execute_result"
        }
      ],
      "source": [
        "first_info = aa[aa['원 질병이름'] == first_pred_disease_name]\n",
        "first_info['진료과'].values[0]\n"
      ]
    },
    {
      "cell_type": "code",
      "execution_count": null,
      "metadata": {
        "colab": {
          "base_uri": "https://localhost:8080/"
        },
        "id": "L23EWF2KvZXX",
        "outputId": "78c6c8e6-f8aa-463f-d07b-c575d92c6ea3"
      },
      "outputs": [
        {
          "name": "stdout",
          "output_type": "stream",
          "text": [
            "위암 0.69 % \n",
            " 동의어: Gastric cancer,Malignant neoplasm of stomach,cancer of the stomach,위 악성종양,위선암,위선암종,위암종\n",
            " 진료과:  소화기내과, 종양내과, 방사선종양학과, 위장관외과, 암병원\n",
            " 질병 설명: 위에 발생하는 악성 종양에는 위 선암, 림프종, 위 점막하 종양, 평활 근육종 등이 있습니다. 이 중에서 위 선암이 98%를 차지합니다. 따라서 위암은 일반적으로 위 선암을 말합니다. 위암은 위의 점막에서 발생합니다. 시간이 지남에 따라 점막하층, 근육층, 장막하층, 장막층으로 침윤합니다. 위암은 점막 또는 점막하층을 따라 위 내에 넓게 퍼지기도 하고, 점막층에서 장막층을 향해 깊이 퍼지기도 합니다. 위 주변의 임파선을 따라서, 혹은 혈류의 파급에 의해 간, 폐, 뼈 등의 여러 부위로 퍼질 수 있습니다.\n"
          ]
        }
      ],
      "source": [
        "second_info = aa[aa['원 질병이름'] == second_pred_disease_name]\n",
        "print(second_pred_disease_name, round(second[1]*100, 2),'%','\\n',\n",
        "      '동의어:', second_info['동의어'].values[0]+'\\n',\n",
        "      '진료과: ', second_info['진료과'].values[0]+'\\n',\n",
        "      '질병 설명:', second_info['정의'].values[0]\n",
        "      )"
      ]
    },
    {
      "cell_type": "code",
      "execution_count": null,
      "metadata": {
        "colab": {
          "base_uri": "https://localhost:8080/"
        },
        "id": "Qm4yAB9avZXX",
        "outputId": "c812d61b-79b6-44b5-f1ef-4a15fda19227"
      },
      "outputs": [
        {
          "name": "stdout",
          "output_type": "stream",
          "text": [
            "식도정맥류 0.04 % \n",
            " 동의어: Esophageal Varix\n",
            " 진료과:  소화기내과\n",
            " 질병 설명: 식도 정맥류는 식도에 있는 정맥이 혹처럼 부풀어 오르는 질환입니다. 이 질환은 간경변증의 주요 합병증입니다. 식도 정맥류는 출혈이 발생할 경우 사망률이 12~22%에 달하는 응급 질환입니다. 간경변증 환자의 주요 사망 원인 중 하나입니다.\n"
          ]
        }
      ],
      "source": [
        "third_info = aa[aa['원 질병이름'] == third_pred_disease_name]\n",
        "print(third_pred_disease_name, round(third[1]*100, 2),'%','\\n',\n",
        "      '동의어:', third_info['동의어'].values[0]+'\\n',\n",
        "      '진료과: ', third_info['진료과'].values[0]+'\\n',\n",
        "      '질병 설명:', third_info['정의'].values[0]\n",
        "      )"
      ]
    },
    {
      "cell_type": "code",
      "execution_count": null,
      "metadata": {
        "colab": {
          "base_uri": "https://localhost:8080/"
        },
        "id": "gdC4G57EiREt",
        "outputId": "3a692dd4-83cb-4e26-90bd-29101e175f2c"
      },
      "outputs": [
        {
          "name": "stdout",
          "output_type": "stream",
          "text": [
            "소화성 궤양 99.85 % \n",
            " 동의어: 소화성 궤양,십이지장 궤양\n",
            " 진료과:  소화기내과, 노년내과\n",
            " 질병 설명: 위궤양은 위점막이 헐어서 궤양이 점막뿐만 아니라 근육층까지 침범한 것을 말합니다.\n"
          ]
        }
      ],
      "source": [
        "first_info = aa[aa['원 질병이름'] == first_pred_disease_name]\n",
        "print(first_pred_disease_name, round(first[1]*100, 2),'%','\\n',\n",
        "      '동의어:', first_info['동의어'].values[0]+'\\n',\n",
        "      '진료과: ', first_info['진료과'].values[0]+'\\n',\n",
        "      '질병 설명:', first_info['정의'].values[0]\n",
        "      )"
      ]
    },
    {
      "cell_type": "code",
      "execution_count": null,
      "metadata": {
        "colab": {
          "base_uri": "https://localhost:8080/",
          "height": 36
        },
        "id": "puHSjBhwiREu",
        "outputId": "3598e927-9318-4e6c-a8c7-ea3974e54da5"
      },
      "outputs": [
        {
          "data": {
            "application/vnd.google.colaboratory.intrinsic+json": {
              "type": "string"
            },
            "text/plain": [
              "'소화기내과, 노년내과'"
            ]
          },
          "execution_count": 302,
          "metadata": {},
          "output_type": "execute_result"
        }
      ],
      "source": [
        "first_info = aa[aa['원 질병이름'] == first_pred_disease_name]\n",
        "first_info['진료과'].values[0]\n"
      ]
    },
    {
      "cell_type": "code",
      "execution_count": null,
      "metadata": {
        "colab": {
          "base_uri": "https://localhost:8080/"
        },
        "id": "64zLAQgdiREu",
        "outputId": "5929a1d5-e35e-412a-ad5e-720d22ea11c3"
      },
      "outputs": [
        {
          "name": "stdout",
          "output_type": "stream",
          "text": [
            "역류성 식도염 0.02 % \n",
            " 동의어: 역류성 식도염,위 식도 역류질환\n",
            " 진료과:  가정의학과, 소화기내과, 위장관외과, 소아소화기영양과\n",
            " 질병 설명: 위식도 역류성 질환은 위 내용물이 소량씩 식도로 역류하고, 이러한 역류의 과정이 반복되어 식도 점막이 손상되어 염증이 나타나는 질환을 의미합니다. 이는 위와 식도 사이에서 위의 내용물이 식도로 올라오는 것을 막아 주는 조임쇠 역할을 하는 괄약근에 이상이 생겨 발생합니다.\n"
          ]
        }
      ],
      "source": [
        "second_info = aa[aa['원 질병이름'] == second_pred_disease_name]\n",
        "print(second_pred_disease_name, round(second[1]*100, 2),'%','\\n',\n",
        "      '동의어:', second_info['동의어'].values[0]+'\\n',\n",
        "      '진료과: ', second_info['진료과'].values[0]+'\\n',\n",
        "      '질병 설명:', second_info['정의'].values[0]\n",
        "      )"
      ]
    },
    {
      "cell_type": "code",
      "execution_count": null,
      "metadata": {
        "colab": {
          "base_uri": "https://localhost:8080/"
        },
        "id": "bPG57OOFiREv",
        "outputId": "ef4ffb5f-e61a-4f51-f07d-c7cda1d7d1a5"
      },
      "outputs": [
        {
          "name": "stdout",
          "output_type": "stream",
          "text": [
            "식도정맥류 0.02 % \n",
            " 동의어: Esophageal Varix\n",
            " 진료과:  소화기내과\n",
            " 질병 설명: 식도 정맥류는 식도에 있는 정맥이 혹처럼 부풀어 오르는 질환입니다. 이 질환은 간경변증의 주요 합병증입니다. 식도 정맥류는 출혈이 발생할 경우 사망률이 12~22%에 달하는 응급 질환입니다. 간경변증 환자의 주요 사망 원인 중 하나입니다.\n"
          ]
        }
      ],
      "source": [
        "third_info = aa[aa['원 질병이름'] == third_pred_disease_name]\n",
        "print(third_pred_disease_name, round(third[1]*100, 2),'%','\\n',\n",
        "      '동의어:', third_info['동의어'].values[0]+'\\n',\n",
        "      '진료과: ', third_info['진료과'].values[0]+'\\n',\n",
        "      '질병 설명:', third_info['정의'].values[0]\n",
        "      )"
      ]
    },
    {
      "cell_type": "code",
      "execution_count": null,
      "metadata": {
        "colab": {
          "base_uri": "https://localhost:8080/"
        },
        "id": "JGWE4wjmxVuk",
        "outputId": "0dad5683-8cc3-450a-dc46-3d7dd4b29407"
      },
      "outputs": [
        {
          "name": "stdout",
          "output_type": "stream",
          "text": [
            "자궁내막증 99.97 % \n",
            " 동의어: 자궁내막 이상증식증,자궁내막증식,자궁내막증식증\n",
            " 진료과:  산부인과\n",
            " 질병 설명: 자궁내막증은 자궁내막 조직(자궁선과 기질)이 자궁 밖에 존재하여 질환을 유발하는 상태를 의미합니다. 자궁 밖에 위치한 이소성 자궁내막 세포는 각종 성호르몬에 대한 수용체를 가지고 있습니다. 월경 주기에 따라 병변에 국소적인 출혈, 염증 반응이 생겨 결국 섬유화, 유착 등이 발생하고, 이로 인한 통증과 불임증 등이 생깁니다.\n"
          ]
        }
      ],
      "source": [
        "first_info = aa[aa['원 질병이름'] == first_pred_disease_name]\n",
        "print(first_pred_disease_name, round(first[1]*100, 2),'%','\\n',\n",
        "      '동의어:', first_info['동의어'].values[0]+'\\n',\n",
        "      '진료과: ', first_info['진료과'].values[0]+'\\n',\n",
        "      '질병 설명:', first_info['정의'].values[0]\n",
        "      )"
      ]
    },
    {
      "cell_type": "code",
      "execution_count": null,
      "metadata": {
        "colab": {
          "base_uri": "https://localhost:8080/",
          "height": 36
        },
        "id": "HaJp_tVjxVul",
        "outputId": "640907ef-9932-41b6-95cc-464f8a4c4332"
      },
      "outputs": [
        {
          "data": {
            "application/vnd.google.colaboratory.intrinsic+json": {
              "type": "string"
            },
            "text/plain": [
              "'산부인과'"
            ]
          },
          "execution_count": 338,
          "metadata": {},
          "output_type": "execute_result"
        }
      ],
      "source": [
        "first_info = aa[aa['원 질병이름'] == first_pred_disease_name]\n",
        "first_info['진료과'].values[0]\n"
      ]
    },
    {
      "cell_type": "code",
      "execution_count": null,
      "metadata": {
        "colab": {
          "base_uri": "https://localhost:8080/"
        },
        "id": "oAw-r9aPxVul",
        "outputId": "9190597f-d20a-4f8f-d4d5-6cdf8191b20b"
      },
      "outputs": [
        {
          "name": "stdout",
          "output_type": "stream",
          "text": [
            "섬유선종 0.0 % \n",
            " 동의어: 가슴섬유선종,가슴섬유종,섬유선종,유방 섬유선종,유방섬유종\n",
            " 진료과:  유방외과\n",
            " 질병 설명: 유방의 섬유선종은 젖을 분비하는 유선 말단 부위의 과다한 증식과 이에 따른 유방 조직의 변형 때문에 발생하는 섬유선종입니다. 섬유선종에는 거대 섬유선종, 연소성 섬유선종 등이 있습니다. 거대 섬유선종은 5cm 이상의 커다란 종괴로 나타나며, 대개 임신, 수유부에게서 나타납니다. 연소성 섬유선종은 사춘기 여성에게 발생하며, 갑자기 크기가 커져서 피부가 변형되고 정맥들이 돌출됩니다.\n"
          ]
        }
      ],
      "source": [
        "second_info = aa[aa['원 질병이름'] == second_pred_disease_name]\n",
        "print(second_pred_disease_name, round(second[1]*100, 2),'%','\\n',\n",
        "      '동의어:', second_info['동의어'].values[0]+'\\n',\n",
        "      '진료과: ', second_info['진료과'].values[0]+'\\n',\n",
        "      '질병 설명:', second_info['정의'].values[0]\n",
        "      )"
      ]
    },
    {
      "cell_type": "code",
      "execution_count": null,
      "metadata": {
        "colab": {
          "base_uri": "https://localhost:8080/"
        },
        "id": "lIgsHk7axVul",
        "outputId": "39ae4256-d532-43d0-a819-eed14799c6a8"
      },
      "outputs": [
        {
          "name": "stdout",
          "output_type": "stream",
          "text": [
            "골반염 0.0 % \n",
            " 동의어: PID,골반내염증,골반내염증질환,골반염\n",
            " 진료과:  산부인과\n",
            " 질병 설명: 골반 염증성 질환은 질과 자궁 경관을 통해 세균이 침입하여 자궁 및 난관, 난소, 복강 내에 염증을 일으켜 발생하는 질환을 의미합니다.\n"
          ]
        }
      ],
      "source": [
        "third_info = aa[aa['원 질병이름'] == third_pred_disease_name]\n",
        "print(third_pred_disease_name, round(third[1]*100, 2),'%','\\n',\n",
        "      '동의어:', third_info['동의어'].values[0]+'\\n',\n",
        "      '진료과: ', third_info['진료과'].values[0]+'\\n',\n",
        "      '질병 설명:', third_info['정의'].values[0]\n",
        "      )"
      ]
    },
    {
      "cell_type": "code",
      "execution_count": null,
      "metadata": {
        "colab": {
          "base_uri": "https://localhost:8080/"
        },
        "id": "kM-FcGLCixC5",
        "outputId": "f6d27681-3efc-4cf3-f63e-24f7b08ae107"
      },
      "outputs": [
        {
          "name": "stdout",
          "output_type": "stream",
          "text": [
            "자궁내막증 99.99 % \n",
            " 동의어: 자궁내막 이상증식증,자궁내막증식,자궁내막증식증\n",
            " 진료과:  산부인과\n",
            " 질병 설명: 자궁내막증은 자궁내막 조직(자궁선과 기질)이 자궁 밖에 존재하여 질환을 유발하는 상태를 의미합니다. 자궁 밖에 위치한 이소성 자궁내막 세포는 각종 성호르몬에 대한 수용체를 가지고 있습니다. 월경 주기에 따라 병변에 국소적인 출혈, 염증 반응이 생겨 결국 섬유화, 유착 등이 발생하고, 이로 인한 통증과 불임증 등이 생깁니다.\n"
          ]
        }
      ],
      "source": [
        "first_info = aa[aa['원 질병이름'] == first_pred_disease_name]\n",
        "print(first_pred_disease_name, round(first[1]*100, 2),'%','\\n',\n",
        "      '동의어:', first_info['동의어'].values[0]+'\\n',\n",
        "      '진료과: ', first_info['진료과'].values[0]+'\\n',\n",
        "      '질병 설명:', first_info['정의'].values[0]\n",
        "      )"
      ]
    },
    {
      "cell_type": "code",
      "execution_count": null,
      "metadata": {
        "colab": {
          "base_uri": "https://localhost:8080/",
          "height": 36
        },
        "id": "KT_KD7zlixC8",
        "outputId": "ce158d9a-5125-449b-84e6-545a57df8e9f"
      },
      "outputs": [
        {
          "data": {
            "application/vnd.google.colaboratory.intrinsic+json": {
              "type": "string"
            },
            "text/plain": [
              "'산부인과'"
            ]
          },
          "execution_count": 372,
          "metadata": {},
          "output_type": "execute_result"
        }
      ],
      "source": [
        "first_info = aa[aa['원 질병이름'] == first_pred_disease_name]\n",
        "first_info['진료과'].values[0]\n"
      ]
    },
    {
      "cell_type": "code",
      "execution_count": null,
      "metadata": {
        "colab": {
          "base_uri": "https://localhost:8080/"
        },
        "id": "o6RmRHlvixC9",
        "outputId": "afc36045-a57b-47c0-cdf0-fc0b48aab144"
      },
      "outputs": [
        {
          "name": "stdout",
          "output_type": "stream",
          "text": [
            "자궁근종 0.0 % \n",
            " 동의어: 자궁근종\n",
            " 진료과:  산부인과\n",
            " 질병 설명: 자궁의 평활근종은 자궁의 근육세포에서 생기는 종양입니다. 자궁에서 가장 흔히 발생하는 양성 종양입니다. 흔히 자궁근종이라고 부릅니다. 에스트로겐의 영향을 받는 일종의 호르몬 의존성 종양입니다. 여성에게 비교적 흔한 질병으로, 가임기 여성의 약 25~35%에서 발견됩니다. 특히 35세 이상의 여성 40~50%에게 발견됩니다.\n"
          ]
        }
      ],
      "source": [
        "second_info = aa[aa['원 질병이름'] == second_pred_disease_name]\n",
        "print(second_pred_disease_name, round(second[1]*100, 2),'%','\\n',\n",
        "      '동의어:', second_info['동의어'].values[0]+'\\n',\n",
        "      '진료과: ', second_info['진료과'].values[0]+'\\n',\n",
        "      '질병 설명:', second_info['정의'].values[0]\n",
        "      )"
      ]
    },
    {
      "cell_type": "code",
      "execution_count": null,
      "metadata": {
        "colab": {
          "base_uri": "https://localhost:8080/"
        },
        "id": "cSwiVRZgixC-",
        "outputId": "73261f43-ec16-4c7c-bebd-21e2a10cc80e"
      },
      "outputs": [
        {
          "name": "stdout",
          "output_type": "stream",
          "text": [
            "원발성 월경곤란 0.0 % \n",
            " 동의어: 생리곤란증,생리통,원발성 월경곤란증,월경곤란,월경곤란증,월경통,일차성 생리통\n",
            " 진료과:  산부인과\n",
            " 질병 설명: 월경곤란증은 흔히 말하는 생리통으로, 생리를 하는 여성의 약 50%에서 나타납니다. 골반에 아무런 이상이 없는데 생리통이 있는 경우를 원발성 월경곤란(일차성 생리통)이라고 하고, 기질적인 원인이 있는 경우를 속발성 월경곤란(이차성 생리통)이라고 합니다. 일차성 생리통은 대개 초경 후 1~2년 이내에 나타납니다. 주로 젊은 여성에게 나타나지만 40대까지 계속될 수 있습니다. 이차성 생리통은 골반의 병변이 원인이 되어 발생하기 때문에 초경 후 수년이 지난 후에 생깁니다. 무배란성 월경에서도 생깁니다.\n"
          ]
        }
      ],
      "source": [
        "third_info = aa[aa['원 질병이름'] == third_pred_disease_name]\n",
        "print(third_pred_disease_name, round(third[1]*100, 2),'%','\\n',\n",
        "      '동의어:', third_info['동의어'].values[0]+'\\n',\n",
        "      '진료과: ', third_info['진료과'].values[0]+'\\n',\n",
        "      '질병 설명:', third_info['정의'].values[0]\n",
        "      )"
      ]
    },
    {
      "cell_type": "code",
      "execution_count": null,
      "metadata": {
        "id": "ssWEe3lzZ3rR"
      },
      "outputs": [],
      "source": [
        "# women"
      ]
    },
    {
      "cell_type": "code",
      "execution_count": null,
      "metadata": {
        "colab": {
          "base_uri": "https://localhost:8080/",
          "height": 160
        },
        "id": "q4_r4ZlCZ3rS",
        "outputId": "0489e061-28b3-4294-d87b-4e3163bb2183"
      },
      "outputs": [
        {
          "data": {
            "text/html": [
              "\n",
              "  <div id=\"df-f429a4ae-60d3-4a3d-b36f-d5757d31993d\">\n",
              "    <div class=\"colab-df-container\">\n",
              "      <div>\n",
              "<style scoped>\n",
              "    .dataframe tbody tr th:only-of-type {\n",
              "        vertical-align: middle;\n",
              "    }\n",
              "\n",
              "    .dataframe tbody tr th {\n",
              "        vertical-align: top;\n",
              "    }\n",
              "\n",
              "    .dataframe thead th {\n",
              "        text-align: right;\n",
              "    }\n",
              "</style>\n",
              "<table border=\"1\" class=\"dataframe\">\n",
              "  <thead>\n",
              "    <tr style=\"text-align: right;\">\n",
              "      <th></th>\n",
              "      <th>Height</th>\n",
              "      <th>Weight</th>\n",
              "      <th>Age</th>\n",
              "      <th>Chief complaint</th>\n",
              "      <th>Sex</th>\n",
              "      <th>Onset</th>\n",
              "      <th>Location</th>\n",
              "      <th>Duration</th>\n",
              "      <th>Course</th>\n",
              "      <th>Experience</th>\n",
              "      <th>Character</th>\n",
              "      <th>Associated Sx.</th>\n",
              "      <th>Factor</th>\n",
              "      <th>Event</th>\n",
              "      <th>약물 투약력</th>\n",
              "      <th>사회력</th>\n",
              "      <th>가족력</th>\n",
              "      <th>외상력</th>\n",
              "      <th>과거력</th>\n",
              "      <th>여성력</th>\n",
              "    </tr>\n",
              "  </thead>\n",
              "  <tbody>\n",
              "    <tr>\n",
              "      <th>0</th>\n",
              "      <td>160</td>\n",
              "      <td>55</td>\n",
              "      <td>50대</td>\n",
              "      <td>생리통이 심해요</td>\n",
              "      <td>여자</td>\n",
              "      <td>7개월 전</td>\n",
              "      <td>골반쪽 통증</td>\n",
              "      <td>생리시 통증이 심함</td>\n",
              "      <td>작년보다 훨씬 심해진 것 같음</td>\n",
              "      <td>생리주기마다</td>\n",
              "      <td>NRS 7점 쿡쿡 쑤시는 통증, 규칙적 월경, 월경량 적당, 임신이 잘 안됨</td>\n",
              "      <td>생리 끝나고도 아플 때 있음</td>\n",
              "      <td></td>\n",
              "      <td>건강검진상 이상 없음, 산부인과 검진 받은 적 없음</td>\n",
              "      <td>심할 땐 진통제 먹어보지만 금방 또 아파짐</td>\n",
              "      <td></td>\n",
              "      <td></td>\n",
              "      <td></td>\n",
              "      <td></td>\n",
              "      <td></td>\n",
              "    </tr>\n",
              "  </tbody>\n",
              "</table>\n",
              "</div>\n",
              "      <button class=\"colab-df-convert\" onclick=\"convertToInteractive('df-f429a4ae-60d3-4a3d-b36f-d5757d31993d')\"\n",
              "              title=\"Convert this dataframe to an interactive table.\"\n",
              "              style=\"display:none;\">\n",
              "        \n",
              "  <svg xmlns=\"http://www.w3.org/2000/svg\" height=\"24px\"viewBox=\"0 0 24 24\"\n",
              "       width=\"24px\">\n",
              "    <path d=\"M0 0h24v24H0V0z\" fill=\"none\"/>\n",
              "    <path d=\"M18.56 5.44l.94 2.06.94-2.06 2.06-.94-2.06-.94-.94-2.06-.94 2.06-2.06.94zm-11 1L8.5 8.5l.94-2.06 2.06-.94-2.06-.94L8.5 2.5l-.94 2.06-2.06.94zm10 10l.94 2.06.94-2.06 2.06-.94-2.06-.94-.94-2.06-.94 2.06-2.06.94z\"/><path d=\"M17.41 7.96l-1.37-1.37c-.4-.4-.92-.59-1.43-.59-.52 0-1.04.2-1.43.59L10.3 9.45l-7.72 7.72c-.78.78-.78 2.05 0 2.83L4 21.41c.39.39.9.59 1.41.59.51 0 1.02-.2 1.41-.59l7.78-7.78 2.81-2.81c.8-.78.8-2.07 0-2.86zM5.41 20L4 18.59l7.72-7.72 1.47 1.35L5.41 20z\"/>\n",
              "  </svg>\n",
              "      </button>\n",
              "      \n",
              "  <style>\n",
              "    .colab-df-container {\n",
              "      display:flex;\n",
              "      flex-wrap:wrap;\n",
              "      gap: 12px;\n",
              "    }\n",
              "\n",
              "    .colab-df-convert {\n",
              "      background-color: #E8F0FE;\n",
              "      border: none;\n",
              "      border-radius: 50%;\n",
              "      cursor: pointer;\n",
              "      display: none;\n",
              "      fill: #1967D2;\n",
              "      height: 32px;\n",
              "      padding: 0 0 0 0;\n",
              "      width: 32px;\n",
              "    }\n",
              "\n",
              "    .colab-df-convert:hover {\n",
              "      background-color: #E2EBFA;\n",
              "      box-shadow: 0px 1px 2px rgba(60, 64, 67, 0.3), 0px 1px 3px 1px rgba(60, 64, 67, 0.15);\n",
              "      fill: #174EA6;\n",
              "    }\n",
              "\n",
              "    [theme=dark] .colab-df-convert {\n",
              "      background-color: #3B4455;\n",
              "      fill: #D2E3FC;\n",
              "    }\n",
              "\n",
              "    [theme=dark] .colab-df-convert:hover {\n",
              "      background-color: #434B5C;\n",
              "      box-shadow: 0px 1px 3px 1px rgba(0, 0, 0, 0.15);\n",
              "      filter: drop-shadow(0px 1px 2px rgba(0, 0, 0, 0.3));\n",
              "      fill: #FFFFFF;\n",
              "    }\n",
              "  </style>\n",
              "\n",
              "      <script>\n",
              "        const buttonEl =\n",
              "          document.querySelector('#df-f429a4ae-60d3-4a3d-b36f-d5757d31993d button.colab-df-convert');\n",
              "        buttonEl.style.display =\n",
              "          google.colab.kernel.accessAllowed ? 'block' : 'none';\n",
              "\n",
              "        async function convertToInteractive(key) {\n",
              "          const element = document.querySelector('#df-f429a4ae-60d3-4a3d-b36f-d5757d31993d');\n",
              "          const dataTable =\n",
              "            await google.colab.kernel.invokeFunction('convertToInteractive',\n",
              "                                                     [key], {});\n",
              "          if (!dataTable) return;\n",
              "\n",
              "          const docLinkHtml = 'Like what you see? Visit the ' +\n",
              "            '<a target=\"_blank\" href=https://colab.research.google.com/notebooks/data_table.ipynb>data table notebook</a>'\n",
              "            + ' to learn more about interactive tables.';\n",
              "          element.innerHTML = '';\n",
              "          dataTable['output_type'] = 'display_data';\n",
              "          await google.colab.output.renderOutput(dataTable, element);\n",
              "          const docLink = document.createElement('div');\n",
              "          docLink.innerHTML = docLinkHtml;\n",
              "          element.appendChild(docLink);\n",
              "        }\n",
              "      </script>\n",
              "    </div>\n",
              "  </div>\n",
              "  "
            ],
            "text/plain": [
              "  Height Weight  Age Chief complaint Sex  Onset Location    Duration  \\\n",
              "0    160     55  50대        생리통이 심해요  여자  7개월 전   골반쪽 통증  생리시 통증이 심함   \n",
              "\n",
              "             Course Experience                                   Character  \\\n",
              "0  작년보다 훨씬 심해진 것 같음     생리주기마다  NRS 7점 쿡쿡 쑤시는 통증, 규칙적 월경, 월경량 적당, 임신이 잘 안됨   \n",
              "\n",
              "    Associated Sx. Factor                         Event  \\\n",
              "0  생리 끝나고도 아플 때 있음         건강검진상 이상 없음, 산부인과 검진 받은 적 없음   \n",
              "\n",
              "                    약물 투약력 사회력 가족력 외상력 과거력 여성력  \n",
              "0  심할 땐 진통제 먹어보지만 금방 또 아파짐                      "
            ]
          },
          "execution_count": 229,
          "metadata": {},
          "output_type": "execute_result"
        }
      ],
      "source": [
        "data"
      ]
    },
    {
      "cell_type": "code",
      "execution_count": null,
      "metadata": {
        "colab": {
          "base_uri": "https://localhost:8080/"
        },
        "id": "jlzCfyUqZ3rS",
        "outputId": "51e28194-1c67-4788-a219-f2244ab00579"
      },
      "outputs": [
        {
          "data": {
            "text/plain": [
              "['[CLS] 생리통 심해 50 대다 7 개월 골반 통증 여자 생리 통증 심하다 작년 보다 훨씬 심해지다 같다 생리 주기 마다 심하다 쿡쿡 쑤시다 통증 규칙 월경 경량 적당 생리 끝나다 아프다 있다 건강검진 상 이상 없다 산부인과 검진 받다 없다 심하다 땐 진통제 먹다 보지 만 금방 또 아프다 짐 과체중 [SEP]']"
            ]
          },
          "execution_count": 231,
          "metadata": {},
          "output_type": "execute_result"
        }
      ],
      "source": [
        "document_bert_data"
      ]
    },
    {
      "cell_type": "code",
      "execution_count": null,
      "metadata": {
        "id": "6YgBfHQcd8nC"
      },
      "outputs": [],
      "source": [
        "ko_tokenized_texts_data = [tokenizer_funnel.tokenize(s) for s in document_bert_data]\n",
        "data_sequence = w_tokenizer.texts_to_sequences(ko_tokenized_texts_data)\n",
        "data_sequence = pad_sequences(data_sequence, maxlen = w_max_len).reshape(1,-1)\n",
        "y_prob = w_loaded_model.predict(data_sequence)"
      ]
    },
    {
      "cell_type": "code",
      "execution_count": null,
      "metadata": {
        "id": "bmNefI_tZ3rT"
      },
      "outputs": [],
      "source": [
        "\n",
        "top_k_result = tf.math.top_k(y_prob, k=3, sorted=True)\n",
        "\n",
        "first = top_k_result[1][0][0], top_k_result.values.numpy()[0][0]\n",
        "second = top_k_result[1][0][1], top_k_result.values.numpy()[0][1]\n",
        "third = top_k_result[1][0][2], top_k_result.values.numpy()[0][2]\n",
        "\n",
        "first_pred_disease_name = w_disease_codes[first[0]]\n",
        "second_pred_disease_name = w_disease_codes[second[0]]\n",
        "third_pred_disease_name = w_disease_codes[third[0]]"
      ]
    },
    {
      "cell_type": "code",
      "execution_count": null,
      "metadata": {
        "id": "e6vBQfrpvjkO"
      },
      "outputs": [],
      "source": [
        "#v2_2"
      ]
    },
    {
      "cell_type": "code",
      "execution_count": null,
      "metadata": {
        "colab": {
          "base_uri": "https://localhost:8080/"
        },
        "id": "5XlX_O33i9w4",
        "outputId": "6dd43a3f-abfd-4e44-abb8-0f70226aff2c"
      },
      "outputs": [
        {
          "name": "stdout",
          "output_type": "stream",
          "text": [
            "자궁내막증 99.81 % \n",
            " 동의어: 자궁내막 이상증식증,자궁내막증식,자궁내막증식증\n",
            " 진료과:  산부인과\n",
            " 질병 설명: 자궁내막증은 자궁내막 조직(자궁선과 기질)이 자궁 밖에 존재하여 질환을 유발하는 상태를 의미합니다. 자궁 밖에 위치한 이소성 자궁내막 세포는 각종 성호르몬에 대한 수용체를 가지고 있습니다. 월경 주기에 따라 병변에 국소적인 출혈, 염증 반응이 생겨 결국 섬유화, 유착 등이 발생하고, 이로 인한 통증과 불임증 등이 생깁니다.\n"
          ]
        }
      ],
      "source": [
        "first_info = aa[aa['원 질병이름'] == first_pred_disease_name]\n",
        "print(first_pred_disease_name, round(first[1]*100, 2),'%','\\n',\n",
        "      '동의어:', first_info['동의어'].values[0]+'\\n',\n",
        "      '진료과: ', first_info['진료과'].values[0]+'\\n',\n",
        "      '질병 설명:', first_info['정의'].values[0]\n",
        "      )"
      ]
    },
    {
      "cell_type": "code",
      "execution_count": null,
      "metadata": {
        "colab": {
          "base_uri": "https://localhost:8080/"
        },
        "id": "qvSHHteqi9w5",
        "outputId": "03776fe0-aeee-4a47-9508-81fdeea11fcd"
      },
      "outputs": [
        {
          "name": "stdout",
          "output_type": "stream",
          "text": [
            "자궁근종 0.04 % \n",
            " 동의어: 자궁근종\n",
            " 진료과:  산부인과\n",
            " 질병 설명: 자궁의 평활근종은 자궁의 근육세포에서 생기는 종양입니다. 자궁에서 가장 흔히 발생하는 양성 종양입니다. 흔히 자궁근종이라고 부릅니다. 에스트로겐의 영향을 받는 일종의 호르몬 의존성 종양입니다. 여성에게 비교적 흔한 질병으로, 가임기 여성의 약 25~35%에서 발견됩니다. 특히 35세 이상의 여성 40~50%에게 발견됩니다.\n"
          ]
        }
      ],
      "source": [
        "second_info = aa[aa['원 질병이름'] == second_pred_disease_name]\n",
        "print(second_pred_disease_name, round(second[1]*100, 2),'%','\\n',\n",
        "      '동의어:', second_info['동의어'].values[0]+'\\n',\n",
        "      '진료과: ', second_info['진료과'].values[0]+'\\n',\n",
        "      '질병 설명:', second_info['정의'].values[0]\n",
        "      )"
      ]
    },
    {
      "cell_type": "code",
      "execution_count": null,
      "metadata": {
        "colab": {
          "base_uri": "https://localhost:8080/"
        },
        "id": "3fu-LYZQi9w6",
        "outputId": "ebe7a7aa-9f4a-44a5-c67d-24e065d02279"
      },
      "outputs": [
        {
          "name": "stdout",
          "output_type": "stream",
          "text": [
            "호르몬약물 사용으로 인한 증상 0.03 % \n",
            " 동의어: 업데이트 예정 (DB_5.17 추가 질병)\n",
            " 진료과:  업데이트 예정 (DB_5.17 추가 질병)\n",
            " 질병 설명: 업데이트 예정 (DB_5.17 추가 질병)\n"
          ]
        }
      ],
      "source": [
        "third_info = aa[aa['원 질병이름'] == third_pred_disease_name]\n",
        "print(third_pred_disease_name, round(third[1]*100, 2),'%','\\n',\n",
        "      '동의어:', third_info['동의어'].values[0]+'\\n',\n",
        "      '진료과: ', third_info['진료과'].values[0]+'\\n',\n",
        "      '질병 설명:', third_info['정의'].values[0]\n",
        "      )"
      ]
    },
    {
      "cell_type": "code",
      "execution_count": null,
      "metadata": {
        "id": "A6onlUC_i9HX"
      },
      "outputs": [],
      "source": []
    },
    {
      "cell_type": "code",
      "execution_count": null,
      "metadata": {
        "id": "-zpIC9SOi9OI"
      },
      "outputs": [],
      "source": []
    },
    {
      "cell_type": "code",
      "execution_count": null,
      "metadata": {
        "id": "7c4Florbi9UK"
      },
      "outputs": [],
      "source": []
    },
    {
      "cell_type": "code",
      "execution_count": null,
      "metadata": {
        "colab": {
          "base_uri": "https://localhost:8080/"
        },
        "id": "R7ZUICsWZ3rT",
        "outputId": "7dd05193-e6fc-414d-e539-a43e66822cae"
      },
      "outputs": [
        {
          "name": "stdout",
          "output_type": "stream",
          "text": [
            "소화성 궤양 71.36 % \n",
            " 동의어: 소화성 궤양,십이지장 궤양\n",
            " 진료과:  소화기내과, 노년내과\n",
            " 질병 설명: 위궤양은 위점막이 헐어서 궤양이 점막뿐만 아니라 근육층까지 침범한 것을 말합니다.\n"
          ]
        }
      ],
      "source": [
        "first_info = aa[aa['원 질병이름'] == first_pred_disease_name]\n",
        "print(first_pred_disease_name, round(first[1]*100, 2),'%','\\n',\n",
        "      '동의어:', first_info['동의어'].values[0]+'\\n',\n",
        "      '진료과: ', first_info['진료과'].values[0]+'\\n',\n",
        "      '질병 설명:', first_info['정의'].values[0]\n",
        "      )"
      ]
    },
    {
      "cell_type": "code",
      "execution_count": null,
      "metadata": {
        "colab": {
          "base_uri": "https://localhost:8080/"
        },
        "id": "nOw6S4eGZ3rT",
        "outputId": "e2a2dd59-b5d1-453e-fa9d-2d254fa628ef"
      },
      "outputs": [
        {
          "name": "stdout",
          "output_type": "stream",
          "text": [
            "섬유 낭종성 질환 7.76 % \n",
            " 동의어: 만성 유선염, 유방 이성형증\n",
            " 진료과:  유방외과\n",
            " 질병 설명: 유방의 섬유낭종성 질환은 “만성 유선염” 쉽게 말하면 젖 멍우리가 뭉친 것으로, 대부분 이 멍우리들은 월경 전에 딱딱하게 잡혔다가 월경이 끝나면 풀어져 부드럽게 되지만 스트레스 등에 의해서 여성호르몬의 분비가 균형을 잃게 되고 이러한 불균형이 계속되면 유선과 섬유질이 비대해지면서 유방통을 일으키는 섬유낭종성 질환이 됩니다.\n"
          ]
        }
      ],
      "source": [
        "second_info = aa[aa['원 질병이름'] == second_pred_disease_name]\n",
        "print(second_pred_disease_name, round(second[1]*100, 2),'%','\\n',\n",
        "      '동의어:', second_info['동의어'].values[0]+'\\n',\n",
        "      '진료과: ', second_info['진료과'].values[0]+'\\n',\n",
        "      '질병 설명:', second_info['정의'].values[0]\n",
        "      )"
      ]
    },
    {
      "cell_type": "code",
      "execution_count": null,
      "metadata": {
        "colab": {
          "base_uri": "https://localhost:8080/"
        },
        "id": "UqWEf2eaZ3rT",
        "outputId": "b422afc3-68ca-4ed7-8c76-30c98a37a2a4"
      },
      "outputs": [
        {
          "name": "stdout",
          "output_type": "stream",
          "text": [
            "역류성 식도염 3.93 % \n",
            " 동의어: 역류성 식도염,위 식도 역류질환\n",
            " 진료과:  가정의학과, 소화기내과, 위장관외과, 소아소화기영양과\n",
            " 질병 설명: 위식도 역류성 질환은 위 내용물이 소량씩 식도로 역류하고, 이러한 역류의 과정이 반복되어 식도 점막이 손상되어 염증이 나타나는 질환을 의미합니다. 이는 위와 식도 사이에서 위의 내용물이 식도로 올라오는 것을 막아 주는 조임쇠 역할을 하는 괄약근에 이상이 생겨 발생합니다.\n"
          ]
        }
      ],
      "source": [
        "third_info = aa[aa['원 질병이름'] == third_pred_disease_name]\n",
        "print(third_pred_disease_name, round(third[1]*100, 2),'%','\\n',\n",
        "      '동의어:', third_info['동의어'].values[0]+'\\n',\n",
        "      '진료과: ', third_info['진료과'].values[0]+'\\n',\n",
        "      '질병 설명:', third_info['정의'].values[0]\n",
        "      )"
      ]
    },
    {
      "cell_type": "code",
      "execution_count": null,
      "metadata": {
        "id": "7q2EvOWzZ3rT"
      },
      "outputs": [],
      "source": []
    },
    {
      "cell_type": "code",
      "execution_count": null,
      "metadata": {
        "id": "hf93zIVrZ3rU"
      },
      "outputs": [],
      "source": [
        "#v2"
      ]
    },
    {
      "cell_type": "code",
      "execution_count": null,
      "metadata": {
        "colab": {
          "base_uri": "https://localhost:8080/"
        },
        "id": "2UTUT35A_aMo",
        "outputId": "b559fdc6-4054-4e42-f630-fed43cd82ef7"
      },
      "outputs": [
        {
          "name": "stdout",
          "output_type": "stream",
          "text": [
            "소화성 궤양 69.83 % \n",
            " 동의어: 소화성 궤양,십이지장 궤양\n",
            " 진료과:  소화기내과, 노년내과\n",
            " 질병 설명: 위궤양은 위점막이 헐어서 궤양이 점막뿐만 아니라 근육층까지 침범한 것을 말합니다.\n"
          ]
        }
      ],
      "source": [
        "first_info = aa[aa['원 질병이름'] == first_pred_disease_name]\n",
        "print(first_pred_disease_name, round(first[1]*100, 2),'%','\\n',\n",
        "      '동의어:', first_info['동의어'].values[0]+'\\n',\n",
        "      '진료과: ', first_info['진료과'].values[0]+'\\n',\n",
        "      '질병 설명:', first_info['정의'].values[0]\n",
        "      )"
      ]
    },
    {
      "cell_type": "code",
      "execution_count": null,
      "metadata": {
        "colab": {
          "base_uri": "https://localhost:8080/"
        },
        "id": "IpYQN9UB_aMq",
        "outputId": "a223364f-906e-4d05-9dac-5eeafa9cb87a"
      },
      "outputs": [
        {
          "name": "stdout",
          "output_type": "stream",
          "text": [
            "다낭성 난소 증후군 7.35 % \n",
            " 동의어: 다낭성난소증\n",
            " 진료과:  산부인과\n",
            " 질병 설명: 다낭성 난소 증후군은 시상하부-뇌하수체-난소의 호르몬 이상으로 난소의 남성 호르몬 분비가 증가하여 배란이 잘 이루어지지 않아 월경 불순, 다모증, 비만, 불임이 발생하고, 장기적으로 대사 증후군과 연관되는 질환을 의미합니다. 이 질환에는 인슐린 저항성 또는 고인슐린혈증이 동반될 수 있습니다.\n"
          ]
        }
      ],
      "source": [
        "second_info = aa[aa['원 질병이름'] == second_pred_disease_name]\n",
        "print(second_pred_disease_name, round(second[1]*100, 2),'%','\\n',\n",
        "      '동의어:', second_info['동의어'].values[0]+'\\n',\n",
        "      '진료과: ', second_info['진료과'].values[0]+'\\n',\n",
        "      '질병 설명:', second_info['정의'].values[0]\n",
        "      )"
      ]
    },
    {
      "cell_type": "code",
      "execution_count": null,
      "metadata": {
        "colab": {
          "base_uri": "https://localhost:8080/"
        },
        "id": "07xvzTli_aMs",
        "outputId": "23d9e361-f91c-4cff-eff0-eba1d0787a1c"
      },
      "outputs": [
        {
          "name": "stdout",
          "output_type": "stream",
          "text": [
            "식도 정맥류 파열 3.55 % \n",
            " 동의어: Esophageal Varix\n",
            " 진료과:  소화기내과\n",
            " 질병 설명: 식도 정맥류는 식도에 있는 정맥이 혹처럼 부풀어 오르는 질환입니다. 이 질환은 간경변증의 주요 합병증입니다.\n"
          ]
        }
      ],
      "source": [
        "third_info = aa[aa['원 질병이름'] == third_pred_disease_name]\n",
        "print(third_pred_disease_name, round(third[1]*100, 2),'%','\\n',\n",
        "      '동의어:', third_info['동의어'].values[0]+'\\n',\n",
        "      '진료과: ', third_info['진료과'].values[0]+'\\n',\n",
        "      '질병 설명:', third_info['정의'].values[0]\n",
        "      )"
      ]
    },
    {
      "cell_type": "code",
      "execution_count": null,
      "metadata": {
        "id": "kc2tDOhcZ3rU"
      },
      "outputs": [],
      "source": []
    },
    {
      "cell_type": "code",
      "execution_count": null,
      "metadata": {
        "id": "vIxeX2y2Z3rU"
      },
      "outputs": [],
      "source": [
        "# v2_1"
      ]
    },
    {
      "cell_type": "code",
      "execution_count": null,
      "metadata": {
        "colab": {
          "base_uri": "https://localhost:8080/"
        },
        "id": "plp9cV_hDdvV",
        "outputId": "742f93ca-1254-4784-ddc2-1f0e162a57a5"
      },
      "outputs": [
        {
          "name": "stdout",
          "output_type": "stream",
          "text": [
            "소화성 궤양 94.87 % \n",
            " 동의어: 소화성 궤양,십이지장 궤양\n",
            " 진료과:  소화기내과, 노년내과\n",
            " 질병 설명: 위궤양은 위점막이 헐어서 궤양이 점막뿐만 아니라 근육층까지 침범한 것을 말합니다.\n"
          ]
        }
      ],
      "source": [
        "first_info = aa[aa['원 질병이름'] == first_pred_disease_name]\n",
        "print(first_pred_disease_name, round(first[1]*100, 2),'%','\\n',\n",
        "      '동의어:', first_info['동의어'].values[0]+'\\n',\n",
        "      '진료과: ', first_info['진료과'].values[0]+'\\n',\n",
        "      '질병 설명:', first_info['정의'].values[0]\n",
        "      )"
      ]
    },
    {
      "cell_type": "code",
      "execution_count": null,
      "metadata": {
        "colab": {
          "base_uri": "https://localhost:8080/"
        },
        "id": "Mr2l0ayNDdvW",
        "outputId": "65a928e1-56f2-43f4-a49f-a2d122a7a224"
      },
      "outputs": [
        {
          "name": "stdout",
          "output_type": "stream",
          "text": [
            "식도 정맥류 파열 3.65 % \n",
            " 동의어: Esophageal Varix\n",
            " 진료과:  소화기내과\n",
            " 질병 설명: 식도 정맥류는 식도에 있는 정맥이 혹처럼 부풀어 오르는 질환입니다. 이 질환은 간경변증의 주요 합병증입니다.\n"
          ]
        }
      ],
      "source": [
        "second_info = aa[aa['원 질병이름'] == second_pred_disease_name]\n",
        "print(second_pred_disease_name, round(second[1]*100, 2),'%','\\n',\n",
        "      '동의어:', second_info['동의어'].values[0]+'\\n',\n",
        "      '진료과: ', second_info['진료과'].values[0]+'\\n',\n",
        "      '질병 설명:', second_info['정의'].values[0]\n",
        "      )"
      ]
    },
    {
      "cell_type": "code",
      "execution_count": null,
      "metadata": {
        "colab": {
          "base_uri": "https://localhost:8080/"
        },
        "id": "Rk-KqvacDdvX",
        "outputId": "76accd5b-7999-4087-ae86-3790cfb59c72"
      },
      "outputs": [
        {
          "name": "stdout",
          "output_type": "stream",
          "text": [
            "역류성 식도염 0.32 % \n",
            " 동의어: 역류성 식도염,위 식도 역류질환\n",
            " 진료과:  가정의학과, 소화기내과, 위장관외과, 소아소화기영양과\n",
            " 질병 설명: 위식도 역류성 질환은 위 내용물이 소량씩 식도로 역류하고, 이러한 역류의 과정이 반복되어 식도 점막이 손상되어 염증이 나타나는 질환을 의미합니다. 이는 위와 식도 사이에서 위의 내용물이 식도로 올라오는 것을 막아 주는 조임쇠 역할을 하는 괄약근에 이상이 생겨 발생합니다.\n"
          ]
        }
      ],
      "source": [
        "third_info = aa[aa['원 질병이름'] == third_pred_disease_name]\n",
        "print(third_pred_disease_name, round(third[1]*100, 2),'%','\\n',\n",
        "      '동의어:', third_info['동의어'].values[0]+'\\n',\n",
        "      '진료과: ', third_info['진료과'].values[0]+'\\n',\n",
        "      '질병 설명:', third_info['정의'].values[0]\n",
        "      )"
      ]
    },
    {
      "cell_type": "code",
      "execution_count": null,
      "metadata": {
        "id": "7hXZRXFLZ3rU"
      },
      "outputs": [],
      "source": []
    },
    {
      "cell_type": "code",
      "execution_count": null,
      "metadata": {
        "id": "9C6urDhiZ3rU"
      },
      "outputs": [],
      "source": []
    },
    {
      "cell_type": "code",
      "execution_count": null,
      "metadata": {
        "id": "jo0OfevjZ3rU"
      },
      "outputs": [],
      "source": []
    },
    {
      "cell_type": "code",
      "execution_count": null,
      "metadata": {
        "id": "1ONqGY3yZ3rU"
      },
      "outputs": [],
      "source": []
    },
    {
      "cell_type": "code",
      "execution_count": null,
      "metadata": {
        "id": "NUv9Gp-rZ3rU"
      },
      "outputs": [],
      "source": []
    },
    {
      "cell_type": "code",
      "execution_count": null,
      "metadata": {
        "id": "KyCh1KE0Z3rU"
      },
      "outputs": [],
      "source": []
    },
    {
      "cell_type": "code",
      "execution_count": null,
      "metadata": {
        "id": "agiiKzU5Z3rU"
      },
      "outputs": [],
      "source": []
    },
    {
      "cell_type": "code",
      "execution_count": null,
      "metadata": {
        "id": "QZjFjmnwN61W"
      },
      "outputs": [],
      "source": []
    },
    {
      "cell_type": "markdown",
      "metadata": {
        "id": "Gb6QiBviN61M"
      },
      "source": [
        "# **Transformer**\n",
        "\n"
      ]
    },
    {
      "cell_type": "code",
      "execution_count": null,
      "metadata": {
        "id": "tGD4ySd8N61N"
      },
      "outputs": [],
      "source": [
        "'''\n",
        "women\n",
        "Accuracy of Test: 0.7505\n",
        "Precision of Test: 0.8537\n",
        "top_k_result: 0.8452\n",
        "\n",
        "\n",
        "men \n",
        "Accuracy of Test: 0.7798\n",
        "Precision of Test: 0.8555\n",
        "top_k_result: 0.8687\n",
        "\n",
        "\n",
        "\n",
        "'''"
      ]
    },
    {
      "cell_type": "code",
      "execution_count": null,
      "metadata": {
        "colab": {
          "base_uri": "https://localhost:8080/"
        },
        "id": "rFX-Zg_cN61N",
        "outputId": "41857827-77ee-40d7-d0c2-0edb995af076"
      },
      "outputs": [
        {
          "name": "stdout",
          "output_type": "stream",
          "text": [
            "소화성 궤양 99.62 % \n",
            " 동의어: 소화성 궤양,십이지장 궤양\n",
            " 진료과:  소화기내과, 노년내과\n",
            " 질병 설명: 위궤양은 위점막이 헐어서 궤양이 점막뿐만 아니라 근육층까지 침범한 것을 말합니다.\n"
          ]
        }
      ],
      "source": [
        "first_info = aa[aa['원 질병이름'] == first_pred_disease_name]\n",
        "print(first_pred_disease_name, round(first[1]*100, 2),'%','\\n',\n",
        "      '동의어:', first_info['동의어'].values[0]+'\\n',\n",
        "      '진료과: ', first_info['진료과'].values[0]+'\\n',\n",
        "      '질병 설명:', first_info['정의'].values[0]\n",
        "      )"
      ]
    },
    {
      "cell_type": "code",
      "execution_count": null,
      "metadata": {
        "colab": {
          "base_uri": "https://localhost:8080/",
          "height": 36
        },
        "id": "mV_9d0Q9N61P",
        "outputId": "c98075c0-8525-4e38-e67d-e84da19cb623"
      },
      "outputs": [
        {
          "data": {
            "application/vnd.google.colaboratory.intrinsic+json": {
              "type": "string"
            },
            "text/plain": [
              "'소화기내과, 노년내과'"
            ]
          },
          "execution_count": 291,
          "metadata": {},
          "output_type": "execute_result"
        }
      ],
      "source": [
        "first_info = aa[aa['원 질병이름'] == first_pred_disease_name]\n",
        "first_info['진료과'].values[0]\n"
      ]
    },
    {
      "cell_type": "code",
      "execution_count": null,
      "metadata": {
        "colab": {
          "base_uri": "https://localhost:8080/"
        },
        "id": "1wPxTXd3N61P",
        "outputId": "754cf02b-c648-4ba2-9c79-5eb7a19ac132"
      },
      "outputs": [
        {
          "name": "stdout",
          "output_type": "stream",
          "text": [
            "방광염 0.12 % \n",
            " 동의어: 방광 감염,방광 염증,방광염,오줌소태,하부요로감염\n",
            " 진료과:  비뇨의학과\n",
            " 질병 설명: 급성 방광염은 신장에서 만들어진 소변이 보관되는 장기인 방광에 감염이 발생한 질환입니다.\n"
          ]
        }
      ],
      "source": [
        "second_info = aa[aa['원 질병이름'] == second_pred_disease_name]\n",
        "print(second_pred_disease_name, round(second[1]*100, 2),'%','\\n',\n",
        "      '동의어:', second_info['동의어'].values[0]+'\\n',\n",
        "      '진료과: ', second_info['진료과'].values[0]+'\\n',\n",
        "      '질병 설명:', second_info['정의'].values[0]\n",
        "      )"
      ]
    },
    {
      "cell_type": "code",
      "execution_count": null,
      "metadata": {
        "colab": {
          "base_uri": "https://localhost:8080/"
        },
        "id": "hLC1QNpKN61Q",
        "outputId": "0b0ee78d-e8f2-4f76-e6b4-1ff946df4d79"
      },
      "outputs": [
        {
          "name": "stdout",
          "output_type": "stream",
          "text": [
            "기립성 저혈압(혈량저하증 동반 가능) 0.05 % \n",
            " 동의어: 저혈압\n",
            " 진료과:  심장내과/심장병원\n",
            " 질병 설명: 갑자기 앉았다가 일어서거나 누워 있다가 벌떡 일어날 때 순간적으로 혈압이 낮아지고 뇌 혈류가 떨어지면서 어지러워지는 것입니다.\n"
          ]
        }
      ],
      "source": [
        "third_info = aa[aa['원 질병이름'] == third_pred_disease_name]\n",
        "print(third_pred_disease_name, round(third[1]*100, 2),'%','\\n',\n",
        "      '동의어:', third_info['동의어'].values[0]+'\\n',\n",
        "      '진료과: ', third_info['진료과'].values[0]+'\\n',\n",
        "      '질병 설명:', third_info['정의'].values[0]\n",
        "      )"
      ]
    },
    {
      "cell_type": "code",
      "execution_count": null,
      "metadata": {
        "id": "Y4y320rON61R"
      },
      "outputs": [],
      "source": [
        "# women"
      ]
    },
    {
      "cell_type": "code",
      "execution_count": null,
      "metadata": {
        "colab": {
          "base_uri": "https://localhost:8080/"
        },
        "id": "iMo_lx8wN61W",
        "outputId": "77fff5df-f0a6-47b5-f7fe-8e7664dd53dd"
      },
      "outputs": [
        {
          "name": "stdout",
          "output_type": "stream",
          "text": [
            "갑상샘과다증 36.06 % \n",
            " 동의어: 갑상샘 기능 항진증,갑상샘항진증,갑상선 항진증\n",
            " 진료과:  가정의학과, 내분비내과, 내분비외과\n",
            " 질병 설명: 우리 목 안에는 나비 모양의 갑상선이라는 기관이 있습니다. 갑상선에서는 갑상선호르몬을 배출하여 우리 몸의 여러 기능을 조절합니다. 갑상선기능항진증은 갑상선호르몬이 정상보다 많이 분비되어 몸의 에너지가 빨리 소모되고 많은 기능이 항진되는 질병을 말합니다.\n"
          ]
        }
      ],
      "source": [
        "first_info = aa[aa['원 질병이름'] == first_pred_disease_name]\n",
        "print(first_pred_disease_name, round(first[1]*100, 2),'%','\\n',\n",
        "      '동의어:', first_info['동의어'].values[0]+'\\n',\n",
        "      '진료과: ', first_info['진료과'].values[0]+'\\n',\n",
        "      '질병 설명:', first_info['정의'].values[0]\n",
        "      )"
      ]
    },
    {
      "cell_type": "code",
      "execution_count": null,
      "metadata": {
        "colab": {
          "base_uri": "https://localhost:8080/"
        },
        "id": "OGYHT9n2N61X",
        "outputId": "5d64a3b0-b49d-462a-8ed5-2e74f64e16c5"
      },
      "outputs": [
        {
          "name": "stdout",
          "output_type": "stream",
          "text": [
            "폐경에 의한 고혈압 35.59 % \n",
            " 동의어: 폐경기\n",
            " 진료과:  내분비내과, 산부인과\n",
            " 질병 설명: 폐경기에 접어들면서 혈중 콜레스테롤의 증가로 인하여 고혈압 및 관상동맥 질환이 발생한 것을 의미합니다.\n"
          ]
        }
      ],
      "source": [
        "second_info = aa[aa['원 질병이름'] == second_pred_disease_name]\n",
        "print(second_pred_disease_name, round(second[1]*100, 2),'%','\\n',\n",
        "      '동의어:', second_info['동의어'].values[0]+'\\n',\n",
        "      '진료과: ', second_info['진료과'].values[0]+'\\n',\n",
        "      '질병 설명:', second_info['정의'].values[0]\n",
        "      )"
      ]
    },
    {
      "cell_type": "code",
      "execution_count": null,
      "metadata": {
        "colab": {
          "base_uri": "https://localhost:8080/"
        },
        "id": "LdaZvfX-N61X",
        "outputId": "7e0b9c8e-b427-4e0f-8b6d-7739fde4a470"
      },
      "outputs": [
        {
          "name": "stdout",
          "output_type": "stream",
          "text": [
            "갑상선기능항진증 8.1 % \n",
            " 동의어: 갑상샘 기능 항진증,갑상샘항진증,갑상선 항진증\n",
            " 진료과:  가정의학과, 내분비내과, 내분비외과\n",
            " 질병 설명: 우리 목 안에는 나비 모양의 갑상선이라는 기관이 있습니다. 갑상선에서는 갑상선호르몬을 배출하여 우리 몸의 여러 기능을 조절합니다. 갑상선기능항진증은 갑상선호르몬이 정상보다 많이 분비되어 몸의 에너지가 빨리 소모되고 많은 기능이 항진되는 질병을 말합니다.\n"
          ]
        }
      ],
      "source": [
        "third_info = aa[aa['원 질병이름'] == third_pred_disease_name]\n",
        "print(third_pred_disease_name, round(third[1]*100, 2),'%','\\n',\n",
        "      '동의어:', third_info['동의어'].values[0]+'\\n',\n",
        "      '진료과: ', third_info['진료과'].values[0]+'\\n',\n",
        "      '질병 설명:', third_info['정의'].values[0]\n",
        "      )"
      ]
    },
    {
      "cell_type": "code",
      "execution_count": null,
      "metadata": {
        "id": "eD6ciRmqN61X"
      },
      "outputs": [],
      "source": []
    },
    {
      "cell_type": "code",
      "execution_count": null,
      "metadata": {
        "id": "dvEvGqZUN61Y"
      },
      "outputs": [],
      "source": []
    },
    {
      "cell_type": "code",
      "execution_count": null,
      "metadata": {
        "id": "OlrsyQHaN61Y"
      },
      "outputs": [],
      "source": []
    },
    {
      "cell_type": "code",
      "execution_count": null,
      "metadata": {
        "id": "xgFYq9ABN61Y"
      },
      "outputs": [],
      "source": []
    },
    {
      "cell_type": "code",
      "execution_count": null,
      "metadata": {
        "id": "iOxiTcs0N61Y"
      },
      "outputs": [],
      "source": []
    },
    {
      "cell_type": "code",
      "execution_count": null,
      "metadata": {
        "id": "vf8ak5z4N61Z"
      },
      "outputs": [],
      "source": []
    },
    {
      "cell_type": "code",
      "execution_count": null,
      "metadata": {
        "id": "-R9NUtvWN61Z"
      },
      "outputs": [],
      "source": []
    },
    {
      "cell_type": "code",
      "execution_count": null,
      "metadata": {
        "id": "O2xsJ1UvN61Z"
      },
      "outputs": [],
      "source": []
    },
    {
      "cell_type": "code",
      "execution_count": null,
      "metadata": {
        "id": "AyxVDz6DN61Z"
      },
      "outputs": [],
      "source": []
    },
    {
      "cell_type": "code",
      "execution_count": null,
      "metadata": {
        "id": "_01BUoTdN61a"
      },
      "outputs": [],
      "source": []
    },
    {
      "cell_type": "code",
      "execution_count": null,
      "metadata": {
        "id": "HwZ3wYkvJEq_"
      },
      "outputs": [],
      "source": []
    }
  ],
  "metadata": {
    "colab": {
      "collapsed_sections": [
        "iZZcnNXBKlHb",
        "aayyq2tF1gFs",
        "mh7Cfaw33m2a",
        "ECoRD3tB2uyt",
        "GZBPjslh_yH4",
        "o9bs7Z0vAMfg"
      ],
      "name": "AI진단_Level2추가",
      "provenance": [],
      "toc_visible": true
    },
    "interpreter": {
      "hash": "1d5c1156327dacead463cc502c55ebae8ce9c8c01979cf154173ff808e75bf55"
    },
    "kernelspec": {
      "display_name": "Python 3.9.1 64-bit",
      "language": "python",
      "name": "python3"
    },
    "language_info": {
      "codemirror_mode": {
        "name": "ipython",
        "version": 3
      },
      "file_extension": ".py",
      "mimetype": "text/x-python",
      "name": "python",
      "nbconvert_exporter": "python",
      "pygments_lexer": "ipython3",
      "version": "3.9.6"
    },
    "widgets": {
      "application/vnd.jupyter.widget-state+json": {
        "0176c15c45e744f0851f81618b560954": {
          "model_module": "@jupyter-widgets/base",
          "model_module_version": "1.2.0",
          "model_name": "LayoutModel",
          "state": {
            "_model_module": "@jupyter-widgets/base",
            "_model_module_version": "1.2.0",
            "_model_name": "LayoutModel",
            "_view_count": null,
            "_view_module": "@jupyter-widgets/base",
            "_view_module_version": "1.2.0",
            "_view_name": "LayoutView",
            "align_content": null,
            "align_items": null,
            "align_self": null,
            "border": null,
            "bottom": null,
            "display": null,
            "flex": null,
            "flex_flow": null,
            "grid_area": null,
            "grid_auto_columns": null,
            "grid_auto_flow": null,
            "grid_auto_rows": null,
            "grid_column": null,
            "grid_gap": null,
            "grid_row": null,
            "grid_template_areas": null,
            "grid_template_columns": null,
            "grid_template_rows": null,
            "height": null,
            "justify_content": null,
            "justify_items": null,
            "left": null,
            "margin": null,
            "max_height": null,
            "max_width": null,
            "min_height": null,
            "min_width": null,
            "object_fit": null,
            "object_position": null,
            "order": null,
            "overflow": null,
            "overflow_x": null,
            "overflow_y": null,
            "padding": null,
            "right": null,
            "top": null,
            "visibility": null,
            "width": null
          }
        },
        "095a8db1db5c4f15a19bb4e0e764b363": {
          "model_module": "@jupyter-widgets/controls",
          "model_module_version": "1.5.0",
          "model_name": "DescriptionStyleModel",
          "state": {
            "_model_module": "@jupyter-widgets/controls",
            "_model_module_version": "1.5.0",
            "_model_name": "DescriptionStyleModel",
            "_view_count": null,
            "_view_module": "@jupyter-widgets/base",
            "_view_module_version": "1.2.0",
            "_view_name": "StyleView",
            "description_width": ""
          }
        },
        "0cb6be0e9d8349f9ab2fcbf398f49a46": {
          "model_module": "@jupyter-widgets/controls",
          "model_module_version": "1.5.0",
          "model_name": "DescriptionStyleModel",
          "state": {
            "_model_module": "@jupyter-widgets/controls",
            "_model_module_version": "1.5.0",
            "_model_name": "DescriptionStyleModel",
            "_view_count": null,
            "_view_module": "@jupyter-widgets/base",
            "_view_module_version": "1.2.0",
            "_view_name": "StyleView",
            "description_width": ""
          }
        },
        "0d832e9a129a4febb9b213c3df517b8a": {
          "model_module": "@jupyter-widgets/base",
          "model_module_version": "1.2.0",
          "model_name": "LayoutModel",
          "state": {
            "_model_module": "@jupyter-widgets/base",
            "_model_module_version": "1.2.0",
            "_model_name": "LayoutModel",
            "_view_count": null,
            "_view_module": "@jupyter-widgets/base",
            "_view_module_version": "1.2.0",
            "_view_name": "LayoutView",
            "align_content": null,
            "align_items": null,
            "align_self": null,
            "border": null,
            "bottom": null,
            "display": null,
            "flex": null,
            "flex_flow": null,
            "grid_area": null,
            "grid_auto_columns": null,
            "grid_auto_flow": null,
            "grid_auto_rows": null,
            "grid_column": null,
            "grid_gap": null,
            "grid_row": null,
            "grid_template_areas": null,
            "grid_template_columns": null,
            "grid_template_rows": null,
            "height": null,
            "justify_content": null,
            "justify_items": null,
            "left": null,
            "margin": null,
            "max_height": null,
            "max_width": null,
            "min_height": null,
            "min_width": null,
            "object_fit": null,
            "object_position": null,
            "order": null,
            "overflow": null,
            "overflow_x": null,
            "overflow_y": null,
            "padding": null,
            "right": null,
            "top": null,
            "visibility": null,
            "width": null
          }
        },
        "1f5b3b2c0ba84138930b3eb6cbdf11a1": {
          "model_module": "@jupyter-widgets/controls",
          "model_module_version": "1.5.0",
          "model_name": "HTMLModel",
          "state": {
            "_dom_classes": [],
            "_model_module": "@jupyter-widgets/controls",
            "_model_module_version": "1.5.0",
            "_model_name": "HTMLModel",
            "_view_count": null,
            "_view_module": "@jupyter-widgets/controls",
            "_view_module_version": "1.5.0",
            "_view_name": "HTMLView",
            "description": "",
            "description_tooltip": null,
            "layout": "IPY_MODEL_cb51cdf6bf1744a499074b4fcf9223d5",
            "placeholder": "​",
            "style": "IPY_MODEL_c8c4570355dc4830981430d98b95c96a",
            "value": "Downloading: 100%"
          }
        },
        "22216371c1ca414ca9c1baf55a7c3c9e": {
          "model_module": "@jupyter-widgets/base",
          "model_module_version": "1.2.0",
          "model_name": "LayoutModel",
          "state": {
            "_model_module": "@jupyter-widgets/base",
            "_model_module_version": "1.2.0",
            "_model_name": "LayoutModel",
            "_view_count": null,
            "_view_module": "@jupyter-widgets/base",
            "_view_module_version": "1.2.0",
            "_view_name": "LayoutView",
            "align_content": null,
            "align_items": null,
            "align_self": null,
            "border": null,
            "bottom": null,
            "display": null,
            "flex": null,
            "flex_flow": null,
            "grid_area": null,
            "grid_auto_columns": null,
            "grid_auto_flow": null,
            "grid_auto_rows": null,
            "grid_column": null,
            "grid_gap": null,
            "grid_row": null,
            "grid_template_areas": null,
            "grid_template_columns": null,
            "grid_template_rows": null,
            "height": null,
            "justify_content": null,
            "justify_items": null,
            "left": null,
            "margin": null,
            "max_height": null,
            "max_width": null,
            "min_height": null,
            "min_width": null,
            "object_fit": null,
            "object_position": null,
            "order": null,
            "overflow": null,
            "overflow_x": null,
            "overflow_y": null,
            "padding": null,
            "right": null,
            "top": null,
            "visibility": null,
            "width": null
          }
        },
        "22b680d316734f208a2ff4965edda0ee": {
          "model_module": "@jupyter-widgets/base",
          "model_module_version": "1.2.0",
          "model_name": "LayoutModel",
          "state": {
            "_model_module": "@jupyter-widgets/base",
            "_model_module_version": "1.2.0",
            "_model_name": "LayoutModel",
            "_view_count": null,
            "_view_module": "@jupyter-widgets/base",
            "_view_module_version": "1.2.0",
            "_view_name": "LayoutView",
            "align_content": null,
            "align_items": null,
            "align_self": null,
            "border": null,
            "bottom": null,
            "display": null,
            "flex": null,
            "flex_flow": null,
            "grid_area": null,
            "grid_auto_columns": null,
            "grid_auto_flow": null,
            "grid_auto_rows": null,
            "grid_column": null,
            "grid_gap": null,
            "grid_row": null,
            "grid_template_areas": null,
            "grid_template_columns": null,
            "grid_template_rows": null,
            "height": null,
            "justify_content": null,
            "justify_items": null,
            "left": null,
            "margin": null,
            "max_height": null,
            "max_width": null,
            "min_height": null,
            "min_width": null,
            "object_fit": null,
            "object_position": null,
            "order": null,
            "overflow": null,
            "overflow_x": null,
            "overflow_y": null,
            "padding": null,
            "right": null,
            "top": null,
            "visibility": null,
            "width": null
          }
        },
        "22dc9d0c900244409d9772d8a1e40b4d": {
          "model_module": "@jupyter-widgets/base",
          "model_module_version": "1.2.0",
          "model_name": "LayoutModel",
          "state": {
            "_model_module": "@jupyter-widgets/base",
            "_model_module_version": "1.2.0",
            "_model_name": "LayoutModel",
            "_view_count": null,
            "_view_module": "@jupyter-widgets/base",
            "_view_module_version": "1.2.0",
            "_view_name": "LayoutView",
            "align_content": null,
            "align_items": null,
            "align_self": null,
            "border": null,
            "bottom": null,
            "display": null,
            "flex": null,
            "flex_flow": null,
            "grid_area": null,
            "grid_auto_columns": null,
            "grid_auto_flow": null,
            "grid_auto_rows": null,
            "grid_column": null,
            "grid_gap": null,
            "grid_row": null,
            "grid_template_areas": null,
            "grid_template_columns": null,
            "grid_template_rows": null,
            "height": null,
            "justify_content": null,
            "justify_items": null,
            "left": null,
            "margin": null,
            "max_height": null,
            "max_width": null,
            "min_height": null,
            "min_width": null,
            "object_fit": null,
            "object_position": null,
            "order": null,
            "overflow": null,
            "overflow_x": null,
            "overflow_y": null,
            "padding": null,
            "right": null,
            "top": null,
            "visibility": null,
            "width": null
          }
        },
        "233f85e0dece480889be197d7af6886b": {
          "model_module": "@jupyter-widgets/base",
          "model_module_version": "1.2.0",
          "model_name": "LayoutModel",
          "state": {
            "_model_module": "@jupyter-widgets/base",
            "_model_module_version": "1.2.0",
            "_model_name": "LayoutModel",
            "_view_count": null,
            "_view_module": "@jupyter-widgets/base",
            "_view_module_version": "1.2.0",
            "_view_name": "LayoutView",
            "align_content": null,
            "align_items": null,
            "align_self": null,
            "border": null,
            "bottom": null,
            "display": null,
            "flex": null,
            "flex_flow": null,
            "grid_area": null,
            "grid_auto_columns": null,
            "grid_auto_flow": null,
            "grid_auto_rows": null,
            "grid_column": null,
            "grid_gap": null,
            "grid_row": null,
            "grid_template_areas": null,
            "grid_template_columns": null,
            "grid_template_rows": null,
            "height": null,
            "justify_content": null,
            "justify_items": null,
            "left": null,
            "margin": null,
            "max_height": null,
            "max_width": null,
            "min_height": null,
            "min_width": null,
            "object_fit": null,
            "object_position": null,
            "order": null,
            "overflow": null,
            "overflow_x": null,
            "overflow_y": null,
            "padding": null,
            "right": null,
            "top": null,
            "visibility": null,
            "width": null
          }
        },
        "23616e8b635249778a30fba884c800b9": {
          "model_module": "@jupyter-widgets/controls",
          "model_module_version": "1.5.0",
          "model_name": "HBoxModel",
          "state": {
            "_dom_classes": [],
            "_model_module": "@jupyter-widgets/controls",
            "_model_module_version": "1.5.0",
            "_model_name": "HBoxModel",
            "_view_count": null,
            "_view_module": "@jupyter-widgets/controls",
            "_view_module_version": "1.5.0",
            "_view_name": "HBoxView",
            "box_style": "",
            "children": [
              "IPY_MODEL_815c7b812fb94646985704cd00be3cb9",
              "IPY_MODEL_ba9e48a51e03453ca3d4f975753800de",
              "IPY_MODEL_bd13eee1fd5c4d0281d40b4e6e555f0f"
            ],
            "layout": "IPY_MODEL_98b701b0abcc4288bc0442cd28a013a6"
          }
        },
        "23fcc8004bb9461b8d3dfb9403a4f5e9": {
          "model_module": "@jupyter-widgets/base",
          "model_module_version": "1.2.0",
          "model_name": "LayoutModel",
          "state": {
            "_model_module": "@jupyter-widgets/base",
            "_model_module_version": "1.2.0",
            "_model_name": "LayoutModel",
            "_view_count": null,
            "_view_module": "@jupyter-widgets/base",
            "_view_module_version": "1.2.0",
            "_view_name": "LayoutView",
            "align_content": null,
            "align_items": null,
            "align_self": null,
            "border": null,
            "bottom": null,
            "display": null,
            "flex": null,
            "flex_flow": null,
            "grid_area": null,
            "grid_auto_columns": null,
            "grid_auto_flow": null,
            "grid_auto_rows": null,
            "grid_column": null,
            "grid_gap": null,
            "grid_row": null,
            "grid_template_areas": null,
            "grid_template_columns": null,
            "grid_template_rows": null,
            "height": null,
            "justify_content": null,
            "justify_items": null,
            "left": null,
            "margin": null,
            "max_height": null,
            "max_width": null,
            "min_height": null,
            "min_width": null,
            "object_fit": null,
            "object_position": null,
            "order": null,
            "overflow": null,
            "overflow_x": null,
            "overflow_y": null,
            "padding": null,
            "right": null,
            "top": null,
            "visibility": null,
            "width": null
          }
        },
        "261ee52d06a94bd7ba6fd76eb1a4b7c8": {
          "model_module": "@jupyter-widgets/controls",
          "model_module_version": "1.5.0",
          "model_name": "ProgressStyleModel",
          "state": {
            "_model_module": "@jupyter-widgets/controls",
            "_model_module_version": "1.5.0",
            "_model_name": "ProgressStyleModel",
            "_view_count": null,
            "_view_module": "@jupyter-widgets/base",
            "_view_module_version": "1.2.0",
            "_view_name": "StyleView",
            "bar_color": null,
            "description_width": ""
          }
        },
        "266a5295f61d4d49929410349420020c": {
          "model_module": "@jupyter-widgets/controls",
          "model_module_version": "1.5.0",
          "model_name": "HTMLModel",
          "state": {
            "_dom_classes": [],
            "_model_module": "@jupyter-widgets/controls",
            "_model_module_version": "1.5.0",
            "_model_name": "HTMLModel",
            "_view_count": null,
            "_view_module": "@jupyter-widgets/controls",
            "_view_module_version": "1.5.0",
            "_view_name": "HTMLView",
            "description": "",
            "description_tooltip": null,
            "layout": "IPY_MODEL_22216371c1ca414ca9c1baf55a7c3c9e",
            "placeholder": "​",
            "style": "IPY_MODEL_6e4ec162af10426ca643faa1b14a24d5",
            "value": " 2256/2256 [09:28&lt;00:00,  4.24it/s]"
          }
        },
        "2ec29fb316114b9ab46fff0d1effe296": {
          "model_module": "@jupyter-widgets/controls",
          "model_module_version": "1.5.0",
          "model_name": "FloatProgressModel",
          "state": {
            "_dom_classes": [],
            "_model_module": "@jupyter-widgets/controls",
            "_model_module_version": "1.5.0",
            "_model_name": "FloatProgressModel",
            "_view_count": null,
            "_view_module": "@jupyter-widgets/controls",
            "_view_module_version": "1.5.0",
            "_view_name": "ProgressView",
            "bar_style": "success",
            "description": "",
            "description_tooltip": null,
            "layout": "IPY_MODEL_22dc9d0c900244409d9772d8a1e40b4d",
            "max": 725,
            "min": 0,
            "orientation": "horizontal",
            "style": "IPY_MODEL_3cc075f11f7041ba9704043e4664304f",
            "value": 725
          }
        },
        "2fb7ce3d2225478dbdfc1d30538bb6ea": {
          "model_module": "@jupyter-widgets/controls",
          "model_module_version": "1.5.0",
          "model_name": "FloatProgressModel",
          "state": {
            "_dom_classes": [],
            "_model_module": "@jupyter-widgets/controls",
            "_model_module_version": "1.5.0",
            "_model_name": "FloatProgressModel",
            "_view_count": null,
            "_view_module": "@jupyter-widgets/controls",
            "_view_module_version": "1.5.0",
            "_view_name": "ProgressView",
            "bar_style": "success",
            "description": "",
            "description_tooltip": null,
            "layout": "IPY_MODEL_23fcc8004bb9461b8d3dfb9403a4f5e9",
            "max": 2256,
            "min": 0,
            "orientation": "horizontal",
            "style": "IPY_MODEL_c1285cce595147adb8da00157a5a3eb9",
            "value": 2256
          }
        },
        "2fdec648b0054bf0a84bf40f7ae6bd7e": {
          "model_module": "@jupyter-widgets/controls",
          "model_module_version": "1.5.0",
          "model_name": "DescriptionStyleModel",
          "state": {
            "_model_module": "@jupyter-widgets/controls",
            "_model_module_version": "1.5.0",
            "_model_name": "DescriptionStyleModel",
            "_view_count": null,
            "_view_module": "@jupyter-widgets/base",
            "_view_module_version": "1.2.0",
            "_view_name": "StyleView",
            "description_width": ""
          }
        },
        "32c4e00390bc44e699817e7282895bcc": {
          "model_module": "@jupyter-widgets/controls",
          "model_module_version": "1.5.0",
          "model_name": "HBoxModel",
          "state": {
            "_dom_classes": [],
            "_model_module": "@jupyter-widgets/controls",
            "_model_module_version": "1.5.0",
            "_model_name": "HBoxModel",
            "_view_count": null,
            "_view_module": "@jupyter-widgets/controls",
            "_view_module_version": "1.5.0",
            "_view_name": "HBoxView",
            "box_style": "",
            "children": [
              "IPY_MODEL_79dac46daf654208b6dbf64de87eec6e",
              "IPY_MODEL_2fb7ce3d2225478dbdfc1d30538bb6ea",
              "IPY_MODEL_dddd8ff0f1d64f32be68312d21c75da4"
            ],
            "layout": "IPY_MODEL_0176c15c45e744f0851f81618b560954"
          }
        },
        "349ee3a8cd7a44bd823dda5d2796f01f": {
          "model_module": "@jupyter-widgets/controls",
          "model_module_version": "1.5.0",
          "model_name": "HBoxModel",
          "state": {
            "_dom_classes": [],
            "_model_module": "@jupyter-widgets/controls",
            "_model_module_version": "1.5.0",
            "_model_name": "HBoxModel",
            "_view_count": null,
            "_view_module": "@jupyter-widgets/controls",
            "_view_module_version": "1.5.0",
            "_view_name": "HBoxView",
            "box_style": "",
            "children": [
              "IPY_MODEL_7cb583ddfaa14be680285164659c2344",
              "IPY_MODEL_367d49f2979444feb31994adeaa640dd",
              "IPY_MODEL_db66bff73c68478ab3f5e252d065f360"
            ],
            "layout": "IPY_MODEL_cd82d2bf9b9b4fa691e85bcc66360db3"
          }
        },
        "358aff879e844029939b9b9907fe00d0": {
          "model_module": "@jupyter-widgets/controls",
          "model_module_version": "1.5.0",
          "model_name": "ProgressStyleModel",
          "state": {
            "_model_module": "@jupyter-widgets/controls",
            "_model_module_version": "1.5.0",
            "_model_name": "ProgressStyleModel",
            "_view_count": null,
            "_view_module": "@jupyter-widgets/base",
            "_view_module_version": "1.2.0",
            "_view_name": "StyleView",
            "bar_color": null,
            "description_width": ""
          }
        },
        "367d49f2979444feb31994adeaa640dd": {
          "model_module": "@jupyter-widgets/controls",
          "model_module_version": "1.5.0",
          "model_name": "FloatProgressModel",
          "state": {
            "_dom_classes": [],
            "_model_module": "@jupyter-widgets/controls",
            "_model_module_version": "1.5.0",
            "_model_name": "FloatProgressModel",
            "_view_count": null,
            "_view_module": "@jupyter-widgets/controls",
            "_view_module_version": "1.5.0",
            "_view_name": "ProgressView",
            "bar_style": "success",
            "description": "",
            "description_tooltip": null,
            "layout": "IPY_MODEL_d66b8988c7f74d9ba167f5e42b76ac37",
            "max": 2256,
            "min": 0,
            "orientation": "horizontal",
            "style": "IPY_MODEL_e6888d7c0891497da83285cebded4d40",
            "value": 2256
          }
        },
        "39892c983b2943ea8c96f4dc82f6167b": {
          "model_module": "@jupyter-widgets/base",
          "model_module_version": "1.2.0",
          "model_name": "LayoutModel",
          "state": {
            "_model_module": "@jupyter-widgets/base",
            "_model_module_version": "1.2.0",
            "_model_name": "LayoutModel",
            "_view_count": null,
            "_view_module": "@jupyter-widgets/base",
            "_view_module_version": "1.2.0",
            "_view_name": "LayoutView",
            "align_content": null,
            "align_items": null,
            "align_self": null,
            "border": null,
            "bottom": null,
            "display": null,
            "flex": null,
            "flex_flow": null,
            "grid_area": null,
            "grid_auto_columns": null,
            "grid_auto_flow": null,
            "grid_auto_rows": null,
            "grid_column": null,
            "grid_gap": null,
            "grid_row": null,
            "grid_template_areas": null,
            "grid_template_columns": null,
            "grid_template_rows": null,
            "height": null,
            "justify_content": null,
            "justify_items": null,
            "left": null,
            "margin": null,
            "max_height": null,
            "max_width": null,
            "min_height": null,
            "min_width": null,
            "object_fit": null,
            "object_position": null,
            "order": null,
            "overflow": null,
            "overflow_x": null,
            "overflow_y": null,
            "padding": null,
            "right": null,
            "top": null,
            "visibility": null,
            "width": null
          }
        },
        "3cc075f11f7041ba9704043e4664304f": {
          "model_module": "@jupyter-widgets/controls",
          "model_module_version": "1.5.0",
          "model_name": "ProgressStyleModel",
          "state": {
            "_model_module": "@jupyter-widgets/controls",
            "_model_module_version": "1.5.0",
            "_model_name": "ProgressStyleModel",
            "_view_count": null,
            "_view_module": "@jupyter-widgets/base",
            "_view_module_version": "1.2.0",
            "_view_name": "StyleView",
            "bar_color": null,
            "description_width": ""
          }
        },
        "41132640adc24a0a955d8e1997135e6b": {
          "model_module": "@jupyter-widgets/base",
          "model_module_version": "1.2.0",
          "model_name": "LayoutModel",
          "state": {
            "_model_module": "@jupyter-widgets/base",
            "_model_module_version": "1.2.0",
            "_model_name": "LayoutModel",
            "_view_count": null,
            "_view_module": "@jupyter-widgets/base",
            "_view_module_version": "1.2.0",
            "_view_name": "LayoutView",
            "align_content": null,
            "align_items": null,
            "align_self": null,
            "border": null,
            "bottom": null,
            "display": null,
            "flex": null,
            "flex_flow": null,
            "grid_area": null,
            "grid_auto_columns": null,
            "grid_auto_flow": null,
            "grid_auto_rows": null,
            "grid_column": null,
            "grid_gap": null,
            "grid_row": null,
            "grid_template_areas": null,
            "grid_template_columns": null,
            "grid_template_rows": null,
            "height": null,
            "justify_content": null,
            "justify_items": null,
            "left": null,
            "margin": null,
            "max_height": null,
            "max_width": null,
            "min_height": null,
            "min_width": null,
            "object_fit": null,
            "object_position": null,
            "order": null,
            "overflow": null,
            "overflow_x": null,
            "overflow_y": null,
            "padding": null,
            "right": null,
            "top": null,
            "visibility": null,
            "width": null
          }
        },
        "4798ce9f024c4a64be8edd2d5dc4ef1f": {
          "model_module": "@jupyter-widgets/controls",
          "model_module_version": "1.5.0",
          "model_name": "DescriptionStyleModel",
          "state": {
            "_model_module": "@jupyter-widgets/controls",
            "_model_module_version": "1.5.0",
            "_model_name": "DescriptionStyleModel",
            "_view_count": null,
            "_view_module": "@jupyter-widgets/base",
            "_view_module_version": "1.2.0",
            "_view_name": "StyleView",
            "description_width": ""
          }
        },
        "4d43266155b947ae839b482717e89cbc": {
          "model_module": "@jupyter-widgets/base",
          "model_module_version": "1.2.0",
          "model_name": "LayoutModel",
          "state": {
            "_model_module": "@jupyter-widgets/base",
            "_model_module_version": "1.2.0",
            "_model_name": "LayoutModel",
            "_view_count": null,
            "_view_module": "@jupyter-widgets/base",
            "_view_module_version": "1.2.0",
            "_view_name": "LayoutView",
            "align_content": null,
            "align_items": null,
            "align_self": null,
            "border": null,
            "bottom": null,
            "display": null,
            "flex": null,
            "flex_flow": null,
            "grid_area": null,
            "grid_auto_columns": null,
            "grid_auto_flow": null,
            "grid_auto_rows": null,
            "grid_column": null,
            "grid_gap": null,
            "grid_row": null,
            "grid_template_areas": null,
            "grid_template_columns": null,
            "grid_template_rows": null,
            "height": null,
            "justify_content": null,
            "justify_items": null,
            "left": null,
            "margin": null,
            "max_height": null,
            "max_width": null,
            "min_height": null,
            "min_width": null,
            "object_fit": null,
            "object_position": null,
            "order": null,
            "overflow": null,
            "overflow_x": null,
            "overflow_y": null,
            "padding": null,
            "right": null,
            "top": null,
            "visibility": null,
            "width": null
          }
        },
        "5a1ddbffffee474bb98d7b61ad6924f5": {
          "model_module": "@jupyter-widgets/base",
          "model_module_version": "1.2.0",
          "model_name": "LayoutModel",
          "state": {
            "_model_module": "@jupyter-widgets/base",
            "_model_module_version": "1.2.0",
            "_model_name": "LayoutModel",
            "_view_count": null,
            "_view_module": "@jupyter-widgets/base",
            "_view_module_version": "1.2.0",
            "_view_name": "LayoutView",
            "align_content": null,
            "align_items": null,
            "align_self": null,
            "border": null,
            "bottom": null,
            "display": null,
            "flex": null,
            "flex_flow": null,
            "grid_area": null,
            "grid_auto_columns": null,
            "grid_auto_flow": null,
            "grid_auto_rows": null,
            "grid_column": null,
            "grid_gap": null,
            "grid_row": null,
            "grid_template_areas": null,
            "grid_template_columns": null,
            "grid_template_rows": null,
            "height": null,
            "justify_content": null,
            "justify_items": null,
            "left": null,
            "margin": null,
            "max_height": null,
            "max_width": null,
            "min_height": null,
            "min_width": null,
            "object_fit": null,
            "object_position": null,
            "order": null,
            "overflow": null,
            "overflow_x": null,
            "overflow_y": null,
            "padding": null,
            "right": null,
            "top": null,
            "visibility": null,
            "width": null
          }
        },
        "5c8bcf0614ef46dabdb3dffe4b21b5bb": {
          "model_module": "@jupyter-widgets/controls",
          "model_module_version": "1.5.0",
          "model_name": "DescriptionStyleModel",
          "state": {
            "_model_module": "@jupyter-widgets/controls",
            "_model_module_version": "1.5.0",
            "_model_name": "DescriptionStyleModel",
            "_view_count": null,
            "_view_module": "@jupyter-widgets/base",
            "_view_module_version": "1.2.0",
            "_view_name": "StyleView",
            "description_width": ""
          }
        },
        "5ec3deda9a7c44d38e638c219b09fb4d": {
          "model_module": "@jupyter-widgets/base",
          "model_module_version": "1.2.0",
          "model_name": "LayoutModel",
          "state": {
            "_model_module": "@jupyter-widgets/base",
            "_model_module_version": "1.2.0",
            "_model_name": "LayoutModel",
            "_view_count": null,
            "_view_module": "@jupyter-widgets/base",
            "_view_module_version": "1.2.0",
            "_view_name": "LayoutView",
            "align_content": null,
            "align_items": null,
            "align_self": null,
            "border": null,
            "bottom": null,
            "display": null,
            "flex": null,
            "flex_flow": null,
            "grid_area": null,
            "grid_auto_columns": null,
            "grid_auto_flow": null,
            "grid_auto_rows": null,
            "grid_column": null,
            "grid_gap": null,
            "grid_row": null,
            "grid_template_areas": null,
            "grid_template_columns": null,
            "grid_template_rows": null,
            "height": null,
            "justify_content": null,
            "justify_items": null,
            "left": null,
            "margin": null,
            "max_height": null,
            "max_width": null,
            "min_height": null,
            "min_width": null,
            "object_fit": null,
            "object_position": null,
            "order": null,
            "overflow": null,
            "overflow_x": null,
            "overflow_y": null,
            "padding": null,
            "right": null,
            "top": null,
            "visibility": null,
            "width": null
          }
        },
        "604bbd25f9cd4852b70424e48a93ed31": {
          "model_module": "@jupyter-widgets/base",
          "model_module_version": "1.2.0",
          "model_name": "LayoutModel",
          "state": {
            "_model_module": "@jupyter-widgets/base",
            "_model_module_version": "1.2.0",
            "_model_name": "LayoutModel",
            "_view_count": null,
            "_view_module": "@jupyter-widgets/base",
            "_view_module_version": "1.2.0",
            "_view_name": "LayoutView",
            "align_content": null,
            "align_items": null,
            "align_self": null,
            "border": null,
            "bottom": null,
            "display": null,
            "flex": null,
            "flex_flow": null,
            "grid_area": null,
            "grid_auto_columns": null,
            "grid_auto_flow": null,
            "grid_auto_rows": null,
            "grid_column": null,
            "grid_gap": null,
            "grid_row": null,
            "grid_template_areas": null,
            "grid_template_columns": null,
            "grid_template_rows": null,
            "height": null,
            "justify_content": null,
            "justify_items": null,
            "left": null,
            "margin": null,
            "max_height": null,
            "max_width": null,
            "min_height": null,
            "min_width": null,
            "object_fit": null,
            "object_position": null,
            "order": null,
            "overflow": null,
            "overflow_x": null,
            "overflow_y": null,
            "padding": null,
            "right": null,
            "top": null,
            "visibility": null,
            "width": null
          }
        },
        "606baeb3a8fc493da8cf2fb20d90edad": {
          "model_module": "@jupyter-widgets/controls",
          "model_module_version": "1.5.0",
          "model_name": "FloatProgressModel",
          "state": {
            "_dom_classes": [],
            "_model_module": "@jupyter-widgets/controls",
            "_model_module_version": "1.5.0",
            "_model_name": "FloatProgressModel",
            "_view_count": null,
            "_view_module": "@jupyter-widgets/controls",
            "_view_module_version": "1.5.0",
            "_view_name": "ProgressView",
            "bar_style": "success",
            "description": "",
            "description_tooltip": null,
            "layout": "IPY_MODEL_b667d8edf5504cc7b658338997eae6b3",
            "max": 2256,
            "min": 0,
            "orientation": "horizontal",
            "style": "IPY_MODEL_ba2a144d59fe416d8d746de353eb5d6d",
            "value": 2256
          }
        },
        "64a1a306649840d6935db61c456e7771": {
          "model_module": "@jupyter-widgets/controls",
          "model_module_version": "1.5.0",
          "model_name": "HBoxModel",
          "state": {
            "_dom_classes": [],
            "_model_module": "@jupyter-widgets/controls",
            "_model_module_version": "1.5.0",
            "_model_name": "HBoxModel",
            "_view_count": null,
            "_view_module": "@jupyter-widgets/controls",
            "_view_module_version": "1.5.0",
            "_view_name": "HBoxView",
            "box_style": "",
            "children": [
              "IPY_MODEL_f8bd89038c5f495086065eedade60955",
              "IPY_MODEL_e895abae5ade4d1a8b6f75ab6e6917ac",
              "IPY_MODEL_73cd8e47f6ba40aeb53669308ce38072"
            ],
            "layout": "IPY_MODEL_cd7d2645f6d441cead7c6a042fb0f593"
          }
        },
        "6a0be17760134d6c96c91cce5895d3c1": {
          "model_module": "@jupyter-widgets/controls",
          "model_module_version": "1.5.0",
          "model_name": "DescriptionStyleModel",
          "state": {
            "_model_module": "@jupyter-widgets/controls",
            "_model_module_version": "1.5.0",
            "_model_name": "DescriptionStyleModel",
            "_view_count": null,
            "_view_module": "@jupyter-widgets/base",
            "_view_module_version": "1.2.0",
            "_view_name": "StyleView",
            "description_width": ""
          }
        },
        "6d8ff267d9d4488395decef2959c815e": {
          "model_module": "@jupyter-widgets/base",
          "model_module_version": "1.2.0",
          "model_name": "LayoutModel",
          "state": {
            "_model_module": "@jupyter-widgets/base",
            "_model_module_version": "1.2.0",
            "_model_name": "LayoutModel",
            "_view_count": null,
            "_view_module": "@jupyter-widgets/base",
            "_view_module_version": "1.2.0",
            "_view_name": "LayoutView",
            "align_content": null,
            "align_items": null,
            "align_self": null,
            "border": null,
            "bottom": null,
            "display": null,
            "flex": null,
            "flex_flow": null,
            "grid_area": null,
            "grid_auto_columns": null,
            "grid_auto_flow": null,
            "grid_auto_rows": null,
            "grid_column": null,
            "grid_gap": null,
            "grid_row": null,
            "grid_template_areas": null,
            "grid_template_columns": null,
            "grid_template_rows": null,
            "height": null,
            "justify_content": null,
            "justify_items": null,
            "left": null,
            "margin": null,
            "max_height": null,
            "max_width": null,
            "min_height": null,
            "min_width": null,
            "object_fit": null,
            "object_position": null,
            "order": null,
            "overflow": null,
            "overflow_x": null,
            "overflow_y": null,
            "padding": null,
            "right": null,
            "top": null,
            "visibility": null,
            "width": null
          }
        },
        "6d9399630f5d40cfa015d31964105a94": {
          "model_module": "@jupyter-widgets/controls",
          "model_module_version": "1.5.0",
          "model_name": "HTMLModel",
          "state": {
            "_dom_classes": [],
            "_model_module": "@jupyter-widgets/controls",
            "_model_module_version": "1.5.0",
            "_model_name": "HTMLModel",
            "_view_count": null,
            "_view_module": "@jupyter-widgets/controls",
            "_view_module_version": "1.5.0",
            "_view_name": "HTMLView",
            "description": "",
            "description_tooltip": null,
            "layout": "IPY_MODEL_c124c703e30d4fa3b8d1e7ca50fbbb5d",
            "placeholder": "​",
            "style": "IPY_MODEL_8ed0fbfc3cc44409bda21ceba1440f17",
            "value": " 363/363 [00:00&lt;00:00, 3.84kB/s]"
          }
        },
        "6da71dbbd497462cbe8483d73b7b4fdd": {
          "model_module": "@jupyter-widgets/controls",
          "model_module_version": "1.5.0",
          "model_name": "HTMLModel",
          "state": {
            "_dom_classes": [],
            "_model_module": "@jupyter-widgets/controls",
            "_model_module_version": "1.5.0",
            "_model_name": "HTMLModel",
            "_view_count": null,
            "_view_module": "@jupyter-widgets/controls",
            "_view_module_version": "1.5.0",
            "_view_name": "HTMLView",
            "description": "",
            "description_tooltip": null,
            "layout": "IPY_MODEL_d9c0ca640c4745e7874b161680f876d9",
            "placeholder": "​",
            "style": "IPY_MODEL_095a8db1db5c4f15a19bb4e0e764b363",
            "value": "Downloading: 100%"
          }
        },
        "6e4ec162af10426ca643faa1b14a24d5": {
          "model_module": "@jupyter-widgets/controls",
          "model_module_version": "1.5.0",
          "model_name": "DescriptionStyleModel",
          "state": {
            "_model_module": "@jupyter-widgets/controls",
            "_model_module_version": "1.5.0",
            "_model_name": "DescriptionStyleModel",
            "_view_count": null,
            "_view_module": "@jupyter-widgets/base",
            "_view_module_version": "1.2.0",
            "_view_name": "StyleView",
            "description_width": ""
          }
        },
        "73cd8e47f6ba40aeb53669308ce38072": {
          "model_module": "@jupyter-widgets/controls",
          "model_module_version": "1.5.0",
          "model_name": "HTMLModel",
          "state": {
            "_dom_classes": [],
            "_model_module": "@jupyter-widgets/controls",
            "_model_module_version": "1.5.0",
            "_model_name": "HTMLModel",
            "_view_count": null,
            "_view_module": "@jupyter-widgets/controls",
            "_view_module_version": "1.5.0",
            "_view_name": "HTMLView",
            "description": "",
            "description_tooltip": null,
            "layout": "IPY_MODEL_f2e46a5ba1d0401abe0bccfdbb455fdb",
            "placeholder": "​",
            "style": "IPY_MODEL_ccf17d82df394864bab535ee4b54b0f2",
            "value": " 2256/2256 [00:00&lt;00:00, 2388.53it/s]"
          }
        },
        "74ff675c2b47407a99ee2677792494a6": {
          "model_module": "@jupyter-widgets/controls",
          "model_module_version": "1.5.0",
          "model_name": "DescriptionStyleModel",
          "state": {
            "_model_module": "@jupyter-widgets/controls",
            "_model_module_version": "1.5.0",
            "_model_name": "DescriptionStyleModel",
            "_view_count": null,
            "_view_module": "@jupyter-widgets/base",
            "_view_module_version": "1.2.0",
            "_view_name": "StyleView",
            "description_width": ""
          }
        },
        "77db14a1dc274f638c5a25969eade0e1": {
          "model_module": "@jupyter-widgets/base",
          "model_module_version": "1.2.0",
          "model_name": "LayoutModel",
          "state": {
            "_model_module": "@jupyter-widgets/base",
            "_model_module_version": "1.2.0",
            "_model_name": "LayoutModel",
            "_view_count": null,
            "_view_module": "@jupyter-widgets/base",
            "_view_module_version": "1.2.0",
            "_view_name": "LayoutView",
            "align_content": null,
            "align_items": null,
            "align_self": null,
            "border": null,
            "bottom": null,
            "display": null,
            "flex": null,
            "flex_flow": null,
            "grid_area": null,
            "grid_auto_columns": null,
            "grid_auto_flow": null,
            "grid_auto_rows": null,
            "grid_column": null,
            "grid_gap": null,
            "grid_row": null,
            "grid_template_areas": null,
            "grid_template_columns": null,
            "grid_template_rows": null,
            "height": null,
            "justify_content": null,
            "justify_items": null,
            "left": null,
            "margin": null,
            "max_height": null,
            "max_width": null,
            "min_height": null,
            "min_width": null,
            "object_fit": null,
            "object_position": null,
            "order": null,
            "overflow": null,
            "overflow_x": null,
            "overflow_y": null,
            "padding": null,
            "right": null,
            "top": null,
            "visibility": null,
            "width": null
          }
        },
        "79dac46daf654208b6dbf64de87eec6e": {
          "model_module": "@jupyter-widgets/controls",
          "model_module_version": "1.5.0",
          "model_name": "HTMLModel",
          "state": {
            "_dom_classes": [],
            "_model_module": "@jupyter-widgets/controls",
            "_model_module_version": "1.5.0",
            "_model_name": "HTMLModel",
            "_view_count": null,
            "_view_module": "@jupyter-widgets/controls",
            "_view_module_version": "1.5.0",
            "_view_name": "HTMLView",
            "description": "",
            "description_tooltip": null,
            "layout": "IPY_MODEL_0d832e9a129a4febb9b213c3df517b8a",
            "placeholder": "​",
            "style": "IPY_MODEL_ccdfd7b3a8e04dfe9bb28f66b88d4a2a",
            "value": "100%"
          }
        },
        "7cb583ddfaa14be680285164659c2344": {
          "model_module": "@jupyter-widgets/controls",
          "model_module_version": "1.5.0",
          "model_name": "HTMLModel",
          "state": {
            "_dom_classes": [],
            "_model_module": "@jupyter-widgets/controls",
            "_model_module_version": "1.5.0",
            "_model_name": "HTMLModel",
            "_view_count": null,
            "_view_module": "@jupyter-widgets/controls",
            "_view_module_version": "1.5.0",
            "_view_name": "HTMLView",
            "description": "",
            "description_tooltip": null,
            "layout": "IPY_MODEL_fb10d6dbdb364f42b7dee7af462ca46b",
            "placeholder": "​",
            "style": "IPY_MODEL_74ff675c2b47407a99ee2677792494a6",
            "value": "100%"
          }
        },
        "80fab97cb7c646fa8c8097341f8c9c0c": {
          "model_module": "@jupyter-widgets/controls",
          "model_module_version": "1.5.0",
          "model_name": "ProgressStyleModel",
          "state": {
            "_model_module": "@jupyter-widgets/controls",
            "_model_module_version": "1.5.0",
            "_model_name": "ProgressStyleModel",
            "_view_count": null,
            "_view_module": "@jupyter-widgets/base",
            "_view_module_version": "1.2.0",
            "_view_name": "StyleView",
            "bar_color": null,
            "description_width": ""
          }
        },
        "815c7b812fb94646985704cd00be3cb9": {
          "model_module": "@jupyter-widgets/controls",
          "model_module_version": "1.5.0",
          "model_name": "HTMLModel",
          "state": {
            "_dom_classes": [],
            "_model_module": "@jupyter-widgets/controls",
            "_model_module_version": "1.5.0",
            "_model_name": "HTMLModel",
            "_view_count": null,
            "_view_module": "@jupyter-widgets/controls",
            "_view_module_version": "1.5.0",
            "_view_name": "HTMLView",
            "description": "",
            "description_tooltip": null,
            "layout": "IPY_MODEL_b006a451de3843af893c403464d481cf",
            "placeholder": "​",
            "style": "IPY_MODEL_2fdec648b0054bf0a84bf40f7ae6bd7e",
            "value": "Downloading: 100%"
          }
        },
        "87bce1cabac8453e83020d05722586ec": {
          "model_module": "@jupyter-widgets/base",
          "model_module_version": "1.2.0",
          "model_name": "LayoutModel",
          "state": {
            "_model_module": "@jupyter-widgets/base",
            "_model_module_version": "1.2.0",
            "_model_name": "LayoutModel",
            "_view_count": null,
            "_view_module": "@jupyter-widgets/base",
            "_view_module_version": "1.2.0",
            "_view_name": "LayoutView",
            "align_content": null,
            "align_items": null,
            "align_self": null,
            "border": null,
            "bottom": null,
            "display": null,
            "flex": null,
            "flex_flow": null,
            "grid_area": null,
            "grid_auto_columns": null,
            "grid_auto_flow": null,
            "grid_auto_rows": null,
            "grid_column": null,
            "grid_gap": null,
            "grid_row": null,
            "grid_template_areas": null,
            "grid_template_columns": null,
            "grid_template_rows": null,
            "height": null,
            "justify_content": null,
            "justify_items": null,
            "left": null,
            "margin": null,
            "max_height": null,
            "max_width": null,
            "min_height": null,
            "min_width": null,
            "object_fit": null,
            "object_position": null,
            "order": null,
            "overflow": null,
            "overflow_x": null,
            "overflow_y": null,
            "padding": null,
            "right": null,
            "top": null,
            "visibility": null,
            "width": null
          }
        },
        "8a3d971afb3447039a8827019e91d75c": {
          "model_module": "@jupyter-widgets/controls",
          "model_module_version": "1.5.0",
          "model_name": "FloatProgressModel",
          "state": {
            "_dom_classes": [],
            "_model_module": "@jupyter-widgets/controls",
            "_model_module_version": "1.5.0",
            "_model_name": "FloatProgressModel",
            "_view_count": null,
            "_view_module": "@jupyter-widgets/controls",
            "_view_module_version": "1.5.0",
            "_view_name": "ProgressView",
            "bar_style": "success",
            "description": "",
            "description_tooltip": null,
            "layout": "IPY_MODEL_b4fa9d3278ba45ecaf7b8d46b44df935",
            "max": 153,
            "min": 0,
            "orientation": "horizontal",
            "style": "IPY_MODEL_f1496922182947d59437b5a986b266cc",
            "value": 153
          }
        },
        "8c3f320d6ba14ae9b6e9830183616728": {
          "model_module": "@jupyter-widgets/base",
          "model_module_version": "1.2.0",
          "model_name": "LayoutModel",
          "state": {
            "_model_module": "@jupyter-widgets/base",
            "_model_module_version": "1.2.0",
            "_model_name": "LayoutModel",
            "_view_count": null,
            "_view_module": "@jupyter-widgets/base",
            "_view_module_version": "1.2.0",
            "_view_name": "LayoutView",
            "align_content": null,
            "align_items": null,
            "align_self": null,
            "border": null,
            "bottom": null,
            "display": null,
            "flex": null,
            "flex_flow": null,
            "grid_area": null,
            "grid_auto_columns": null,
            "grid_auto_flow": null,
            "grid_auto_rows": null,
            "grid_column": null,
            "grid_gap": null,
            "grid_row": null,
            "grid_template_areas": null,
            "grid_template_columns": null,
            "grid_template_rows": null,
            "height": null,
            "justify_content": null,
            "justify_items": null,
            "left": null,
            "margin": null,
            "max_height": null,
            "max_width": null,
            "min_height": null,
            "min_width": null,
            "object_fit": null,
            "object_position": null,
            "order": null,
            "overflow": null,
            "overflow_x": null,
            "overflow_y": null,
            "padding": null,
            "right": null,
            "top": null,
            "visibility": null,
            "width": null
          }
        },
        "8e2d2280a5b4402da3a5e36fcbd4e389": {
          "model_module": "@jupyter-widgets/controls",
          "model_module_version": "1.5.0",
          "model_name": "HBoxModel",
          "state": {
            "_dom_classes": [],
            "_model_module": "@jupyter-widgets/controls",
            "_model_module_version": "1.5.0",
            "_model_name": "HBoxModel",
            "_view_count": null,
            "_view_module": "@jupyter-widgets/controls",
            "_view_module_version": "1.5.0",
            "_view_name": "HBoxView",
            "box_style": "",
            "children": [
              "IPY_MODEL_6da71dbbd497462cbe8483d73b7b4fdd",
              "IPY_MODEL_c8a75e11e5194cb7b131ffb41c3422f7",
              "IPY_MODEL_6d9399630f5d40cfa015d31964105a94"
            ],
            "layout": "IPY_MODEL_39892c983b2943ea8c96f4dc82f6167b"
          }
        },
        "8ed0fbfc3cc44409bda21ceba1440f17": {
          "model_module": "@jupyter-widgets/controls",
          "model_module_version": "1.5.0",
          "model_name": "DescriptionStyleModel",
          "state": {
            "_model_module": "@jupyter-widgets/controls",
            "_model_module_version": "1.5.0",
            "_model_name": "DescriptionStyleModel",
            "_view_count": null,
            "_view_module": "@jupyter-widgets/base",
            "_view_module_version": "1.2.0",
            "_view_name": "StyleView",
            "description_width": ""
          }
        },
        "98b701b0abcc4288bc0442cd28a013a6": {
          "model_module": "@jupyter-widgets/base",
          "model_module_version": "1.2.0",
          "model_name": "LayoutModel",
          "state": {
            "_model_module": "@jupyter-widgets/base",
            "_model_module_version": "1.2.0",
            "_model_name": "LayoutModel",
            "_view_count": null,
            "_view_module": "@jupyter-widgets/base",
            "_view_module_version": "1.2.0",
            "_view_name": "LayoutView",
            "align_content": null,
            "align_items": null,
            "align_self": null,
            "border": null,
            "bottom": null,
            "display": null,
            "flex": null,
            "flex_flow": null,
            "grid_area": null,
            "grid_auto_columns": null,
            "grid_auto_flow": null,
            "grid_auto_rows": null,
            "grid_column": null,
            "grid_gap": null,
            "grid_row": null,
            "grid_template_areas": null,
            "grid_template_columns": null,
            "grid_template_rows": null,
            "height": null,
            "justify_content": null,
            "justify_items": null,
            "left": null,
            "margin": null,
            "max_height": null,
            "max_width": null,
            "min_height": null,
            "min_width": null,
            "object_fit": null,
            "object_position": null,
            "order": null,
            "overflow": null,
            "overflow_x": null,
            "overflow_y": null,
            "padding": null,
            "right": null,
            "top": null,
            "visibility": null,
            "width": null
          }
        },
        "9be0d2a969ea439db9f8b0f7002bfb93": {
          "model_module": "@jupyter-widgets/controls",
          "model_module_version": "1.5.0",
          "model_name": "HTMLModel",
          "state": {
            "_dom_classes": [],
            "_model_module": "@jupyter-widgets/controls",
            "_model_module_version": "1.5.0",
            "_model_name": "HTMLModel",
            "_view_count": null,
            "_view_module": "@jupyter-widgets/controls",
            "_view_module_version": "1.5.0",
            "_view_name": "HTMLView",
            "description": "",
            "description_tooltip": null,
            "layout": "IPY_MODEL_4d43266155b947ae839b482717e89cbc",
            "placeholder": "​",
            "style": "IPY_MODEL_5c8bcf0614ef46dabdb3dffe4b21b5bb",
            "value": " 153/153 [00:00&lt;00:00, 1.81kB/s]"
          }
        },
        "a40d56db923a427e8583a13711458665": {
          "model_module": "@jupyter-widgets/controls",
          "model_module_version": "1.5.0",
          "model_name": "HTMLModel",
          "state": {
            "_dom_classes": [],
            "_model_module": "@jupyter-widgets/controls",
            "_model_module_version": "1.5.0",
            "_model_name": "HTMLModel",
            "_view_count": null,
            "_view_module": "@jupyter-widgets/controls",
            "_view_module_version": "1.5.0",
            "_view_name": "HTMLView",
            "description": "",
            "description_tooltip": null,
            "layout": "IPY_MODEL_87bce1cabac8453e83020d05722586ec",
            "placeholder": "​",
            "style": "IPY_MODEL_0cb6be0e9d8349f9ab2fcbf398f49a46",
            "value": "Downloading: 100%"
          }
        },
        "b006a451de3843af893c403464d481cf": {
          "model_module": "@jupyter-widgets/base",
          "model_module_version": "1.2.0",
          "model_name": "LayoutModel",
          "state": {
            "_model_module": "@jupyter-widgets/base",
            "_model_module_version": "1.2.0",
            "_model_name": "LayoutModel",
            "_view_count": null,
            "_view_module": "@jupyter-widgets/base",
            "_view_module_version": "1.2.0",
            "_view_name": "LayoutView",
            "align_content": null,
            "align_items": null,
            "align_self": null,
            "border": null,
            "bottom": null,
            "display": null,
            "flex": null,
            "flex_flow": null,
            "grid_area": null,
            "grid_auto_columns": null,
            "grid_auto_flow": null,
            "grid_auto_rows": null,
            "grid_column": null,
            "grid_gap": null,
            "grid_row": null,
            "grid_template_areas": null,
            "grid_template_columns": null,
            "grid_template_rows": null,
            "height": null,
            "justify_content": null,
            "justify_items": null,
            "left": null,
            "margin": null,
            "max_height": null,
            "max_width": null,
            "min_height": null,
            "min_width": null,
            "object_fit": null,
            "object_position": null,
            "order": null,
            "overflow": null,
            "overflow_x": null,
            "overflow_y": null,
            "padding": null,
            "right": null,
            "top": null,
            "visibility": null,
            "width": null
          }
        },
        "b0462e2f68b5498d8f251f3eebe7945d": {
          "model_module": "@jupyter-widgets/controls",
          "model_module_version": "1.5.0",
          "model_name": "DescriptionStyleModel",
          "state": {
            "_model_module": "@jupyter-widgets/controls",
            "_model_module_version": "1.5.0",
            "_model_name": "DescriptionStyleModel",
            "_view_count": null,
            "_view_module": "@jupyter-widgets/base",
            "_view_module_version": "1.2.0",
            "_view_name": "StyleView",
            "description_width": ""
          }
        },
        "b4fa9d3278ba45ecaf7b8d46b44df935": {
          "model_module": "@jupyter-widgets/base",
          "model_module_version": "1.2.0",
          "model_name": "LayoutModel",
          "state": {
            "_model_module": "@jupyter-widgets/base",
            "_model_module_version": "1.2.0",
            "_model_name": "LayoutModel",
            "_view_count": null,
            "_view_module": "@jupyter-widgets/base",
            "_view_module_version": "1.2.0",
            "_view_name": "LayoutView",
            "align_content": null,
            "align_items": null,
            "align_self": null,
            "border": null,
            "bottom": null,
            "display": null,
            "flex": null,
            "flex_flow": null,
            "grid_area": null,
            "grid_auto_columns": null,
            "grid_auto_flow": null,
            "grid_auto_rows": null,
            "grid_column": null,
            "grid_gap": null,
            "grid_row": null,
            "grid_template_areas": null,
            "grid_template_columns": null,
            "grid_template_rows": null,
            "height": null,
            "justify_content": null,
            "justify_items": null,
            "left": null,
            "margin": null,
            "max_height": null,
            "max_width": null,
            "min_height": null,
            "min_width": null,
            "object_fit": null,
            "object_position": null,
            "order": null,
            "overflow": null,
            "overflow_x": null,
            "overflow_y": null,
            "padding": null,
            "right": null,
            "top": null,
            "visibility": null,
            "width": null
          }
        },
        "b667d8edf5504cc7b658338997eae6b3": {
          "model_module": "@jupyter-widgets/base",
          "model_module_version": "1.2.0",
          "model_name": "LayoutModel",
          "state": {
            "_model_module": "@jupyter-widgets/base",
            "_model_module_version": "1.2.0",
            "_model_name": "LayoutModel",
            "_view_count": null,
            "_view_module": "@jupyter-widgets/base",
            "_view_module_version": "1.2.0",
            "_view_name": "LayoutView",
            "align_content": null,
            "align_items": null,
            "align_self": null,
            "border": null,
            "bottom": null,
            "display": null,
            "flex": null,
            "flex_flow": null,
            "grid_area": null,
            "grid_auto_columns": null,
            "grid_auto_flow": null,
            "grid_auto_rows": null,
            "grid_column": null,
            "grid_gap": null,
            "grid_row": null,
            "grid_template_areas": null,
            "grid_template_columns": null,
            "grid_template_rows": null,
            "height": null,
            "justify_content": null,
            "justify_items": null,
            "left": null,
            "margin": null,
            "max_height": null,
            "max_width": null,
            "min_height": null,
            "min_width": null,
            "object_fit": null,
            "object_position": null,
            "order": null,
            "overflow": null,
            "overflow_x": null,
            "overflow_y": null,
            "padding": null,
            "right": null,
            "top": null,
            "visibility": null,
            "width": null
          }
        },
        "b77a96024cbd46d78d8dedad9f03040a": {
          "model_module": "@jupyter-widgets/controls",
          "model_module_version": "1.5.0",
          "model_name": "HTMLModel",
          "state": {
            "_dom_classes": [],
            "_model_module": "@jupyter-widgets/controls",
            "_model_module_version": "1.5.0",
            "_model_name": "HTMLModel",
            "_view_count": null,
            "_view_module": "@jupyter-widgets/controls",
            "_view_module_version": "1.5.0",
            "_view_name": "HTMLView",
            "description": "",
            "description_tooltip": null,
            "layout": "IPY_MODEL_233f85e0dece480889be197d7af6886b",
            "placeholder": "​",
            "style": "IPY_MODEL_fd6e5bba21d3476b9709371d434dd954",
            "value": "100%"
          }
        },
        "ba2a144d59fe416d8d746de353eb5d6d": {
          "model_module": "@jupyter-widgets/controls",
          "model_module_version": "1.5.0",
          "model_name": "ProgressStyleModel",
          "state": {
            "_model_module": "@jupyter-widgets/controls",
            "_model_module_version": "1.5.0",
            "_model_name": "ProgressStyleModel",
            "_view_count": null,
            "_view_module": "@jupyter-widgets/base",
            "_view_module_version": "1.2.0",
            "_view_name": "StyleView",
            "bar_color": null,
            "description_width": ""
          }
        },
        "ba9e48a51e03453ca3d4f975753800de": {
          "model_module": "@jupyter-widgets/controls",
          "model_module_version": "1.5.0",
          "model_name": "FloatProgressModel",
          "state": {
            "_dom_classes": [],
            "_model_module": "@jupyter-widgets/controls",
            "_model_module_version": "1.5.0",
            "_model_name": "FloatProgressModel",
            "_view_count": null,
            "_view_module": "@jupyter-widgets/controls",
            "_view_module_version": "1.5.0",
            "_view_name": "ProgressView",
            "bar_style": "success",
            "description": "",
            "description_tooltip": null,
            "layout": "IPY_MODEL_8c3f320d6ba14ae9b6e9830183616728",
            "max": 344240,
            "min": 0,
            "orientation": "horizontal",
            "style": "IPY_MODEL_261ee52d06a94bd7ba6fd76eb1a4b7c8",
            "value": 344240
          }
        },
        "bd13eee1fd5c4d0281d40b4e6e555f0f": {
          "model_module": "@jupyter-widgets/controls",
          "model_module_version": "1.5.0",
          "model_name": "HTMLModel",
          "state": {
            "_dom_classes": [],
            "_model_module": "@jupyter-widgets/controls",
            "_model_module_version": "1.5.0",
            "_model_name": "HTMLModel",
            "_view_count": null,
            "_view_module": "@jupyter-widgets/controls",
            "_view_module_version": "1.5.0",
            "_view_name": "HTMLView",
            "description": "",
            "description_tooltip": null,
            "layout": "IPY_MODEL_c72823cd343f44529b71fd6334bebd2e",
            "placeholder": "​",
            "style": "IPY_MODEL_b0462e2f68b5498d8f251f3eebe7945d",
            "value": " 336k/336k [00:00&lt;00:00, 3.64MB/s]"
          }
        },
        "c11b48729f454a27a2e47ca220379565": {
          "model_module": "@jupyter-widgets/controls",
          "model_module_version": "1.5.0",
          "model_name": "DescriptionStyleModel",
          "state": {
            "_model_module": "@jupyter-widgets/controls",
            "_model_module_version": "1.5.0",
            "_model_name": "DescriptionStyleModel",
            "_view_count": null,
            "_view_module": "@jupyter-widgets/base",
            "_view_module_version": "1.2.0",
            "_view_name": "StyleView",
            "description_width": ""
          }
        },
        "c124c703e30d4fa3b8d1e7ca50fbbb5d": {
          "model_module": "@jupyter-widgets/base",
          "model_module_version": "1.2.0",
          "model_name": "LayoutModel",
          "state": {
            "_model_module": "@jupyter-widgets/base",
            "_model_module_version": "1.2.0",
            "_model_name": "LayoutModel",
            "_view_count": null,
            "_view_module": "@jupyter-widgets/base",
            "_view_module_version": "1.2.0",
            "_view_name": "LayoutView",
            "align_content": null,
            "align_items": null,
            "align_self": null,
            "border": null,
            "bottom": null,
            "display": null,
            "flex": null,
            "flex_flow": null,
            "grid_area": null,
            "grid_auto_columns": null,
            "grid_auto_flow": null,
            "grid_auto_rows": null,
            "grid_column": null,
            "grid_gap": null,
            "grid_row": null,
            "grid_template_areas": null,
            "grid_template_columns": null,
            "grid_template_rows": null,
            "height": null,
            "justify_content": null,
            "justify_items": null,
            "left": null,
            "margin": null,
            "max_height": null,
            "max_width": null,
            "min_height": null,
            "min_width": null,
            "object_fit": null,
            "object_position": null,
            "order": null,
            "overflow": null,
            "overflow_x": null,
            "overflow_y": null,
            "padding": null,
            "right": null,
            "top": null,
            "visibility": null,
            "width": null
          }
        },
        "c1285cce595147adb8da00157a5a3eb9": {
          "model_module": "@jupyter-widgets/controls",
          "model_module_version": "1.5.0",
          "model_name": "ProgressStyleModel",
          "state": {
            "_model_module": "@jupyter-widgets/controls",
            "_model_module_version": "1.5.0",
            "_model_name": "ProgressStyleModel",
            "_view_count": null,
            "_view_module": "@jupyter-widgets/base",
            "_view_module_version": "1.2.0",
            "_view_name": "StyleView",
            "bar_color": null,
            "description_width": ""
          }
        },
        "c72823cd343f44529b71fd6334bebd2e": {
          "model_module": "@jupyter-widgets/base",
          "model_module_version": "1.2.0",
          "model_name": "LayoutModel",
          "state": {
            "_model_module": "@jupyter-widgets/base",
            "_model_module_version": "1.2.0",
            "_model_name": "LayoutModel",
            "_view_count": null,
            "_view_module": "@jupyter-widgets/base",
            "_view_module_version": "1.2.0",
            "_view_name": "LayoutView",
            "align_content": null,
            "align_items": null,
            "align_self": null,
            "border": null,
            "bottom": null,
            "display": null,
            "flex": null,
            "flex_flow": null,
            "grid_area": null,
            "grid_auto_columns": null,
            "grid_auto_flow": null,
            "grid_auto_rows": null,
            "grid_column": null,
            "grid_gap": null,
            "grid_row": null,
            "grid_template_areas": null,
            "grid_template_columns": null,
            "grid_template_rows": null,
            "height": null,
            "justify_content": null,
            "justify_items": null,
            "left": null,
            "margin": null,
            "max_height": null,
            "max_width": null,
            "min_height": null,
            "min_width": null,
            "object_fit": null,
            "object_position": null,
            "order": null,
            "overflow": null,
            "overflow_x": null,
            "overflow_y": null,
            "padding": null,
            "right": null,
            "top": null,
            "visibility": null,
            "width": null
          }
        },
        "c7ea8708aa73483986bf922d09e18162": {
          "model_module": "@jupyter-widgets/controls",
          "model_module_version": "1.5.0",
          "model_name": "HBoxModel",
          "state": {
            "_dom_classes": [],
            "_model_module": "@jupyter-widgets/controls",
            "_model_module_version": "1.5.0",
            "_model_name": "HBoxModel",
            "_view_count": null,
            "_view_module": "@jupyter-widgets/controls",
            "_view_module_version": "1.5.0",
            "_view_name": "HBoxView",
            "box_style": "",
            "children": [
              "IPY_MODEL_1f5b3b2c0ba84138930b3eb6cbdf11a1",
              "IPY_MODEL_8a3d971afb3447039a8827019e91d75c",
              "IPY_MODEL_9be0d2a969ea439db9f8b0f7002bfb93"
            ],
            "layout": "IPY_MODEL_5ec3deda9a7c44d38e638c219b09fb4d"
          }
        },
        "c8a75e11e5194cb7b131ffb41c3422f7": {
          "model_module": "@jupyter-widgets/controls",
          "model_module_version": "1.5.0",
          "model_name": "FloatProgressModel",
          "state": {
            "_dom_classes": [],
            "_model_module": "@jupyter-widgets/controls",
            "_model_module_version": "1.5.0",
            "_model_name": "FloatProgressModel",
            "_view_count": null,
            "_view_module": "@jupyter-widgets/controls",
            "_view_module_version": "1.5.0",
            "_view_name": "ProgressView",
            "bar_style": "success",
            "description": "",
            "description_tooltip": null,
            "layout": "IPY_MODEL_604bbd25f9cd4852b70424e48a93ed31",
            "max": 363,
            "min": 0,
            "orientation": "horizontal",
            "style": "IPY_MODEL_80fab97cb7c646fa8c8097341f8c9c0c",
            "value": 363
          }
        },
        "c8c4570355dc4830981430d98b95c96a": {
          "model_module": "@jupyter-widgets/controls",
          "model_module_version": "1.5.0",
          "model_name": "DescriptionStyleModel",
          "state": {
            "_model_module": "@jupyter-widgets/controls",
            "_model_module_version": "1.5.0",
            "_model_name": "DescriptionStyleModel",
            "_view_count": null,
            "_view_module": "@jupyter-widgets/base",
            "_view_module_version": "1.2.0",
            "_view_name": "StyleView",
            "description_width": ""
          }
        },
        "cb51cdf6bf1744a499074b4fcf9223d5": {
          "model_module": "@jupyter-widgets/base",
          "model_module_version": "1.2.0",
          "model_name": "LayoutModel",
          "state": {
            "_model_module": "@jupyter-widgets/base",
            "_model_module_version": "1.2.0",
            "_model_name": "LayoutModel",
            "_view_count": null,
            "_view_module": "@jupyter-widgets/base",
            "_view_module_version": "1.2.0",
            "_view_name": "LayoutView",
            "align_content": null,
            "align_items": null,
            "align_self": null,
            "border": null,
            "bottom": null,
            "display": null,
            "flex": null,
            "flex_flow": null,
            "grid_area": null,
            "grid_auto_columns": null,
            "grid_auto_flow": null,
            "grid_auto_rows": null,
            "grid_column": null,
            "grid_gap": null,
            "grid_row": null,
            "grid_template_areas": null,
            "grid_template_columns": null,
            "grid_template_rows": null,
            "height": null,
            "justify_content": null,
            "justify_items": null,
            "left": null,
            "margin": null,
            "max_height": null,
            "max_width": null,
            "min_height": null,
            "min_width": null,
            "object_fit": null,
            "object_position": null,
            "order": null,
            "overflow": null,
            "overflow_x": null,
            "overflow_y": null,
            "padding": null,
            "right": null,
            "top": null,
            "visibility": null,
            "width": null
          }
        },
        "ccdfd7b3a8e04dfe9bb28f66b88d4a2a": {
          "model_module": "@jupyter-widgets/controls",
          "model_module_version": "1.5.0",
          "model_name": "DescriptionStyleModel",
          "state": {
            "_model_module": "@jupyter-widgets/controls",
            "_model_module_version": "1.5.0",
            "_model_name": "DescriptionStyleModel",
            "_view_count": null,
            "_view_module": "@jupyter-widgets/base",
            "_view_module_version": "1.2.0",
            "_view_name": "StyleView",
            "description_width": ""
          }
        },
        "ccf17d82df394864bab535ee4b54b0f2": {
          "model_module": "@jupyter-widgets/controls",
          "model_module_version": "1.5.0",
          "model_name": "DescriptionStyleModel",
          "state": {
            "_model_module": "@jupyter-widgets/controls",
            "_model_module_version": "1.5.0",
            "_model_name": "DescriptionStyleModel",
            "_view_count": null,
            "_view_module": "@jupyter-widgets/base",
            "_view_module_version": "1.2.0",
            "_view_name": "StyleView",
            "description_width": ""
          }
        },
        "cd7d2645f6d441cead7c6a042fb0f593": {
          "model_module": "@jupyter-widgets/base",
          "model_module_version": "1.2.0",
          "model_name": "LayoutModel",
          "state": {
            "_model_module": "@jupyter-widgets/base",
            "_model_module_version": "1.2.0",
            "_model_name": "LayoutModel",
            "_view_count": null,
            "_view_module": "@jupyter-widgets/base",
            "_view_module_version": "1.2.0",
            "_view_name": "LayoutView",
            "align_content": null,
            "align_items": null,
            "align_self": null,
            "border": null,
            "bottom": null,
            "display": null,
            "flex": null,
            "flex_flow": null,
            "grid_area": null,
            "grid_auto_columns": null,
            "grid_auto_flow": null,
            "grid_auto_rows": null,
            "grid_column": null,
            "grid_gap": null,
            "grid_row": null,
            "grid_template_areas": null,
            "grid_template_columns": null,
            "grid_template_rows": null,
            "height": null,
            "justify_content": null,
            "justify_items": null,
            "left": null,
            "margin": null,
            "max_height": null,
            "max_width": null,
            "min_height": null,
            "min_width": null,
            "object_fit": null,
            "object_position": null,
            "order": null,
            "overflow": null,
            "overflow_x": null,
            "overflow_y": null,
            "padding": null,
            "right": null,
            "top": null,
            "visibility": null,
            "width": null
          }
        },
        "cd82d2bf9b9b4fa691e85bcc66360db3": {
          "model_module": "@jupyter-widgets/base",
          "model_module_version": "1.2.0",
          "model_name": "LayoutModel",
          "state": {
            "_model_module": "@jupyter-widgets/base",
            "_model_module_version": "1.2.0",
            "_model_name": "LayoutModel",
            "_view_count": null,
            "_view_module": "@jupyter-widgets/base",
            "_view_module_version": "1.2.0",
            "_view_name": "LayoutView",
            "align_content": null,
            "align_items": null,
            "align_self": null,
            "border": null,
            "bottom": null,
            "display": null,
            "flex": null,
            "flex_flow": null,
            "grid_area": null,
            "grid_auto_columns": null,
            "grid_auto_flow": null,
            "grid_auto_rows": null,
            "grid_column": null,
            "grid_gap": null,
            "grid_row": null,
            "grid_template_areas": null,
            "grid_template_columns": null,
            "grid_template_rows": null,
            "height": null,
            "justify_content": null,
            "justify_items": null,
            "left": null,
            "margin": null,
            "max_height": null,
            "max_width": null,
            "min_height": null,
            "min_width": null,
            "object_fit": null,
            "object_position": null,
            "order": null,
            "overflow": null,
            "overflow_x": null,
            "overflow_y": null,
            "padding": null,
            "right": null,
            "top": null,
            "visibility": null,
            "width": null
          }
        },
        "d0a341fadc80441aa9f16554b38afd4e": {
          "model_module": "@jupyter-widgets/base",
          "model_module_version": "1.2.0",
          "model_name": "LayoutModel",
          "state": {
            "_model_module": "@jupyter-widgets/base",
            "_model_module_version": "1.2.0",
            "_model_name": "LayoutModel",
            "_view_count": null,
            "_view_module": "@jupyter-widgets/base",
            "_view_module_version": "1.2.0",
            "_view_name": "LayoutView",
            "align_content": null,
            "align_items": null,
            "align_self": null,
            "border": null,
            "bottom": null,
            "display": null,
            "flex": null,
            "flex_flow": null,
            "grid_area": null,
            "grid_auto_columns": null,
            "grid_auto_flow": null,
            "grid_auto_rows": null,
            "grid_column": null,
            "grid_gap": null,
            "grid_row": null,
            "grid_template_areas": null,
            "grid_template_columns": null,
            "grid_template_rows": null,
            "height": null,
            "justify_content": null,
            "justify_items": null,
            "left": null,
            "margin": null,
            "max_height": null,
            "max_width": null,
            "min_height": null,
            "min_width": null,
            "object_fit": null,
            "object_position": null,
            "order": null,
            "overflow": null,
            "overflow_x": null,
            "overflow_y": null,
            "padding": null,
            "right": null,
            "top": null,
            "visibility": null,
            "width": null
          }
        },
        "d5db4d43064441f09f262b5d898bfe5c": {
          "model_module": "@jupyter-widgets/controls",
          "model_module_version": "1.5.0",
          "model_name": "HBoxModel",
          "state": {
            "_dom_classes": [],
            "_model_module": "@jupyter-widgets/controls",
            "_model_module_version": "1.5.0",
            "_model_name": "HBoxModel",
            "_view_count": null,
            "_view_module": "@jupyter-widgets/controls",
            "_view_module_version": "1.5.0",
            "_view_name": "HBoxView",
            "box_style": "",
            "children": [
              "IPY_MODEL_a40d56db923a427e8583a13711458665",
              "IPY_MODEL_2ec29fb316114b9ab46fff0d1effe296",
              "IPY_MODEL_d8c435eeed4e46c8b9a9db2e9f77296b"
            ],
            "layout": "IPY_MODEL_f8b01e9349c94f26a6a39d02aa00befa"
          }
        },
        "d66b8988c7f74d9ba167f5e42b76ac37": {
          "model_module": "@jupyter-widgets/base",
          "model_module_version": "1.2.0",
          "model_name": "LayoutModel",
          "state": {
            "_model_module": "@jupyter-widgets/base",
            "_model_module_version": "1.2.0",
            "_model_name": "LayoutModel",
            "_view_count": null,
            "_view_module": "@jupyter-widgets/base",
            "_view_module_version": "1.2.0",
            "_view_name": "LayoutView",
            "align_content": null,
            "align_items": null,
            "align_self": null,
            "border": null,
            "bottom": null,
            "display": null,
            "flex": null,
            "flex_flow": null,
            "grid_area": null,
            "grid_auto_columns": null,
            "grid_auto_flow": null,
            "grid_auto_rows": null,
            "grid_column": null,
            "grid_gap": null,
            "grid_row": null,
            "grid_template_areas": null,
            "grid_template_columns": null,
            "grid_template_rows": null,
            "height": null,
            "justify_content": null,
            "justify_items": null,
            "left": null,
            "margin": null,
            "max_height": null,
            "max_width": null,
            "min_height": null,
            "min_width": null,
            "object_fit": null,
            "object_position": null,
            "order": null,
            "overflow": null,
            "overflow_x": null,
            "overflow_y": null,
            "padding": null,
            "right": null,
            "top": null,
            "visibility": null,
            "width": null
          }
        },
        "d8c435eeed4e46c8b9a9db2e9f77296b": {
          "model_module": "@jupyter-widgets/controls",
          "model_module_version": "1.5.0",
          "model_name": "HTMLModel",
          "state": {
            "_dom_classes": [],
            "_model_module": "@jupyter-widgets/controls",
            "_model_module_version": "1.5.0",
            "_model_name": "HTMLModel",
            "_view_count": null,
            "_view_module": "@jupyter-widgets/controls",
            "_view_module_version": "1.5.0",
            "_view_name": "HTMLView",
            "description": "",
            "description_tooltip": null,
            "layout": "IPY_MODEL_d0a341fadc80441aa9f16554b38afd4e",
            "placeholder": "​",
            "style": "IPY_MODEL_6a0be17760134d6c96c91cce5895d3c1",
            "value": " 725/725 [00:00&lt;00:00, 11.4kB/s]"
          }
        },
        "d9c0ca640c4745e7874b161680f876d9": {
          "model_module": "@jupyter-widgets/base",
          "model_module_version": "1.2.0",
          "model_name": "LayoutModel",
          "state": {
            "_model_module": "@jupyter-widgets/base",
            "_model_module_version": "1.2.0",
            "_model_name": "LayoutModel",
            "_view_count": null,
            "_view_module": "@jupyter-widgets/base",
            "_view_module_version": "1.2.0",
            "_view_name": "LayoutView",
            "align_content": null,
            "align_items": null,
            "align_self": null,
            "border": null,
            "bottom": null,
            "display": null,
            "flex": null,
            "flex_flow": null,
            "grid_area": null,
            "grid_auto_columns": null,
            "grid_auto_flow": null,
            "grid_auto_rows": null,
            "grid_column": null,
            "grid_gap": null,
            "grid_row": null,
            "grid_template_areas": null,
            "grid_template_columns": null,
            "grid_template_rows": null,
            "height": null,
            "justify_content": null,
            "justify_items": null,
            "left": null,
            "margin": null,
            "max_height": null,
            "max_width": null,
            "min_height": null,
            "min_width": null,
            "object_fit": null,
            "object_position": null,
            "order": null,
            "overflow": null,
            "overflow_x": null,
            "overflow_y": null,
            "padding": null,
            "right": null,
            "top": null,
            "visibility": null,
            "width": null
          }
        },
        "db66bff73c68478ab3f5e252d065f360": {
          "model_module": "@jupyter-widgets/controls",
          "model_module_version": "1.5.0",
          "model_name": "HTMLModel",
          "state": {
            "_dom_classes": [],
            "_model_module": "@jupyter-widgets/controls",
            "_model_module_version": "1.5.0",
            "_model_name": "HTMLModel",
            "_view_count": null,
            "_view_module": "@jupyter-widgets/controls",
            "_view_module_version": "1.5.0",
            "_view_name": "HTMLView",
            "description": "",
            "description_tooltip": null,
            "layout": "IPY_MODEL_41132640adc24a0a955d8e1997135e6b",
            "placeholder": "​",
            "style": "IPY_MODEL_c11b48729f454a27a2e47ca220379565",
            "value": " 2256/2256 [00:32&lt;00:00, 142.11it/s]"
          }
        },
        "dddd8ff0f1d64f32be68312d21c75da4": {
          "model_module": "@jupyter-widgets/controls",
          "model_module_version": "1.5.0",
          "model_name": "HTMLModel",
          "state": {
            "_dom_classes": [],
            "_model_module": "@jupyter-widgets/controls",
            "_model_module_version": "1.5.0",
            "_model_name": "HTMLModel",
            "_view_count": null,
            "_view_module": "@jupyter-widgets/controls",
            "_view_module_version": "1.5.0",
            "_view_name": "HTMLView",
            "description": "",
            "description_tooltip": null,
            "layout": "IPY_MODEL_5a1ddbffffee474bb98d7b61ad6924f5",
            "placeholder": "​",
            "style": "IPY_MODEL_4798ce9f024c4a64be8edd2d5dc4ef1f",
            "value": " 2256/2256 [00:00&lt;00:00, 2404.98it/s]"
          }
        },
        "e6888d7c0891497da83285cebded4d40": {
          "model_module": "@jupyter-widgets/controls",
          "model_module_version": "1.5.0",
          "model_name": "ProgressStyleModel",
          "state": {
            "_model_module": "@jupyter-widgets/controls",
            "_model_module_version": "1.5.0",
            "_model_name": "ProgressStyleModel",
            "_view_count": null,
            "_view_module": "@jupyter-widgets/base",
            "_view_module_version": "1.2.0",
            "_view_name": "StyleView",
            "bar_color": null,
            "description_width": ""
          }
        },
        "e895abae5ade4d1a8b6f75ab6e6917ac": {
          "model_module": "@jupyter-widgets/controls",
          "model_module_version": "1.5.0",
          "model_name": "FloatProgressModel",
          "state": {
            "_dom_classes": [],
            "_model_module": "@jupyter-widgets/controls",
            "_model_module_version": "1.5.0",
            "_model_name": "FloatProgressModel",
            "_view_count": null,
            "_view_module": "@jupyter-widgets/controls",
            "_view_module_version": "1.5.0",
            "_view_name": "ProgressView",
            "bar_style": "success",
            "description": "",
            "description_tooltip": null,
            "layout": "IPY_MODEL_77db14a1dc274f638c5a25969eade0e1",
            "max": 2256,
            "min": 0,
            "orientation": "horizontal",
            "style": "IPY_MODEL_358aff879e844029939b9b9907fe00d0",
            "value": 2256
          }
        },
        "e9b67c5903c34a39afba6089fbc50cb5": {
          "model_module": "@jupyter-widgets/controls",
          "model_module_version": "1.5.0",
          "model_name": "HBoxModel",
          "state": {
            "_dom_classes": [],
            "_model_module": "@jupyter-widgets/controls",
            "_model_module_version": "1.5.0",
            "_model_name": "HBoxModel",
            "_view_count": null,
            "_view_module": "@jupyter-widgets/controls",
            "_view_module_version": "1.5.0",
            "_view_name": "HBoxView",
            "box_style": "",
            "children": [
              "IPY_MODEL_b77a96024cbd46d78d8dedad9f03040a",
              "IPY_MODEL_606baeb3a8fc493da8cf2fb20d90edad",
              "IPY_MODEL_266a5295f61d4d49929410349420020c"
            ],
            "layout": "IPY_MODEL_22b680d316734f208a2ff4965edda0ee"
          }
        },
        "f1496922182947d59437b5a986b266cc": {
          "model_module": "@jupyter-widgets/controls",
          "model_module_version": "1.5.0",
          "model_name": "ProgressStyleModel",
          "state": {
            "_model_module": "@jupyter-widgets/controls",
            "_model_module_version": "1.5.0",
            "_model_name": "ProgressStyleModel",
            "_view_count": null,
            "_view_module": "@jupyter-widgets/base",
            "_view_module_version": "1.2.0",
            "_view_name": "StyleView",
            "bar_color": null,
            "description_width": ""
          }
        },
        "f25160ab2c7b440aabf2a61a880572d1": {
          "model_module": "@jupyter-widgets/controls",
          "model_module_version": "1.5.0",
          "model_name": "DescriptionStyleModel",
          "state": {
            "_model_module": "@jupyter-widgets/controls",
            "_model_module_version": "1.5.0",
            "_model_name": "DescriptionStyleModel",
            "_view_count": null,
            "_view_module": "@jupyter-widgets/base",
            "_view_module_version": "1.2.0",
            "_view_name": "StyleView",
            "description_width": ""
          }
        },
        "f2e46a5ba1d0401abe0bccfdbb455fdb": {
          "model_module": "@jupyter-widgets/base",
          "model_module_version": "1.2.0",
          "model_name": "LayoutModel",
          "state": {
            "_model_module": "@jupyter-widgets/base",
            "_model_module_version": "1.2.0",
            "_model_name": "LayoutModel",
            "_view_count": null,
            "_view_module": "@jupyter-widgets/base",
            "_view_module_version": "1.2.0",
            "_view_name": "LayoutView",
            "align_content": null,
            "align_items": null,
            "align_self": null,
            "border": null,
            "bottom": null,
            "display": null,
            "flex": null,
            "flex_flow": null,
            "grid_area": null,
            "grid_auto_columns": null,
            "grid_auto_flow": null,
            "grid_auto_rows": null,
            "grid_column": null,
            "grid_gap": null,
            "grid_row": null,
            "grid_template_areas": null,
            "grid_template_columns": null,
            "grid_template_rows": null,
            "height": null,
            "justify_content": null,
            "justify_items": null,
            "left": null,
            "margin": null,
            "max_height": null,
            "max_width": null,
            "min_height": null,
            "min_width": null,
            "object_fit": null,
            "object_position": null,
            "order": null,
            "overflow": null,
            "overflow_x": null,
            "overflow_y": null,
            "padding": null,
            "right": null,
            "top": null,
            "visibility": null,
            "width": null
          }
        },
        "f8b01e9349c94f26a6a39d02aa00befa": {
          "model_module": "@jupyter-widgets/base",
          "model_module_version": "1.2.0",
          "model_name": "LayoutModel",
          "state": {
            "_model_module": "@jupyter-widgets/base",
            "_model_module_version": "1.2.0",
            "_model_name": "LayoutModel",
            "_view_count": null,
            "_view_module": "@jupyter-widgets/base",
            "_view_module_version": "1.2.0",
            "_view_name": "LayoutView",
            "align_content": null,
            "align_items": null,
            "align_self": null,
            "border": null,
            "bottom": null,
            "display": null,
            "flex": null,
            "flex_flow": null,
            "grid_area": null,
            "grid_auto_columns": null,
            "grid_auto_flow": null,
            "grid_auto_rows": null,
            "grid_column": null,
            "grid_gap": null,
            "grid_row": null,
            "grid_template_areas": null,
            "grid_template_columns": null,
            "grid_template_rows": null,
            "height": null,
            "justify_content": null,
            "justify_items": null,
            "left": null,
            "margin": null,
            "max_height": null,
            "max_width": null,
            "min_height": null,
            "min_width": null,
            "object_fit": null,
            "object_position": null,
            "order": null,
            "overflow": null,
            "overflow_x": null,
            "overflow_y": null,
            "padding": null,
            "right": null,
            "top": null,
            "visibility": null,
            "width": null
          }
        },
        "f8bd89038c5f495086065eedade60955": {
          "model_module": "@jupyter-widgets/controls",
          "model_module_version": "1.5.0",
          "model_name": "HTMLModel",
          "state": {
            "_dom_classes": [],
            "_model_module": "@jupyter-widgets/controls",
            "_model_module_version": "1.5.0",
            "_model_name": "HTMLModel",
            "_view_count": null,
            "_view_module": "@jupyter-widgets/controls",
            "_view_module_version": "1.5.0",
            "_view_name": "HTMLView",
            "description": "",
            "description_tooltip": null,
            "layout": "IPY_MODEL_6d8ff267d9d4488395decef2959c815e",
            "placeholder": "​",
            "style": "IPY_MODEL_f25160ab2c7b440aabf2a61a880572d1",
            "value": "100%"
          }
        },
        "fb10d6dbdb364f42b7dee7af462ca46b": {
          "model_module": "@jupyter-widgets/base",
          "model_module_version": "1.2.0",
          "model_name": "LayoutModel",
          "state": {
            "_model_module": "@jupyter-widgets/base",
            "_model_module_version": "1.2.0",
            "_model_name": "LayoutModel",
            "_view_count": null,
            "_view_module": "@jupyter-widgets/base",
            "_view_module_version": "1.2.0",
            "_view_name": "LayoutView",
            "align_content": null,
            "align_items": null,
            "align_self": null,
            "border": null,
            "bottom": null,
            "display": null,
            "flex": null,
            "flex_flow": null,
            "grid_area": null,
            "grid_auto_columns": null,
            "grid_auto_flow": null,
            "grid_auto_rows": null,
            "grid_column": null,
            "grid_gap": null,
            "grid_row": null,
            "grid_template_areas": null,
            "grid_template_columns": null,
            "grid_template_rows": null,
            "height": null,
            "justify_content": null,
            "justify_items": null,
            "left": null,
            "margin": null,
            "max_height": null,
            "max_width": null,
            "min_height": null,
            "min_width": null,
            "object_fit": null,
            "object_position": null,
            "order": null,
            "overflow": null,
            "overflow_x": null,
            "overflow_y": null,
            "padding": null,
            "right": null,
            "top": null,
            "visibility": null,
            "width": null
          }
        },
        "fd6e5bba21d3476b9709371d434dd954": {
          "model_module": "@jupyter-widgets/controls",
          "model_module_version": "1.5.0",
          "model_name": "DescriptionStyleModel",
          "state": {
            "_model_module": "@jupyter-widgets/controls",
            "_model_module_version": "1.5.0",
            "_model_name": "DescriptionStyleModel",
            "_view_count": null,
            "_view_module": "@jupyter-widgets/base",
            "_view_module_version": "1.2.0",
            "_view_name": "StyleView",
            "description_width": ""
          }
        }
      }
    }
  },
  "nbformat": 4,
  "nbformat_minor": 0
}
